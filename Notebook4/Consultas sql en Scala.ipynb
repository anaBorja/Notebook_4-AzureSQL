{
 "cells": [
  {
   "cell_type": "code",
   "execution_count": 0,
   "metadata": {
    "application/vnd.databricks.v1+cell": {
     "cellMetadata": {
      "byteLimit": 2048000,
      "rowLimit": 10000
     },
     "inputWidgets": {},
     "nuid": "bf0f31aa-bb83-4b09-b56a-24ff85251f2c",
     "showTitle": false,
     "tableResultSettingsMap": {},
     "title": ""
    }
   },
   "outputs": [
    {
     "output_type": "display_data",
     "data": {
      "text/html": [
       "<style scoped>\n",
       "  .ansiout {\n",
       "    display: block;\n",
       "    unicode-bidi: embed;\n",
       "    white-space: pre-wrap;\n",
       "    word-wrap: break-word;\n",
       "    word-break: break-all;\n",
       "    font-family: \"Menlo\", \"Monaco\", \"Consolas\", \"Ubuntu Mono\", \"Source Code Pro\", monospace;\n",
       "    font-size: 13px;\n",
       "    color: #555;\n",
       "    margin-left: 4px;\n",
       "    line-height: 19px;\n",
       "  }\n",
       "</style>\n",
       "<div class=\"ansiout\">+-----------+-----------+-------------------+-------------------+\n",
       "id_pasajero|id_trayecto|             inicio|                fin|\n",
       "+-----------+-----------+-------------------+-------------------+\n",
       "         47|        283|2018-05-20 21:27:12|2018-08-31 08:27:52|\n",
       "        100|        299|2019-03-09 14:11:15|2020-11-27 13:14:58|\n",
       "         79|        277|2017-04-08 23:24:33|2018-10-15 16:12:30|\n",
       "         47|        283|2018-05-20 21:27:12|2018-08-31 08:27:52|\n",
       "         76|        365|2016-09-12 11:30:51|2020-02-02 11:21:04|\n",
       "         72|        311|2018-10-01 11:21:01|2018-03-23 08:47:01|\n",
       "         42|        333|2017-07-09 08:26:06|2020-03-11 13:10:35|\n",
       "         52|        289|2017-03-06 01:10:45|2019-01-07 18:46:53|\n",
       "          6|        288|2018-04-28 00:25:20|2016-04-16 19:11:05|\n",
       "         31|        320|2020-06-18 06:44:30|2017-12-03 20:46:59|\n",
       "         93|        349|2020-09-14 07:09:21|2017-08-06 23:28:43|\n",
       "         61|        323|2017-03-31 06:31:29|2017-10-24 06:59:17|\n",
       "         84|        357|2018-07-14 00:26:41|2019-07-11 03:22:08|\n",
       "         21|        283|2016-05-11 08:56:18|2019-06-08 09:37:16|\n",
       "         11|        351|2020-07-04 02:12:18|2020-12-09 00:47:52|\n",
       "         11|        319|2016-05-09 22:11:01|2019-11-24 08:01:30|\n",
       "         12|        338|2020-03-20 05:09:40|2019-07-02 13:02:08|\n",
       "         39|        298|2019-02-11 10:38:45|2017-07-07 06:08:41|\n",
       "         37|        320|2017-08-06 16:32:28|2017-03-29 15:41:16|\n",
       "         39|        274|2019-03-28 00:24:27|2021-01-16 17:45:55|\n",
       "+-----------+-----------+-------------------+-------------------+\n",
       "only showing top 20 rows\n",
       "\n",
       "Conexión exitosa\n",
       "jdbcUrl: String = jdbc:postgresql://sample.postgres.database.azure.com:5432/postgres\n",
       "connectionProperties: java.util.Properties = {user=adminuser, password=Acbp.1995, driver=org.postgresql.Driver}\n",
       "</div>"
      ]
     },
     "metadata": {
      "application/vnd.databricks.v1+output": {
       "addedWidgets": {},
       "arguments": {},
       "data": "<div class=\"ansiout\">+-----------+-----------+-------------------+-------------------+\n|id_pasajero|id_trayecto|             inicio|                fin|\n+-----------+-----------+-------------------+-------------------+\n|         47|        283|2018-05-20 21:27:12|2018-08-31 08:27:52|\n|        100|        299|2019-03-09 14:11:15|2020-11-27 13:14:58|\n|         79|        277|2017-04-08 23:24:33|2018-10-15 16:12:30|\n|         47|        283|2018-05-20 21:27:12|2018-08-31 08:27:52|\n|         76|        365|2016-09-12 11:30:51|2020-02-02 11:21:04|\n|         72|        311|2018-10-01 11:21:01|2018-03-23 08:47:01|\n|         42|        333|2017-07-09 08:26:06|2020-03-11 13:10:35|\n|         52|        289|2017-03-06 01:10:45|2019-01-07 18:46:53|\n|          6|        288|2018-04-28 00:25:20|2016-04-16 19:11:05|\n|         31|        320|2020-06-18 06:44:30|2017-12-03 20:46:59|\n|         93|        349|2020-09-14 07:09:21|2017-08-06 23:28:43|\n|         61|        323|2017-03-31 06:31:29|2017-10-24 06:59:17|\n|         84|        357|2018-07-14 00:26:41|2019-07-11 03:22:08|\n|         21|        283|2016-05-11 08:56:18|2019-06-08 09:37:16|\n|         11|        351|2020-07-04 02:12:18|2020-12-09 00:47:52|\n|         11|        319|2016-05-09 22:11:01|2019-11-24 08:01:30|\n|         12|        338|2020-03-20 05:09:40|2019-07-02 13:02:08|\n|         39|        298|2019-02-11 10:38:45|2017-07-07 06:08:41|\n|         37|        320|2017-08-06 16:32:28|2017-03-29 15:41:16|\n|         39|        274|2019-03-28 00:24:27|2021-01-16 17:45:55|\n+-----------+-----------+-------------------+-------------------+\nonly showing top 20 rows\n\nConexión exitosa\njdbcUrl: String = jdbc:postgresql://sample.postgres.database.azure.com:5432/postgres\nconnectionProperties: java.util.Properties = {user=adminuser, password=Acbp.1995, driver=org.postgresql.Driver}\n</div>",
       "datasetInfos": [],
       "metadata": {
        "isDbfsCommandResult": false
       },
       "removedWidgets": [],
       "type": "html"
      }
     },
     "output_type": "display_data"
    }
   ],
   "source": [
    "%scala\n",
    "\n",
    "// Configuración de la conexión JDBC\n",
    "val jdbcUrl = \"jdbc:postgresql://sample.postgres.database.azure.com:5432/postgres\"\n",
    "val connectionProperties = new java.util.Properties()\n",
    "connectionProperties.setProperty(\"user\", \"adminuser\")  // Reemplaza con tu usuario\n",
    "connectionProperties.setProperty(\"password\", \"Acbp.1995\")  // Reemplaza con tu contraseña\n",
    "connectionProperties.setProperty(\"driver\", \"org.postgresql.Driver\")  // Controlador JDBC\n",
    "\n",
    "// Verificar la conexión listando tablas del sistema (por ejemplo, en la base de datos \"postgres\")\n",
    "try {\n",
    "  // Intentar leer algo del esquema público (vacío por defecto)\n",
    "  val df = spark.read.jdbc(\n",
    "    jdbcUrl,\n",
    "    \"trayecto\",  //PONEMOS EN NOMBRE DE LA TABLA\n",
    "    connectionProperties\n",
    "  )\n",
    "\n",
    "  // Mostrar resultados (debería mostrar tablas si la conexión es correcta)\n",
    "  df.show()\n",
    "  println(\"Conexión exitosa\")\n",
    "} catch {\n",
    "  case e: Exception =>\n",
    "    println(\"Error al conectar:\", e)\n",
    "}"
   ]
  },
  {
   "cell_type": "code",
   "execution_count": 0,
   "metadata": {
    "application/vnd.databricks.v1+cell": {
     "cellMetadata": {
      "byteLimit": 2048000,
      "rowLimit": 10000
     },
     "inputWidgets": {},
     "nuid": "ae6a0247-f193-4bb5-b831-6609c269f563",
     "showTitle": false,
     "tableResultSettingsMap": {},
     "title": ""
    }
   },
   "outputs": [
    {
     "output_type": "display_data",
     "data": {
      "text/html": [
       "<style scoped>\n",
       "  .ansiout {\n",
       "    display: block;\n",
       "    unicode-bidi: embed;\n",
       "    white-space: pre-wrap;\n",
       "    word-wrap: break-word;\n",
       "    word-break: break-all;\n",
       "    font-family: \"Menlo\", \"Monaco\", \"Consolas\", \"Ubuntu Mono\", \"Source Code Pro\", monospace;\n",
       "    font-size: 13px;\n",
       "    color: #555;\n",
       "    margin-left: 4px;\n",
       "    line-height: 19px;\n",
       "  }\n",
       "</style>\n",
       "<div class=\"ansiout\">df: org.apache.spark.sql.DataFrame = [id_pasajero: int, id_trayecto: int ... 2 more fields]\n",
       "</div>"
      ]
     },
     "metadata": {
      "application/vnd.databricks.v1+output": {
       "addedWidgets": {},
       "arguments": {},
       "data": "<div class=\"ansiout\">df: org.apache.spark.sql.DataFrame = [id_pasajero: int, id_trayecto: int ... 2 more fields]\n</div>",
       "datasetInfos": [
        {
         "name": "df",
         "schema": {
          "fields": [
           {
            "metadata": {
             "isTimestampNTZ": false,
             "scale": 0,
             "signed": true
            },
            "name": "id_pasajero",
            "nullable": true,
            "type": "integer"
           },
           {
            "metadata": {
             "isTimestampNTZ": false,
             "scale": 0,
             "signed": true
            },
            "name": "id_trayecto",
            "nullable": true,
            "type": "integer"
           },
           {
            "metadata": {
             "isTimestampNTZ": false,
             "scale": 6,
             "signed": false
            },
            "name": "inicio",
            "nullable": true,
            "type": "timestamp"
           },
           {
            "metadata": {
             "isTimestampNTZ": false,
             "scale": 6,
             "signed": false
            },
            "name": "fin",
            "nullable": true,
            "type": "timestamp"
           }
          ],
          "type": "struct"
         },
         "tableIdentifier": null,
         "typeStr": "org.apache.spark.sql.DataFrame"
        }
       ],
       "metadata": {
        "isDbfsCommandResult": false
       },
       "removedWidgets": [],
       "type": "html"
      }
     },
     "output_type": "display_data"
    }
   ],
   "source": [
    "%scala\n",
    "// Crear una vista temporal de la tabla 'trayecto'\n",
    "val df = spark.read.jdbc(\n",
    "  jdbcUrl,\n",
    "  \"trayecto\",  // Esquema del sistema para verificar tablas\n",
    "  connectionProperties\n",
    ")\n",
    "df.createOrReplaceTempView(\"viajeScala\")"
   ]
  },
  {
   "cell_type": "markdown",
   "metadata": {
    "application/vnd.databricks.v1+cell": {
     "cellMetadata": {},
     "inputWidgets": {},
     "nuid": "68c53cdc-b87d-41f8-8676-a11c3670c5f3",
     "showTitle": false,
     "tableResultSettingsMap": {},
     "title": ""
    }
   },
   "source": [
    "##  ID de trayecto y contar los ID de pasajeros que hicieron ese trayecto en el 2018"
   ]
  },
  {
   "cell_type": "code",
   "execution_count": 0,
   "metadata": {
    "application/vnd.databricks.v1+cell": {
     "cellMetadata": {
      "byteLimit": 2048000,
      "implicitDf": true,
      "rowLimit": 10000
     },
     "inputWidgets": {},
     "nuid": "251c3163-902c-4039-a4fd-335dd5a4be78",
     "showTitle": false,
     "tableResultSettingsMap": {},
     "title": ""
    }
   },
   "outputs": [
    {
     "output_type": "display_data",
     "data": {
      "text/html": [
       "<style scoped>\n",
       "  .table-result-container {\n",
       "    max-height: 300px;\n",
       "    overflow: auto;\n",
       "  }\n",
       "  table, th, td {\n",
       "    border: 1px solid black;\n",
       "    border-collapse: collapse;\n",
       "  }\n",
       "  th, td {\n",
       "    padding: 5px;\n",
       "  }\n",
       "  th {\n",
       "    text-align: left;\n",
       "  }\n",
       "</style><div class='table-result-container'><table class='table-result'><thead style='background-color: white'><tr><th>id_trayecto</th><th>num_personas</th></tr></thead><tbody><tr><td>297</td><td>3</td></tr><tr><td>288</td><td>2</td></tr><tr><td>308</td><td>2</td></tr><tr><td>278</td><td>1</td></tr><tr><td>306</td><td>1</td></tr><tr><td>328</td><td>1</td></tr><tr><td>338</td><td>1</td></tr><tr><td>317</td><td>1</td></tr><tr><td>310</td><td>1</td></tr><tr><td>369</td><td>1</td></tr><tr><td>294</td><td>1</td></tr><tr><td>356</td><td>1</td></tr><tr><td>283</td><td>1</td></tr><tr><td>329</td><td>1</td></tr><tr><td>324</td><td>1</td></tr><tr><td>274</td><td>1</td></tr><tr><td>323</td><td>1</td></tr><tr><td>301</td><td>1</td></tr><tr><td>357</td><td>1</td></tr><tr><td>311</td><td>1</td></tr></tbody></table></div>"
      ]
     },
     "metadata": {
      "application/vnd.databricks.v1+output": {
       "addedWidgets": {},
       "aggData": [],
       "aggError": "",
       "aggOverflow": false,
       "aggSchema": [],
       "aggSeriesLimitReached": false,
       "aggType": "",
       "arguments": {},
       "columnCustomDisplayInfos": {},
       "data": [
        [
         297,
         3
        ],
        [
         288,
         2
        ],
        [
         308,
         2
        ],
        [
         278,
         1
        ],
        [
         306,
         1
        ],
        [
         328,
         1
        ],
        [
         338,
         1
        ],
        [
         317,
         1
        ],
        [
         310,
         1
        ],
        [
         369,
         1
        ],
        [
         294,
         1
        ],
        [
         356,
         1
        ],
        [
         283,
         1
        ],
        [
         329,
         1
        ],
        [
         324,
         1
        ],
        [
         274,
         1
        ],
        [
         323,
         1
        ],
        [
         301,
         1
        ],
        [
         357,
         1
        ],
        [
         311,
         1
        ]
       ],
       "datasetInfos": [],
       "dbfsResultPath": null,
       "isJsonSchema": true,
       "metadata": {
        "createTempViewForImplicitDf": true,
        "dataframeName": "_sqldf",
        "executionCount": 17
       },
       "overflow": false,
       "plotOptions": {
        "customPlotOptions": {},
        "displayType": "table",
        "pivotAggregation": null,
        "pivotColumns": null,
        "xColumns": null,
        "yColumns": null
       },
       "removedWidgets": [],
       "schema": [
        {
         "metadata": "{\"isTimestampNTZ\":false,\"signed\":true,\"scale\":0}",
         "name": "id_trayecto",
         "type": "\"integer\""
        },
        {
         "metadata": "{}",
         "name": "num_personas",
         "type": "\"long\""
        }
       ],
       "type": "table"
      }
     },
     "output_type": "display_data"
    }
   ],
   "source": [
    "%sql\n",
    "SELECT id_trayecto, COUNT(DISTINCT id_pasajero) AS num_personas\n",
    "FROM viajeScala\n",
    "WHERE YEAR(inicio) = 2018\n",
    "GROUP BY id_trayecto\n",
    "ORDER BY num_personas DESC;"
   ]
  },
  {
   "cell_type": "markdown",
   "metadata": {
    "application/vnd.databricks.v1+cell": {
     "cellMetadata": {},
     "inputWidgets": {},
     "nuid": "b03ee90d-a988-4150-84ce-b48b5bde86d8",
     "showTitle": false,
     "tableResultSettingsMap": {},
     "title": ""
    }
   },
   "source": [
    "##  Consultar el número de personas que hacen el mismo trayecto en 2017."
   ]
  },
  {
   "cell_type": "code",
   "execution_count": 0,
   "metadata": {
    "application/vnd.databricks.v1+cell": {
     "cellMetadata": {
      "byteLimit": 2048000,
      "implicitDf": true,
      "rowLimit": 10000
     },
     "inputWidgets": {},
     "nuid": "cb0bea46-a9c4-46ab-a0e2-ef92e4013bea",
     "showTitle": false,
     "tableResultSettingsMap": {},
     "title": ""
    }
   },
   "outputs": [
    {
     "output_type": "display_data",
     "data": {
      "text/html": [
       "<style scoped>\n",
       "  .table-result-container {\n",
       "    max-height: 300px;\n",
       "    overflow: auto;\n",
       "  }\n",
       "  table, th, td {\n",
       "    border: 1px solid black;\n",
       "    border-collapse: collapse;\n",
       "  }\n",
       "  th, td {\n",
       "    padding: 5px;\n",
       "  }\n",
       "  th {\n",
       "    text-align: left;\n",
       "  }\n",
       "</style><div class='table-result-container'><table class='table-result'><thead style='background-color: white'><tr><th>inicio</th><th>fin</th><th>num_trayectos</th></tr></thead><tbody><tr><td>2018-10-20T09:20:58Z</td><td>2017-10-29T22:14:57Z</td><td>2</td></tr></tbody></table></div>"
      ]
     },
     "metadata": {
      "application/vnd.databricks.v1+output": {
       "addedWidgets": {},
       "aggData": [],
       "aggError": "",
       "aggOverflow": false,
       "aggSchema": [],
       "aggSeriesLimitReached": false,
       "aggType": "",
       "arguments": {},
       "columnCustomDisplayInfos": {},
       "data": [
        [
         "2018-10-20T09:20:58Z",
         "2017-10-29T22:14:57Z",
         2
        ]
       ],
       "datasetInfos": [],
       "dbfsResultPath": null,
       "isJsonSchema": true,
       "metadata": {
        "createTempViewForImplicitDf": true,
        "dataframeName": "_sqldf",
        "executionCount": 19
       },
       "overflow": false,
       "plotOptions": {
        "customPlotOptions": {},
        "displayType": "table",
        "pivotAggregation": null,
        "pivotColumns": null,
        "xColumns": null,
        "yColumns": null
       },
       "removedWidgets": [],
       "schema": [
        {
         "metadata": "{\"isTimestampNTZ\":false,\"signed\":false,\"scale\":6}",
         "name": "inicio",
         "type": "\"timestamp\""
        },
        {
         "metadata": "{\"isTimestampNTZ\":false,\"signed\":false,\"scale\":6}",
         "name": "fin",
         "type": "\"timestamp\""
        },
        {
         "metadata": "{}",
         "name": "num_trayectos",
         "type": "\"long\""
        }
       ],
       "type": "table"
      }
     },
     "output_type": "display_data"
    }
   ],
   "source": [
    "%sql\n",
    "SELECT inicio, fin, COUNT(id_trayecto) AS num_trayectos\n",
    "FROM viajeScala\n",
    "GROUP BY inicio, fin\n",
    "ORDER BY num_trayectos DESC\n",
    "LIMIT 1;"
   ]
  }
 ],
 "metadata": {
  "application/vnd.databricks.v1+notebook": {
   "dashboards": [],
   "environmentMetadata": {
    "base_environment": "",
    "client": "1"
   },
   "language": "python",
   "notebookMetadata": {
    "mostRecentlyExecutedCommandWithImplicitDF": {
     "commandId": 4046689615207298,
     "dataframes": [
      "_sqldf"
     ]
    },
    "pythonIndentUnit": 4
   },
   "notebookName": "Consultas sql en Scala",
   "widgets": {}
  },
  "language_info": {
   "name": "python"
  }
 },
 "nbformat": 4,
 "nbformat_minor": 0
}