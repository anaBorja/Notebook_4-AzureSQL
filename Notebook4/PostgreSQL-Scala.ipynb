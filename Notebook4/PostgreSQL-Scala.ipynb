{
 "cells": [
  {
   "cell_type": "code",
   "execution_count": 0,
   "metadata": {
    "application/vnd.databricks.v1+cell": {
     "cellMetadata": {
      "byteLimit": 2048000,
      "rowLimit": 10000
     },
     "inputWidgets": {},
     "nuid": "620f7497-0fc8-4a56-8cd6-706bfdeea191",
     "showTitle": false,
     "tableResultSettingsMap": {},
     "title": ""
    }
   },
   "outputs": [
    {
     "output_type": "display_data",
     "data": {
      "text/html": [
       "<style scoped>\n",
       "  .ansiout {\n",
       "    display: block;\n",
       "    unicode-bidi: embed;\n",
       "    white-space: pre-wrap;\n",
       "    word-wrap: break-word;\n",
       "    word-break: break-all;\n",
       "    font-family: \"Menlo\", \"Monaco\", \"Consolas\", \"Ubuntu Mono\", \"Source Code Pro\", monospace;\n",
       "    font-size: 13px;\n",
       "    color: #555;\n",
       "    margin-left: 4px;\n",
       "    line-height: 19px;\n",
       "  }\n",
       "</style>\n",
       "<div class=\"ansiout\">+-------------+------------+--------------------+----------+----------------------------+--------------------+-------------------------+------------------------+----------------------+------------------+--------+-------------+\n",
       "table_catalog|table_schema|          table_name|table_type|self_referencing_column_name|reference_generation|user_defined_type_catalog|user_defined_type_schema|user_defined_type_name|is_insertable_into|is_typed|commit_action|\n",
       "+-------------+------------+--------------------+----------+----------------------------+--------------------+-------------------------+------------------------+----------------------+------------------+--------+-------------+\n",
       "     postgres|  pg_catalog|        pg_stats_ext|      VIEW|                        NULL|                NULL|                     NULL|                    NULL|                  NULL|                NO|      NO|         NULL|\n",
       "     postgres|  pg_catalog|  pg_stats_ext_exprs|      VIEW|                        NULL|                NULL|                     NULL|                    NULL|                  NULL|                NO|      NO|         NULL|\n",
       "     postgres|  pg_catalog|        pg_statistic|BASE TABLE|                        NULL|                NULL|                     NULL|                    NULL|                  NULL|               YES|      NO|         NULL|\n",
       "     postgres|  pg_catalog|             pg_type|BASE TABLE|                        NULL|                NULL|                     NULL|                    NULL|                  NULL|               YES|      NO|         NULL|\n",
       "     postgres|      public|            trayecto|BASE TABLE|                        NULL|                NULL|                     NULL|                    NULL|                  NULL|               YES|      NO|         NULL|\n",
       "     postgres|  pg_catalog|    pg_foreign_table|BASE TABLE|                        NULL|                NULL|                     NULL|                    NULL|                  NULL|               YES|      NO|         NULL|\n",
       "     postgres|  pg_catalog|           pg_authid|BASE TABLE|                        NULL|                NULL|                     NULL|                    NULL|                  NULL|               YES|      NO|         NULL|\n",
       "     postgres|  pg_catalog|           pg_shadow|      VIEW|                        NULL|                NULL|                     NULL|                    NULL|                  NULL|                NO|      NO|         NULL|\n",
       "     postgres|  pg_catalog|            pg_roles|      VIEW|                        NULL|                NULL|                     NULL|                    NULL|                  NULL|                NO|      NO|         NULL|\n",
       "     postgres|  pg_catalog|pg_statistic_ext_...|BASE TABLE|                        NULL|                NULL|                     NULL|                    NULL|                  NULL|               YES|      NO|         NULL|\n",
       "     postgres|  pg_catalog|   pg_hba_file_rules|      VIEW|                        NULL|                NULL|                     NULL|                    NULL|                  NULL|                NO|      NO|         NULL|\n",
       "     postgres|  pg_catalog|         pg_settings|      VIEW|                        NULL|                NULL|                     NULL|                    NULL|                  NULL|                NO|      NO|         NULL|\n",
       "     postgres|  pg_catalog|    pg_file_settings|      VIEW|                        NULL|                NULL|                     NULL|                    NULL|                  NULL|                NO|      NO|         NULL|\n",
       "     postgres|  pg_catalog|pg_backend_memory...|      VIEW|                        NULL|                NULL|                     NULL|                    NULL|                  NULL|                NO|      NO|         NULL|\n",
       "     postgres|  pg_catalog|pg_ident_file_map...|      VIEW|                        NULL|                NULL|                     NULL|                    NULL|                  NULL|                NO|      NO|         NULL|\n",
       "     postgres|  pg_catalog|           pg_config|      VIEW|                        NULL|                NULL|                     NULL|                    NULL|                  NULL|                NO|      NO|         NULL|\n",
       "     postgres|  pg_catalog|pg_shmem_allocations|      VIEW|                        NULL|                NULL|                     NULL|                    NULL|                  NULL|                NO|      NO|         NULL|\n",
       "     postgres|  pg_catalog|           pg_tables|      VIEW|                        NULL|                NULL|                     NULL|                    NULL|                  NULL|                NO|      NO|         NULL|\n",
       "     postgres|  pg_catalog|     pg_user_mapping|BASE TABLE|                        NULL|                NULL|                     NULL|                    NULL|                  NULL|               YES|      NO|         NULL|\n",
       "     postgres|  pg_catalog|pg_replication_or...|      VIEW|                        NULL|                NULL|                     NULL|                    NULL|                  NULL|                NO|      NO|         NULL|\n",
       "+-------------+------------+--------------------+----------+----------------------------+--------------------+-------------------------+------------------------+----------------------+------------------+--------+-------------+\n",
       "only showing top 20 rows\n",
       "\n",
       "Conexión exitosa\n",
       "jdbcUrl: String = jdbc:postgresql://sample.postgres.database.azure.com:5432/postgres\n",
       "connectionProperties: java.util.Properties = {user=adminuser, password=Acbp.1995, driver=org.postgresql.Driver}\n",
       "</div>"
      ]
     },
     "metadata": {
      "application/vnd.databricks.v1+output": {
       "addedWidgets": {},
       "arguments": {},
       "data": "<div class=\"ansiout\">+-------------+------------+--------------------+----------+----------------------------+--------------------+-------------------------+------------------------+----------------------+------------------+--------+-------------+\n|table_catalog|table_schema|          table_name|table_type|self_referencing_column_name|reference_generation|user_defined_type_catalog|user_defined_type_schema|user_defined_type_name|is_insertable_into|is_typed|commit_action|\n+-------------+------------+--------------------+----------+----------------------------+--------------------+-------------------------+------------------------+----------------------+------------------+--------+-------------+\n|     postgres|  pg_catalog|        pg_stats_ext|      VIEW|                        NULL|                NULL|                     NULL|                    NULL|                  NULL|                NO|      NO|         NULL|\n|     postgres|  pg_catalog|  pg_stats_ext_exprs|      VIEW|                        NULL|                NULL|                     NULL|                    NULL|                  NULL|                NO|      NO|         NULL|\n|     postgres|  pg_catalog|        pg_statistic|BASE TABLE|                        NULL|                NULL|                     NULL|                    NULL|                  NULL|               YES|      NO|         NULL|\n|     postgres|  pg_catalog|             pg_type|BASE TABLE|                        NULL|                NULL|                     NULL|                    NULL|                  NULL|               YES|      NO|         NULL|\n|     postgres|      public|            trayecto|BASE TABLE|                        NULL|                NULL|                     NULL|                    NULL|                  NULL|               YES|      NO|         NULL|\n|     postgres|  pg_catalog|    pg_foreign_table|BASE TABLE|                        NULL|                NULL|                     NULL|                    NULL|                  NULL|               YES|      NO|         NULL|\n|     postgres|  pg_catalog|           pg_authid|BASE TABLE|                        NULL|                NULL|                     NULL|                    NULL|                  NULL|               YES|      NO|         NULL|\n|     postgres|  pg_catalog|           pg_shadow|      VIEW|                        NULL|                NULL|                     NULL|                    NULL|                  NULL|                NO|      NO|         NULL|\n|     postgres|  pg_catalog|            pg_roles|      VIEW|                        NULL|                NULL|                     NULL|                    NULL|                  NULL|                NO|      NO|         NULL|\n|     postgres|  pg_catalog|pg_statistic_ext_...|BASE TABLE|                        NULL|                NULL|                     NULL|                    NULL|                  NULL|               YES|      NO|         NULL|\n|     postgres|  pg_catalog|   pg_hba_file_rules|      VIEW|                        NULL|                NULL|                     NULL|                    NULL|                  NULL|                NO|      NO|         NULL|\n|     postgres|  pg_catalog|         pg_settings|      VIEW|                        NULL|                NULL|                     NULL|                    NULL|                  NULL|                NO|      NO|         NULL|\n|     postgres|  pg_catalog|    pg_file_settings|      VIEW|                        NULL|                NULL|                     NULL|                    NULL|                  NULL|                NO|      NO|         NULL|\n|     postgres|  pg_catalog|pg_backend_memory...|      VIEW|                        NULL|                NULL|                     NULL|                    NULL|                  NULL|                NO|      NO|         NULL|\n|     postgres|  pg_catalog|pg_ident_file_map...|      VIEW|                        NULL|                NULL|                     NULL|                    NULL|                  NULL|                NO|      NO|         NULL|\n|     postgres|  pg_catalog|           pg_config|      VIEW|                        NULL|                NULL|                     NULL|                    NULL|                  NULL|                NO|      NO|         NULL|\n|     postgres|  pg_catalog|pg_shmem_allocations|      VIEW|                        NULL|                NULL|                     NULL|                    NULL|                  NULL|                NO|      NO|         NULL|\n|     postgres|  pg_catalog|           pg_tables|      VIEW|                        NULL|                NULL|                     NULL|                    NULL|                  NULL|                NO|      NO|         NULL|\n|     postgres|  pg_catalog|     pg_user_mapping|BASE TABLE|                        NULL|                NULL|                     NULL|                    NULL|                  NULL|               YES|      NO|         NULL|\n|     postgres|  pg_catalog|pg_replication_or...|      VIEW|                        NULL|                NULL|                     NULL|                    NULL|                  NULL|                NO|      NO|         NULL|\n+-------------+------------+--------------------+----------+----------------------------+--------------------+-------------------------+------------------------+----------------------+------------------+--------+-------------+\nonly showing top 20 rows\n\nConexión exitosa\njdbcUrl: String = jdbc:postgresql://sample.postgres.database.azure.com:5432/postgres\nconnectionProperties: java.util.Properties = {user=adminuser, password=Acbp.1995, driver=org.postgresql.Driver}\n</div>",
       "datasetInfos": [],
       "metadata": {
        "isDbfsCommandResult": false
       },
       "removedWidgets": [],
       "type": "html"
      }
     },
     "output_type": "display_data"
    }
   ],
   "source": [
    "%scala\n",
    "// Configuración de la conexión JDBC\n",
    "val jdbcUrl = \"jdbc:postgresql://sample.postgres.database.azure.com:5432/postgres\"\n",
    "val connectionProperties = new java.util.Properties()\n",
    "connectionProperties.setProperty(\"user\", \"adminuser\")  // Reemplaza con tu usuario\n",
    "connectionProperties.setProperty(\"password\", \"Acbp.1995\")  // Reemplaza con tu contraseña\n",
    "connectionProperties.setProperty(\"driver\", \"org.postgresql.Driver\")  // Controlador JDBC\n",
    "\n",
    "// Verificar la conexión listando tablas del sistema (por ejemplo, en la base de datos \"postgres\")\n",
    "try {\n",
    "  // Intentar leer algo del esquema público (vacío por defecto)\n",
    "  val df = spark.read.jdbc(\n",
    "    jdbcUrl,\n",
    "    \"information_schema.tables\",  // Esquema del sistema para verificar tablas\n",
    "    connectionProperties\n",
    "  )\n",
    "\n",
    "  // Mostrar resultados (debería mostrar tablas si la conexión es correcta)\n",
    "  df.show()\n",
    "  println(\"Conexión exitosa\")\n",
    "} catch {\n",
    "  case e: Exception =>\n",
    "    println(\"Error al conectar:\", e)\n",
    "}"
   ]
  },
  {
   "cell_type": "code",
   "execution_count": 0,
   "metadata": {
    "application/vnd.databricks.v1+cell": {
     "cellMetadata": {
      "byteLimit": 2048000,
      "rowLimit": 10000
     },
     "inputWidgets": {},
     "nuid": "6d6af7d3-8c6b-4326-ace3-aa4469901495",
     "showTitle": false,
     "tableResultSettingsMap": {},
     "title": ""
    }
   },
   "outputs": [
    {
     "output_type": "display_data",
     "data": {
      "text/html": [
       "<style scoped>\n",
       "  .ansiout {\n",
       "    display: block;\n",
       "    unicode-bidi: embed;\n",
       "    white-space: pre-wrap;\n",
       "    word-wrap: break-word;\n",
       "    word-break: break-all;\n",
       "    font-family: \"Menlo\", \"Monaco\", \"Consolas\", \"Ubuntu Mono\", \"Source Code Pro\", monospace;\n",
       "    font-size: 13px;\n",
       "    color: #555;\n",
       "    margin-left: 4px;\n",
       "    line-height: 19px;\n",
       "  }\n",
       "</style>\n",
       "<div class=\"ansiout\">import scala.io.Source\n",
       "sqlFilePath: String = /dbfs/FileStore/tables/viaje.sql\n",
       "sqlScript: String =\n",
       "insert into trayecto (id_pasajero, id_trayecto, inicio, fin) values (76, 365, '2016-09-12 11:30:51', '2020-02-02 11:21:04');\n",
       "insert into trayecto (id_pasajero, id_trayecto, inicio, fin) values (79, 277, '2017-04-08 23:24:33', '2018-10-15 16:12:30');\n",
       "insert into trayecto (id_pasajero, id_trayecto, inicio, fin) values (13, 292, '2020-11-05 18:50:29', '2020-06-01 13:14:45');\n",
       "insert into trayecto (id_pasajero, id_trayecto, inicio, fin) values (14, 356, '2018-12-31 09:05:39', '2016-11-17 18:35:57');\n",
       "insert into trayecto (id_pasajero, id_trayecto, inicio, fin) values (96, 368, '2020-02-24 17:42:57', '2019-12-18 12:34:42');\n",
       "insert into trayecto (id_pasajero, id_trayecto, inicio, fin) values (3, 323, '2018-03-18 17:00:28', '2019-04-22 13:48:13');\n",
       "insert into trayecto (id_pasajero, id_trayecto, inicio, fin) values (92, 297, '2018-06-01 01:43:39', '2018-07-29 05:24:59');\n",
       "insert into trayecto (id_pasajero, id_trayecto, inicio, fin) values (19, 272, '2016-08-21 17:27:38', '2020-06-14 11:32:27');\n",
       "insert into trayecto (id_pasajero, id_trayecto, inicio, fin) values (89, 287, '2020-06-26 13:16:30', '2016-11-09 08:14:42');\n",
       "insert into trayecto (id_pasajero, id_trayecto, inicio, fin) values (97, 287, '2017-04-30 02:04:01', '2017-05-31 20:36:03');\n",
       "insert into trayecto (id_pasajero, id_trayecto, inicio, fin) values (37, 320, '2017-08-06 16:32:28', '2017-03-29 15:41:16');\n",
       "insert into trayecto (id_pasajero, id_trayecto, inicio, fin) values (29, 317, '2018-08-12 07:59:39', '2018-12-10 11:41:09');\n",
       "insert into trayecto (id_pasajero, id_trayecto, inicio, fin) values (6, 288, '2018-04-28 00:25:20', '2016-04-16 19:11:05');\n",
       "insert into trayecto (id_pasajero, id_trayecto, inicio, fin) values (39, 274, '2019-03-28 00:24:27', '2021-01-16 17:45:55');\n",
       "insert into trayecto (id_pasajero, id_trayecto, inicio, fin) values (84, 299, '2019-01-08 13:22:25', '2020-02-21 10:45:38');\n",
       "insert into trayecto (id_pasajero, id_trayecto, inicio, fin) values (75, 368, '2020-08-22 06:47:31', '2019-10-10 10:44:00');\n",
       "insert into trayecto (id_pasajero, id_trayecto, inicio, fin) values (62, 346, '2019-07-23 18:52:33', '2016-02-22 19:22:58');\n",
       "insert into trayecto (id_pasajero, id_trayecto, inicio, fin) values (11, 319, '2016-05-09 22:11:01', '2019-11-24 08:01:30');\n",
       "insert into trayecto (id_pasajero, id_trayecto, inicio, fin) values (7, 273, '2020-09-28 13:05:17', '2017-09-14 05:25:19');\n",
       "insert into trayecto (id_pasajero, id_trayecto, inicio, fin) values (80, 280, '2019-03-02 11:38:07', '2020-10-19 08:55:21');\n",
       "insert into trayecto (id_pasajero, id_trayecto, inicio, fin) values (92, 345, '2020-01-15 22:54:32', '2018-05-03 01:15:50');\n",
       "insert into trayecto (id_pasajero, id_trayecto, inicio, fin) values (95, 371, '2020-09-10 05:37:14', '2016-04-01 09:19:44');\n",
       "insert into trayecto (id_pasajero, id_trayecto, inicio, fin) values (61, 323, '2017-03-31 06:31:29', '2017-10-24 06:59:17');\n",
       "insert into trayecto (id_pasajero, id_trayecto, inicio, fin) values (72, 303, '2019-03-02 17:53:15', '2016-04-29 23:08:42');\n",
       "insert into trayecto (id_pasajero, id_trayecto, inicio, fin) values (89, 358, '2019-10-18 20:40:47', '2020-06-28 12:03:02');\n",
       "insert into trayecto (id_pasajero, id_trayecto, inicio, fin) values (57, 328, '2018-05-18 20:46:21', '2016-05-28 13:57:10');\n",
       "insert into trayecto (id_pasajero, id_trayecto, inicio, fin) values (63, 288, '2018-09-01 16:10:41', '2020-10-15 21:46:56');\n",
       "insert into trayecto (id_pasajero, id_trayecto, inicio, fin) values (42, 333, '2017-07-09 08:26:06', '2020-03-11 13:10:35');\n",
       "insert into trayecto (id_pasajero, id_trayecto, inicio, fin) values (12, 338, '2020-03-20 05:09:40', '2019-07-02 13:02:08');\n",
       "insert into trayecto (id_pasajero, id_trayecto, inicio, fin) values (50, 328, '2020-06-20 23:10:21', '2017-06-13 10:48:30');\n",
       "insert into trayecto (id_pasajero, id_trayecto, inicio, fin) values (76, 324, '2018-07-29 16:50:09', '2019-01-05 21:24:56');\n",
       "insert into trayecto (id_pasajero, id_trayecto, inicio, fin) values (20, 318, '2016-01-05 05:56:11', '2020-03-02 04:00:40');\n",
       "insert into trayecto (id_pasajero, id_trayecto, inicio, fin) values (15, 363, '2021-01-27 21:49:40', '2019-08-20 06:58:04');\n",
       "insert into trayecto (id_pasajero, id_trayecto, inicio, fin) values (27, 366, '2016-05-13 09:33:39', '2017-12-21 16:23:17');\n",
       "insert into trayecto (id_pasajero, id_trayecto, inicio, fin) values (10, 276, '2017-10-22 04:55:46', '2018-08-17 20:42:25');\n",
       "insert into trayecto (id_pasajero, id_trayecto, inicio, fin) values (77, 288, '2016-10-27 05:32:22', '2018-05-10 01:37:22');\n",
       "insert into trayecto (id_pasajero, id_trayecto, inicio, fin) values (35, 273, '2017-11-12 04:12:00', '2019-03-15 17:58:37');\n",
       "insert into trayecto (id_pasajero, id_trayecto, inicio, fin) values (97, 315, '2017-09-06 15:37:14', '2017-10-25 06:41:06');\n",
       "insert into trayecto (id_pasajero, id_trayecto, inicio, fin) values (87, 294, '2018-07-04 23:35:40', '2016-11-18 06:56:36');\n",
       "insert into trayecto (id_pasajero, id_trayecto, inicio, fin) values (56, 338, '2018-08-15 00:05:36', '2018-12-01 20:39:25');\n",
       "insert into trayecto (id_pasajero, id_trayecto, inicio, fin) values (47, 283, '2018-05-20 21:27:12', '2018-08-31 08:27:52');\n",
       "insert into trayecto (id_pasajero, id_trayecto, inicio, fin) values (47, 333, '2016-07-27 22:33:25', '2021-01-14 14:24:49');\n",
       "insert into trayecto (id_pasajero, id_trayecto, inicio, fin) values (77, 370, '2017-09-20 18:24:32', '2016-09-08 09:34:06');\n",
       "insert into trayecto (id_pasajero, id_trayecto, inicio, fin) values (98, 286, '2017-10-21 08:26:22', '2016-11-04 07:51:04');\n",
       "insert into trayecto (id_pasajero, id_trayecto, inicio, fin) values (74, 290, '2020-12-17 04:06:43', '2016-09-05 11:26:57');\n",
       "insert into trayecto (id_pasajero, id_trayecto, inicio, fin) values (11, 351, '2020-07-04 02:12:18', '2020-12-09 00:47:52');\n",
       "insert into trayecto (id_pasajero, id_trayecto, inicio, fin) values (33, 351, '2019-07-01 20:54:34', '2019-09-07 21:39:13');\n",
       "insert into trayecto (id_pasajero, id_trayecto, inicio, fin) values (93, 349, '2020-09-14 07:09:21', '2017-08-06 23:28:43');\n",
       "insert into trayecto (id_pasajero, id_trayecto, inicio, fin) values (32, 329, '2018-09-27 11:06:48', '2016-12-03 13:49:11');\n",
       "insert into trayecto (id_pasajero, id_trayecto, inicio, fin) values (85, 306, '2018-10-20 09:20:58', '2017-10-29 22:14:57');\n",
       "insert into trayecto (id_pasajero, id_trayecto, inicio, fin) values (44, 351, '2020-03-22 09:54:45', '2020-11-05 15:48:12');\n",
       "insert into trayecto (id_pasajero, id_trayecto, inicio, fin) values (45, 367, '2019-06-14 06:54:25', '2017-03-18 11:28:53');\n",
       "insert into trayecto (id_pasajero, id_trayecto, inicio, fin) values (34, 272, '2017-07-11 04:51:36', '2019-08-22 09:02:36');\n",
       "insert into trayecto (id_pasajero, id_trayecto, inicio, fin) values (13, 287, '2019-01-10 09:47:19', '2017-12-08 19:25:40');\n",
       "insert into trayecto (id_pasajero, id_trayecto, inicio, fin) values (61, 300, '2019-12-28 05:24:56', '2016-08-07 19:05:47');\n",
       "insert into trayecto (id_pasajero, id_trayecto, inicio, fin) values (50, 277, '2020-02-28 01:23:58', '2017-11-08 09:15:12');\n",
       "insert into trayecto (id_pasajero, id_trayecto, inicio, fin) values (56, 362, '2020-08-04 01:32:40', '2018-04-22 07:19:47');\n",
       "insert into trayecto (id_pasajero, id_trayecto, inicio, fin) values (61, 301, '2018-11-02 00:16:53', '2020-05-05 08:26:29');\n",
       "insert into trayecto (id_pasajero, id_trayecto, inicio, fin) values (36, 346, '2016-09-16 14:54:04', '2016-03-31 13:42:33');\n",
       "insert into trayecto (id_pasajero, id_trayecto, inicio, fin) values (31, 320, '2020-06-18 06:44:30', '2017-12-03 20:46:59');\n",
       "insert into trayecto (id_pasajero, id_trayecto, inicio, fin) values (6, 325, '2016-08-06 19:17:43', '2019-03-17 18:07:39');\n",
       "insert into trayecto (id_pasajero, id_trayecto, inicio, fin) values (1, 274, '2018-03-13 20:29:34', '2021-02-08 01:45:05');\n",
       "insert into trayecto (id_pasajero, id_trayecto, inicio, fin) values (97, 316, '2020-04-01 16:26:11', '2019-07-28 03:01:24');\n",
       "insert into trayecto (id_pasajero, id_trayecto, inicio, fin) values (54, 300, '2020-01-25 16:59:50', '2016-08-30 07:48:55');\n",
       "insert into trayecto (id_pasajero, id_trayecto, inicio, fin) values (4, 343, '2017-05-09 07:28:34', '2016-07-22 19:20:38');\n",
       "insert into trayecto (id_pasajero, id_trayecto, inicio, fin) values (38, 307, '2020-04-18 18:59:12', '2018-06-08 08:30:54');\n",
       "insert into trayecto (id_pasajero, id_trayecto, inicio, fin) values (71, 310, '2018-01-19 04:48:42', '2016-05-09 02:01:34');\n",
       "insert into trayecto (id_pasajero, id_trayecto, inicio, fin) values (22, 274, '2019-01-09 16:43:25', '2020-12-19 13:51:10');\n",
       "insert into trayecto (id_pasajero, id_trayecto, inicio, fin) values (28, 342, '2016-02-02 20:29:37', '2017-11-12 23:35:19');\n",
       "insert into trayecto (id_pasajero, id_trayecto, inicio, fin) values (20, 360, '2016-11-19 15:59:33', '2016-06-21 00:59:20');\n",
       "insert into trayecto (id_pasajero, id_trayecto, inicio, fin) values (39, 298, '2019-02-11 10:38:45', '2017-07-07 06:08:41');\n",
       "insert into trayecto (id_pasajero, id_trayecto, inicio, fin) values (52, 297, '2018-01-11 16:55:57', '2019-02-02 18:49:43');\n",
       "insert into trayecto (id_pasajero, id_trayecto, inicio, fin) values (17, 274, '2019-10-17 18:43:25', '2018-09-18 17:51:59');\n",
       "insert into trayecto (id_pasajero, id_trayecto, inicio, fin) values (100, 308, '2018-07-28 17:16:07', '2020-02-13 10:17:32');\n",
       "insert into trayecto (id_pasajero, id_trayecto, inicio, fin) values (72, 311, '2018-10-01 11:21:01', '2018-03-23 08:47:01');\n",
       "insert into trayecto (id_pasajero, id_trayecto, inicio, fin) values (100, 299, '2019-03-09 14:11:15', '2020-11-27 13:14:58');\n",
       "insert into trayecto (id_pasajero, id_trayecto, inicio, fin) values (84, 292, '2016-04-26 21:34:33', '2020-11-29 19:45:37');\n",
       "insert into trayecto (id_pasajero, id_trayecto, inicio, fin) values (83, 354, '2020-08-20 23:29:46', '2018-08-27 08:16:36');\n",
       "insert into trayecto (id_pasajero, id_trayecto, inicio, fin) values (21, 283, '2016-05-11 08:56:18', '2019-06-08 09:37:16');\n",
       "insert into trayecto (id_pasajero, id_trayecto, inicio, fin) values (96, 353, '2016-08-25 11:12:30', '2017-05-25 01:37:43');\n",
       "insert into trayecto (id_pasajero, id_trayecto, inicio, fin) values (9, 369, '2018-01-19 06:06:59', '2020-04-14 07:34:02');\n",
       "insert into trayecto (id_pasajero, id_trayecto, inicio, fin) values (6, 311, '2019-05-08 22:55:28', '2016-05-31 09:15:26');\n",
       "insert into trayecto (id_pasajero, id_trayecto, inicio, fin) values (70, 276, '2019-11-26 15:23:01', '2018-10-20 05:57:11');\n",
       "insert into trayecto (id_pasajero, id_trayecto, inicio, fin) values (9, 298, '2019-12-02 05:31:01', '2019-03-18 18:43:45');\n",
       "insert into trayecto (id_pasajero, id_trayecto, inicio, fin) values (50, 330, '2017-10-16 12:20:14', '2021-01-20 18:09:12');\n",
       "insert into trayecto (id_pasajero, id_trayecto, inicio, fin) values (41, 278, '2018-06-27 00:27:12', '2017-01-05 06:57:30');\n",
       "insert into trayecto (id_pasajero, id_trayecto, inicio, fin) values (18, 366, '2020-07-16 09:29:52', '2018-08-21 09:16:39');\n",
       "insert into trayecto (id_pasajero, id_trayecto, inicio, fin) values (57, 306, '2020-03-26 03:08:57', '2018-10-15 11:26:21');\n",
       "insert into trayecto (id_pasajero, id_trayecto, inicio, fin) values (15, 295, '2016-07-09 19:21:59', '2016-09-26 14:39:01');\n",
       "insert into trayecto (id_pasajero, id_trayecto, inicio, fin) values (61, 327, '2017-12-23 22:58:51', '2019-02-26 02:17:37');\n",
       "insert into trayecto (id_pasajero, id_trayecto, inicio, fin) values (45, 323, '2019-03-02 11:35:53', '2016-12-24 08:29:52');\n",
       "insert into trayecto (id_pasajero, id_trayecto, inicio, fin) values (16, 363, '2017-11-28 15:42:58', '2017-12-27 20:17:22');\n",
       "insert into trayecto (id_pasajero, id_trayecto, inicio, fin) values (23, 281, '2020-11-20 23:54:00', '2018-09-25 20:08:07');\n",
       "insert into trayecto (id_pasajero, id_trayecto, inicio, fin) values (46, 297, '2018-11-14 23:22:00', '2019-05-19 23:43:38');\n",
       "insert into trayecto (id_pasajero, id_trayecto, inicio, fin) values (76, 308, '2018-03-03 01:42:07', '2019-07-23 09:48:20');\n",
       "insert into trayecto (id_pasajero, id_trayecto, inicio, fin) values (91, 357, '2017-06-12 16:40:07', '2019-08-28 05:27:05');\n",
       "insert into trayecto (id_pasajero, id_trayecto, inicio, fin) values (52, 289, '2017-03-06 01:10:45', '2019-01-07 18:46:53');\n",
       "insert into trayecto (id_pasajero, id_trayecto, inicio, fin) values (84, 357, '2018-07-14 00:26:41', '2019-07-11 03:22:08');\n",
       "insert into trayecto (id_pasajero, id_trayecto, inicio, fin) values (14, 328, '2017-09-18 00:54:27', '2020-10-27 20:37:51');\n",
       "insert into trayecto (id_pasajero, id_trayecto, inicio, fin) values (40, 292, '2019-07-12 07:29:14', '2019-10-30 22:38:35');\n",
       "commands: Array[String] = Array(insert into trayecto (id_pasajero, id_trayecto, inicio, fin) values (76, 365, '2016-09-12 11:30:51', '2020-02-02 11:21:04'), insert into trayecto (id_pasajero, id_trayecto, inicio, fin) values (79, 277, '2017-04-08 23:24:33', '2018-10-15 16:12:30'), insert into trayecto (id_pasajero, id_trayecto, inicio, fin) values (13, 292, '2020-11-05 18:50:29', '2020-06-01 13:14:45'), insert into trayecto (id_pasajero, id_trayecto, inicio, fin) values (14, 356, '2018-12-31 09:05:39', '2016-11-17 18:35:57'), insert into trayecto (id_pasajero, id_trayecto, inicio, fin) values (96, 368, '2020-02-24 17:42:57', '2019-12-18 12:34:42'), insert into trayecto (id_pasajero, id_trayecto, inicio, fin) values (3, 323, '2018-03-18 17:00:28', '2019-04-22 13:48:13'), insert into trayecto (id_pasajero, id_trayecto, inicio, fin) values (92, 297, '2018-06-01 01:43:39', '2018-07-29 05:24:59'), insert into trayecto (id_pasajero, id_trayecto, inicio, fin) values (19, 272, '2016-08-21 17:27:38', '2020-06-14 11:32:27'), insert into trayecto (id_pasajero, id_trayecto, inicio, fin) values (89, 287, '2020-06-26 13:16:30', '2016-11-09 08:14:42'), insert into trayecto (id_pasajero, id_trayecto, inicio, fin) values (97, 287, '2017-04-30 02:04:01', '2017-05-31 20:36:03'), insert into trayecto (id_pasajero, id_trayecto, inicio, fin) values (37, 320, '2017-08-06 16:32:28', '2017-03-29 15:41:16'), insert into trayecto (id_pasajero, id_trayecto, inicio, fin) values (29, 317, '2018-08-12 07:59:39', '2018-12-10 11:41:09'), insert into trayecto (id_pasajero, id_trayecto, inicio, fin) values (6, 288, '2018-04-28 00:25:20', '2016-04-16 19:11:05'), insert into trayecto (id_pasajero, id_trayecto, inicio, fin) values (39, 274, '2019-03-28 00:24:27', '2021-01-16 17:45:55'), insert into trayecto (id_pasajero, id_trayecto, inicio, fin) values (84, 299, '2019-01-08 13:22:25', '2020-02-21 10:45:38'), insert into trayecto (id_pasajero, id_trayecto, inicio, fin) values (75, 368, '2020-08-22 06:47:31', '2019-10-10 10:44:00'), insert into trayecto (id_pasajero, id_trayecto, inicio, fin) values (62, 346, '2019-07-23 18:52:33', '2016-02-22 19:22:58'), insert into trayecto (id_pasajero, id_trayecto, inicio, fin) values (11, 319, '2016-05-09 22:11:01', '2019-11-24 08:01:30'), insert into trayecto (id_pasajero, id_trayecto, inicio, fin) values (7, 273, '2020-09-28 13:05:17', '2017-09-14 05:25:19'), insert into trayecto (id_pasajero, id_trayecto, inicio, fin) values (80, 280, '2019-03-02 11:38:07', '2020-10-19 08:55:21'), insert into trayecto (id_pasajero, id_trayecto, inicio, fin) values (92, 345, '2020-01-15 22:54:32', '2018-05-03 01:15:50'), insert into trayecto (id_pasajero, id_trayecto, inicio, fin) values (95, 371, '2020-09-10 05:37:14', '2016-04-01 09:19:44'), insert into trayecto (id_pasajero, id_trayecto, inicio, fin) values (61, 323, '2017-03-31 06:31:29', '2017-10-24 06:59:17'), insert into trayecto (id_pasajero, id_trayecto, inicio, fin) values (72, 303, '2019-03-02 17:53:15', '2016-04-29 23:08:42'), insert into trayecto (id_pasajero, id_trayecto, inicio, fin) values (89, 358, '2019-10-18 20:40:47', '2020-06-28 12:03:02'), insert into trayecto (id_pasajero, id_trayecto, inicio, fin) values (57, 328, '2018-05-18 20:46:21', '2016-05-28 13:57:10'), insert into trayecto (id_pasajero, id_trayecto, inicio, fin) values (63, 288, '2018-09-01 16:10:41', '2020-10-15 21:46:56'), insert into trayecto (id_pasajero, id_trayecto, inicio, fin) values (42, 333, '2017-07-09 08:26:06', '2020-03-11 13:10:35'), insert into trayecto (id_pasajero, id_trayecto, inicio, fin) values (12, 338, '2020-03-20 05:09:40', '2019-07-02 13:02:08'), insert into trayecto (id_pasajero, id_trayecto, inicio, fin) values (50, 328, '2020-06-20 23:10:21', '2017-06-13 10:48:30'), insert into trayecto (id_pasajero, id_trayecto, inicio, fin) values (76, 324, '2018-07-29 16:50:09', '2019-01-05 21:24:56'), insert into trayecto (id_pasajero, id_trayecto, inicio, fin) values (20, 318, '2016-01-05 05:56:11', '2020-03-02 04:00:40'), insert into trayecto (id_pasajero, id_trayecto, inicio, fin) values (15, 363, '2021-01-27 21:49:40', '2019-08-20 06:58:04'), insert into trayecto (id_pasajero, id_trayecto, inicio, fin) values (27, 366, '2016-05-13 09:33:39', '2017-12-21 16:23:17'), insert into trayecto (id_pasajero, id_trayecto, inicio, fin) values (10, 276, '2017-10-22 04:55:46', '2018-08-17 20:42:25'), insert into trayecto (id_pasajero, id_trayecto, inicio, fin) values (77, 288, '2016-10-27 05:32:22', '2018-05-10 01:37:22'), insert into trayecto (id_pasajero, id_trayecto, inicio, fin) values (35, 273, '2017-11-12 04:12:00', '2019-03-15 17:58:37'), insert into trayecto (id_pasajero, id_trayecto, inicio, fin) values (97, 315, '2017-09-06 15:37:14', '2017-10-25 06:41:06'), insert into trayecto (id_pasajero, id_trayecto, inicio, fin) values (87, 294, '2018-07-04 23:35:40', '2016-11-18 06:56:36'), insert into trayecto (id_pasajero, id_trayecto, inicio, fin) values (56, 338, '2018-08-15 00:05:36', '2018-12-01 20:39:25'), insert into trayecto (id_pasajero, id_trayecto, inicio, fin) values (47, 283, '2018-05-20 21:27:12', '2018-08-31 08:27:52'), insert into trayecto (id_pasajero, id_trayecto, inicio, fin) values (47, 333, '2016-07-27 22:33:25', '2021-01-14 14:24:49'), insert into trayecto (id_pasajero, id_trayecto, inicio, fin) values (77, 370, '2017-09-20 18:24:32', '2016-09-08 09:34:06'), insert into trayecto (id_pasajero, id_trayecto, inicio, fin) values (98, 286, '2017-10-21 08:26:22', '2016-11-04 07:51:04'), insert into trayecto (id_pasajero, id_trayecto, inicio, fin) values (74, 290, '2020-12-17 04:06:43', '2016-09-05 11:26:57'), insert into trayecto (id_pasajero, id_trayecto, inicio, fin) values (11, 351, '2020-07-04 02:12:18', '2020-12-09 00:47:52'), insert into trayecto (id_pasajero, id_trayecto, inicio, fin) values (33, 351, '2019-07-01 20:54:34', '2019-09-07 21:39:13'), insert into trayecto (id_pasajero, id_trayecto, inicio, fin) values (93, 349, '2020-09-14 07:09:21', '2017-08-06 23:28:43'), insert into trayecto (id_pasajero, id_trayecto, inicio, fin) values (32, 329, '2018-09-27 11:06:48', '2016-12-03 13:49:11'), insert into trayecto (id_pasajero, id_trayecto, inicio, fin) values (85, 306, '2018-10-20 09:20:58', '2017-10-29 22:14:57'), insert into trayecto (id_pasajero, id_trayecto, inicio, fin) values (44, 351, '2020-03-22 09:54:45', '2020-11-05 15:48:12'), insert into trayecto (id_pasajero, id_trayecto, inicio, fin) values (45, 367, '2019-06-14 06:54:25', '2017-03-18 11:28:53'), insert into trayecto (id_pasajero, id_trayecto, inicio, fin) values (34, 272, '2017-07-11 04:51:36', '2019-08-22 09:02:36'), insert into trayecto (id_pasajero, id_trayecto, inicio, fin) values (13, 287, '2019-01-10 09:47:19', '2017-12-08 19:25:40'), insert into trayecto (id_pasajero, id_trayecto, inicio, fin) values (61, 300, '2019-12-28 05:24:56', '2016-08-07 19:05:47'), insert into trayecto (id_pasajero, id_trayecto, inicio, fin) values (50, 277, '2020-02-28 01:23:58', '2017-11-08 09:15:12'), insert into trayecto (id_pasajero, id_trayecto, inicio, fin) values (56, 362, '2020-08-04 01:32:40', '2018-04-22 07:19:47'), insert into trayecto (id_pasajero, id_trayecto, inicio, fin) values (61, 301, '2018-11-02 00:16:53', '2020-05-05 08:26:29'), insert into trayecto (id_pasajero, id_trayecto, inicio, fin) values (36, 346, '2016-09-16 14:54:04', '2016-03-31 13:42:33'), insert into trayecto (id_pasajero, id_trayecto, inicio, fin) values (31, 320, '2020-06-18 06:44:30', '2017-12-03 20:46:59'), insert into trayecto (id_pasajero, id_trayecto, inicio, fin) values (6, 325, '2016-08-06 19:17:43', '2019-03-17 18:07:39'), insert into trayecto (id_pasajero, id_trayecto, inicio, fin) values (1, 274, '2018-03-13 20:29:34', '2021-02-08 01:45:05'), insert into trayecto (id_pasajero, id_trayecto, inicio, fin) values (97, 316, '2020-04-01 16:26:11', '2019-07-28 03:01:24'), insert into trayecto (id_pasajero, id_trayecto, inicio, fin) values (54, 300, '2020-01-25 16:59:50', '2016-08-30 07:48:55'), insert into trayecto (id_pasajero, id_trayecto, inicio, fin) values (4, 343, '2017-05-09 07:28:34', '2016-07-22 19:20:38'), insert into trayecto (id_pasajero, id_trayecto, inicio, fin) values (38, 307, '2020-04-18 18:59:12', '2018-06-08 08:30:54'), insert into trayecto (id_pasajero, id_trayecto, inicio, fin) values (71, 310, '2018-01-19 04:48:42', '2016-05-09 02:01:34'), insert into trayecto (id_pasajero, id_trayecto, inicio, fin) values (22, 274, '2019-01-09 16:43:25', '2020-12-19 13:51:10'), insert into trayecto (id_pasajero, id_trayecto, inicio, fin) values (28, 342, '2016-02-02 20:29:37', '2017-11-12 23:35:19'), insert into trayecto (id_pasajero, id_trayecto, inicio, fin) values (20, 360, '2016-11-19 15:59:33', '2016-06-21 00:59:20'), insert into trayecto (id_pasajero, id_trayecto, inicio, fin) values (39, 298, '2019-02-11 10:38:45', '2017-07-07 06:08:41'), insert into trayecto (id_pasajero, id_trayecto, inicio, fin) values (52, 297, '2018-01-11 16:55:57', '2019-02-02 18:49:43'), insert into trayecto (id_pasajero, id_trayecto, inicio, fin) values (17, 274, '2019-10-17 18:43:25', '2018-09-18 17:51:59'), insert into trayecto (id_pasajero, id_trayecto, inicio, fin) values (100, 308, '2018-07-28 17:16:07', '2020-02-13 10:17:32'), insert into trayecto (id_pasajero, id_trayecto, inicio, fin) values (72, 311, '2018-10-01 11:21:01', '2018-03-23 08:47:01'), insert into trayecto (id_pasajero, id_trayecto, inicio, fin) values (100, 299, '2019-03-09 14:11:15', '2020-11-27 13:14:58'), insert into trayecto (id_pasajero, id_trayecto, inicio, fin) values (84, 292, '2016-04-26 21:34:33', '2020-11-29 19:45:37'), insert into trayecto (id_pasajero, id_trayecto, inicio, fin) values (83, 354, '2020-08-20 23:29:46', '2018-08-27 08:16:36'), insert into trayecto (id_pasajero, id_trayecto, inicio, fin) values (21, 283, '2016-05-11 08:56:18', '2019-06-08 09:37:16'), insert into trayecto (id_pasajero, id_trayecto, inicio, fin) values (96, 353, '2016-08-25 11:12:30', '2017-05-25 01:37:43'), insert into trayecto (id_pasajero, id_trayecto, inicio, fin) values (9, 369, '2018-01-19 06:06:59', '2020-04-14 07:34:02'), insert into trayecto (id_pasajero, id_trayecto, inicio, fin) values (6, 311, '2019-05-08 22:55:28', '2016-05-31 09:15:26'), insert into trayecto (id_pasajero, id_trayecto, inicio, fin) values (70, 276, '2019-11-26 15:23:01', '2018-10-20 05:57:11'), insert into trayecto (id_pasajero, id_trayecto, inicio, fin) values (9, 298, '2019-12-02 05:31:01', '2019-03-18 18:43:45'), insert into trayecto (id_pasajero, id_trayecto, inicio, fin) values (50, 330, '2017-10-16 12:20:14', '2021-01-20 18:09:12'), insert into trayecto (id_pasajero, id_trayecto, inicio, fin) values (41, 278, '2018-06-27 00:27:12', '2017-01-05 06:57:30'), insert into trayecto (id_pasajero, id_trayecto, inicio, fin) values (18, 366, '2020-07-16 09:29:52', '2018-08-21 09:16:39'), insert into trayecto (id_pasajero, id_trayecto, inicio, fin) values (57, 306, '2020-03-26 03:08:57', '2018-10-15 11:26:21'), insert into trayecto (id_pasajero, id_trayecto, inicio, fin) values (15, 295, '2016-07-09 19:21:59', '2016-09-26 14:39:01'), insert into trayecto (id_pasajero, id_trayecto, inicio, fin) values (61, 327, '2017-12-23 22:58:51', '2019-02-26 02:17:37'), insert into trayecto (id_pasajero, id_trayecto, inicio, fin) values (45, 323, '2019-03-02 11:35:53', '2016-12-24 08:29:52'), insert into trayecto (id_pasajero, id_trayecto, inicio, fin) values (16, 363, '2017-11-28 15:42:58', '2017-12-27 20:17:22'), insert into trayecto (id_pasajero, id_trayecto, inicio, fin) values (23, 281, '2020-11-20 23:54:00', '2018-09-25 20:08:07'), insert into trayecto (id_pasajero, id_trayecto, inicio, fin) values (46, 297, '2018-11-14 23:22:00', '2019-05-19 23:43:38'), insert into trayecto (id_pasajero, id_trayecto, inicio, fin) values (76, 308, '2018-03-03 01:42:07', '2019-07-23 09:48:20'), insert into trayecto (id_pasajero, id_trayecto, inicio, fin) values (91, 357, '2017-06-12 16:40:07', '2019-08-28 05:27:05'), insert into trayecto (id_pasajero, id_trayecto, inicio, fin) values (52, 289, '2017-03-06 01:10:45', '2019-01-07 18:46:53'), insert into trayecto (id_pasajero, id_trayecto, inicio, fin) values (84, 357, '2018-07-14 00:26:41', '2019-07-11 03:22:08'), insert into trayecto (id_pasajero, id_trayecto, inicio, fin) values (14, 328, '2017-09-18 00:54:27', '2020-10-27 20:37:51'), insert into trayecto (id_pasajero, id_trayecto, inicio, fin) values (40, 292, '2019-07-12 07:29:14', '2019-10-30 22:38:35'))\n",
       "</div>"
      ]
     },
     "metadata": {
      "application/vnd.databricks.v1+output": {
       "addedWidgets": {},
       "arguments": {},
       "data": "<div class=\"ansiout\">import scala.io.Source\nsqlFilePath: String = /dbfs/FileStore/tables/viaje.sql\nsqlScript: String =\ninsert into trayecto (id_pasajero, id_trayecto, inicio, fin) values (76, 365, '2016-09-12 11:30:51', '2020-02-02 11:21:04');\ninsert into trayecto (id_pasajero, id_trayecto, inicio, fin) values (79, 277, '2017-04-08 23:24:33', '2018-10-15 16:12:30');\ninsert into trayecto (id_pasajero, id_trayecto, inicio, fin) values (13, 292, '2020-11-05 18:50:29', '2020-06-01 13:14:45');\ninsert into trayecto (id_pasajero, id_trayecto, inicio, fin) values (14, 356, '2018-12-31 09:05:39', '2016-11-17 18:35:57');\ninsert into trayecto (id_pasajero, id_trayecto, inicio, fin) values (96, 368, '2020-02-24 17:42:57', '2019-12-18 12:34:42');\ninsert into trayecto (id_pasajero, id_trayecto, inicio, fin) values (3, 323, '2018-03-18 17:00:28', '2019-04-22 13:48:13');\ninsert into trayecto (id_pasajero, id_trayecto, inicio, fin) values (92, 297, '2018-06-01 01:43:39', '2018-07-29 05:24:59');\ninsert into trayecto (id_pasajero, id_trayecto, inicio, fin) values (19, 272, '2016-08-21 17:27:38', '2020-06-14 11:32:27');\ninsert into trayecto (id_pasajero, id_trayecto, inicio, fin) values (89, 287, '2020-06-26 13:16:30', '2016-11-09 08:14:42');\ninsert into trayecto (id_pasajero, id_trayecto, inicio, fin) values (97, 287, '2017-04-30 02:04:01', '2017-05-31 20:36:03');\ninsert into trayecto (id_pasajero, id_trayecto, inicio, fin) values (37, 320, '2017-08-06 16:32:28', '2017-03-29 15:41:16');\ninsert into trayecto (id_pasajero, id_trayecto, inicio, fin) values (29, 317, '2018-08-12 07:59:39', '2018-12-10 11:41:09');\ninsert into trayecto (id_pasajero, id_trayecto, inicio, fin) values (6, 288, '2018-04-28 00:25:20', '2016-04-16 19:11:05');\ninsert into trayecto (id_pasajero, id_trayecto, inicio, fin) values (39, 274, '2019-03-28 00:24:27', '2021-01-16 17:45:55');\ninsert into trayecto (id_pasajero, id_trayecto, inicio, fin) values (84, 299, '2019-01-08 13:22:25', '2020-02-21 10:45:38');\ninsert into trayecto (id_pasajero, id_trayecto, inicio, fin) values (75, 368, '2020-08-22 06:47:31', '2019-10-10 10:44:00');\ninsert into trayecto (id_pasajero, id_trayecto, inicio, fin) values (62, 346, '2019-07-23 18:52:33', '2016-02-22 19:22:58');\ninsert into trayecto (id_pasajero, id_trayecto, inicio, fin) values (11, 319, '2016-05-09 22:11:01', '2019-11-24 08:01:30');\ninsert into trayecto (id_pasajero, id_trayecto, inicio, fin) values (7, 273, '2020-09-28 13:05:17', '2017-09-14 05:25:19');\ninsert into trayecto (id_pasajero, id_trayecto, inicio, fin) values (80, 280, '2019-03-02 11:38:07', '2020-10-19 08:55:21');\ninsert into trayecto (id_pasajero, id_trayecto, inicio, fin) values (92, 345, '2020-01-15 22:54:32', '2018-05-03 01:15:50');\ninsert into trayecto (id_pasajero, id_trayecto, inicio, fin) values (95, 371, '2020-09-10 05:37:14', '2016-04-01 09:19:44');\ninsert into trayecto (id_pasajero, id_trayecto, inicio, fin) values (61, 323, '2017-03-31 06:31:29', '2017-10-24 06:59:17');\ninsert into trayecto (id_pasajero, id_trayecto, inicio, fin) values (72, 303, '2019-03-02 17:53:15', '2016-04-29 23:08:42');\ninsert into trayecto (id_pasajero, id_trayecto, inicio, fin) values (89, 358, '2019-10-18 20:40:47', '2020-06-28 12:03:02');\ninsert into trayecto (id_pasajero, id_trayecto, inicio, fin) values (57, 328, '2018-05-18 20:46:21', '2016-05-28 13:57:10');\ninsert into trayecto (id_pasajero, id_trayecto, inicio, fin) values (63, 288, '2018-09-01 16:10:41', '2020-10-15 21:46:56');\ninsert into trayecto (id_pasajero, id_trayecto, inicio, fin) values (42, 333, '2017-07-09 08:26:06', '2020-03-11 13:10:35');\ninsert into trayecto (id_pasajero, id_trayecto, inicio, fin) values (12, 338, '2020-03-20 05:09:40', '2019-07-02 13:02:08');\ninsert into trayecto (id_pasajero, id_trayecto, inicio, fin) values (50, 328, '2020-06-20 23:10:21', '2017-06-13 10:48:30');\ninsert into trayecto (id_pasajero, id_trayecto, inicio, fin) values (76, 324, '2018-07-29 16:50:09', '2019-01-05 21:24:56');\ninsert into trayecto (id_pasajero, id_trayecto, inicio, fin) values (20, 318, '2016-01-05 05:56:11', '2020-03-02 04:00:40');\ninsert into trayecto (id_pasajero, id_trayecto, inicio, fin) values (15, 363, '2021-01-27 21:49:40', '2019-08-20 06:58:04');\ninsert into trayecto (id_pasajero, id_trayecto, inicio, fin) values (27, 366, '2016-05-13 09:33:39', '2017-12-21 16:23:17');\ninsert into trayecto (id_pasajero, id_trayecto, inicio, fin) values (10, 276, '2017-10-22 04:55:46', '2018-08-17 20:42:25');\ninsert into trayecto (id_pasajero, id_trayecto, inicio, fin) values (77, 288, '2016-10-27 05:32:22', '2018-05-10 01:37:22');\ninsert into trayecto (id_pasajero, id_trayecto, inicio, fin) values (35, 273, '2017-11-12 04:12:00', '2019-03-15 17:58:37');\ninsert into trayecto (id_pasajero, id_trayecto, inicio, fin) values (97, 315, '2017-09-06 15:37:14', '2017-10-25 06:41:06');\ninsert into trayecto (id_pasajero, id_trayecto, inicio, fin) values (87, 294, '2018-07-04 23:35:40', '2016-11-18 06:56:36');\ninsert into trayecto (id_pasajero, id_trayecto, inicio, fin) values (56, 338, '2018-08-15 00:05:36', '2018-12-01 20:39:25');\ninsert into trayecto (id_pasajero, id_trayecto, inicio, fin) values (47, 283, '2018-05-20 21:27:12', '2018-08-31 08:27:52');\ninsert into trayecto (id_pasajero, id_trayecto, inicio, fin) values (47, 333, '2016-07-27 22:33:25', '2021-01-14 14:24:49');\ninsert into trayecto (id_pasajero, id_trayecto, inicio, fin) values (77, 370, '2017-09-20 18:24:32', '2016-09-08 09:34:06');\ninsert into trayecto (id_pasajero, id_trayecto, inicio, fin) values (98, 286, '2017-10-21 08:26:22', '2016-11-04 07:51:04');\ninsert into trayecto (id_pasajero, id_trayecto, inicio, fin) values (74, 290, '2020-12-17 04:06:43', '2016-09-05 11:26:57');\ninsert into trayecto (id_pasajero, id_trayecto, inicio, fin) values (11, 351, '2020-07-04 02:12:18', '2020-12-09 00:47:52');\ninsert into trayecto (id_pasajero, id_trayecto, inicio, fin) values (33, 351, '2019-07-01 20:54:34', '2019-09-07 21:39:13');\ninsert into trayecto (id_pasajero, id_trayecto, inicio, fin) values (93, 349, '2020-09-14 07:09:21', '2017-08-06 23:28:43');\ninsert into trayecto (id_pasajero, id_trayecto, inicio, fin) values (32, 329, '2018-09-27 11:06:48', '2016-12-03 13:49:11');\ninsert into trayecto (id_pasajero, id_trayecto, inicio, fin) values (85, 306, '2018-10-20 09:20:58', '2017-10-29 22:14:57');\ninsert into trayecto (id_pasajero, id_trayecto, inicio, fin) values (44, 351, '2020-03-22 09:54:45', '2020-11-05 15:48:12');\ninsert into trayecto (id_pasajero, id_trayecto, inicio, fin) values (45, 367, '2019-06-14 06:54:25', '2017-03-18 11:28:53');\ninsert into trayecto (id_pasajero, id_trayecto, inicio, fin) values (34, 272, '2017-07-11 04:51:36', '2019-08-22 09:02:36');\ninsert into trayecto (id_pasajero, id_trayecto, inicio, fin) values (13, 287, '2019-01-10 09:47:19', '2017-12-08 19:25:40');\ninsert into trayecto (id_pasajero, id_trayecto, inicio, fin) values (61, 300, '2019-12-28 05:24:56', '2016-08-07 19:05:47');\ninsert into trayecto (id_pasajero, id_trayecto, inicio, fin) values (50, 277, '2020-02-28 01:23:58', '2017-11-08 09:15:12');\ninsert into trayecto (id_pasajero, id_trayecto, inicio, fin) values (56, 362, '2020-08-04 01:32:40', '2018-04-22 07:19:47');\ninsert into trayecto (id_pasajero, id_trayecto, inicio, fin) values (61, 301, '2018-11-02 00:16:53', '2020-05-05 08:26:29');\ninsert into trayecto (id_pasajero, id_trayecto, inicio, fin) values (36, 346, '2016-09-16 14:54:04', '2016-03-31 13:42:33');\ninsert into trayecto (id_pasajero, id_trayecto, inicio, fin) values (31, 320, '2020-06-18 06:44:30', '2017-12-03 20:46:59');\ninsert into trayecto (id_pasajero, id_trayecto, inicio, fin) values (6, 325, '2016-08-06 19:17:43', '2019-03-17 18:07:39');\ninsert into trayecto (id_pasajero, id_trayecto, inicio, fin) values (1, 274, '2018-03-13 20:29:34', '2021-02-08 01:45:05');\ninsert into trayecto (id_pasajero, id_trayecto, inicio, fin) values (97, 316, '2020-04-01 16:26:11', '2019-07-28 03:01:24');\ninsert into trayecto (id_pasajero, id_trayecto, inicio, fin) values (54, 300, '2020-01-25 16:59:50', '2016-08-30 07:48:55');\ninsert into trayecto (id_pasajero, id_trayecto, inicio, fin) values (4, 343, '2017-05-09 07:28:34', '2016-07-22 19:20:38');\ninsert into trayecto (id_pasajero, id_trayecto, inicio, fin) values (38, 307, '2020-04-18 18:59:12', '2018-06-08 08:30:54');\ninsert into trayecto (id_pasajero, id_trayecto, inicio, fin) values (71, 310, '2018-01-19 04:48:42', '2016-05-09 02:01:34');\ninsert into trayecto (id_pasajero, id_trayecto, inicio, fin) values (22, 274, '2019-01-09 16:43:25', '2020-12-19 13:51:10');\ninsert into trayecto (id_pasajero, id_trayecto, inicio, fin) values (28, 342, '2016-02-02 20:29:37', '2017-11-12 23:35:19');\ninsert into trayecto (id_pasajero, id_trayecto, inicio, fin) values (20, 360, '2016-11-19 15:59:33', '2016-06-21 00:59:20');\ninsert into trayecto (id_pasajero, id_trayecto, inicio, fin) values (39, 298, '2019-02-11 10:38:45', '2017-07-07 06:08:41');\ninsert into trayecto (id_pasajero, id_trayecto, inicio, fin) values (52, 297, '2018-01-11 16:55:57', '2019-02-02 18:49:43');\ninsert into trayecto (id_pasajero, id_trayecto, inicio, fin) values (17, 274, '2019-10-17 18:43:25', '2018-09-18 17:51:59');\ninsert into trayecto (id_pasajero, id_trayecto, inicio, fin) values (100, 308, '2018-07-28 17:16:07', '2020-02-13 10:17:32');\ninsert into trayecto (id_pasajero, id_trayecto, inicio, fin) values (72, 311, '2018-10-01 11:21:01', '2018-03-23 08:47:01');\ninsert into trayecto (id_pasajero, id_trayecto, inicio, fin) values (100, 299, '2019-03-09 14:11:15', '2020-11-27 13:14:58');\ninsert into trayecto (id_pasajero, id_trayecto, inicio, fin) values (84, 292, '2016-04-26 21:34:33', '2020-11-29 19:45:37');\ninsert into trayecto (id_pasajero, id_trayecto, inicio, fin) values (83, 354, '2020-08-20 23:29:46', '2018-08-27 08:16:36');\ninsert into trayecto (id_pasajero, id_trayecto, inicio, fin) values (21, 283, '2016-05-11 08:56:18', '2019-06-08 09:37:16');\ninsert into trayecto (id_pasajero, id_trayecto, inicio, fin) values (96, 353, '2016-08-25 11:12:30', '2017-05-25 01:37:43');\ninsert into trayecto (id_pasajero, id_trayecto, inicio, fin) values (9, 369, '2018-01-19 06:06:59', '2020-04-14 07:34:02');\ninsert into trayecto (id_pasajero, id_trayecto, inicio, fin) values (6, 311, '2019-05-08 22:55:28', '2016-05-31 09:15:26');\ninsert into trayecto (id_pasajero, id_trayecto, inicio, fin) values (70, 276, '2019-11-26 15:23:01', '2018-10-20 05:57:11');\ninsert into trayecto (id_pasajero, id_trayecto, inicio, fin) values (9, 298, '2019-12-02 05:31:01', '2019-03-18 18:43:45');\ninsert into trayecto (id_pasajero, id_trayecto, inicio, fin) values (50, 330, '2017-10-16 12:20:14', '2021-01-20 18:09:12');\ninsert into trayecto (id_pasajero, id_trayecto, inicio, fin) values (41, 278, '2018-06-27 00:27:12', '2017-01-05 06:57:30');\ninsert into trayecto (id_pasajero, id_trayecto, inicio, fin) values (18, 366, '2020-07-16 09:29:52', '2018-08-21 09:16:39');\ninsert into trayecto (id_pasajero, id_trayecto, inicio, fin) values (57, 306, '2020-03-26 03:08:57', '2018-10-15 11:26:21');\ninsert into trayecto (id_pasajero, id_trayecto, inicio, fin) values (15, 295, '2016-07-09 19:21:59', '2016-09-26 14:39:01');\ninsert into trayecto (id_pasajero, id_trayecto, inicio, fin) values (61, 327, '2017-12-23 22:58:51', '2019-02-26 02:17:37');\ninsert into trayecto (id_pasajero, id_trayecto, inicio, fin) values (45, 323, '2019-03-02 11:35:53', '2016-12-24 08:29:52');\ninsert into trayecto (id_pasajero, id_trayecto, inicio, fin) values (16, 363, '2017-11-28 15:42:58', '2017-12-27 20:17:22');\ninsert into trayecto (id_pasajero, id_trayecto, inicio, fin) values (23, 281, '2020-11-20 23:54:00', '2018-09-25 20:08:07');\ninsert into trayecto (id_pasajero, id_trayecto, inicio, fin) values (46, 297, '2018-11-14 23:22:00', '2019-05-19 23:43:38');\ninsert into trayecto (id_pasajero, id_trayecto, inicio, fin) values (76, 308, '2018-03-03 01:42:07', '2019-07-23 09:48:20');\ninsert into trayecto (id_pasajero, id_trayecto, inicio, fin) values (91, 357, '2017-06-12 16:40:07', '2019-08-28 05:27:05');\ninsert into trayecto (id_pasajero, id_trayecto, inicio, fin) values (52, 289, '2017-03-06 01:10:45', '2019-01-07 18:46:53');\ninsert into trayecto (id_pasajero, id_trayecto, inicio, fin) values (84, 357, '2018-07-14 00:26:41', '2019-07-11 03:22:08');\ninsert into trayecto (id_pasajero, id_trayecto, inicio, fin) values (14, 328, '2017-09-18 00:54:27', '2020-10-27 20:37:51');\ninsert into trayecto (id_pasajero, id_trayecto, inicio, fin) values (40, 292, '2019-07-12 07:29:14', '2019-10-30 22:38:35');\ncommands: Array[String] = Array(insert into trayecto (id_pasajero, id_trayecto, inicio, fin) values (76, 365, '2016-09-12 11:30:51', '2020-02-02 11:21:04'), insert into trayecto (id_pasajero, id_trayecto, inicio, fin) values (79, 277, '2017-04-08 23:24:33', '2018-10-15 16:12:30'), insert into trayecto (id_pasajero, id_trayecto, inicio, fin) values (13, 292, '2020-11-05 18:50:29', '2020-06-01 13:14:45'), insert into trayecto (id_pasajero, id_trayecto, inicio, fin) values (14, 356, '2018-12-31 09:05:39', '2016-11-17 18:35:57'), insert into trayecto (id_pasajero, id_trayecto, inicio, fin) values (96, 368, '2020-02-24 17:42:57', '2019-12-18 12:34:42'), insert into trayecto (id_pasajero, id_trayecto, inicio, fin) values (3, 323, '2018-03-18 17:00:28', '2019-04-22 13:48:13'), insert into trayecto (id_pasajero, id_trayecto, inicio, fin) values (92, 297, '2018-06-01 01:43:39', '2018-07-29 05:24:59'), insert into trayecto (id_pasajero, id_trayecto, inicio, fin) values (19, 272, '2016-08-21 17:27:38', '2020-06-14 11:32:27'), insert into trayecto (id_pasajero, id_trayecto, inicio, fin) values (89, 287, '2020-06-26 13:16:30', '2016-11-09 08:14:42'), insert into trayecto (id_pasajero, id_trayecto, inicio, fin) values (97, 287, '2017-04-30 02:04:01', '2017-05-31 20:36:03'), insert into trayecto (id_pasajero, id_trayecto, inicio, fin) values (37, 320, '2017-08-06 16:32:28', '2017-03-29 15:41:16'), insert into trayecto (id_pasajero, id_trayecto, inicio, fin) values (29, 317, '2018-08-12 07:59:39', '2018-12-10 11:41:09'), insert into trayecto (id_pasajero, id_trayecto, inicio, fin) values (6, 288, '2018-04-28 00:25:20', '2016-04-16 19:11:05'), insert into trayecto (id_pasajero, id_trayecto, inicio, fin) values (39, 274, '2019-03-28 00:24:27', '2021-01-16 17:45:55'), insert into trayecto (id_pasajero, id_trayecto, inicio, fin) values (84, 299, '2019-01-08 13:22:25', '2020-02-21 10:45:38'), insert into trayecto (id_pasajero, id_trayecto, inicio, fin) values (75, 368, '2020-08-22 06:47:31', '2019-10-10 10:44:00'), insert into trayecto (id_pasajero, id_trayecto, inicio, fin) values (62, 346, '2019-07-23 18:52:33', '2016-02-22 19:22:58'), insert into trayecto (id_pasajero, id_trayecto, inicio, fin) values (11, 319, '2016-05-09 22:11:01', '2019-11-24 08:01:30'), insert into trayecto (id_pasajero, id_trayecto, inicio, fin) values (7, 273, '2020-09-28 13:05:17', '2017-09-14 05:25:19'), insert into trayecto (id_pasajero, id_trayecto, inicio, fin) values (80, 280, '2019-03-02 11:38:07', '2020-10-19 08:55:21'), insert into trayecto (id_pasajero, id_trayecto, inicio, fin) values (92, 345, '2020-01-15 22:54:32', '2018-05-03 01:15:50'), insert into trayecto (id_pasajero, id_trayecto, inicio, fin) values (95, 371, '2020-09-10 05:37:14', '2016-04-01 09:19:44'), insert into trayecto (id_pasajero, id_trayecto, inicio, fin) values (61, 323, '2017-03-31 06:31:29', '2017-10-24 06:59:17'), insert into trayecto (id_pasajero, id_trayecto, inicio, fin) values (72, 303, '2019-03-02 17:53:15', '2016-04-29 23:08:42'), insert into trayecto (id_pasajero, id_trayecto, inicio, fin) values (89, 358, '2019-10-18 20:40:47', '2020-06-28 12:03:02'), insert into trayecto (id_pasajero, id_trayecto, inicio, fin) values (57, 328, '2018-05-18 20:46:21', '2016-05-28 13:57:10'), insert into trayecto (id_pasajero, id_trayecto, inicio, fin) values (63, 288, '2018-09-01 16:10:41', '2020-10-15 21:46:56'), insert into trayecto (id_pasajero, id_trayecto, inicio, fin) values (42, 333, '2017-07-09 08:26:06', '2020-03-11 13:10:35'), insert into trayecto (id_pasajero, id_trayecto, inicio, fin) values (12, 338, '2020-03-20 05:09:40', '2019-07-02 13:02:08'), insert into trayecto (id_pasajero, id_trayecto, inicio, fin) values (50, 328, '2020-06-20 23:10:21', '2017-06-13 10:48:30'), insert into trayecto (id_pasajero, id_trayecto, inicio, fin) values (76, 324, '2018-07-29 16:50:09', '2019-01-05 21:24:56'), insert into trayecto (id_pasajero, id_trayecto, inicio, fin) values (20, 318, '2016-01-05 05:56:11', '2020-03-02 04:00:40'), insert into trayecto (id_pasajero, id_trayecto, inicio, fin) values (15, 363, '2021-01-27 21:49:40', '2019-08-20 06:58:04'), insert into trayecto (id_pasajero, id_trayecto, inicio, fin) values (27, 366, '2016-05-13 09:33:39', '2017-12-21 16:23:17'), insert into trayecto (id_pasajero, id_trayecto, inicio, fin) values (10, 276, '2017-10-22 04:55:46', '2018-08-17 20:42:25'), insert into trayecto (id_pasajero, id_trayecto, inicio, fin) values (77, 288, '2016-10-27 05:32:22', '2018-05-10 01:37:22'), insert into trayecto (id_pasajero, id_trayecto, inicio, fin) values (35, 273, '2017-11-12 04:12:00', '2019-03-15 17:58:37'), insert into trayecto (id_pasajero, id_trayecto, inicio, fin) values (97, 315, '2017-09-06 15:37:14', '2017-10-25 06:41:06'), insert into trayecto (id_pasajero, id_trayecto, inicio, fin) values (87, 294, '2018-07-04 23:35:40', '2016-11-18 06:56:36'), insert into trayecto (id_pasajero, id_trayecto, inicio, fin) values (56, 338, '2018-08-15 00:05:36', '2018-12-01 20:39:25'), insert into trayecto (id_pasajero, id_trayecto, inicio, fin) values (47, 283, '2018-05-20 21:27:12', '2018-08-31 08:27:52'), insert into trayecto (id_pasajero, id_trayecto, inicio, fin) values (47, 333, '2016-07-27 22:33:25', '2021-01-14 14:24:49'), insert into trayecto (id_pasajero, id_trayecto, inicio, fin) values (77, 370, '2017-09-20 18:24:32', '2016-09-08 09:34:06'), insert into trayecto (id_pasajero, id_trayecto, inicio, fin) values (98, 286, '2017-10-21 08:26:22', '2016-11-04 07:51:04'), insert into trayecto (id_pasajero, id_trayecto, inicio, fin) values (74, 290, '2020-12-17 04:06:43', '2016-09-05 11:26:57'), insert into trayecto (id_pasajero, id_trayecto, inicio, fin) values (11, 351, '2020-07-04 02:12:18', '2020-12-09 00:47:52'), insert into trayecto (id_pasajero, id_trayecto, inicio, fin) values (33, 351, '2019-07-01 20:54:34', '2019-09-07 21:39:13'), insert into trayecto (id_pasajero, id_trayecto, inicio, fin) values (93, 349, '2020-09-14 07:09:21', '2017-08-06 23:28:43'), insert into trayecto (id_pasajero, id_trayecto, inicio, fin) values (32, 329, '2018-09-27 11:06:48', '2016-12-03 13:49:11'), insert into trayecto (id_pasajero, id_trayecto, inicio, fin) values (85, 306, '2018-10-20 09:20:58', '2017-10-29 22:14:57'), insert into trayecto (id_pasajero, id_trayecto, inicio, fin) values (44, 351, '2020-03-22 09:54:45', '2020-11-05 15:48:12'), insert into trayecto (id_pasajero, id_trayecto, inicio, fin) values (45, 367, '2019-06-14 06:54:25', '2017-03-18 11:28:53'), insert into trayecto (id_pasajero, id_trayecto, inicio, fin) values (34, 272, '2017-07-11 04:51:36', '2019-08-22 09:02:36'), insert into trayecto (id_pasajero, id_trayecto, inicio, fin) values (13, 287, '2019-01-10 09:47:19', '2017-12-08 19:25:40'), insert into trayecto (id_pasajero, id_trayecto, inicio, fin) values (61, 300, '2019-12-28 05:24:56', '2016-08-07 19:05:47'), insert into trayecto (id_pasajero, id_trayecto, inicio, fin) values (50, 277, '2020-02-28 01:23:58', '2017-11-08 09:15:12'), insert into trayecto (id_pasajero, id_trayecto, inicio, fin) values (56, 362, '2020-08-04 01:32:40', '2018-04-22 07:19:47'), insert into trayecto (id_pasajero, id_trayecto, inicio, fin) values (61, 301, '2018-11-02 00:16:53', '2020-05-05 08:26:29'), insert into trayecto (id_pasajero, id_trayecto, inicio, fin) values (36, 346, '2016-09-16 14:54:04', '2016-03-31 13:42:33'), insert into trayecto (id_pasajero, id_trayecto, inicio, fin) values (31, 320, '2020-06-18 06:44:30', '2017-12-03 20:46:59'), insert into trayecto (id_pasajero, id_trayecto, inicio, fin) values (6, 325, '2016-08-06 19:17:43', '2019-03-17 18:07:39'), insert into trayecto (id_pasajero, id_trayecto, inicio, fin) values (1, 274, '2018-03-13 20:29:34', '2021-02-08 01:45:05'), insert into trayecto (id_pasajero, id_trayecto, inicio, fin) values (97, 316, '2020-04-01 16:26:11', '2019-07-28 03:01:24'), insert into trayecto (id_pasajero, id_trayecto, inicio, fin) values (54, 300, '2020-01-25 16:59:50', '2016-08-30 07:48:55'), insert into trayecto (id_pasajero, id_trayecto, inicio, fin) values (4, 343, '2017-05-09 07:28:34', '2016-07-22 19:20:38'), insert into trayecto (id_pasajero, id_trayecto, inicio, fin) values (38, 307, '2020-04-18 18:59:12', '2018-06-08 08:30:54'), insert into trayecto (id_pasajero, id_trayecto, inicio, fin) values (71, 310, '2018-01-19 04:48:42', '2016-05-09 02:01:34'), insert into trayecto (id_pasajero, id_trayecto, inicio, fin) values (22, 274, '2019-01-09 16:43:25', '2020-12-19 13:51:10'), insert into trayecto (id_pasajero, id_trayecto, inicio, fin) values (28, 342, '2016-02-02 20:29:37', '2017-11-12 23:35:19'), insert into trayecto (id_pasajero, id_trayecto, inicio, fin) values (20, 360, '2016-11-19 15:59:33', '2016-06-21 00:59:20'), insert into trayecto (id_pasajero, id_trayecto, inicio, fin) values (39, 298, '2019-02-11 10:38:45', '2017-07-07 06:08:41'), insert into trayecto (id_pasajero, id_trayecto, inicio, fin) values (52, 297, '2018-01-11 16:55:57', '2019-02-02 18:49:43'), insert into trayecto (id_pasajero, id_trayecto, inicio, fin) values (17, 274, '2019-10-17 18:43:25', '2018-09-18 17:51:59'), insert into trayecto (id_pasajero, id_trayecto, inicio, fin) values (100, 308, '2018-07-28 17:16:07', '2020-02-13 10:17:32'), insert into trayecto (id_pasajero, id_trayecto, inicio, fin) values (72, 311, '2018-10-01 11:21:01', '2018-03-23 08:47:01'), insert into trayecto (id_pasajero, id_trayecto, inicio, fin) values (100, 299, '2019-03-09 14:11:15', '2020-11-27 13:14:58'), insert into trayecto (id_pasajero, id_trayecto, inicio, fin) values (84, 292, '2016-04-26 21:34:33', '2020-11-29 19:45:37'), insert into trayecto (id_pasajero, id_trayecto, inicio, fin) values (83, 354, '2020-08-20 23:29:46', '2018-08-27 08:16:36'), insert into trayecto (id_pasajero, id_trayecto, inicio, fin) values (21, 283, '2016-05-11 08:56:18', '2019-06-08 09:37:16'), insert into trayecto (id_pasajero, id_trayecto, inicio, fin) values (96, 353, '2016-08-25 11:12:30', '2017-05-25 01:37:43'), insert into trayecto (id_pasajero, id_trayecto, inicio, fin) values (9, 369, '2018-01-19 06:06:59', '2020-04-14 07:34:02'), insert into trayecto (id_pasajero, id_trayecto, inicio, fin) values (6, 311, '2019-05-08 22:55:28', '2016-05-31 09:15:26'), insert into trayecto (id_pasajero, id_trayecto, inicio, fin) values (70, 276, '2019-11-26 15:23:01', '2018-10-20 05:57:11'), insert into trayecto (id_pasajero, id_trayecto, inicio, fin) values (9, 298, '2019-12-02 05:31:01', '2019-03-18 18:43:45'), insert into trayecto (id_pasajero, id_trayecto, inicio, fin) values (50, 330, '2017-10-16 12:20:14', '2021-01-20 18:09:12'), insert into trayecto (id_pasajero, id_trayecto, inicio, fin) values (41, 278, '2018-06-27 00:27:12', '2017-01-05 06:57:30'), insert into trayecto (id_pasajero, id_trayecto, inicio, fin) values (18, 366, '2020-07-16 09:29:52', '2018-08-21 09:16:39'), insert into trayecto (id_pasajero, id_trayecto, inicio, fin) values (57, 306, '2020-03-26 03:08:57', '2018-10-15 11:26:21'), insert into trayecto (id_pasajero, id_trayecto, inicio, fin) values (15, 295, '2016-07-09 19:21:59', '2016-09-26 14:39:01'), insert into trayecto (id_pasajero, id_trayecto, inicio, fin) values (61, 327, '2017-12-23 22:58:51', '2019-02-26 02:17:37'), insert into trayecto (id_pasajero, id_trayecto, inicio, fin) values (45, 323, '2019-03-02 11:35:53', '2016-12-24 08:29:52'), insert into trayecto (id_pasajero, id_trayecto, inicio, fin) values (16, 363, '2017-11-28 15:42:58', '2017-12-27 20:17:22'), insert into trayecto (id_pasajero, id_trayecto, inicio, fin) values (23, 281, '2020-11-20 23:54:00', '2018-09-25 20:08:07'), insert into trayecto (id_pasajero, id_trayecto, inicio, fin) values (46, 297, '2018-11-14 23:22:00', '2019-05-19 23:43:38'), insert into trayecto (id_pasajero, id_trayecto, inicio, fin) values (76, 308, '2018-03-03 01:42:07', '2019-07-23 09:48:20'), insert into trayecto (id_pasajero, id_trayecto, inicio, fin) values (91, 357, '2017-06-12 16:40:07', '2019-08-28 05:27:05'), insert into trayecto (id_pasajero, id_trayecto, inicio, fin) values (52, 289, '2017-03-06 01:10:45', '2019-01-07 18:46:53'), insert into trayecto (id_pasajero, id_trayecto, inicio, fin) values (84, 357, '2018-07-14 00:26:41', '2019-07-11 03:22:08'), insert into trayecto (id_pasajero, id_trayecto, inicio, fin) values (14, 328, '2017-09-18 00:54:27', '2020-10-27 20:37:51'), insert into trayecto (id_pasajero, id_trayecto, inicio, fin) values (40, 292, '2019-07-12 07:29:14', '2019-10-30 22:38:35'))\n</div>",
       "datasetInfos": [],
       "metadata": {},
       "removedWidgets": [],
       "type": "html"
      }
     },
     "output_type": "display_data"
    }
   ],
   "source": [
    "%scala\n",
    "import scala.io.Source\n",
    "\n",
    "// Leer el archivo .sql desde DBFS\n",
    "val sqlFilePath = \"/dbfs/FileStore/tables/viaje.sql\"\n",
    "val sqlScript = Source.fromFile(sqlFilePath).getLines.mkString(\"\\n\")\n",
    "\n",
    "// Dividir el script en comandos individuales y excluir el último elemento vacío\n",
    "val commands = sqlScript.split(\";\").map(_.trim).filter(_.nonEmpty)\n",
    "\n",
    "// Ejecutar cada comando del script SQL en Databricks\n",
    "commands.foreach { command =>\n",
    "  try {\n",
    "    spark.sql(command)\n",
    "  } catch {\n",
    "    case e: Exception =>\n",
    "      println(s\"Error executing command: $command\\n$e\")\n",
    "  }\n",
    "}"
   ]
  },
  {
   "cell_type": "code",
   "execution_count": 0,
   "metadata": {
    "application/vnd.databricks.v1+cell": {
     "cellMetadata": {
      "byteLimit": 2048000,
      "rowLimit": 10000
     },
     "inputWidgets": {},
     "nuid": "8bd2b51f-0eba-4051-b7ad-1a855d28ea47",
     "showTitle": false,
     "tableResultSettingsMap": {},
     "title": ""
    }
   },
   "outputs": [
    {
     "output_type": "display_data",
     "data": {
      "text/html": [
       "<style scoped>\n",
       "  .table-result-container {\n",
       "    max-height: 300px;\n",
       "    overflow: auto;\n",
       "  }\n",
       "  table, th, td {\n",
       "    border: 1px solid black;\n",
       "    border-collapse: collapse;\n",
       "  }\n",
       "  th, td {\n",
       "    padding: 5px;\n",
       "  }\n",
       "  th {\n",
       "    text-align: left;\n",
       "  }\n",
       "</style><div class='table-result-container'><table class='table-result'><thead style='background-color: white'><tr><th>id_pasajero</th><th>id_trayecto</th><th>inicio</th><th>fin</th></tr></thead><tbody><tr><td>79</td><td>277</td><td>2017-04-08T23:24:33Z</td><td>2018-10-15T16:12:30Z</td></tr><tr><td>98</td><td>286</td><td>2017-10-21T08:26:22Z</td><td>2016-11-04T07:51:04Z</td></tr><tr><td>72</td><td>303</td><td>2019-03-02T17:53:15Z</td><td>2016-04-29T23:08:42Z</td></tr><tr><td>39</td><td>274</td><td>2019-03-28T00:24:27Z</td><td>2021-01-16T17:45:55Z</td></tr><tr><td>42</td><td>333</td><td>2017-07-09T08:26:06Z</td><td>2020-03-11T13:10:35Z</td></tr><tr><td>95</td><td>371</td><td>2020-09-10T05:37:14Z</td><td>2016-04-01T09:19:44Z</td></tr><tr><td>31</td><td>320</td><td>2020-06-18T06:44:30Z</td><td>2017-12-03T20:46:59Z</td></tr><tr><td>100</td><td>308</td><td>2018-07-28T17:16:07Z</td><td>2020-02-13T10:17:32Z</td></tr><tr><td>61</td><td>301</td><td>2018-11-02T00:16:53Z</td><td>2020-05-05T08:26:29Z</td></tr><tr><td>76</td><td>365</td><td>2016-09-12T11:30:51Z</td><td>2020-02-02T11:21:04Z</td></tr><tr><td>29</td><td>317</td><td>2018-08-12T07:59:39Z</td><td>2018-12-10T11:41:09Z</td></tr><tr><td>95</td><td>371</td><td>2020-09-10T05:37:14Z</td><td>2016-04-01T09:19:44Z</td></tr><tr><td>92</td><td>345</td><td>2020-01-15T22:54:32Z</td><td>2018-05-03T01:15:50Z</td></tr><tr><td>96</td><td>368</td><td>2020-02-24T17:42:57Z</td><td>2019-12-18T12:34:42Z</td></tr><tr><td>84</td><td>357</td><td>2018-07-14T00:26:41Z</td><td>2019-07-11T03:22:08Z</td></tr><tr><td>56</td><td>362</td><td>2020-08-04T01:32:40Z</td><td>2018-04-22T07:19:47Z</td></tr><tr><td>39</td><td>274</td><td>2019-03-28T00:24:27Z</td><td>2021-01-16T17:45:55Z</td></tr><tr><td>97</td><td>315</td><td>2017-09-06T15:37:14Z</td><td>2017-10-25T06:41:06Z</td></tr><tr><td>95</td><td>371</td><td>2020-09-10T05:37:14Z</td><td>2016-04-01T09:19:44Z</td></tr><tr><td>100</td><td>308</td><td>2018-07-28T17:16:07Z</td><td>2020-02-13T10:17:32Z</td></tr><tr><td>84</td><td>292</td><td>2016-04-26T21:34:33Z</td><td>2020-11-29T19:45:37Z</td></tr><tr><td>57</td><td>306</td><td>2020-03-26T03:08:57Z</td><td>2018-10-15T11:26:21Z</td></tr><tr><td>89</td><td>287</td><td>2020-06-26T13:16:30Z</td><td>2016-11-09T08:14:42Z</td></tr><tr><td>15</td><td>295</td><td>2016-07-09T19:21:59Z</td><td>2016-09-26T14:39:01Z</td></tr><tr><td>40</td><td>292</td><td>2019-07-12T07:29:14Z</td><td>2019-10-30T22:38:35Z</td></tr><tr><td>96</td><td>353</td><td>2016-08-25T11:12:30Z</td><td>2017-05-25T01:37:43Z</td></tr><tr><td>29</td><td>317</td><td>2018-08-12T07:59:39Z</td><td>2018-12-10T11:41:09Z</td></tr><tr><td>41</td><td>278</td><td>2018-06-27T00:27:12Z</td><td>2017-01-05T06:57:30Z</td></tr><tr><td>89</td><td>358</td><td>2019-10-18T20:40:47Z</td><td>2020-06-28T12:03:02Z</td></tr><tr><td>84</td><td>299</td><td>2019-01-08T13:22:25Z</td><td>2020-02-21T10:45:38Z</td></tr><tr><td>47</td><td>333</td><td>2016-07-27T22:33:25Z</td><td>2021-01-14T14:24:49Z</td></tr><tr><td>83</td><td>354</td><td>2020-08-20T23:29:46Z</td><td>2018-08-27T08:16:36Z</td></tr><tr><td>9</td><td>298</td><td>2019-12-02T05:31:01Z</td><td>2019-03-18T18:43:45Z</td></tr><tr><td>14</td><td>328</td><td>2017-09-18T00:54:27Z</td><td>2020-10-27T20:37:51Z</td></tr><tr><td>91</td><td>357</td><td>2017-06-12T16:40:07Z</td><td>2019-08-28T05:27:05Z</td></tr><tr><td>75</td><td>368</td><td>2020-08-22T06:47:31Z</td><td>2019-10-10T10:44:00Z</td></tr><tr><td>42</td><td>333</td><td>2017-07-09T08:26:06Z</td><td>2020-03-11T13:10:35Z</td></tr><tr><td>27</td><td>366</td><td>2016-05-13T09:33:39Z</td><td>2017-12-21T16:23:17Z</td></tr><tr><td>23</td><td>281</td><td>2020-11-20T23:54:00Z</td><td>2018-09-25T20:08:07Z</td></tr><tr><td>87</td><td>294</td><td>2018-07-04T23:35:40Z</td><td>2016-11-18T06:56:36Z</td></tr><tr><td>71</td><td>310</td><td>2018-01-19T04:48:42Z</td><td>2016-05-09T02:01:34Z</td></tr><tr><td>13</td><td>292</td><td>2020-11-05T18:50:29Z</td><td>2020-06-01T13:14:45Z</td></tr><tr><td>6</td><td>288</td><td>2018-04-28T00:25:20Z</td><td>2016-04-16T19:11:05Z</td></tr><tr><td>14</td><td>356</td><td>2018-12-31T09:05:39Z</td><td>2016-11-17T18:35:57Z</td></tr><tr><td>9</td><td>369</td><td>2018-01-19T06:06:59Z</td><td>2020-04-14T07:34:02Z</td></tr><tr><td>1</td><td>274</td><td>2018-03-13T20:29:34Z</td><td>2021-02-08T01:45:05Z</td></tr><tr><td>22</td><td>274</td><td>2019-01-09T16:43:25Z</td><td>2020-12-19T13:51:10Z</td></tr><tr><td>50</td><td>328</td><td>2020-06-20T23:10:21Z</td><td>2017-06-13T10:48:30Z</td></tr><tr><td>71</td><td>310</td><td>2018-01-19T04:48:42Z</td><td>2016-05-09T02:01:34Z</td></tr><tr><td>50</td><td>330</td><td>2017-10-16T12:20:14Z</td><td>2021-01-20T18:09:12Z</td></tr><tr><td>89</td><td>287</td><td>2020-06-26T13:16:30Z</td><td>2016-11-09T08:14:42Z</td></tr><tr><td>93</td><td>349</td><td>2020-09-14T07:09:21Z</td><td>2017-08-06T23:28:43Z</td></tr><tr><td>92</td><td>297</td><td>2018-06-01T01:43:39Z</td><td>2018-07-29T05:24:59Z</td></tr><tr><td>97</td><td>287</td><td>2017-04-30T02:04:01Z</td><td>2017-05-31T20:36:03Z</td></tr><tr><td>77</td><td>370</td><td>2017-09-20T18:24:32Z</td><td>2016-09-08T09:34:06Z</td></tr><tr><td>85</td><td>306</td><td>2018-10-20T09:20:58Z</td><td>2017-10-29T22:14:57Z</td></tr><tr><td>79</td><td>277</td><td>2017-04-08T23:24:33Z</td><td>2018-10-15T16:12:30Z</td></tr><tr><td>6</td><td>288</td><td>2018-04-28T00:25:20Z</td><td>2016-04-16T19:11:05Z</td></tr><tr><td>84</td><td>357</td><td>2018-07-14T00:26:41Z</td><td>2019-07-11T03:22:08Z</td></tr><tr><td>39</td><td>298</td><td>2019-02-11T10:38:45Z</td><td>2017-07-07T06:08:41Z</td></tr><tr><td>15</td><td>295</td><td>2016-07-09T19:21:59Z</td><td>2016-09-26T14:39:01Z</td></tr><tr><td>79</td><td>277</td><td>2017-04-08T23:24:33Z</td><td>2018-10-15T16:12:30Z</td></tr><tr><td>4</td><td>343</td><td>2017-05-09T07:28:34Z</td><td>2016-07-22T19:20:38Z</td></tr><tr><td>93</td><td>349</td><td>2020-09-14T07:09:21Z</td><td>2017-08-06T23:28:43Z</td></tr><tr><td>20</td><td>360</td><td>2016-11-19T15:59:33Z</td><td>2016-06-21T00:59:20Z</td></tr><tr><td>100</td><td>308</td><td>2018-07-28T17:16:07Z</td><td>2020-02-13T10:17:32Z</td></tr><tr><td>4</td><td>343</td><td>2017-05-09T07:28:34Z</td><td>2016-07-22T19:20:38Z</td></tr><tr><td>21</td><td>283</td><td>2016-05-11T08:56:18Z</td><td>2019-06-08T09:37:16Z</td></tr><tr><td>29</td><td>317</td><td>2018-08-12T07:59:39Z</td><td>2018-12-10T11:41:09Z</td></tr><tr><td>32</td><td>329</td><td>2018-09-27T11:06:48Z</td><td>2016-12-03T13:49:11Z</td></tr><tr><td>72</td><td>311</td><td>2018-10-01T11:21:01Z</td><td>2018-03-23T08:47:01Z</td></tr><tr><td>72</td><td>311</td><td>2018-10-01T11:21:01Z</td><td>2018-03-23T08:47:01Z</td></tr><tr><td>14</td><td>356</td><td>2018-12-31T09:05:39Z</td><td>2016-11-17T18:35:57Z</td></tr><tr><td>77</td><td>288</td><td>2016-10-27T05:32:22Z</td><td>2018-05-10T01:37:22Z</td></tr><tr><td>85</td><td>306</td><td>2018-10-20T09:20:58Z</td><td>2017-10-29T22:14:57Z</td></tr><tr><td>92</td><td>297</td><td>2018-06-01T01:43:39Z</td><td>2018-07-29T05:24:59Z</td></tr><tr><td>83</td><td>354</td><td>2020-08-20T23:29:46Z</td><td>2018-08-27T08:16:36Z</td></tr><tr><td>50</td><td>330</td><td>2017-10-16T12:20:14Z</td><td>2021-01-20T18:09:12Z</td></tr><tr><td>96</td><td>368</td><td>2020-02-24T17:42:57Z</td><td>2019-12-18T12:34:42Z</td></tr><tr><td>47</td><td>333</td><td>2016-07-27T22:33:25Z</td><td>2021-01-14T14:24:49Z</td></tr><tr><td>84</td><td>299</td><td>2019-01-08T13:22:25Z</td><td>2020-02-21T10:45:38Z</td></tr><tr><td>45</td><td>323</td><td>2019-03-02T11:35:53Z</td><td>2016-12-24T08:29:52Z</td></tr><tr><td>39</td><td>298</td><td>2019-02-11T10:38:45Z</td><td>2017-07-07T06:08:41Z</td></tr><tr><td>97</td><td>316</td><td>2020-04-01T16:26:11Z</td><td>2019-07-28T03:01:24Z</td></tr><tr><td>1</td><td>274</td><td>2018-03-13T20:29:34Z</td><td>2021-02-08T01:45:05Z</td></tr><tr><td>32</td><td>329</td><td>2018-09-27T11:06:48Z</td><td>2016-12-03T13:49:11Z</td></tr><tr><td>32</td><td>329</td><td>2018-09-27T11:06:48Z</td><td>2016-12-03T13:49:11Z</td></tr><tr><td>6</td><td>311</td><td>2019-05-08T22:55:28Z</td><td>2016-05-31T09:15:26Z</td></tr><tr><td>96</td><td>368</td><td>2020-02-24T17:42:57Z</td><td>2019-12-18T12:34:42Z</td></tr><tr><td>41</td><td>278</td><td>2018-06-27T00:27:12Z</td><td>2017-01-05T06:57:30Z</td></tr><tr><td>13</td><td>287</td><td>2019-01-10T09:47:19Z</td><td>2017-12-08T19:25:40Z</td></tr><tr><td>27</td><td>366</td><td>2016-05-13T09:33:39Z</td><td>2017-12-21T16:23:17Z</td></tr><tr><td>13</td><td>287</td><td>2019-01-10T09:47:19Z</td><td>2017-12-08T19:25:40Z</td></tr><tr><td>45</td><td>323</td><td>2019-03-02T11:35:53Z</td><td>2016-12-24T08:29:52Z</td></tr><tr><td>23</td><td>281</td><td>2020-11-20T23:54:00Z</td><td>2018-09-25T20:08:07Z</td></tr><tr><td>57</td><td>306</td><td>2020-03-26T03:08:57Z</td><td>2018-10-15T11:26:21Z</td></tr><tr><td>97</td><td>316</td><td>2020-04-01T16:26:11Z</td><td>2019-07-28T03:01:24Z</td></tr><tr><td>6</td><td>325</td><td>2016-08-06T19:17:43Z</td><td>2019-03-17T18:07:39Z</td></tr><tr><td>50</td><td>330</td><td>2017-10-16T12:20:14Z</td><td>2021-01-20T18:09:12Z</td></tr><tr><td>97</td><td>316</td><td>2020-04-01T16:26:11Z</td><td>2019-07-28T03:01:24Z</td></tr><tr><td>9</td><td>369</td><td>2018-01-19T06:06:59Z</td><td>2020-04-14T07:34:02Z</td></tr><tr><td>33</td><td>351</td><td>2019-07-01T20:54:34Z</td><td>2019-09-07T21:39:13Z</td></tr><tr><td>84</td><td>299</td><td>2019-01-08T13:22:25Z</td><td>2020-02-21T10:45:38Z</td></tr><tr><td>1</td><td>274</td><td>2018-03-13T20:29:34Z</td><td>2021-02-08T01:45:05Z</td></tr><tr><td>6</td><td>325</td><td>2016-08-06T19:17:43Z</td><td>2019-03-17T18:07:39Z</td></tr><tr><td>38</td><td>307</td><td>2020-04-18T18:59:12Z</td><td>2018-06-08T08:30:54Z</td></tr><tr><td>9</td><td>298</td><td>2019-12-02T05:31:01Z</td><td>2019-03-18T18:43:45Z</td></tr><tr><td>70</td><td>276</td><td>2019-11-26T15:23:01Z</td><td>2018-10-20T05:57:11Z</td></tr><tr><td>22</td><td>274</td><td>2019-01-09T16:43:25Z</td><td>2020-12-19T13:51:10Z</td></tr><tr><td>41</td><td>278</td><td>2018-06-27T00:27:12Z</td><td>2017-01-05T06:57:30Z</td></tr><tr><td>47</td><td>283</td><td>2018-05-20T21:27:12Z</td><td>2018-08-31T08:27:52Z</td></tr><tr><td>100</td><td>299</td><td>2019-03-09T14:11:15Z</td><td>2020-11-27T13:14:58Z</td></tr><tr><td>47</td><td>283</td><td>2018-05-20T21:27:12Z</td><td>2018-08-31T08:27:52Z</td></tr><tr><td>61</td><td>301</td><td>2018-11-02T00:16:53Z</td><td>2020-05-05T08:26:29Z</td></tr><tr><td>76</td><td>365</td><td>2016-09-12T11:30:51Z</td><td>2020-02-02T11:21:04Z</td></tr><tr><td>70</td><td>276</td><td>2019-11-26T15:23:01Z</td><td>2018-10-20T05:57:11Z</td></tr><tr><td>72</td><td>311</td><td>2018-10-01T11:21:01Z</td><td>2018-03-23T08:47:01Z</td></tr><tr><td>42</td><td>333</td><td>2017-07-09T08:26:06Z</td><td>2020-03-11T13:10:35Z</td></tr><tr><td>52</td><td>289</td><td>2017-03-06T01:10:45Z</td><td>2019-01-07T18:46:53Z</td></tr><tr><td>31</td><td>320</td><td>2020-06-18T06:44:30Z</td><td>2017-12-03T20:46:59Z</td></tr><tr><td>75</td><td>368</td><td>2020-08-22T06:47:31Z</td><td>2019-10-10T10:44:00Z</td></tr><tr><td>98</td><td>286</td><td>2017-10-21T08:26:22Z</td><td>2016-11-04T07:51:04Z</td></tr><tr><td>93</td><td>349</td><td>2020-09-14T07:09:21Z</td><td>2017-08-06T23:28:43Z</td></tr><tr><td>18</td><td>366</td><td>2020-07-16T09:29:52Z</td><td>2018-08-21T09:16:39Z</td></tr><tr><td>61</td><td>323</td><td>2017-03-31T06:31:29Z</td><td>2017-10-24T06:59:17Z</td></tr><tr><td>31</td><td>320</td><td>2020-06-18T06:44:30Z</td><td>2017-12-03T20:46:59Z</td></tr><tr><td>21</td><td>283</td><td>2016-05-11T08:56:18Z</td><td>2019-06-08T09:37:16Z</td></tr><tr><td>11</td><td>351</td><td>2020-07-04T02:12:18Z</td><td>2020-12-09T00:47:52Z</td></tr><tr><td>11</td><td>319</td><td>2016-05-09T22:11:01Z</td><td>2019-11-24T08:01:30Z</td></tr><tr><td>85</td><td>306</td><td>2018-10-20T09:20:58Z</td><td>2017-10-29T22:14:57Z</td></tr><tr><td>12</td><td>338</td><td>2020-03-20T05:09:40Z</td><td>2019-07-02T13:02:08Z</td></tr><tr><td>72</td><td>303</td><td>2019-03-02T17:53:15Z</td><td>2016-04-29T23:08:42Z</td></tr><tr><td>37</td><td>320</td><td>2017-08-06T16:32:28Z</td><td>2017-03-29T15:41:16Z</td></tr><tr><td>46</td><td>297</td><td>2018-11-14T23:22:00Z</td><td>2019-05-19T23:43:38Z</td></tr><tr><td>39</td><td>274</td><td>2019-03-28T00:24:27Z</td><td>2021-01-16T17:45:55Z</td></tr><tr><td>84</td><td>292</td><td>2016-04-26T21:34:33Z</td><td>2020-11-29T19:45:37Z</td></tr><tr><td>76</td><td>365</td><td>2016-09-12T11:30:51Z</td><td>2020-02-02T11:21:04Z</td></tr><tr><td>56</td><td>362</td><td>2020-08-04T01:32:40Z</td><td>2018-04-22T07:19:47Z</td></tr><tr><td>77</td><td>288</td><td>2016-10-27T05:32:22Z</td><td>2018-05-10T01:37:22Z</td></tr><tr><td>92</td><td>345</td><td>2020-01-15T22:54:32Z</td><td>2018-05-03T01:15:50Z</td></tr><tr><td>89</td><td>358</td><td>2019-10-18T20:40:47Z</td><td>2020-06-28T12:03:02Z</td></tr><tr><td>13</td><td>287</td><td>2019-01-10T09:47:19Z</td><td>2017-12-08T19:25:40Z</td></tr><tr><td>83</td><td>354</td><td>2020-08-20T23:29:46Z</td><td>2018-08-27T08:16:36Z</td></tr><tr><td>56</td><td>362</td><td>2020-08-04T01:32:40Z</td><td>2018-04-22T07:19:47Z</td></tr><tr><td>47</td><td>283</td><td>2018-05-20T21:27:12Z</td><td>2018-08-31T08:27:52Z</td></tr><tr><td>57</td><td>328</td><td>2018-05-18T20:46:21Z</td><td>2016-05-28T13:57:10Z</td></tr><tr><td>97</td><td>315</td><td>2017-09-06T15:37:14Z</td><td>2017-10-25T06:41:06Z</td></tr><tr><td>40</td><td>292</td><td>2019-07-12T07:29:14Z</td><td>2019-10-30T22:38:35Z</td></tr><tr><td>12</td><td>338</td><td>2020-03-20T05:09:40Z</td><td>2019-07-02T13:02:08Z</td></tr><tr><td>76</td><td>308</td><td>2018-03-03T01:42:07Z</td><td>2019-07-23T09:48:20Z</td></tr><tr><td>77</td><td>370</td><td>2017-09-20T18:24:32Z</td><td>2016-09-08T09:34:06Z</td></tr><tr><td>6</td><td>288</td><td>2018-04-28T00:25:20Z</td><td>2016-04-16T19:11:05Z</td></tr><tr><td>45</td><td>367</td><td>2019-06-14T06:54:25Z</td><td>2017-03-18T11:28:53Z</td></tr><tr><td>57</td><td>306</td><td>2020-03-26T03:08:57Z</td><td>2018-10-15T11:26:21Z</td></tr><tr><td>92</td><td>297</td><td>2018-06-01T01:43:39Z</td><td>2018-07-29T05:24:59Z</td></tr><tr><td>61</td><td>323</td><td>2017-03-31T06:31:29Z</td><td>2017-10-24T06:59:17Z</td></tr><tr><td>38</td><td>307</td><td>2020-04-18T18:59:12Z</td><td>2018-06-08T08:30:54Z</td></tr><tr><td>100</td><td>299</td><td>2019-03-09T14:11:15Z</td><td>2020-11-27T13:14:58Z</td></tr><tr><td>57</td><td>328</td><td>2018-05-18T20:46:21Z</td><td>2016-05-28T13:57:10Z</td></tr><tr><td>36</td><td>346</td><td>2016-09-16T14:54:04Z</td><td>2016-03-31T13:42:33Z</td></tr><tr><td>89</td><td>358</td><td>2019-10-18T20:40:47Z</td><td>2020-06-28T12:03:02Z</td></tr><tr><td>36</td><td>346</td><td>2016-09-16T14:54:04Z</td><td>2016-03-31T13:42:33Z</td></tr><tr><td>18</td><td>366</td><td>2020-07-16T09:29:52Z</td><td>2018-08-21T09:16:39Z</td></tr><tr><td>6</td><td>311</td><td>2019-05-08T22:55:28Z</td><td>2016-05-31T09:15:26Z</td></tr><tr><td>84</td><td>292</td><td>2016-04-26T21:34:33Z</td><td>2020-11-29T19:45:37Z</td></tr><tr><td>38</td><td>307</td><td>2020-04-18T18:59:12Z</td><td>2018-06-08T08:30:54Z</td></tr><tr><td>91</td><td>357</td><td>2017-06-12T16:40:07Z</td><td>2019-08-28T05:27:05Z</td></tr><tr><td>34</td><td>272</td><td>2017-07-11T04:51:36Z</td><td>2019-08-22T09:02:36Z</td></tr><tr><td>22</td><td>274</td><td>2019-01-09T16:43:25Z</td><td>2020-12-19T13:51:10Z</td></tr><tr><td>57</td><td>328</td><td>2018-05-18T20:46:21Z</td><td>2016-05-28T13:57:10Z</td></tr><tr><td>61</td><td>323</td><td>2017-03-31T06:31:29Z</td><td>2017-10-24T06:59:17Z</td></tr><tr><td>11</td><td>351</td><td>2020-07-04T02:12:18Z</td><td>2020-12-09T00:47:52Z</td></tr><tr><td>96</td><td>353</td><td>2016-08-25T11:12:30Z</td><td>2017-05-25T01:37:43Z</td></tr><tr><td>77</td><td>370</td><td>2017-09-20T18:24:32Z</td><td>2016-09-08T09:34:06Z</td></tr><tr><td>34</td><td>272</td><td>2017-07-11T04:51:36Z</td><td>2019-08-22T09:02:36Z</td></tr><tr><td>27</td><td>366</td><td>2016-05-13T09:33:39Z</td><td>2017-12-21T16:23:17Z</td></tr><tr><td>11</td><td>319</td><td>2016-05-09T22:11:01Z</td><td>2019-11-24T08:01:30Z</td></tr><tr><td>52</td><td>289</td><td>2017-03-06T01:10:45Z</td><td>2019-01-07T18:46:53Z</td></tr><tr><td>4</td><td>343</td><td>2017-05-09T07:28:34Z</td><td>2016-07-22T19:20:38Z</td></tr><tr><td>33</td><td>351</td><td>2019-07-01T20:54:34Z</td><td>2019-09-07T21:39:13Z</td></tr><tr><td>13</td><td>292</td><td>2020-11-05T18:50:29Z</td><td>2020-06-01T13:14:45Z</td></tr><tr><td>72</td><td>303</td><td>2019-03-02T17:53:15Z</td><td>2016-04-29T23:08:42Z</td></tr><tr><td>13</td><td>292</td><td>2020-11-05T18:50:29Z</td><td>2020-06-01T13:14:45Z</td></tr><tr><td>39</td><td>298</td><td>2019-02-11T10:38:45Z</td><td>2017-07-07T06:08:41Z</td></tr><tr><td>45</td><td>367</td><td>2019-06-14T06:54:25Z</td><td>2017-03-18T11:28:53Z</td></tr><tr><td>97</td><td>287</td><td>2017-04-30T02:04:01Z</td><td>2017-05-31T20:36:03Z</td></tr><tr><td>12</td><td>338</td><td>2020-03-20T05:09:40Z</td><td>2019-07-02T13:02:08Z</td></tr><tr><td>21</td><td>283</td><td>2016-05-11T08:56:18Z</td><td>2019-06-08T09:37:16Z</td></tr><tr><td>98</td><td>286</td><td>2017-10-21T08:26:22Z</td><td>2016-11-04T07:51:04Z</td></tr><tr><td>6</td><td>325</td><td>2016-08-06T19:17:43Z</td><td>2019-03-17T18:07:39Z</td></tr><tr><td>97</td><td>315</td><td>2017-09-06T15:37:14Z</td><td>2017-10-25T06:41:06Z</td></tr><tr><td>75</td><td>368</td><td>2020-08-22T06:47:31Z</td><td>2019-10-10T10:44:00Z</td></tr><tr><td>6</td><td>311</td><td>2019-05-08T22:55:28Z</td><td>2016-05-31T09:15:26Z</td></tr><tr><td>11</td><td>351</td><td>2020-07-04T02:12:18Z</td><td>2020-12-09T00:47:52Z</td></tr><tr><td>33</td><td>351</td><td>2019-07-01T20:54:34Z</td><td>2019-09-07T21:39:13Z</td></tr><tr><td>47</td><td>333</td><td>2016-07-27T22:33:25Z</td><td>2021-01-14T14:24:49Z</td></tr><tr><td>34</td><td>272</td><td>2017-07-11T04:51:36Z</td><td>2019-08-22T09:02:36Z</td></tr><tr><td>18</td><td>366</td><td>2020-07-16T09:29:52Z</td><td>2018-08-21T09:16:39Z</td></tr><tr><td>50</td><td>328</td><td>2020-06-20T23:10:21Z</td><td>2017-06-13T10:48:30Z</td></tr><tr><td>9</td><td>298</td><td>2019-12-02T05:31:01Z</td><td>2019-03-18T18:43:45Z</td></tr><tr><td>77</td><td>288</td><td>2016-10-27T05:32:22Z</td><td>2018-05-10T01:37:22Z</td></tr><tr><td>37</td><td>320</td><td>2017-08-06T16:32:28Z</td><td>2017-03-29T15:41:16Z</td></tr><tr><td>61</td><td>301</td><td>2018-11-02T00:16:53Z</td><td>2020-05-05T08:26:29Z</td></tr><tr><td>50</td><td>328</td><td>2020-06-20T23:10:21Z</td><td>2017-06-13T10:48:30Z</td></tr><tr><td>76</td><td>308</td><td>2018-03-03T01:42:07Z</td><td>2019-07-23T09:48:20Z</td></tr><tr><td>36</td><td>346</td><td>2016-09-16T14:54:04Z</td><td>2016-03-31T13:42:33Z</td></tr><tr><td>14</td><td>328</td><td>2017-09-18T00:54:27Z</td><td>2020-10-27T20:37:51Z</td></tr><tr><td>9</td><td>369</td><td>2018-01-19T06:06:59Z</td><td>2020-04-14T07:34:02Z</td></tr><tr><td>100</td><td>299</td><td>2019-03-09T14:11:15Z</td><td>2020-11-27T13:14:58Z</td></tr><tr><td>20</td><td>360</td><td>2016-11-19T15:59:33Z</td><td>2016-06-21T00:59:20Z</td></tr><tr><td>11</td><td>319</td><td>2016-05-09T22:11:01Z</td><td>2019-11-24T08:01:30Z</td></tr><tr><td>20</td><td>360</td><td>2016-11-19T15:59:33Z</td><td>2016-06-21T00:59:20Z</td></tr><tr><td>87</td><td>294</td><td>2018-07-04T23:35:40Z</td><td>2016-11-18T06:56:36Z</td></tr><tr><td>37</td><td>320</td><td>2017-08-06T16:32:28Z</td><td>2017-03-29T15:41:16Z</td></tr><tr><td>89</td><td>287</td><td>2020-06-26T13:16:30Z</td><td>2016-11-09T08:14:42Z</td></tr><tr><td>70</td><td>276</td><td>2019-11-26T15:23:01Z</td><td>2018-10-20T05:57:11Z</td></tr><tr><td>92</td><td>345</td><td>2020-01-15T22:54:32Z</td><td>2018-05-03T01:15:50Z</td></tr><tr><td>45</td><td>367</td><td>2019-06-14T06:54:25Z</td><td>2017-03-18T11:28:53Z</td></tr><tr><td>46</td><td>297</td><td>2018-11-14T23:22:00Z</td><td>2019-05-19T23:43:38Z</td></tr><tr><td>87</td><td>294</td><td>2018-07-04T23:35:40Z</td><td>2016-11-18T06:56:36Z</td></tr><tr><td>96</td><td>353</td><td>2016-08-25T11:12:30Z</td><td>2017-05-25T01:37:43Z</td></tr><tr><td>97</td><td>287</td><td>2017-04-30T02:04:01Z</td><td>2017-05-31T20:36:03Z</td></tr><tr><td>71</td><td>310</td><td>2018-01-19T04:48:42Z</td><td>2016-05-09T02:01:34Z</td></tr><tr><td>14</td><td>356</td><td>2018-12-31T09:05:39Z</td><td>2016-11-17T18:35:57Z</td></tr><tr><td>23</td><td>281</td><td>2020-11-20T23:54:00Z</td><td>2018-09-25T20:08:07Z</td></tr><tr><td>46</td><td>297</td><td>2018-11-14T23:22:00Z</td><td>2019-05-19T23:43:38Z</td></tr><tr><td>15</td><td>295</td><td>2016-07-09T19:21:59Z</td><td>2016-09-26T14:39:01Z</td></tr><tr><td>45</td><td>323</td><td>2019-03-02T11:35:53Z</td><td>2016-12-24T08:29:52Z</td></tr><tr><td>52</td><td>289</td><td>2017-03-06T01:10:45Z</td><td>2019-01-07T18:46:53Z</td></tr><tr><td>14</td><td>328</td><td>2017-09-18T00:54:27Z</td><td>2020-10-27T20:37:51Z</td></tr><tr><td>76</td><td>308</td><td>2018-03-03T01:42:07Z</td><td>2019-07-23T09:48:20Z</td></tr><tr><td>84</td><td>357</td><td>2018-07-14T00:26:41Z</td><td>2019-07-11T03:22:08Z</td></tr><tr><td>40</td><td>292</td><td>2019-07-12T07:29:14Z</td><td>2019-10-30T22:38:35Z</td></tr><tr><td>91</td><td>357</td><td>2017-06-12T16:40:07Z</td><td>2019-08-28T05:27:05Z</td></tr><tr><td>35</td><td>273</td><td>2017-11-12T04:12:00Z</td><td>2019-03-15T17:58:37Z</td></tr><tr><td>61</td><td>300</td><td>2019-12-28T05:24:56Z</td><td>2016-08-07T19:05:47Z</td></tr><tr><td>15</td><td>363</td><td>2021-01-27T21:49:40Z</td><td>2019-08-20T06:58:04Z</td></tr><tr><td>19</td><td>272</td><td>2016-08-21T17:27:38Z</td><td>2020-06-14T11:32:27Z</td></tr><tr><td>62</td><td>346</td><td>2019-07-23T18:52:33Z</td><td>2016-02-22T19:22:58Z</td></tr><tr><td>16</td><td>363</td><td>2017-11-28T15:42:58Z</td><td>2017-12-27T20:17:22Z</td></tr><tr><td>10</td><td>276</td><td>2017-10-22T04:55:46Z</td><td>2018-08-17T20:42:25Z</td></tr><tr><td>17</td><td>274</td><td>2019-10-17T18:43:25Z</td><td>2018-09-18T17:51:59Z</td></tr><tr><td>15</td><td>363</td><td>2021-01-27T21:49:40Z</td><td>2019-08-20T06:58:04Z</td></tr><tr><td>52</td><td>297</td><td>2018-01-11T16:55:57Z</td><td>2019-02-02T18:49:43Z</td></tr><tr><td>17</td><td>274</td><td>2019-10-17T18:43:25Z</td><td>2018-09-18T17:51:59Z</td></tr><tr><td>52</td><td>297</td><td>2018-01-11T16:55:57Z</td><td>2019-02-02T18:49:43Z</td></tr><tr><td>76</td><td>324</td><td>2018-07-29T16:50:09Z</td><td>2019-01-05T21:24:56Z</td></tr><tr><td>61</td><td>300</td><td>2019-12-28T05:24:56Z</td><td>2016-08-07T19:05:47Z</td></tr><tr><td>35</td><td>273</td><td>2017-11-12T04:12:00Z</td><td>2019-03-15T17:58:37Z</td></tr><tr><td>16</td><td>363</td><td>2017-11-28T15:42:58Z</td><td>2017-12-27T20:17:22Z</td></tr><tr><td>80</td><td>280</td><td>2019-03-02T11:38:07Z</td><td>2020-10-19T08:55:21Z</td></tr><tr><td>62</td><td>346</td><td>2019-07-23T18:52:33Z</td><td>2016-02-22T19:22:58Z</td></tr><tr><td>44</td><td>351</td><td>2020-03-22T09:54:45Z</td><td>2020-11-05T15:48:12Z</td></tr><tr><td>10</td><td>276</td><td>2017-10-22T04:55:46Z</td><td>2018-08-17T20:42:25Z</td></tr><tr><td>52</td><td>297</td><td>2018-01-11T16:55:57Z</td><td>2019-02-02T18:49:43Z</td></tr><tr><td>74</td><td>290</td><td>2020-12-17T04:06:43Z</td><td>2016-09-05T11:26:57Z</td></tr><tr><td>50</td><td>277</td><td>2020-02-28T01:23:58Z</td><td>2017-11-08T09:15:12Z</td></tr><tr><td>62</td><td>346</td><td>2019-07-23T18:52:33Z</td><td>2016-02-22T19:22:58Z</td></tr><tr><td>80</td><td>280</td><td>2019-03-02T11:38:07Z</td><td>2020-10-19T08:55:21Z</td></tr><tr><td>63</td><td>288</td><td>2018-09-01T16:10:41Z</td><td>2020-10-15T21:46:56Z</td></tr><tr><td>63</td><td>288</td><td>2018-09-01T16:10:41Z</td><td>2020-10-15T21:46:56Z</td></tr><tr><td>19</td><td>272</td><td>2016-08-21T17:27:38Z</td><td>2020-06-14T11:32:27Z</td></tr><tr><td>50</td><td>277</td><td>2020-02-28T01:23:58Z</td><td>2017-11-08T09:15:12Z</td></tr><tr><td>19</td><td>272</td><td>2016-08-21T17:27:38Z</td><td>2020-06-14T11:32:27Z</td></tr><tr><td>63</td><td>288</td><td>2018-09-01T16:10:41Z</td><td>2020-10-15T21:46:56Z</td></tr><tr><td>17</td><td>274</td><td>2019-10-17T18:43:25Z</td><td>2018-09-18T17:51:59Z</td></tr><tr><td>61</td><td>327</td><td>2017-12-23T22:58:51Z</td><td>2019-02-26T02:17:37Z</td></tr><tr><td>3</td><td>323</td><td>2018-03-18T17:00:28Z</td><td>2019-04-22T13:48:13Z</td></tr><tr><td>74</td><td>290</td><td>2020-12-17T04:06:43Z</td><td>2016-09-05T11:26:57Z</td></tr><tr><td>3</td><td>323</td><td>2018-03-18T17:00:28Z</td><td>2019-04-22T13:48:13Z</td></tr><tr><td>76</td><td>324</td><td>2018-07-29T16:50:09Z</td><td>2019-01-05T21:24:56Z</td></tr><tr><td>20</td><td>318</td><td>2016-01-05T05:56:11Z</td><td>2020-03-02T04:00:40Z</td></tr><tr><td>74</td><td>290</td><td>2020-12-17T04:06:43Z</td><td>2016-09-05T11:26:57Z</td></tr><tr><td>80</td><td>280</td><td>2019-03-02T11:38:07Z</td><td>2020-10-19T08:55:21Z</td></tr><tr><td>35</td><td>273</td><td>2017-11-12T04:12:00Z</td><td>2019-03-15T17:58:37Z</td></tr><tr><td>20</td><td>318</td><td>2016-01-05T05:56:11Z</td><td>2020-03-02T04:00:40Z</td></tr><tr><td>7</td><td>273</td><td>2020-09-28T13:05:17Z</td><td>2017-09-14T05:25:19Z</td></tr><tr><td>61</td><td>327</td><td>2017-12-23T22:58:51Z</td><td>2019-02-26T02:17:37Z</td></tr><tr><td>61</td><td>300</td><td>2019-12-28T05:24:56Z</td><td>2016-08-07T19:05:47Z</td></tr><tr><td>3</td><td>323</td><td>2018-03-18T17:00:28Z</td><td>2019-04-22T13:48:13Z</td></tr><tr><td>76</td><td>324</td><td>2018-07-29T16:50:09Z</td><td>2019-01-05T21:24:56Z</td></tr><tr><td>7</td><td>273</td><td>2020-09-28T13:05:17Z</td><td>2017-09-14T05:25:19Z</td></tr><tr><td>20</td><td>318</td><td>2016-01-05T05:56:11Z</td><td>2020-03-02T04:00:40Z</td></tr><tr><td>7</td><td>273</td><td>2020-09-28T13:05:17Z</td><td>2017-09-14T05:25:19Z</td></tr><tr><td>44</td><td>351</td><td>2020-03-22T09:54:45Z</td><td>2020-11-05T15:48:12Z</td></tr><tr><td>15</td><td>363</td><td>2021-01-27T21:49:40Z</td><td>2019-08-20T06:58:04Z</td></tr><tr><td>44</td><td>351</td><td>2020-03-22T09:54:45Z</td><td>2020-11-05T15:48:12Z</td></tr><tr><td>10</td><td>276</td><td>2017-10-22T04:55:46Z</td><td>2018-08-17T20:42:25Z</td></tr><tr><td>50</td><td>277</td><td>2020-02-28T01:23:58Z</td><td>2017-11-08T09:15:12Z</td></tr><tr><td>16</td><td>363</td><td>2017-11-28T15:42:58Z</td><td>2017-12-27T20:17:22Z</td></tr><tr><td>61</td><td>327</td><td>2017-12-23T22:58:51Z</td><td>2019-02-26T02:17:37Z</td></tr><tr><td>54</td><td>300</td><td>2020-01-25T16:59:50Z</td><td>2016-08-30T07:48:55Z</td></tr><tr><td>28</td><td>342</td><td>2016-02-02T20:29:37Z</td><td>2017-11-12T23:35:19Z</td></tr><tr><td>56</td><td>338</td><td>2018-08-15T00:05:36Z</td><td>2018-12-01T20:39:25Z</td></tr><tr><td>28</td><td>342</td><td>2016-02-02T20:29:37Z</td><td>2017-11-12T23:35:19Z</td></tr><tr><td>54</td><td>300</td><td>2020-01-25T16:59:50Z</td><td>2016-08-30T07:48:55Z</td></tr><tr><td>28</td><td>342</td><td>2016-02-02T20:29:37Z</td><td>2017-11-12T23:35:19Z</td></tr><tr><td>54</td><td>300</td><td>2020-01-25T16:59:50Z</td><td>2016-08-30T07:48:55Z</td></tr><tr><td>56</td><td>338</td><td>2018-08-15T00:05:36Z</td><td>2018-12-01T20:39:25Z</td></tr><tr><td>56</td><td>338</td><td>2018-08-15T00:05:36Z</td><td>2018-12-01T20:39:25Z</td></tr></tbody></table></div>"
      ]
     },
     "metadata": {
      "application/vnd.databricks.v1+output": {
       "addedWidgets": {},
       "aggData": [],
       "aggError": "",
       "aggOverflow": false,
       "aggSchema": [],
       "aggSeriesLimitReached": false,
       "aggType": "",
       "arguments": {},
       "columnCustomDisplayInfos": {},
       "data": [
        [
         79,
         277,
         "2017-04-08T23:24:33Z",
         "2018-10-15T16:12:30Z"
        ],
        [
         98,
         286,
         "2017-10-21T08:26:22Z",
         "2016-11-04T07:51:04Z"
        ],
        [
         72,
         303,
         "2019-03-02T17:53:15Z",
         "2016-04-29T23:08:42Z"
        ],
        [
         39,
         274,
         "2019-03-28T00:24:27Z",
         "2021-01-16T17:45:55Z"
        ],
        [
         42,
         333,
         "2017-07-09T08:26:06Z",
         "2020-03-11T13:10:35Z"
        ],
        [
         95,
         371,
         "2020-09-10T05:37:14Z",
         "2016-04-01T09:19:44Z"
        ],
        [
         31,
         320,
         "2020-06-18T06:44:30Z",
         "2017-12-03T20:46:59Z"
        ],
        [
         100,
         308,
         "2018-07-28T17:16:07Z",
         "2020-02-13T10:17:32Z"
        ],
        [
         61,
         301,
         "2018-11-02T00:16:53Z",
         "2020-05-05T08:26:29Z"
        ],
        [
         76,
         365,
         "2016-09-12T11:30:51Z",
         "2020-02-02T11:21:04Z"
        ],
        [
         29,
         317,
         "2018-08-12T07:59:39Z",
         "2018-12-10T11:41:09Z"
        ],
        [
         95,
         371,
         "2020-09-10T05:37:14Z",
         "2016-04-01T09:19:44Z"
        ],
        [
         92,
         345,
         "2020-01-15T22:54:32Z",
         "2018-05-03T01:15:50Z"
        ],
        [
         96,
         368,
         "2020-02-24T17:42:57Z",
         "2019-12-18T12:34:42Z"
        ],
        [
         84,
         357,
         "2018-07-14T00:26:41Z",
         "2019-07-11T03:22:08Z"
        ],
        [
         56,
         362,
         "2020-08-04T01:32:40Z",
         "2018-04-22T07:19:47Z"
        ],
        [
         39,
         274,
         "2019-03-28T00:24:27Z",
         "2021-01-16T17:45:55Z"
        ],
        [
         97,
         315,
         "2017-09-06T15:37:14Z",
         "2017-10-25T06:41:06Z"
        ],
        [
         95,
         371,
         "2020-09-10T05:37:14Z",
         "2016-04-01T09:19:44Z"
        ],
        [
         100,
         308,
         "2018-07-28T17:16:07Z",
         "2020-02-13T10:17:32Z"
        ],
        [
         84,
         292,
         "2016-04-26T21:34:33Z",
         "2020-11-29T19:45:37Z"
        ],
        [
         57,
         306,
         "2020-03-26T03:08:57Z",
         "2018-10-15T11:26:21Z"
        ],
        [
         89,
         287,
         "2020-06-26T13:16:30Z",
         "2016-11-09T08:14:42Z"
        ],
        [
         15,
         295,
         "2016-07-09T19:21:59Z",
         "2016-09-26T14:39:01Z"
        ],
        [
         40,
         292,
         "2019-07-12T07:29:14Z",
         "2019-10-30T22:38:35Z"
        ],
        [
         96,
         353,
         "2016-08-25T11:12:30Z",
         "2017-05-25T01:37:43Z"
        ],
        [
         29,
         317,
         "2018-08-12T07:59:39Z",
         "2018-12-10T11:41:09Z"
        ],
        [
         41,
         278,
         "2018-06-27T00:27:12Z",
         "2017-01-05T06:57:30Z"
        ],
        [
         89,
         358,
         "2019-10-18T20:40:47Z",
         "2020-06-28T12:03:02Z"
        ],
        [
         84,
         299,
         "2019-01-08T13:22:25Z",
         "2020-02-21T10:45:38Z"
        ],
        [
         47,
         333,
         "2016-07-27T22:33:25Z",
         "2021-01-14T14:24:49Z"
        ],
        [
         83,
         354,
         "2020-08-20T23:29:46Z",
         "2018-08-27T08:16:36Z"
        ],
        [
         9,
         298,
         "2019-12-02T05:31:01Z",
         "2019-03-18T18:43:45Z"
        ],
        [
         14,
         328,
         "2017-09-18T00:54:27Z",
         "2020-10-27T20:37:51Z"
        ],
        [
         91,
         357,
         "2017-06-12T16:40:07Z",
         "2019-08-28T05:27:05Z"
        ],
        [
         75,
         368,
         "2020-08-22T06:47:31Z",
         "2019-10-10T10:44:00Z"
        ],
        [
         42,
         333,
         "2017-07-09T08:26:06Z",
         "2020-03-11T13:10:35Z"
        ],
        [
         27,
         366,
         "2016-05-13T09:33:39Z",
         "2017-12-21T16:23:17Z"
        ],
        [
         23,
         281,
         "2020-11-20T23:54:00Z",
         "2018-09-25T20:08:07Z"
        ],
        [
         87,
         294,
         "2018-07-04T23:35:40Z",
         "2016-11-18T06:56:36Z"
        ],
        [
         71,
         310,
         "2018-01-19T04:48:42Z",
         "2016-05-09T02:01:34Z"
        ],
        [
         13,
         292,
         "2020-11-05T18:50:29Z",
         "2020-06-01T13:14:45Z"
        ],
        [
         6,
         288,
         "2018-04-28T00:25:20Z",
         "2016-04-16T19:11:05Z"
        ],
        [
         14,
         356,
         "2018-12-31T09:05:39Z",
         "2016-11-17T18:35:57Z"
        ],
        [
         9,
         369,
         "2018-01-19T06:06:59Z",
         "2020-04-14T07:34:02Z"
        ],
        [
         1,
         274,
         "2018-03-13T20:29:34Z",
         "2021-02-08T01:45:05Z"
        ],
        [
         22,
         274,
         "2019-01-09T16:43:25Z",
         "2020-12-19T13:51:10Z"
        ],
        [
         50,
         328,
         "2020-06-20T23:10:21Z",
         "2017-06-13T10:48:30Z"
        ],
        [
         71,
         310,
         "2018-01-19T04:48:42Z",
         "2016-05-09T02:01:34Z"
        ],
        [
         50,
         330,
         "2017-10-16T12:20:14Z",
         "2021-01-20T18:09:12Z"
        ],
        [
         89,
         287,
         "2020-06-26T13:16:30Z",
         "2016-11-09T08:14:42Z"
        ],
        [
         93,
         349,
         "2020-09-14T07:09:21Z",
         "2017-08-06T23:28:43Z"
        ],
        [
         92,
         297,
         "2018-06-01T01:43:39Z",
         "2018-07-29T05:24:59Z"
        ],
        [
         97,
         287,
         "2017-04-30T02:04:01Z",
         "2017-05-31T20:36:03Z"
        ],
        [
         77,
         370,
         "2017-09-20T18:24:32Z",
         "2016-09-08T09:34:06Z"
        ],
        [
         85,
         306,
         "2018-10-20T09:20:58Z",
         "2017-10-29T22:14:57Z"
        ],
        [
         79,
         277,
         "2017-04-08T23:24:33Z",
         "2018-10-15T16:12:30Z"
        ],
        [
         6,
         288,
         "2018-04-28T00:25:20Z",
         "2016-04-16T19:11:05Z"
        ],
        [
         84,
         357,
         "2018-07-14T00:26:41Z",
         "2019-07-11T03:22:08Z"
        ],
        [
         39,
         298,
         "2019-02-11T10:38:45Z",
         "2017-07-07T06:08:41Z"
        ],
        [
         15,
         295,
         "2016-07-09T19:21:59Z",
         "2016-09-26T14:39:01Z"
        ],
        [
         79,
         277,
         "2017-04-08T23:24:33Z",
         "2018-10-15T16:12:30Z"
        ],
        [
         4,
         343,
         "2017-05-09T07:28:34Z",
         "2016-07-22T19:20:38Z"
        ],
        [
         93,
         349,
         "2020-09-14T07:09:21Z",
         "2017-08-06T23:28:43Z"
        ],
        [
         20,
         360,
         "2016-11-19T15:59:33Z",
         "2016-06-21T00:59:20Z"
        ],
        [
         100,
         308,
         "2018-07-28T17:16:07Z",
         "2020-02-13T10:17:32Z"
        ],
        [
         4,
         343,
         "2017-05-09T07:28:34Z",
         "2016-07-22T19:20:38Z"
        ],
        [
         21,
         283,
         "2016-05-11T08:56:18Z",
         "2019-06-08T09:37:16Z"
        ],
        [
         29,
         317,
         "2018-08-12T07:59:39Z",
         "2018-12-10T11:41:09Z"
        ],
        [
         32,
         329,
         "2018-09-27T11:06:48Z",
         "2016-12-03T13:49:11Z"
        ],
        [
         72,
         311,
         "2018-10-01T11:21:01Z",
         "2018-03-23T08:47:01Z"
        ],
        [
         72,
         311,
         "2018-10-01T11:21:01Z",
         "2018-03-23T08:47:01Z"
        ],
        [
         14,
         356,
         "2018-12-31T09:05:39Z",
         "2016-11-17T18:35:57Z"
        ],
        [
         77,
         288,
         "2016-10-27T05:32:22Z",
         "2018-05-10T01:37:22Z"
        ],
        [
         85,
         306,
         "2018-10-20T09:20:58Z",
         "2017-10-29T22:14:57Z"
        ],
        [
         92,
         297,
         "2018-06-01T01:43:39Z",
         "2018-07-29T05:24:59Z"
        ],
        [
         83,
         354,
         "2020-08-20T23:29:46Z",
         "2018-08-27T08:16:36Z"
        ],
        [
         50,
         330,
         "2017-10-16T12:20:14Z",
         "2021-01-20T18:09:12Z"
        ],
        [
         96,
         368,
         "2020-02-24T17:42:57Z",
         "2019-12-18T12:34:42Z"
        ],
        [
         47,
         333,
         "2016-07-27T22:33:25Z",
         "2021-01-14T14:24:49Z"
        ],
        [
         84,
         299,
         "2019-01-08T13:22:25Z",
         "2020-02-21T10:45:38Z"
        ],
        [
         45,
         323,
         "2019-03-02T11:35:53Z",
         "2016-12-24T08:29:52Z"
        ],
        [
         39,
         298,
         "2019-02-11T10:38:45Z",
         "2017-07-07T06:08:41Z"
        ],
        [
         97,
         316,
         "2020-04-01T16:26:11Z",
         "2019-07-28T03:01:24Z"
        ],
        [
         1,
         274,
         "2018-03-13T20:29:34Z",
         "2021-02-08T01:45:05Z"
        ],
        [
         32,
         329,
         "2018-09-27T11:06:48Z",
         "2016-12-03T13:49:11Z"
        ],
        [
         32,
         329,
         "2018-09-27T11:06:48Z",
         "2016-12-03T13:49:11Z"
        ],
        [
         6,
         311,
         "2019-05-08T22:55:28Z",
         "2016-05-31T09:15:26Z"
        ],
        [
         96,
         368,
         "2020-02-24T17:42:57Z",
         "2019-12-18T12:34:42Z"
        ],
        [
         41,
         278,
         "2018-06-27T00:27:12Z",
         "2017-01-05T06:57:30Z"
        ],
        [
         13,
         287,
         "2019-01-10T09:47:19Z",
         "2017-12-08T19:25:40Z"
        ],
        [
         27,
         366,
         "2016-05-13T09:33:39Z",
         "2017-12-21T16:23:17Z"
        ],
        [
         13,
         287,
         "2019-01-10T09:47:19Z",
         "2017-12-08T19:25:40Z"
        ],
        [
         45,
         323,
         "2019-03-02T11:35:53Z",
         "2016-12-24T08:29:52Z"
        ],
        [
         23,
         281,
         "2020-11-20T23:54:00Z",
         "2018-09-25T20:08:07Z"
        ],
        [
         57,
         306,
         "2020-03-26T03:08:57Z",
         "2018-10-15T11:26:21Z"
        ],
        [
         97,
         316,
         "2020-04-01T16:26:11Z",
         "2019-07-28T03:01:24Z"
        ],
        [
         6,
         325,
         "2016-08-06T19:17:43Z",
         "2019-03-17T18:07:39Z"
        ],
        [
         50,
         330,
         "2017-10-16T12:20:14Z",
         "2021-01-20T18:09:12Z"
        ],
        [
         97,
         316,
         "2020-04-01T16:26:11Z",
         "2019-07-28T03:01:24Z"
        ],
        [
         9,
         369,
         "2018-01-19T06:06:59Z",
         "2020-04-14T07:34:02Z"
        ],
        [
         33,
         351,
         "2019-07-01T20:54:34Z",
         "2019-09-07T21:39:13Z"
        ],
        [
         84,
         299,
         "2019-01-08T13:22:25Z",
         "2020-02-21T10:45:38Z"
        ],
        [
         1,
         274,
         "2018-03-13T20:29:34Z",
         "2021-02-08T01:45:05Z"
        ],
        [
         6,
         325,
         "2016-08-06T19:17:43Z",
         "2019-03-17T18:07:39Z"
        ],
        [
         38,
         307,
         "2020-04-18T18:59:12Z",
         "2018-06-08T08:30:54Z"
        ],
        [
         9,
         298,
         "2019-12-02T05:31:01Z",
         "2019-03-18T18:43:45Z"
        ],
        [
         70,
         276,
         "2019-11-26T15:23:01Z",
         "2018-10-20T05:57:11Z"
        ],
        [
         22,
         274,
         "2019-01-09T16:43:25Z",
         "2020-12-19T13:51:10Z"
        ],
        [
         41,
         278,
         "2018-06-27T00:27:12Z",
         "2017-01-05T06:57:30Z"
        ],
        [
         47,
         283,
         "2018-05-20T21:27:12Z",
         "2018-08-31T08:27:52Z"
        ],
        [
         100,
         299,
         "2019-03-09T14:11:15Z",
         "2020-11-27T13:14:58Z"
        ],
        [
         47,
         283,
         "2018-05-20T21:27:12Z",
         "2018-08-31T08:27:52Z"
        ],
        [
         61,
         301,
         "2018-11-02T00:16:53Z",
         "2020-05-05T08:26:29Z"
        ],
        [
         76,
         365,
         "2016-09-12T11:30:51Z",
         "2020-02-02T11:21:04Z"
        ],
        [
         70,
         276,
         "2019-11-26T15:23:01Z",
         "2018-10-20T05:57:11Z"
        ],
        [
         72,
         311,
         "2018-10-01T11:21:01Z",
         "2018-03-23T08:47:01Z"
        ],
        [
         42,
         333,
         "2017-07-09T08:26:06Z",
         "2020-03-11T13:10:35Z"
        ],
        [
         52,
         289,
         "2017-03-06T01:10:45Z",
         "2019-01-07T18:46:53Z"
        ],
        [
         31,
         320,
         "2020-06-18T06:44:30Z",
         "2017-12-03T20:46:59Z"
        ],
        [
         75,
         368,
         "2020-08-22T06:47:31Z",
         "2019-10-10T10:44:00Z"
        ],
        [
         98,
         286,
         "2017-10-21T08:26:22Z",
         "2016-11-04T07:51:04Z"
        ],
        [
         93,
         349,
         "2020-09-14T07:09:21Z",
         "2017-08-06T23:28:43Z"
        ],
        [
         18,
         366,
         "2020-07-16T09:29:52Z",
         "2018-08-21T09:16:39Z"
        ],
        [
         61,
         323,
         "2017-03-31T06:31:29Z",
         "2017-10-24T06:59:17Z"
        ],
        [
         31,
         320,
         "2020-06-18T06:44:30Z",
         "2017-12-03T20:46:59Z"
        ],
        [
         21,
         283,
         "2016-05-11T08:56:18Z",
         "2019-06-08T09:37:16Z"
        ],
        [
         11,
         351,
         "2020-07-04T02:12:18Z",
         "2020-12-09T00:47:52Z"
        ],
        [
         11,
         319,
         "2016-05-09T22:11:01Z",
         "2019-11-24T08:01:30Z"
        ],
        [
         85,
         306,
         "2018-10-20T09:20:58Z",
         "2017-10-29T22:14:57Z"
        ],
        [
         12,
         338,
         "2020-03-20T05:09:40Z",
         "2019-07-02T13:02:08Z"
        ],
        [
         72,
         303,
         "2019-03-02T17:53:15Z",
         "2016-04-29T23:08:42Z"
        ],
        [
         37,
         320,
         "2017-08-06T16:32:28Z",
         "2017-03-29T15:41:16Z"
        ],
        [
         46,
         297,
         "2018-11-14T23:22:00Z",
         "2019-05-19T23:43:38Z"
        ],
        [
         39,
         274,
         "2019-03-28T00:24:27Z",
         "2021-01-16T17:45:55Z"
        ],
        [
         84,
         292,
         "2016-04-26T21:34:33Z",
         "2020-11-29T19:45:37Z"
        ],
        [
         76,
         365,
         "2016-09-12T11:30:51Z",
         "2020-02-02T11:21:04Z"
        ],
        [
         56,
         362,
         "2020-08-04T01:32:40Z",
         "2018-04-22T07:19:47Z"
        ],
        [
         77,
         288,
         "2016-10-27T05:32:22Z",
         "2018-05-10T01:37:22Z"
        ],
        [
         92,
         345,
         "2020-01-15T22:54:32Z",
         "2018-05-03T01:15:50Z"
        ],
        [
         89,
         358,
         "2019-10-18T20:40:47Z",
         "2020-06-28T12:03:02Z"
        ],
        [
         13,
         287,
         "2019-01-10T09:47:19Z",
         "2017-12-08T19:25:40Z"
        ],
        [
         83,
         354,
         "2020-08-20T23:29:46Z",
         "2018-08-27T08:16:36Z"
        ],
        [
         56,
         362,
         "2020-08-04T01:32:40Z",
         "2018-04-22T07:19:47Z"
        ],
        [
         47,
         283,
         "2018-05-20T21:27:12Z",
         "2018-08-31T08:27:52Z"
        ],
        [
         57,
         328,
         "2018-05-18T20:46:21Z",
         "2016-05-28T13:57:10Z"
        ],
        [
         97,
         315,
         "2017-09-06T15:37:14Z",
         "2017-10-25T06:41:06Z"
        ],
        [
         40,
         292,
         "2019-07-12T07:29:14Z",
         "2019-10-30T22:38:35Z"
        ],
        [
         12,
         338,
         "2020-03-20T05:09:40Z",
         "2019-07-02T13:02:08Z"
        ],
        [
         76,
         308,
         "2018-03-03T01:42:07Z",
         "2019-07-23T09:48:20Z"
        ],
        [
         77,
         370,
         "2017-09-20T18:24:32Z",
         "2016-09-08T09:34:06Z"
        ],
        [
         6,
         288,
         "2018-04-28T00:25:20Z",
         "2016-04-16T19:11:05Z"
        ],
        [
         45,
         367,
         "2019-06-14T06:54:25Z",
         "2017-03-18T11:28:53Z"
        ],
        [
         57,
         306,
         "2020-03-26T03:08:57Z",
         "2018-10-15T11:26:21Z"
        ],
        [
         92,
         297,
         "2018-06-01T01:43:39Z",
         "2018-07-29T05:24:59Z"
        ],
        [
         61,
         323,
         "2017-03-31T06:31:29Z",
         "2017-10-24T06:59:17Z"
        ],
        [
         38,
         307,
         "2020-04-18T18:59:12Z",
         "2018-06-08T08:30:54Z"
        ],
        [
         100,
         299,
         "2019-03-09T14:11:15Z",
         "2020-11-27T13:14:58Z"
        ],
        [
         57,
         328,
         "2018-05-18T20:46:21Z",
         "2016-05-28T13:57:10Z"
        ],
        [
         36,
         346,
         "2016-09-16T14:54:04Z",
         "2016-03-31T13:42:33Z"
        ],
        [
         89,
         358,
         "2019-10-18T20:40:47Z",
         "2020-06-28T12:03:02Z"
        ],
        [
         36,
         346,
         "2016-09-16T14:54:04Z",
         "2016-03-31T13:42:33Z"
        ],
        [
         18,
         366,
         "2020-07-16T09:29:52Z",
         "2018-08-21T09:16:39Z"
        ],
        [
         6,
         311,
         "2019-05-08T22:55:28Z",
         "2016-05-31T09:15:26Z"
        ],
        [
         84,
         292,
         "2016-04-26T21:34:33Z",
         "2020-11-29T19:45:37Z"
        ],
        [
         38,
         307,
         "2020-04-18T18:59:12Z",
         "2018-06-08T08:30:54Z"
        ],
        [
         91,
         357,
         "2017-06-12T16:40:07Z",
         "2019-08-28T05:27:05Z"
        ],
        [
         34,
         272,
         "2017-07-11T04:51:36Z",
         "2019-08-22T09:02:36Z"
        ],
        [
         22,
         274,
         "2019-01-09T16:43:25Z",
         "2020-12-19T13:51:10Z"
        ],
        [
         57,
         328,
         "2018-05-18T20:46:21Z",
         "2016-05-28T13:57:10Z"
        ],
        [
         61,
         323,
         "2017-03-31T06:31:29Z",
         "2017-10-24T06:59:17Z"
        ],
        [
         11,
         351,
         "2020-07-04T02:12:18Z",
         "2020-12-09T00:47:52Z"
        ],
        [
         96,
         353,
         "2016-08-25T11:12:30Z",
         "2017-05-25T01:37:43Z"
        ],
        [
         77,
         370,
         "2017-09-20T18:24:32Z",
         "2016-09-08T09:34:06Z"
        ],
        [
         34,
         272,
         "2017-07-11T04:51:36Z",
         "2019-08-22T09:02:36Z"
        ],
        [
         27,
         366,
         "2016-05-13T09:33:39Z",
         "2017-12-21T16:23:17Z"
        ],
        [
         11,
         319,
         "2016-05-09T22:11:01Z",
         "2019-11-24T08:01:30Z"
        ],
        [
         52,
         289,
         "2017-03-06T01:10:45Z",
         "2019-01-07T18:46:53Z"
        ],
        [
         4,
         343,
         "2017-05-09T07:28:34Z",
         "2016-07-22T19:20:38Z"
        ],
        [
         33,
         351,
         "2019-07-01T20:54:34Z",
         "2019-09-07T21:39:13Z"
        ],
        [
         13,
         292,
         "2020-11-05T18:50:29Z",
         "2020-06-01T13:14:45Z"
        ],
        [
         72,
         303,
         "2019-03-02T17:53:15Z",
         "2016-04-29T23:08:42Z"
        ],
        [
         13,
         292,
         "2020-11-05T18:50:29Z",
         "2020-06-01T13:14:45Z"
        ],
        [
         39,
         298,
         "2019-02-11T10:38:45Z",
         "2017-07-07T06:08:41Z"
        ],
        [
         45,
         367,
         "2019-06-14T06:54:25Z",
         "2017-03-18T11:28:53Z"
        ],
        [
         97,
         287,
         "2017-04-30T02:04:01Z",
         "2017-05-31T20:36:03Z"
        ],
        [
         12,
         338,
         "2020-03-20T05:09:40Z",
         "2019-07-02T13:02:08Z"
        ],
        [
         21,
         283,
         "2016-05-11T08:56:18Z",
         "2019-06-08T09:37:16Z"
        ],
        [
         98,
         286,
         "2017-10-21T08:26:22Z",
         "2016-11-04T07:51:04Z"
        ],
        [
         6,
         325,
         "2016-08-06T19:17:43Z",
         "2019-03-17T18:07:39Z"
        ],
        [
         97,
         315,
         "2017-09-06T15:37:14Z",
         "2017-10-25T06:41:06Z"
        ],
        [
         75,
         368,
         "2020-08-22T06:47:31Z",
         "2019-10-10T10:44:00Z"
        ],
        [
         6,
         311,
         "2019-05-08T22:55:28Z",
         "2016-05-31T09:15:26Z"
        ],
        [
         11,
         351,
         "2020-07-04T02:12:18Z",
         "2020-12-09T00:47:52Z"
        ],
        [
         33,
         351,
         "2019-07-01T20:54:34Z",
         "2019-09-07T21:39:13Z"
        ],
        [
         47,
         333,
         "2016-07-27T22:33:25Z",
         "2021-01-14T14:24:49Z"
        ],
        [
         34,
         272,
         "2017-07-11T04:51:36Z",
         "2019-08-22T09:02:36Z"
        ],
        [
         18,
         366,
         "2020-07-16T09:29:52Z",
         "2018-08-21T09:16:39Z"
        ],
        [
         50,
         328,
         "2020-06-20T23:10:21Z",
         "2017-06-13T10:48:30Z"
        ],
        [
         9,
         298,
         "2019-12-02T05:31:01Z",
         "2019-03-18T18:43:45Z"
        ],
        [
         77,
         288,
         "2016-10-27T05:32:22Z",
         "2018-05-10T01:37:22Z"
        ],
        [
         37,
         320,
         "2017-08-06T16:32:28Z",
         "2017-03-29T15:41:16Z"
        ],
        [
         61,
         301,
         "2018-11-02T00:16:53Z",
         "2020-05-05T08:26:29Z"
        ],
        [
         50,
         328,
         "2020-06-20T23:10:21Z",
         "2017-06-13T10:48:30Z"
        ],
        [
         76,
         308,
         "2018-03-03T01:42:07Z",
         "2019-07-23T09:48:20Z"
        ],
        [
         36,
         346,
         "2016-09-16T14:54:04Z",
         "2016-03-31T13:42:33Z"
        ],
        [
         14,
         328,
         "2017-09-18T00:54:27Z",
         "2020-10-27T20:37:51Z"
        ],
        [
         9,
         369,
         "2018-01-19T06:06:59Z",
         "2020-04-14T07:34:02Z"
        ],
        [
         100,
         299,
         "2019-03-09T14:11:15Z",
         "2020-11-27T13:14:58Z"
        ],
        [
         20,
         360,
         "2016-11-19T15:59:33Z",
         "2016-06-21T00:59:20Z"
        ],
        [
         11,
         319,
         "2016-05-09T22:11:01Z",
         "2019-11-24T08:01:30Z"
        ],
        [
         20,
         360,
         "2016-11-19T15:59:33Z",
         "2016-06-21T00:59:20Z"
        ],
        [
         87,
         294,
         "2018-07-04T23:35:40Z",
         "2016-11-18T06:56:36Z"
        ],
        [
         37,
         320,
         "2017-08-06T16:32:28Z",
         "2017-03-29T15:41:16Z"
        ],
        [
         89,
         287,
         "2020-06-26T13:16:30Z",
         "2016-11-09T08:14:42Z"
        ],
        [
         70,
         276,
         "2019-11-26T15:23:01Z",
         "2018-10-20T05:57:11Z"
        ],
        [
         92,
         345,
         "2020-01-15T22:54:32Z",
         "2018-05-03T01:15:50Z"
        ],
        [
         45,
         367,
         "2019-06-14T06:54:25Z",
         "2017-03-18T11:28:53Z"
        ],
        [
         46,
         297,
         "2018-11-14T23:22:00Z",
         "2019-05-19T23:43:38Z"
        ],
        [
         87,
         294,
         "2018-07-04T23:35:40Z",
         "2016-11-18T06:56:36Z"
        ],
        [
         96,
         353,
         "2016-08-25T11:12:30Z",
         "2017-05-25T01:37:43Z"
        ],
        [
         97,
         287,
         "2017-04-30T02:04:01Z",
         "2017-05-31T20:36:03Z"
        ],
        [
         71,
         310,
         "2018-01-19T04:48:42Z",
         "2016-05-09T02:01:34Z"
        ],
        [
         14,
         356,
         "2018-12-31T09:05:39Z",
         "2016-11-17T18:35:57Z"
        ],
        [
         23,
         281,
         "2020-11-20T23:54:00Z",
         "2018-09-25T20:08:07Z"
        ],
        [
         46,
         297,
         "2018-11-14T23:22:00Z",
         "2019-05-19T23:43:38Z"
        ],
        [
         15,
         295,
         "2016-07-09T19:21:59Z",
         "2016-09-26T14:39:01Z"
        ],
        [
         45,
         323,
         "2019-03-02T11:35:53Z",
         "2016-12-24T08:29:52Z"
        ],
        [
         52,
         289,
         "2017-03-06T01:10:45Z",
         "2019-01-07T18:46:53Z"
        ],
        [
         14,
         328,
         "2017-09-18T00:54:27Z",
         "2020-10-27T20:37:51Z"
        ],
        [
         76,
         308,
         "2018-03-03T01:42:07Z",
         "2019-07-23T09:48:20Z"
        ],
        [
         84,
         357,
         "2018-07-14T00:26:41Z",
         "2019-07-11T03:22:08Z"
        ],
        [
         40,
         292,
         "2019-07-12T07:29:14Z",
         "2019-10-30T22:38:35Z"
        ],
        [
         91,
         357,
         "2017-06-12T16:40:07Z",
         "2019-08-28T05:27:05Z"
        ],
        [
         35,
         273,
         "2017-11-12T04:12:00Z",
         "2019-03-15T17:58:37Z"
        ],
        [
         61,
         300,
         "2019-12-28T05:24:56Z",
         "2016-08-07T19:05:47Z"
        ],
        [
         15,
         363,
         "2021-01-27T21:49:40Z",
         "2019-08-20T06:58:04Z"
        ],
        [
         19,
         272,
         "2016-08-21T17:27:38Z",
         "2020-06-14T11:32:27Z"
        ],
        [
         62,
         346,
         "2019-07-23T18:52:33Z",
         "2016-02-22T19:22:58Z"
        ],
        [
         16,
         363,
         "2017-11-28T15:42:58Z",
         "2017-12-27T20:17:22Z"
        ],
        [
         10,
         276,
         "2017-10-22T04:55:46Z",
         "2018-08-17T20:42:25Z"
        ],
        [
         17,
         274,
         "2019-10-17T18:43:25Z",
         "2018-09-18T17:51:59Z"
        ],
        [
         15,
         363,
         "2021-01-27T21:49:40Z",
         "2019-08-20T06:58:04Z"
        ],
        [
         52,
         297,
         "2018-01-11T16:55:57Z",
         "2019-02-02T18:49:43Z"
        ],
        [
         17,
         274,
         "2019-10-17T18:43:25Z",
         "2018-09-18T17:51:59Z"
        ],
        [
         52,
         297,
         "2018-01-11T16:55:57Z",
         "2019-02-02T18:49:43Z"
        ],
        [
         76,
         324,
         "2018-07-29T16:50:09Z",
         "2019-01-05T21:24:56Z"
        ],
        [
         61,
         300,
         "2019-12-28T05:24:56Z",
         "2016-08-07T19:05:47Z"
        ],
        [
         35,
         273,
         "2017-11-12T04:12:00Z",
         "2019-03-15T17:58:37Z"
        ],
        [
         16,
         363,
         "2017-11-28T15:42:58Z",
         "2017-12-27T20:17:22Z"
        ],
        [
         80,
         280,
         "2019-03-02T11:38:07Z",
         "2020-10-19T08:55:21Z"
        ],
        [
         62,
         346,
         "2019-07-23T18:52:33Z",
         "2016-02-22T19:22:58Z"
        ],
        [
         44,
         351,
         "2020-03-22T09:54:45Z",
         "2020-11-05T15:48:12Z"
        ],
        [
         10,
         276,
         "2017-10-22T04:55:46Z",
         "2018-08-17T20:42:25Z"
        ],
        [
         52,
         297,
         "2018-01-11T16:55:57Z",
         "2019-02-02T18:49:43Z"
        ],
        [
         74,
         290,
         "2020-12-17T04:06:43Z",
         "2016-09-05T11:26:57Z"
        ],
        [
         50,
         277,
         "2020-02-28T01:23:58Z",
         "2017-11-08T09:15:12Z"
        ],
        [
         62,
         346,
         "2019-07-23T18:52:33Z",
         "2016-02-22T19:22:58Z"
        ],
        [
         80,
         280,
         "2019-03-02T11:38:07Z",
         "2020-10-19T08:55:21Z"
        ],
        [
         63,
         288,
         "2018-09-01T16:10:41Z",
         "2020-10-15T21:46:56Z"
        ],
        [
         63,
         288,
         "2018-09-01T16:10:41Z",
         "2020-10-15T21:46:56Z"
        ],
        [
         19,
         272,
         "2016-08-21T17:27:38Z",
         "2020-06-14T11:32:27Z"
        ],
        [
         50,
         277,
         "2020-02-28T01:23:58Z",
         "2017-11-08T09:15:12Z"
        ],
        [
         19,
         272,
         "2016-08-21T17:27:38Z",
         "2020-06-14T11:32:27Z"
        ],
        [
         63,
         288,
         "2018-09-01T16:10:41Z",
         "2020-10-15T21:46:56Z"
        ],
        [
         17,
         274,
         "2019-10-17T18:43:25Z",
         "2018-09-18T17:51:59Z"
        ],
        [
         61,
         327,
         "2017-12-23T22:58:51Z",
         "2019-02-26T02:17:37Z"
        ],
        [
         3,
         323,
         "2018-03-18T17:00:28Z",
         "2019-04-22T13:48:13Z"
        ],
        [
         74,
         290,
         "2020-12-17T04:06:43Z",
         "2016-09-05T11:26:57Z"
        ],
        [
         3,
         323,
         "2018-03-18T17:00:28Z",
         "2019-04-22T13:48:13Z"
        ],
        [
         76,
         324,
         "2018-07-29T16:50:09Z",
         "2019-01-05T21:24:56Z"
        ],
        [
         20,
         318,
         "2016-01-05T05:56:11Z",
         "2020-03-02T04:00:40Z"
        ],
        [
         74,
         290,
         "2020-12-17T04:06:43Z",
         "2016-09-05T11:26:57Z"
        ],
        [
         80,
         280,
         "2019-03-02T11:38:07Z",
         "2020-10-19T08:55:21Z"
        ],
        [
         35,
         273,
         "2017-11-12T04:12:00Z",
         "2019-03-15T17:58:37Z"
        ],
        [
         20,
         318,
         "2016-01-05T05:56:11Z",
         "2020-03-02T04:00:40Z"
        ],
        [
         7,
         273,
         "2020-09-28T13:05:17Z",
         "2017-09-14T05:25:19Z"
        ],
        [
         61,
         327,
         "2017-12-23T22:58:51Z",
         "2019-02-26T02:17:37Z"
        ],
        [
         61,
         300,
         "2019-12-28T05:24:56Z",
         "2016-08-07T19:05:47Z"
        ],
        [
         3,
         323,
         "2018-03-18T17:00:28Z",
         "2019-04-22T13:48:13Z"
        ],
        [
         76,
         324,
         "2018-07-29T16:50:09Z",
         "2019-01-05T21:24:56Z"
        ],
        [
         7,
         273,
         "2020-09-28T13:05:17Z",
         "2017-09-14T05:25:19Z"
        ],
        [
         20,
         318,
         "2016-01-05T05:56:11Z",
         "2020-03-02T04:00:40Z"
        ],
        [
         7,
         273,
         "2020-09-28T13:05:17Z",
         "2017-09-14T05:25:19Z"
        ],
        [
         44,
         351,
         "2020-03-22T09:54:45Z",
         "2020-11-05T15:48:12Z"
        ],
        [
         15,
         363,
         "2021-01-27T21:49:40Z",
         "2019-08-20T06:58:04Z"
        ],
        [
         44,
         351,
         "2020-03-22T09:54:45Z",
         "2020-11-05T15:48:12Z"
        ],
        [
         10,
         276,
         "2017-10-22T04:55:46Z",
         "2018-08-17T20:42:25Z"
        ],
        [
         50,
         277,
         "2020-02-28T01:23:58Z",
         "2017-11-08T09:15:12Z"
        ],
        [
         16,
         363,
         "2017-11-28T15:42:58Z",
         "2017-12-27T20:17:22Z"
        ],
        [
         61,
         327,
         "2017-12-23T22:58:51Z",
         "2019-02-26T02:17:37Z"
        ],
        [
         54,
         300,
         "2020-01-25T16:59:50Z",
         "2016-08-30T07:48:55Z"
        ],
        [
         28,
         342,
         "2016-02-02T20:29:37Z",
         "2017-11-12T23:35:19Z"
        ],
        [
         56,
         338,
         "2018-08-15T00:05:36Z",
         "2018-12-01T20:39:25Z"
        ],
        [
         28,
         342,
         "2016-02-02T20:29:37Z",
         "2017-11-12T23:35:19Z"
        ],
        [
         54,
         300,
         "2020-01-25T16:59:50Z",
         "2016-08-30T07:48:55Z"
        ],
        [
         28,
         342,
         "2016-02-02T20:29:37Z",
         "2017-11-12T23:35:19Z"
        ],
        [
         54,
         300,
         "2020-01-25T16:59:50Z",
         "2016-08-30T07:48:55Z"
        ],
        [
         56,
         338,
         "2018-08-15T00:05:36Z",
         "2018-12-01T20:39:25Z"
        ],
        [
         56,
         338,
         "2018-08-15T00:05:36Z",
         "2018-12-01T20:39:25Z"
        ]
       ],
       "datasetInfos": [
        {
         "name": "df",
         "schema": {
          "fields": [
           {
            "metadata": {},
            "name": "id_pasajero",
            "nullable": true,
            "type": "integer"
           },
           {
            "metadata": {},
            "name": "id_trayecto",
            "nullable": true,
            "type": "integer"
           },
           {
            "metadata": {},
            "name": "inicio",
            "nullable": true,
            "type": "timestamp"
           },
           {
            "metadata": {},
            "name": "fin",
            "nullable": true,
            "type": "timestamp"
           }
          ],
          "type": "struct"
         },
         "tableIdentifier": null,
         "typeStr": "org.apache.spark.sql.DataFrame"
        }
       ],
       "dbfsResultPath": null,
       "isJsonSchema": true,
       "metadata": {},
       "overflow": false,
       "plotOptions": {
        "customPlotOptions": {},
        "displayType": "table",
        "pivotAggregation": null,
        "pivotColumns": null,
        "xColumns": null,
        "yColumns": null
       },
       "removedWidgets": [],
       "schema": [
        {
         "metadata": "{}",
         "name": "id_pasajero",
         "type": "\"integer\""
        },
        {
         "metadata": "{}",
         "name": "id_trayecto",
         "type": "\"integer\""
        },
        {
         "metadata": "{}",
         "name": "inicio",
         "type": "\"timestamp\""
        },
        {
         "metadata": "{}",
         "name": "fin",
         "type": "\"timestamp\""
        }
       ],
       "type": "table"
      }
     },
     "output_type": "display_data"
    }
   ],
   "source": [
    "%scala\n",
    "// Mostrar los datos insertados en la tabla 'trayecto'\n",
    "val df = spark.sql(\"SELECT * FROM trayecto\")\n",
    "display(df)"
   ]
  },
  {
   "cell_type": "code",
   "execution_count": 0,
   "metadata": {
    "application/vnd.databricks.v1+cell": {
     "cellMetadata": {
      "byteLimit": 2048000,
      "rowLimit": 10000
     },
     "inputWidgets": {},
     "nuid": "9d069f92-e2d5-4c9a-b5ec-902e04947681",
     "showTitle": false,
     "tableResultSettingsMap": {},
     "title": ""
    }
   },
   "outputs": [
    {
     "output_type": "display_data",
     "data": {
      "text/html": [
       "<style scoped>\n",
       "  .table-result-container {\n",
       "    max-height: 300px;\n",
       "    overflow: auto;\n",
       "  }\n",
       "  table, th, td {\n",
       "    border: 1px solid black;\n",
       "    border-collapse: collapse;\n",
       "  }\n",
       "  th, td {\n",
       "    padding: 5px;\n",
       "  }\n",
       "  th {\n",
       "    text-align: left;\n",
       "  }\n",
       "</style><div class='table-result-container'><table class='table-result'><thead style='background-color: white'><tr><th>id_trayecto</th><th>num_pasajeros</th></tr></thead><tbody><tr><td>272</td><td>6</td></tr><tr><td>273</td><td>6</td></tr><tr><td>274</td><td>12</td></tr><tr><td>276</td><td>6</td></tr><tr><td>277</td><td>6</td></tr><tr><td>278</td><td>3</td></tr><tr><td>280</td><td>3</td></tr><tr><td>281</td><td>3</td></tr><tr><td>283</td><td>6</td></tr><tr><td>286</td><td>3</td></tr><tr><td>287</td><td>9</td></tr><tr><td>288</td><td>9</td></tr><tr><td>289</td><td>3</td></tr><tr><td>290</td><td>3</td></tr><tr><td>292</td><td>9</td></tr><tr><td>294</td><td>3</td></tr><tr><td>295</td><td>3</td></tr><tr><td>297</td><td>9</td></tr><tr><td>298</td><td>6</td></tr><tr><td>299</td><td>6</td></tr><tr><td>300</td><td>6</td></tr><tr><td>301</td><td>3</td></tr><tr><td>303</td><td>3</td></tr><tr><td>306</td><td>6</td></tr><tr><td>307</td><td>3</td></tr><tr><td>308</td><td>6</td></tr><tr><td>310</td><td>3</td></tr><tr><td>311</td><td>6</td></tr><tr><td>315</td><td>3</td></tr><tr><td>316</td><td>3</td></tr><tr><td>317</td><td>3</td></tr><tr><td>318</td><td>3</td></tr><tr><td>319</td><td>3</td></tr><tr><td>320</td><td>6</td></tr><tr><td>323</td><td>9</td></tr><tr><td>324</td><td>3</td></tr><tr><td>325</td><td>3</td></tr><tr><td>327</td><td>3</td></tr><tr><td>328</td><td>9</td></tr><tr><td>329</td><td>3</td></tr><tr><td>330</td><td>3</td></tr><tr><td>333</td><td>6</td></tr><tr><td>338</td><td>6</td></tr><tr><td>342</td><td>3</td></tr><tr><td>343</td><td>3</td></tr><tr><td>345</td><td>3</td></tr><tr><td>346</td><td>6</td></tr><tr><td>349</td><td>3</td></tr><tr><td>351</td><td>9</td></tr><tr><td>353</td><td>3</td></tr><tr><td>354</td><td>3</td></tr><tr><td>356</td><td>3</td></tr><tr><td>357</td><td>6</td></tr><tr><td>358</td><td>3</td></tr><tr><td>360</td><td>3</td></tr><tr><td>362</td><td>3</td></tr><tr><td>363</td><td>6</td></tr><tr><td>365</td><td>3</td></tr><tr><td>366</td><td>6</td></tr><tr><td>367</td><td>3</td></tr><tr><td>368</td><td>6</td></tr><tr><td>369</td><td>3</td></tr><tr><td>370</td><td>3</td></tr><tr><td>371</td><td>3</td></tr></tbody></table></div>"
      ]
     },
     "metadata": {
      "application/vnd.databricks.v1+output": {
       "addedWidgets": {},
       "aggData": [],
       "aggError": "",
       "aggOverflow": false,
       "aggSchema": [],
       "aggSeriesLimitReached": false,
       "aggType": "",
       "arguments": {},
       "columnCustomDisplayInfos": {},
       "data": [
        [
         272,
         6
        ],
        [
         273,
         6
        ],
        [
         274,
         12
        ],
        [
         276,
         6
        ],
        [
         277,
         6
        ],
        [
         278,
         3
        ],
        [
         280,
         3
        ],
        [
         281,
         3
        ],
        [
         283,
         6
        ],
        [
         286,
         3
        ],
        [
         287,
         9
        ],
        [
         288,
         9
        ],
        [
         289,
         3
        ],
        [
         290,
         3
        ],
        [
         292,
         9
        ],
        [
         294,
         3
        ],
        [
         295,
         3
        ],
        [
         297,
         9
        ],
        [
         298,
         6
        ],
        [
         299,
         6
        ],
        [
         300,
         6
        ],
        [
         301,
         3
        ],
        [
         303,
         3
        ],
        [
         306,
         6
        ],
        [
         307,
         3
        ],
        [
         308,
         6
        ],
        [
         310,
         3
        ],
        [
         311,
         6
        ],
        [
         315,
         3
        ],
        [
         316,
         3
        ],
        [
         317,
         3
        ],
        [
         318,
         3
        ],
        [
         319,
         3
        ],
        [
         320,
         6
        ],
        [
         323,
         9
        ],
        [
         324,
         3
        ],
        [
         325,
         3
        ],
        [
         327,
         3
        ],
        [
         328,
         9
        ],
        [
         329,
         3
        ],
        [
         330,
         3
        ],
        [
         333,
         6
        ],
        [
         338,
         6
        ],
        [
         342,
         3
        ],
        [
         343,
         3
        ],
        [
         345,
         3
        ],
        [
         346,
         6
        ],
        [
         349,
         3
        ],
        [
         351,
         9
        ],
        [
         353,
         3
        ],
        [
         354,
         3
        ],
        [
         356,
         3
        ],
        [
         357,
         6
        ],
        [
         358,
         3
        ],
        [
         360,
         3
        ],
        [
         362,
         3
        ],
        [
         363,
         6
        ],
        [
         365,
         3
        ],
        [
         366,
         6
        ],
        [
         367,
         3
        ],
        [
         368,
         6
        ],
        [
         369,
         3
        ],
        [
         370,
         3
        ],
        [
         371,
         3
        ]
       ],
       "datasetInfos": [
        {
         "name": "resultDf",
         "schema": {
          "fields": [
           {
            "metadata": {},
            "name": "id_trayecto",
            "nullable": true,
            "type": "integer"
           },
           {
            "metadata": {},
            "name": "num_pasajeros",
            "nullable": false,
            "type": "long"
           }
          ],
          "type": "struct"
         },
         "tableIdentifier": null,
         "typeStr": "org.apache.spark.sql.DataFrame"
        }
       ],
       "dbfsResultPath": null,
       "isJsonSchema": true,
       "metadata": {
        "isDbfsCommandResult": false
       },
       "overflow": false,
       "plotOptions": {
        "customPlotOptions": {},
        "displayType": "table",
        "pivotAggregation": null,
        "pivotColumns": null,
        "xColumns": null,
        "yColumns": null
       },
       "removedWidgets": [],
       "schema": [
        {
         "metadata": "{}",
         "name": "id_trayecto",
         "type": "\"integer\""
        },
        {
         "metadata": "{}",
         "name": "num_pasajeros",
         "type": "\"long\""
        }
       ],
       "type": "table"
      }
     },
     "output_type": "display_data"
    }
   ],
   "source": [
    "\n",
    "%scala\n",
    "// Consulta SQL para obtener el número de pasajeros por trayecto\n",
    "val query = \"\"\"\n",
    "SELECT id_trayecto, COUNT(id_pasajero) AS num_pasajeros\n",
    "FROM trayecto\n",
    "GROUP BY id_trayecto\n",
    "ORDER BY id_trayecto\n",
    "\"\"\"\n",
    "\n",
    "// Ejecutar la consulta y mostrar los resultados\n",
    "val resultDf = spark.sql(query)\n",
    "display(resultDf)"
   ]
  },
  {
   "cell_type": "markdown",
   "metadata": {
    "application/vnd.databricks.v1+cell": {
     "cellMetadata": {},
     "inputWidgets": {},
     "nuid": "b8ed24bc-665d-4a85-88ef-d71d3dbbc285",
     "showTitle": false,
     "tableResultSettingsMap": {},
     "title": ""
    }
   },
   "source": [
    "con vista temporal "
   ]
  },
  {
   "cell_type": "code",
   "execution_count": 0,
   "metadata": {
    "application/vnd.databricks.v1+cell": {
     "cellMetadata": {
      "byteLimit": 2048000,
      "rowLimit": 10000
     },
     "inputWidgets": {},
     "nuid": "5e3046c1-a5ec-4117-8c30-a8b7ed822f58",
     "showTitle": false,
     "tableResultSettingsMap": {},
     "title": ""
    }
   },
   "outputs": [
    {
     "output_type": "display_data",
     "data": {
      "text/html": [
       "<style scoped>\n",
       "  .table-result-container {\n",
       "    max-height: 300px;\n",
       "    overflow: auto;\n",
       "  }\n",
       "  table, th, td {\n",
       "    border: 1px solid black;\n",
       "    border-collapse: collapse;\n",
       "  }\n",
       "  th, td {\n",
       "    padding: 5px;\n",
       "  }\n",
       "  th {\n",
       "    text-align: left;\n",
       "  }\n",
       "</style><div class='table-result-container'><table class='table-result'><thead style='background-color: white'><tr><th>id_pasajero</th><th>id_trayecto</th><th>inicio</th><th>fin</th></tr></thead><tbody><tr><td>79</td><td>277</td><td>2017-04-08T23:24:33Z</td><td>2018-10-15T16:12:30Z</td></tr><tr><td>15</td><td>295</td><td>2016-07-09T19:21:59Z</td><td>2016-09-26T14:39:01Z</td></tr><tr><td>98</td><td>286</td><td>2017-10-21T08:26:22Z</td><td>2016-11-04T07:51:04Z</td></tr><tr><td>92</td><td>297</td><td>2018-06-01T01:43:39Z</td><td>2018-07-29T05:24:59Z</td></tr><tr><td>72</td><td>303</td><td>2019-03-02T17:53:15Z</td><td>2016-04-29T23:08:42Z</td></tr><tr><td>39</td><td>274</td><td>2019-03-28T00:24:27Z</td><td>2021-01-16T17:45:55Z</td></tr><tr><td>42</td><td>333</td><td>2017-07-09T08:26:06Z</td><td>2020-03-11T13:10:35Z</td></tr><tr><td>95</td><td>371</td><td>2020-09-10T05:37:14Z</td><td>2016-04-01T09:19:44Z</td></tr><tr><td>31</td><td>320</td><td>2020-06-18T06:44:30Z</td><td>2017-12-03T20:46:59Z</td></tr><tr><td>11</td><td>319</td><td>2016-05-09T22:11:01Z</td><td>2019-11-24T08:01:30Z</td></tr><tr><td>72</td><td>311</td><td>2018-10-01T11:21:01Z</td><td>2018-03-23T08:47:01Z</td></tr><tr><td>36</td><td>346</td><td>2016-09-16T14:54:04Z</td><td>2016-03-31T13:42:33Z</td></tr><tr><td>50</td><td>330</td><td>2017-10-16T12:20:14Z</td><td>2021-01-20T18:09:12Z</td></tr><tr><td>100</td><td>308</td><td>2018-07-28T17:16:07Z</td><td>2020-02-13T10:17:32Z</td></tr><tr><td>61</td><td>301</td><td>2018-11-02T00:16:53Z</td><td>2020-05-05T08:26:29Z</td></tr><tr><td>76</td><td>365</td><td>2016-09-12T11:30:51Z</td><td>2020-02-02T11:21:04Z</td></tr><tr><td>29</td><td>317</td><td>2018-08-12T07:59:39Z</td><td>2018-12-10T11:41:09Z</td></tr><tr><td>83</td><td>354</td><td>2020-08-20T23:29:46Z</td><td>2018-08-27T08:16:36Z</td></tr><tr><td>95</td><td>371</td><td>2020-09-10T05:37:14Z</td><td>2016-04-01T09:19:44Z</td></tr><tr><td>92</td><td>345</td><td>2020-01-15T22:54:32Z</td><td>2018-05-03T01:15:50Z</td></tr><tr><td>96</td><td>368</td><td>2020-02-24T17:42:57Z</td><td>2019-12-18T12:34:42Z</td></tr><tr><td>84</td><td>357</td><td>2018-07-14T00:26:41Z</td><td>2019-07-11T03:22:08Z</td></tr><tr><td>93</td><td>349</td><td>2020-09-14T07:09:21Z</td><td>2017-08-06T23:28:43Z</td></tr><tr><td>50</td><td>328</td><td>2020-06-20T23:10:21Z</td><td>2017-06-13T10:48:30Z</td></tr><tr><td>56</td><td>362</td><td>2020-08-04T01:32:40Z</td><td>2018-04-22T07:19:47Z</td></tr><tr><td>76</td><td>365</td><td>2016-09-12T11:30:51Z</td><td>2020-02-02T11:21:04Z</td></tr><tr><td>100</td><td>299</td><td>2019-03-09T14:11:15Z</td><td>2020-11-27T13:14:58Z</td></tr><tr><td>39</td><td>274</td><td>2019-03-28T00:24:27Z</td><td>2021-01-16T17:45:55Z</td></tr><tr><td>97</td><td>315</td><td>2017-09-06T15:37:14Z</td><td>2017-10-25T06:41:06Z</td></tr><tr><td>52</td><td>289</td><td>2017-03-06T01:10:45Z</td><td>2019-01-07T18:46:53Z</td></tr><tr><td>61</td><td>301</td><td>2018-11-02T00:16:53Z</td><td>2020-05-05T08:26:29Z</td></tr><tr><td>21</td><td>283</td><td>2016-05-11T08:56:18Z</td><td>2019-06-08T09:37:16Z</td></tr><tr><td>14</td><td>328</td><td>2017-09-18T00:54:27Z</td><td>2020-10-27T20:37:51Z</td></tr><tr><td>47</td><td>283</td><td>2018-05-20T21:27:12Z</td><td>2018-08-31T08:27:52Z</td></tr><tr><td>95</td><td>371</td><td>2020-09-10T05:37:14Z</td><td>2016-04-01T09:19:44Z</td></tr><tr><td>100</td><td>308</td><td>2018-07-28T17:16:07Z</td><td>2020-02-13T10:17:32Z</td></tr><tr><td>47</td><td>333</td><td>2016-07-27T22:33:25Z</td><td>2021-01-14T14:24:49Z</td></tr><tr><td>84</td><td>292</td><td>2016-04-26T21:34:33Z</td><td>2020-11-29T19:45:37Z</td></tr><tr><td>13</td><td>287</td><td>2019-01-10T09:47:19Z</td><td>2017-12-08T19:25:40Z</td></tr><tr><td>57</td><td>306</td><td>2020-03-26T03:08:57Z</td><td>2018-10-15T11:26:21Z</td></tr><tr><td>41</td><td>278</td><td>2018-06-27T00:27:12Z</td><td>2017-01-05T06:57:30Z</td></tr><tr><td>89</td><td>287</td><td>2020-06-26T13:16:30Z</td><td>2016-11-09T08:14:42Z</td></tr><tr><td>15</td><td>295</td><td>2016-07-09T19:21:59Z</td><td>2016-09-26T14:39:01Z</td></tr><tr><td>76</td><td>308</td><td>2018-03-03T01:42:07Z</td><td>2019-07-23T09:48:20Z</td></tr><tr><td>40</td><td>292</td><td>2019-07-12T07:29:14Z</td><td>2019-10-30T22:38:35Z</td></tr><tr><td>96</td><td>353</td><td>2016-08-25T11:12:30Z</td><td>2017-05-25T01:37:43Z</td></tr><tr><td>29</td><td>317</td><td>2018-08-12T07:59:39Z</td><td>2018-12-10T11:41:09Z</td></tr><tr><td>41</td><td>278</td><td>2018-06-27T00:27:12Z</td><td>2017-01-05T06:57:30Z</td></tr><tr><td>89</td><td>358</td><td>2019-10-18T20:40:47Z</td><td>2020-06-28T12:03:02Z</td></tr><tr><td>84</td><td>299</td><td>2019-01-08T13:22:25Z</td><td>2020-02-21T10:45:38Z</td></tr><tr><td>47</td><td>333</td><td>2016-07-27T22:33:25Z</td><td>2021-01-14T14:24:49Z</td></tr><tr><td>23</td><td>281</td><td>2020-11-20T23:54:00Z</td><td>2018-09-25T20:08:07Z</td></tr><tr><td>70</td><td>276</td><td>2019-11-26T15:23:01Z</td><td>2018-10-20T05:57:11Z</td></tr><tr><td>96</td><td>368</td><td>2020-02-24T17:42:57Z</td><td>2019-12-18T12:34:42Z</td></tr><tr><td>83</td><td>354</td><td>2020-08-20T23:29:46Z</td><td>2018-08-27T08:16:36Z</td></tr><tr><td>12</td><td>338</td><td>2020-03-20T05:09:40Z</td><td>2019-07-02T13:02:08Z</td></tr><tr><td>9</td><td>298</td><td>2019-12-02T05:31:01Z</td><td>2019-03-18T18:43:45Z</td></tr><tr><td>45</td><td>367</td><td>2019-06-14T06:54:25Z</td><td>2017-03-18T11:28:53Z</td></tr><tr><td>14</td><td>328</td><td>2017-09-18T00:54:27Z</td><td>2020-10-27T20:37:51Z</td></tr><tr><td>91</td><td>357</td><td>2017-06-12T16:40:07Z</td><td>2019-08-28T05:27:05Z</td></tr><tr><td>75</td><td>368</td><td>2020-08-22T06:47:31Z</td><td>2019-10-10T10:44:00Z</td></tr><tr><td>42</td><td>333</td><td>2017-07-09T08:26:06Z</td><td>2020-03-11T13:10:35Z</td></tr><tr><td>27</td><td>366</td><td>2016-05-13T09:33:39Z</td><td>2017-12-21T16:23:17Z</td></tr><tr><td>23</td><td>281</td><td>2020-11-20T23:54:00Z</td><td>2018-09-25T20:08:07Z</td></tr><tr><td>87</td><td>294</td><td>2018-07-04T23:35:40Z</td><td>2016-11-18T06:56:36Z</td></tr><tr><td>71</td><td>310</td><td>2018-01-19T04:48:42Z</td><td>2016-05-09T02:01:34Z</td></tr><tr><td>13</td><td>292</td><td>2020-11-05T18:50:29Z</td><td>2020-06-01T13:14:45Z</td></tr><tr><td>11</td><td>351</td><td>2020-07-04T02:12:18Z</td><td>2020-12-09T00:47:52Z</td></tr><tr><td>61</td><td>323</td><td>2017-03-31T06:31:29Z</td><td>2017-10-24T06:59:17Z</td></tr><tr><td>6</td><td>288</td><td>2018-04-28T00:25:20Z</td><td>2016-04-16T19:11:05Z</td></tr><tr><td>14</td><td>356</td><td>2018-12-31T09:05:39Z</td><td>2016-11-17T18:35:57Z</td></tr><tr><td>9</td><td>369</td><td>2018-01-19T06:06:59Z</td><td>2020-04-14T07:34:02Z</td></tr><tr><td>1</td><td>274</td><td>2018-03-13T20:29:34Z</td><td>2021-02-08T01:45:05Z</td></tr><tr><td>22</td><td>274</td><td>2019-01-09T16:43:25Z</td><td>2020-12-19T13:51:10Z</td></tr><tr><td>50</td><td>328</td><td>2020-06-20T23:10:21Z</td><td>2017-06-13T10:48:30Z</td></tr><tr><td>72</td><td>303</td><td>2019-03-02T17:53:15Z</td><td>2016-04-29T23:08:42Z</td></tr><tr><td>71</td><td>310</td><td>2018-01-19T04:48:42Z</td><td>2016-05-09T02:01:34Z</td></tr><tr><td>50</td><td>330</td><td>2017-10-16T12:20:14Z</td><td>2021-01-20T18:09:12Z</td></tr><tr><td>89</td><td>287</td><td>2020-06-26T13:16:30Z</td><td>2016-11-09T08:14:42Z</td></tr><tr><td>93</td><td>349</td><td>2020-09-14T07:09:21Z</td><td>2017-08-06T23:28:43Z</td></tr><tr><td>92</td><td>297</td><td>2018-06-01T01:43:39Z</td><td>2018-07-29T05:24:59Z</td></tr><tr><td>97</td><td>287</td><td>2017-04-30T02:04:01Z</td><td>2017-05-31T20:36:03Z</td></tr><tr><td>77</td><td>370</td><td>2017-09-20T18:24:32Z</td><td>2016-09-08T09:34:06Z</td></tr><tr><td>85</td><td>306</td><td>2018-10-20T09:20:58Z</td><td>2017-10-29T22:14:57Z</td></tr><tr><td>79</td><td>277</td><td>2017-04-08T23:24:33Z</td><td>2018-10-15T16:12:30Z</td></tr><tr><td>79</td><td>277</td><td>2017-04-08T23:24:33Z</td><td>2018-10-15T16:12:30Z</td></tr><tr><td>6</td><td>288</td><td>2018-04-28T00:25:20Z</td><td>2016-04-16T19:11:05Z</td></tr><tr><td>84</td><td>357</td><td>2018-07-14T00:26:41Z</td><td>2019-07-11T03:22:08Z</td></tr><tr><td>39</td><td>298</td><td>2019-02-11T10:38:45Z</td><td>2017-07-07T06:08:41Z</td></tr><tr><td>15</td><td>295</td><td>2016-07-09T19:21:59Z</td><td>2016-09-26T14:39:01Z</td></tr><tr><td>79</td><td>277</td><td>2017-04-08T23:24:33Z</td><td>2018-10-15T16:12:30Z</td></tr><tr><td>4</td><td>343</td><td>2017-05-09T07:28:34Z</td><td>2016-07-22T19:20:38Z</td></tr><tr><td>93</td><td>349</td><td>2020-09-14T07:09:21Z</td><td>2017-08-06T23:28:43Z</td></tr><tr><td>97</td><td>315</td><td>2017-09-06T15:37:14Z</td><td>2017-10-25T06:41:06Z</td></tr><tr><td>20</td><td>360</td><td>2016-11-19T15:59:33Z</td><td>2016-06-21T00:59:20Z</td></tr><tr><td>100</td><td>308</td><td>2018-07-28T17:16:07Z</td><td>2020-02-13T10:17:32Z</td></tr><tr><td>100</td><td>308</td><td>2018-07-28T17:16:07Z</td><td>2020-02-13T10:17:32Z</td></tr><tr><td>38</td><td>307</td><td>2020-04-18T18:59:12Z</td><td>2018-06-08T08:30:54Z</td></tr><tr><td>4</td><td>343</td><td>2017-05-09T07:28:34Z</td><td>2016-07-22T19:20:38Z</td></tr><tr><td>21</td><td>283</td><td>2016-05-11T08:56:18Z</td><td>2019-06-08T09:37:16Z</td></tr><tr><td>13</td><td>292</td><td>2020-11-05T18:50:29Z</td><td>2020-06-01T13:14:45Z</td></tr><tr><td>29</td><td>317</td><td>2018-08-12T07:59:39Z</td><td>2018-12-10T11:41:09Z</td></tr><tr><td>6</td><td>325</td><td>2016-08-06T19:17:43Z</td><td>2019-03-17T18:07:39Z</td></tr><tr><td>32</td><td>329</td><td>2018-09-27T11:06:48Z</td><td>2016-12-03T13:49:11Z</td></tr><tr><td>72</td><td>311</td><td>2018-10-01T11:21:01Z</td><td>2018-03-23T08:47:01Z</td></tr><tr><td>72</td><td>311</td><td>2018-10-01T11:21:01Z</td><td>2018-03-23T08:47:01Z</td></tr><tr><td>33</td><td>351</td><td>2019-07-01T20:54:34Z</td><td>2019-09-07T21:39:13Z</td></tr><tr><td>14</td><td>356</td><td>2018-12-31T09:05:39Z</td><td>2016-11-17T18:35:57Z</td></tr><tr><td>77</td><td>288</td><td>2016-10-27T05:32:22Z</td><td>2018-05-10T01:37:22Z</td></tr><tr><td>85</td><td>306</td><td>2018-10-20T09:20:58Z</td><td>2017-10-29T22:14:57Z</td></tr><tr><td>84</td><td>357</td><td>2018-07-14T00:26:41Z</td><td>2019-07-11T03:22:08Z</td></tr><tr><td>37</td><td>320</td><td>2017-08-06T16:32:28Z</td><td>2017-03-29T15:41:16Z</td></tr><tr><td>92</td><td>297</td><td>2018-06-01T01:43:39Z</td><td>2018-07-29T05:24:59Z</td></tr><tr><td>23</td><td>281</td><td>2020-11-20T23:54:00Z</td><td>2018-09-25T20:08:07Z</td></tr><tr><td>83</td><td>354</td><td>2020-08-20T23:29:46Z</td><td>2018-08-27T08:16:36Z</td></tr><tr><td>20</td><td>360</td><td>2016-11-19T15:59:33Z</td><td>2016-06-21T00:59:20Z</td></tr><tr><td>50</td><td>330</td><td>2017-10-16T12:20:14Z</td><td>2021-01-20T18:09:12Z</td></tr><tr><td>29</td><td>317</td><td>2018-08-12T07:59:39Z</td><td>2018-12-10T11:41:09Z</td></tr><tr><td>40</td><td>292</td><td>2019-07-12T07:29:14Z</td><td>2019-10-30T22:38:35Z</td></tr><tr><td>96</td><td>368</td><td>2020-02-24T17:42:57Z</td><td>2019-12-18T12:34:42Z</td></tr><tr><td>47</td><td>333</td><td>2016-07-27T22:33:25Z</td><td>2021-01-14T14:24:49Z</td></tr><tr><td>84</td><td>299</td><td>2019-01-08T13:22:25Z</td><td>2020-02-21T10:45:38Z</td></tr><tr><td>45</td><td>323</td><td>2019-03-02T11:35:53Z</td><td>2016-12-24T08:29:52Z</td></tr><tr><td>39</td><td>298</td><td>2019-02-11T10:38:45Z</td><td>2017-07-07T06:08:41Z</td></tr><tr><td>97</td><td>316</td><td>2020-04-01T16:26:11Z</td><td>2019-07-28T03:01:24Z</td></tr><tr><td>1</td><td>274</td><td>2018-03-13T20:29:34Z</td><td>2021-02-08T01:45:05Z</td></tr><tr><td>32</td><td>329</td><td>2018-09-27T11:06:48Z</td><td>2016-12-03T13:49:11Z</td></tr><tr><td>32</td><td>329</td><td>2018-09-27T11:06:48Z</td><td>2016-12-03T13:49:11Z</td></tr><tr><td>9</td><td>298</td><td>2019-12-02T05:31:01Z</td><td>2019-03-18T18:43:45Z</td></tr><tr><td>56</td><td>362</td><td>2020-08-04T01:32:40Z</td><td>2018-04-22T07:19:47Z</td></tr><tr><td>6</td><td>311</td><td>2019-05-08T22:55:28Z</td><td>2016-05-31T09:15:26Z</td></tr><tr><td>96</td><td>368</td><td>2020-02-24T17:42:57Z</td><td>2019-12-18T12:34:42Z</td></tr><tr><td>41</td><td>278</td><td>2018-06-27T00:27:12Z</td><td>2017-01-05T06:57:30Z</td></tr><tr><td>13</td><td>287</td><td>2019-01-10T09:47:19Z</td><td>2017-12-08T19:25:40Z</td></tr><tr><td>27</td><td>366</td><td>2016-05-13T09:33:39Z</td><td>2017-12-21T16:23:17Z</td></tr><tr><td>13</td><td>287</td><td>2019-01-10T09:47:19Z</td><td>2017-12-08T19:25:40Z</td></tr><tr><td>45</td><td>323</td><td>2019-03-02T11:35:53Z</td><td>2016-12-24T08:29:52Z</td></tr><tr><td>57</td><td>306</td><td>2020-03-26T03:08:57Z</td><td>2018-10-15T11:26:21Z</td></tr><tr><td>23</td><td>281</td><td>2020-11-20T23:54:00Z</td><td>2018-09-25T20:08:07Z</td></tr><tr><td>57</td><td>306</td><td>2020-03-26T03:08:57Z</td><td>2018-10-15T11:26:21Z</td></tr><tr><td>97</td><td>316</td><td>2020-04-01T16:26:11Z</td><td>2019-07-28T03:01:24Z</td></tr><tr><td>6</td><td>325</td><td>2016-08-06T19:17:43Z</td><td>2019-03-17T18:07:39Z</td></tr><tr><td>50</td><td>330</td><td>2017-10-16T12:20:14Z</td><td>2021-01-20T18:09:12Z</td></tr><tr><td>97</td><td>316</td><td>2020-04-01T16:26:11Z</td><td>2019-07-28T03:01:24Z</td></tr><tr><td>9</td><td>369</td><td>2018-01-19T06:06:59Z</td><td>2020-04-14T07:34:02Z</td></tr><tr><td>33</td><td>351</td><td>2019-07-01T20:54:34Z</td><td>2019-09-07T21:39:13Z</td></tr><tr><td>84</td><td>299</td><td>2019-01-08T13:22:25Z</td><td>2020-02-21T10:45:38Z</td></tr><tr><td>6</td><td>311</td><td>2019-05-08T22:55:28Z</td><td>2016-05-31T09:15:26Z</td></tr><tr><td>1</td><td>274</td><td>2018-03-13T20:29:34Z</td><td>2021-02-08T01:45:05Z</td></tr><tr><td>6</td><td>325</td><td>2016-08-06T19:17:43Z</td><td>2019-03-17T18:07:39Z</td></tr><tr><td>91</td><td>357</td><td>2017-06-12T16:40:07Z</td><td>2019-08-28T05:27:05Z</td></tr><tr><td>38</td><td>307</td><td>2020-04-18T18:59:12Z</td><td>2018-06-08T08:30:54Z</td></tr><tr><td>18</td><td>366</td><td>2020-07-16T09:29:52Z</td><td>2018-08-21T09:16:39Z</td></tr><tr><td>84</td><td>299</td><td>2019-01-08T13:22:25Z</td><td>2020-02-21T10:45:38Z</td></tr><tr><td>9</td><td>298</td><td>2019-12-02T05:31:01Z</td><td>2019-03-18T18:43:45Z</td></tr><tr><td>70</td><td>276</td><td>2019-11-26T15:23:01Z</td><td>2018-10-20T05:57:11Z</td></tr><tr><td>22</td><td>274</td><td>2019-01-09T16:43:25Z</td><td>2020-12-19T13:51:10Z</td></tr><tr><td>46</td><td>297</td><td>2018-11-14T23:22:00Z</td><td>2019-05-19T23:43:38Z</td></tr><tr><td>41</td><td>278</td><td>2018-06-27T00:27:12Z</td><td>2017-01-05T06:57:30Z</td></tr><tr><td>47</td><td>283</td><td>2018-05-20T21:27:12Z</td><td>2018-08-31T08:27:52Z</td></tr><tr><td>89</td><td>358</td><td>2019-10-18T20:40:47Z</td><td>2020-06-28T12:03:02Z</td></tr><tr><td>100</td><td>299</td><td>2019-03-09T14:11:15Z</td><td>2020-11-27T13:14:58Z</td></tr><tr><td>47</td><td>283</td><td>2018-05-20T21:27:12Z</td><td>2018-08-31T08:27:52Z</td></tr><tr><td>92</td><td>345</td><td>2020-01-15T22:54:32Z</td><td>2018-05-03T01:15:50Z</td></tr><tr><td>61</td><td>301</td><td>2018-11-02T00:16:53Z</td><td>2020-05-05T08:26:29Z</td></tr><tr><td>76</td><td>365</td><td>2016-09-12T11:30:51Z</td><td>2020-02-02T11:21:04Z</td></tr><tr><td>70</td><td>276</td><td>2019-11-26T15:23:01Z</td><td>2018-10-20T05:57:11Z</td></tr><tr><td>72</td><td>311</td><td>2018-10-01T11:21:01Z</td><td>2018-03-23T08:47:01Z</td></tr><tr><td>42</td><td>333</td><td>2017-07-09T08:26:06Z</td><td>2020-03-11T13:10:35Z</td></tr><tr><td>52</td><td>289</td><td>2017-03-06T01:10:45Z</td><td>2019-01-07T18:46:53Z</td></tr><tr><td>31</td><td>320</td><td>2020-06-18T06:44:30Z</td><td>2017-12-03T20:46:59Z</td></tr><tr><td>75</td><td>368</td><td>2020-08-22T06:47:31Z</td><td>2019-10-10T10:44:00Z</td></tr><tr><td>87</td><td>294</td><td>2018-07-04T23:35:40Z</td><td>2016-11-18T06:56:36Z</td></tr><tr><td>9</td><td>369</td><td>2018-01-19T06:06:59Z</td><td>2020-04-14T07:34:02Z</td></tr><tr><td>98</td><td>286</td><td>2017-10-21T08:26:22Z</td><td>2016-11-04T07:51:04Z</td></tr><tr><td>93</td><td>349</td><td>2020-09-14T07:09:21Z</td><td>2017-08-06T23:28:43Z</td></tr><tr><td>18</td><td>366</td><td>2020-07-16T09:29:52Z</td><td>2018-08-21T09:16:39Z</td></tr><tr><td>61</td><td>323</td><td>2017-03-31T06:31:29Z</td><td>2017-10-24T06:59:17Z</td></tr><tr><td>31</td><td>320</td><td>2020-06-18T06:44:30Z</td><td>2017-12-03T20:46:59Z</td></tr><tr><td>21</td><td>283</td><td>2016-05-11T08:56:18Z</td><td>2019-06-08T09:37:16Z</td></tr><tr><td>11</td><td>351</td><td>2020-07-04T02:12:18Z</td><td>2020-12-09T00:47:52Z</td></tr><tr><td>97</td><td>316</td><td>2020-04-01T16:26:11Z</td><td>2019-07-28T03:01:24Z</td></tr><tr><td>95</td><td>371</td><td>2020-09-10T05:37:14Z</td><td>2016-04-01T09:19:44Z</td></tr><tr><td>11</td><td>319</td><td>2016-05-09T22:11:01Z</td><td>2019-11-24T08:01:30Z</td></tr><tr><td>85</td><td>306</td><td>2018-10-20T09:20:58Z</td><td>2017-10-29T22:14:57Z</td></tr><tr><td>39</td><td>298</td><td>2019-02-11T10:38:45Z</td><td>2017-07-07T06:08:41Z</td></tr><tr><td>76</td><td>308</td><td>2018-03-03T01:42:07Z</td><td>2019-07-23T09:48:20Z</td></tr><tr><td>12</td><td>338</td><td>2020-03-20T05:09:40Z</td><td>2019-07-02T13:02:08Z</td></tr><tr><td>72</td><td>303</td><td>2019-03-02T17:53:15Z</td><td>2016-04-29T23:08:42Z</td></tr><tr><td>37</td><td>320</td><td>2017-08-06T16:32:28Z</td><td>2017-03-29T15:41:16Z</td></tr><tr><td>46</td><td>297</td><td>2018-11-14T23:22:00Z</td><td>2019-05-19T23:43:38Z</td></tr><tr><td>39</td><td>274</td><td>2019-03-28T00:24:27Z</td><td>2021-01-16T17:45:55Z</td></tr><tr><td>84</td><td>292</td><td>2016-04-26T21:34:33Z</td><td>2020-11-29T19:45:37Z</td></tr><tr><td>76</td><td>365</td><td>2016-09-12T11:30:51Z</td><td>2020-02-02T11:21:04Z</td></tr><tr><td>56</td><td>362</td><td>2020-08-04T01:32:40Z</td><td>2018-04-22T07:19:47Z</td></tr><tr><td>84</td><td>292</td><td>2016-04-26T21:34:33Z</td><td>2020-11-29T19:45:37Z</td></tr><tr><td>15</td><td>295</td><td>2016-07-09T19:21:59Z</td><td>2016-09-26T14:39:01Z</td></tr><tr><td>77</td><td>288</td><td>2016-10-27T05:32:22Z</td><td>2018-05-10T01:37:22Z</td></tr><tr><td>85</td><td>306</td><td>2018-10-20T09:20:58Z</td><td>2017-10-29T22:14:57Z</td></tr><tr><td>92</td><td>345</td><td>2020-01-15T22:54:32Z</td><td>2018-05-03T01:15:50Z</td></tr><tr><td>89</td><td>358</td><td>2019-10-18T20:40:47Z</td><td>2020-06-28T12:03:02Z</td></tr><tr><td>13</td><td>287</td><td>2019-01-10T09:47:19Z</td><td>2017-12-08T19:25:40Z</td></tr><tr><td>83</td><td>354</td><td>2020-08-20T23:29:46Z</td><td>2018-08-27T08:16:36Z</td></tr><tr><td>56</td><td>362</td><td>2020-08-04T01:32:40Z</td><td>2018-04-22T07:19:47Z</td></tr><tr><td>42</td><td>333</td><td>2017-07-09T08:26:06Z</td><td>2020-03-11T13:10:35Z</td></tr><tr><td>47</td><td>283</td><td>2018-05-20T21:27:12Z</td><td>2018-08-31T08:27:52Z</td></tr><tr><td>4</td><td>343</td><td>2017-05-09T07:28:34Z</td><td>2016-07-22T19:20:38Z</td></tr><tr><td>57</td><td>328</td><td>2018-05-18T20:46:21Z</td><td>2016-05-28T13:57:10Z</td></tr><tr><td>97</td><td>315</td><td>2017-09-06T15:37:14Z</td><td>2017-10-25T06:41:06Z</td></tr><tr><td>71</td><td>310</td><td>2018-01-19T04:48:42Z</td><td>2016-05-09T02:01:34Z</td></tr><tr><td>39</td><td>274</td><td>2019-03-28T00:24:27Z</td><td>2021-01-16T17:45:55Z</td></tr><tr><td>89</td><td>287</td><td>2020-06-26T13:16:30Z</td><td>2016-11-09T08:14:42Z</td></tr><tr><td>40</td><td>292</td><td>2019-07-12T07:29:14Z</td><td>2019-10-30T22:38:35Z</td></tr><tr><td>12</td><td>338</td><td>2020-03-20T05:09:40Z</td><td>2019-07-02T13:02:08Z</td></tr><tr><td>76</td><td>308</td><td>2018-03-03T01:42:07Z</td><td>2019-07-23T09:48:20Z</td></tr><tr><td>96</td><td>353</td><td>2016-08-25T11:12:30Z</td><td>2017-05-25T01:37:43Z</td></tr><tr><td>1</td><td>274</td><td>2018-03-13T20:29:34Z</td><td>2021-02-08T01:45:05Z</td></tr><tr><td>77</td><td>370</td><td>2017-09-20T18:24:32Z</td><td>2016-09-08T09:34:06Z</td></tr><tr><td>6</td><td>288</td><td>2018-04-28T00:25:20Z</td><td>2016-04-16T19:11:05Z</td></tr><tr><td>6</td><td>288</td><td>2018-04-28T00:25:20Z</td><td>2016-04-16T19:11:05Z</td></tr><tr><td>77</td><td>370</td><td>2017-09-20T18:24:32Z</td><td>2016-09-08T09:34:06Z</td></tr><tr><td>45</td><td>367</td><td>2019-06-14T06:54:25Z</td><td>2017-03-18T11:28:53Z</td></tr><tr><td>57</td><td>306</td><td>2020-03-26T03:08:57Z</td><td>2018-10-15T11:26:21Z</td></tr><tr><td>97</td><td>287</td><td>2017-04-30T02:04:01Z</td><td>2017-05-31T20:36:03Z</td></tr><tr><td>92</td><td>297</td><td>2018-06-01T01:43:39Z</td><td>2018-07-29T05:24:59Z</td></tr><tr><td>77</td><td>288</td><td>2016-10-27T05:32:22Z</td><td>2018-05-10T01:37:22Z</td></tr><tr><td>61</td><td>323</td><td>2017-03-31T06:31:29Z</td><td>2017-10-24T06:59:17Z</td></tr><tr><td>38</td><td>307</td><td>2020-04-18T18:59:12Z</td><td>2018-06-08T08:30:54Z</td></tr><tr><td>100</td><td>299</td><td>2019-03-09T14:11:15Z</td><td>2020-11-27T13:14:58Z</td></tr><tr><td>57</td><td>328</td><td>2018-05-18T20:46:21Z</td><td>2016-05-28T13:57:10Z</td></tr><tr><td>36</td><td>346</td><td>2016-09-16T14:54:04Z</td><td>2016-03-31T13:42:33Z</td></tr><tr><td>89</td><td>358</td><td>2019-10-18T20:40:47Z</td><td>2020-06-28T12:03:02Z</td></tr><tr><td>36</td><td>346</td><td>2016-09-16T14:54:04Z</td><td>2016-03-31T13:42:33Z</td></tr><tr><td>18</td><td>366</td><td>2020-07-16T09:29:52Z</td><td>2018-08-21T09:16:39Z</td></tr><tr><td>6</td><td>311</td><td>2019-05-08T22:55:28Z</td><td>2016-05-31T09:15:26Z</td></tr><tr><td>84</td><td>292</td><td>2016-04-26T21:34:33Z</td><td>2020-11-29T19:45:37Z</td></tr><tr><td>38</td><td>307</td><td>2020-04-18T18:59:12Z</td><td>2018-06-08T08:30:54Z</td></tr><tr><td>91</td><td>357</td><td>2017-06-12T16:40:07Z</td><td>2019-08-28T05:27:05Z</td></tr><tr><td>45</td><td>323</td><td>2019-03-02T11:35:53Z</td><td>2016-12-24T08:29:52Z</td></tr><tr><td>34</td><td>272</td><td>2017-07-11T04:51:36Z</td><td>2019-08-22T09:02:36Z</td></tr><tr><td>22</td><td>274</td><td>2019-01-09T16:43:25Z</td><td>2020-12-19T13:51:10Z</td></tr><tr><td>57</td><td>328</td><td>2018-05-18T20:46:21Z</td><td>2016-05-28T13:57:10Z</td></tr><tr><td>61</td><td>323</td><td>2017-03-31T06:31:29Z</td><td>2017-10-24T06:59:17Z</td></tr><tr><td>46</td><td>297</td><td>2018-11-14T23:22:00Z</td><td>2019-05-19T23:43:38Z</td></tr><tr><td>11</td><td>351</td><td>2020-07-04T02:12:18Z</td><td>2020-12-09T00:47:52Z</td></tr><tr><td>96</td><td>353</td><td>2016-08-25T11:12:30Z</td><td>2017-05-25T01:37:43Z</td></tr><tr><td>77</td><td>370</td><td>2017-09-20T18:24:32Z</td><td>2016-09-08T09:34:06Z</td></tr><tr><td>34</td><td>272</td><td>2017-07-11T04:51:36Z</td><td>2019-08-22T09:02:36Z</td></tr><tr><td>27</td><td>366</td><td>2016-05-13T09:33:39Z</td><td>2017-12-21T16:23:17Z</td></tr><tr><td>11</td><td>319</td><td>2016-05-09T22:11:01Z</td><td>2019-11-24T08:01:30Z</td></tr><tr><td>52</td><td>289</td><td>2017-03-06T01:10:45Z</td><td>2019-01-07T18:46:53Z</td></tr><tr><td>4</td><td>343</td><td>2017-05-09T07:28:34Z</td><td>2016-07-22T19:20:38Z</td></tr><tr><td>33</td><td>351</td><td>2019-07-01T20:54:34Z</td><td>2019-09-07T21:39:13Z</td></tr><tr><td>34</td><td>272</td><td>2017-07-11T04:51:36Z</td><td>2019-08-22T09:02:36Z</td></tr><tr><td>13</td><td>292</td><td>2020-11-05T18:50:29Z</td><td>2020-06-01T13:14:45Z</td></tr><tr><td>72</td><td>303</td><td>2019-03-02T17:53:15Z</td><td>2016-04-29T23:08:42Z</td></tr><tr><td>13</td><td>292</td><td>2020-11-05T18:50:29Z</td><td>2020-06-01T13:14:45Z</td></tr><tr><td>39</td><td>298</td><td>2019-02-11T10:38:45Z</td><td>2017-07-07T06:08:41Z</td></tr><tr><td>45</td><td>367</td><td>2019-06-14T06:54:25Z</td><td>2017-03-18T11:28:53Z</td></tr><tr><td>27</td><td>366</td><td>2016-05-13T09:33:39Z</td><td>2017-12-21T16:23:17Z</td></tr><tr><td>97</td><td>287</td><td>2017-04-30T02:04:01Z</td><td>2017-05-31T20:36:03Z</td></tr><tr><td>12</td><td>338</td><td>2020-03-20T05:09:40Z</td><td>2019-07-02T13:02:08Z</td></tr><tr><td>21</td><td>283</td><td>2016-05-11T08:56:18Z</td><td>2019-06-08T09:37:16Z</td></tr><tr><td>98</td><td>286</td><td>2017-10-21T08:26:22Z</td><td>2016-11-04T07:51:04Z</td></tr><tr><td>22</td><td>274</td><td>2019-01-09T16:43:25Z</td><td>2020-12-19T13:51:10Z</td></tr><tr><td>6</td><td>325</td><td>2016-08-06T19:17:43Z</td><td>2019-03-17T18:07:39Z</td></tr><tr><td>97</td><td>315</td><td>2017-09-06T15:37:14Z</td><td>2017-10-25T06:41:06Z</td></tr><tr><td>75</td><td>368</td><td>2020-08-22T06:47:31Z</td><td>2019-10-10T10:44:00Z</td></tr><tr><td>57</td><td>328</td><td>2018-05-18T20:46:21Z</td><td>2016-05-28T13:57:10Z</td></tr><tr><td>6</td><td>311</td><td>2019-05-08T22:55:28Z</td><td>2016-05-31T09:15:26Z</td></tr><tr><td>11</td><td>351</td><td>2020-07-04T02:12:18Z</td><td>2020-12-09T00:47:52Z</td></tr><tr><td>33</td><td>351</td><td>2019-07-01T20:54:34Z</td><td>2019-09-07T21:39:13Z</td></tr><tr><td>47</td><td>333</td><td>2016-07-27T22:33:25Z</td><td>2021-01-14T14:24:49Z</td></tr><tr><td>75</td><td>368</td><td>2020-08-22T06:47:31Z</td><td>2019-10-10T10:44:00Z</td></tr><tr><td>34</td><td>272</td><td>2017-07-11T04:51:36Z</td><td>2019-08-22T09:02:36Z</td></tr><tr><td>18</td><td>366</td><td>2020-07-16T09:29:52Z</td><td>2018-08-21T09:16:39Z</td></tr><tr><td>50</td><td>328</td><td>2020-06-20T23:10:21Z</td><td>2017-06-13T10:48:30Z</td></tr><tr><td>9</td><td>298</td><td>2019-12-02T05:31:01Z</td><td>2019-03-18T18:43:45Z</td></tr><tr><td>77</td><td>288</td><td>2016-10-27T05:32:22Z</td><td>2018-05-10T01:37:22Z</td></tr><tr><td>37</td><td>320</td><td>2017-08-06T16:32:28Z</td><td>2017-03-29T15:41:16Z</td></tr><tr><td>61</td><td>301</td><td>2018-11-02T00:16:53Z</td><td>2020-05-05T08:26:29Z</td></tr><tr><td>50</td><td>328</td><td>2020-06-20T23:10:21Z</td><td>2017-06-13T10:48:30Z</td></tr><tr><td>76</td><td>308</td><td>2018-03-03T01:42:07Z</td><td>2019-07-23T09:48:20Z</td></tr><tr><td>98</td><td>286</td><td>2017-10-21T08:26:22Z</td><td>2016-11-04T07:51:04Z</td></tr><tr><td>36</td><td>346</td><td>2016-09-16T14:54:04Z</td><td>2016-03-31T13:42:33Z</td></tr><tr><td>91</td><td>357</td><td>2017-06-12T16:40:07Z</td><td>2019-08-28T05:27:05Z</td></tr><tr><td>14</td><td>328</td><td>2017-09-18T00:54:27Z</td><td>2020-10-27T20:37:51Z</td></tr><tr><td>9</td><td>369</td><td>2018-01-19T06:06:59Z</td><td>2020-04-14T07:34:02Z</td></tr><tr><td>100</td><td>299</td><td>2019-03-09T14:11:15Z</td><td>2020-11-27T13:14:58Z</td></tr><tr><td>20</td><td>360</td><td>2016-11-19T15:59:33Z</td><td>2016-06-21T00:59:20Z</td></tr><tr><td>32</td><td>329</td><td>2018-09-27T11:06:48Z</td><td>2016-12-03T13:49:11Z</td></tr><tr><td>14</td><td>356</td><td>2018-12-31T09:05:39Z</td><td>2016-11-17T18:35:57Z</td></tr><tr><td>11</td><td>319</td><td>2016-05-09T22:11:01Z</td><td>2019-11-24T08:01:30Z</td></tr><tr><td>45</td><td>323</td><td>2019-03-02T11:35:53Z</td><td>2016-12-24T08:29:52Z</td></tr><tr><td>20</td><td>360</td><td>2016-11-19T15:59:33Z</td><td>2016-06-21T00:59:20Z</td></tr><tr><td>87</td><td>294</td><td>2018-07-04T23:35:40Z</td><td>2016-11-18T06:56:36Z</td></tr><tr><td>31</td><td>320</td><td>2020-06-18T06:44:30Z</td><td>2017-12-03T20:46:59Z</td></tr><tr><td>37</td><td>320</td><td>2017-08-06T16:32:28Z</td><td>2017-03-29T15:41:16Z</td></tr><tr><td>89</td><td>287</td><td>2020-06-26T13:16:30Z</td><td>2016-11-09T08:14:42Z</td></tr><tr><td>70</td><td>276</td><td>2019-11-26T15:23:01Z</td><td>2018-10-20T05:57:11Z</td></tr><tr><td>92</td><td>345</td><td>2020-01-15T22:54:32Z</td><td>2018-05-03T01:15:50Z</td></tr><tr><td>45</td><td>367</td><td>2019-06-14T06:54:25Z</td><td>2017-03-18T11:28:53Z</td></tr><tr><td>46</td><td>297</td><td>2018-11-14T23:22:00Z</td><td>2019-05-19T23:43:38Z</td></tr><tr><td>87</td><td>294</td><td>2018-07-04T23:35:40Z</td><td>2016-11-18T06:56:36Z</td></tr><tr><td>96</td><td>353</td><td>2016-08-25T11:12:30Z</td><td>2017-05-25T01:37:43Z</td></tr><tr><td>97</td><td>287</td><td>2017-04-30T02:04:01Z</td><td>2017-05-31T20:36:03Z</td></tr><tr><td>71</td><td>310</td><td>2018-01-19T04:48:42Z</td><td>2016-05-09T02:01:34Z</td></tr><tr><td>14</td><td>356</td><td>2018-12-31T09:05:39Z</td><td>2016-11-17T18:35:57Z</td></tr><tr><td>52</td><td>289</td><td>2017-03-06T01:10:45Z</td><td>2019-01-07T18:46:53Z</td></tr><tr><td>84</td><td>357</td><td>2018-07-14T00:26:41Z</td><td>2019-07-11T03:22:08Z</td></tr><tr><td>14</td><td>328</td><td>2017-09-18T00:54:27Z</td><td>2020-10-27T20:37:51Z</td></tr><tr><td>40</td><td>292</td><td>2019-07-12T07:29:14Z</td><td>2019-10-30T22:38:35Z</td></tr><tr><td>35</td><td>273</td><td>2017-11-12T04:12:00Z</td><td>2019-03-15T17:58:37Z</td></tr><tr><td>80</td><td>280</td><td>2019-03-02T11:38:07Z</td><td>2020-10-19T08:55:21Z</td></tr><tr><td>61</td><td>300</td><td>2019-12-28T05:24:56Z</td><td>2016-08-07T19:05:47Z</td></tr><tr><td>15</td><td>363</td><td>2021-01-27T21:49:40Z</td><td>2019-08-20T06:58:04Z</td></tr><tr><td>17</td><td>274</td><td>2019-10-17T18:43:25Z</td><td>2018-09-18T17:51:59Z</td></tr><tr><td>19</td><td>272</td><td>2016-08-21T17:27:38Z</td><td>2020-06-14T11:32:27Z</td></tr><tr><td>62</td><td>346</td><td>2019-07-23T18:52:33Z</td><td>2016-02-22T19:22:58Z</td></tr><tr><td>62</td><td>346</td><td>2019-07-23T18:52:33Z</td><td>2016-02-22T19:22:58Z</td></tr><tr><td>76</td><td>324</td><td>2018-07-29T16:50:09Z</td><td>2019-01-05T21:24:56Z</td></tr><tr><td>15</td><td>363</td><td>2021-01-27T21:49:40Z</td><td>2019-08-20T06:58:04Z</td></tr><tr><td>61</td><td>327</td><td>2017-12-23T22:58:51Z</td><td>2019-02-26T02:17:37Z</td></tr><tr><td>16</td><td>363</td><td>2017-11-28T15:42:58Z</td><td>2017-12-27T20:17:22Z</td></tr><tr><td>3</td><td>323</td><td>2018-03-18T17:00:28Z</td><td>2019-04-22T13:48:13Z</td></tr><tr><td>10</td><td>276</td><td>2017-10-22T04:55:46Z</td><td>2018-08-17T20:42:25Z</td></tr><tr><td>17</td><td>274</td><td>2019-10-17T18:43:25Z</td><td>2018-09-18T17:51:59Z</td></tr><tr><td>15</td><td>363</td><td>2021-01-27T21:49:40Z</td><td>2019-08-20T06:58:04Z</td></tr><tr><td>52</td><td>297</td><td>2018-01-11T16:55:57Z</td><td>2019-02-02T18:49:43Z</td></tr><tr><td>17</td><td>274</td><td>2019-10-17T18:43:25Z</td><td>2018-09-18T17:51:59Z</td></tr><tr><td>52</td><td>297</td><td>2018-01-11T16:55:57Z</td><td>2019-02-02T18:49:43Z</td></tr><tr><td>19</td><td>272</td><td>2016-08-21T17:27:38Z</td><td>2020-06-14T11:32:27Z</td></tr><tr><td>76</td><td>324</td><td>2018-07-29T16:50:09Z</td><td>2019-01-05T21:24:56Z</td></tr><tr><td>61</td><td>300</td><td>2019-12-28T05:24:56Z</td><td>2016-08-07T19:05:47Z</td></tr><tr><td>35</td><td>273</td><td>2017-11-12T04:12:00Z</td><td>2019-03-15T17:58:37Z</td></tr><tr><td>16</td><td>363</td><td>2017-11-28T15:42:58Z</td><td>2017-12-27T20:17:22Z</td></tr><tr><td>80</td><td>280</td><td>2019-03-02T11:38:07Z</td><td>2020-10-19T08:55:21Z</td></tr><tr><td>62</td><td>346</td><td>2019-07-23T18:52:33Z</td><td>2016-02-22T19:22:58Z</td></tr><tr><td>44</td><td>351</td><td>2020-03-22T09:54:45Z</td><td>2020-11-05T15:48:12Z</td></tr><tr><td>10</td><td>276</td><td>2017-10-22T04:55:46Z</td><td>2018-08-17T20:42:25Z</td></tr><tr><td>52</td><td>297</td><td>2018-01-11T16:55:57Z</td><td>2019-02-02T18:49:43Z</td></tr><tr><td>44</td><td>351</td><td>2020-03-22T09:54:45Z</td><td>2020-11-05T15:48:12Z</td></tr><tr><td>74</td><td>290</td><td>2020-12-17T04:06:43Z</td><td>2016-09-05T11:26:57Z</td></tr><tr><td>50</td><td>277</td><td>2020-02-28T01:23:58Z</td><td>2017-11-08T09:15:12Z</td></tr><tr><td>50</td><td>277</td><td>2020-02-28T01:23:58Z</td><td>2017-11-08T09:15:12Z</td></tr><tr><td>62</td><td>346</td><td>2019-07-23T18:52:33Z</td><td>2016-02-22T19:22:58Z</td></tr><tr><td>80</td><td>280</td><td>2019-03-02T11:38:07Z</td><td>2020-10-19T08:55:21Z</td></tr><tr><td>63</td><td>288</td><td>2018-09-01T16:10:41Z</td><td>2020-10-15T21:46:56Z</td></tr><tr><td>20</td><td>318</td><td>2016-01-05T05:56:11Z</td><td>2020-03-02T04:00:40Z</td></tr><tr><td>74</td><td>290</td><td>2020-12-17T04:06:43Z</td><td>2016-09-05T11:26:57Z</td></tr><tr><td>63</td><td>288</td><td>2018-09-01T16:10:41Z</td><td>2020-10-15T21:46:56Z</td></tr><tr><td>19</td><td>272</td><td>2016-08-21T17:27:38Z</td><td>2020-06-14T11:32:27Z</td></tr><tr><td>16</td><td>363</td><td>2017-11-28T15:42:58Z</td><td>2017-12-27T20:17:22Z</td></tr><tr><td>50</td><td>277</td><td>2020-02-28T01:23:58Z</td><td>2017-11-08T09:15:12Z</td></tr><tr><td>19</td><td>272</td><td>2016-08-21T17:27:38Z</td><td>2020-06-14T11:32:27Z</td></tr><tr><td>16</td><td>363</td><td>2017-11-28T15:42:58Z</td><td>2017-12-27T20:17:22Z</td></tr><tr><td>63</td><td>288</td><td>2018-09-01T16:10:41Z</td><td>2020-10-15T21:46:56Z</td></tr><tr><td>17</td><td>274</td><td>2019-10-17T18:43:25Z</td><td>2018-09-18T17:51:59Z</td></tr><tr><td>61</td><td>327</td><td>2017-12-23T22:58:51Z</td><td>2019-02-26T02:17:37Z</td></tr><tr><td>3</td><td>323</td><td>2018-03-18T17:00:28Z</td><td>2019-04-22T13:48:13Z</td></tr><tr><td>74</td><td>290</td><td>2020-12-17T04:06:43Z</td><td>2016-09-05T11:26:57Z</td></tr><tr><td>61</td><td>300</td><td>2019-12-28T05:24:56Z</td><td>2016-08-07T19:05:47Z</td></tr><tr><td>3</td><td>323</td><td>2018-03-18T17:00:28Z</td><td>2019-04-22T13:48:13Z</td></tr><tr><td>10</td><td>276</td><td>2017-10-22T04:55:46Z</td><td>2018-08-17T20:42:25Z</td></tr><tr><td>76</td><td>324</td><td>2018-07-29T16:50:09Z</td><td>2019-01-05T21:24:56Z</td></tr><tr><td>61</td><td>327</td><td>2017-12-23T22:58:51Z</td><td>2019-02-26T02:17:37Z</td></tr><tr><td>35</td><td>273</td><td>2017-11-12T04:12:00Z</td><td>2019-03-15T17:58:37Z</td></tr><tr><td>20</td><td>318</td><td>2016-01-05T05:56:11Z</td><td>2020-03-02T04:00:40Z</td></tr><tr><td>74</td><td>290</td><td>2020-12-17T04:06:43Z</td><td>2016-09-05T11:26:57Z</td></tr><tr><td>80</td><td>280</td><td>2019-03-02T11:38:07Z</td><td>2020-10-19T08:55:21Z</td></tr><tr><td>35</td><td>273</td><td>2017-11-12T04:12:00Z</td><td>2019-03-15T17:58:37Z</td></tr><tr><td>20</td><td>318</td><td>2016-01-05T05:56:11Z</td><td>2020-03-02T04:00:40Z</td></tr><tr><td>7</td><td>273</td><td>2020-09-28T13:05:17Z</td><td>2017-09-14T05:25:19Z</td></tr><tr><td>61</td><td>327</td><td>2017-12-23T22:58:51Z</td><td>2019-02-26T02:17:37Z</td></tr><tr><td>61</td><td>300</td><td>2019-12-28T05:24:56Z</td><td>2016-08-07T19:05:47Z</td></tr><tr><td>3</td><td>323</td><td>2018-03-18T17:00:28Z</td><td>2019-04-22T13:48:13Z</td></tr><tr><td>76</td><td>324</td><td>2018-07-29T16:50:09Z</td><td>2019-01-05T21:24:56Z</td></tr><tr><td>7</td><td>273</td><td>2020-09-28T13:05:17Z</td><td>2017-09-14T05:25:19Z</td></tr><tr><td>20</td><td>318</td><td>2016-01-05T05:56:11Z</td><td>2020-03-02T04:00:40Z</td></tr><tr><td>7</td><td>273</td><td>2020-09-28T13:05:17Z</td><td>2017-09-14T05:25:19Z</td></tr><tr><td>7</td><td>273</td><td>2020-09-28T13:05:17Z</td><td>2017-09-14T05:25:19Z</td></tr><tr><td>44</td><td>351</td><td>2020-03-22T09:54:45Z</td><td>2020-11-05T15:48:12Z</td></tr><tr><td>63</td><td>288</td><td>2018-09-01T16:10:41Z</td><td>2020-10-15T21:46:56Z</td></tr><tr><td>52</td><td>297</td><td>2018-01-11T16:55:57Z</td><td>2019-02-02T18:49:43Z</td></tr><tr><td>15</td><td>363</td><td>2021-01-27T21:49:40Z</td><td>2019-08-20T06:58:04Z</td></tr><tr><td>44</td><td>351</td><td>2020-03-22T09:54:45Z</td><td>2020-11-05T15:48:12Z</td></tr><tr><td>10</td><td>276</td><td>2017-10-22T04:55:46Z</td><td>2018-08-17T20:42:25Z</td></tr><tr><td>50</td><td>277</td><td>2020-02-28T01:23:58Z</td><td>2017-11-08T09:15:12Z</td></tr><tr><td>54</td><td>300</td><td>2020-01-25T16:59:50Z</td><td>2016-08-30T07:48:55Z</td></tr><tr><td>28</td><td>342</td><td>2016-02-02T20:29:37Z</td><td>2017-11-12T23:35:19Z</td></tr><tr><td>56</td><td>338</td><td>2018-08-15T00:05:36Z</td><td>2018-12-01T20:39:25Z</td></tr><tr><td>54</td><td>300</td><td>2020-01-25T16:59:50Z</td><td>2016-08-30T07:48:55Z</td></tr><tr><td>56</td><td>338</td><td>2018-08-15T00:05:36Z</td><td>2018-12-01T20:39:25Z</td></tr><tr><td>28</td><td>342</td><td>2016-02-02T20:29:37Z</td><td>2017-11-12T23:35:19Z</td></tr><tr><td>54</td><td>300</td><td>2020-01-25T16:59:50Z</td><td>2016-08-30T07:48:55Z</td></tr><tr><td>28</td><td>342</td><td>2016-02-02T20:29:37Z</td><td>2017-11-12T23:35:19Z</td></tr><tr><td>54</td><td>300</td><td>2020-01-25T16:59:50Z</td><td>2016-08-30T07:48:55Z</td></tr><tr><td>56</td><td>338</td><td>2018-08-15T00:05:36Z</td><td>2018-12-01T20:39:25Z</td></tr><tr><td>28</td><td>342</td><td>2016-02-02T20:29:37Z</td><td>2017-11-12T23:35:19Z</td></tr><tr><td>56</td><td>338</td><td>2018-08-15T00:05:36Z</td><td>2018-12-01T20:39:25Z</td></tr></tbody></table></div>"
      ]
     },
     "metadata": {
      "application/vnd.databricks.v1+output": {
       "addedWidgets": {},
       "aggData": [],
       "aggError": "",
       "aggOverflow": false,
       "aggSchema": [],
       "aggSeriesLimitReached": false,
       "aggType": "",
       "arguments": {},
       "columnCustomDisplayInfos": {},
       "data": [
        [
         79,
         277,
         "2017-04-08T23:24:33Z",
         "2018-10-15T16:12:30Z"
        ],
        [
         15,
         295,
         "2016-07-09T19:21:59Z",
         "2016-09-26T14:39:01Z"
        ],
        [
         98,
         286,
         "2017-10-21T08:26:22Z",
         "2016-11-04T07:51:04Z"
        ],
        [
         92,
         297,
         "2018-06-01T01:43:39Z",
         "2018-07-29T05:24:59Z"
        ],
        [
         72,
         303,
         "2019-03-02T17:53:15Z",
         "2016-04-29T23:08:42Z"
        ],
        [
         39,
         274,
         "2019-03-28T00:24:27Z",
         "2021-01-16T17:45:55Z"
        ],
        [
         42,
         333,
         "2017-07-09T08:26:06Z",
         "2020-03-11T13:10:35Z"
        ],
        [
         95,
         371,
         "2020-09-10T05:37:14Z",
         "2016-04-01T09:19:44Z"
        ],
        [
         31,
         320,
         "2020-06-18T06:44:30Z",
         "2017-12-03T20:46:59Z"
        ],
        [
         11,
         319,
         "2016-05-09T22:11:01Z",
         "2019-11-24T08:01:30Z"
        ],
        [
         72,
         311,
         "2018-10-01T11:21:01Z",
         "2018-03-23T08:47:01Z"
        ],
        [
         36,
         346,
         "2016-09-16T14:54:04Z",
         "2016-03-31T13:42:33Z"
        ],
        [
         50,
         330,
         "2017-10-16T12:20:14Z",
         "2021-01-20T18:09:12Z"
        ],
        [
         100,
         308,
         "2018-07-28T17:16:07Z",
         "2020-02-13T10:17:32Z"
        ],
        [
         61,
         301,
         "2018-11-02T00:16:53Z",
         "2020-05-05T08:26:29Z"
        ],
        [
         76,
         365,
         "2016-09-12T11:30:51Z",
         "2020-02-02T11:21:04Z"
        ],
        [
         29,
         317,
         "2018-08-12T07:59:39Z",
         "2018-12-10T11:41:09Z"
        ],
        [
         83,
         354,
         "2020-08-20T23:29:46Z",
         "2018-08-27T08:16:36Z"
        ],
        [
         95,
         371,
         "2020-09-10T05:37:14Z",
         "2016-04-01T09:19:44Z"
        ],
        [
         92,
         345,
         "2020-01-15T22:54:32Z",
         "2018-05-03T01:15:50Z"
        ],
        [
         96,
         368,
         "2020-02-24T17:42:57Z",
         "2019-12-18T12:34:42Z"
        ],
        [
         84,
         357,
         "2018-07-14T00:26:41Z",
         "2019-07-11T03:22:08Z"
        ],
        [
         93,
         349,
         "2020-09-14T07:09:21Z",
         "2017-08-06T23:28:43Z"
        ],
        [
         50,
         328,
         "2020-06-20T23:10:21Z",
         "2017-06-13T10:48:30Z"
        ],
        [
         56,
         362,
         "2020-08-04T01:32:40Z",
         "2018-04-22T07:19:47Z"
        ],
        [
         76,
         365,
         "2016-09-12T11:30:51Z",
         "2020-02-02T11:21:04Z"
        ],
        [
         100,
         299,
         "2019-03-09T14:11:15Z",
         "2020-11-27T13:14:58Z"
        ],
        [
         39,
         274,
         "2019-03-28T00:24:27Z",
         "2021-01-16T17:45:55Z"
        ],
        [
         97,
         315,
         "2017-09-06T15:37:14Z",
         "2017-10-25T06:41:06Z"
        ],
        [
         52,
         289,
         "2017-03-06T01:10:45Z",
         "2019-01-07T18:46:53Z"
        ],
        [
         61,
         301,
         "2018-11-02T00:16:53Z",
         "2020-05-05T08:26:29Z"
        ],
        [
         21,
         283,
         "2016-05-11T08:56:18Z",
         "2019-06-08T09:37:16Z"
        ],
        [
         14,
         328,
         "2017-09-18T00:54:27Z",
         "2020-10-27T20:37:51Z"
        ],
        [
         47,
         283,
         "2018-05-20T21:27:12Z",
         "2018-08-31T08:27:52Z"
        ],
        [
         95,
         371,
         "2020-09-10T05:37:14Z",
         "2016-04-01T09:19:44Z"
        ],
        [
         100,
         308,
         "2018-07-28T17:16:07Z",
         "2020-02-13T10:17:32Z"
        ],
        [
         47,
         333,
         "2016-07-27T22:33:25Z",
         "2021-01-14T14:24:49Z"
        ],
        [
         84,
         292,
         "2016-04-26T21:34:33Z",
         "2020-11-29T19:45:37Z"
        ],
        [
         13,
         287,
         "2019-01-10T09:47:19Z",
         "2017-12-08T19:25:40Z"
        ],
        [
         57,
         306,
         "2020-03-26T03:08:57Z",
         "2018-10-15T11:26:21Z"
        ],
        [
         41,
         278,
         "2018-06-27T00:27:12Z",
         "2017-01-05T06:57:30Z"
        ],
        [
         89,
         287,
         "2020-06-26T13:16:30Z",
         "2016-11-09T08:14:42Z"
        ],
        [
         15,
         295,
         "2016-07-09T19:21:59Z",
         "2016-09-26T14:39:01Z"
        ],
        [
         76,
         308,
         "2018-03-03T01:42:07Z",
         "2019-07-23T09:48:20Z"
        ],
        [
         40,
         292,
         "2019-07-12T07:29:14Z",
         "2019-10-30T22:38:35Z"
        ],
        [
         96,
         353,
         "2016-08-25T11:12:30Z",
         "2017-05-25T01:37:43Z"
        ],
        [
         29,
         317,
         "2018-08-12T07:59:39Z",
         "2018-12-10T11:41:09Z"
        ],
        [
         41,
         278,
         "2018-06-27T00:27:12Z",
         "2017-01-05T06:57:30Z"
        ],
        [
         89,
         358,
         "2019-10-18T20:40:47Z",
         "2020-06-28T12:03:02Z"
        ],
        [
         84,
         299,
         "2019-01-08T13:22:25Z",
         "2020-02-21T10:45:38Z"
        ],
        [
         47,
         333,
         "2016-07-27T22:33:25Z",
         "2021-01-14T14:24:49Z"
        ],
        [
         23,
         281,
         "2020-11-20T23:54:00Z",
         "2018-09-25T20:08:07Z"
        ],
        [
         70,
         276,
         "2019-11-26T15:23:01Z",
         "2018-10-20T05:57:11Z"
        ],
        [
         96,
         368,
         "2020-02-24T17:42:57Z",
         "2019-12-18T12:34:42Z"
        ],
        [
         83,
         354,
         "2020-08-20T23:29:46Z",
         "2018-08-27T08:16:36Z"
        ],
        [
         12,
         338,
         "2020-03-20T05:09:40Z",
         "2019-07-02T13:02:08Z"
        ],
        [
         9,
         298,
         "2019-12-02T05:31:01Z",
         "2019-03-18T18:43:45Z"
        ],
        [
         45,
         367,
         "2019-06-14T06:54:25Z",
         "2017-03-18T11:28:53Z"
        ],
        [
         14,
         328,
         "2017-09-18T00:54:27Z",
         "2020-10-27T20:37:51Z"
        ],
        [
         91,
         357,
         "2017-06-12T16:40:07Z",
         "2019-08-28T05:27:05Z"
        ],
        [
         75,
         368,
         "2020-08-22T06:47:31Z",
         "2019-10-10T10:44:00Z"
        ],
        [
         42,
         333,
         "2017-07-09T08:26:06Z",
         "2020-03-11T13:10:35Z"
        ],
        [
         27,
         366,
         "2016-05-13T09:33:39Z",
         "2017-12-21T16:23:17Z"
        ],
        [
         23,
         281,
         "2020-11-20T23:54:00Z",
         "2018-09-25T20:08:07Z"
        ],
        [
         87,
         294,
         "2018-07-04T23:35:40Z",
         "2016-11-18T06:56:36Z"
        ],
        [
         71,
         310,
         "2018-01-19T04:48:42Z",
         "2016-05-09T02:01:34Z"
        ],
        [
         13,
         292,
         "2020-11-05T18:50:29Z",
         "2020-06-01T13:14:45Z"
        ],
        [
         11,
         351,
         "2020-07-04T02:12:18Z",
         "2020-12-09T00:47:52Z"
        ],
        [
         61,
         323,
         "2017-03-31T06:31:29Z",
         "2017-10-24T06:59:17Z"
        ],
        [
         6,
         288,
         "2018-04-28T00:25:20Z",
         "2016-04-16T19:11:05Z"
        ],
        [
         14,
         356,
         "2018-12-31T09:05:39Z",
         "2016-11-17T18:35:57Z"
        ],
        [
         9,
         369,
         "2018-01-19T06:06:59Z",
         "2020-04-14T07:34:02Z"
        ],
        [
         1,
         274,
         "2018-03-13T20:29:34Z",
         "2021-02-08T01:45:05Z"
        ],
        [
         22,
         274,
         "2019-01-09T16:43:25Z",
         "2020-12-19T13:51:10Z"
        ],
        [
         50,
         328,
         "2020-06-20T23:10:21Z",
         "2017-06-13T10:48:30Z"
        ],
        [
         72,
         303,
         "2019-03-02T17:53:15Z",
         "2016-04-29T23:08:42Z"
        ],
        [
         71,
         310,
         "2018-01-19T04:48:42Z",
         "2016-05-09T02:01:34Z"
        ],
        [
         50,
         330,
         "2017-10-16T12:20:14Z",
         "2021-01-20T18:09:12Z"
        ],
        [
         89,
         287,
         "2020-06-26T13:16:30Z",
         "2016-11-09T08:14:42Z"
        ],
        [
         93,
         349,
         "2020-09-14T07:09:21Z",
         "2017-08-06T23:28:43Z"
        ],
        [
         92,
         297,
         "2018-06-01T01:43:39Z",
         "2018-07-29T05:24:59Z"
        ],
        [
         97,
         287,
         "2017-04-30T02:04:01Z",
         "2017-05-31T20:36:03Z"
        ],
        [
         77,
         370,
         "2017-09-20T18:24:32Z",
         "2016-09-08T09:34:06Z"
        ],
        [
         85,
         306,
         "2018-10-20T09:20:58Z",
         "2017-10-29T22:14:57Z"
        ],
        [
         79,
         277,
         "2017-04-08T23:24:33Z",
         "2018-10-15T16:12:30Z"
        ],
        [
         79,
         277,
         "2017-04-08T23:24:33Z",
         "2018-10-15T16:12:30Z"
        ],
        [
         6,
         288,
         "2018-04-28T00:25:20Z",
         "2016-04-16T19:11:05Z"
        ],
        [
         84,
         357,
         "2018-07-14T00:26:41Z",
         "2019-07-11T03:22:08Z"
        ],
        [
         39,
         298,
         "2019-02-11T10:38:45Z",
         "2017-07-07T06:08:41Z"
        ],
        [
         15,
         295,
         "2016-07-09T19:21:59Z",
         "2016-09-26T14:39:01Z"
        ],
        [
         79,
         277,
         "2017-04-08T23:24:33Z",
         "2018-10-15T16:12:30Z"
        ],
        [
         4,
         343,
         "2017-05-09T07:28:34Z",
         "2016-07-22T19:20:38Z"
        ],
        [
         93,
         349,
         "2020-09-14T07:09:21Z",
         "2017-08-06T23:28:43Z"
        ],
        [
         97,
         315,
         "2017-09-06T15:37:14Z",
         "2017-10-25T06:41:06Z"
        ],
        [
         20,
         360,
         "2016-11-19T15:59:33Z",
         "2016-06-21T00:59:20Z"
        ],
        [
         100,
         308,
         "2018-07-28T17:16:07Z",
         "2020-02-13T10:17:32Z"
        ],
        [
         100,
         308,
         "2018-07-28T17:16:07Z",
         "2020-02-13T10:17:32Z"
        ],
        [
         38,
         307,
         "2020-04-18T18:59:12Z",
         "2018-06-08T08:30:54Z"
        ],
        [
         4,
         343,
         "2017-05-09T07:28:34Z",
         "2016-07-22T19:20:38Z"
        ],
        [
         21,
         283,
         "2016-05-11T08:56:18Z",
         "2019-06-08T09:37:16Z"
        ],
        [
         13,
         292,
         "2020-11-05T18:50:29Z",
         "2020-06-01T13:14:45Z"
        ],
        [
         29,
         317,
         "2018-08-12T07:59:39Z",
         "2018-12-10T11:41:09Z"
        ],
        [
         6,
         325,
         "2016-08-06T19:17:43Z",
         "2019-03-17T18:07:39Z"
        ],
        [
         32,
         329,
         "2018-09-27T11:06:48Z",
         "2016-12-03T13:49:11Z"
        ],
        [
         72,
         311,
         "2018-10-01T11:21:01Z",
         "2018-03-23T08:47:01Z"
        ],
        [
         72,
         311,
         "2018-10-01T11:21:01Z",
         "2018-03-23T08:47:01Z"
        ],
        [
         33,
         351,
         "2019-07-01T20:54:34Z",
         "2019-09-07T21:39:13Z"
        ],
        [
         14,
         356,
         "2018-12-31T09:05:39Z",
         "2016-11-17T18:35:57Z"
        ],
        [
         77,
         288,
         "2016-10-27T05:32:22Z",
         "2018-05-10T01:37:22Z"
        ],
        [
         85,
         306,
         "2018-10-20T09:20:58Z",
         "2017-10-29T22:14:57Z"
        ],
        [
         84,
         357,
         "2018-07-14T00:26:41Z",
         "2019-07-11T03:22:08Z"
        ],
        [
         37,
         320,
         "2017-08-06T16:32:28Z",
         "2017-03-29T15:41:16Z"
        ],
        [
         92,
         297,
         "2018-06-01T01:43:39Z",
         "2018-07-29T05:24:59Z"
        ],
        [
         23,
         281,
         "2020-11-20T23:54:00Z",
         "2018-09-25T20:08:07Z"
        ],
        [
         83,
         354,
         "2020-08-20T23:29:46Z",
         "2018-08-27T08:16:36Z"
        ],
        [
         20,
         360,
         "2016-11-19T15:59:33Z",
         "2016-06-21T00:59:20Z"
        ],
        [
         50,
         330,
         "2017-10-16T12:20:14Z",
         "2021-01-20T18:09:12Z"
        ],
        [
         29,
         317,
         "2018-08-12T07:59:39Z",
         "2018-12-10T11:41:09Z"
        ],
        [
         40,
         292,
         "2019-07-12T07:29:14Z",
         "2019-10-30T22:38:35Z"
        ],
        [
         96,
         368,
         "2020-02-24T17:42:57Z",
         "2019-12-18T12:34:42Z"
        ],
        [
         47,
         333,
         "2016-07-27T22:33:25Z",
         "2021-01-14T14:24:49Z"
        ],
        [
         84,
         299,
         "2019-01-08T13:22:25Z",
         "2020-02-21T10:45:38Z"
        ],
        [
         45,
         323,
         "2019-03-02T11:35:53Z",
         "2016-12-24T08:29:52Z"
        ],
        [
         39,
         298,
         "2019-02-11T10:38:45Z",
         "2017-07-07T06:08:41Z"
        ],
        [
         97,
         316,
         "2020-04-01T16:26:11Z",
         "2019-07-28T03:01:24Z"
        ],
        [
         1,
         274,
         "2018-03-13T20:29:34Z",
         "2021-02-08T01:45:05Z"
        ],
        [
         32,
         329,
         "2018-09-27T11:06:48Z",
         "2016-12-03T13:49:11Z"
        ],
        [
         32,
         329,
         "2018-09-27T11:06:48Z",
         "2016-12-03T13:49:11Z"
        ],
        [
         9,
         298,
         "2019-12-02T05:31:01Z",
         "2019-03-18T18:43:45Z"
        ],
        [
         56,
         362,
         "2020-08-04T01:32:40Z",
         "2018-04-22T07:19:47Z"
        ],
        [
         6,
         311,
         "2019-05-08T22:55:28Z",
         "2016-05-31T09:15:26Z"
        ],
        [
         96,
         368,
         "2020-02-24T17:42:57Z",
         "2019-12-18T12:34:42Z"
        ],
        [
         41,
         278,
         "2018-06-27T00:27:12Z",
         "2017-01-05T06:57:30Z"
        ],
        [
         13,
         287,
         "2019-01-10T09:47:19Z",
         "2017-12-08T19:25:40Z"
        ],
        [
         27,
         366,
         "2016-05-13T09:33:39Z",
         "2017-12-21T16:23:17Z"
        ],
        [
         13,
         287,
         "2019-01-10T09:47:19Z",
         "2017-12-08T19:25:40Z"
        ],
        [
         45,
         323,
         "2019-03-02T11:35:53Z",
         "2016-12-24T08:29:52Z"
        ],
        [
         57,
         306,
         "2020-03-26T03:08:57Z",
         "2018-10-15T11:26:21Z"
        ],
        [
         23,
         281,
         "2020-11-20T23:54:00Z",
         "2018-09-25T20:08:07Z"
        ],
        [
         57,
         306,
         "2020-03-26T03:08:57Z",
         "2018-10-15T11:26:21Z"
        ],
        [
         97,
         316,
         "2020-04-01T16:26:11Z",
         "2019-07-28T03:01:24Z"
        ],
        [
         6,
         325,
         "2016-08-06T19:17:43Z",
         "2019-03-17T18:07:39Z"
        ],
        [
         50,
         330,
         "2017-10-16T12:20:14Z",
         "2021-01-20T18:09:12Z"
        ],
        [
         97,
         316,
         "2020-04-01T16:26:11Z",
         "2019-07-28T03:01:24Z"
        ],
        [
         9,
         369,
         "2018-01-19T06:06:59Z",
         "2020-04-14T07:34:02Z"
        ],
        [
         33,
         351,
         "2019-07-01T20:54:34Z",
         "2019-09-07T21:39:13Z"
        ],
        [
         84,
         299,
         "2019-01-08T13:22:25Z",
         "2020-02-21T10:45:38Z"
        ],
        [
         6,
         311,
         "2019-05-08T22:55:28Z",
         "2016-05-31T09:15:26Z"
        ],
        [
         1,
         274,
         "2018-03-13T20:29:34Z",
         "2021-02-08T01:45:05Z"
        ],
        [
         6,
         325,
         "2016-08-06T19:17:43Z",
         "2019-03-17T18:07:39Z"
        ],
        [
         91,
         357,
         "2017-06-12T16:40:07Z",
         "2019-08-28T05:27:05Z"
        ],
        [
         38,
         307,
         "2020-04-18T18:59:12Z",
         "2018-06-08T08:30:54Z"
        ],
        [
         18,
         366,
         "2020-07-16T09:29:52Z",
         "2018-08-21T09:16:39Z"
        ],
        [
         84,
         299,
         "2019-01-08T13:22:25Z",
         "2020-02-21T10:45:38Z"
        ],
        [
         9,
         298,
         "2019-12-02T05:31:01Z",
         "2019-03-18T18:43:45Z"
        ],
        [
         70,
         276,
         "2019-11-26T15:23:01Z",
         "2018-10-20T05:57:11Z"
        ],
        [
         22,
         274,
         "2019-01-09T16:43:25Z",
         "2020-12-19T13:51:10Z"
        ],
        [
         46,
         297,
         "2018-11-14T23:22:00Z",
         "2019-05-19T23:43:38Z"
        ],
        [
         41,
         278,
         "2018-06-27T00:27:12Z",
         "2017-01-05T06:57:30Z"
        ],
        [
         47,
         283,
         "2018-05-20T21:27:12Z",
         "2018-08-31T08:27:52Z"
        ],
        [
         89,
         358,
         "2019-10-18T20:40:47Z",
         "2020-06-28T12:03:02Z"
        ],
        [
         100,
         299,
         "2019-03-09T14:11:15Z",
         "2020-11-27T13:14:58Z"
        ],
        [
         47,
         283,
         "2018-05-20T21:27:12Z",
         "2018-08-31T08:27:52Z"
        ],
        [
         92,
         345,
         "2020-01-15T22:54:32Z",
         "2018-05-03T01:15:50Z"
        ],
        [
         61,
         301,
         "2018-11-02T00:16:53Z",
         "2020-05-05T08:26:29Z"
        ],
        [
         76,
         365,
         "2016-09-12T11:30:51Z",
         "2020-02-02T11:21:04Z"
        ],
        [
         70,
         276,
         "2019-11-26T15:23:01Z",
         "2018-10-20T05:57:11Z"
        ],
        [
         72,
         311,
         "2018-10-01T11:21:01Z",
         "2018-03-23T08:47:01Z"
        ],
        [
         42,
         333,
         "2017-07-09T08:26:06Z",
         "2020-03-11T13:10:35Z"
        ],
        [
         52,
         289,
         "2017-03-06T01:10:45Z",
         "2019-01-07T18:46:53Z"
        ],
        [
         31,
         320,
         "2020-06-18T06:44:30Z",
         "2017-12-03T20:46:59Z"
        ],
        [
         75,
         368,
         "2020-08-22T06:47:31Z",
         "2019-10-10T10:44:00Z"
        ],
        [
         87,
         294,
         "2018-07-04T23:35:40Z",
         "2016-11-18T06:56:36Z"
        ],
        [
         9,
         369,
         "2018-01-19T06:06:59Z",
         "2020-04-14T07:34:02Z"
        ],
        [
         98,
         286,
         "2017-10-21T08:26:22Z",
         "2016-11-04T07:51:04Z"
        ],
        [
         93,
         349,
         "2020-09-14T07:09:21Z",
         "2017-08-06T23:28:43Z"
        ],
        [
         18,
         366,
         "2020-07-16T09:29:52Z",
         "2018-08-21T09:16:39Z"
        ],
        [
         61,
         323,
         "2017-03-31T06:31:29Z",
         "2017-10-24T06:59:17Z"
        ],
        [
         31,
         320,
         "2020-06-18T06:44:30Z",
         "2017-12-03T20:46:59Z"
        ],
        [
         21,
         283,
         "2016-05-11T08:56:18Z",
         "2019-06-08T09:37:16Z"
        ],
        [
         11,
         351,
         "2020-07-04T02:12:18Z",
         "2020-12-09T00:47:52Z"
        ],
        [
         97,
         316,
         "2020-04-01T16:26:11Z",
         "2019-07-28T03:01:24Z"
        ],
        [
         95,
         371,
         "2020-09-10T05:37:14Z",
         "2016-04-01T09:19:44Z"
        ],
        [
         11,
         319,
         "2016-05-09T22:11:01Z",
         "2019-11-24T08:01:30Z"
        ],
        [
         85,
         306,
         "2018-10-20T09:20:58Z",
         "2017-10-29T22:14:57Z"
        ],
        [
         39,
         298,
         "2019-02-11T10:38:45Z",
         "2017-07-07T06:08:41Z"
        ],
        [
         76,
         308,
         "2018-03-03T01:42:07Z",
         "2019-07-23T09:48:20Z"
        ],
        [
         12,
         338,
         "2020-03-20T05:09:40Z",
         "2019-07-02T13:02:08Z"
        ],
        [
         72,
         303,
         "2019-03-02T17:53:15Z",
         "2016-04-29T23:08:42Z"
        ],
        [
         37,
         320,
         "2017-08-06T16:32:28Z",
         "2017-03-29T15:41:16Z"
        ],
        [
         46,
         297,
         "2018-11-14T23:22:00Z",
         "2019-05-19T23:43:38Z"
        ],
        [
         39,
         274,
         "2019-03-28T00:24:27Z",
         "2021-01-16T17:45:55Z"
        ],
        [
         84,
         292,
         "2016-04-26T21:34:33Z",
         "2020-11-29T19:45:37Z"
        ],
        [
         76,
         365,
         "2016-09-12T11:30:51Z",
         "2020-02-02T11:21:04Z"
        ],
        [
         56,
         362,
         "2020-08-04T01:32:40Z",
         "2018-04-22T07:19:47Z"
        ],
        [
         84,
         292,
         "2016-04-26T21:34:33Z",
         "2020-11-29T19:45:37Z"
        ],
        [
         15,
         295,
         "2016-07-09T19:21:59Z",
         "2016-09-26T14:39:01Z"
        ],
        [
         77,
         288,
         "2016-10-27T05:32:22Z",
         "2018-05-10T01:37:22Z"
        ],
        [
         85,
         306,
         "2018-10-20T09:20:58Z",
         "2017-10-29T22:14:57Z"
        ],
        [
         92,
         345,
         "2020-01-15T22:54:32Z",
         "2018-05-03T01:15:50Z"
        ],
        [
         89,
         358,
         "2019-10-18T20:40:47Z",
         "2020-06-28T12:03:02Z"
        ],
        [
         13,
         287,
         "2019-01-10T09:47:19Z",
         "2017-12-08T19:25:40Z"
        ],
        [
         83,
         354,
         "2020-08-20T23:29:46Z",
         "2018-08-27T08:16:36Z"
        ],
        [
         56,
         362,
         "2020-08-04T01:32:40Z",
         "2018-04-22T07:19:47Z"
        ],
        [
         42,
         333,
         "2017-07-09T08:26:06Z",
         "2020-03-11T13:10:35Z"
        ],
        [
         47,
         283,
         "2018-05-20T21:27:12Z",
         "2018-08-31T08:27:52Z"
        ],
        [
         4,
         343,
         "2017-05-09T07:28:34Z",
         "2016-07-22T19:20:38Z"
        ],
        [
         57,
         328,
         "2018-05-18T20:46:21Z",
         "2016-05-28T13:57:10Z"
        ],
        [
         97,
         315,
         "2017-09-06T15:37:14Z",
         "2017-10-25T06:41:06Z"
        ],
        [
         71,
         310,
         "2018-01-19T04:48:42Z",
         "2016-05-09T02:01:34Z"
        ],
        [
         39,
         274,
         "2019-03-28T00:24:27Z",
         "2021-01-16T17:45:55Z"
        ],
        [
         89,
         287,
         "2020-06-26T13:16:30Z",
         "2016-11-09T08:14:42Z"
        ],
        [
         40,
         292,
         "2019-07-12T07:29:14Z",
         "2019-10-30T22:38:35Z"
        ],
        [
         12,
         338,
         "2020-03-20T05:09:40Z",
         "2019-07-02T13:02:08Z"
        ],
        [
         76,
         308,
         "2018-03-03T01:42:07Z",
         "2019-07-23T09:48:20Z"
        ],
        [
         96,
         353,
         "2016-08-25T11:12:30Z",
         "2017-05-25T01:37:43Z"
        ],
        [
         1,
         274,
         "2018-03-13T20:29:34Z",
         "2021-02-08T01:45:05Z"
        ],
        [
         77,
         370,
         "2017-09-20T18:24:32Z",
         "2016-09-08T09:34:06Z"
        ],
        [
         6,
         288,
         "2018-04-28T00:25:20Z",
         "2016-04-16T19:11:05Z"
        ],
        [
         6,
         288,
         "2018-04-28T00:25:20Z",
         "2016-04-16T19:11:05Z"
        ],
        [
         77,
         370,
         "2017-09-20T18:24:32Z",
         "2016-09-08T09:34:06Z"
        ],
        [
         45,
         367,
         "2019-06-14T06:54:25Z",
         "2017-03-18T11:28:53Z"
        ],
        [
         57,
         306,
         "2020-03-26T03:08:57Z",
         "2018-10-15T11:26:21Z"
        ],
        [
         97,
         287,
         "2017-04-30T02:04:01Z",
         "2017-05-31T20:36:03Z"
        ],
        [
         92,
         297,
         "2018-06-01T01:43:39Z",
         "2018-07-29T05:24:59Z"
        ],
        [
         77,
         288,
         "2016-10-27T05:32:22Z",
         "2018-05-10T01:37:22Z"
        ],
        [
         61,
         323,
         "2017-03-31T06:31:29Z",
         "2017-10-24T06:59:17Z"
        ],
        [
         38,
         307,
         "2020-04-18T18:59:12Z",
         "2018-06-08T08:30:54Z"
        ],
        [
         100,
         299,
         "2019-03-09T14:11:15Z",
         "2020-11-27T13:14:58Z"
        ],
        [
         57,
         328,
         "2018-05-18T20:46:21Z",
         "2016-05-28T13:57:10Z"
        ],
        [
         36,
         346,
         "2016-09-16T14:54:04Z",
         "2016-03-31T13:42:33Z"
        ],
        [
         89,
         358,
         "2019-10-18T20:40:47Z",
         "2020-06-28T12:03:02Z"
        ],
        [
         36,
         346,
         "2016-09-16T14:54:04Z",
         "2016-03-31T13:42:33Z"
        ],
        [
         18,
         366,
         "2020-07-16T09:29:52Z",
         "2018-08-21T09:16:39Z"
        ],
        [
         6,
         311,
         "2019-05-08T22:55:28Z",
         "2016-05-31T09:15:26Z"
        ],
        [
         84,
         292,
         "2016-04-26T21:34:33Z",
         "2020-11-29T19:45:37Z"
        ],
        [
         38,
         307,
         "2020-04-18T18:59:12Z",
         "2018-06-08T08:30:54Z"
        ],
        [
         91,
         357,
         "2017-06-12T16:40:07Z",
         "2019-08-28T05:27:05Z"
        ],
        [
         45,
         323,
         "2019-03-02T11:35:53Z",
         "2016-12-24T08:29:52Z"
        ],
        [
         34,
         272,
         "2017-07-11T04:51:36Z",
         "2019-08-22T09:02:36Z"
        ],
        [
         22,
         274,
         "2019-01-09T16:43:25Z",
         "2020-12-19T13:51:10Z"
        ],
        [
         57,
         328,
         "2018-05-18T20:46:21Z",
         "2016-05-28T13:57:10Z"
        ],
        [
         61,
         323,
         "2017-03-31T06:31:29Z",
         "2017-10-24T06:59:17Z"
        ],
        [
         46,
         297,
         "2018-11-14T23:22:00Z",
         "2019-05-19T23:43:38Z"
        ],
        [
         11,
         351,
         "2020-07-04T02:12:18Z",
         "2020-12-09T00:47:52Z"
        ],
        [
         96,
         353,
         "2016-08-25T11:12:30Z",
         "2017-05-25T01:37:43Z"
        ],
        [
         77,
         370,
         "2017-09-20T18:24:32Z",
         "2016-09-08T09:34:06Z"
        ],
        [
         34,
         272,
         "2017-07-11T04:51:36Z",
         "2019-08-22T09:02:36Z"
        ],
        [
         27,
         366,
         "2016-05-13T09:33:39Z",
         "2017-12-21T16:23:17Z"
        ],
        [
         11,
         319,
         "2016-05-09T22:11:01Z",
         "2019-11-24T08:01:30Z"
        ],
        [
         52,
         289,
         "2017-03-06T01:10:45Z",
         "2019-01-07T18:46:53Z"
        ],
        [
         4,
         343,
         "2017-05-09T07:28:34Z",
         "2016-07-22T19:20:38Z"
        ],
        [
         33,
         351,
         "2019-07-01T20:54:34Z",
         "2019-09-07T21:39:13Z"
        ],
        [
         34,
         272,
         "2017-07-11T04:51:36Z",
         "2019-08-22T09:02:36Z"
        ],
        [
         13,
         292,
         "2020-11-05T18:50:29Z",
         "2020-06-01T13:14:45Z"
        ],
        [
         72,
         303,
         "2019-03-02T17:53:15Z",
         "2016-04-29T23:08:42Z"
        ],
        [
         13,
         292,
         "2020-11-05T18:50:29Z",
         "2020-06-01T13:14:45Z"
        ],
        [
         39,
         298,
         "2019-02-11T10:38:45Z",
         "2017-07-07T06:08:41Z"
        ],
        [
         45,
         367,
         "2019-06-14T06:54:25Z",
         "2017-03-18T11:28:53Z"
        ],
        [
         27,
         366,
         "2016-05-13T09:33:39Z",
         "2017-12-21T16:23:17Z"
        ],
        [
         97,
         287,
         "2017-04-30T02:04:01Z",
         "2017-05-31T20:36:03Z"
        ],
        [
         12,
         338,
         "2020-03-20T05:09:40Z",
         "2019-07-02T13:02:08Z"
        ],
        [
         21,
         283,
         "2016-05-11T08:56:18Z",
         "2019-06-08T09:37:16Z"
        ],
        [
         98,
         286,
         "2017-10-21T08:26:22Z",
         "2016-11-04T07:51:04Z"
        ],
        [
         22,
         274,
         "2019-01-09T16:43:25Z",
         "2020-12-19T13:51:10Z"
        ],
        [
         6,
         325,
         "2016-08-06T19:17:43Z",
         "2019-03-17T18:07:39Z"
        ],
        [
         97,
         315,
         "2017-09-06T15:37:14Z",
         "2017-10-25T06:41:06Z"
        ],
        [
         75,
         368,
         "2020-08-22T06:47:31Z",
         "2019-10-10T10:44:00Z"
        ],
        [
         57,
         328,
         "2018-05-18T20:46:21Z",
         "2016-05-28T13:57:10Z"
        ],
        [
         6,
         311,
         "2019-05-08T22:55:28Z",
         "2016-05-31T09:15:26Z"
        ],
        [
         11,
         351,
         "2020-07-04T02:12:18Z",
         "2020-12-09T00:47:52Z"
        ],
        [
         33,
         351,
         "2019-07-01T20:54:34Z",
         "2019-09-07T21:39:13Z"
        ],
        [
         47,
         333,
         "2016-07-27T22:33:25Z",
         "2021-01-14T14:24:49Z"
        ],
        [
         75,
         368,
         "2020-08-22T06:47:31Z",
         "2019-10-10T10:44:00Z"
        ],
        [
         34,
         272,
         "2017-07-11T04:51:36Z",
         "2019-08-22T09:02:36Z"
        ],
        [
         18,
         366,
         "2020-07-16T09:29:52Z",
         "2018-08-21T09:16:39Z"
        ],
        [
         50,
         328,
         "2020-06-20T23:10:21Z",
         "2017-06-13T10:48:30Z"
        ],
        [
         9,
         298,
         "2019-12-02T05:31:01Z",
         "2019-03-18T18:43:45Z"
        ],
        [
         77,
         288,
         "2016-10-27T05:32:22Z",
         "2018-05-10T01:37:22Z"
        ],
        [
         37,
         320,
         "2017-08-06T16:32:28Z",
         "2017-03-29T15:41:16Z"
        ],
        [
         61,
         301,
         "2018-11-02T00:16:53Z",
         "2020-05-05T08:26:29Z"
        ],
        [
         50,
         328,
         "2020-06-20T23:10:21Z",
         "2017-06-13T10:48:30Z"
        ],
        [
         76,
         308,
         "2018-03-03T01:42:07Z",
         "2019-07-23T09:48:20Z"
        ],
        [
         98,
         286,
         "2017-10-21T08:26:22Z",
         "2016-11-04T07:51:04Z"
        ],
        [
         36,
         346,
         "2016-09-16T14:54:04Z",
         "2016-03-31T13:42:33Z"
        ],
        [
         91,
         357,
         "2017-06-12T16:40:07Z",
         "2019-08-28T05:27:05Z"
        ],
        [
         14,
         328,
         "2017-09-18T00:54:27Z",
         "2020-10-27T20:37:51Z"
        ],
        [
         9,
         369,
         "2018-01-19T06:06:59Z",
         "2020-04-14T07:34:02Z"
        ],
        [
         100,
         299,
         "2019-03-09T14:11:15Z",
         "2020-11-27T13:14:58Z"
        ],
        [
         20,
         360,
         "2016-11-19T15:59:33Z",
         "2016-06-21T00:59:20Z"
        ],
        [
         32,
         329,
         "2018-09-27T11:06:48Z",
         "2016-12-03T13:49:11Z"
        ],
        [
         14,
         356,
         "2018-12-31T09:05:39Z",
         "2016-11-17T18:35:57Z"
        ],
        [
         11,
         319,
         "2016-05-09T22:11:01Z",
         "2019-11-24T08:01:30Z"
        ],
        [
         45,
         323,
         "2019-03-02T11:35:53Z",
         "2016-12-24T08:29:52Z"
        ],
        [
         20,
         360,
         "2016-11-19T15:59:33Z",
         "2016-06-21T00:59:20Z"
        ],
        [
         87,
         294,
         "2018-07-04T23:35:40Z",
         "2016-11-18T06:56:36Z"
        ],
        [
         31,
         320,
         "2020-06-18T06:44:30Z",
         "2017-12-03T20:46:59Z"
        ],
        [
         37,
         320,
         "2017-08-06T16:32:28Z",
         "2017-03-29T15:41:16Z"
        ],
        [
         89,
         287,
         "2020-06-26T13:16:30Z",
         "2016-11-09T08:14:42Z"
        ],
        [
         70,
         276,
         "2019-11-26T15:23:01Z",
         "2018-10-20T05:57:11Z"
        ],
        [
         92,
         345,
         "2020-01-15T22:54:32Z",
         "2018-05-03T01:15:50Z"
        ],
        [
         45,
         367,
         "2019-06-14T06:54:25Z",
         "2017-03-18T11:28:53Z"
        ],
        [
         46,
         297,
         "2018-11-14T23:22:00Z",
         "2019-05-19T23:43:38Z"
        ],
        [
         87,
         294,
         "2018-07-04T23:35:40Z",
         "2016-11-18T06:56:36Z"
        ],
        [
         96,
         353,
         "2016-08-25T11:12:30Z",
         "2017-05-25T01:37:43Z"
        ],
        [
         97,
         287,
         "2017-04-30T02:04:01Z",
         "2017-05-31T20:36:03Z"
        ],
        [
         71,
         310,
         "2018-01-19T04:48:42Z",
         "2016-05-09T02:01:34Z"
        ],
        [
         14,
         356,
         "2018-12-31T09:05:39Z",
         "2016-11-17T18:35:57Z"
        ],
        [
         52,
         289,
         "2017-03-06T01:10:45Z",
         "2019-01-07T18:46:53Z"
        ],
        [
         84,
         357,
         "2018-07-14T00:26:41Z",
         "2019-07-11T03:22:08Z"
        ],
        [
         14,
         328,
         "2017-09-18T00:54:27Z",
         "2020-10-27T20:37:51Z"
        ],
        [
         40,
         292,
         "2019-07-12T07:29:14Z",
         "2019-10-30T22:38:35Z"
        ],
        [
         35,
         273,
         "2017-11-12T04:12:00Z",
         "2019-03-15T17:58:37Z"
        ],
        [
         80,
         280,
         "2019-03-02T11:38:07Z",
         "2020-10-19T08:55:21Z"
        ],
        [
         61,
         300,
         "2019-12-28T05:24:56Z",
         "2016-08-07T19:05:47Z"
        ],
        [
         15,
         363,
         "2021-01-27T21:49:40Z",
         "2019-08-20T06:58:04Z"
        ],
        [
         17,
         274,
         "2019-10-17T18:43:25Z",
         "2018-09-18T17:51:59Z"
        ],
        [
         19,
         272,
         "2016-08-21T17:27:38Z",
         "2020-06-14T11:32:27Z"
        ],
        [
         62,
         346,
         "2019-07-23T18:52:33Z",
         "2016-02-22T19:22:58Z"
        ],
        [
         62,
         346,
         "2019-07-23T18:52:33Z",
         "2016-02-22T19:22:58Z"
        ],
        [
         76,
         324,
         "2018-07-29T16:50:09Z",
         "2019-01-05T21:24:56Z"
        ],
        [
         15,
         363,
         "2021-01-27T21:49:40Z",
         "2019-08-20T06:58:04Z"
        ],
        [
         61,
         327,
         "2017-12-23T22:58:51Z",
         "2019-02-26T02:17:37Z"
        ],
        [
         16,
         363,
         "2017-11-28T15:42:58Z",
         "2017-12-27T20:17:22Z"
        ],
        [
         3,
         323,
         "2018-03-18T17:00:28Z",
         "2019-04-22T13:48:13Z"
        ],
        [
         10,
         276,
         "2017-10-22T04:55:46Z",
         "2018-08-17T20:42:25Z"
        ],
        [
         17,
         274,
         "2019-10-17T18:43:25Z",
         "2018-09-18T17:51:59Z"
        ],
        [
         15,
         363,
         "2021-01-27T21:49:40Z",
         "2019-08-20T06:58:04Z"
        ],
        [
         52,
         297,
         "2018-01-11T16:55:57Z",
         "2019-02-02T18:49:43Z"
        ],
        [
         17,
         274,
         "2019-10-17T18:43:25Z",
         "2018-09-18T17:51:59Z"
        ],
        [
         52,
         297,
         "2018-01-11T16:55:57Z",
         "2019-02-02T18:49:43Z"
        ],
        [
         19,
         272,
         "2016-08-21T17:27:38Z",
         "2020-06-14T11:32:27Z"
        ],
        [
         76,
         324,
         "2018-07-29T16:50:09Z",
         "2019-01-05T21:24:56Z"
        ],
        [
         61,
         300,
         "2019-12-28T05:24:56Z",
         "2016-08-07T19:05:47Z"
        ],
        [
         35,
         273,
         "2017-11-12T04:12:00Z",
         "2019-03-15T17:58:37Z"
        ],
        [
         16,
         363,
         "2017-11-28T15:42:58Z",
         "2017-12-27T20:17:22Z"
        ],
        [
         80,
         280,
         "2019-03-02T11:38:07Z",
         "2020-10-19T08:55:21Z"
        ],
        [
         62,
         346,
         "2019-07-23T18:52:33Z",
         "2016-02-22T19:22:58Z"
        ],
        [
         44,
         351,
         "2020-03-22T09:54:45Z",
         "2020-11-05T15:48:12Z"
        ],
        [
         10,
         276,
         "2017-10-22T04:55:46Z",
         "2018-08-17T20:42:25Z"
        ],
        [
         52,
         297,
         "2018-01-11T16:55:57Z",
         "2019-02-02T18:49:43Z"
        ],
        [
         44,
         351,
         "2020-03-22T09:54:45Z",
         "2020-11-05T15:48:12Z"
        ],
        [
         74,
         290,
         "2020-12-17T04:06:43Z",
         "2016-09-05T11:26:57Z"
        ],
        [
         50,
         277,
         "2020-02-28T01:23:58Z",
         "2017-11-08T09:15:12Z"
        ],
        [
         50,
         277,
         "2020-02-28T01:23:58Z",
         "2017-11-08T09:15:12Z"
        ],
        [
         62,
         346,
         "2019-07-23T18:52:33Z",
         "2016-02-22T19:22:58Z"
        ],
        [
         80,
         280,
         "2019-03-02T11:38:07Z",
         "2020-10-19T08:55:21Z"
        ],
        [
         63,
         288,
         "2018-09-01T16:10:41Z",
         "2020-10-15T21:46:56Z"
        ],
        [
         20,
         318,
         "2016-01-05T05:56:11Z",
         "2020-03-02T04:00:40Z"
        ],
        [
         74,
         290,
         "2020-12-17T04:06:43Z",
         "2016-09-05T11:26:57Z"
        ],
        [
         63,
         288,
         "2018-09-01T16:10:41Z",
         "2020-10-15T21:46:56Z"
        ],
        [
         19,
         272,
         "2016-08-21T17:27:38Z",
         "2020-06-14T11:32:27Z"
        ],
        [
         16,
         363,
         "2017-11-28T15:42:58Z",
         "2017-12-27T20:17:22Z"
        ],
        [
         50,
         277,
         "2020-02-28T01:23:58Z",
         "2017-11-08T09:15:12Z"
        ],
        [
         19,
         272,
         "2016-08-21T17:27:38Z",
         "2020-06-14T11:32:27Z"
        ],
        [
         16,
         363,
         "2017-11-28T15:42:58Z",
         "2017-12-27T20:17:22Z"
        ],
        [
         63,
         288,
         "2018-09-01T16:10:41Z",
         "2020-10-15T21:46:56Z"
        ],
        [
         17,
         274,
         "2019-10-17T18:43:25Z",
         "2018-09-18T17:51:59Z"
        ],
        [
         61,
         327,
         "2017-12-23T22:58:51Z",
         "2019-02-26T02:17:37Z"
        ],
        [
         3,
         323,
         "2018-03-18T17:00:28Z",
         "2019-04-22T13:48:13Z"
        ],
        [
         74,
         290,
         "2020-12-17T04:06:43Z",
         "2016-09-05T11:26:57Z"
        ],
        [
         61,
         300,
         "2019-12-28T05:24:56Z",
         "2016-08-07T19:05:47Z"
        ],
        [
         3,
         323,
         "2018-03-18T17:00:28Z",
         "2019-04-22T13:48:13Z"
        ],
        [
         10,
         276,
         "2017-10-22T04:55:46Z",
         "2018-08-17T20:42:25Z"
        ],
        [
         76,
         324,
         "2018-07-29T16:50:09Z",
         "2019-01-05T21:24:56Z"
        ],
        [
         61,
         327,
         "2017-12-23T22:58:51Z",
         "2019-02-26T02:17:37Z"
        ],
        [
         35,
         273,
         "2017-11-12T04:12:00Z",
         "2019-03-15T17:58:37Z"
        ],
        [
         20,
         318,
         "2016-01-05T05:56:11Z",
         "2020-03-02T04:00:40Z"
        ],
        [
         74,
         290,
         "2020-12-17T04:06:43Z",
         "2016-09-05T11:26:57Z"
        ],
        [
         80,
         280,
         "2019-03-02T11:38:07Z",
         "2020-10-19T08:55:21Z"
        ],
        [
         35,
         273,
         "2017-11-12T04:12:00Z",
         "2019-03-15T17:58:37Z"
        ],
        [
         20,
         318,
         "2016-01-05T05:56:11Z",
         "2020-03-02T04:00:40Z"
        ],
        [
         7,
         273,
         "2020-09-28T13:05:17Z",
         "2017-09-14T05:25:19Z"
        ],
        [
         61,
         327,
         "2017-12-23T22:58:51Z",
         "2019-02-26T02:17:37Z"
        ],
        [
         61,
         300,
         "2019-12-28T05:24:56Z",
         "2016-08-07T19:05:47Z"
        ],
        [
         3,
         323,
         "2018-03-18T17:00:28Z",
         "2019-04-22T13:48:13Z"
        ],
        [
         76,
         324,
         "2018-07-29T16:50:09Z",
         "2019-01-05T21:24:56Z"
        ],
        [
         7,
         273,
         "2020-09-28T13:05:17Z",
         "2017-09-14T05:25:19Z"
        ],
        [
         20,
         318,
         "2016-01-05T05:56:11Z",
         "2020-03-02T04:00:40Z"
        ],
        [
         7,
         273,
         "2020-09-28T13:05:17Z",
         "2017-09-14T05:25:19Z"
        ],
        [
         7,
         273,
         "2020-09-28T13:05:17Z",
         "2017-09-14T05:25:19Z"
        ],
        [
         44,
         351,
         "2020-03-22T09:54:45Z",
         "2020-11-05T15:48:12Z"
        ],
        [
         63,
         288,
         "2018-09-01T16:10:41Z",
         "2020-10-15T21:46:56Z"
        ],
        [
         52,
         297,
         "2018-01-11T16:55:57Z",
         "2019-02-02T18:49:43Z"
        ],
        [
         15,
         363,
         "2021-01-27T21:49:40Z",
         "2019-08-20T06:58:04Z"
        ],
        [
         44,
         351,
         "2020-03-22T09:54:45Z",
         "2020-11-05T15:48:12Z"
        ],
        [
         10,
         276,
         "2017-10-22T04:55:46Z",
         "2018-08-17T20:42:25Z"
        ],
        [
         50,
         277,
         "2020-02-28T01:23:58Z",
         "2017-11-08T09:15:12Z"
        ],
        [
         54,
         300,
         "2020-01-25T16:59:50Z",
         "2016-08-30T07:48:55Z"
        ],
        [
         28,
         342,
         "2016-02-02T20:29:37Z",
         "2017-11-12T23:35:19Z"
        ],
        [
         56,
         338,
         "2018-08-15T00:05:36Z",
         "2018-12-01T20:39:25Z"
        ],
        [
         54,
         300,
         "2020-01-25T16:59:50Z",
         "2016-08-30T07:48:55Z"
        ],
        [
         56,
         338,
         "2018-08-15T00:05:36Z",
         "2018-12-01T20:39:25Z"
        ],
        [
         28,
         342,
         "2016-02-02T20:29:37Z",
         "2017-11-12T23:35:19Z"
        ],
        [
         54,
         300,
         "2020-01-25T16:59:50Z",
         "2016-08-30T07:48:55Z"
        ],
        [
         28,
         342,
         "2016-02-02T20:29:37Z",
         "2017-11-12T23:35:19Z"
        ],
        [
         54,
         300,
         "2020-01-25T16:59:50Z",
         "2016-08-30T07:48:55Z"
        ],
        [
         56,
         338,
         "2018-08-15T00:05:36Z",
         "2018-12-01T20:39:25Z"
        ],
        [
         28,
         342,
         "2016-02-02T20:29:37Z",
         "2017-11-12T23:35:19Z"
        ],
        [
         56,
         338,
         "2018-08-15T00:05:36Z",
         "2018-12-01T20:39:25Z"
        ]
       ],
       "datasetInfos": [
        {
         "name": "df",
         "schema": {
          "fields": [
           {
            "metadata": {},
            "name": "id_pasajero",
            "nullable": true,
            "type": "integer"
           },
           {
            "metadata": {},
            "name": "id_trayecto",
            "nullable": true,
            "type": "integer"
           },
           {
            "metadata": {},
            "name": "inicio",
            "nullable": true,
            "type": "timestamp"
           },
           {
            "metadata": {},
            "name": "fin",
            "nullable": true,
            "type": "timestamp"
           }
          ],
          "type": "struct"
         },
         "tableIdentifier": null,
         "typeStr": "org.apache.spark.sql.DataFrame"
        }
       ],
       "dbfsResultPath": null,
       "isJsonSchema": true,
       "metadata": {},
       "overflow": false,
       "plotOptions": {
        "customPlotOptions": {},
        "displayType": "table",
        "pivotAggregation": null,
        "pivotColumns": null,
        "xColumns": null,
        "yColumns": null
       },
       "removedWidgets": [],
       "schema": [
        {
         "metadata": "{}",
         "name": "id_pasajero",
         "type": "\"integer\""
        },
        {
         "metadata": "{}",
         "name": "id_trayecto",
         "type": "\"integer\""
        },
        {
         "metadata": "{}",
         "name": "inicio",
         "type": "\"timestamp\""
        },
        {
         "metadata": "{}",
         "name": "fin",
         "type": "\"timestamp\""
        }
       ],
       "type": "table"
      }
     },
     "output_type": "display_data"
    }
   ],
   "source": [
    "%scala\n",
    "// Crear una vista temporal de la tabla 'trayecto'\n",
    "val df = spark.sql(\"SELECT * FROM trayecto\")\n",
    "df.createOrReplaceTempView(\"trayecto_temp\")\n",
    "\n",
    "// Mostrar los datos insertados en la vista temporal 'trayecto_temp'\n",
    "display(df)"
   ]
  },
  {
   "cell_type": "code",
   "execution_count": 0,
   "metadata": {
    "application/vnd.databricks.v1+cell": {
     "cellMetadata": {
      "byteLimit": 2048000,
      "implicitDf": true,
      "rowLimit": 10000
     },
     "inputWidgets": {},
     "nuid": "e6b4a8ec-9509-43ad-a716-203aed874324",
     "showTitle": false,
     "tableResultSettingsMap": {},
     "title": ""
    }
   },
   "outputs": [
    {
     "output_type": "display_data",
     "data": {
      "text/html": [
       "<style scoped>\n",
       "  .table-result-container {\n",
       "    max-height: 300px;\n",
       "    overflow: auto;\n",
       "  }\n",
       "  table, th, td {\n",
       "    border: 1px solid black;\n",
       "    border-collapse: collapse;\n",
       "  }\n",
       "  th, td {\n",
       "    padding: 5px;\n",
       "  }\n",
       "  th {\n",
       "    text-align: left;\n",
       "  }\n",
       "</style><div class='table-result-container'><table class='table-result'><thead style='background-color: white'><tr><th>id_trayecto</th><th>num_pasajeros</th></tr></thead><tbody><tr><td>272</td><td>8</td></tr><tr><td>273</td><td>8</td></tr><tr><td>274</td><td>16</td></tr><tr><td>276</td><td>8</td></tr><tr><td>277</td><td>8</td></tr><tr><td>278</td><td>4</td></tr><tr><td>280</td><td>4</td></tr><tr><td>281</td><td>4</td></tr><tr><td>283</td><td>8</td></tr><tr><td>286</td><td>4</td></tr><tr><td>287</td><td>12</td></tr><tr><td>288</td><td>12</td></tr><tr><td>289</td><td>4</td></tr><tr><td>290</td><td>4</td></tr><tr><td>292</td><td>12</td></tr><tr><td>294</td><td>4</td></tr><tr><td>295</td><td>4</td></tr><tr><td>297</td><td>12</td></tr><tr><td>298</td><td>8</td></tr><tr><td>299</td><td>8</td></tr><tr><td>300</td><td>8</td></tr><tr><td>301</td><td>4</td></tr><tr><td>303</td><td>4</td></tr><tr><td>306</td><td>8</td></tr><tr><td>307</td><td>4</td></tr><tr><td>308</td><td>8</td></tr><tr><td>310</td><td>4</td></tr><tr><td>311</td><td>8</td></tr><tr><td>315</td><td>4</td></tr><tr><td>316</td><td>4</td></tr><tr><td>317</td><td>4</td></tr><tr><td>318</td><td>4</td></tr><tr><td>319</td><td>4</td></tr><tr><td>320</td><td>8</td></tr><tr><td>323</td><td>12</td></tr><tr><td>324</td><td>4</td></tr><tr><td>325</td><td>4</td></tr><tr><td>327</td><td>4</td></tr><tr><td>328</td><td>12</td></tr><tr><td>329</td><td>4</td></tr><tr><td>330</td><td>4</td></tr><tr><td>333</td><td>8</td></tr><tr><td>338</td><td>8</td></tr><tr><td>342</td><td>4</td></tr><tr><td>343</td><td>4</td></tr><tr><td>345</td><td>4</td></tr><tr><td>346</td><td>8</td></tr><tr><td>349</td><td>4</td></tr><tr><td>351</td><td>12</td></tr><tr><td>353</td><td>4</td></tr><tr><td>354</td><td>4</td></tr><tr><td>356</td><td>4</td></tr><tr><td>357</td><td>8</td></tr><tr><td>358</td><td>4</td></tr><tr><td>360</td><td>4</td></tr><tr><td>362</td><td>4</td></tr><tr><td>363</td><td>8</td></tr><tr><td>365</td><td>4</td></tr><tr><td>366</td><td>8</td></tr><tr><td>367</td><td>4</td></tr><tr><td>368</td><td>8</td></tr><tr><td>369</td><td>4</td></tr><tr><td>370</td><td>4</td></tr><tr><td>371</td><td>4</td></tr></tbody></table></div>"
      ]
     },
     "metadata": {
      "application/vnd.databricks.v1+output": {
       "addedWidgets": {},
       "aggData": [],
       "aggError": "",
       "aggOverflow": false,
       "aggSchema": [],
       "aggSeriesLimitReached": false,
       "aggType": "",
       "arguments": {},
       "columnCustomDisplayInfos": {},
       "data": [
        [
         272,
         8
        ],
        [
         273,
         8
        ],
        [
         274,
         16
        ],
        [
         276,
         8
        ],
        [
         277,
         8
        ],
        [
         278,
         4
        ],
        [
         280,
         4
        ],
        [
         281,
         4
        ],
        [
         283,
         8
        ],
        [
         286,
         4
        ],
        [
         287,
         12
        ],
        [
         288,
         12
        ],
        [
         289,
         4
        ],
        [
         290,
         4
        ],
        [
         292,
         12
        ],
        [
         294,
         4
        ],
        [
         295,
         4
        ],
        [
         297,
         12
        ],
        [
         298,
         8
        ],
        [
         299,
         8
        ],
        [
         300,
         8
        ],
        [
         301,
         4
        ],
        [
         303,
         4
        ],
        [
         306,
         8
        ],
        [
         307,
         4
        ],
        [
         308,
         8
        ],
        [
         310,
         4
        ],
        [
         311,
         8
        ],
        [
         315,
         4
        ],
        [
         316,
         4
        ],
        [
         317,
         4
        ],
        [
         318,
         4
        ],
        [
         319,
         4
        ],
        [
         320,
         8
        ],
        [
         323,
         12
        ],
        [
         324,
         4
        ],
        [
         325,
         4
        ],
        [
         327,
         4
        ],
        [
         328,
         12
        ],
        [
         329,
         4
        ],
        [
         330,
         4
        ],
        [
         333,
         8
        ],
        [
         338,
         8
        ],
        [
         342,
         4
        ],
        [
         343,
         4
        ],
        [
         345,
         4
        ],
        [
         346,
         8
        ],
        [
         349,
         4
        ],
        [
         351,
         12
        ],
        [
         353,
         4
        ],
        [
         354,
         4
        ],
        [
         356,
         4
        ],
        [
         357,
         8
        ],
        [
         358,
         4
        ],
        [
         360,
         4
        ],
        [
         362,
         4
        ],
        [
         363,
         8
        ],
        [
         365,
         4
        ],
        [
         366,
         8
        ],
        [
         367,
         4
        ],
        [
         368,
         8
        ],
        [
         369,
         4
        ],
        [
         370,
         4
        ],
        [
         371,
         4
        ]
       ],
       "datasetInfos": [],
       "dbfsResultPath": null,
       "isJsonSchema": true,
       "metadata": {
        "createTempViewForImplicitDf": true,
        "dataframeName": "_sqldf",
        "executionCount": 1
       },
       "overflow": false,
       "plotOptions": {
        "customPlotOptions": {},
        "displayType": "table",
        "pivotAggregation": null,
        "pivotColumns": null,
        "xColumns": null,
        "yColumns": null
       },
       "removedWidgets": [],
       "schema": [
        {
         "metadata": "{}",
         "name": "id_trayecto",
         "type": "\"integer\""
        },
        {
         "metadata": "{}",
         "name": "num_pasajeros",
         "type": "\"long\""
        }
       ],
       "type": "table"
      }
     },
     "output_type": "display_data"
    }
   ],
   "source": [
    "%sql\n",
    "SELECT id_trayecto, COUNT(id_pasajero) AS num_pasajeros\n",
    "FROM trayecto_temp\n",
    "GROUP BY id_trayecto\n",
    "ORDER BY id_trayecto;"
   ]
  },
  {
   "cell_type": "code",
   "execution_count": 0,
   "metadata": {
    "application/vnd.databricks.v1+cell": {
     "cellMetadata": {
      "byteLimit": 2048000,
      "implicitDf": true,
      "rowLimit": 10000
     },
     "inputWidgets": {},
     "nuid": "7c1d3f6e-d36e-47b6-9d51-0fda7a309dae",
     "showTitle": false,
     "tableResultSettingsMap": {},
     "title": ""
    }
   },
   "outputs": [
    {
     "output_type": "display_data",
     "data": {
      "text/html": [
       "<style scoped>\n",
       "  .table-result-container {\n",
       "    max-height: 300px;\n",
       "    overflow: auto;\n",
       "  }\n",
       "  table, th, td {\n",
       "    border: 1px solid black;\n",
       "    border-collapse: collapse;\n",
       "  }\n",
       "  th, td {\n",
       "    padding: 5px;\n",
       "  }\n",
       "  th {\n",
       "    text-align: left;\n",
       "  }\n",
       "</style><div class='table-result-container'><table class='table-result'><thead style='background-color: white'><tr><th>id_pasajero</th><th>id_trayecto</th><th>num_trayectos</th></tr></thead><tbody><tr><td>100</td><td>299</td><td>4</td></tr><tr><td>39</td><td>274</td><td>4</td></tr><tr><td>22</td><td>274</td><td>4</td></tr><tr><td>39</td><td>298</td><td>4</td></tr><tr><td>13</td><td>287</td><td>4</td></tr><tr><td>84</td><td>299</td><td>4</td></tr><tr><td>45</td><td>323</td><td>4</td></tr><tr><td>72</td><td>303</td><td>4</td></tr><tr><td>80</td><td>280</td><td>4</td></tr></tbody></table></div>"
      ]
     },
     "metadata": {
      "application/vnd.databricks.v1+output": {
       "addedWidgets": {},
       "aggData": [],
       "aggError": "",
       "aggOverflow": false,
       "aggSchema": [],
       "aggSeriesLimitReached": false,
       "aggType": "",
       "arguments": {},
       "columnCustomDisplayInfos": {},
       "data": [
        [
         100,
         299,
         4
        ],
        [
         39,
         274,
         4
        ],
        [
         22,
         274,
         4
        ],
        [
         39,
         298,
         4
        ],
        [
         13,
         287,
         4
        ],
        [
         84,
         299,
         4
        ],
        [
         45,
         323,
         4
        ],
        [
         72,
         303,
         4
        ],
        [
         80,
         280,
         4
        ]
       ],
       "datasetInfos": [],
       "dbfsResultPath": null,
       "isJsonSchema": true,
       "metadata": {
        "createTempViewForImplicitDf": true,
        "dataframeName": "_sqldf",
        "executionCount": 3
       },
       "overflow": false,
       "plotOptions": {
        "customPlotOptions": {},
        "displayType": "table",
        "pivotAggregation": null,
        "pivotColumns": null,
        "xColumns": null,
        "yColumns": null
       },
       "removedWidgets": [],
       "schema": [
        {
         "metadata": "{}",
         "name": "id_pasajero",
         "type": "\"integer\""
        },
        {
         "metadata": "{}",
         "name": "id_trayecto",
         "type": "\"integer\""
        },
        {
         "metadata": "{}",
         "name": "num_trayectos",
         "type": "\"long\""
        }
       ],
       "type": "table"
      }
     },
     "output_type": "display_data"
    }
   ],
   "source": [
    "%sql\n",
    "SELECT id_pasajero, id_trayecto, COUNT(*) AS num_trayectos\n",
    "FROM trayecto_temp\n",
    "WHERE inicio BETWEEN '2019-01-01' AND '2019-05-01'\n",
    "GROUP BY id_pasajero, id_trayecto\n",
    "ORDER BY num_trayectos DESC;"
   ]
  },
  {
   "cell_type": "code",
   "execution_count": 0,
   "metadata": {
    "application/vnd.databricks.v1+cell": {
     "cellMetadata": {
      "byteLimit": 2048000,
      "implicitDf": true,
      "rowLimit": 10000
     },
     "inputWidgets": {},
     "nuid": "cbbb30a3-8ee0-448e-833e-b1d6e55db7bc",
     "showTitle": false,
     "tableResultSettingsMap": {},
     "title": ""
    }
   },
   "outputs": [
    {
     "output_type": "display_data",
     "data": {
      "text/html": [
       "<style scoped>\n",
       "  .table-result-container {\n",
       "    max-height: 300px;\n",
       "    overflow: auto;\n",
       "  }\n",
       "  table, th, td {\n",
       "    border: 1px solid black;\n",
       "    border-collapse: collapse;\n",
       "  }\n",
       "  th, td {\n",
       "    padding: 5px;\n",
       "  }\n",
       "  th {\n",
       "    text-align: left;\n",
       "  }\n",
       "</style><div class='table-result-container'><table class='table-result'><thead style='background-color: white'><tr><th>id_trayecto</th><th>num_personas</th></tr></thead><tbody><tr><td>274</td><td>3</td></tr><tr><td>299</td><td>2</td></tr><tr><td>298</td><td>2</td></tr></tbody></table></div>"
      ]
     },
     "metadata": {
      "application/vnd.databricks.v1+output": {
       "addedWidgets": {},
       "aggData": [],
       "aggError": "",
       "aggOverflow": false,
       "aggSchema": [],
       "aggSeriesLimitReached": false,
       "aggType": "",
       "arguments": {},
       "columnCustomDisplayInfos": {},
       "data": [
        [
         274,
         3
        ],
        [
         299,
         2
        ],
        [
         298,
         2
        ]
       ],
       "datasetInfos": [],
       "dbfsResultPath": null,
       "isJsonSchema": true,
       "metadata": {
        "createTempViewForImplicitDf": true,
        "dataframeName": "_sqldf",
        "executionCount": 15
       },
       "overflow": false,
       "plotOptions": {
        "customPlotOptions": {},
        "displayType": "table",
        "pivotAggregation": null,
        "pivotColumns": null,
        "xColumns": null,
        "yColumns": null
       },
       "removedWidgets": [],
       "schema": [
        {
         "metadata": "{}",
         "name": "id_trayecto",
         "type": "\"integer\""
        },
        {
         "metadata": "{}",
         "name": "num_personas",
         "type": "\"long\""
        }
       ],
       "type": "table"
      }
     },
     "output_type": "display_data"
    }
   ],
   "source": [
    "%sql\n",
    "SELECT id_trayecto, COUNT(DISTINCT id_pasajero) AS num_personas\n",
    "FROM trayecto_temp\n",
    "WHERE YEAR(inicio) = 2019\n",
    "GROUP BY id_trayecto\n",
    "HAVING COUNT(DISTINCT id_pasajero) > 1\n",
    "ORDER BY num_personas DESC;"
   ]
  }
 ],
 "metadata": {
  "application/vnd.databricks.v1+notebook": {
   "dashboards": [],
   "environmentMetadata": {
    "base_environment": "",
    "client": "1"
   },
   "language": "python",
   "notebookMetadata": {
    "mostRecentlyExecutedCommandWithImplicitDF": {
     "commandId": 4046689615207232,
     "dataframes": [
      "_sqldf"
     ]
    },
    "pythonIndentUnit": 4
   },
   "notebookName": "PostgreSQL-Scala",
   "widgets": {}
  },
  "language_info": {
   "name": "python"
  }
 },
 "nbformat": 4,
 "nbformat_minor": 0
}