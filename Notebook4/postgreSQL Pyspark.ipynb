{
 "cells": [
  {
   "cell_type": "code",
   "execution_count": 0,
   "metadata": {
    "application/vnd.databricks.v1+cell": {
     "cellMetadata": {
      "byteLimit": 2048000,
      "rowLimit": 10000
     },
     "inputWidgets": {},
     "nuid": "4d6cfbca-6a0d-4bcd-971b-b4ce0ce7cd54",
     "showTitle": false,
     "tableResultSettingsMap": {},
     "title": ""
    }
   },
   "outputs": [
    {
     "output_type": "stream",
     "name": "stdout",
     "output_type": "stream",
     "text": [
      "+-------------+------------+--------------------+----------+----------------------------+--------------------+-------------------------+------------------------+----------------------+------------------+--------+-------------+\n|table_catalog|table_schema|          table_name|table_type|self_referencing_column_name|reference_generation|user_defined_type_catalog|user_defined_type_schema|user_defined_type_name|is_insertable_into|is_typed|commit_action|\n+-------------+------------+--------------------+----------+----------------------------+--------------------+-------------------------+------------------------+----------------------+------------------+--------+-------------+\n|     postgres|  pg_catalog|        pg_stats_ext|      VIEW|                        NULL|                NULL|                     NULL|                    NULL|                  NULL|                NO|      NO|         NULL|\n|     postgres|  pg_catalog|  pg_stats_ext_exprs|      VIEW|                        NULL|                NULL|                     NULL|                    NULL|                  NULL|                NO|      NO|         NULL|\n|     postgres|  pg_catalog|        pg_statistic|BASE TABLE|                        NULL|                NULL|                     NULL|                    NULL|                  NULL|               YES|      NO|         NULL|\n|     postgres|  pg_catalog|             pg_type|BASE TABLE|                        NULL|                NULL|                     NULL|                    NULL|                  NULL|               YES|      NO|         NULL|\n|     postgres|  pg_catalog|    pg_foreign_table|BASE TABLE|                        NULL|                NULL|                     NULL|                    NULL|                  NULL|               YES|      NO|         NULL|\n|     postgres|  pg_catalog|           pg_authid|BASE TABLE|                        NULL|                NULL|                     NULL|                    NULL|                  NULL|               YES|      NO|         NULL|\n|     postgres|  pg_catalog|           pg_shadow|      VIEW|                        NULL|                NULL|                     NULL|                    NULL|                  NULL|                NO|      NO|         NULL|\n|     postgres|  pg_catalog|            pg_roles|      VIEW|                        NULL|                NULL|                     NULL|                    NULL|                  NULL|                NO|      NO|         NULL|\n|     postgres|  pg_catalog|pg_statistic_ext_...|BASE TABLE|                        NULL|                NULL|                     NULL|                    NULL|                  NULL|               YES|      NO|         NULL|\n|     postgres|  pg_catalog|   pg_hba_file_rules|      VIEW|                        NULL|                NULL|                     NULL|                    NULL|                  NULL|                NO|      NO|         NULL|\n|     postgres|  pg_catalog|         pg_settings|      VIEW|                        NULL|                NULL|                     NULL|                    NULL|                  NULL|                NO|      NO|         NULL|\n|     postgres|  pg_catalog|    pg_file_settings|      VIEW|                        NULL|                NULL|                     NULL|                    NULL|                  NULL|                NO|      NO|         NULL|\n|     postgres|  pg_catalog|pg_backend_memory...|      VIEW|                        NULL|                NULL|                     NULL|                    NULL|                  NULL|                NO|      NO|         NULL|\n|     postgres|  pg_catalog|pg_ident_file_map...|      VIEW|                        NULL|                NULL|                     NULL|                    NULL|                  NULL|                NO|      NO|         NULL|\n|     postgres|  pg_catalog|           pg_config|      VIEW|                        NULL|                NULL|                     NULL|                    NULL|                  NULL|                NO|      NO|         NULL|\n|     postgres|  pg_catalog|pg_shmem_allocations|      VIEW|                        NULL|                NULL|                     NULL|                    NULL|                  NULL|                NO|      NO|         NULL|\n|     postgres|  pg_catalog|           pg_tables|      VIEW|                        NULL|                NULL|                     NULL|                    NULL|                  NULL|                NO|      NO|         NULL|\n|     postgres|  pg_catalog|     pg_user_mapping|BASE TABLE|                        NULL|                NULL|                     NULL|                    NULL|                  NULL|               YES|      NO|         NULL|\n|     postgres|  pg_catalog|pg_replication_or...|      VIEW|                        NULL|                NULL|                     NULL|                    NULL|                  NULL|                NO|      NO|         NULL|\n|     postgres|  pg_catalog|     pg_subscription|BASE TABLE|                        NULL|                NULL|                     NULL|                    NULL|                  NULL|               YES|      NO|         NULL|\n+-------------+------------+--------------------+----------+----------------------------+--------------------+-------------------------+------------------------+----------------------+------------------+--------+-------------+\nonly showing top 20 rows\n\nConexión exitosa\n"
     ]
    }
   ],
   "source": [
    "# Configuración de la conexión JDBC\n",
    "jdbc_url = \"jdbc:postgresql://sample.postgres.database.azure.com:5432/postgres\"\n",
    "connection_properties = {\n",
    "    \"user\": \"adminuser\",  # Reemplaza con tu usuario\n",
    "    \"password\": \"Acbp.1995\",              # Reemplaza con tu contraseña\n",
    "    \"driver\": \"org.postgresql.Driver\"        # Controlador JDBC\n",
    "                        \n",
    "}\n",
    "\n",
    "# Verificar la conexión listando tablas del sistema (por ejemplo, en la base de datos \"postgres\")\n",
    "try:\n",
    "    # Intentar leer algo del esquema público (vacío por defecto)\n",
    "    df = spark.read.jdbc(\n",
    "        url=jdbc_url,\n",
    "        table=\"information_schema.tables\",  # Esquema del sistema para verificar tablas\n",
    "        properties=connection_properties\n",
    "    )\n",
    "\n",
    "    # Mostrar resultados (debería mostrar tablas si la conexión es correcta)\n",
    "    df.show()\n",
    "    print(\"Conexión exitosa\")\n",
    "except Exception as e:\n",
    "    print(\"Error al conectar:\", e)"
   ]
  },
  {
   "cell_type": "code",
   "execution_count": 0,
   "metadata": {
    "application/vnd.databricks.v1+cell": {
     "cellMetadata": {
      "byteLimit": 2048000,
      "rowLimit": 10000
     },
     "inputWidgets": {},
     "nuid": "5dad9bb0-ebd5-4f9a-9ab2-1db9067fcaac",
     "showTitle": false,
     "tableResultSettingsMap": {},
     "title": ""
    }
   },
   "outputs": [
    {
     "output_type": "execute_result",
     "data": {
      "text/plain": [
       "DataFrame[]"
      ]
     },
     "execution_count": 20,
     "metadata": {},
     "output_type": "execute_result"
    }
   ],
   "source": [
    "%python\n",
    "# Crear la tabla 'estacion' en Databricks\n",
    "spark.sql(\"\"\"\n",
    "CREATE TABLE IF NOT EXISTS estacion (\n",
    "    nombre STRING,\n",
    "    direccion STRING\n",
    ")\n",
    "\"\"\")"
   ]
  },
  {
   "cell_type": "code",
   "execution_count": 0,
   "metadata": {
    "application/vnd.databricks.v1+cell": {
     "cellMetadata": {
      "byteLimit": 2048000,
      "rowLimit": 10000
     },
     "inputWidgets": {},
     "nuid": "d5397fe5-bff1-4de5-a49a-c41ed225aa95",
     "showTitle": false,
     "tableResultSettingsMap": {},
     "title": ""
    }
   },
   "outputs": [
    {
     "output_type": "stream",
     "name": "stdout",
     "output_type": "stream",
     "text": [
      "insert into estacion (nombre, direccion) values ('Kingsford', '24213 Debra Road');\ninsert into estacion (nombre, direccion) values ('5th', '5880 Village Green Park');\ninsert into estacion (nombre, direccion) values ('Shasta', '559 Hanover Crossing');\ninsert into estacion (nombre, direccion) values ('Eagle Crest', '025 Division Trail');\ninsert into estacion (nombre, direccion) values ('Carpenter', '52 Warner Lane');\ninsert into estacion (nombre, direccion) values ('Garrison', '6 Waxwing Court');\ninsert into estacion (nombre, direccion) values ('4th', '3 Johnson Park');\ninsert into estacion (nombre, direccion) values ('Brentwood', '20653 Buhler Plaza');\ninsert into estacion (nombre, direccion) values ('Di Loreto', '5890 Dexter Lane');\ninsert into estacion (nombre, direccion) values ('Mccormick', '824 Oxford Street');\ninsert into estacion (nombre, direccion) values ('Clarendon', '93 Elgar Court');\ninsert into estacion (nombre, direccion) values ('Village Green', '5 Elka Center');\ninsert into estacion (nombre, direccion) values ('Almo', '37 Pepper Wood Point');\ninsert into estacion (nombre, direccion) values ('Morrow', '9 Dawn Pass');\ninsert into estacion (nombre, direccion) values ('Badeau', '3 Autumn Leaf Center');\ninsert into estacion (nombre, direccion) values ('Nobel', '7 Raven Avenue');\ninsert into estacion (nombre, direccion) values ('Fremont', '6013 Oak Street');\ninsert into estacion (nombre, direccion) values ('Beilfuss', '607 Raven Terrace');\ninsert into estacion (nombre, direccion) values ('Troy', '2 Londonderry Parkway');\ninsert into estacion (nombre, direccion) values ('Lyons', '7 Portage Crossing');\ninsert into estacion (nombre, direccion) values ('Esch', '134 Warbler Plaza');\ninsert into estacion (nombre, direccion) values ('American Ash', '2 East Alley');\ninsert into estacion (nombre, direccion) values ('Melrose', '37 South Trail');\ninsert into estacion (nombre, direccion) values ('Nobel', '4 Esch Circle');\ninsert into estacion (nombre, direccion) values ('Farragut', '614 Saint Paul Parkway');\ninsert into estacion (nombre, direccion) values ('High Crossing', '0884 Oak Pass');\ninsert into estacion (nombre, direccion) values ('Oak', '4 Victoria Avenue');\ninsert into estacion (nombre, direccion) values ('Spohn', '5 Artisan Park');\ninsert into estacion (nombre, direccion) values ('Darwin', '2140 Claremont Pass');\ninsert into estacion (nombre, direccion) values ('Grim', '2970 Transport Pass');\ninsert into estacion (nombre, direccion) values ('Thackeray', '0 Brown Alley');\ninsert into estacion (nombre, direccion) values ('Debra', '29 Mallory Lane');\ninsert into estacion (nombre, direccion) values ('Hayes', '85 Nancy Center');\ninsert into estacion (nombre, direccion) values ('Kipling', '6 Eggendart Road');\ninsert into estacion (nombre, direccion) values ('Anthes', '25635 Redwing Plaza');\ninsert into estacion (nombre, direccion) values ('Jenna', '43 Meadow Vale Way');\ninsert into estacion (nombre, direccion) values ('Eastlawn', '8 Rigney Circle');\ninsert into estacion (nombre, direccion) values ('Delladonna', '6 Sutteridge Center');\ninsert into estacion (nombre, direccion) values ('Mccormick', '512 Main Road');\ninsert into estacion (nombre, direccion) values ('Johnson', '8 Ridge Oak Alley');\ninsert into estacion (nombre, direccion) values ('Kropf', '41 Loeprich Avenue');\ninsert into estacion (nombre, direccion) values ('Forest Run', '2 Park Meadow Point');\ninsert into estacion (nombre, direccion) values ('Coolidge', '81429 Mandrake Pass');\ninsert into estacion (nombre, direccion) values ('Mendota', '585 Homewood Way');\ninsert into estacion (nombre, direccion) values ('Lillian', '859 Columbus Place');\ninsert into estacion (nombre, direccion) values ('Summit', '5436 Butterfield Center');\ninsert into estacion (nombre, direccion) values ('Florence', '73836 Waxwing Court');\ninsert into estacion (nombre, direccion) values ('Melrose', '319 Northridge Junction');\ninsert into estacion (nombre, direccion) values ('Lawn', '739 Maryland Court');\ninsert into estacion (nombre, direccion) values ('Mariners Cove', '03 Sunfield Trail');\ninsert into estacion (nombre, direccion) values ('Bonner', '4 Southridge Terrace');\ninsert into estacion (nombre, direccion) values ('Cordelia', '3 Schurz Avenue');\ninsert into estacion (nombre, direccion) values ('Del Mar', '6527 Dennis Center');\ninsert into estacion (nombre, direccion) values ('Ronald Regan', '327 Lighthouse Bay Circle');\ninsert into estacion (nombre, direccion) values ('Jay', '356 Basil Hill');\ninsert into estacion (nombre, direccion) values ('Merrick', '346 Mockingbird Place');\ninsert into estacion (nombre, direccion) values ('Delaware', '838 Warbler Drive');\ninsert into estacion (nombre, direccion) values ('Anderson', '850 Westridge Point');\ninsert into estacion (nombre, direccion) values ('Loeprich', '80046 Hoepker Circle');\ninsert into estacion (nombre, direccion) values ('Blackbird', '89311 Hallows Pass');\ninsert into estacion (nombre, direccion) values ('Lien', '8 Blackbird Junction');\ninsert into estacion (nombre, direccion) values ('Eggendart', '923 Buhler Avenue');\ninsert into estacion (nombre, direccion) values ('Cambridge', '6 Carioca Road');\ninsert into estacion (nombre, direccion) values ('Oriole', '3 Darwin Center');\ninsert into estacion (nombre, direccion) values ('Homewood', '24737 7th Park');\ninsert into estacion (nombre, direccion) values ('Kropf', '3810 Dwight Avenue');\ninsert into estacion (nombre, direccion) values ('Rigney', '7318 Clyde Gallagher Circle');\ninsert into estacion (nombre, direccion) values ('Ridgeway', '14 Walton Circle');\ninsert into estacion (nombre, direccion) values ('Mallard', '03 Annamark Place');\ninsert into estacion (nombre, direccion) values ('Bayside', '39 Columbus Court');\ninsert into estacion (nombre, direccion) values ('Dixon', '0636 Upham Crossing');\ninsert into estacion (nombre, direccion) values ('1st', '790 Hanson Circle');\ninsert into estacion (nombre, direccion) values ('Warbler', '3 Crowley Junction');\ninsert into estacion (nombre, direccion) values ('8th', '01 Aberg Point');\ninsert into estacion (nombre, direccion) values ('Brown', '11615 Dryden Lane');\ninsert into estacion (nombre, direccion) values ('Anthes', '9 Rigney Street');\ninsert into estacion (nombre, direccion) values ('Kenwood', '289 Hanson Plaza');\ninsert into estacion (nombre, direccion) values ('Fieldstone', '46345 Nancy Hill');\ninsert into estacion (nombre, direccion) values ('Fieldstone', '38 Arkansas Point');\ninsert into estacion (nombre, direccion) values ('Del Mar', '3 Buena Vista Court');\ninsert into estacion (nombre, direccion) values ('Thompson', '03611 Fulton Point');\ninsert into estacion (nombre, direccion) values ('Melvin', '12 Surrey Plaza');\ninsert into estacion (nombre, direccion) values ('American Ash', '51 Forest Run Trail');\ninsert into estacion (nombre, direccion) values ('Onsgard', '4978 Magdeline Street');\ninsert into estacion (nombre, direccion) values ('Everett', '6379 Briar Crest Avenue');\ninsert into estacion (nombre, direccion) values ('Ridge Oak', '43 Pond Alley');\ninsert into estacion (nombre, direccion) values ('Mayer', '0346 Stone Corner Hill');\ninsert into estacion (nombre, direccion) values ('Weeping Birch', '06 Lillian Pass');\ninsert into estacion (nombre, direccion) values ('Longview', '72 Doe Crossing Drive');\ninsert into estacion (nombre, direccion) values ('Anniversary', '84 Hauk Way');\ninsert into estacion (nombre, direccion) values ('Fulton', '600 Goodland Road');\ninsert into estacion (nombre, direccion) values ('Moland', '0404 Fairfield Alley');\ninsert into estacion (nombre, direccion) values ('Meadow Vale', '36886 Prairie Rose Place');\ninsert into estacion (nombre, direccion) values ('Paget', '939 Cambridge Avenue');\ninsert into estacion (nombre, direccion) values ('Little Fleur', '3621 Kennedy Parkway');\ninsert into estacion (nombre, direccion) values ('Bluestem', '2 Walton Drive');\ninsert into estacion (nombre, direccion) values ('Hoepker', '15394 Duke Center');\ninsert into estacion (nombre, direccion) values ('New Castle', '72635 Ridgeview Crossing');\ninsert into estacion (nombre, direccion) values ('Ohio', '0 Florence Way');\ninsert into estacion (nombre, direccion) values ('Forest Dale', '8 Melody Park');\n\n"
     ]
    }
   ],
   "source": [
    "# Leer el archivo .sql\n",
    "with open(\"/dbfs/FileStore/tables/estacion.sql\", \"r\") as file:\n",
    "    sql_script = file.read()\n",
    "\n",
    "# Verificar el contenido del archivo\n",
    "print(sql_script)"
   ]
  },
  {
   "cell_type": "markdown",
   "metadata": {
    "application/vnd.databricks.v1+cell": {
     "cellMetadata": {},
     "inputWidgets": {},
     "nuid": "8dcec3af-f71e-4fb6-92c2-cc07a7f50d0d",
     "showTitle": false,
     "tableResultSettingsMap": {},
     "title": ""
    }
   },
   "source": [
    "## subir estacion "
   ]
  },
  {
   "cell_type": "code",
   "execution_count": 0,
   "metadata": {
    "application/vnd.databricks.v1+cell": {
     "cellMetadata": {
      "byteLimit": 2048000,
      "rowLimit": 10000
     },
     "inputWidgets": {},
     "nuid": "3a03f068-b377-4066-a721-3488655188dd",
     "showTitle": false,
     "tableResultSettingsMap": {},
     "title": ""
    }
   },
   "outputs": [],
   "source": [
    "%python\n",
    "# Leer el archivo .sql\n",
    "with open(\"/dbfs/FileStore/tables/estacion.sql\", \"r\") as file:\n",
    "    sql_script = file.read()\n",
    "\n",
    "# Dividir el script en comandos individuales y excluir el último elemento vacío\n",
    "commands = sql_script.split(';')[:-1]\n",
    "\n",
    "# Ejecutar cada comando del script SQL en Databricks\n",
    "for command in commands:\n",
    "    if command.strip():\n",
    "        spark.sql(command.strip())"
   ]
  },
  {
   "cell_type": "code",
   "execution_count": 0,
   "metadata": {
    "application/vnd.databricks.v1+cell": {
     "cellMetadata": {
      "byteLimit": 2048000,
      "rowLimit": 10000
     },
     "inputWidgets": {},
     "nuid": "3c735c56-b899-4fac-90e1-dc555a9d4681",
     "showTitle": false,
     "tableResultSettingsMap": {},
     "title": ""
    }
   },
   "outputs": [
    {
     "output_type": "display_data",
     "data": {
      "text/html": [
       "<style scoped>\n",
       "  .table-result-container {\n",
       "    max-height: 300px;\n",
       "    overflow: auto;\n",
       "  }\n",
       "  table, th, td {\n",
       "    border: 1px solid black;\n",
       "    border-collapse: collapse;\n",
       "  }\n",
       "  th, td {\n",
       "    padding: 5px;\n",
       "  }\n",
       "  th {\n",
       "    text-align: left;\n",
       "  }\n",
       "</style><div class='table-result-container'><table class='table-result'><thead style='background-color: white'><tr><th>nombre</th><th>direccion</th></tr></thead><tbody><tr><td>Ronald Regan</td><td>327 Lighthouse Bay Circle</td></tr><tr><td>Meadow Vale</td><td>36886 Prairie Rose Place</td></tr><tr><td>New Castle</td><td>72635 Ridgeview Crossing</td></tr><tr><td>Rigney</td><td>7318 Clyde Gallagher Circle</td></tr><tr><td>Little Fleur</td><td>3621 Kennedy Parkway</td></tr><tr><td>American Ash</td><td>51 Forest Run Trail</td></tr><tr><td>Mariners Cove</td><td>03 Sunfield Trail</td></tr><tr><td>Farragut</td><td>614 Saint Paul Parkway</td></tr><tr><td>Forest Run</td><td>2 Park Meadow Point</td></tr><tr><td>Melrose</td><td>319 Northridge Junction</td></tr><tr><td>Eagle Crest</td><td>025 Division Trail</td></tr><tr><td>Everett</td><td>6379 Briar Crest Avenue</td></tr><tr><td>Delladonna</td><td>6 Sutteridge Center</td></tr><tr><td>Longview</td><td>72 Doe Crossing Drive</td></tr><tr><td>Summit</td><td>5436 Butterfield Center</td></tr><tr><td>Weeping Birch</td><td>06 Lillian Pass</td></tr><tr><td>Loeprich</td><td>80046 Hoepker Circle</td></tr><tr><td>Merrick</td><td>346 Mockingbird Place</td></tr><tr><td>Onsgard</td><td>4978 Magdeline Street</td></tr><tr><td>Fieldstone</td><td>38 Arkansas Point</td></tr><tr><td>Blackbird</td><td>89311 Hallows Pass</td></tr><tr><td>Brentwood</td><td>20653 Buhler Plaza</td></tr><tr><td>Coolidge</td><td>81429 Mandrake Pass</td></tr><tr><td>Florence</td><td>73836 Waxwing Court</td></tr><tr><td>Anderson</td><td>850 Westridge Point</td></tr><tr><td>Mayer</td><td>0346 Stone Corner Hill</td></tr><tr><td>Village Green</td><td>5 Elka Center</td></tr><tr><td>High Crossing</td><td>0884 Oak Pass</td></tr><tr><td>Fieldstone</td><td>46345 Nancy Hill</td></tr><tr><td>Eggendart</td><td>923 Buhler Avenue</td></tr><tr><td>Mccormick</td><td>824 Oxford Street</td></tr><tr><td>Thompson</td><td>03611 Fulton Point</td></tr><tr><td>5th</td><td>5880 Village Green Park</td></tr><tr><td>Badeau</td><td>3 Autumn Leaf Center</td></tr><tr><td>Shasta</td><td>559 Hanover Crossing</td></tr><tr><td>Bonner</td><td>4 Southridge Terrace</td></tr><tr><td>Del Mar</td><td>3 Buena Vista Court</td></tr><tr><td>Moland</td><td>0404 Fairfield Alley</td></tr><tr><td>Kingsford</td><td>24213 Debra Road</td></tr><tr><td>Beilfuss</td><td>607 Raven Terrace</td></tr><tr><td>Delaware</td><td>838 Warbler Drive</td></tr><tr><td>Di Loreto</td><td>5890 Dexter Lane</td></tr><tr><td>Lillian</td><td>859 Columbus Place</td></tr><tr><td>Darwin</td><td>2140 Claremont Pass</td></tr><tr><td>Anthes</td><td>25635 Redwing Plaza</td></tr><tr><td>Del Mar</td><td>6527 Dennis Center</td></tr><tr><td>Troy</td><td>2 Londonderry Parkway</td></tr><tr><td>Warbler</td><td>3 Crowley Junction</td></tr><tr><td>Paget</td><td>939 Cambridge Avenue</td></tr><tr><td>American Ash</td><td>2 East Alley</td></tr><tr><td>Forest Dale</td><td>8 Melody Park</td></tr><tr><td>Ridgeway</td><td>14 Walton Circle</td></tr><tr><td>Lien</td><td>8 Blackbird Junction</td></tr><tr><td>Johnson</td><td>8 Ridge Oak Alley</td></tr><tr><td>Bayside</td><td>39 Columbus Court</td></tr><tr><td>Almo</td><td>37 Pepper Wood Point</td></tr><tr><td>Mallard</td><td>03 Annamark Place</td></tr><tr><td>Hoepker</td><td>15394 Duke Center</td></tr><tr><td>Dixon</td><td>0636 Upham Crossing</td></tr><tr><td>Carpenter</td><td>52 Warner Lane</td></tr><tr><td>Clarendon</td><td>93 Elgar Court</td></tr><tr><td>Cambridge</td><td>6 Carioca Road</td></tr><tr><td>Eastlawn</td><td>8 Rigney Circle</td></tr><tr><td>Garrison</td><td>6 Waxwing Court</td></tr><tr><td>Cordelia</td><td>3 Schurz Avenue</td></tr><tr><td>Lyons</td><td>7 Portage Crossing</td></tr><tr><td>Kropf</td><td>41 Loeprich Avenue</td></tr><tr><td>Kipling</td><td>6 Eggendart Road</td></tr><tr><td>Jenna</td><td>43 Meadow Vale Way</td></tr><tr><td>Kropf</td><td>3810 Dwight Avenue</td></tr><tr><td>Fulton</td><td>600 Goodland Road</td></tr><tr><td>Grim</td><td>2970 Transport Pass</td></tr><tr><td>Mendota</td><td>585 Homewood Way</td></tr><tr><td>Kenwood</td><td>289 Hanson Plaza</td></tr><tr><td>Anniversary</td><td>84 Hauk Way</td></tr><tr><td>Mccormick</td><td>512 Main Road</td></tr><tr><td>Thackeray</td><td>0 Brown Alley</td></tr><tr><td>Ridge Oak</td><td>43 Pond Alley</td></tr><tr><td>Homewood</td><td>24737 7th Park</td></tr><tr><td>Bluestem</td><td>2 Walton Drive</td></tr><tr><td>Lawn</td><td>739 Maryland Court</td></tr><tr><td>Fremont</td><td>6013 Oak Street</td></tr><tr><td>Brown</td><td>11615 Dryden Lane</td></tr><tr><td>Esch</td><td>134 Warbler Plaza</td></tr><tr><td>Melrose</td><td>37 South Trail</td></tr><tr><td>Anthes</td><td>9 Rigney Street</td></tr><tr><td>Melvin</td><td>12 Surrey Plaza</td></tr><tr><td>Oriole</td><td>3 Darwin Center</td></tr><tr><td>Hayes</td><td>85 Nancy Center</td></tr><tr><td>Debra</td><td>29 Mallory Lane</td></tr><tr><td>Oak</td><td>4 Victoria Avenue</td></tr><tr><td>1st</td><td>790 Hanson Circle</td></tr><tr><td>Spohn</td><td>5 Artisan Park</td></tr><tr><td>Nobel</td><td>7 Raven Avenue</td></tr><tr><td>Nobel</td><td>4 Esch Circle</td></tr><tr><td>Ohio</td><td>0 Florence Way</td></tr><tr><td>Jay</td><td>356 Basil Hill</td></tr><tr><td>4th</td><td>3 Johnson Park</td></tr><tr><td>Morrow</td><td>9 Dawn Pass</td></tr><tr><td>8th</td><td>01 Aberg Point</td></tr></tbody></table></div>"
      ]
     },
     "metadata": {
      "application/vnd.databricks.v1+output": {
       "addedWidgets": {},
       "aggData": [],
       "aggError": "",
       "aggOverflow": false,
       "aggSchema": [],
       "aggSeriesLimitReached": false,
       "aggType": "",
       "arguments": {},
       "columnCustomDisplayInfos": {},
       "data": [
        [
         "Ronald Regan",
         "327 Lighthouse Bay Circle"
        ],
        [
         "Meadow Vale",
         "36886 Prairie Rose Place"
        ],
        [
         "New Castle",
         "72635 Ridgeview Crossing"
        ],
        [
         "Rigney",
         "7318 Clyde Gallagher Circle"
        ],
        [
         "Little Fleur",
         "3621 Kennedy Parkway"
        ],
        [
         "American Ash",
         "51 Forest Run Trail"
        ],
        [
         "Mariners Cove",
         "03 Sunfield Trail"
        ],
        [
         "Farragut",
         "614 Saint Paul Parkway"
        ],
        [
         "Forest Run",
         "2 Park Meadow Point"
        ],
        [
         "Melrose",
         "319 Northridge Junction"
        ],
        [
         "Eagle Crest",
         "025 Division Trail"
        ],
        [
         "Everett",
         "6379 Briar Crest Avenue"
        ],
        [
         "Delladonna",
         "6 Sutteridge Center"
        ],
        [
         "Longview",
         "72 Doe Crossing Drive"
        ],
        [
         "Summit",
         "5436 Butterfield Center"
        ],
        [
         "Weeping Birch",
         "06 Lillian Pass"
        ],
        [
         "Loeprich",
         "80046 Hoepker Circle"
        ],
        [
         "Merrick",
         "346 Mockingbird Place"
        ],
        [
         "Onsgard",
         "4978 Magdeline Street"
        ],
        [
         "Fieldstone",
         "38 Arkansas Point"
        ],
        [
         "Blackbird",
         "89311 Hallows Pass"
        ],
        [
         "Brentwood",
         "20653 Buhler Plaza"
        ],
        [
         "Coolidge",
         "81429 Mandrake Pass"
        ],
        [
         "Florence",
         "73836 Waxwing Court"
        ],
        [
         "Anderson",
         "850 Westridge Point"
        ],
        [
         "Mayer",
         "0346 Stone Corner Hill"
        ],
        [
         "Village Green",
         "5 Elka Center"
        ],
        [
         "High Crossing",
         "0884 Oak Pass"
        ],
        [
         "Fieldstone",
         "46345 Nancy Hill"
        ],
        [
         "Eggendart",
         "923 Buhler Avenue"
        ],
        [
         "Mccormick",
         "824 Oxford Street"
        ],
        [
         "Thompson",
         "03611 Fulton Point"
        ],
        [
         "5th",
         "5880 Village Green Park"
        ],
        [
         "Badeau",
         "3 Autumn Leaf Center"
        ],
        [
         "Shasta",
         "559 Hanover Crossing"
        ],
        [
         "Bonner",
         "4 Southridge Terrace"
        ],
        [
         "Del Mar",
         "3 Buena Vista Court"
        ],
        [
         "Moland",
         "0404 Fairfield Alley"
        ],
        [
         "Kingsford",
         "24213 Debra Road"
        ],
        [
         "Beilfuss",
         "607 Raven Terrace"
        ],
        [
         "Delaware",
         "838 Warbler Drive"
        ],
        [
         "Di Loreto",
         "5890 Dexter Lane"
        ],
        [
         "Lillian",
         "859 Columbus Place"
        ],
        [
         "Darwin",
         "2140 Claremont Pass"
        ],
        [
         "Anthes",
         "25635 Redwing Plaza"
        ],
        [
         "Del Mar",
         "6527 Dennis Center"
        ],
        [
         "Troy",
         "2 Londonderry Parkway"
        ],
        [
         "Warbler",
         "3 Crowley Junction"
        ],
        [
         "Paget",
         "939 Cambridge Avenue"
        ],
        [
         "American Ash",
         "2 East Alley"
        ],
        [
         "Forest Dale",
         "8 Melody Park"
        ],
        [
         "Ridgeway",
         "14 Walton Circle"
        ],
        [
         "Lien",
         "8 Blackbird Junction"
        ],
        [
         "Johnson",
         "8 Ridge Oak Alley"
        ],
        [
         "Bayside",
         "39 Columbus Court"
        ],
        [
         "Almo",
         "37 Pepper Wood Point"
        ],
        [
         "Mallard",
         "03 Annamark Place"
        ],
        [
         "Hoepker",
         "15394 Duke Center"
        ],
        [
         "Dixon",
         "0636 Upham Crossing"
        ],
        [
         "Carpenter",
         "52 Warner Lane"
        ],
        [
         "Clarendon",
         "93 Elgar Court"
        ],
        [
         "Cambridge",
         "6 Carioca Road"
        ],
        [
         "Eastlawn",
         "8 Rigney Circle"
        ],
        [
         "Garrison",
         "6 Waxwing Court"
        ],
        [
         "Cordelia",
         "3 Schurz Avenue"
        ],
        [
         "Lyons",
         "7 Portage Crossing"
        ],
        [
         "Kropf",
         "41 Loeprich Avenue"
        ],
        [
         "Kipling",
         "6 Eggendart Road"
        ],
        [
         "Jenna",
         "43 Meadow Vale Way"
        ],
        [
         "Kropf",
         "3810 Dwight Avenue"
        ],
        [
         "Fulton",
         "600 Goodland Road"
        ],
        [
         "Grim",
         "2970 Transport Pass"
        ],
        [
         "Mendota",
         "585 Homewood Way"
        ],
        [
         "Kenwood",
         "289 Hanson Plaza"
        ],
        [
         "Anniversary",
         "84 Hauk Way"
        ],
        [
         "Mccormick",
         "512 Main Road"
        ],
        [
         "Thackeray",
         "0 Brown Alley"
        ],
        [
         "Ridge Oak",
         "43 Pond Alley"
        ],
        [
         "Homewood",
         "24737 7th Park"
        ],
        [
         "Bluestem",
         "2 Walton Drive"
        ],
        [
         "Lawn",
         "739 Maryland Court"
        ],
        [
         "Fremont",
         "6013 Oak Street"
        ],
        [
         "Brown",
         "11615 Dryden Lane"
        ],
        [
         "Esch",
         "134 Warbler Plaza"
        ],
        [
         "Melrose",
         "37 South Trail"
        ],
        [
         "Anthes",
         "9 Rigney Street"
        ],
        [
         "Melvin",
         "12 Surrey Plaza"
        ],
        [
         "Oriole",
         "3 Darwin Center"
        ],
        [
         "Hayes",
         "85 Nancy Center"
        ],
        [
         "Debra",
         "29 Mallory Lane"
        ],
        [
         "Oak",
         "4 Victoria Avenue"
        ],
        [
         "1st",
         "790 Hanson Circle"
        ],
        [
         "Spohn",
         "5 Artisan Park"
        ],
        [
         "Nobel",
         "7 Raven Avenue"
        ],
        [
         "Nobel",
         "4 Esch Circle"
        ],
        [
         "Ohio",
         "0 Florence Way"
        ],
        [
         "Jay",
         "356 Basil Hill"
        ],
        [
         "4th",
         "3 Johnson Park"
        ],
        [
         "Morrow",
         "9 Dawn Pass"
        ],
        [
         "8th",
         "01 Aberg Point"
        ]
       ],
       "datasetInfos": [],
       "dbfsResultPath": null,
       "isJsonSchema": true,
       "metadata": {},
       "overflow": false,
       "plotOptions": {
        "customPlotOptions": {},
        "displayType": "table",
        "pivotAggregation": null,
        "pivotColumns": null,
        "xColumns": null,
        "yColumns": null
       },
       "removedWidgets": [],
       "schema": [
        {
         "metadata": "{}",
         "name": "nombre",
         "type": "\"string\""
        },
        {
         "metadata": "{}",
         "name": "direccion",
         "type": "\"string\""
        }
       ],
       "type": "table"
      }
     },
     "output_type": "display_data"
    }
   ],
   "source": [
    "%python\n",
    "# Mostrar los datos insertados en la tabla 'estacion'\n",
    "df = spark.sql(\"SELECT * FROM estacion\")\n",
    "display(df)"
   ]
  },
  {
   "cell_type": "markdown",
   "metadata": {
    "application/vnd.databricks.v1+cell": {
     "cellMetadata": {},
     "inputWidgets": {},
     "nuid": "a8aeb6cf-d358-4c55-8ae0-17ca12830965",
     "showTitle": false,
     "tableResultSettingsMap": {},
     "title": ""
    }
   },
   "source": [
    "## subir viaje"
   ]
  },
  {
   "cell_type": "code",
   "execution_count": 0,
   "metadata": {
    "application/vnd.databricks.v1+cell": {
     "cellMetadata": {
      "byteLimit": 2048000,
      "rowLimit": 10000
     },
     "inputWidgets": {},
     "nuid": "8d293d4c-52d4-4b02-95df-41d3a4efd988",
     "showTitle": false,
     "tableResultSettingsMap": {},
     "title": ""
    }
   },
   "outputs": [
    {
     "output_type": "stream",
     "name": "stdout",
     "output_type": "stream",
     "text": [
      "insert into trayecto (id_pasajero, id_trayecto, inicio, fin) values (76, 365, '2016-09-12 11:30:51', '2020-02-02 11:21:04');\ninsert into trayecto (id_pasajero, id_trayecto, inicio, fin) values (79, 277, '2017-04-08 23:24:33', '2018-10-15 16:12:30');\ninsert into trayecto (id_pasajero, id_trayecto, inicio, fin) values (13, 292, '2020-11-05 18:50:29', '2020-06-01 13:14:45');\ninsert into trayecto (id_pasajero, id_trayecto, inicio, fin) values (14, 356, '2018-12-31 09:05:39', '2016-11-17 18:35:57');\ninsert into trayecto (id_pasajero, id_trayecto, inicio, fin) values (96, 368, '2020-02-24 17:42:57', '2019-12-18 12:34:42');\ninsert into trayecto (id_pasajero, id_trayecto, inicio, fin) values (3, 323, '2018-03-18 17:00:28', '2019-04-22 13:48:13');\ninsert into trayecto (id_pasajero, id_trayecto, inicio, fin) values (92, 297, '2018-06-01 01:43:39', '2018-07-29 05:24:59');\ninsert into trayecto (id_pasajero, id_trayecto, inicio, fin) values (19, 272, '2016-08-21 17:27:38', '2020-06-14 11:32:27');\ninsert into trayecto (id_pasajero, id_trayecto, inicio, fin) values (89, 287, '2020-06-26 13:16:30', '2016-11-09 08:14:42');\ninsert into trayecto (id_pasajero, id_trayecto, inicio, fin) values (97, 287, '2017-04-30 02:04:01', '2017-05-31 20:36:03');\ninsert into trayecto (id_pasajero, id_trayecto, inicio, fin) values (37, 320, '2017-08-06 16:32:28', '2017-03-29 15:41:16');\ninsert into trayecto (id_pasajero, id_trayecto, inicio, fin) values (29, 317, '2018-08-12 07:59:39', '2018-12-10 11:41:09');\ninsert into trayecto (id_pasajero, id_trayecto, inicio, fin) values (6, 288, '2018-04-28 00:25:20', '2016-04-16 19:11:05');\ninsert into trayecto (id_pasajero, id_trayecto, inicio, fin) values (39, 274, '2019-03-28 00:24:27', '2021-01-16 17:45:55');\ninsert into trayecto (id_pasajero, id_trayecto, inicio, fin) values (84, 299, '2019-01-08 13:22:25', '2020-02-21 10:45:38');\ninsert into trayecto (id_pasajero, id_trayecto, inicio, fin) values (75, 368, '2020-08-22 06:47:31', '2019-10-10 10:44:00');\ninsert into trayecto (id_pasajero, id_trayecto, inicio, fin) values (62, 346, '2019-07-23 18:52:33', '2016-02-22 19:22:58');\ninsert into trayecto (id_pasajero, id_trayecto, inicio, fin) values (11, 319, '2016-05-09 22:11:01', '2019-11-24 08:01:30');\ninsert into trayecto (id_pasajero, id_trayecto, inicio, fin) values (7, 273, '2020-09-28 13:05:17', '2017-09-14 05:25:19');\ninsert into trayecto (id_pasajero, id_trayecto, inicio, fin) values (80, 280, '2019-03-02 11:38:07', '2020-10-19 08:55:21');\ninsert into trayecto (id_pasajero, id_trayecto, inicio, fin) values (92, 345, '2020-01-15 22:54:32', '2018-05-03 01:15:50');\ninsert into trayecto (id_pasajero, id_trayecto, inicio, fin) values (95, 371, '2020-09-10 05:37:14', '2016-04-01 09:19:44');\ninsert into trayecto (id_pasajero, id_trayecto, inicio, fin) values (61, 323, '2017-03-31 06:31:29', '2017-10-24 06:59:17');\ninsert into trayecto (id_pasajero, id_trayecto, inicio, fin) values (72, 303, '2019-03-02 17:53:15', '2016-04-29 23:08:42');\ninsert into trayecto (id_pasajero, id_trayecto, inicio, fin) values (89, 358, '2019-10-18 20:40:47', '2020-06-28 12:03:02');\ninsert into trayecto (id_pasajero, id_trayecto, inicio, fin) values (57, 328, '2018-05-18 20:46:21', '2016-05-28 13:57:10');\ninsert into trayecto (id_pasajero, id_trayecto, inicio, fin) values (63, 288, '2018-09-01 16:10:41', '2020-10-15 21:46:56');\ninsert into trayecto (id_pasajero, id_trayecto, inicio, fin) values (42, 333, '2017-07-09 08:26:06', '2020-03-11 13:10:35');\ninsert into trayecto (id_pasajero, id_trayecto, inicio, fin) values (12, 338, '2020-03-20 05:09:40', '2019-07-02 13:02:08');\ninsert into trayecto (id_pasajero, id_trayecto, inicio, fin) values (50, 328, '2020-06-20 23:10:21', '2017-06-13 10:48:30');\ninsert into trayecto (id_pasajero, id_trayecto, inicio, fin) values (76, 324, '2018-07-29 16:50:09', '2019-01-05 21:24:56');\ninsert into trayecto (id_pasajero, id_trayecto, inicio, fin) values (20, 318, '2016-01-05 05:56:11', '2020-03-02 04:00:40');\ninsert into trayecto (id_pasajero, id_trayecto, inicio, fin) values (15, 363, '2021-01-27 21:49:40', '2019-08-20 06:58:04');\ninsert into trayecto (id_pasajero, id_trayecto, inicio, fin) values (27, 366, '2016-05-13 09:33:39', '2017-12-21 16:23:17');\ninsert into trayecto (id_pasajero, id_trayecto, inicio, fin) values (10, 276, '2017-10-22 04:55:46', '2018-08-17 20:42:25');\ninsert into trayecto (id_pasajero, id_trayecto, inicio, fin) values (77, 288, '2016-10-27 05:32:22', '2018-05-10 01:37:22');\ninsert into trayecto (id_pasajero, id_trayecto, inicio, fin) values (35, 273, '2017-11-12 04:12:00', '2019-03-15 17:58:37');\ninsert into trayecto (id_pasajero, id_trayecto, inicio, fin) values (97, 315, '2017-09-06 15:37:14', '2017-10-25 06:41:06');\ninsert into trayecto (id_pasajero, id_trayecto, inicio, fin) values (87, 294, '2018-07-04 23:35:40', '2016-11-18 06:56:36');\ninsert into trayecto (id_pasajero, id_trayecto, inicio, fin) values (56, 338, '2018-08-15 00:05:36', '2018-12-01 20:39:25');\ninsert into trayecto (id_pasajero, id_trayecto, inicio, fin) values (47, 283, '2018-05-20 21:27:12', '2018-08-31 08:27:52');\ninsert into trayecto (id_pasajero, id_trayecto, inicio, fin) values (47, 333, '2016-07-27 22:33:25', '2021-01-14 14:24:49');\ninsert into trayecto (id_pasajero, id_trayecto, inicio, fin) values (77, 370, '2017-09-20 18:24:32', '2016-09-08 09:34:06');\ninsert into trayecto (id_pasajero, id_trayecto, inicio, fin) values (98, 286, '2017-10-21 08:26:22', '2016-11-04 07:51:04');\ninsert into trayecto (id_pasajero, id_trayecto, inicio, fin) values (74, 290, '2020-12-17 04:06:43', '2016-09-05 11:26:57');\ninsert into trayecto (id_pasajero, id_trayecto, inicio, fin) values (11, 351, '2020-07-04 02:12:18', '2020-12-09 00:47:52');\ninsert into trayecto (id_pasajero, id_trayecto, inicio, fin) values (33, 351, '2019-07-01 20:54:34', '2019-09-07 21:39:13');\ninsert into trayecto (id_pasajero, id_trayecto, inicio, fin) values (93, 349, '2020-09-14 07:09:21', '2017-08-06 23:28:43');\ninsert into trayecto (id_pasajero, id_trayecto, inicio, fin) values (32, 329, '2018-09-27 11:06:48', '2016-12-03 13:49:11');\ninsert into trayecto (id_pasajero, id_trayecto, inicio, fin) values (85, 306, '2018-10-20 09:20:58', '2017-10-29 22:14:57');\ninsert into trayecto (id_pasajero, id_trayecto, inicio, fin) values (44, 351, '2020-03-22 09:54:45', '2020-11-05 15:48:12');\ninsert into trayecto (id_pasajero, id_trayecto, inicio, fin) values (45, 367, '2019-06-14 06:54:25', '2017-03-18 11:28:53');\ninsert into trayecto (id_pasajero, id_trayecto, inicio, fin) values (34, 272, '2017-07-11 04:51:36', '2019-08-22 09:02:36');\ninsert into trayecto (id_pasajero, id_trayecto, inicio, fin) values (13, 287, '2019-01-10 09:47:19', '2017-12-08 19:25:40');\ninsert into trayecto (id_pasajero, id_trayecto, inicio, fin) values (61, 300, '2019-12-28 05:24:56', '2016-08-07 19:05:47');\ninsert into trayecto (id_pasajero, id_trayecto, inicio, fin) values (50, 277, '2020-02-28 01:23:58', '2017-11-08 09:15:12');\ninsert into trayecto (id_pasajero, id_trayecto, inicio, fin) values (56, 362, '2020-08-04 01:32:40', '2018-04-22 07:19:47');\ninsert into trayecto (id_pasajero, id_trayecto, inicio, fin) values (61, 301, '2018-11-02 00:16:53', '2020-05-05 08:26:29');\ninsert into trayecto (id_pasajero, id_trayecto, inicio, fin) values (36, 346, '2016-09-16 14:54:04', '2016-03-31 13:42:33');\ninsert into trayecto (id_pasajero, id_trayecto, inicio, fin) values (31, 320, '2020-06-18 06:44:30', '2017-12-03 20:46:59');\ninsert into trayecto (id_pasajero, id_trayecto, inicio, fin) values (6, 325, '2016-08-06 19:17:43', '2019-03-17 18:07:39');\ninsert into trayecto (id_pasajero, id_trayecto, inicio, fin) values (1, 274, '2018-03-13 20:29:34', '2021-02-08 01:45:05');\ninsert into trayecto (id_pasajero, id_trayecto, inicio, fin) values (97, 316, '2020-04-01 16:26:11', '2019-07-28 03:01:24');\ninsert into trayecto (id_pasajero, id_trayecto, inicio, fin) values (54, 300, '2020-01-25 16:59:50', '2016-08-30 07:48:55');\ninsert into trayecto (id_pasajero, id_trayecto, inicio, fin) values (4, 343, '2017-05-09 07:28:34', '2016-07-22 19:20:38');\ninsert into trayecto (id_pasajero, id_trayecto, inicio, fin) values (38, 307, '2020-04-18 18:59:12', '2018-06-08 08:30:54');\ninsert into trayecto (id_pasajero, id_trayecto, inicio, fin) values (71, 310, '2018-01-19 04:48:42', '2016-05-09 02:01:34');\ninsert into trayecto (id_pasajero, id_trayecto, inicio, fin) values (22, 274, '2019-01-09 16:43:25', '2020-12-19 13:51:10');\ninsert into trayecto (id_pasajero, id_trayecto, inicio, fin) values (28, 342, '2016-02-02 20:29:37', '2017-11-12 23:35:19');\ninsert into trayecto (id_pasajero, id_trayecto, inicio, fin) values (20, 360, '2016-11-19 15:59:33', '2016-06-21 00:59:20');\ninsert into trayecto (id_pasajero, id_trayecto, inicio, fin) values (39, 298, '2019-02-11 10:38:45', '2017-07-07 06:08:41');\ninsert into trayecto (id_pasajero, id_trayecto, inicio, fin) values (52, 297, '2018-01-11 16:55:57', '2019-02-02 18:49:43');\ninsert into trayecto (id_pasajero, id_trayecto, inicio, fin) values (17, 274, '2019-10-17 18:43:25', '2018-09-18 17:51:59');\ninsert into trayecto (id_pasajero, id_trayecto, inicio, fin) values (100, 308, '2018-07-28 17:16:07', '2020-02-13 10:17:32');\ninsert into trayecto (id_pasajero, id_trayecto, inicio, fin) values (72, 311, '2018-10-01 11:21:01', '2018-03-23 08:47:01');\ninsert into trayecto (id_pasajero, id_trayecto, inicio, fin) values (100, 299, '2019-03-09 14:11:15', '2020-11-27 13:14:58');\ninsert into trayecto (id_pasajero, id_trayecto, inicio, fin) values (84, 292, '2016-04-26 21:34:33', '2020-11-29 19:45:37');\ninsert into trayecto (id_pasajero, id_trayecto, inicio, fin) values (83, 354, '2020-08-20 23:29:46', '2018-08-27 08:16:36');\ninsert into trayecto (id_pasajero, id_trayecto, inicio, fin) values (21, 283, '2016-05-11 08:56:18', '2019-06-08 09:37:16');\ninsert into trayecto (id_pasajero, id_trayecto, inicio, fin) values (96, 353, '2016-08-25 11:12:30', '2017-05-25 01:37:43');\ninsert into trayecto (id_pasajero, id_trayecto, inicio, fin) values (9, 369, '2018-01-19 06:06:59', '2020-04-14 07:34:02');\ninsert into trayecto (id_pasajero, id_trayecto, inicio, fin) values (6, 311, '2019-05-08 22:55:28', '2016-05-31 09:15:26');\ninsert into trayecto (id_pasajero, id_trayecto, inicio, fin) values (70, 276, '2019-11-26 15:23:01', '2018-10-20 05:57:11');\ninsert into trayecto (id_pasajero, id_trayecto, inicio, fin) values (9, 298, '2019-12-02 05:31:01', '2019-03-18 18:43:45');\ninsert into trayecto (id_pasajero, id_trayecto, inicio, fin) values (50, 330, '2017-10-16 12:20:14', '2021-01-20 18:09:12');\ninsert into trayecto (id_pasajero, id_trayecto, inicio, fin) values (41, 278, '2018-06-27 00:27:12', '2017-01-05 06:57:30');\ninsert into trayecto (id_pasajero, id_trayecto, inicio, fin) values (18, 366, '2020-07-16 09:29:52', '2018-08-21 09:16:39');\ninsert into trayecto (id_pasajero, id_trayecto, inicio, fin) values (57, 306, '2020-03-26 03:08:57', '2018-10-15 11:26:21');\ninsert into trayecto (id_pasajero, id_trayecto, inicio, fin) values (15, 295, '2016-07-09 19:21:59', '2016-09-26 14:39:01');\ninsert into trayecto (id_pasajero, id_trayecto, inicio, fin) values (61, 327, '2017-12-23 22:58:51', '2019-02-26 02:17:37');\ninsert into trayecto (id_pasajero, id_trayecto, inicio, fin) values (45, 323, '2019-03-02 11:35:53', '2016-12-24 08:29:52');\ninsert into trayecto (id_pasajero, id_trayecto, inicio, fin) values (16, 363, '2017-11-28 15:42:58', '2017-12-27 20:17:22');\ninsert into trayecto (id_pasajero, id_trayecto, inicio, fin) values (23, 281, '2020-11-20 23:54:00', '2018-09-25 20:08:07');\ninsert into trayecto (id_pasajero, id_trayecto, inicio, fin) values (46, 297, '2018-11-14 23:22:00', '2019-05-19 23:43:38');\ninsert into trayecto (id_pasajero, id_trayecto, inicio, fin) values (76, 308, '2018-03-03 01:42:07', '2019-07-23 09:48:20');\ninsert into trayecto (id_pasajero, id_trayecto, inicio, fin) values (91, 357, '2017-06-12 16:40:07', '2019-08-28 05:27:05');\ninsert into trayecto (id_pasajero, id_trayecto, inicio, fin) values (52, 289, '2017-03-06 01:10:45', '2019-01-07 18:46:53');\ninsert into trayecto (id_pasajero, id_trayecto, inicio, fin) values (84, 357, '2018-07-14 00:26:41', '2019-07-11 03:22:08');\ninsert into trayecto (id_pasajero, id_trayecto, inicio, fin) values (14, 328, '2017-09-18 00:54:27', '2020-10-27 20:37:51');\ninsert into trayecto (id_pasajero, id_trayecto, inicio, fin) values (40, 292, '2019-07-12 07:29:14', '2019-10-30 22:38:35');\n\n"
     ]
    }
   ],
   "source": [
    "%python\n",
    "# Leer el archivo .sql\n",
    "with open(\"/dbfs/FileStore/tables/viaje.sql\", \"r\") as file:\n",
    "    sql_script = file.read()\n",
    "print(sql_script)"
   ]
  },
  {
   "cell_type": "code",
   "execution_count": 0,
   "metadata": {
    "application/vnd.databricks.v1+cell": {
     "cellMetadata": {
      "byteLimit": 2048000,
      "rowLimit": 10000
     },
     "inputWidgets": {},
     "nuid": "980cfb3c-d5ae-4091-9701-2f61851bcc5f",
     "showTitle": false,
     "tableResultSettingsMap": {},
     "title": ""
    }
   },
   "outputs": [
    {
     "output_type": "execute_result",
     "data": {
      "text/plain": [
       "DataFrame[]"
      ]
     },
     "execution_count": 39,
     "metadata": {},
     "output_type": "execute_result"
    }
   ],
   "source": [
    "# Crear la tabla 'trayecto' en Databricks\n",
    "spark.sql(\"\"\"\n",
    "CREATE TABLE IF NOT EXISTS trayecto (\n",
    "    id_pasajero INT,\n",
    "    id_trayecto INT,\n",
    "    inicio TIMESTAMP,\n",
    "    fin TIMESTAMP\n",
    ")\n",
    "\"\"\")"
   ]
  },
  {
   "cell_type": "code",
   "execution_count": 0,
   "metadata": {
    "application/vnd.databricks.v1+cell": {
     "cellMetadata": {
      "byteLimit": 2048000,
      "rowLimit": 10000
     },
     "inputWidgets": {},
     "nuid": "97c3d3d9-98e5-44ce-b52a-e491b43dc4d2",
     "showTitle": false,
     "tableResultSettingsMap": {},
     "title": ""
    }
   },
   "outputs": [],
   "source": [
    "%python\n",
    "# Leer el archivo .sql\n",
    "with open(\"/dbfs/FileStore/tables/viaje.sql\", \"r\") as file:\n",
    "    sql_script = file.read()\n",
    "\n",
    "# Dividir el script en comandos individuales y excluir el último elemento vacío\n",
    "commands = sql_script.split(';')[:-1]\n",
    "\n",
    "# Ejecutar cada comando del script SQL en Databricks\n",
    "for command in commands:\n",
    "    if command.strip():\n",
    "        try:\n",
    "            spark.sql(command.strip())\n",
    "        except Exception as e:\n",
    "            print(f\"Error executing command: {command.strip()}\\n{e}\")"
   ]
  },
  {
   "cell_type": "code",
   "execution_count": 0,
   "metadata": {
    "application/vnd.databricks.v1+cell": {
     "cellMetadata": {
      "byteLimit": 2048000,
      "rowLimit": 10000
     },
     "inputWidgets": {},
     "nuid": "a2685899-1453-460c-bf90-21eac308e88d",
     "showTitle": false,
     "tableResultSettingsMap": {},
     "title": ""
    }
   },
   "outputs": [
    {
     "output_type": "display_data",
     "data": {
      "text/html": [
       "<style scoped>\n",
       "  .table-result-container {\n",
       "    max-height: 300px;\n",
       "    overflow: auto;\n",
       "  }\n",
       "  table, th, td {\n",
       "    border: 1px solid black;\n",
       "    border-collapse: collapse;\n",
       "  }\n",
       "  th, td {\n",
       "    padding: 5px;\n",
       "  }\n",
       "  th {\n",
       "    text-align: left;\n",
       "  }\n",
       "</style><div class='table-result-container'><table class='table-result'><thead style='background-color: white'><tr><th>id_pasajero</th><th>id_trayecto</th><th>inicio</th><th>fin</th></tr></thead><tbody><tr><td>98</td><td>286</td><td>2017-10-21T08:26:22Z</td><td>2016-11-04T07:51:04Z</td></tr><tr><td>72</td><td>303</td><td>2019-03-02T17:53:15Z</td><td>2016-04-29T23:08:42Z</td></tr><tr><td>39</td><td>274</td><td>2019-03-28T00:24:27Z</td><td>2021-01-16T17:45:55Z</td></tr><tr><td>95</td><td>371</td><td>2020-09-10T05:37:14Z</td><td>2016-04-01T09:19:44Z</td></tr><tr><td>31</td><td>320</td><td>2020-06-18T06:44:30Z</td><td>2017-12-03T20:46:59Z</td></tr><tr><td>61</td><td>301</td><td>2018-11-02T00:16:53Z</td><td>2020-05-05T08:26:29Z</td></tr><tr><td>56</td><td>362</td><td>2020-08-04T01:32:40Z</td><td>2018-04-22T07:19:47Z</td></tr><tr><td>97</td><td>315</td><td>2017-09-06T15:37:14Z</td><td>2017-10-25T06:41:06Z</td></tr><tr><td>95</td><td>371</td><td>2020-09-10T05:37:14Z</td><td>2016-04-01T09:19:44Z</td></tr><tr><td>100</td><td>308</td><td>2018-07-28T17:16:07Z</td><td>2020-02-13T10:17:32Z</td></tr><tr><td>84</td><td>292</td><td>2016-04-26T21:34:33Z</td><td>2020-11-29T19:45:37Z</td></tr><tr><td>57</td><td>306</td><td>2020-03-26T03:08:57Z</td><td>2018-10-15T11:26:21Z</td></tr><tr><td>15</td><td>295</td><td>2016-07-09T19:21:59Z</td><td>2016-09-26T14:39:01Z</td></tr><tr><td>40</td><td>292</td><td>2019-07-12T07:29:14Z</td><td>2019-10-30T22:38:35Z</td></tr><tr><td>96</td><td>353</td><td>2016-08-25T11:12:30Z</td><td>2017-05-25T01:37:43Z</td></tr><tr><td>29</td><td>317</td><td>2018-08-12T07:59:39Z</td><td>2018-12-10T11:41:09Z</td></tr><tr><td>84</td><td>299</td><td>2019-01-08T13:22:25Z</td><td>2020-02-21T10:45:38Z</td></tr><tr><td>47</td><td>333</td><td>2016-07-27T22:33:25Z</td><td>2021-01-14T14:24:49Z</td></tr><tr><td>83</td><td>354</td><td>2020-08-20T23:29:46Z</td><td>2018-08-27T08:16:36Z</td></tr><tr><td>14</td><td>328</td><td>2017-09-18T00:54:27Z</td><td>2020-10-27T20:37:51Z</td></tr><tr><td>75</td><td>368</td><td>2020-08-22T06:47:31Z</td><td>2019-10-10T10:44:00Z</td></tr><tr><td>42</td><td>333</td><td>2017-07-09T08:26:06Z</td><td>2020-03-11T13:10:35Z</td></tr><tr><td>27</td><td>366</td><td>2016-05-13T09:33:39Z</td><td>2017-12-21T16:23:17Z</td></tr><tr><td>71</td><td>310</td><td>2018-01-19T04:48:42Z</td><td>2016-05-09T02:01:34Z</td></tr><tr><td>1</td><td>274</td><td>2018-03-13T20:29:34Z</td><td>2021-02-08T01:45:05Z</td></tr><tr><td>22</td><td>274</td><td>2019-01-09T16:43:25Z</td><td>2020-12-19T13:51:10Z</td></tr><tr><td>71</td><td>310</td><td>2018-01-19T04:48:42Z</td><td>2016-05-09T02:01:34Z</td></tr><tr><td>89</td><td>287</td><td>2020-06-26T13:16:30Z</td><td>2016-11-09T08:14:42Z</td></tr><tr><td>92</td><td>297</td><td>2018-06-01T01:43:39Z</td><td>2018-07-29T05:24:59Z</td></tr><tr><td>97</td><td>287</td><td>2017-04-30T02:04:01Z</td><td>2017-05-31T20:36:03Z</td></tr><tr><td>77</td><td>370</td><td>2017-09-20T18:24:32Z</td><td>2016-09-08T09:34:06Z</td></tr><tr><td>85</td><td>306</td><td>2018-10-20T09:20:58Z</td><td>2017-10-29T22:14:57Z</td></tr><tr><td>79</td><td>277</td><td>2017-04-08T23:24:33Z</td><td>2018-10-15T16:12:30Z</td></tr><tr><td>6</td><td>288</td><td>2018-04-28T00:25:20Z</td><td>2016-04-16T19:11:05Z</td></tr><tr><td>84</td><td>357</td><td>2018-07-14T00:26:41Z</td><td>2019-07-11T03:22:08Z</td></tr><tr><td>39</td><td>298</td><td>2019-02-11T10:38:45Z</td><td>2017-07-07T06:08:41Z</td></tr><tr><td>79</td><td>277</td><td>2017-04-08T23:24:33Z</td><td>2018-10-15T16:12:30Z</td></tr><tr><td>4</td><td>343</td><td>2017-05-09T07:28:34Z</td><td>2016-07-22T19:20:38Z</td></tr><tr><td>93</td><td>349</td><td>2020-09-14T07:09:21Z</td><td>2017-08-06T23:28:43Z</td></tr><tr><td>20</td><td>360</td><td>2016-11-19T15:59:33Z</td><td>2016-06-21T00:59:20Z</td></tr><tr><td>100</td><td>308</td><td>2018-07-28T17:16:07Z</td><td>2020-02-13T10:17:32Z</td></tr><tr><td>29</td><td>317</td><td>2018-08-12T07:59:39Z</td><td>2018-12-10T11:41:09Z</td></tr><tr><td>72</td><td>311</td><td>2018-10-01T11:21:01Z</td><td>2018-03-23T08:47:01Z</td></tr><tr><td>14</td><td>356</td><td>2018-12-31T09:05:39Z</td><td>2016-11-17T18:35:57Z</td></tr><tr><td>77</td><td>288</td><td>2016-10-27T05:32:22Z</td><td>2018-05-10T01:37:22Z</td></tr><tr><td>85</td><td>306</td><td>2018-10-20T09:20:58Z</td><td>2017-10-29T22:14:57Z</td></tr><tr><td>83</td><td>354</td><td>2020-08-20T23:29:46Z</td><td>2018-08-27T08:16:36Z</td></tr><tr><td>50</td><td>330</td><td>2017-10-16T12:20:14Z</td><td>2021-01-20T18:09:12Z</td></tr><tr><td>96</td><td>368</td><td>2020-02-24T17:42:57Z</td><td>2019-12-18T12:34:42Z</td></tr><tr><td>97</td><td>316</td><td>2020-04-01T16:26:11Z</td><td>2019-07-28T03:01:24Z</td></tr><tr><td>1</td><td>274</td><td>2018-03-13T20:29:34Z</td><td>2021-02-08T01:45:05Z</td></tr><tr><td>32</td><td>329</td><td>2018-09-27T11:06:48Z</td><td>2016-12-03T13:49:11Z</td></tr><tr><td>32</td><td>329</td><td>2018-09-27T11:06:48Z</td><td>2016-12-03T13:49:11Z</td></tr><tr><td>96</td><td>368</td><td>2020-02-24T17:42:57Z</td><td>2019-12-18T12:34:42Z</td></tr><tr><td>13</td><td>287</td><td>2019-01-10T09:47:19Z</td><td>2017-12-08T19:25:40Z</td></tr><tr><td>45</td><td>323</td><td>2019-03-02T11:35:53Z</td><td>2016-12-24T08:29:52Z</td></tr><tr><td>23</td><td>281</td><td>2020-11-20T23:54:00Z</td><td>2018-09-25T20:08:07Z</td></tr><tr><td>6</td><td>325</td><td>2016-08-06T19:17:43Z</td><td>2019-03-17T18:07:39Z</td></tr><tr><td>97</td><td>316</td><td>2020-04-01T16:26:11Z</td><td>2019-07-28T03:01:24Z</td></tr><tr><td>84</td><td>299</td><td>2019-01-08T13:22:25Z</td><td>2020-02-21T10:45:38Z</td></tr><tr><td>38</td><td>307</td><td>2020-04-18T18:59:12Z</td><td>2018-06-08T08:30:54Z</td></tr><tr><td>9</td><td>298</td><td>2019-12-02T05:31:01Z</td><td>2019-03-18T18:43:45Z</td></tr><tr><td>70</td><td>276</td><td>2019-11-26T15:23:01Z</td><td>2018-10-20T05:57:11Z</td></tr><tr><td>41</td><td>278</td><td>2018-06-27T00:27:12Z</td><td>2017-01-05T06:57:30Z</td></tr><tr><td>47</td><td>283</td><td>2018-05-20T21:27:12Z</td><td>2018-08-31T08:27:52Z</td></tr><tr><td>100</td><td>299</td><td>2019-03-09T14:11:15Z</td><td>2020-11-27T13:14:58Z</td></tr><tr><td>47</td><td>283</td><td>2018-05-20T21:27:12Z</td><td>2018-08-31T08:27:52Z</td></tr><tr><td>76</td><td>365</td><td>2016-09-12T11:30:51Z</td><td>2020-02-02T11:21:04Z</td></tr><tr><td>72</td><td>311</td><td>2018-10-01T11:21:01Z</td><td>2018-03-23T08:47:01Z</td></tr><tr><td>42</td><td>333</td><td>2017-07-09T08:26:06Z</td><td>2020-03-11T13:10:35Z</td></tr><tr><td>52</td><td>289</td><td>2017-03-06T01:10:45Z</td><td>2019-01-07T18:46:53Z</td></tr><tr><td>31</td><td>320</td><td>2020-06-18T06:44:30Z</td><td>2017-12-03T20:46:59Z</td></tr><tr><td>93</td><td>349</td><td>2020-09-14T07:09:21Z</td><td>2017-08-06T23:28:43Z</td></tr><tr><td>61</td><td>323</td><td>2017-03-31T06:31:29Z</td><td>2017-10-24T06:59:17Z</td></tr><tr><td>21</td><td>283</td><td>2016-05-11T08:56:18Z</td><td>2019-06-08T09:37:16Z</td></tr><tr><td>11</td><td>351</td><td>2020-07-04T02:12:18Z</td><td>2020-12-09T00:47:52Z</td></tr><tr><td>11</td><td>319</td><td>2016-05-09T22:11:01Z</td><td>2019-11-24T08:01:30Z</td></tr><tr><td>12</td><td>338</td><td>2020-03-20T05:09:40Z</td><td>2019-07-02T13:02:08Z</td></tr><tr><td>37</td><td>320</td><td>2017-08-06T16:32:28Z</td><td>2017-03-29T15:41:16Z</td></tr><tr><td>39</td><td>274</td><td>2019-03-28T00:24:27Z</td><td>2021-01-16T17:45:55Z</td></tr><tr><td>76</td><td>365</td><td>2016-09-12T11:30:51Z</td><td>2020-02-02T11:21:04Z</td></tr><tr><td>77</td><td>288</td><td>2016-10-27T05:32:22Z</td><td>2018-05-10T01:37:22Z</td></tr><tr><td>92</td><td>345</td><td>2020-01-15T22:54:32Z</td><td>2018-05-03T01:15:50Z</td></tr><tr><td>89</td><td>358</td><td>2019-10-18T20:40:47Z</td><td>2020-06-28T12:03:02Z</td></tr><tr><td>13</td><td>287</td><td>2019-01-10T09:47:19Z</td><td>2017-12-08T19:25:40Z</td></tr><tr><td>56</td><td>362</td><td>2020-08-04T01:32:40Z</td><td>2018-04-22T07:19:47Z</td></tr><tr><td>57</td><td>328</td><td>2018-05-18T20:46:21Z</td><td>2016-05-28T13:57:10Z</td></tr><tr><td>97</td><td>315</td><td>2017-09-06T15:37:14Z</td><td>2017-10-25T06:41:06Z</td></tr><tr><td>12</td><td>338</td><td>2020-03-20T05:09:40Z</td><td>2019-07-02T13:02:08Z</td></tr><tr><td>76</td><td>308</td><td>2018-03-03T01:42:07Z</td><td>2019-07-23T09:48:20Z</td></tr><tr><td>77</td><td>370</td><td>2017-09-20T18:24:32Z</td><td>2016-09-08T09:34:06Z</td></tr><tr><td>6</td><td>288</td><td>2018-04-28T00:25:20Z</td><td>2016-04-16T19:11:05Z</td></tr><tr><td>45</td><td>367</td><td>2019-06-14T06:54:25Z</td><td>2017-03-18T11:28:53Z</td></tr><tr><td>92</td><td>297</td><td>2018-06-01T01:43:39Z</td><td>2018-07-29T05:24:59Z</td></tr><tr><td>38</td><td>307</td><td>2020-04-18T18:59:12Z</td><td>2018-06-08T08:30:54Z</td></tr><tr><td>100</td><td>299</td><td>2019-03-09T14:11:15Z</td><td>2020-11-27T13:14:58Z</td></tr><tr><td>57</td><td>328</td><td>2018-05-18T20:46:21Z</td><td>2016-05-28T13:57:10Z</td></tr><tr><td>36</td><td>346</td><td>2016-09-16T14:54:04Z</td><td>2016-03-31T13:42:33Z</td></tr><tr><td>89</td><td>358</td><td>2019-10-18T20:40:47Z</td><td>2020-06-28T12:03:02Z</td></tr><tr><td>84</td><td>292</td><td>2016-04-26T21:34:33Z</td><td>2020-11-29T19:45:37Z</td></tr><tr><td>91</td><td>357</td><td>2017-06-12T16:40:07Z</td><td>2019-08-28T05:27:05Z</td></tr><tr><td>34</td><td>272</td><td>2017-07-11T04:51:36Z</td><td>2019-08-22T09:02:36Z</td></tr><tr><td>22</td><td>274</td><td>2019-01-09T16:43:25Z</td><td>2020-12-19T13:51:10Z</td></tr><tr><td>61</td><td>323</td><td>2017-03-31T06:31:29Z</td><td>2017-10-24T06:59:17Z</td></tr><tr><td>11</td><td>351</td><td>2020-07-04T02:12:18Z</td><td>2020-12-09T00:47:52Z</td></tr><tr><td>34</td><td>272</td><td>2017-07-11T04:51:36Z</td><td>2019-08-22T09:02:36Z</td></tr><tr><td>27</td><td>366</td><td>2016-05-13T09:33:39Z</td><td>2017-12-21T16:23:17Z</td></tr><tr><td>4</td><td>343</td><td>2017-05-09T07:28:34Z</td><td>2016-07-22T19:20:38Z</td></tr><tr><td>33</td><td>351</td><td>2019-07-01T20:54:34Z</td><td>2019-09-07T21:39:13Z</td></tr><tr><td>13</td><td>292</td><td>2020-11-05T18:50:29Z</td><td>2020-06-01T13:14:45Z</td></tr><tr><td>72</td><td>303</td><td>2019-03-02T17:53:15Z</td><td>2016-04-29T23:08:42Z</td></tr><tr><td>13</td><td>292</td><td>2020-11-05T18:50:29Z</td><td>2020-06-01T13:14:45Z</td></tr><tr><td>39</td><td>298</td><td>2019-02-11T10:38:45Z</td><td>2017-07-07T06:08:41Z</td></tr><tr><td>97</td><td>287</td><td>2017-04-30T02:04:01Z</td><td>2017-05-31T20:36:03Z</td></tr><tr><td>21</td><td>283</td><td>2016-05-11T08:56:18Z</td><td>2019-06-08T09:37:16Z</td></tr><tr><td>98</td><td>286</td><td>2017-10-21T08:26:22Z</td><td>2016-11-04T07:51:04Z</td></tr><tr><td>6</td><td>325</td><td>2016-08-06T19:17:43Z</td><td>2019-03-17T18:07:39Z</td></tr><tr><td>75</td><td>368</td><td>2020-08-22T06:47:31Z</td><td>2019-10-10T10:44:00Z</td></tr><tr><td>6</td><td>311</td><td>2019-05-08T22:55:28Z</td><td>2016-05-31T09:15:26Z</td></tr><tr><td>33</td><td>351</td><td>2019-07-01T20:54:34Z</td><td>2019-09-07T21:39:13Z</td></tr><tr><td>47</td><td>333</td><td>2016-07-27T22:33:25Z</td><td>2021-01-14T14:24:49Z</td></tr><tr><td>18</td><td>366</td><td>2020-07-16T09:29:52Z</td><td>2018-08-21T09:16:39Z</td></tr><tr><td>50</td><td>328</td><td>2020-06-20T23:10:21Z</td><td>2017-06-13T10:48:30Z</td></tr><tr><td>37</td><td>320</td><td>2017-08-06T16:32:28Z</td><td>2017-03-29T15:41:16Z</td></tr><tr><td>61</td><td>301</td><td>2018-11-02T00:16:53Z</td><td>2020-05-05T08:26:29Z</td></tr><tr><td>50</td><td>328</td><td>2020-06-20T23:10:21Z</td><td>2017-06-13T10:48:30Z</td></tr><tr><td>36</td><td>346</td><td>2016-09-16T14:54:04Z</td><td>2016-03-31T13:42:33Z</td></tr><tr><td>9</td><td>369</td><td>2018-01-19T06:06:59Z</td><td>2020-04-14T07:34:02Z</td></tr><tr><td>11</td><td>319</td><td>2016-05-09T22:11:01Z</td><td>2019-11-24T08:01:30Z</td></tr><tr><td>20</td><td>360</td><td>2016-11-19T15:59:33Z</td><td>2016-06-21T00:59:20Z</td></tr><tr><td>87</td><td>294</td><td>2018-07-04T23:35:40Z</td><td>2016-11-18T06:56:36Z</td></tr><tr><td>89</td><td>287</td><td>2020-06-26T13:16:30Z</td><td>2016-11-09T08:14:42Z</td></tr><tr><td>92</td><td>345</td><td>2020-01-15T22:54:32Z</td><td>2018-05-03T01:15:50Z</td></tr><tr><td>45</td><td>367</td><td>2019-06-14T06:54:25Z</td><td>2017-03-18T11:28:53Z</td></tr><tr><td>46</td><td>297</td><td>2018-11-14T23:22:00Z</td><td>2019-05-19T23:43:38Z</td></tr><tr><td>87</td><td>294</td><td>2018-07-04T23:35:40Z</td><td>2016-11-18T06:56:36Z</td></tr><tr><td>96</td><td>353</td><td>2016-08-25T11:12:30Z</td><td>2017-05-25T01:37:43Z</td></tr><tr><td>14</td><td>356</td><td>2018-12-31T09:05:39Z</td><td>2016-11-17T18:35:57Z</td></tr><tr><td>41</td><td>278</td><td>2018-06-27T00:27:12Z</td><td>2017-01-05T06:57:30Z</td></tr><tr><td>9</td><td>369</td><td>2018-01-19T06:06:59Z</td><td>2020-04-14T07:34:02Z</td></tr><tr><td>50</td><td>330</td><td>2017-10-16T12:20:14Z</td><td>2021-01-20T18:09:12Z</td></tr><tr><td>70</td><td>276</td><td>2019-11-26T15:23:01Z</td><td>2018-10-20T05:57:11Z</td></tr><tr><td>6</td><td>311</td><td>2019-05-08T22:55:28Z</td><td>2016-05-31T09:15:26Z</td></tr><tr><td>9</td><td>298</td><td>2019-12-02T05:31:01Z</td><td>2019-03-18T18:43:45Z</td></tr><tr><td>15</td><td>295</td><td>2016-07-09T19:21:59Z</td><td>2016-09-26T14:39:01Z</td></tr><tr><td>45</td><td>323</td><td>2019-03-02T11:35:53Z</td><td>2016-12-24T08:29:52Z</td></tr><tr><td>57</td><td>306</td><td>2020-03-26T03:08:57Z</td><td>2018-10-15T11:26:21Z</td></tr><tr><td>18</td><td>366</td><td>2020-07-16T09:29:52Z</td><td>2018-08-21T09:16:39Z</td></tr><tr><td>84</td><td>357</td><td>2018-07-14T00:26:41Z</td><td>2019-07-11T03:22:08Z</td></tr><tr><td>91</td><td>357</td><td>2017-06-12T16:40:07Z</td><td>2019-08-28T05:27:05Z</td></tr><tr><td>23</td><td>281</td><td>2020-11-20T23:54:00Z</td><td>2018-09-25T20:08:07Z</td></tr><tr><td>46</td><td>297</td><td>2018-11-14T23:22:00Z</td><td>2019-05-19T23:43:38Z</td></tr><tr><td>52</td><td>289</td><td>2017-03-06T01:10:45Z</td><td>2019-01-07T18:46:53Z</td></tr><tr><td>76</td><td>308</td><td>2018-03-03T01:42:07Z</td><td>2019-07-23T09:48:20Z</td></tr><tr><td>14</td><td>328</td><td>2017-09-18T00:54:27Z</td><td>2020-10-27T20:37:51Z</td></tr><tr><td>40</td><td>292</td><td>2019-07-12T07:29:14Z</td><td>2019-10-30T22:38:35Z</td></tr><tr><td>61</td><td>300</td><td>2019-12-28T05:24:56Z</td><td>2016-08-07T19:05:47Z</td></tr><tr><td>16</td><td>363</td><td>2017-11-28T15:42:58Z</td><td>2017-12-27T20:17:22Z</td></tr><tr><td>10</td><td>276</td><td>2017-10-22T04:55:46Z</td><td>2018-08-17T20:42:25Z</td></tr><tr><td>17</td><td>274</td><td>2019-10-17T18:43:25Z</td><td>2018-09-18T17:51:59Z</td></tr><tr><td>15</td><td>363</td><td>2021-01-27T21:49:40Z</td><td>2019-08-20T06:58:04Z</td></tr><tr><td>17</td><td>274</td><td>2019-10-17T18:43:25Z</td><td>2018-09-18T17:51:59Z</td></tr><tr><td>52</td><td>297</td><td>2018-01-11T16:55:57Z</td><td>2019-02-02T18:49:43Z</td></tr><tr><td>61</td><td>300</td><td>2019-12-28T05:24:56Z</td><td>2016-08-07T19:05:47Z</td></tr><tr><td>35</td><td>273</td><td>2017-11-12T04:12:00Z</td><td>2019-03-15T17:58:37Z</td></tr><tr><td>80</td><td>280</td><td>2019-03-02T11:38:07Z</td><td>2020-10-19T08:55:21Z</td></tr><tr><td>62</td><td>346</td><td>2019-07-23T18:52:33Z</td><td>2016-02-22T19:22:58Z</td></tr><tr><td>44</td><td>351</td><td>2020-03-22T09:54:45Z</td><td>2020-11-05T15:48:12Z</td></tr><tr><td>52</td><td>297</td><td>2018-01-11T16:55:57Z</td><td>2019-02-02T18:49:43Z</td></tr><tr><td>74</td><td>290</td><td>2020-12-17T04:06:43Z</td><td>2016-09-05T11:26:57Z</td></tr><tr><td>50</td><td>277</td><td>2020-02-28T01:23:58Z</td><td>2017-11-08T09:15:12Z</td></tr><tr><td>62</td><td>346</td><td>2019-07-23T18:52:33Z</td><td>2016-02-22T19:22:58Z</td></tr><tr><td>80</td><td>280</td><td>2019-03-02T11:38:07Z</td><td>2020-10-19T08:55:21Z</td></tr><tr><td>63</td><td>288</td><td>2018-09-01T16:10:41Z</td><td>2020-10-15T21:46:56Z</td></tr><tr><td>19</td><td>272</td><td>2016-08-21T17:27:38Z</td><td>2020-06-14T11:32:27Z</td></tr><tr><td>50</td><td>277</td><td>2020-02-28T01:23:58Z</td><td>2017-11-08T09:15:12Z</td></tr><tr><td>19</td><td>272</td><td>2016-08-21T17:27:38Z</td><td>2020-06-14T11:32:27Z</td></tr><tr><td>63</td><td>288</td><td>2018-09-01T16:10:41Z</td><td>2020-10-15T21:46:56Z</td></tr><tr><td>3</td><td>323</td><td>2018-03-18T17:00:28Z</td><td>2019-04-22T13:48:13Z</td></tr><tr><td>74</td><td>290</td><td>2020-12-17T04:06:43Z</td><td>2016-09-05T11:26:57Z</td></tr><tr><td>76</td><td>324</td><td>2018-07-29T16:50:09Z</td><td>2019-01-05T21:24:56Z</td></tr><tr><td>35</td><td>273</td><td>2017-11-12T04:12:00Z</td><td>2019-03-15T17:58:37Z</td></tr><tr><td>20</td><td>318</td><td>2016-01-05T05:56:11Z</td><td>2020-03-02T04:00:40Z</td></tr><tr><td>7</td><td>273</td><td>2020-09-28T13:05:17Z</td><td>2017-09-14T05:25:19Z</td></tr><tr><td>61</td><td>327</td><td>2017-12-23T22:58:51Z</td><td>2019-02-26T02:17:37Z</td></tr><tr><td>3</td><td>323</td><td>2018-03-18T17:00:28Z</td><td>2019-04-22T13:48:13Z</td></tr><tr><td>76</td><td>324</td><td>2018-07-29T16:50:09Z</td><td>2019-01-05T21:24:56Z</td></tr><tr><td>20</td><td>318</td><td>2016-01-05T05:56:11Z</td><td>2020-03-02T04:00:40Z</td></tr><tr><td>7</td><td>273</td><td>2020-09-28T13:05:17Z</td><td>2017-09-14T05:25:19Z</td></tr><tr><td>15</td><td>363</td><td>2021-01-27T21:49:40Z</td><td>2019-08-20T06:58:04Z</td></tr><tr><td>44</td><td>351</td><td>2020-03-22T09:54:45Z</td><td>2020-11-05T15:48:12Z</td></tr><tr><td>10</td><td>276</td><td>2017-10-22T04:55:46Z</td><td>2018-08-17T20:42:25Z</td></tr><tr><td>16</td><td>363</td><td>2017-11-28T15:42:58Z</td><td>2017-12-27T20:17:22Z</td></tr><tr><td>61</td><td>327</td><td>2017-12-23T22:58:51Z</td><td>2019-02-26T02:17:37Z</td></tr><tr><td>54</td><td>300</td><td>2020-01-25T16:59:50Z</td><td>2016-08-30T07:48:55Z</td></tr><tr><td>56</td><td>338</td><td>2018-08-15T00:05:36Z</td><td>2018-12-01T20:39:25Z</td></tr><tr><td>28</td><td>342</td><td>2016-02-02T20:29:37Z</td><td>2017-11-12T23:35:19Z</td></tr><tr><td>28</td><td>342</td><td>2016-02-02T20:29:37Z</td><td>2017-11-12T23:35:19Z</td></tr><tr><td>54</td><td>300</td><td>2020-01-25T16:59:50Z</td><td>2016-08-30T07:48:55Z</td></tr><tr><td>56</td><td>338</td><td>2018-08-15T00:05:36Z</td><td>2018-12-01T20:39:25Z</td></tr></tbody></table></div>"
      ]
     },
     "metadata": {
      "application/vnd.databricks.v1+output": {
       "addedWidgets": {},
       "aggData": [],
       "aggError": "",
       "aggOverflow": false,
       "aggSchema": [],
       "aggSeriesLimitReached": false,
       "aggType": "",
       "arguments": {},
       "columnCustomDisplayInfos": {},
       "data": [
        [
         98,
         286,
         "2017-10-21T08:26:22Z",
         "2016-11-04T07:51:04Z"
        ],
        [
         72,
         303,
         "2019-03-02T17:53:15Z",
         "2016-04-29T23:08:42Z"
        ],
        [
         39,
         274,
         "2019-03-28T00:24:27Z",
         "2021-01-16T17:45:55Z"
        ],
        [
         95,
         371,
         "2020-09-10T05:37:14Z",
         "2016-04-01T09:19:44Z"
        ],
        [
         31,
         320,
         "2020-06-18T06:44:30Z",
         "2017-12-03T20:46:59Z"
        ],
        [
         61,
         301,
         "2018-11-02T00:16:53Z",
         "2020-05-05T08:26:29Z"
        ],
        [
         56,
         362,
         "2020-08-04T01:32:40Z",
         "2018-04-22T07:19:47Z"
        ],
        [
         97,
         315,
         "2017-09-06T15:37:14Z",
         "2017-10-25T06:41:06Z"
        ],
        [
         95,
         371,
         "2020-09-10T05:37:14Z",
         "2016-04-01T09:19:44Z"
        ],
        [
         100,
         308,
         "2018-07-28T17:16:07Z",
         "2020-02-13T10:17:32Z"
        ],
        [
         84,
         292,
         "2016-04-26T21:34:33Z",
         "2020-11-29T19:45:37Z"
        ],
        [
         57,
         306,
         "2020-03-26T03:08:57Z",
         "2018-10-15T11:26:21Z"
        ],
        [
         15,
         295,
         "2016-07-09T19:21:59Z",
         "2016-09-26T14:39:01Z"
        ],
        [
         40,
         292,
         "2019-07-12T07:29:14Z",
         "2019-10-30T22:38:35Z"
        ],
        [
         96,
         353,
         "2016-08-25T11:12:30Z",
         "2017-05-25T01:37:43Z"
        ],
        [
         29,
         317,
         "2018-08-12T07:59:39Z",
         "2018-12-10T11:41:09Z"
        ],
        [
         84,
         299,
         "2019-01-08T13:22:25Z",
         "2020-02-21T10:45:38Z"
        ],
        [
         47,
         333,
         "2016-07-27T22:33:25Z",
         "2021-01-14T14:24:49Z"
        ],
        [
         83,
         354,
         "2020-08-20T23:29:46Z",
         "2018-08-27T08:16:36Z"
        ],
        [
         14,
         328,
         "2017-09-18T00:54:27Z",
         "2020-10-27T20:37:51Z"
        ],
        [
         75,
         368,
         "2020-08-22T06:47:31Z",
         "2019-10-10T10:44:00Z"
        ],
        [
         42,
         333,
         "2017-07-09T08:26:06Z",
         "2020-03-11T13:10:35Z"
        ],
        [
         27,
         366,
         "2016-05-13T09:33:39Z",
         "2017-12-21T16:23:17Z"
        ],
        [
         71,
         310,
         "2018-01-19T04:48:42Z",
         "2016-05-09T02:01:34Z"
        ],
        [
         1,
         274,
         "2018-03-13T20:29:34Z",
         "2021-02-08T01:45:05Z"
        ],
        [
         22,
         274,
         "2019-01-09T16:43:25Z",
         "2020-12-19T13:51:10Z"
        ],
        [
         71,
         310,
         "2018-01-19T04:48:42Z",
         "2016-05-09T02:01:34Z"
        ],
        [
         89,
         287,
         "2020-06-26T13:16:30Z",
         "2016-11-09T08:14:42Z"
        ],
        [
         92,
         297,
         "2018-06-01T01:43:39Z",
         "2018-07-29T05:24:59Z"
        ],
        [
         97,
         287,
         "2017-04-30T02:04:01Z",
         "2017-05-31T20:36:03Z"
        ],
        [
         77,
         370,
         "2017-09-20T18:24:32Z",
         "2016-09-08T09:34:06Z"
        ],
        [
         85,
         306,
         "2018-10-20T09:20:58Z",
         "2017-10-29T22:14:57Z"
        ],
        [
         79,
         277,
         "2017-04-08T23:24:33Z",
         "2018-10-15T16:12:30Z"
        ],
        [
         6,
         288,
         "2018-04-28T00:25:20Z",
         "2016-04-16T19:11:05Z"
        ],
        [
         84,
         357,
         "2018-07-14T00:26:41Z",
         "2019-07-11T03:22:08Z"
        ],
        [
         39,
         298,
         "2019-02-11T10:38:45Z",
         "2017-07-07T06:08:41Z"
        ],
        [
         79,
         277,
         "2017-04-08T23:24:33Z",
         "2018-10-15T16:12:30Z"
        ],
        [
         4,
         343,
         "2017-05-09T07:28:34Z",
         "2016-07-22T19:20:38Z"
        ],
        [
         93,
         349,
         "2020-09-14T07:09:21Z",
         "2017-08-06T23:28:43Z"
        ],
        [
         20,
         360,
         "2016-11-19T15:59:33Z",
         "2016-06-21T00:59:20Z"
        ],
        [
         100,
         308,
         "2018-07-28T17:16:07Z",
         "2020-02-13T10:17:32Z"
        ],
        [
         29,
         317,
         "2018-08-12T07:59:39Z",
         "2018-12-10T11:41:09Z"
        ],
        [
         72,
         311,
         "2018-10-01T11:21:01Z",
         "2018-03-23T08:47:01Z"
        ],
        [
         14,
         356,
         "2018-12-31T09:05:39Z",
         "2016-11-17T18:35:57Z"
        ],
        [
         77,
         288,
         "2016-10-27T05:32:22Z",
         "2018-05-10T01:37:22Z"
        ],
        [
         85,
         306,
         "2018-10-20T09:20:58Z",
         "2017-10-29T22:14:57Z"
        ],
        [
         83,
         354,
         "2020-08-20T23:29:46Z",
         "2018-08-27T08:16:36Z"
        ],
        [
         50,
         330,
         "2017-10-16T12:20:14Z",
         "2021-01-20T18:09:12Z"
        ],
        [
         96,
         368,
         "2020-02-24T17:42:57Z",
         "2019-12-18T12:34:42Z"
        ],
        [
         97,
         316,
         "2020-04-01T16:26:11Z",
         "2019-07-28T03:01:24Z"
        ],
        [
         1,
         274,
         "2018-03-13T20:29:34Z",
         "2021-02-08T01:45:05Z"
        ],
        [
         32,
         329,
         "2018-09-27T11:06:48Z",
         "2016-12-03T13:49:11Z"
        ],
        [
         32,
         329,
         "2018-09-27T11:06:48Z",
         "2016-12-03T13:49:11Z"
        ],
        [
         96,
         368,
         "2020-02-24T17:42:57Z",
         "2019-12-18T12:34:42Z"
        ],
        [
         13,
         287,
         "2019-01-10T09:47:19Z",
         "2017-12-08T19:25:40Z"
        ],
        [
         45,
         323,
         "2019-03-02T11:35:53Z",
         "2016-12-24T08:29:52Z"
        ],
        [
         23,
         281,
         "2020-11-20T23:54:00Z",
         "2018-09-25T20:08:07Z"
        ],
        [
         6,
         325,
         "2016-08-06T19:17:43Z",
         "2019-03-17T18:07:39Z"
        ],
        [
         97,
         316,
         "2020-04-01T16:26:11Z",
         "2019-07-28T03:01:24Z"
        ],
        [
         84,
         299,
         "2019-01-08T13:22:25Z",
         "2020-02-21T10:45:38Z"
        ],
        [
         38,
         307,
         "2020-04-18T18:59:12Z",
         "2018-06-08T08:30:54Z"
        ],
        [
         9,
         298,
         "2019-12-02T05:31:01Z",
         "2019-03-18T18:43:45Z"
        ],
        [
         70,
         276,
         "2019-11-26T15:23:01Z",
         "2018-10-20T05:57:11Z"
        ],
        [
         41,
         278,
         "2018-06-27T00:27:12Z",
         "2017-01-05T06:57:30Z"
        ],
        [
         47,
         283,
         "2018-05-20T21:27:12Z",
         "2018-08-31T08:27:52Z"
        ],
        [
         100,
         299,
         "2019-03-09T14:11:15Z",
         "2020-11-27T13:14:58Z"
        ],
        [
         47,
         283,
         "2018-05-20T21:27:12Z",
         "2018-08-31T08:27:52Z"
        ],
        [
         76,
         365,
         "2016-09-12T11:30:51Z",
         "2020-02-02T11:21:04Z"
        ],
        [
         72,
         311,
         "2018-10-01T11:21:01Z",
         "2018-03-23T08:47:01Z"
        ],
        [
         42,
         333,
         "2017-07-09T08:26:06Z",
         "2020-03-11T13:10:35Z"
        ],
        [
         52,
         289,
         "2017-03-06T01:10:45Z",
         "2019-01-07T18:46:53Z"
        ],
        [
         31,
         320,
         "2020-06-18T06:44:30Z",
         "2017-12-03T20:46:59Z"
        ],
        [
         93,
         349,
         "2020-09-14T07:09:21Z",
         "2017-08-06T23:28:43Z"
        ],
        [
         61,
         323,
         "2017-03-31T06:31:29Z",
         "2017-10-24T06:59:17Z"
        ],
        [
         21,
         283,
         "2016-05-11T08:56:18Z",
         "2019-06-08T09:37:16Z"
        ],
        [
         11,
         351,
         "2020-07-04T02:12:18Z",
         "2020-12-09T00:47:52Z"
        ],
        [
         11,
         319,
         "2016-05-09T22:11:01Z",
         "2019-11-24T08:01:30Z"
        ],
        [
         12,
         338,
         "2020-03-20T05:09:40Z",
         "2019-07-02T13:02:08Z"
        ],
        [
         37,
         320,
         "2017-08-06T16:32:28Z",
         "2017-03-29T15:41:16Z"
        ],
        [
         39,
         274,
         "2019-03-28T00:24:27Z",
         "2021-01-16T17:45:55Z"
        ],
        [
         76,
         365,
         "2016-09-12T11:30:51Z",
         "2020-02-02T11:21:04Z"
        ],
        [
         77,
         288,
         "2016-10-27T05:32:22Z",
         "2018-05-10T01:37:22Z"
        ],
        [
         92,
         345,
         "2020-01-15T22:54:32Z",
         "2018-05-03T01:15:50Z"
        ],
        [
         89,
         358,
         "2019-10-18T20:40:47Z",
         "2020-06-28T12:03:02Z"
        ],
        [
         13,
         287,
         "2019-01-10T09:47:19Z",
         "2017-12-08T19:25:40Z"
        ],
        [
         56,
         362,
         "2020-08-04T01:32:40Z",
         "2018-04-22T07:19:47Z"
        ],
        [
         57,
         328,
         "2018-05-18T20:46:21Z",
         "2016-05-28T13:57:10Z"
        ],
        [
         97,
         315,
         "2017-09-06T15:37:14Z",
         "2017-10-25T06:41:06Z"
        ],
        [
         12,
         338,
         "2020-03-20T05:09:40Z",
         "2019-07-02T13:02:08Z"
        ],
        [
         76,
         308,
         "2018-03-03T01:42:07Z",
         "2019-07-23T09:48:20Z"
        ],
        [
         77,
         370,
         "2017-09-20T18:24:32Z",
         "2016-09-08T09:34:06Z"
        ],
        [
         6,
         288,
         "2018-04-28T00:25:20Z",
         "2016-04-16T19:11:05Z"
        ],
        [
         45,
         367,
         "2019-06-14T06:54:25Z",
         "2017-03-18T11:28:53Z"
        ],
        [
         92,
         297,
         "2018-06-01T01:43:39Z",
         "2018-07-29T05:24:59Z"
        ],
        [
         38,
         307,
         "2020-04-18T18:59:12Z",
         "2018-06-08T08:30:54Z"
        ],
        [
         100,
         299,
         "2019-03-09T14:11:15Z",
         "2020-11-27T13:14:58Z"
        ],
        [
         57,
         328,
         "2018-05-18T20:46:21Z",
         "2016-05-28T13:57:10Z"
        ],
        [
         36,
         346,
         "2016-09-16T14:54:04Z",
         "2016-03-31T13:42:33Z"
        ],
        [
         89,
         358,
         "2019-10-18T20:40:47Z",
         "2020-06-28T12:03:02Z"
        ],
        [
         84,
         292,
         "2016-04-26T21:34:33Z",
         "2020-11-29T19:45:37Z"
        ],
        [
         91,
         357,
         "2017-06-12T16:40:07Z",
         "2019-08-28T05:27:05Z"
        ],
        [
         34,
         272,
         "2017-07-11T04:51:36Z",
         "2019-08-22T09:02:36Z"
        ],
        [
         22,
         274,
         "2019-01-09T16:43:25Z",
         "2020-12-19T13:51:10Z"
        ],
        [
         61,
         323,
         "2017-03-31T06:31:29Z",
         "2017-10-24T06:59:17Z"
        ],
        [
         11,
         351,
         "2020-07-04T02:12:18Z",
         "2020-12-09T00:47:52Z"
        ],
        [
         34,
         272,
         "2017-07-11T04:51:36Z",
         "2019-08-22T09:02:36Z"
        ],
        [
         27,
         366,
         "2016-05-13T09:33:39Z",
         "2017-12-21T16:23:17Z"
        ],
        [
         4,
         343,
         "2017-05-09T07:28:34Z",
         "2016-07-22T19:20:38Z"
        ],
        [
         33,
         351,
         "2019-07-01T20:54:34Z",
         "2019-09-07T21:39:13Z"
        ],
        [
         13,
         292,
         "2020-11-05T18:50:29Z",
         "2020-06-01T13:14:45Z"
        ],
        [
         72,
         303,
         "2019-03-02T17:53:15Z",
         "2016-04-29T23:08:42Z"
        ],
        [
         13,
         292,
         "2020-11-05T18:50:29Z",
         "2020-06-01T13:14:45Z"
        ],
        [
         39,
         298,
         "2019-02-11T10:38:45Z",
         "2017-07-07T06:08:41Z"
        ],
        [
         97,
         287,
         "2017-04-30T02:04:01Z",
         "2017-05-31T20:36:03Z"
        ],
        [
         21,
         283,
         "2016-05-11T08:56:18Z",
         "2019-06-08T09:37:16Z"
        ],
        [
         98,
         286,
         "2017-10-21T08:26:22Z",
         "2016-11-04T07:51:04Z"
        ],
        [
         6,
         325,
         "2016-08-06T19:17:43Z",
         "2019-03-17T18:07:39Z"
        ],
        [
         75,
         368,
         "2020-08-22T06:47:31Z",
         "2019-10-10T10:44:00Z"
        ],
        [
         6,
         311,
         "2019-05-08T22:55:28Z",
         "2016-05-31T09:15:26Z"
        ],
        [
         33,
         351,
         "2019-07-01T20:54:34Z",
         "2019-09-07T21:39:13Z"
        ],
        [
         47,
         333,
         "2016-07-27T22:33:25Z",
         "2021-01-14T14:24:49Z"
        ],
        [
         18,
         366,
         "2020-07-16T09:29:52Z",
         "2018-08-21T09:16:39Z"
        ],
        [
         50,
         328,
         "2020-06-20T23:10:21Z",
         "2017-06-13T10:48:30Z"
        ],
        [
         37,
         320,
         "2017-08-06T16:32:28Z",
         "2017-03-29T15:41:16Z"
        ],
        [
         61,
         301,
         "2018-11-02T00:16:53Z",
         "2020-05-05T08:26:29Z"
        ],
        [
         50,
         328,
         "2020-06-20T23:10:21Z",
         "2017-06-13T10:48:30Z"
        ],
        [
         36,
         346,
         "2016-09-16T14:54:04Z",
         "2016-03-31T13:42:33Z"
        ],
        [
         9,
         369,
         "2018-01-19T06:06:59Z",
         "2020-04-14T07:34:02Z"
        ],
        [
         11,
         319,
         "2016-05-09T22:11:01Z",
         "2019-11-24T08:01:30Z"
        ],
        [
         20,
         360,
         "2016-11-19T15:59:33Z",
         "2016-06-21T00:59:20Z"
        ],
        [
         87,
         294,
         "2018-07-04T23:35:40Z",
         "2016-11-18T06:56:36Z"
        ],
        [
         89,
         287,
         "2020-06-26T13:16:30Z",
         "2016-11-09T08:14:42Z"
        ],
        [
         92,
         345,
         "2020-01-15T22:54:32Z",
         "2018-05-03T01:15:50Z"
        ],
        [
         45,
         367,
         "2019-06-14T06:54:25Z",
         "2017-03-18T11:28:53Z"
        ],
        [
         46,
         297,
         "2018-11-14T23:22:00Z",
         "2019-05-19T23:43:38Z"
        ],
        [
         87,
         294,
         "2018-07-04T23:35:40Z",
         "2016-11-18T06:56:36Z"
        ],
        [
         96,
         353,
         "2016-08-25T11:12:30Z",
         "2017-05-25T01:37:43Z"
        ],
        [
         14,
         356,
         "2018-12-31T09:05:39Z",
         "2016-11-17T18:35:57Z"
        ],
        [
         41,
         278,
         "2018-06-27T00:27:12Z",
         "2017-01-05T06:57:30Z"
        ],
        [
         9,
         369,
         "2018-01-19T06:06:59Z",
         "2020-04-14T07:34:02Z"
        ],
        [
         50,
         330,
         "2017-10-16T12:20:14Z",
         "2021-01-20T18:09:12Z"
        ],
        [
         70,
         276,
         "2019-11-26T15:23:01Z",
         "2018-10-20T05:57:11Z"
        ],
        [
         6,
         311,
         "2019-05-08T22:55:28Z",
         "2016-05-31T09:15:26Z"
        ],
        [
         9,
         298,
         "2019-12-02T05:31:01Z",
         "2019-03-18T18:43:45Z"
        ],
        [
         15,
         295,
         "2016-07-09T19:21:59Z",
         "2016-09-26T14:39:01Z"
        ],
        [
         45,
         323,
         "2019-03-02T11:35:53Z",
         "2016-12-24T08:29:52Z"
        ],
        [
         57,
         306,
         "2020-03-26T03:08:57Z",
         "2018-10-15T11:26:21Z"
        ],
        [
         18,
         366,
         "2020-07-16T09:29:52Z",
         "2018-08-21T09:16:39Z"
        ],
        [
         84,
         357,
         "2018-07-14T00:26:41Z",
         "2019-07-11T03:22:08Z"
        ],
        [
         91,
         357,
         "2017-06-12T16:40:07Z",
         "2019-08-28T05:27:05Z"
        ],
        [
         23,
         281,
         "2020-11-20T23:54:00Z",
         "2018-09-25T20:08:07Z"
        ],
        [
         46,
         297,
         "2018-11-14T23:22:00Z",
         "2019-05-19T23:43:38Z"
        ],
        [
         52,
         289,
         "2017-03-06T01:10:45Z",
         "2019-01-07T18:46:53Z"
        ],
        [
         76,
         308,
         "2018-03-03T01:42:07Z",
         "2019-07-23T09:48:20Z"
        ],
        [
         14,
         328,
         "2017-09-18T00:54:27Z",
         "2020-10-27T20:37:51Z"
        ],
        [
         40,
         292,
         "2019-07-12T07:29:14Z",
         "2019-10-30T22:38:35Z"
        ],
        [
         61,
         300,
         "2019-12-28T05:24:56Z",
         "2016-08-07T19:05:47Z"
        ],
        [
         16,
         363,
         "2017-11-28T15:42:58Z",
         "2017-12-27T20:17:22Z"
        ],
        [
         10,
         276,
         "2017-10-22T04:55:46Z",
         "2018-08-17T20:42:25Z"
        ],
        [
         17,
         274,
         "2019-10-17T18:43:25Z",
         "2018-09-18T17:51:59Z"
        ],
        [
         15,
         363,
         "2021-01-27T21:49:40Z",
         "2019-08-20T06:58:04Z"
        ],
        [
         17,
         274,
         "2019-10-17T18:43:25Z",
         "2018-09-18T17:51:59Z"
        ],
        [
         52,
         297,
         "2018-01-11T16:55:57Z",
         "2019-02-02T18:49:43Z"
        ],
        [
         61,
         300,
         "2019-12-28T05:24:56Z",
         "2016-08-07T19:05:47Z"
        ],
        [
         35,
         273,
         "2017-11-12T04:12:00Z",
         "2019-03-15T17:58:37Z"
        ],
        [
         80,
         280,
         "2019-03-02T11:38:07Z",
         "2020-10-19T08:55:21Z"
        ],
        [
         62,
         346,
         "2019-07-23T18:52:33Z",
         "2016-02-22T19:22:58Z"
        ],
        [
         44,
         351,
         "2020-03-22T09:54:45Z",
         "2020-11-05T15:48:12Z"
        ],
        [
         52,
         297,
         "2018-01-11T16:55:57Z",
         "2019-02-02T18:49:43Z"
        ],
        [
         74,
         290,
         "2020-12-17T04:06:43Z",
         "2016-09-05T11:26:57Z"
        ],
        [
         50,
         277,
         "2020-02-28T01:23:58Z",
         "2017-11-08T09:15:12Z"
        ],
        [
         62,
         346,
         "2019-07-23T18:52:33Z",
         "2016-02-22T19:22:58Z"
        ],
        [
         80,
         280,
         "2019-03-02T11:38:07Z",
         "2020-10-19T08:55:21Z"
        ],
        [
         63,
         288,
         "2018-09-01T16:10:41Z",
         "2020-10-15T21:46:56Z"
        ],
        [
         19,
         272,
         "2016-08-21T17:27:38Z",
         "2020-06-14T11:32:27Z"
        ],
        [
         50,
         277,
         "2020-02-28T01:23:58Z",
         "2017-11-08T09:15:12Z"
        ],
        [
         19,
         272,
         "2016-08-21T17:27:38Z",
         "2020-06-14T11:32:27Z"
        ],
        [
         63,
         288,
         "2018-09-01T16:10:41Z",
         "2020-10-15T21:46:56Z"
        ],
        [
         3,
         323,
         "2018-03-18T17:00:28Z",
         "2019-04-22T13:48:13Z"
        ],
        [
         74,
         290,
         "2020-12-17T04:06:43Z",
         "2016-09-05T11:26:57Z"
        ],
        [
         76,
         324,
         "2018-07-29T16:50:09Z",
         "2019-01-05T21:24:56Z"
        ],
        [
         35,
         273,
         "2017-11-12T04:12:00Z",
         "2019-03-15T17:58:37Z"
        ],
        [
         20,
         318,
         "2016-01-05T05:56:11Z",
         "2020-03-02T04:00:40Z"
        ],
        [
         7,
         273,
         "2020-09-28T13:05:17Z",
         "2017-09-14T05:25:19Z"
        ],
        [
         61,
         327,
         "2017-12-23T22:58:51Z",
         "2019-02-26T02:17:37Z"
        ],
        [
         3,
         323,
         "2018-03-18T17:00:28Z",
         "2019-04-22T13:48:13Z"
        ],
        [
         76,
         324,
         "2018-07-29T16:50:09Z",
         "2019-01-05T21:24:56Z"
        ],
        [
         20,
         318,
         "2016-01-05T05:56:11Z",
         "2020-03-02T04:00:40Z"
        ],
        [
         7,
         273,
         "2020-09-28T13:05:17Z",
         "2017-09-14T05:25:19Z"
        ],
        [
         15,
         363,
         "2021-01-27T21:49:40Z",
         "2019-08-20T06:58:04Z"
        ],
        [
         44,
         351,
         "2020-03-22T09:54:45Z",
         "2020-11-05T15:48:12Z"
        ],
        [
         10,
         276,
         "2017-10-22T04:55:46Z",
         "2018-08-17T20:42:25Z"
        ],
        [
         16,
         363,
         "2017-11-28T15:42:58Z",
         "2017-12-27T20:17:22Z"
        ],
        [
         61,
         327,
         "2017-12-23T22:58:51Z",
         "2019-02-26T02:17:37Z"
        ],
        [
         54,
         300,
         "2020-01-25T16:59:50Z",
         "2016-08-30T07:48:55Z"
        ],
        [
         56,
         338,
         "2018-08-15T00:05:36Z",
         "2018-12-01T20:39:25Z"
        ],
        [
         28,
         342,
         "2016-02-02T20:29:37Z",
         "2017-11-12T23:35:19Z"
        ],
        [
         28,
         342,
         "2016-02-02T20:29:37Z",
         "2017-11-12T23:35:19Z"
        ],
        [
         54,
         300,
         "2020-01-25T16:59:50Z",
         "2016-08-30T07:48:55Z"
        ],
        [
         56,
         338,
         "2018-08-15T00:05:36Z",
         "2018-12-01T20:39:25Z"
        ]
       ],
       "datasetInfos": [],
       "dbfsResultPath": null,
       "isJsonSchema": true,
       "metadata": {},
       "overflow": false,
       "plotOptions": {
        "customPlotOptions": {},
        "displayType": "table",
        "pivotAggregation": null,
        "pivotColumns": null,
        "xColumns": null,
        "yColumns": null
       },
       "removedWidgets": [],
       "schema": [
        {
         "metadata": "{}",
         "name": "id_pasajero",
         "type": "\"integer\""
        },
        {
         "metadata": "{}",
         "name": "id_trayecto",
         "type": "\"integer\""
        },
        {
         "metadata": "{}",
         "name": "inicio",
         "type": "\"timestamp\""
        },
        {
         "metadata": "{}",
         "name": "fin",
         "type": "\"timestamp\""
        }
       ],
       "type": "table"
      }
     },
     "output_type": "display_data"
    }
   ],
   "source": [
    "%python\n",
    "# Mostrar los datos insertados en la tabla 'estacion'\n",
    "df = spark.sql(\"SELECT * FROM trayecto\")\n",
    "display(df)"
   ]
  },
  {
   "cell_type": "code",
   "execution_count": 0,
   "metadata": {
    "application/vnd.databricks.v1+cell": {
     "cellMetadata": {
      "byteLimit": 2048000,
      "rowLimit": 10000
     },
     "inputWidgets": {},
     "nuid": "57b36e85-fed9-49b4-ae91-ae883d7d0b1d",
     "showTitle": false,
     "tableResultSettingsMap": {},
     "title": ""
    }
   },
   "outputs": [],
   "source": [
    "%python\n",
    "# Configuración de la conexión JDBC a Azure\n",
    "jdbc_url = \"jdbc:postgresql://sample.postgres.database.azure.com:5432/postgres\"\n",
    "connection_properties = {\n",
    "    \"user\": \"adminuser\",  # Reemplaza con tu usuario\n",
    "    \"password\": \"Acbp.1995\",  # Reemplaza con tu contraseña\n",
    "    \"driver\": \"org.postgresql.Driver\"  # Controlador JDBC\n",
    "}\n",
    "\n",
    "# Guardar la tabla 'trayecto' en Azure\n",
    "df.write.jdbc(\n",
    "    url=jdbc_url,\n",
    "    table=\"trayecto\",\n",
    "    mode=\"overwrite\",\n",
    "    properties=connection_properties\n",
    ")"
   ]
  },
  {
   "cell_type": "code",
   "execution_count": 0,
   "metadata": {
    "application/vnd.databricks.v1+cell": {
     "cellMetadata": {
      "byteLimit": 2048000,
      "rowLimit": 10000
     },
     "inputWidgets": {},
     "nuid": "ef4a9a5c-fafa-4f9f-9469-2ecc442795f3",
     "showTitle": false,
     "tableResultSettingsMap": {},
     "title": ""
    }
   },
   "outputs": [
    {
     "output_type": "display_data",
     "data": {
      "text/html": [
       "<style scoped>\n",
       "  .table-result-container {\n",
       "    max-height: 300px;\n",
       "    overflow: auto;\n",
       "  }\n",
       "  table, th, td {\n",
       "    border: 1px solid black;\n",
       "    border-collapse: collapse;\n",
       "  }\n",
       "  th, td {\n",
       "    padding: 5px;\n",
       "  }\n",
       "  th {\n",
       "    text-align: left;\n",
       "  }\n",
       "</style><div class='table-result-container'><table class='table-result'><thead style='background-color: white'><tr><th>table_catalog</th><th>table_schema</th><th>table_name</th><th>table_type</th><th>self_referencing_column_name</th><th>reference_generation</th><th>user_defined_type_catalog</th><th>user_defined_type_schema</th><th>user_defined_type_name</th><th>is_insertable_into</th><th>is_typed</th><th>commit_action</th></tr></thead><tbody><tr><td>postgres</td><td>pg_catalog</td><td>pg_stats_ext</td><td>VIEW</td><td>null</td><td>null</td><td>null</td><td>null</td><td>null</td><td>NO</td><td>NO</td><td>null</td></tr><tr><td>postgres</td><td>pg_catalog</td><td>pg_stats_ext_exprs</td><td>VIEW</td><td>null</td><td>null</td><td>null</td><td>null</td><td>null</td><td>NO</td><td>NO</td><td>null</td></tr><tr><td>postgres</td><td>pg_catalog</td><td>pg_statistic</td><td>BASE TABLE</td><td>null</td><td>null</td><td>null</td><td>null</td><td>null</td><td>YES</td><td>NO</td><td>null</td></tr><tr><td>postgres</td><td>pg_catalog</td><td>pg_type</td><td>BASE TABLE</td><td>null</td><td>null</td><td>null</td><td>null</td><td>null</td><td>YES</td><td>NO</td><td>null</td></tr><tr><td>postgres</td><td>public</td><td>trayecto</td><td>BASE TABLE</td><td>null</td><td>null</td><td>null</td><td>null</td><td>null</td><td>YES</td><td>NO</td><td>null</td></tr><tr><td>postgres</td><td>pg_catalog</td><td>pg_foreign_table</td><td>BASE TABLE</td><td>null</td><td>null</td><td>null</td><td>null</td><td>null</td><td>YES</td><td>NO</td><td>null</td></tr><tr><td>postgres</td><td>pg_catalog</td><td>pg_authid</td><td>BASE TABLE</td><td>null</td><td>null</td><td>null</td><td>null</td><td>null</td><td>YES</td><td>NO</td><td>null</td></tr><tr><td>postgres</td><td>pg_catalog</td><td>pg_shadow</td><td>VIEW</td><td>null</td><td>null</td><td>null</td><td>null</td><td>null</td><td>NO</td><td>NO</td><td>null</td></tr><tr><td>postgres</td><td>pg_catalog</td><td>pg_roles</td><td>VIEW</td><td>null</td><td>null</td><td>null</td><td>null</td><td>null</td><td>NO</td><td>NO</td><td>null</td></tr><tr><td>postgres</td><td>pg_catalog</td><td>pg_statistic_ext_data</td><td>BASE TABLE</td><td>null</td><td>null</td><td>null</td><td>null</td><td>null</td><td>YES</td><td>NO</td><td>null</td></tr><tr><td>postgres</td><td>pg_catalog</td><td>pg_hba_file_rules</td><td>VIEW</td><td>null</td><td>null</td><td>null</td><td>null</td><td>null</td><td>NO</td><td>NO</td><td>null</td></tr><tr><td>postgres</td><td>pg_catalog</td><td>pg_settings</td><td>VIEW</td><td>null</td><td>null</td><td>null</td><td>null</td><td>null</td><td>NO</td><td>NO</td><td>null</td></tr><tr><td>postgres</td><td>pg_catalog</td><td>pg_file_settings</td><td>VIEW</td><td>null</td><td>null</td><td>null</td><td>null</td><td>null</td><td>NO</td><td>NO</td><td>null</td></tr><tr><td>postgres</td><td>pg_catalog</td><td>pg_backend_memory_contexts</td><td>VIEW</td><td>null</td><td>null</td><td>null</td><td>null</td><td>null</td><td>NO</td><td>NO</td><td>null</td></tr><tr><td>postgres</td><td>pg_catalog</td><td>pg_ident_file_mappings</td><td>VIEW</td><td>null</td><td>null</td><td>null</td><td>null</td><td>null</td><td>NO</td><td>NO</td><td>null</td></tr><tr><td>postgres</td><td>pg_catalog</td><td>pg_config</td><td>VIEW</td><td>null</td><td>null</td><td>null</td><td>null</td><td>null</td><td>NO</td><td>NO</td><td>null</td></tr><tr><td>postgres</td><td>pg_catalog</td><td>pg_shmem_allocations</td><td>VIEW</td><td>null</td><td>null</td><td>null</td><td>null</td><td>null</td><td>NO</td><td>NO</td><td>null</td></tr><tr><td>postgres</td><td>pg_catalog</td><td>pg_tables</td><td>VIEW</td><td>null</td><td>null</td><td>null</td><td>null</td><td>null</td><td>NO</td><td>NO</td><td>null</td></tr><tr><td>postgres</td><td>pg_catalog</td><td>pg_user_mapping</td><td>BASE TABLE</td><td>null</td><td>null</td><td>null</td><td>null</td><td>null</td><td>YES</td><td>NO</td><td>null</td></tr><tr><td>postgres</td><td>pg_catalog</td><td>pg_replication_origin_status</td><td>VIEW</td><td>null</td><td>null</td><td>null</td><td>null</td><td>null</td><td>NO</td><td>NO</td><td>null</td></tr><tr><td>postgres</td><td>pg_catalog</td><td>pg_subscription</td><td>BASE TABLE</td><td>null</td><td>null</td><td>null</td><td>null</td><td>null</td><td>YES</td><td>NO</td><td>null</td></tr><tr><td>postgres</td><td>pg_catalog</td><td>pg_attribute</td><td>BASE TABLE</td><td>null</td><td>null</td><td>null</td><td>null</td><td>null</td><td>YES</td><td>NO</td><td>null</td></tr><tr><td>postgres</td><td>pg_catalog</td><td>pg_proc</td><td>BASE TABLE</td><td>null</td><td>null</td><td>null</td><td>null</td><td>null</td><td>YES</td><td>NO</td><td>null</td></tr><tr><td>postgres</td><td>pg_catalog</td><td>pg_class</td><td>BASE TABLE</td><td>null</td><td>null</td><td>null</td><td>null</td><td>null</td><td>YES</td><td>NO</td><td>null</td></tr><tr><td>postgres</td><td>pg_catalog</td><td>pg_attrdef</td><td>BASE TABLE</td><td>null</td><td>null</td><td>null</td><td>null</td><td>null</td><td>YES</td><td>NO</td><td>null</td></tr><tr><td>postgres</td><td>pg_catalog</td><td>pg_constraint</td><td>BASE TABLE</td><td>null</td><td>null</td><td>null</td><td>null</td><td>null</td><td>YES</td><td>NO</td><td>null</td></tr><tr><td>postgres</td><td>pg_catalog</td><td>pg_inherits</td><td>BASE TABLE</td><td>null</td><td>null</td><td>null</td><td>null</td><td>null</td><td>YES</td><td>NO</td><td>null</td></tr><tr><td>postgres</td><td>pg_catalog</td><td>pg_index</td><td>BASE TABLE</td><td>null</td><td>null</td><td>null</td><td>null</td><td>null</td><td>YES</td><td>NO</td><td>null</td></tr><tr><td>postgres</td><td>pg_catalog</td><td>pg_operator</td><td>BASE TABLE</td><td>null</td><td>null</td><td>null</td><td>null</td><td>null</td><td>YES</td><td>NO</td><td>null</td></tr><tr><td>postgres</td><td>pg_catalog</td><td>pg_statio_all_sequences</td><td>VIEW</td><td>null</td><td>null</td><td>null</td><td>null</td><td>null</td><td>NO</td><td>NO</td><td>null</td></tr><tr><td>postgres</td><td>pg_catalog</td><td>pg_opfamily</td><td>BASE TABLE</td><td>null</td><td>null</td><td>null</td><td>null</td><td>null</td><td>YES</td><td>NO</td><td>null</td></tr><tr><td>postgres</td><td>pg_catalog</td><td>pg_opclass</td><td>BASE TABLE</td><td>null</td><td>null</td><td>null</td><td>null</td><td>null</td><td>YES</td><td>NO</td><td>null</td></tr><tr><td>postgres</td><td>pg_catalog</td><td>pg_am</td><td>BASE TABLE</td><td>null</td><td>null</td><td>null</td><td>null</td><td>null</td><td>YES</td><td>NO</td><td>null</td></tr><tr><td>postgres</td><td>pg_catalog</td><td>pg_amop</td><td>BASE TABLE</td><td>null</td><td>null</td><td>null</td><td>null</td><td>null</td><td>YES</td><td>NO</td><td>null</td></tr><tr><td>postgres</td><td>pg_catalog</td><td>pg_amproc</td><td>BASE TABLE</td><td>null</td><td>null</td><td>null</td><td>null</td><td>null</td><td>YES</td><td>NO</td><td>null</td></tr><tr><td>postgres</td><td>pg_catalog</td><td>pg_language</td><td>BASE TABLE</td><td>null</td><td>null</td><td>null</td><td>null</td><td>null</td><td>YES</td><td>NO</td><td>null</td></tr><tr><td>postgres</td><td>pg_catalog</td><td>pg_largeobject_metadata</td><td>BASE TABLE</td><td>null</td><td>null</td><td>null</td><td>null</td><td>null</td><td>YES</td><td>NO</td><td>null</td></tr><tr><td>postgres</td><td>pg_catalog</td><td>pg_aggregate</td><td>BASE TABLE</td><td>null</td><td>null</td><td>null</td><td>null</td><td>null</td><td>YES</td><td>NO</td><td>null</td></tr><tr><td>postgres</td><td>pg_catalog</td><td>pg_statistic_ext</td><td>BASE TABLE</td><td>null</td><td>null</td><td>null</td><td>null</td><td>null</td><td>YES</td><td>NO</td><td>null</td></tr><tr><td>postgres</td><td>pg_catalog</td><td>pg_rewrite</td><td>BASE TABLE</td><td>null</td><td>null</td><td>null</td><td>null</td><td>null</td><td>YES</td><td>NO</td><td>null</td></tr><tr><td>postgres</td><td>pg_catalog</td><td>pg_trigger</td><td>BASE TABLE</td><td>null</td><td>null</td><td>null</td><td>null</td><td>null</td><td>YES</td><td>NO</td><td>null</td></tr><tr><td>postgres</td><td>pg_catalog</td><td>pg_event_trigger</td><td>BASE TABLE</td><td>null</td><td>null</td><td>null</td><td>null</td><td>null</td><td>YES</td><td>NO</td><td>null</td></tr><tr><td>postgres</td><td>pg_catalog</td><td>pg_description</td><td>BASE TABLE</td><td>null</td><td>null</td><td>null</td><td>null</td><td>null</td><td>YES</td><td>NO</td><td>null</td></tr><tr><td>postgres</td><td>pg_catalog</td><td>pg_cast</td><td>BASE TABLE</td><td>null</td><td>null</td><td>null</td><td>null</td><td>null</td><td>YES</td><td>NO</td><td>null</td></tr><tr><td>postgres</td><td>pg_catalog</td><td>pg_enum</td><td>BASE TABLE</td><td>null</td><td>null</td><td>null</td><td>null</td><td>null</td><td>YES</td><td>NO</td><td>null</td></tr><tr><td>postgres</td><td>pg_catalog</td><td>pg_namespace</td><td>BASE TABLE</td><td>null</td><td>null</td><td>null</td><td>null</td><td>null</td><td>YES</td><td>NO</td><td>null</td></tr><tr><td>postgres</td><td>pg_catalog</td><td>pg_conversion</td><td>BASE TABLE</td><td>null</td><td>null</td><td>null</td><td>null</td><td>null</td><td>YES</td><td>NO</td><td>null</td></tr><tr><td>postgres</td><td>pg_catalog</td><td>pg_depend</td><td>BASE TABLE</td><td>null</td><td>null</td><td>null</td><td>null</td><td>null</td><td>YES</td><td>NO</td><td>null</td></tr><tr><td>postgres</td><td>pg_catalog</td><td>pg_database</td><td>BASE TABLE</td><td>null</td><td>null</td><td>null</td><td>null</td><td>null</td><td>YES</td><td>NO</td><td>null</td></tr><tr><td>postgres</td><td>pg_catalog</td><td>pg_db_role_setting</td><td>BASE TABLE</td><td>null</td><td>null</td><td>null</td><td>null</td><td>null</td><td>YES</td><td>NO</td><td>null</td></tr><tr><td>postgres</td><td>pg_catalog</td><td>pg_tablespace</td><td>BASE TABLE</td><td>null</td><td>null</td><td>null</td><td>null</td><td>null</td><td>YES</td><td>NO</td><td>null</td></tr><tr><td>postgres</td><td>pg_catalog</td><td>pg_auth_members</td><td>BASE TABLE</td><td>null</td><td>null</td><td>null</td><td>null</td><td>null</td><td>YES</td><td>NO</td><td>null</td></tr><tr><td>postgres</td><td>pg_catalog</td><td>pg_shdepend</td><td>BASE TABLE</td><td>null</td><td>null</td><td>null</td><td>null</td><td>null</td><td>YES</td><td>NO</td><td>null</td></tr><tr><td>postgres</td><td>pg_catalog</td><td>pg_shdescription</td><td>BASE TABLE</td><td>null</td><td>null</td><td>null</td><td>null</td><td>null</td><td>YES</td><td>NO</td><td>null</td></tr><tr><td>postgres</td><td>pg_catalog</td><td>pg_ts_config</td><td>BASE TABLE</td><td>null</td><td>null</td><td>null</td><td>null</td><td>null</td><td>YES</td><td>NO</td><td>null</td></tr><tr><td>postgres</td><td>pg_catalog</td><td>pg_ts_config_map</td><td>BASE TABLE</td><td>null</td><td>null</td><td>null</td><td>null</td><td>null</td><td>YES</td><td>NO</td><td>null</td></tr><tr><td>postgres</td><td>pg_catalog</td><td>pg_ts_dict</td><td>BASE TABLE</td><td>null</td><td>null</td><td>null</td><td>null</td><td>null</td><td>YES</td><td>NO</td><td>null</td></tr><tr><td>postgres</td><td>pg_catalog</td><td>pg_ts_parser</td><td>BASE TABLE</td><td>null</td><td>null</td><td>null</td><td>null</td><td>null</td><td>YES</td><td>NO</td><td>null</td></tr><tr><td>postgres</td><td>pg_catalog</td><td>pg_ts_template</td><td>BASE TABLE</td><td>null</td><td>null</td><td>null</td><td>null</td><td>null</td><td>YES</td><td>NO</td><td>null</td></tr><tr><td>postgres</td><td>pg_catalog</td><td>pg_extension</td><td>BASE TABLE</td><td>null</td><td>null</td><td>null</td><td>null</td><td>null</td><td>YES</td><td>NO</td><td>null</td></tr><tr><td>postgres</td><td>pg_catalog</td><td>pg_foreign_data_wrapper</td><td>BASE TABLE</td><td>null</td><td>null</td><td>null</td><td>null</td><td>null</td><td>YES</td><td>NO</td><td>null</td></tr><tr><td>postgres</td><td>pg_catalog</td><td>pg_foreign_server</td><td>BASE TABLE</td><td>null</td><td>null</td><td>null</td><td>null</td><td>null</td><td>YES</td><td>NO</td><td>null</td></tr><tr><td>postgres</td><td>pg_catalog</td><td>pg_policy</td><td>BASE TABLE</td><td>null</td><td>null</td><td>null</td><td>null</td><td>null</td><td>YES</td><td>NO</td><td>null</td></tr><tr><td>postgres</td><td>pg_catalog</td><td>pg_replication_origin</td><td>BASE TABLE</td><td>null</td><td>null</td><td>null</td><td>null</td><td>null</td><td>YES</td><td>NO</td><td>null</td></tr><tr><td>postgres</td><td>pg_catalog</td><td>pg_default_acl</td><td>BASE TABLE</td><td>null</td><td>null</td><td>null</td><td>null</td><td>null</td><td>YES</td><td>NO</td><td>null</td></tr><tr><td>postgres</td><td>pg_catalog</td><td>pg_init_privs</td><td>BASE TABLE</td><td>null</td><td>null</td><td>null</td><td>null</td><td>null</td><td>YES</td><td>NO</td><td>null</td></tr><tr><td>postgres</td><td>pg_catalog</td><td>pg_seclabel</td><td>BASE TABLE</td><td>null</td><td>null</td><td>null</td><td>null</td><td>null</td><td>YES</td><td>NO</td><td>null</td></tr><tr><td>postgres</td><td>pg_catalog</td><td>pg_shseclabel</td><td>BASE TABLE</td><td>null</td><td>null</td><td>null</td><td>null</td><td>null</td><td>YES</td><td>NO</td><td>null</td></tr><tr><td>postgres</td><td>pg_catalog</td><td>pg_collation</td><td>BASE TABLE</td><td>null</td><td>null</td><td>null</td><td>null</td><td>null</td><td>YES</td><td>NO</td><td>null</td></tr><tr><td>postgres</td><td>pg_catalog</td><td>pg_parameter_acl</td><td>BASE TABLE</td><td>null</td><td>null</td><td>null</td><td>null</td><td>null</td><td>YES</td><td>NO</td><td>null</td></tr><tr><td>postgres</td><td>pg_catalog</td><td>pg_partitioned_table</td><td>BASE TABLE</td><td>null</td><td>null</td><td>null</td><td>null</td><td>null</td><td>YES</td><td>NO</td><td>null</td></tr><tr><td>postgres</td><td>pg_catalog</td><td>pg_range</td><td>BASE TABLE</td><td>null</td><td>null</td><td>null</td><td>null</td><td>null</td><td>YES</td><td>NO</td><td>null</td></tr><tr><td>postgres</td><td>pg_catalog</td><td>pg_transform</td><td>BASE TABLE</td><td>null</td><td>null</td><td>null</td><td>null</td><td>null</td><td>YES</td><td>NO</td><td>null</td></tr><tr><td>postgres</td><td>pg_catalog</td><td>pg_sequence</td><td>BASE TABLE</td><td>null</td><td>null</td><td>null</td><td>null</td><td>null</td><td>YES</td><td>NO</td><td>null</td></tr><tr><td>postgres</td><td>pg_catalog</td><td>pg_publication</td><td>BASE TABLE</td><td>null</td><td>null</td><td>null</td><td>null</td><td>null</td><td>YES</td><td>NO</td><td>null</td></tr><tr><td>postgres</td><td>pg_catalog</td><td>pg_publication_namespace</td><td>BASE TABLE</td><td>null</td><td>null</td><td>null</td><td>null</td><td>null</td><td>YES</td><td>NO</td><td>null</td></tr><tr><td>postgres</td><td>pg_catalog</td><td>pg_publication_rel</td><td>BASE TABLE</td><td>null</td><td>null</td><td>null</td><td>null</td><td>null</td><td>YES</td><td>NO</td><td>null</td></tr><tr><td>postgres</td><td>pg_catalog</td><td>pg_subscription_rel</td><td>BASE TABLE</td><td>null</td><td>null</td><td>null</td><td>null</td><td>null</td><td>YES</td><td>NO</td><td>null</td></tr><tr><td>postgres</td><td>pg_catalog</td><td>pg_group</td><td>VIEW</td><td>null</td><td>null</td><td>null</td><td>null</td><td>null</td><td>YES</td><td>NO</td><td>null</td></tr><tr><td>postgres</td><td>pg_catalog</td><td>pg_user</td><td>VIEW</td><td>null</td><td>null</td><td>null</td><td>null</td><td>null</td><td>NO</td><td>NO</td><td>null</td></tr><tr><td>postgres</td><td>pg_catalog</td><td>pg_policies</td><td>VIEW</td><td>null</td><td>null</td><td>null</td><td>null</td><td>null</td><td>NO</td><td>NO</td><td>null</td></tr><tr><td>postgres</td><td>pg_catalog</td><td>pg_rules</td><td>VIEW</td><td>null</td><td>null</td><td>null</td><td>null</td><td>null</td><td>NO</td><td>NO</td><td>null</td></tr><tr><td>postgres</td><td>pg_catalog</td><td>pg_views</td><td>VIEW</td><td>null</td><td>null</td><td>null</td><td>null</td><td>null</td><td>NO</td><td>NO</td><td>null</td></tr><tr><td>postgres</td><td>pg_catalog</td><td>pg_matviews</td><td>VIEW</td><td>null</td><td>null</td><td>null</td><td>null</td><td>null</td><td>NO</td><td>NO</td><td>null</td></tr><tr><td>postgres</td><td>pg_catalog</td><td>pg_indexes</td><td>VIEW</td><td>null</td><td>null</td><td>null</td><td>null</td><td>null</td><td>NO</td><td>NO</td><td>null</td></tr><tr><td>postgres</td><td>pg_catalog</td><td>pg_sequences</td><td>VIEW</td><td>null</td><td>null</td><td>null</td><td>null</td><td>null</td><td>NO</td><td>NO</td><td>null</td></tr><tr><td>postgres</td><td>pg_catalog</td><td>pg_stats</td><td>VIEW</td><td>null</td><td>null</td><td>null</td><td>null</td><td>null</td><td>NO</td><td>NO</td><td>null</td></tr><tr><td>postgres</td><td>pg_catalog</td><td>pg_publication_tables</td><td>VIEW</td><td>null</td><td>null</td><td>null</td><td>null</td><td>null</td><td>NO</td><td>NO</td><td>null</td></tr><tr><td>postgres</td><td>pg_catalog</td><td>pg_locks</td><td>VIEW</td><td>null</td><td>null</td><td>null</td><td>null</td><td>null</td><td>NO</td><td>NO</td><td>null</td></tr><tr><td>postgres</td><td>pg_catalog</td><td>pg_cursors</td><td>VIEW</td><td>null</td><td>null</td><td>null</td><td>null</td><td>null</td><td>NO</td><td>NO</td><td>null</td></tr><tr><td>postgres</td><td>pg_catalog</td><td>pg_available_extensions</td><td>VIEW</td><td>null</td><td>null</td><td>null</td><td>null</td><td>null</td><td>NO</td><td>NO</td><td>null</td></tr><tr><td>postgres</td><td>pg_catalog</td><td>pg_available_extension_versions</td><td>VIEW</td><td>null</td><td>null</td><td>null</td><td>null</td><td>null</td><td>NO</td><td>NO</td><td>null</td></tr><tr><td>postgres</td><td>pg_catalog</td><td>pg_prepared_xacts</td><td>VIEW</td><td>null</td><td>null</td><td>null</td><td>null</td><td>null</td><td>NO</td><td>NO</td><td>null</td></tr><tr><td>postgres</td><td>pg_catalog</td><td>pg_prepared_statements</td><td>VIEW</td><td>null</td><td>null</td><td>null</td><td>null</td><td>null</td><td>NO</td><td>NO</td><td>null</td></tr><tr><td>postgres</td><td>pg_catalog</td><td>pg_seclabels</td><td>VIEW</td><td>null</td><td>null</td><td>null</td><td>null</td><td>null</td><td>NO</td><td>NO</td><td>null</td></tr><tr><td>postgres</td><td>pg_catalog</td><td>pg_timezone_abbrevs</td><td>VIEW</td><td>null</td><td>null</td><td>null</td><td>null</td><td>null</td><td>NO</td><td>NO</td><td>null</td></tr><tr><td>postgres</td><td>pg_catalog</td><td>pg_timezone_names</td><td>VIEW</td><td>null</td><td>null</td><td>null</td><td>null</td><td>null</td><td>NO</td><td>NO</td><td>null</td></tr><tr><td>postgres</td><td>pg_catalog</td><td>pg_stat_all_tables</td><td>VIEW</td><td>null</td><td>null</td><td>null</td><td>null</td><td>null</td><td>NO</td><td>NO</td><td>null</td></tr><tr><td>postgres</td><td>pg_catalog</td><td>pg_stat_xact_all_tables</td><td>VIEW</td><td>null</td><td>null</td><td>null</td><td>null</td><td>null</td><td>NO</td><td>NO</td><td>null</td></tr><tr><td>postgres</td><td>pg_catalog</td><td>pg_stat_xact_user_tables</td><td>VIEW</td><td>null</td><td>null</td><td>null</td><td>null</td><td>null</td><td>NO</td><td>NO</td><td>null</td></tr><tr><td>postgres</td><td>pg_catalog</td><td>pg_stat_sys_tables</td><td>VIEW</td><td>null</td><td>null</td><td>null</td><td>null</td><td>null</td><td>NO</td><td>NO</td><td>null</td></tr><tr><td>postgres</td><td>pg_catalog</td><td>pg_stat_xact_sys_tables</td><td>VIEW</td><td>null</td><td>null</td><td>null</td><td>null</td><td>null</td><td>NO</td><td>NO</td><td>null</td></tr><tr><td>postgres</td><td>pg_catalog</td><td>pg_stat_user_tables</td><td>VIEW</td><td>null</td><td>null</td><td>null</td><td>null</td><td>null</td><td>NO</td><td>NO</td><td>null</td></tr><tr><td>postgres</td><td>pg_catalog</td><td>pg_statio_all_tables</td><td>VIEW</td><td>null</td><td>null</td><td>null</td><td>null</td><td>null</td><td>NO</td><td>NO</td><td>null</td></tr><tr><td>postgres</td><td>pg_catalog</td><td>pg_statio_sys_tables</td><td>VIEW</td><td>null</td><td>null</td><td>null</td><td>null</td><td>null</td><td>NO</td><td>NO</td><td>null</td></tr><tr><td>postgres</td><td>pg_catalog</td><td>pg_statio_user_tables</td><td>VIEW</td><td>null</td><td>null</td><td>null</td><td>null</td><td>null</td><td>NO</td><td>NO</td><td>null</td></tr><tr><td>postgres</td><td>pg_catalog</td><td>pg_stat_all_indexes</td><td>VIEW</td><td>null</td><td>null</td><td>null</td><td>null</td><td>null</td><td>NO</td><td>NO</td><td>null</td></tr><tr><td>postgres</td><td>pg_catalog</td><td>pg_stat_sys_indexes</td><td>VIEW</td><td>null</td><td>null</td><td>null</td><td>null</td><td>null</td><td>NO</td><td>NO</td><td>null</td></tr><tr><td>postgres</td><td>pg_catalog</td><td>pg_stat_user_indexes</td><td>VIEW</td><td>null</td><td>null</td><td>null</td><td>null</td><td>null</td><td>NO</td><td>NO</td><td>null</td></tr><tr><td>postgres</td><td>pg_catalog</td><td>pg_statio_all_indexes</td><td>VIEW</td><td>null</td><td>null</td><td>null</td><td>null</td><td>null</td><td>NO</td><td>NO</td><td>null</td></tr><tr><td>postgres</td><td>pg_catalog</td><td>pg_statio_sys_indexes</td><td>VIEW</td><td>null</td><td>null</td><td>null</td><td>null</td><td>null</td><td>NO</td><td>NO</td><td>null</td></tr><tr><td>postgres</td><td>pg_catalog</td><td>pg_statio_user_indexes</td><td>VIEW</td><td>null</td><td>null</td><td>null</td><td>null</td><td>null</td><td>NO</td><td>NO</td><td>null</td></tr><tr><td>postgres</td><td>pg_catalog</td><td>pg_statio_sys_sequences</td><td>VIEW</td><td>null</td><td>null</td><td>null</td><td>null</td><td>null</td><td>NO</td><td>NO</td><td>null</td></tr><tr><td>postgres</td><td>pg_catalog</td><td>pg_statio_user_sequences</td><td>VIEW</td><td>null</td><td>null</td><td>null</td><td>null</td><td>null</td><td>NO</td><td>NO</td><td>null</td></tr><tr><td>postgres</td><td>pg_catalog</td><td>pg_stat_activity</td><td>VIEW</td><td>null</td><td>null</td><td>null</td><td>null</td><td>null</td><td>NO</td><td>NO</td><td>null</td></tr><tr><td>postgres</td><td>pg_catalog</td><td>pg_stat_replication</td><td>VIEW</td><td>null</td><td>null</td><td>null</td><td>null</td><td>null</td><td>NO</td><td>NO</td><td>null</td></tr><tr><td>postgres</td><td>pg_catalog</td><td>pg_stat_slru</td><td>VIEW</td><td>null</td><td>null</td><td>null</td><td>null</td><td>null</td><td>NO</td><td>NO</td><td>null</td></tr><tr><td>postgres</td><td>pg_catalog</td><td>pg_stat_wal_receiver</td><td>VIEW</td><td>null</td><td>null</td><td>null</td><td>null</td><td>null</td><td>NO</td><td>NO</td><td>null</td></tr><tr><td>postgres</td><td>pg_catalog</td><td>pg_stat_recovery_prefetch</td><td>VIEW</td><td>null</td><td>null</td><td>null</td><td>null</td><td>null</td><td>NO</td><td>NO</td><td>null</td></tr><tr><td>postgres</td><td>pg_catalog</td><td>pg_stat_subscription</td><td>VIEW</td><td>null</td><td>null</td><td>null</td><td>null</td><td>null</td><td>NO</td><td>NO</td><td>null</td></tr><tr><td>postgres</td><td>pg_catalog</td><td>pg_stat_ssl</td><td>VIEW</td><td>null</td><td>null</td><td>null</td><td>null</td><td>null</td><td>NO</td><td>NO</td><td>null</td></tr><tr><td>postgres</td><td>pg_catalog</td><td>pg_stat_gssapi</td><td>VIEW</td><td>null</td><td>null</td><td>null</td><td>null</td><td>null</td><td>NO</td><td>NO</td><td>null</td></tr><tr><td>postgres</td><td>pg_catalog</td><td>pg_replication_slots</td><td>VIEW</td><td>null</td><td>null</td><td>null</td><td>null</td><td>null</td><td>NO</td><td>NO</td><td>null</td></tr><tr><td>postgres</td><td>pg_catalog</td><td>pg_stat_replication_slots</td><td>VIEW</td><td>null</td><td>null</td><td>null</td><td>null</td><td>null</td><td>NO</td><td>NO</td><td>null</td></tr><tr><td>postgres</td><td>pg_catalog</td><td>pg_stat_database</td><td>VIEW</td><td>null</td><td>null</td><td>null</td><td>null</td><td>null</td><td>NO</td><td>NO</td><td>null</td></tr><tr><td>postgres</td><td>pg_catalog</td><td>pg_stat_database_conflicts</td><td>VIEW</td><td>null</td><td>null</td><td>null</td><td>null</td><td>null</td><td>YES</td><td>NO</td><td>null</td></tr><tr><td>postgres</td><td>pg_catalog</td><td>pg_stat_user_functions</td><td>VIEW</td><td>null</td><td>null</td><td>null</td><td>null</td><td>null</td><td>NO</td><td>NO</td><td>null</td></tr><tr><td>postgres</td><td>pg_catalog</td><td>pg_stat_xact_user_functions</td><td>VIEW</td><td>null</td><td>null</td><td>null</td><td>null</td><td>null</td><td>NO</td><td>NO</td><td>null</td></tr><tr><td>postgres</td><td>pg_catalog</td><td>pg_stat_archiver</td><td>VIEW</td><td>null</td><td>null</td><td>null</td><td>null</td><td>null</td><td>NO</td><td>NO</td><td>null</td></tr><tr><td>postgres</td><td>pg_catalog</td><td>pg_stat_bgwriter</td><td>VIEW</td><td>null</td><td>null</td><td>null</td><td>null</td><td>null</td><td>NO</td><td>NO</td><td>null</td></tr><tr><td>postgres</td><td>pg_catalog</td><td>pg_stat_io</td><td>VIEW</td><td>null</td><td>null</td><td>null</td><td>null</td><td>null</td><td>NO</td><td>NO</td><td>null</td></tr><tr><td>postgres</td><td>pg_catalog</td><td>pg_stat_wal</td><td>VIEW</td><td>null</td><td>null</td><td>null</td><td>null</td><td>null</td><td>NO</td><td>NO</td><td>null</td></tr><tr><td>postgres</td><td>pg_catalog</td><td>pg_stat_progress_analyze</td><td>VIEW</td><td>null</td><td>null</td><td>null</td><td>null</td><td>null</td><td>NO</td><td>NO</td><td>null</td></tr><tr><td>postgres</td><td>pg_catalog</td><td>pg_stat_progress_vacuum</td><td>VIEW</td><td>null</td><td>null</td><td>null</td><td>null</td><td>null</td><td>NO</td><td>NO</td><td>null</td></tr><tr><td>postgres</td><td>pg_catalog</td><td>pg_stat_progress_cluster</td><td>VIEW</td><td>null</td><td>null</td><td>null</td><td>null</td><td>null</td><td>NO</td><td>NO</td><td>null</td></tr><tr><td>postgres</td><td>pg_catalog</td><td>pg_stat_progress_create_index</td><td>VIEW</td><td>null</td><td>null</td><td>null</td><td>null</td><td>null</td><td>NO</td><td>NO</td><td>null</td></tr><tr><td>postgres</td><td>pg_catalog</td><td>pg_stat_progress_basebackup</td><td>VIEW</td><td>null</td><td>null</td><td>null</td><td>null</td><td>null</td><td>NO</td><td>NO</td><td>null</td></tr><tr><td>postgres</td><td>pg_catalog</td><td>pg_stat_progress_copy</td><td>VIEW</td><td>null</td><td>null</td><td>null</td><td>null</td><td>null</td><td>NO</td><td>NO</td><td>null</td></tr><tr><td>postgres</td><td>pg_catalog</td><td>pg_user_mappings</td><td>VIEW</td><td>null</td><td>null</td><td>null</td><td>null</td><td>null</td><td>NO</td><td>NO</td><td>null</td></tr><tr><td>postgres</td><td>pg_catalog</td><td>pg_stat_subscription_stats</td><td>VIEW</td><td>null</td><td>null</td><td>null</td><td>null</td><td>null</td><td>NO</td><td>NO</td><td>null</td></tr><tr><td>postgres</td><td>pg_catalog</td><td>pg_largeobject</td><td>BASE TABLE</td><td>null</td><td>null</td><td>null</td><td>null</td><td>null</td><td>YES</td><td>NO</td><td>null</td></tr><tr><td>postgres</td><td>information_schema</td><td>collations</td><td>VIEW</td><td>null</td><td>null</td><td>null</td><td>null</td><td>null</td><td>NO</td><td>NO</td><td>null</td></tr><tr><td>postgres</td><td>information_schema</td><td>information_schema_catalog_name</td><td>VIEW</td><td>null</td><td>null</td><td>null</td><td>null</td><td>null</td><td>NO</td><td>NO</td><td>null</td></tr><tr><td>postgres</td><td>information_schema</td><td>applicable_roles</td><td>VIEW</td><td>null</td><td>null</td><td>null</td><td>null</td><td>null</td><td>NO</td><td>NO</td><td>null</td></tr><tr><td>postgres</td><td>information_schema</td><td>domain_constraints</td><td>VIEW</td><td>null</td><td>null</td><td>null</td><td>null</td><td>null</td><td>NO</td><td>NO</td><td>null</td></tr><tr><td>postgres</td><td>information_schema</td><td>administrable_role_authorizations</td><td>VIEW</td><td>null</td><td>null</td><td>null</td><td>null</td><td>null</td><td>NO</td><td>NO</td><td>null</td></tr><tr><td>postgres</td><td>information_schema</td><td>collation_character_set_applicability</td><td>VIEW</td><td>null</td><td>null</td><td>null</td><td>null</td><td>null</td><td>NO</td><td>NO</td><td>null</td></tr><tr><td>postgres</td><td>information_schema</td><td>attributes</td><td>VIEW</td><td>null</td><td>null</td><td>null</td><td>null</td><td>null</td><td>NO</td><td>NO</td><td>null</td></tr><tr><td>postgres</td><td>information_schema</td><td>character_sets</td><td>VIEW</td><td>null</td><td>null</td><td>null</td><td>null</td><td>null</td><td>NO</td><td>NO</td><td>null</td></tr><tr><td>postgres</td><td>information_schema</td><td>column_udt_usage</td><td>VIEW</td><td>null</td><td>null</td><td>null</td><td>null</td><td>null</td><td>NO</td><td>NO</td><td>null</td></tr><tr><td>postgres</td><td>information_schema</td><td>check_constraint_routine_usage</td><td>VIEW</td><td>null</td><td>null</td><td>null</td><td>null</td><td>null</td><td>NO</td><td>NO</td><td>null</td></tr><tr><td>postgres</td><td>information_schema</td><td>column_column_usage</td><td>VIEW</td><td>null</td><td>null</td><td>null</td><td>null</td><td>null</td><td>NO</td><td>NO</td><td>null</td></tr><tr><td>postgres</td><td>information_schema</td><td>check_constraints</td><td>VIEW</td><td>null</td><td>null</td><td>null</td><td>null</td><td>null</td><td>NO</td><td>NO</td><td>null</td></tr><tr><td>postgres</td><td>information_schema</td><td>constraint_table_usage</td><td>VIEW</td><td>null</td><td>null</td><td>null</td><td>null</td><td>null</td><td>NO</td><td>NO</td><td>null</td></tr><tr><td>postgres</td><td>information_schema</td><td>column_domain_usage</td><td>VIEW</td><td>null</td><td>null</td><td>null</td><td>null</td><td>null</td><td>NO</td><td>NO</td><td>null</td></tr><tr><td>postgres</td><td>information_schema</td><td>columns</td><td>VIEW</td><td>null</td><td>null</td><td>null</td><td>null</td><td>null</td><td>NO</td><td>NO</td><td>null</td></tr><tr><td>postgres</td><td>information_schema</td><td>column_privileges</td><td>VIEW</td><td>null</td><td>null</td><td>null</td><td>null</td><td>null</td><td>NO</td><td>NO</td><td>null</td></tr><tr><td>postgres</td><td>information_schema</td><td>constraint_column_usage</td><td>VIEW</td><td>null</td><td>null</td><td>null</td><td>null</td><td>null</td><td>NO</td><td>NO</td><td>null</td></tr><tr><td>postgres</td><td>information_schema</td><td>domain_udt_usage</td><td>VIEW</td><td>null</td><td>null</td><td>null</td><td>null</td><td>null</td><td>NO</td><td>NO</td><td>null</td></tr><tr><td>postgres</td><td>information_schema</td><td>domains</td><td>VIEW</td><td>null</td><td>null</td><td>null</td><td>null</td><td>null</td><td>NO</td><td>NO</td><td>null</td></tr><tr><td>postgres</td><td>information_schema</td><td>enabled_roles</td><td>VIEW</td><td>null</td><td>null</td><td>null</td><td>null</td><td>null</td><td>NO</td><td>NO</td><td>null</td></tr><tr><td>postgres</td><td>information_schema</td><td>key_column_usage</td><td>VIEW</td><td>null</td><td>null</td><td>null</td><td>null</td><td>null</td><td>NO</td><td>NO</td><td>null</td></tr><tr><td>postgres</td><td>information_schema</td><td>parameters</td><td>VIEW</td><td>null</td><td>null</td><td>null</td><td>null</td><td>null</td><td>NO</td><td>NO</td><td>null</td></tr><tr><td>postgres</td><td>information_schema</td><td>table_privileges</td><td>VIEW</td><td>null</td><td>null</td><td>null</td><td>null</td><td>null</td><td>NO</td><td>NO</td><td>null</td></tr><tr><td>postgres</td><td>information_schema</td><td>referential_constraints</td><td>VIEW</td><td>null</td><td>null</td><td>null</td><td>null</td><td>null</td><td>NO</td><td>NO</td><td>null</td></tr><tr><td>postgres</td><td>information_schema</td><td>sql_features</td><td>BASE TABLE</td><td>null</td><td>null</td><td>null</td><td>null</td><td>null</td><td>YES</td><td>NO</td><td>null</td></tr><tr><td>postgres</td><td>information_schema</td><td>role_column_grants</td><td>VIEW</td><td>null</td><td>null</td><td>null</td><td>null</td><td>null</td><td>NO</td><td>NO</td><td>null</td></tr><tr><td>postgres</td><td>information_schema</td><td>routine_column_usage</td><td>VIEW</td><td>null</td><td>null</td><td>null</td><td>null</td><td>null</td><td>NO</td><td>NO</td><td>null</td></tr><tr><td>postgres</td><td>information_schema</td><td>routine_privileges</td><td>VIEW</td><td>null</td><td>null</td><td>null</td><td>null</td><td>null</td><td>NO</td><td>NO</td><td>null</td></tr><tr><td>postgres</td><td>information_schema</td><td>role_routine_grants</td><td>VIEW</td><td>null</td><td>null</td><td>null</td><td>null</td><td>null</td><td>NO</td><td>NO</td><td>null</td></tr><tr><td>postgres</td><td>information_schema</td><td>routine_routine_usage</td><td>VIEW</td><td>null</td><td>null</td><td>null</td><td>null</td><td>null</td><td>NO</td><td>NO</td><td>null</td></tr><tr><td>postgres</td><td>information_schema</td><td>sql_implementation_info</td><td>BASE TABLE</td><td>null</td><td>null</td><td>null</td><td>null</td><td>null</td><td>YES</td><td>NO</td><td>null</td></tr><tr><td>postgres</td><td>information_schema</td><td>routine_sequence_usage</td><td>VIEW</td><td>null</td><td>null</td><td>null</td><td>null</td><td>null</td><td>NO</td><td>NO</td><td>null</td></tr><tr><td>postgres</td><td>information_schema</td><td>routine_table_usage</td><td>VIEW</td><td>null</td><td>null</td><td>null</td><td>null</td><td>null</td><td>NO</td><td>NO</td><td>null</td></tr><tr><td>postgres</td><td>information_schema</td><td>routines</td><td>VIEW</td><td>null</td><td>null</td><td>null</td><td>null</td><td>null</td><td>NO</td><td>NO</td><td>null</td></tr><tr><td>postgres</td><td>information_schema</td><td>schemata</td><td>VIEW</td><td>null</td><td>null</td><td>null</td><td>null</td><td>null</td><td>NO</td><td>NO</td><td>null</td></tr><tr><td>postgres</td><td>information_schema</td><td>sql_parts</td><td>BASE TABLE</td><td>null</td><td>null</td><td>null</td><td>null</td><td>null</td><td>YES</td><td>NO</td><td>null</td></tr><tr><td>postgres</td><td>information_schema</td><td>sequences</td><td>VIEW</td><td>null</td><td>null</td><td>null</td><td>null</td><td>null</td><td>NO</td><td>NO</td><td>null</td></tr><tr><td>postgres</td><td>information_schema</td><td>transforms</td><td>VIEW</td><td>null</td><td>null</td><td>null</td><td>null</td><td>null</td><td>NO</td><td>NO</td><td>null</td></tr><tr><td>postgres</td><td>information_schema</td><td>sql_sizing</td><td>BASE TABLE</td><td>null</td><td>null</td><td>null</td><td>null</td><td>null</td><td>YES</td><td>NO</td><td>null</td></tr><tr><td>postgres</td><td>information_schema</td><td>role_table_grants</td><td>VIEW</td><td>null</td><td>null</td><td>null</td><td>null</td><td>null</td><td>NO</td><td>NO</td><td>null</td></tr><tr><td>postgres</td><td>information_schema</td><td>table_constraints</td><td>VIEW</td><td>null</td><td>null</td><td>null</td><td>null</td><td>null</td><td>NO</td><td>NO</td><td>null</td></tr><tr><td>postgres</td><td>information_schema</td><td>triggers</td><td>VIEW</td><td>null</td><td>null</td><td>null</td><td>null</td><td>null</td><td>NO</td><td>NO</td><td>null</td></tr><tr><td>postgres</td><td>information_schema</td><td>tables</td><td>VIEW</td><td>null</td><td>null</td><td>null</td><td>null</td><td>null</td><td>NO</td><td>NO</td><td>null</td></tr><tr><td>postgres</td><td>information_schema</td><td>triggered_update_columns</td><td>VIEW</td><td>null</td><td>null</td><td>null</td><td>null</td><td>null</td><td>NO</td><td>NO</td><td>null</td></tr><tr><td>postgres</td><td>information_schema</td><td>udt_privileges</td><td>VIEW</td><td>null</td><td>null</td><td>null</td><td>null</td><td>null</td><td>NO</td><td>NO</td><td>null</td></tr><tr><td>postgres</td><td>information_schema</td><td>role_udt_grants</td><td>VIEW</td><td>null</td><td>null</td><td>null</td><td>null</td><td>null</td><td>NO</td><td>NO</td><td>null</td></tr><tr><td>postgres</td><td>information_schema</td><td>usage_privileges</td><td>VIEW</td><td>null</td><td>null</td><td>null</td><td>null</td><td>null</td><td>NO</td><td>NO</td><td>null</td></tr><tr><td>postgres</td><td>information_schema</td><td>role_usage_grants</td><td>VIEW</td><td>null</td><td>null</td><td>null</td><td>null</td><td>null</td><td>NO</td><td>NO</td><td>null</td></tr><tr><td>postgres</td><td>information_schema</td><td>user_defined_types</td><td>VIEW</td><td>null</td><td>null</td><td>null</td><td>null</td><td>null</td><td>NO</td><td>NO</td><td>null</td></tr><tr><td>postgres</td><td>information_schema</td><td>view_column_usage</td><td>VIEW</td><td>null</td><td>null</td><td>null</td><td>null</td><td>null</td><td>NO</td><td>NO</td><td>null</td></tr><tr><td>postgres</td><td>information_schema</td><td>foreign_servers</td><td>VIEW</td><td>null</td><td>null</td><td>null</td><td>null</td><td>null</td><td>NO</td><td>NO</td><td>null</td></tr><tr><td>postgres</td><td>information_schema</td><td>view_routine_usage</td><td>VIEW</td><td>null</td><td>null</td><td>null</td><td>null</td><td>null</td><td>NO</td><td>NO</td><td>null</td></tr><tr><td>postgres</td><td>information_schema</td><td>view_table_usage</td><td>VIEW</td><td>null</td><td>null</td><td>null</td><td>null</td><td>null</td><td>NO</td><td>NO</td><td>null</td></tr><tr><td>postgres</td><td>information_schema</td><td>_pg_foreign_tables</td><td>VIEW</td><td>null</td><td>null</td><td>null</td><td>null</td><td>null</td><td>NO</td><td>NO</td><td>null</td></tr><tr><td>postgres</td><td>information_schema</td><td>views</td><td>VIEW</td><td>null</td><td>null</td><td>null</td><td>null</td><td>null</td><td>NO</td><td>NO</td><td>null</td></tr><tr><td>postgres</td><td>information_schema</td><td>data_type_privileges</td><td>VIEW</td><td>null</td><td>null</td><td>null</td><td>null</td><td>null</td><td>NO</td><td>NO</td><td>null</td></tr><tr><td>postgres</td><td>information_schema</td><td>element_types</td><td>VIEW</td><td>null</td><td>null</td><td>null</td><td>null</td><td>null</td><td>NO</td><td>NO</td><td>null</td></tr><tr><td>postgres</td><td>information_schema</td><td>_pg_foreign_table_columns</td><td>VIEW</td><td>null</td><td>null</td><td>null</td><td>null</td><td>null</td><td>NO</td><td>NO</td><td>null</td></tr><tr><td>postgres</td><td>information_schema</td><td>foreign_table_options</td><td>VIEW</td><td>null</td><td>null</td><td>null</td><td>null</td><td>null</td><td>NO</td><td>NO</td><td>null</td></tr><tr><td>postgres</td><td>information_schema</td><td>column_options</td><td>VIEW</td><td>null</td><td>null</td><td>null</td><td>null</td><td>null</td><td>NO</td><td>NO</td><td>null</td></tr><tr><td>postgres</td><td>information_schema</td><td>_pg_foreign_data_wrappers</td><td>VIEW</td><td>null</td><td>null</td><td>null</td><td>null</td><td>null</td><td>NO</td><td>NO</td><td>null</td></tr><tr><td>postgres</td><td>information_schema</td><td>foreign_data_wrapper_options</td><td>VIEW</td><td>null</td><td>null</td><td>null</td><td>null</td><td>null</td><td>NO</td><td>NO</td><td>null</td></tr><tr><td>postgres</td><td>information_schema</td><td>foreign_data_wrappers</td><td>VIEW</td><td>null</td><td>null</td><td>null</td><td>null</td><td>null</td><td>NO</td><td>NO</td><td>null</td></tr><tr><td>postgres</td><td>information_schema</td><td>_pg_foreign_servers</td><td>VIEW</td><td>null</td><td>null</td><td>null</td><td>null</td><td>null</td><td>NO</td><td>NO</td><td>null</td></tr><tr><td>postgres</td><td>information_schema</td><td>foreign_tables</td><td>VIEW</td><td>null</td><td>null</td><td>null</td><td>null</td><td>null</td><td>NO</td><td>NO</td><td>null</td></tr><tr><td>postgres</td><td>information_schema</td><td>foreign_server_options</td><td>VIEW</td><td>null</td><td>null</td><td>null</td><td>null</td><td>null</td><td>NO</td><td>NO</td><td>null</td></tr><tr><td>postgres</td><td>information_schema</td><td>_pg_user_mappings</td><td>VIEW</td><td>null</td><td>null</td><td>null</td><td>null</td><td>null</td><td>NO</td><td>NO</td><td>null</td></tr><tr><td>postgres</td><td>information_schema</td><td>user_mapping_options</td><td>VIEW</td><td>null</td><td>null</td><td>null</td><td>null</td><td>null</td><td>NO</td><td>NO</td><td>null</td></tr><tr><td>postgres</td><td>information_schema</td><td>user_mappings</td><td>VIEW</td><td>null</td><td>null</td><td>null</td><td>null</td><td>null</td><td>NO</td><td>NO</td><td>null</td></tr></tbody></table></div>"
      ]
     },
     "metadata": {
      "application/vnd.databricks.v1+output": {
       "addedWidgets": {},
       "aggData": [],
       "aggError": "",
       "aggOverflow": false,
       "aggSchema": [],
       "aggSeriesLimitReached": false,
       "aggType": "",
       "arguments": {},
       "columnCustomDisplayInfos": {},
       "data": [
        [
         "postgres",
         "pg_catalog",
         "pg_stats_ext",
         "VIEW",
         null,
         null,
         null,
         null,
         null,
         "NO",
         "NO",
         null
        ],
        [
         "postgres",
         "pg_catalog",
         "pg_stats_ext_exprs",
         "VIEW",
         null,
         null,
         null,
         null,
         null,
         "NO",
         "NO",
         null
        ],
        [
         "postgres",
         "pg_catalog",
         "pg_statistic",
         "BASE TABLE",
         null,
         null,
         null,
         null,
         null,
         "YES",
         "NO",
         null
        ],
        [
         "postgres",
         "pg_catalog",
         "pg_type",
         "BASE TABLE",
         null,
         null,
         null,
         null,
         null,
         "YES",
         "NO",
         null
        ],
        [
         "postgres",
         "public",
         "trayecto",
         "BASE TABLE",
         null,
         null,
         null,
         null,
         null,
         "YES",
         "NO",
         null
        ],
        [
         "postgres",
         "pg_catalog",
         "pg_foreign_table",
         "BASE TABLE",
         null,
         null,
         null,
         null,
         null,
         "YES",
         "NO",
         null
        ],
        [
         "postgres",
         "pg_catalog",
         "pg_authid",
         "BASE TABLE",
         null,
         null,
         null,
         null,
         null,
         "YES",
         "NO",
         null
        ],
        [
         "postgres",
         "pg_catalog",
         "pg_shadow",
         "VIEW",
         null,
         null,
         null,
         null,
         null,
         "NO",
         "NO",
         null
        ],
        [
         "postgres",
         "pg_catalog",
         "pg_roles",
         "VIEW",
         null,
         null,
         null,
         null,
         null,
         "NO",
         "NO",
         null
        ],
        [
         "postgres",
         "pg_catalog",
         "pg_statistic_ext_data",
         "BASE TABLE",
         null,
         null,
         null,
         null,
         null,
         "YES",
         "NO",
         null
        ],
        [
         "postgres",
         "pg_catalog",
         "pg_hba_file_rules",
         "VIEW",
         null,
         null,
         null,
         null,
         null,
         "NO",
         "NO",
         null
        ],
        [
         "postgres",
         "pg_catalog",
         "pg_settings",
         "VIEW",
         null,
         null,
         null,
         null,
         null,
         "NO",
         "NO",
         null
        ],
        [
         "postgres",
         "pg_catalog",
         "pg_file_settings",
         "VIEW",
         null,
         null,
         null,
         null,
         null,
         "NO",
         "NO",
         null
        ],
        [
         "postgres",
         "pg_catalog",
         "pg_backend_memory_contexts",
         "VIEW",
         null,
         null,
         null,
         null,
         null,
         "NO",
         "NO",
         null
        ],
        [
         "postgres",
         "pg_catalog",
         "pg_ident_file_mappings",
         "VIEW",
         null,
         null,
         null,
         null,
         null,
         "NO",
         "NO",
         null
        ],
        [
         "postgres",
         "pg_catalog",
         "pg_config",
         "VIEW",
         null,
         null,
         null,
         null,
         null,
         "NO",
         "NO",
         null
        ],
        [
         "postgres",
         "pg_catalog",
         "pg_shmem_allocations",
         "VIEW",
         null,
         null,
         null,
         null,
         null,
         "NO",
         "NO",
         null
        ],
        [
         "postgres",
         "pg_catalog",
         "pg_tables",
         "VIEW",
         null,
         null,
         null,
         null,
         null,
         "NO",
         "NO",
         null
        ],
        [
         "postgres",
         "pg_catalog",
         "pg_user_mapping",
         "BASE TABLE",
         null,
         null,
         null,
         null,
         null,
         "YES",
         "NO",
         null
        ],
        [
         "postgres",
         "pg_catalog",
         "pg_replication_origin_status",
         "VIEW",
         null,
         null,
         null,
         null,
         null,
         "NO",
         "NO",
         null
        ],
        [
         "postgres",
         "pg_catalog",
         "pg_subscription",
         "BASE TABLE",
         null,
         null,
         null,
         null,
         null,
         "YES",
         "NO",
         null
        ],
        [
         "postgres",
         "pg_catalog",
         "pg_attribute",
         "BASE TABLE",
         null,
         null,
         null,
         null,
         null,
         "YES",
         "NO",
         null
        ],
        [
         "postgres",
         "pg_catalog",
         "pg_proc",
         "BASE TABLE",
         null,
         null,
         null,
         null,
         null,
         "YES",
         "NO",
         null
        ],
        [
         "postgres",
         "pg_catalog",
         "pg_class",
         "BASE TABLE",
         null,
         null,
         null,
         null,
         null,
         "YES",
         "NO",
         null
        ],
        [
         "postgres",
         "pg_catalog",
         "pg_attrdef",
         "BASE TABLE",
         null,
         null,
         null,
         null,
         null,
         "YES",
         "NO",
         null
        ],
        [
         "postgres",
         "pg_catalog",
         "pg_constraint",
         "BASE TABLE",
         null,
         null,
         null,
         null,
         null,
         "YES",
         "NO",
         null
        ],
        [
         "postgres",
         "pg_catalog",
         "pg_inherits",
         "BASE TABLE",
         null,
         null,
         null,
         null,
         null,
         "YES",
         "NO",
         null
        ],
        [
         "postgres",
         "pg_catalog",
         "pg_index",
         "BASE TABLE",
         null,
         null,
         null,
         null,
         null,
         "YES",
         "NO",
         null
        ],
        [
         "postgres",
         "pg_catalog",
         "pg_operator",
         "BASE TABLE",
         null,
         null,
         null,
         null,
         null,
         "YES",
         "NO",
         null
        ],
        [
         "postgres",
         "pg_catalog",
         "pg_statio_all_sequences",
         "VIEW",
         null,
         null,
         null,
         null,
         null,
         "NO",
         "NO",
         null
        ],
        [
         "postgres",
         "pg_catalog",
         "pg_opfamily",
         "BASE TABLE",
         null,
         null,
         null,
         null,
         null,
         "YES",
         "NO",
         null
        ],
        [
         "postgres",
         "pg_catalog",
         "pg_opclass",
         "BASE TABLE",
         null,
         null,
         null,
         null,
         null,
         "YES",
         "NO",
         null
        ],
        [
         "postgres",
         "pg_catalog",
         "pg_am",
         "BASE TABLE",
         null,
         null,
         null,
         null,
         null,
         "YES",
         "NO",
         null
        ],
        [
         "postgres",
         "pg_catalog",
         "pg_amop",
         "BASE TABLE",
         null,
         null,
         null,
         null,
         null,
         "YES",
         "NO",
         null
        ],
        [
         "postgres",
         "pg_catalog",
         "pg_amproc",
         "BASE TABLE",
         null,
         null,
         null,
         null,
         null,
         "YES",
         "NO",
         null
        ],
        [
         "postgres",
         "pg_catalog",
         "pg_language",
         "BASE TABLE",
         null,
         null,
         null,
         null,
         null,
         "YES",
         "NO",
         null
        ],
        [
         "postgres",
         "pg_catalog",
         "pg_largeobject_metadata",
         "BASE TABLE",
         null,
         null,
         null,
         null,
         null,
         "YES",
         "NO",
         null
        ],
        [
         "postgres",
         "pg_catalog",
         "pg_aggregate",
         "BASE TABLE",
         null,
         null,
         null,
         null,
         null,
         "YES",
         "NO",
         null
        ],
        [
         "postgres",
         "pg_catalog",
         "pg_statistic_ext",
         "BASE TABLE",
         null,
         null,
         null,
         null,
         null,
         "YES",
         "NO",
         null
        ],
        [
         "postgres",
         "pg_catalog",
         "pg_rewrite",
         "BASE TABLE",
         null,
         null,
         null,
         null,
         null,
         "YES",
         "NO",
         null
        ],
        [
         "postgres",
         "pg_catalog",
         "pg_trigger",
         "BASE TABLE",
         null,
         null,
         null,
         null,
         null,
         "YES",
         "NO",
         null
        ],
        [
         "postgres",
         "pg_catalog",
         "pg_event_trigger",
         "BASE TABLE",
         null,
         null,
         null,
         null,
         null,
         "YES",
         "NO",
         null
        ],
        [
         "postgres",
         "pg_catalog",
         "pg_description",
         "BASE TABLE",
         null,
         null,
         null,
         null,
         null,
         "YES",
         "NO",
         null
        ],
        [
         "postgres",
         "pg_catalog",
         "pg_cast",
         "BASE TABLE",
         null,
         null,
         null,
         null,
         null,
         "YES",
         "NO",
         null
        ],
        [
         "postgres",
         "pg_catalog",
         "pg_enum",
         "BASE TABLE",
         null,
         null,
         null,
         null,
         null,
         "YES",
         "NO",
         null
        ],
        [
         "postgres",
         "pg_catalog",
         "pg_namespace",
         "BASE TABLE",
         null,
         null,
         null,
         null,
         null,
         "YES",
         "NO",
         null
        ],
        [
         "postgres",
         "pg_catalog",
         "pg_conversion",
         "BASE TABLE",
         null,
         null,
         null,
         null,
         null,
         "YES",
         "NO",
         null
        ],
        [
         "postgres",
         "pg_catalog",
         "pg_depend",
         "BASE TABLE",
         null,
         null,
         null,
         null,
         null,
         "YES",
         "NO",
         null
        ],
        [
         "postgres",
         "pg_catalog",
         "pg_database",
         "BASE TABLE",
         null,
         null,
         null,
         null,
         null,
         "YES",
         "NO",
         null
        ],
        [
         "postgres",
         "pg_catalog",
         "pg_db_role_setting",
         "BASE TABLE",
         null,
         null,
         null,
         null,
         null,
         "YES",
         "NO",
         null
        ],
        [
         "postgres",
         "pg_catalog",
         "pg_tablespace",
         "BASE TABLE",
         null,
         null,
         null,
         null,
         null,
         "YES",
         "NO",
         null
        ],
        [
         "postgres",
         "pg_catalog",
         "pg_auth_members",
         "BASE TABLE",
         null,
         null,
         null,
         null,
         null,
         "YES",
         "NO",
         null
        ],
        [
         "postgres",
         "pg_catalog",
         "pg_shdepend",
         "BASE TABLE",
         null,
         null,
         null,
         null,
         null,
         "YES",
         "NO",
         null
        ],
        [
         "postgres",
         "pg_catalog",
         "pg_shdescription",
         "BASE TABLE",
         null,
         null,
         null,
         null,
         null,
         "YES",
         "NO",
         null
        ],
        [
         "postgres",
         "pg_catalog",
         "pg_ts_config",
         "BASE TABLE",
         null,
         null,
         null,
         null,
         null,
         "YES",
         "NO",
         null
        ],
        [
         "postgres",
         "pg_catalog",
         "pg_ts_config_map",
         "BASE TABLE",
         null,
         null,
         null,
         null,
         null,
         "YES",
         "NO",
         null
        ],
        [
         "postgres",
         "pg_catalog",
         "pg_ts_dict",
         "BASE TABLE",
         null,
         null,
         null,
         null,
         null,
         "YES",
         "NO",
         null
        ],
        [
         "postgres",
         "pg_catalog",
         "pg_ts_parser",
         "BASE TABLE",
         null,
         null,
         null,
         null,
         null,
         "YES",
         "NO",
         null
        ],
        [
         "postgres",
         "pg_catalog",
         "pg_ts_template",
         "BASE TABLE",
         null,
         null,
         null,
         null,
         null,
         "YES",
         "NO",
         null
        ],
        [
         "postgres",
         "pg_catalog",
         "pg_extension",
         "BASE TABLE",
         null,
         null,
         null,
         null,
         null,
         "YES",
         "NO",
         null
        ],
        [
         "postgres",
         "pg_catalog",
         "pg_foreign_data_wrapper",
         "BASE TABLE",
         null,
         null,
         null,
         null,
         null,
         "YES",
         "NO",
         null
        ],
        [
         "postgres",
         "pg_catalog",
         "pg_foreign_server",
         "BASE TABLE",
         null,
         null,
         null,
         null,
         null,
         "YES",
         "NO",
         null
        ],
        [
         "postgres",
         "pg_catalog",
         "pg_policy",
         "BASE TABLE",
         null,
         null,
         null,
         null,
         null,
         "YES",
         "NO",
         null
        ],
        [
         "postgres",
         "pg_catalog",
         "pg_replication_origin",
         "BASE TABLE",
         null,
         null,
         null,
         null,
         null,
         "YES",
         "NO",
         null
        ],
        [
         "postgres",
         "pg_catalog",
         "pg_default_acl",
         "BASE TABLE",
         null,
         null,
         null,
         null,
         null,
         "YES",
         "NO",
         null
        ],
        [
         "postgres",
         "pg_catalog",
         "pg_init_privs",
         "BASE TABLE",
         null,
         null,
         null,
         null,
         null,
         "YES",
         "NO",
         null
        ],
        [
         "postgres",
         "pg_catalog",
         "pg_seclabel",
         "BASE TABLE",
         null,
         null,
         null,
         null,
         null,
         "YES",
         "NO",
         null
        ],
        [
         "postgres",
         "pg_catalog",
         "pg_shseclabel",
         "BASE TABLE",
         null,
         null,
         null,
         null,
         null,
         "YES",
         "NO",
         null
        ],
        [
         "postgres",
         "pg_catalog",
         "pg_collation",
         "BASE TABLE",
         null,
         null,
         null,
         null,
         null,
         "YES",
         "NO",
         null
        ],
        [
         "postgres",
         "pg_catalog",
         "pg_parameter_acl",
         "BASE TABLE",
         null,
         null,
         null,
         null,
         null,
         "YES",
         "NO",
         null
        ],
        [
         "postgres",
         "pg_catalog",
         "pg_partitioned_table",
         "BASE TABLE",
         null,
         null,
         null,
         null,
         null,
         "YES",
         "NO",
         null
        ],
        [
         "postgres",
         "pg_catalog",
         "pg_range",
         "BASE TABLE",
         null,
         null,
         null,
         null,
         null,
         "YES",
         "NO",
         null
        ],
        [
         "postgres",
         "pg_catalog",
         "pg_transform",
         "BASE TABLE",
         null,
         null,
         null,
         null,
         null,
         "YES",
         "NO",
         null
        ],
        [
         "postgres",
         "pg_catalog",
         "pg_sequence",
         "BASE TABLE",
         null,
         null,
         null,
         null,
         null,
         "YES",
         "NO",
         null
        ],
        [
         "postgres",
         "pg_catalog",
         "pg_publication",
         "BASE TABLE",
         null,
         null,
         null,
         null,
         null,
         "YES",
         "NO",
         null
        ],
        [
         "postgres",
         "pg_catalog",
         "pg_publication_namespace",
         "BASE TABLE",
         null,
         null,
         null,
         null,
         null,
         "YES",
         "NO",
         null
        ],
        [
         "postgres",
         "pg_catalog",
         "pg_publication_rel",
         "BASE TABLE",
         null,
         null,
         null,
         null,
         null,
         "YES",
         "NO",
         null
        ],
        [
         "postgres",
         "pg_catalog",
         "pg_subscription_rel",
         "BASE TABLE",
         null,
         null,
         null,
         null,
         null,
         "YES",
         "NO",
         null
        ],
        [
         "postgres",
         "pg_catalog",
         "pg_group",
         "VIEW",
         null,
         null,
         null,
         null,
         null,
         "YES",
         "NO",
         null
        ],
        [
         "postgres",
         "pg_catalog",
         "pg_user",
         "VIEW",
         null,
         null,
         null,
         null,
         null,
         "NO",
         "NO",
         null
        ],
        [
         "postgres",
         "pg_catalog",
         "pg_policies",
         "VIEW",
         null,
         null,
         null,
         null,
         null,
         "NO",
         "NO",
         null
        ],
        [
         "postgres",
         "pg_catalog",
         "pg_rules",
         "VIEW",
         null,
         null,
         null,
         null,
         null,
         "NO",
         "NO",
         null
        ],
        [
         "postgres",
         "pg_catalog",
         "pg_views",
         "VIEW",
         null,
         null,
         null,
         null,
         null,
         "NO",
         "NO",
         null
        ],
        [
         "postgres",
         "pg_catalog",
         "pg_matviews",
         "VIEW",
         null,
         null,
         null,
         null,
         null,
         "NO",
         "NO",
         null
        ],
        [
         "postgres",
         "pg_catalog",
         "pg_indexes",
         "VIEW",
         null,
         null,
         null,
         null,
         null,
         "NO",
         "NO",
         null
        ],
        [
         "postgres",
         "pg_catalog",
         "pg_sequences",
         "VIEW",
         null,
         null,
         null,
         null,
         null,
         "NO",
         "NO",
         null
        ],
        [
         "postgres",
         "pg_catalog",
         "pg_stats",
         "VIEW",
         null,
         null,
         null,
         null,
         null,
         "NO",
         "NO",
         null
        ],
        [
         "postgres",
         "pg_catalog",
         "pg_publication_tables",
         "VIEW",
         null,
         null,
         null,
         null,
         null,
         "NO",
         "NO",
         null
        ],
        [
         "postgres",
         "pg_catalog",
         "pg_locks",
         "VIEW",
         null,
         null,
         null,
         null,
         null,
         "NO",
         "NO",
         null
        ],
        [
         "postgres",
         "pg_catalog",
         "pg_cursors",
         "VIEW",
         null,
         null,
         null,
         null,
         null,
         "NO",
         "NO",
         null
        ],
        [
         "postgres",
         "pg_catalog",
         "pg_available_extensions",
         "VIEW",
         null,
         null,
         null,
         null,
         null,
         "NO",
         "NO",
         null
        ],
        [
         "postgres",
         "pg_catalog",
         "pg_available_extension_versions",
         "VIEW",
         null,
         null,
         null,
         null,
         null,
         "NO",
         "NO",
         null
        ],
        [
         "postgres",
         "pg_catalog",
         "pg_prepared_xacts",
         "VIEW",
         null,
         null,
         null,
         null,
         null,
         "NO",
         "NO",
         null
        ],
        [
         "postgres",
         "pg_catalog",
         "pg_prepared_statements",
         "VIEW",
         null,
         null,
         null,
         null,
         null,
         "NO",
         "NO",
         null
        ],
        [
         "postgres",
         "pg_catalog",
         "pg_seclabels",
         "VIEW",
         null,
         null,
         null,
         null,
         null,
         "NO",
         "NO",
         null
        ],
        [
         "postgres",
         "pg_catalog",
         "pg_timezone_abbrevs",
         "VIEW",
         null,
         null,
         null,
         null,
         null,
         "NO",
         "NO",
         null
        ],
        [
         "postgres",
         "pg_catalog",
         "pg_timezone_names",
         "VIEW",
         null,
         null,
         null,
         null,
         null,
         "NO",
         "NO",
         null
        ],
        [
         "postgres",
         "pg_catalog",
         "pg_stat_all_tables",
         "VIEW",
         null,
         null,
         null,
         null,
         null,
         "NO",
         "NO",
         null
        ],
        [
         "postgres",
         "pg_catalog",
         "pg_stat_xact_all_tables",
         "VIEW",
         null,
         null,
         null,
         null,
         null,
         "NO",
         "NO",
         null
        ],
        [
         "postgres",
         "pg_catalog",
         "pg_stat_xact_user_tables",
         "VIEW",
         null,
         null,
         null,
         null,
         null,
         "NO",
         "NO",
         null
        ],
        [
         "postgres",
         "pg_catalog",
         "pg_stat_sys_tables",
         "VIEW",
         null,
         null,
         null,
         null,
         null,
         "NO",
         "NO",
         null
        ],
        [
         "postgres",
         "pg_catalog",
         "pg_stat_xact_sys_tables",
         "VIEW",
         null,
         null,
         null,
         null,
         null,
         "NO",
         "NO",
         null
        ],
        [
         "postgres",
         "pg_catalog",
         "pg_stat_user_tables",
         "VIEW",
         null,
         null,
         null,
         null,
         null,
         "NO",
         "NO",
         null
        ],
        [
         "postgres",
         "pg_catalog",
         "pg_statio_all_tables",
         "VIEW",
         null,
         null,
         null,
         null,
         null,
         "NO",
         "NO",
         null
        ],
        [
         "postgres",
         "pg_catalog",
         "pg_statio_sys_tables",
         "VIEW",
         null,
         null,
         null,
         null,
         null,
         "NO",
         "NO",
         null
        ],
        [
         "postgres",
         "pg_catalog",
         "pg_statio_user_tables",
         "VIEW",
         null,
         null,
         null,
         null,
         null,
         "NO",
         "NO",
         null
        ],
        [
         "postgres",
         "pg_catalog",
         "pg_stat_all_indexes",
         "VIEW",
         null,
         null,
         null,
         null,
         null,
         "NO",
         "NO",
         null
        ],
        [
         "postgres",
         "pg_catalog",
         "pg_stat_sys_indexes",
         "VIEW",
         null,
         null,
         null,
         null,
         null,
         "NO",
         "NO",
         null
        ],
        [
         "postgres",
         "pg_catalog",
         "pg_stat_user_indexes",
         "VIEW",
         null,
         null,
         null,
         null,
         null,
         "NO",
         "NO",
         null
        ],
        [
         "postgres",
         "pg_catalog",
         "pg_statio_all_indexes",
         "VIEW",
         null,
         null,
         null,
         null,
         null,
         "NO",
         "NO",
         null
        ],
        [
         "postgres",
         "pg_catalog",
         "pg_statio_sys_indexes",
         "VIEW",
         null,
         null,
         null,
         null,
         null,
         "NO",
         "NO",
         null
        ],
        [
         "postgres",
         "pg_catalog",
         "pg_statio_user_indexes",
         "VIEW",
         null,
         null,
         null,
         null,
         null,
         "NO",
         "NO",
         null
        ],
        [
         "postgres",
         "pg_catalog",
         "pg_statio_sys_sequences",
         "VIEW",
         null,
         null,
         null,
         null,
         null,
         "NO",
         "NO",
         null
        ],
        [
         "postgres",
         "pg_catalog",
         "pg_statio_user_sequences",
         "VIEW",
         null,
         null,
         null,
         null,
         null,
         "NO",
         "NO",
         null
        ],
        [
         "postgres",
         "pg_catalog",
         "pg_stat_activity",
         "VIEW",
         null,
         null,
         null,
         null,
         null,
         "NO",
         "NO",
         null
        ],
        [
         "postgres",
         "pg_catalog",
         "pg_stat_replication",
         "VIEW",
         null,
         null,
         null,
         null,
         null,
         "NO",
         "NO",
         null
        ],
        [
         "postgres",
         "pg_catalog",
         "pg_stat_slru",
         "VIEW",
         null,
         null,
         null,
         null,
         null,
         "NO",
         "NO",
         null
        ],
        [
         "postgres",
         "pg_catalog",
         "pg_stat_wal_receiver",
         "VIEW",
         null,
         null,
         null,
         null,
         null,
         "NO",
         "NO",
         null
        ],
        [
         "postgres",
         "pg_catalog",
         "pg_stat_recovery_prefetch",
         "VIEW",
         null,
         null,
         null,
         null,
         null,
         "NO",
         "NO",
         null
        ],
        [
         "postgres",
         "pg_catalog",
         "pg_stat_subscription",
         "VIEW",
         null,
         null,
         null,
         null,
         null,
         "NO",
         "NO",
         null
        ],
        [
         "postgres",
         "pg_catalog",
         "pg_stat_ssl",
         "VIEW",
         null,
         null,
         null,
         null,
         null,
         "NO",
         "NO",
         null
        ],
        [
         "postgres",
         "pg_catalog",
         "pg_stat_gssapi",
         "VIEW",
         null,
         null,
         null,
         null,
         null,
         "NO",
         "NO",
         null
        ],
        [
         "postgres",
         "pg_catalog",
         "pg_replication_slots",
         "VIEW",
         null,
         null,
         null,
         null,
         null,
         "NO",
         "NO",
         null
        ],
        [
         "postgres",
         "pg_catalog",
         "pg_stat_replication_slots",
         "VIEW",
         null,
         null,
         null,
         null,
         null,
         "NO",
         "NO",
         null
        ],
        [
         "postgres",
         "pg_catalog",
         "pg_stat_database",
         "VIEW",
         null,
         null,
         null,
         null,
         null,
         "NO",
         "NO",
         null
        ],
        [
         "postgres",
         "pg_catalog",
         "pg_stat_database_conflicts",
         "VIEW",
         null,
         null,
         null,
         null,
         null,
         "YES",
         "NO",
         null
        ],
        [
         "postgres",
         "pg_catalog",
         "pg_stat_user_functions",
         "VIEW",
         null,
         null,
         null,
         null,
         null,
         "NO",
         "NO",
         null
        ],
        [
         "postgres",
         "pg_catalog",
         "pg_stat_xact_user_functions",
         "VIEW",
         null,
         null,
         null,
         null,
         null,
         "NO",
         "NO",
         null
        ],
        [
         "postgres",
         "pg_catalog",
         "pg_stat_archiver",
         "VIEW",
         null,
         null,
         null,
         null,
         null,
         "NO",
         "NO",
         null
        ],
        [
         "postgres",
         "pg_catalog",
         "pg_stat_bgwriter",
         "VIEW",
         null,
         null,
         null,
         null,
         null,
         "NO",
         "NO",
         null
        ],
        [
         "postgres",
         "pg_catalog",
         "pg_stat_io",
         "VIEW",
         null,
         null,
         null,
         null,
         null,
         "NO",
         "NO",
         null
        ],
        [
         "postgres",
         "pg_catalog",
         "pg_stat_wal",
         "VIEW",
         null,
         null,
         null,
         null,
         null,
         "NO",
         "NO",
         null
        ],
        [
         "postgres",
         "pg_catalog",
         "pg_stat_progress_analyze",
         "VIEW",
         null,
         null,
         null,
         null,
         null,
         "NO",
         "NO",
         null
        ],
        [
         "postgres",
         "pg_catalog",
         "pg_stat_progress_vacuum",
         "VIEW",
         null,
         null,
         null,
         null,
         null,
         "NO",
         "NO",
         null
        ],
        [
         "postgres",
         "pg_catalog",
         "pg_stat_progress_cluster",
         "VIEW",
         null,
         null,
         null,
         null,
         null,
         "NO",
         "NO",
         null
        ],
        [
         "postgres",
         "pg_catalog",
         "pg_stat_progress_create_index",
         "VIEW",
         null,
         null,
         null,
         null,
         null,
         "NO",
         "NO",
         null
        ],
        [
         "postgres",
         "pg_catalog",
         "pg_stat_progress_basebackup",
         "VIEW",
         null,
         null,
         null,
         null,
         null,
         "NO",
         "NO",
         null
        ],
        [
         "postgres",
         "pg_catalog",
         "pg_stat_progress_copy",
         "VIEW",
         null,
         null,
         null,
         null,
         null,
         "NO",
         "NO",
         null
        ],
        [
         "postgres",
         "pg_catalog",
         "pg_user_mappings",
         "VIEW",
         null,
         null,
         null,
         null,
         null,
         "NO",
         "NO",
         null
        ],
        [
         "postgres",
         "pg_catalog",
         "pg_stat_subscription_stats",
         "VIEW",
         null,
         null,
         null,
         null,
         null,
         "NO",
         "NO",
         null
        ],
        [
         "postgres",
         "pg_catalog",
         "pg_largeobject",
         "BASE TABLE",
         null,
         null,
         null,
         null,
         null,
         "YES",
         "NO",
         null
        ],
        [
         "postgres",
         "information_schema",
         "collations",
         "VIEW",
         null,
         null,
         null,
         null,
         null,
         "NO",
         "NO",
         null
        ],
        [
         "postgres",
         "information_schema",
         "information_schema_catalog_name",
         "VIEW",
         null,
         null,
         null,
         null,
         null,
         "NO",
         "NO",
         null
        ],
        [
         "postgres",
         "information_schema",
         "applicable_roles",
         "VIEW",
         null,
         null,
         null,
         null,
         null,
         "NO",
         "NO",
         null
        ],
        [
         "postgres",
         "information_schema",
         "domain_constraints",
         "VIEW",
         null,
         null,
         null,
         null,
         null,
         "NO",
         "NO",
         null
        ],
        [
         "postgres",
         "information_schema",
         "administrable_role_authorizations",
         "VIEW",
         null,
         null,
         null,
         null,
         null,
         "NO",
         "NO",
         null
        ],
        [
         "postgres",
         "information_schema",
         "collation_character_set_applicability",
         "VIEW",
         null,
         null,
         null,
         null,
         null,
         "NO",
         "NO",
         null
        ],
        [
         "postgres",
         "information_schema",
         "attributes",
         "VIEW",
         null,
         null,
         null,
         null,
         null,
         "NO",
         "NO",
         null
        ],
        [
         "postgres",
         "information_schema",
         "character_sets",
         "VIEW",
         null,
         null,
         null,
         null,
         null,
         "NO",
         "NO",
         null
        ],
        [
         "postgres",
         "information_schema",
         "column_udt_usage",
         "VIEW",
         null,
         null,
         null,
         null,
         null,
         "NO",
         "NO",
         null
        ],
        [
         "postgres",
         "information_schema",
         "check_constraint_routine_usage",
         "VIEW",
         null,
         null,
         null,
         null,
         null,
         "NO",
         "NO",
         null
        ],
        [
         "postgres",
         "information_schema",
         "column_column_usage",
         "VIEW",
         null,
         null,
         null,
         null,
         null,
         "NO",
         "NO",
         null
        ],
        [
         "postgres",
         "information_schema",
         "check_constraints",
         "VIEW",
         null,
         null,
         null,
         null,
         null,
         "NO",
         "NO",
         null
        ],
        [
         "postgres",
         "information_schema",
         "constraint_table_usage",
         "VIEW",
         null,
         null,
         null,
         null,
         null,
         "NO",
         "NO",
         null
        ],
        [
         "postgres",
         "information_schema",
         "column_domain_usage",
         "VIEW",
         null,
         null,
         null,
         null,
         null,
         "NO",
         "NO",
         null
        ],
        [
         "postgres",
         "information_schema",
         "columns",
         "VIEW",
         null,
         null,
         null,
         null,
         null,
         "NO",
         "NO",
         null
        ],
        [
         "postgres",
         "information_schema",
         "column_privileges",
         "VIEW",
         null,
         null,
         null,
         null,
         null,
         "NO",
         "NO",
         null
        ],
        [
         "postgres",
         "information_schema",
         "constraint_column_usage",
         "VIEW",
         null,
         null,
         null,
         null,
         null,
         "NO",
         "NO",
         null
        ],
        [
         "postgres",
         "information_schema",
         "domain_udt_usage",
         "VIEW",
         null,
         null,
         null,
         null,
         null,
         "NO",
         "NO",
         null
        ],
        [
         "postgres",
         "information_schema",
         "domains",
         "VIEW",
         null,
         null,
         null,
         null,
         null,
         "NO",
         "NO",
         null
        ],
        [
         "postgres",
         "information_schema",
         "enabled_roles",
         "VIEW",
         null,
         null,
         null,
         null,
         null,
         "NO",
         "NO",
         null
        ],
        [
         "postgres",
         "information_schema",
         "key_column_usage",
         "VIEW",
         null,
         null,
         null,
         null,
         null,
         "NO",
         "NO",
         null
        ],
        [
         "postgres",
         "information_schema",
         "parameters",
         "VIEW",
         null,
         null,
         null,
         null,
         null,
         "NO",
         "NO",
         null
        ],
        [
         "postgres",
         "information_schema",
         "table_privileges",
         "VIEW",
         null,
         null,
         null,
         null,
         null,
         "NO",
         "NO",
         null
        ],
        [
         "postgres",
         "information_schema",
         "referential_constraints",
         "VIEW",
         null,
         null,
         null,
         null,
         null,
         "NO",
         "NO",
         null
        ],
        [
         "postgres",
         "information_schema",
         "sql_features",
         "BASE TABLE",
         null,
         null,
         null,
         null,
         null,
         "YES",
         "NO",
         null
        ],
        [
         "postgres",
         "information_schema",
         "role_column_grants",
         "VIEW",
         null,
         null,
         null,
         null,
         null,
         "NO",
         "NO",
         null
        ],
        [
         "postgres",
         "information_schema",
         "routine_column_usage",
         "VIEW",
         null,
         null,
         null,
         null,
         null,
         "NO",
         "NO",
         null
        ],
        [
         "postgres",
         "information_schema",
         "routine_privileges",
         "VIEW",
         null,
         null,
         null,
         null,
         null,
         "NO",
         "NO",
         null
        ],
        [
         "postgres",
         "information_schema",
         "role_routine_grants",
         "VIEW",
         null,
         null,
         null,
         null,
         null,
         "NO",
         "NO",
         null
        ],
        [
         "postgres",
         "information_schema",
         "routine_routine_usage",
         "VIEW",
         null,
         null,
         null,
         null,
         null,
         "NO",
         "NO",
         null
        ],
        [
         "postgres",
         "information_schema",
         "sql_implementation_info",
         "BASE TABLE",
         null,
         null,
         null,
         null,
         null,
         "YES",
         "NO",
         null
        ],
        [
         "postgres",
         "information_schema",
         "routine_sequence_usage",
         "VIEW",
         null,
         null,
         null,
         null,
         null,
         "NO",
         "NO",
         null
        ],
        [
         "postgres",
         "information_schema",
         "routine_table_usage",
         "VIEW",
         null,
         null,
         null,
         null,
         null,
         "NO",
         "NO",
         null
        ],
        [
         "postgres",
         "information_schema",
         "routines",
         "VIEW",
         null,
         null,
         null,
         null,
         null,
         "NO",
         "NO",
         null
        ],
        [
         "postgres",
         "information_schema",
         "schemata",
         "VIEW",
         null,
         null,
         null,
         null,
         null,
         "NO",
         "NO",
         null
        ],
        [
         "postgres",
         "information_schema",
         "sql_parts",
         "BASE TABLE",
         null,
         null,
         null,
         null,
         null,
         "YES",
         "NO",
         null
        ],
        [
         "postgres",
         "information_schema",
         "sequences",
         "VIEW",
         null,
         null,
         null,
         null,
         null,
         "NO",
         "NO",
         null
        ],
        [
         "postgres",
         "information_schema",
         "transforms",
         "VIEW",
         null,
         null,
         null,
         null,
         null,
         "NO",
         "NO",
         null
        ],
        [
         "postgres",
         "information_schema",
         "sql_sizing",
         "BASE TABLE",
         null,
         null,
         null,
         null,
         null,
         "YES",
         "NO",
         null
        ],
        [
         "postgres",
         "information_schema",
         "role_table_grants",
         "VIEW",
         null,
         null,
         null,
         null,
         null,
         "NO",
         "NO",
         null
        ],
        [
         "postgres",
         "information_schema",
         "table_constraints",
         "VIEW",
         null,
         null,
         null,
         null,
         null,
         "NO",
         "NO",
         null
        ],
        [
         "postgres",
         "information_schema",
         "triggers",
         "VIEW",
         null,
         null,
         null,
         null,
         null,
         "NO",
         "NO",
         null
        ],
        [
         "postgres",
         "information_schema",
         "tables",
         "VIEW",
         null,
         null,
         null,
         null,
         null,
         "NO",
         "NO",
         null
        ],
        [
         "postgres",
         "information_schema",
         "triggered_update_columns",
         "VIEW",
         null,
         null,
         null,
         null,
         null,
         "NO",
         "NO",
         null
        ],
        [
         "postgres",
         "information_schema",
         "udt_privileges",
         "VIEW",
         null,
         null,
         null,
         null,
         null,
         "NO",
         "NO",
         null
        ],
        [
         "postgres",
         "information_schema",
         "role_udt_grants",
         "VIEW",
         null,
         null,
         null,
         null,
         null,
         "NO",
         "NO",
         null
        ],
        [
         "postgres",
         "information_schema",
         "usage_privileges",
         "VIEW",
         null,
         null,
         null,
         null,
         null,
         "NO",
         "NO",
         null
        ],
        [
         "postgres",
         "information_schema",
         "role_usage_grants",
         "VIEW",
         null,
         null,
         null,
         null,
         null,
         "NO",
         "NO",
         null
        ],
        [
         "postgres",
         "information_schema",
         "user_defined_types",
         "VIEW",
         null,
         null,
         null,
         null,
         null,
         "NO",
         "NO",
         null
        ],
        [
         "postgres",
         "information_schema",
         "view_column_usage",
         "VIEW",
         null,
         null,
         null,
         null,
         null,
         "NO",
         "NO",
         null
        ],
        [
         "postgres",
         "information_schema",
         "foreign_servers",
         "VIEW",
         null,
         null,
         null,
         null,
         null,
         "NO",
         "NO",
         null
        ],
        [
         "postgres",
         "information_schema",
         "view_routine_usage",
         "VIEW",
         null,
         null,
         null,
         null,
         null,
         "NO",
         "NO",
         null
        ],
        [
         "postgres",
         "information_schema",
         "view_table_usage",
         "VIEW",
         null,
         null,
         null,
         null,
         null,
         "NO",
         "NO",
         null
        ],
        [
         "postgres",
         "information_schema",
         "_pg_foreign_tables",
         "VIEW",
         null,
         null,
         null,
         null,
         null,
         "NO",
         "NO",
         null
        ],
        [
         "postgres",
         "information_schema",
         "views",
         "VIEW",
         null,
         null,
         null,
         null,
         null,
         "NO",
         "NO",
         null
        ],
        [
         "postgres",
         "information_schema",
         "data_type_privileges",
         "VIEW",
         null,
         null,
         null,
         null,
         null,
         "NO",
         "NO",
         null
        ],
        [
         "postgres",
         "information_schema",
         "element_types",
         "VIEW",
         null,
         null,
         null,
         null,
         null,
         "NO",
         "NO",
         null
        ],
        [
         "postgres",
         "information_schema",
         "_pg_foreign_table_columns",
         "VIEW",
         null,
         null,
         null,
         null,
         null,
         "NO",
         "NO",
         null
        ],
        [
         "postgres",
         "information_schema",
         "foreign_table_options",
         "VIEW",
         null,
         null,
         null,
         null,
         null,
         "NO",
         "NO",
         null
        ],
        [
         "postgres",
         "information_schema",
         "column_options",
         "VIEW",
         null,
         null,
         null,
         null,
         null,
         "NO",
         "NO",
         null
        ],
        [
         "postgres",
         "information_schema",
         "_pg_foreign_data_wrappers",
         "VIEW",
         null,
         null,
         null,
         null,
         null,
         "NO",
         "NO",
         null
        ],
        [
         "postgres",
         "information_schema",
         "foreign_data_wrapper_options",
         "VIEW",
         null,
         null,
         null,
         null,
         null,
         "NO",
         "NO",
         null
        ],
        [
         "postgres",
         "information_schema",
         "foreign_data_wrappers",
         "VIEW",
         null,
         null,
         null,
         null,
         null,
         "NO",
         "NO",
         null
        ],
        [
         "postgres",
         "information_schema",
         "_pg_foreign_servers",
         "VIEW",
         null,
         null,
         null,
         null,
         null,
         "NO",
         "NO",
         null
        ],
        [
         "postgres",
         "information_schema",
         "foreign_tables",
         "VIEW",
         null,
         null,
         null,
         null,
         null,
         "NO",
         "NO",
         null
        ],
        [
         "postgres",
         "information_schema",
         "foreign_server_options",
         "VIEW",
         null,
         null,
         null,
         null,
         null,
         "NO",
         "NO",
         null
        ],
        [
         "postgres",
         "information_schema",
         "_pg_user_mappings",
         "VIEW",
         null,
         null,
         null,
         null,
         null,
         "NO",
         "NO",
         null
        ],
        [
         "postgres",
         "information_schema",
         "user_mapping_options",
         "VIEW",
         null,
         null,
         null,
         null,
         null,
         "NO",
         "NO",
         null
        ],
        [
         "postgres",
         "information_schema",
         "user_mappings",
         "VIEW",
         null,
         null,
         null,
         null,
         null,
         "NO",
         "NO",
         null
        ]
       ],
       "datasetInfos": [],
       "dbfsResultPath": null,
       "isJsonSchema": true,
       "metadata": {},
       "overflow": false,
       "plotOptions": {
        "customPlotOptions": {},
        "displayType": "table",
        "pivotAggregation": null,
        "pivotColumns": null,
        "xColumns": null,
        "yColumns": null
       },
       "removedWidgets": [],
       "schema": [
        {
         "metadata": "{\"isTimestampNTZ\":false,\"__CHAR_VARCHAR_TYPE_STRING\":\"varchar(2147483647)\",\"signed\":false,\"scale\":0}",
         "name": "table_catalog",
         "type": "\"string\""
        },
        {
         "metadata": "{\"isTimestampNTZ\":false,\"__CHAR_VARCHAR_TYPE_STRING\":\"varchar(2147483647)\",\"signed\":false,\"scale\":0}",
         "name": "table_schema",
         "type": "\"string\""
        },
        {
         "metadata": "{\"isTimestampNTZ\":false,\"__CHAR_VARCHAR_TYPE_STRING\":\"varchar(2147483647)\",\"signed\":false,\"scale\":0}",
         "name": "table_name",
         "type": "\"string\""
        },
        {
         "metadata": "{\"isTimestampNTZ\":false,\"__CHAR_VARCHAR_TYPE_STRING\":\"varchar(2147483647)\",\"signed\":false,\"scale\":0}",
         "name": "table_type",
         "type": "\"string\""
        },
        {
         "metadata": "{\"isTimestampNTZ\":false,\"__CHAR_VARCHAR_TYPE_STRING\":\"varchar(2147483647)\",\"signed\":false,\"scale\":0}",
         "name": "self_referencing_column_name",
         "type": "\"string\""
        },
        {
         "metadata": "{\"isTimestampNTZ\":false,\"__CHAR_VARCHAR_TYPE_STRING\":\"varchar(2147483647)\",\"signed\":false,\"scale\":0}",
         "name": "reference_generation",
         "type": "\"string\""
        },
        {
         "metadata": "{\"isTimestampNTZ\":false,\"__CHAR_VARCHAR_TYPE_STRING\":\"varchar(2147483647)\",\"signed\":false,\"scale\":0}",
         "name": "user_defined_type_catalog",
         "type": "\"string\""
        },
        {
         "metadata": "{\"isTimestampNTZ\":false,\"__CHAR_VARCHAR_TYPE_STRING\":\"varchar(2147483647)\",\"signed\":false,\"scale\":0}",
         "name": "user_defined_type_schema",
         "type": "\"string\""
        },
        {
         "metadata": "{\"isTimestampNTZ\":false,\"__CHAR_VARCHAR_TYPE_STRING\":\"varchar(2147483647)\",\"signed\":false,\"scale\":0}",
         "name": "user_defined_type_name",
         "type": "\"string\""
        },
        {
         "metadata": "{\"isTimestampNTZ\":false,\"__CHAR_VARCHAR_TYPE_STRING\":\"varchar(3)\",\"signed\":false,\"scale\":0}",
         "name": "is_insertable_into",
         "type": "\"string\""
        },
        {
         "metadata": "{\"isTimestampNTZ\":false,\"__CHAR_VARCHAR_TYPE_STRING\":\"varchar(3)\",\"signed\":false,\"scale\":0}",
         "name": "is_typed",
         "type": "\"string\""
        },
        {
         "metadata": "{\"isTimestampNTZ\":false,\"__CHAR_VARCHAR_TYPE_STRING\":\"varchar(2147483647)\",\"signed\":false,\"scale\":0}",
         "name": "commit_action",
         "type": "\"string\""
        }
       ],
       "type": "table"
      }
     },
     "output_type": "display_data"
    },
    {
     "output_type": "stream",
     "name": "stdout",
     "output_type": "stream",
     "text": [
      "Datos guardados en Azure correctamente\n"
     ]
    }
   ],
   "source": [
    "%python\n",
    "# Verificar la conexión listando tablas del sistema en Azure\n",
    "try:\n",
    "    df = spark.read.jdbc(\n",
    "        url=jdbc_url,\n",
    "        table=\"information_schema.tables\",\n",
    "        properties=connection_properties\n",
    "    )\n",
    "    display(df)\n",
    "    print(\"Datos guardados en Azure correctamente\")\n",
    "except Exception as e:\n",
    "    print(\"Error al conectar:\", e)"
   ]
  }
 ],
 "metadata": {
  "application/vnd.databricks.v1+notebook": {
   "dashboards": [],
   "environmentMetadata": {
    "base_environment": "",
    "client": "1"
   },
   "language": "python",
   "notebookMetadata": {
    "pythonIndentUnit": 4
   },
   "notebookName": "postgreSQL Pyspark",
   "widgets": {}
  },
  "language_info": {
   "name": "python"
  }
 },
 "nbformat": 4,
 "nbformat_minor": 0
}