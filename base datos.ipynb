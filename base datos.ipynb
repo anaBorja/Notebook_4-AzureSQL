{
 "cells": [
  {
   "cell_type": "code",
   "execution_count": 0,
   "metadata": {
    "application/vnd.databricks.v1+cell": {
     "cellMetadata": {
      "byteLimit": 2048000,
      "rowLimit": 10000
     },
     "inputWidgets": {},
     "nuid": "8d7e2936-384a-45ae-91f6-04d5540e5aaa",
     "showTitle": false,
     "tableResultSettingsMap": {},
     "title": ""
    }
   },
   "outputs": [
    {
     "output_type": "stream",
     "name": "stdout",
     "output_type": "stream",
     "text": [
      "+-------------+------------+--------------------+----------+----------------------------+--------------------+-------------------------+------------------------+----------------------+------------------+--------+-------------+\n|table_catalog|table_schema|          table_name|table_type|self_referencing_column_name|reference_generation|user_defined_type_catalog|user_defined_type_schema|user_defined_type_name|is_insertable_into|is_typed|commit_action|\n+-------------+------------+--------------------+----------+----------------------------+--------------------+-------------------------+------------------------+----------------------+------------------+--------+-------------+\n|     postgres|  pg_catalog|        pg_stats_ext|      VIEW|                        NULL|                NULL|                     NULL|                    NULL|                  NULL|                NO|      NO|         NULL|\n|     postgres|  pg_catalog|  pg_stats_ext_exprs|      VIEW|                        NULL|                NULL|                     NULL|                    NULL|                  NULL|                NO|      NO|         NULL|\n|     postgres|  pg_catalog|        pg_statistic|BASE TABLE|                        NULL|                NULL|                     NULL|                    NULL|                  NULL|               YES|      NO|         NULL|\n|     postgres|  pg_catalog|             pg_type|BASE TABLE|                        NULL|                NULL|                     NULL|                    NULL|                  NULL|               YES|      NO|         NULL|\n|     postgres|      public|            trayecto|BASE TABLE|                        NULL|                NULL|                     NULL|                    NULL|                  NULL|               YES|      NO|         NULL|\n|     postgres|  pg_catalog|    pg_foreign_table|BASE TABLE|                        NULL|                NULL|                     NULL|                    NULL|                  NULL|               YES|      NO|         NULL|\n|     postgres|  pg_catalog|           pg_authid|BASE TABLE|                        NULL|                NULL|                     NULL|                    NULL|                  NULL|               YES|      NO|         NULL|\n|     postgres|  pg_catalog|           pg_shadow|      VIEW|                        NULL|                NULL|                     NULL|                    NULL|                  NULL|                NO|      NO|         NULL|\n|     postgres|  pg_catalog|            pg_roles|      VIEW|                        NULL|                NULL|                     NULL|                    NULL|                  NULL|                NO|      NO|         NULL|\n|     postgres|  pg_catalog|pg_statistic_ext_...|BASE TABLE|                        NULL|                NULL|                     NULL|                    NULL|                  NULL|               YES|      NO|         NULL|\n|     postgres|  pg_catalog|   pg_hba_file_rules|      VIEW|                        NULL|                NULL|                     NULL|                    NULL|                  NULL|                NO|      NO|         NULL|\n|     postgres|  pg_catalog|         pg_settings|      VIEW|                        NULL|                NULL|                     NULL|                    NULL|                  NULL|                NO|      NO|         NULL|\n|     postgres|  pg_catalog|    pg_file_settings|      VIEW|                        NULL|                NULL|                     NULL|                    NULL|                  NULL|                NO|      NO|         NULL|\n|     postgres|  pg_catalog|pg_backend_memory...|      VIEW|                        NULL|                NULL|                     NULL|                    NULL|                  NULL|                NO|      NO|         NULL|\n|     postgres|  pg_catalog|pg_ident_file_map...|      VIEW|                        NULL|                NULL|                     NULL|                    NULL|                  NULL|                NO|      NO|         NULL|\n|     postgres|  pg_catalog|           pg_config|      VIEW|                        NULL|                NULL|                     NULL|                    NULL|                  NULL|                NO|      NO|         NULL|\n|     postgres|  pg_catalog|pg_shmem_allocations|      VIEW|                        NULL|                NULL|                     NULL|                    NULL|                  NULL|                NO|      NO|         NULL|\n|     postgres|  pg_catalog|           pg_tables|      VIEW|                        NULL|                NULL|                     NULL|                    NULL|                  NULL|                NO|      NO|         NULL|\n|     postgres|  pg_catalog|     pg_user_mapping|BASE TABLE|                        NULL|                NULL|                     NULL|                    NULL|                  NULL|               YES|      NO|         NULL|\n|     postgres|  pg_catalog|pg_replication_or...|      VIEW|                        NULL|                NULL|                     NULL|                    NULL|                  NULL|                NO|      NO|         NULL|\n+-------------+------------+--------------------+----------+----------------------------+--------------------+-------------------------+------------------------+----------------------+------------------+--------+-------------+\nonly showing top 20 rows\n\nConexión exitosa\n"
     ]
    }
   ],
   "source": [
    "# Configuración de la conexión JDBC\n",
    "jdbc_url = \"jdbc:postgresql://sample.postgres.database.azure.com:5432/postgres\"\n",
    "connection_properties = {\n",
    "    \"user\": \"adminuser\",  # Reemplaza con tu usuario\n",
    "    \"password\": \"Acbp.1995\",              # Reemplaza con tu contraseña\n",
    "    \"driver\": \"org.postgresql.Driver\"        # Controlador JDBC\n",
    "                        \n",
    "}\n",
    "\n",
    "# Verificar la conexión listando tablas del sistema (por ejemplo, en la base de datos \"postgres\")\n",
    "try:\n",
    "    # Intentar leer algo del esquema público (vacío por defecto)\n",
    "    df = spark.read.jdbc(\n",
    "        url=jdbc_url,\n",
    "        table=\"information_schema.tables\",  # Esquema del sistema para verificar tablas\n",
    "        properties=connection_properties\n",
    "    )\n",
    "\n",
    "    # Mostrar resultados (debería mostrar tablas si la conexión es correcta)\n",
    "    df.show()\n",
    "    print(\"Conexión exitosa\")\n",
    "except Exception as e:\n",
    "    print(\"Error al conectar:\", e)"
   ]
  },
  {
   "cell_type": "markdown",
   "metadata": {
    "application/vnd.databricks.v1+cell": {
     "cellMetadata": {},
     "inputWidgets": {},
     "nuid": "b0c29086-cdd7-4af1-adc1-8bbb99f34812",
     "showTitle": false,
     "tableResultSettingsMap": {},
     "title": ""
    }
   },
   "source": [
    "### ESTACION"
   ]
  },
  {
   "cell_type": "code",
   "execution_count": 0,
   "metadata": {
    "application/vnd.databricks.v1+cell": {
     "cellMetadata": {
      "byteLimit": 2048000,
      "rowLimit": 10000
     },
     "inputWidgets": {},
     "nuid": "27aeb444-7c6f-4826-9414-19cbc334ae34",
     "showTitle": false,
     "tableResultSettingsMap": {},
     "title": ""
    }
   },
   "outputs": [
    {
     "output_type": "stream",
     "name": "stdout",
     "output_type": "stream",
     "text": [
      "insert into estacion (nombre, direccion) values ('Kingsford', '24213 Debra Road');\ninsert into estacion (nombre, direccion) values ('5th', '5880 Village Green Park');\ninsert into estacion (nombre, direccion) values ('Shasta', '559 Hanover Crossing');\ninsert into estacion (nombre, direccion) values ('Eagle Crest', '025 Division Trail');\ninsert into estacion (nombre, direccion) values ('Carpenter', '52 Warner Lane');\ninsert into estacion (nombre, direccion) values ('Garrison', '6 Waxwing Court');\ninsert into estacion (nombre, direccion) values ('4th', '3 Johnson Park');\ninsert into estacion (nombre, direccion) values ('Brentwood', '20653 Buhler Plaza');\ninsert into estacion (nombre, direccion) values ('Di Loreto', '5890 Dexter Lane');\ninsert into estacion (nombre, direccion) values ('Mccormick', '824 Oxford Street');\ninsert into estacion (nombre, direccion) values ('Clarendon', '93 Elgar Court');\ninsert into estacion (nombre, direccion) values ('Village Green', '5 Elka Center');\ninsert into estacion (nombre, direccion) values ('Almo', '37 Pepper Wood Point');\ninsert into estacion (nombre, direccion) values ('Morrow', '9 Dawn Pass');\ninsert into estacion (nombre, direccion) values ('Badeau', '3 Autumn Leaf Center');\ninsert into estacion (nombre, direccion) values ('Nobel', '7 Raven Avenue');\ninsert into estacion (nombre, direccion) values ('Fremont', '6013 Oak Street');\ninsert into estacion (nombre, direccion) values ('Beilfuss', '607 Raven Terrace');\ninsert into estacion (nombre, direccion) values ('Troy', '2 Londonderry Parkway');\ninsert into estacion (nombre, direccion) values ('Lyons', '7 Portage Crossing');\ninsert into estacion (nombre, direccion) values ('Esch', '134 Warbler Plaza');\ninsert into estacion (nombre, direccion) values ('American Ash', '2 East Alley');\ninsert into estacion (nombre, direccion) values ('Melrose', '37 South Trail');\ninsert into estacion (nombre, direccion) values ('Nobel', '4 Esch Circle');\ninsert into estacion (nombre, direccion) values ('Farragut', '614 Saint Paul Parkway');\ninsert into estacion (nombre, direccion) values ('High Crossing', '0884 Oak Pass');\ninsert into estacion (nombre, direccion) values ('Oak', '4 Victoria Avenue');\ninsert into estacion (nombre, direccion) values ('Spohn', '5 Artisan Park');\ninsert into estacion (nombre, direccion) values ('Darwin', '2140 Claremont Pass');\ninsert into estacion (nombre, direccion) values ('Grim', '2970 Transport Pass');\ninsert into estacion (nombre, direccion) values ('Thackeray', '0 Brown Alley');\ninsert into estacion (nombre, direccion) values ('Debra', '29 Mallory Lane');\ninsert into estacion (nombre, direccion) values ('Hayes', '85 Nancy Center');\ninsert into estacion (nombre, direccion) values ('Kipling', '6 Eggendart Road');\ninsert into estacion (nombre, direccion) values ('Anthes', '25635 Redwing Plaza');\ninsert into estacion (nombre, direccion) values ('Jenna', '43 Meadow Vale Way');\ninsert into estacion (nombre, direccion) values ('Eastlawn', '8 Rigney Circle');\ninsert into estacion (nombre, direccion) values ('Delladonna', '6 Sutteridge Center');\ninsert into estacion (nombre, direccion) values ('Mccormick', '512 Main Road');\ninsert into estacion (nombre, direccion) values ('Johnson', '8 Ridge Oak Alley');\ninsert into estacion (nombre, direccion) values ('Kropf', '41 Loeprich Avenue');\ninsert into estacion (nombre, direccion) values ('Forest Run', '2 Park Meadow Point');\ninsert into estacion (nombre, direccion) values ('Coolidge', '81429 Mandrake Pass');\ninsert into estacion (nombre, direccion) values ('Mendota', '585 Homewood Way');\ninsert into estacion (nombre, direccion) values ('Lillian', '859 Columbus Place');\ninsert into estacion (nombre, direccion) values ('Summit', '5436 Butterfield Center');\ninsert into estacion (nombre, direccion) values ('Florence', '73836 Waxwing Court');\ninsert into estacion (nombre, direccion) values ('Melrose', '319 Northridge Junction');\ninsert into estacion (nombre, direccion) values ('Lawn', '739 Maryland Court');\ninsert into estacion (nombre, direccion) values ('Mariners Cove', '03 Sunfield Trail');\ninsert into estacion (nombre, direccion) values ('Bonner', '4 Southridge Terrace');\ninsert into estacion (nombre, direccion) values ('Cordelia', '3 Schurz Avenue');\ninsert into estacion (nombre, direccion) values ('Del Mar', '6527 Dennis Center');\ninsert into estacion (nombre, direccion) values ('Ronald Regan', '327 Lighthouse Bay Circle');\ninsert into estacion (nombre, direccion) values ('Jay', '356 Basil Hill');\ninsert into estacion (nombre, direccion) values ('Merrick', '346 Mockingbird Place');\ninsert into estacion (nombre, direccion) values ('Delaware', '838 Warbler Drive');\ninsert into estacion (nombre, direccion) values ('Anderson', '850 Westridge Point');\ninsert into estacion (nombre, direccion) values ('Loeprich', '80046 Hoepker Circle');\ninsert into estacion (nombre, direccion) values ('Blackbird', '89311 Hallows Pass');\ninsert into estacion (nombre, direccion) values ('Lien', '8 Blackbird Junction');\ninsert into estacion (nombre, direccion) values ('Eggendart', '923 Buhler Avenue');\ninsert into estacion (nombre, direccion) values ('Cambridge', '6 Carioca Road');\ninsert into estacion (nombre, direccion) values ('Oriole', '3 Darwin Center');\ninsert into estacion (nombre, direccion) values ('Homewood', '24737 7th Park');\ninsert into estacion (nombre, direccion) values ('Kropf', '3810 Dwight Avenue');\ninsert into estacion (nombre, direccion) values ('Rigney', '7318 Clyde Gallagher Circle');\ninsert into estacion (nombre, direccion) values ('Ridgeway', '14 Walton Circle');\ninsert into estacion (nombre, direccion) values ('Mallard', '03 Annamark Place');\ninsert into estacion (nombre, direccion) values ('Bayside', '39 Columbus Court');\ninsert into estacion (nombre, direccion) values ('Dixon', '0636 Upham Crossing');\ninsert into estacion (nombre, direccion) values ('1st', '790 Hanson Circle');\ninsert into estacion (nombre, direccion) values ('Warbler', '3 Crowley Junction');\ninsert into estacion (nombre, direccion) values ('8th', '01 Aberg Point');\ninsert into estacion (nombre, direccion) values ('Brown', '11615 Dryden Lane');\ninsert into estacion (nombre, direccion) values ('Anthes', '9 Rigney Street');\ninsert into estacion (nombre, direccion) values ('Kenwood', '289 Hanson Plaza');\ninsert into estacion (nombre, direccion) values ('Fieldstone', '46345 Nancy Hill');\ninsert into estacion (nombre, direccion) values ('Fieldstone', '38 Arkansas Point');\ninsert into estacion (nombre, direccion) values ('Del Mar', '3 Buena Vista Court');\ninsert into estacion (nombre, direccion) values ('Thompson', '03611 Fulton Point');\ninsert into estacion (nombre, direccion) values ('Melvin', '12 Surrey Plaza');\ninsert into estacion (nombre, direccion) values ('American Ash', '51 Forest Run Trail');\ninsert into estacion (nombre, direccion) values ('Onsgard', '4978 Magdeline Street');\ninsert into estacion (nombre, direccion) values ('Everett', '6379 Briar Crest Avenue');\ninsert into estacion (nombre, direccion) values ('Ridge Oak', '43 Pond Alley');\ninsert into estacion (nombre, direccion) values ('Mayer', '0346 Stone Corner Hill');\ninsert into estacion (nombre, direccion) values ('Weeping Birch', '06 Lillian Pass');\ninsert into estacion (nombre, direccion) values ('Longview', '72 Doe Crossing Drive');\ninsert into estacion (nombre, direccion) values ('Anniversary', '84 Hauk Way');\ninsert into estacion (nombre, direccion) values ('Fulton', '600 Goodland Road');\ninsert into estacion (nombre, direccion) values ('Moland', '0404 Fairfield Alley');\ninsert into estacion (nombre, direccion) values ('Meadow Vale', '36886 Prairie Rose Place');\ninsert into estacion (nombre, direccion) values ('Paget', '939 Cambridge Avenue');\ninsert into estacion (nombre, direccion) values ('Little Fleur', '3621 Kennedy Parkway');\ninsert into estacion (nombre, direccion) values ('Bluestem', '2 Walton Drive');\ninsert into estacion (nombre, direccion) values ('Hoepker', '15394 Duke Center');\ninsert into estacion (nombre, direccion) values ('New Castle', '72635 Ridgeview Crossing');\ninsert into estacion (nombre, direccion) values ('Ohio', '0 Florence Way');\ninsert into estacion (nombre, direccion) values ('Forest Dale', '8 Melody Park');\n\n"
     ]
    }
   ],
   "source": [
    "# Leer el archivo .sql\n",
    "with open(\"/dbfs/FileStore/tables/estacion.sql\", \"r\") as file:\n",
    "    sql_script = file.read()\n",
    "\n",
    "# Verificar el contenido del archivo\n",
    "print(sql_script)"
   ]
  },
  {
   "cell_type": "code",
   "execution_count": 0,
   "metadata": {
    "application/vnd.databricks.v1+cell": {
     "cellMetadata": {
      "byteLimit": 2048000,
      "rowLimit": 10000
     },
     "inputWidgets": {},
     "nuid": "9db0ee1d-c19b-4ee6-8bda-9f6febb57760",
     "showTitle": false,
     "tableResultSettingsMap": {},
     "title": ""
    }
   },
   "outputs": [
    {
     "output_type": "execute_result",
     "data": {
      "text/plain": [
       "DataFrame[]"
      ]
     },
     "execution_count": 7,
     "metadata": {},
     "output_type": "execute_result"
    }
   ],
   "source": [
    "# Crear la tabla 'estacion' en Databricks\n",
    "spark.sql(\"\"\"\n",
    "CREATE TABLE IF NOT EXISTS estacion (\n",
    "    nombre STRING,\n",
    "    direccion STRING\n",
    ")\n",
    "\"\"\")"
   ]
  },
  {
   "cell_type": "code",
   "execution_count": 0,
   "metadata": {
    "application/vnd.databricks.v1+cell": {
     "cellMetadata": {
      "byteLimit": 2048000,
      "rowLimit": 10000
     },
     "inputWidgets": {},
     "nuid": "1ba79377-62de-4f1d-a6b6-c9225e006d3f",
     "showTitle": false,
     "tableResultSettingsMap": {},
     "title": ""
    }
   },
   "outputs": [],
   "source": [
    "%python\n",
    "# Leer el archivo .sql\n",
    "with open(\"/dbfs/FileStore/tables/estacion.sql\", \"r\") as file:\n",
    "    sql_script = file.read()\n",
    "\n",
    "# Dividir el script en comandos individuales y excluir el último elemento vacío\n",
    "commands = sql_script.split(';')[:-1]\n",
    "\n",
    "# Ejecutar cada comando del script SQL en Databricks\n",
    "for command in commands:\n",
    "    if command.strip():\n",
    "        spark.sql(command.strip())"
   ]
  },
  {
   "cell_type": "code",
   "execution_count": 0,
   "metadata": {
    "application/vnd.databricks.v1+cell": {
     "cellMetadata": {
      "byteLimit": 2048000,
      "rowLimit": 10000
     },
     "inputWidgets": {},
     "nuid": "dff57e64-11be-4286-9a85-9b5de73ef7b1",
     "showTitle": false,
     "tableResultSettingsMap": {},
     "title": ""
    }
   },
   "outputs": [
    {
     "output_type": "display_data",
     "data": {
      "text/html": [
       "<style scoped>\n",
       "  .table-result-container {\n",
       "    max-height: 300px;\n",
       "    overflow: auto;\n",
       "  }\n",
       "  table, th, td {\n",
       "    border: 1px solid black;\n",
       "    border-collapse: collapse;\n",
       "  }\n",
       "  th, td {\n",
       "    padding: 5px;\n",
       "  }\n",
       "  th {\n",
       "    text-align: left;\n",
       "  }\n",
       "</style><div class='table-result-container'><table class='table-result'><thead style='background-color: white'><tr><th>nombre</th><th>direccion</th></tr></thead><tbody><tr><td>Ronald Regan</td><td>327 Lighthouse Bay Circle</td></tr><tr><td>Ronald Regan</td><td>327 Lighthouse Bay Circle</td></tr><tr><td>Meadow Vale</td><td>36886 Prairie Rose Place</td></tr><tr><td>Meadow Vale</td><td>36886 Prairie Rose Place</td></tr><tr><td>New Castle</td><td>72635 Ridgeview Crossing</td></tr><tr><td>New Castle</td><td>72635 Ridgeview Crossing</td></tr><tr><td>Rigney</td><td>7318 Clyde Gallagher Circle</td></tr><tr><td>Rigney</td><td>7318 Clyde Gallagher Circle</td></tr><tr><td>Little Fleur</td><td>3621 Kennedy Parkway</td></tr><tr><td>Little Fleur</td><td>3621 Kennedy Parkway</td></tr><tr><td>American Ash</td><td>51 Forest Run Trail</td></tr><tr><td>American Ash</td><td>51 Forest Run Trail</td></tr><tr><td>Mariners Cove</td><td>03 Sunfield Trail</td></tr><tr><td>Mariners Cove</td><td>03 Sunfield Trail</td></tr><tr><td>Farragut</td><td>614 Saint Paul Parkway</td></tr><tr><td>Farragut</td><td>614 Saint Paul Parkway</td></tr><tr><td>Forest Run</td><td>2 Park Meadow Point</td></tr><tr><td>Forest Run</td><td>2 Park Meadow Point</td></tr><tr><td>Melrose</td><td>319 Northridge Junction</td></tr><tr><td>Melrose</td><td>319 Northridge Junction</td></tr><tr><td>Eagle Crest</td><td>025 Division Trail</td></tr><tr><td>Eagle Crest</td><td>025 Division Trail</td></tr><tr><td>Everett</td><td>6379 Briar Crest Avenue</td></tr><tr><td>Everett</td><td>6379 Briar Crest Avenue</td></tr><tr><td>Delladonna</td><td>6 Sutteridge Center</td></tr><tr><td>Delladonna</td><td>6 Sutteridge Center</td></tr><tr><td>Longview</td><td>72 Doe Crossing Drive</td></tr><tr><td>Longview</td><td>72 Doe Crossing Drive</td></tr><tr><td>Summit</td><td>5436 Butterfield Center</td></tr><tr><td>Summit</td><td>5436 Butterfield Center</td></tr><tr><td>Weeping Birch</td><td>06 Lillian Pass</td></tr><tr><td>Weeping Birch</td><td>06 Lillian Pass</td></tr><tr><td>Loeprich</td><td>80046 Hoepker Circle</td></tr><tr><td>Loeprich</td><td>80046 Hoepker Circle</td></tr><tr><td>Onsgard</td><td>4978 Magdeline Street</td></tr><tr><td>Merrick</td><td>346 Mockingbird Place</td></tr><tr><td>Merrick</td><td>346 Mockingbird Place</td></tr><tr><td>Onsgard</td><td>4978 Magdeline Street</td></tr><tr><td>Fieldstone</td><td>38 Arkansas Point</td></tr><tr><td>Fieldstone</td><td>38 Arkansas Point</td></tr><tr><td>Brentwood</td><td>20653 Buhler Plaza</td></tr><tr><td>Blackbird</td><td>89311 Hallows Pass</td></tr><tr><td>Brentwood</td><td>20653 Buhler Plaza</td></tr><tr><td>Blackbird</td><td>89311 Hallows Pass</td></tr><tr><td>Coolidge</td><td>81429 Mandrake Pass</td></tr><tr><td>Coolidge</td><td>81429 Mandrake Pass</td></tr><tr><td>Florence</td><td>73836 Waxwing Court</td></tr><tr><td>Florence</td><td>73836 Waxwing Court</td></tr><tr><td>Anderson</td><td>850 Westridge Point</td></tr><tr><td>Anderson</td><td>850 Westridge Point</td></tr><tr><td>Mayer</td><td>0346 Stone Corner Hill</td></tr><tr><td>Mayer</td><td>0346 Stone Corner Hill</td></tr><tr><td>Village Green</td><td>5 Elka Center</td></tr><tr><td>Fieldstone</td><td>46345 Nancy Hill</td></tr><tr><td>Fieldstone</td><td>46345 Nancy Hill</td></tr><tr><td>High Crossing</td><td>0884 Oak Pass</td></tr><tr><td>High Crossing</td><td>0884 Oak Pass</td></tr><tr><td>Village Green</td><td>5 Elka Center</td></tr><tr><td>Eggendart</td><td>923 Buhler Avenue</td></tr><tr><td>Mccormick</td><td>824 Oxford Street</td></tr><tr><td>Eggendart</td><td>923 Buhler Avenue</td></tr><tr><td>Mccormick</td><td>824 Oxford Street</td></tr><tr><td>Thompson</td><td>03611 Fulton Point</td></tr><tr><td>Thompson</td><td>03611 Fulton Point</td></tr><tr><td>Shasta</td><td>559 Hanover Crossing</td></tr><tr><td>Del Mar</td><td>3 Buena Vista Court</td></tr><tr><td>Badeau</td><td>3 Autumn Leaf Center</td></tr><tr><td>5th</td><td>5880 Village Green Park</td></tr><tr><td>Del Mar</td><td>3 Buena Vista Court</td></tr><tr><td>5th</td><td>5880 Village Green Park</td></tr><tr><td>Moland</td><td>0404 Fairfield Alley</td></tr><tr><td>Bonner</td><td>4 Southridge Terrace</td></tr><tr><td>Badeau</td><td>3 Autumn Leaf Center</td></tr><tr><td>Shasta</td><td>559 Hanover Crossing</td></tr><tr><td>Bonner</td><td>4 Southridge Terrace</td></tr><tr><td>Moland</td><td>0404 Fairfield Alley</td></tr><tr><td>Kingsford</td><td>24213 Debra Road</td></tr><tr><td>Kingsford</td><td>24213 Debra Road</td></tr><tr><td>Beilfuss</td><td>607 Raven Terrace</td></tr><tr><td>Delaware</td><td>838 Warbler Drive</td></tr><tr><td>Beilfuss</td><td>607 Raven Terrace</td></tr><tr><td>Delaware</td><td>838 Warbler Drive</td></tr><tr><td>Di Loreto</td><td>5890 Dexter Lane</td></tr><tr><td>Di Loreto</td><td>5890 Dexter Lane</td></tr><tr><td>Lillian</td><td>859 Columbus Place</td></tr><tr><td>Darwin</td><td>2140 Claremont Pass</td></tr><tr><td>Anthes</td><td>25635 Redwing Plaza</td></tr><tr><td>Warbler</td><td>3 Crowley Junction</td></tr><tr><td>Warbler</td><td>3 Crowley Junction</td></tr><tr><td>Del Mar</td><td>6527 Dennis Center</td></tr><tr><td>Darwin</td><td>2140 Claremont Pass</td></tr><tr><td>Del Mar</td><td>6527 Dennis Center</td></tr><tr><td>Troy</td><td>2 Londonderry Parkway</td></tr><tr><td>Anthes</td><td>25635 Redwing Plaza</td></tr><tr><td>Paget</td><td>939 Cambridge Avenue</td></tr><tr><td>Lillian</td><td>859 Columbus Place</td></tr><tr><td>Troy</td><td>2 Londonderry Parkway</td></tr><tr><td>Paget</td><td>939 Cambridge Avenue</td></tr><tr><td>American Ash</td><td>2 East Alley</td></tr><tr><td>American Ash</td><td>2 East Alley</td></tr><tr><td>Forest Dale</td><td>8 Melody Park</td></tr><tr><td>Forest Dale</td><td>8 Melody Park</td></tr><tr><td>Ridgeway</td><td>14 Walton Circle</td></tr><tr><td>Ridgeway</td><td>14 Walton Circle</td></tr><tr><td>Mallard</td><td>03 Annamark Place</td></tr><tr><td>Lien</td><td>8 Blackbird Junction</td></tr><tr><td>Lien</td><td>8 Blackbird Junction</td></tr><tr><td>Johnson</td><td>8 Ridge Oak Alley</td></tr><tr><td>Bayside</td><td>39 Columbus Court</td></tr><tr><td>Almo</td><td>37 Pepper Wood Point</td></tr><tr><td>Mallard</td><td>03 Annamark Place</td></tr><tr><td>Bayside</td><td>39 Columbus Court</td></tr><tr><td>Almo</td><td>37 Pepper Wood Point</td></tr><tr><td>Hoepker</td><td>15394 Duke Center</td></tr><tr><td>Johnson</td><td>8 Ridge Oak Alley</td></tr><tr><td>Hoepker</td><td>15394 Duke Center</td></tr><tr><td>Dixon</td><td>0636 Upham Crossing</td></tr><tr><td>Dixon</td><td>0636 Upham Crossing</td></tr><tr><td>Carpenter</td><td>52 Warner Lane</td></tr><tr><td>Cambridge</td><td>6 Carioca Road</td></tr><tr><td>Carpenter</td><td>52 Warner Lane</td></tr><tr><td>Clarendon</td><td>93 Elgar Court</td></tr><tr><td>Clarendon</td><td>93 Elgar Court</td></tr><tr><td>Cambridge</td><td>6 Carioca Road</td></tr><tr><td>Eastlawn</td><td>8 Rigney Circle</td></tr><tr><td>Garrison</td><td>6 Waxwing Court</td></tr><tr><td>Cordelia</td><td>3 Schurz Avenue</td></tr><tr><td>Cordelia</td><td>3 Schurz Avenue</td></tr><tr><td>Garrison</td><td>6 Waxwing Court</td></tr><tr><td>Eastlawn</td><td>8 Rigney Circle</td></tr><tr><td>Jenna</td><td>43 Meadow Vale Way</td></tr><tr><td>Lyons</td><td>7 Portage Crossing</td></tr><tr><td>Fulton</td><td>600 Goodland Road</td></tr><tr><td>Kipling</td><td>6 Eggendart Road</td></tr><tr><td>Kropf</td><td>41 Loeprich Avenue</td></tr><tr><td>Kropf</td><td>41 Loeprich Avenue</td></tr><tr><td>Kropf</td><td>3810 Dwight Avenue</td></tr><tr><td>Lyons</td><td>7 Portage Crossing</td></tr><tr><td>Kipling</td><td>6 Eggendart Road</td></tr><tr><td>Jenna</td><td>43 Meadow Vale Way</td></tr><tr><td>Kropf</td><td>3810 Dwight Avenue</td></tr><tr><td>Fulton</td><td>600 Goodland Road</td></tr><tr><td>Grim</td><td>2970 Transport Pass</td></tr><tr><td>Kenwood</td><td>289 Hanson Plaza</td></tr><tr><td>Kenwood</td><td>289 Hanson Plaza</td></tr><tr><td>Anniversary</td><td>84 Hauk Way</td></tr><tr><td>Mendota</td><td>585 Homewood Way</td></tr><tr><td>Mendota</td><td>585 Homewood Way</td></tr><tr><td>Grim</td><td>2970 Transport Pass</td></tr><tr><td>Anniversary</td><td>84 Hauk Way</td></tr><tr><td>Thackeray</td><td>0 Brown Alley</td></tr><tr><td>Mccormick</td><td>512 Main Road</td></tr><tr><td>Ridge Oak</td><td>43 Pond Alley</td></tr><tr><td>Thackeray</td><td>0 Brown Alley</td></tr><tr><td>Mccormick</td><td>512 Main Road</td></tr><tr><td>Ridge Oak</td><td>43 Pond Alley</td></tr><tr><td>Homewood</td><td>24737 7th Park</td></tr><tr><td>Homewood</td><td>24737 7th Park</td></tr><tr><td>Bluestem</td><td>2 Walton Drive</td></tr><tr><td>Bluestem</td><td>2 Walton Drive</td></tr><tr><td>Brown</td><td>11615 Dryden Lane</td></tr><tr><td>Lawn</td><td>739 Maryland Court</td></tr><tr><td>Lawn</td><td>739 Maryland Court</td></tr><tr><td>Fremont</td><td>6013 Oak Street</td></tr><tr><td>Brown</td><td>11615 Dryden Lane</td></tr><tr><td>Fremont</td><td>6013 Oak Street</td></tr><tr><td>Esch</td><td>134 Warbler Plaza</td></tr><tr><td>Esch</td><td>134 Warbler Plaza</td></tr><tr><td>Melrose</td><td>37 South Trail</td></tr><tr><td>Anthes</td><td>9 Rigney Street</td></tr><tr><td>Anthes</td><td>9 Rigney Street</td></tr><tr><td>Melrose</td><td>37 South Trail</td></tr><tr><td>Melvin</td><td>12 Surrey Plaza</td></tr><tr><td>Melvin</td><td>12 Surrey Plaza</td></tr><tr><td>Oriole</td><td>3 Darwin Center</td></tr><tr><td>Oriole</td><td>3 Darwin Center</td></tr><tr><td>Hayes</td><td>85 Nancy Center</td></tr><tr><td>Hayes</td><td>85 Nancy Center</td></tr><tr><td>Debra</td><td>29 Mallory Lane</td></tr><tr><td>1st</td><td>790 Hanson Circle</td></tr><tr><td>Debra</td><td>29 Mallory Lane</td></tr><tr><td>Oak</td><td>4 Victoria Avenue</td></tr><tr><td>Oak</td><td>4 Victoria Avenue</td></tr><tr><td>1st</td><td>790 Hanson Circle</td></tr><tr><td>Spohn</td><td>5 Artisan Park</td></tr><tr><td>Spohn</td><td>5 Artisan Park</td></tr><tr><td>Nobel</td><td>7 Raven Avenue</td></tr><tr><td>Nobel</td><td>7 Raven Avenue</td></tr><tr><td>Nobel</td><td>4 Esch Circle</td></tr><tr><td>Nobel</td><td>4 Esch Circle</td></tr><tr><td>Ohio</td><td>0 Florence Way</td></tr><tr><td>Ohio</td><td>0 Florence Way</td></tr><tr><td>Morrow</td><td>9 Dawn Pass</td></tr><tr><td>8th</td><td>01 Aberg Point</td></tr><tr><td>Jay</td><td>356 Basil Hill</td></tr><tr><td>4th</td><td>3 Johnson Park</td></tr><tr><td>8th</td><td>01 Aberg Point</td></tr><tr><td>4th</td><td>3 Johnson Park</td></tr><tr><td>Morrow</td><td>9 Dawn Pass</td></tr><tr><td>Jay</td><td>356 Basil Hill</td></tr></tbody></table></div>"
      ]
     },
     "metadata": {
      "application/vnd.databricks.v1+output": {
       "addedWidgets": {},
       "aggData": [],
       "aggError": "",
       "aggOverflow": false,
       "aggSchema": [],
       "aggSeriesLimitReached": false,
       "aggType": "",
       "arguments": {},
       "columnCustomDisplayInfos": {},
       "data": [
        [
         "Ronald Regan",
         "327 Lighthouse Bay Circle"
        ],
        [
         "Ronald Regan",
         "327 Lighthouse Bay Circle"
        ],
        [
         "Meadow Vale",
         "36886 Prairie Rose Place"
        ],
        [
         "Meadow Vale",
         "36886 Prairie Rose Place"
        ],
        [
         "New Castle",
         "72635 Ridgeview Crossing"
        ],
        [
         "New Castle",
         "72635 Ridgeview Crossing"
        ],
        [
         "Rigney",
         "7318 Clyde Gallagher Circle"
        ],
        [
         "Rigney",
         "7318 Clyde Gallagher Circle"
        ],
        [
         "Little Fleur",
         "3621 Kennedy Parkway"
        ],
        [
         "Little Fleur",
         "3621 Kennedy Parkway"
        ],
        [
         "American Ash",
         "51 Forest Run Trail"
        ],
        [
         "American Ash",
         "51 Forest Run Trail"
        ],
        [
         "Mariners Cove",
         "03 Sunfield Trail"
        ],
        [
         "Mariners Cove",
         "03 Sunfield Trail"
        ],
        [
         "Farragut",
         "614 Saint Paul Parkway"
        ],
        [
         "Farragut",
         "614 Saint Paul Parkway"
        ],
        [
         "Forest Run",
         "2 Park Meadow Point"
        ],
        [
         "Forest Run",
         "2 Park Meadow Point"
        ],
        [
         "Melrose",
         "319 Northridge Junction"
        ],
        [
         "Melrose",
         "319 Northridge Junction"
        ],
        [
         "Eagle Crest",
         "025 Division Trail"
        ],
        [
         "Eagle Crest",
         "025 Division Trail"
        ],
        [
         "Everett",
         "6379 Briar Crest Avenue"
        ],
        [
         "Everett",
         "6379 Briar Crest Avenue"
        ],
        [
         "Delladonna",
         "6 Sutteridge Center"
        ],
        [
         "Delladonna",
         "6 Sutteridge Center"
        ],
        [
         "Longview",
         "72 Doe Crossing Drive"
        ],
        [
         "Longview",
         "72 Doe Crossing Drive"
        ],
        [
         "Summit",
         "5436 Butterfield Center"
        ],
        [
         "Summit",
         "5436 Butterfield Center"
        ],
        [
         "Weeping Birch",
         "06 Lillian Pass"
        ],
        [
         "Weeping Birch",
         "06 Lillian Pass"
        ],
        [
         "Loeprich",
         "80046 Hoepker Circle"
        ],
        [
         "Loeprich",
         "80046 Hoepker Circle"
        ],
        [
         "Onsgard",
         "4978 Magdeline Street"
        ],
        [
         "Merrick",
         "346 Mockingbird Place"
        ],
        [
         "Merrick",
         "346 Mockingbird Place"
        ],
        [
         "Onsgard",
         "4978 Magdeline Street"
        ],
        [
         "Fieldstone",
         "38 Arkansas Point"
        ],
        [
         "Fieldstone",
         "38 Arkansas Point"
        ],
        [
         "Brentwood",
         "20653 Buhler Plaza"
        ],
        [
         "Blackbird",
         "89311 Hallows Pass"
        ],
        [
         "Brentwood",
         "20653 Buhler Plaza"
        ],
        [
         "Blackbird",
         "89311 Hallows Pass"
        ],
        [
         "Coolidge",
         "81429 Mandrake Pass"
        ],
        [
         "Coolidge",
         "81429 Mandrake Pass"
        ],
        [
         "Florence",
         "73836 Waxwing Court"
        ],
        [
         "Florence",
         "73836 Waxwing Court"
        ],
        [
         "Anderson",
         "850 Westridge Point"
        ],
        [
         "Anderson",
         "850 Westridge Point"
        ],
        [
         "Mayer",
         "0346 Stone Corner Hill"
        ],
        [
         "Mayer",
         "0346 Stone Corner Hill"
        ],
        [
         "Village Green",
         "5 Elka Center"
        ],
        [
         "Fieldstone",
         "46345 Nancy Hill"
        ],
        [
         "Fieldstone",
         "46345 Nancy Hill"
        ],
        [
         "High Crossing",
         "0884 Oak Pass"
        ],
        [
         "High Crossing",
         "0884 Oak Pass"
        ],
        [
         "Village Green",
         "5 Elka Center"
        ],
        [
         "Eggendart",
         "923 Buhler Avenue"
        ],
        [
         "Mccormick",
         "824 Oxford Street"
        ],
        [
         "Eggendart",
         "923 Buhler Avenue"
        ],
        [
         "Mccormick",
         "824 Oxford Street"
        ],
        [
         "Thompson",
         "03611 Fulton Point"
        ],
        [
         "Thompson",
         "03611 Fulton Point"
        ],
        [
         "Shasta",
         "559 Hanover Crossing"
        ],
        [
         "Del Mar",
         "3 Buena Vista Court"
        ],
        [
         "Badeau",
         "3 Autumn Leaf Center"
        ],
        [
         "5th",
         "5880 Village Green Park"
        ],
        [
         "Del Mar",
         "3 Buena Vista Court"
        ],
        [
         "5th",
         "5880 Village Green Park"
        ],
        [
         "Moland",
         "0404 Fairfield Alley"
        ],
        [
         "Bonner",
         "4 Southridge Terrace"
        ],
        [
         "Badeau",
         "3 Autumn Leaf Center"
        ],
        [
         "Shasta",
         "559 Hanover Crossing"
        ],
        [
         "Bonner",
         "4 Southridge Terrace"
        ],
        [
         "Moland",
         "0404 Fairfield Alley"
        ],
        [
         "Kingsford",
         "24213 Debra Road"
        ],
        [
         "Kingsford",
         "24213 Debra Road"
        ],
        [
         "Beilfuss",
         "607 Raven Terrace"
        ],
        [
         "Delaware",
         "838 Warbler Drive"
        ],
        [
         "Beilfuss",
         "607 Raven Terrace"
        ],
        [
         "Delaware",
         "838 Warbler Drive"
        ],
        [
         "Di Loreto",
         "5890 Dexter Lane"
        ],
        [
         "Di Loreto",
         "5890 Dexter Lane"
        ],
        [
         "Lillian",
         "859 Columbus Place"
        ],
        [
         "Darwin",
         "2140 Claremont Pass"
        ],
        [
         "Anthes",
         "25635 Redwing Plaza"
        ],
        [
         "Warbler",
         "3 Crowley Junction"
        ],
        [
         "Warbler",
         "3 Crowley Junction"
        ],
        [
         "Del Mar",
         "6527 Dennis Center"
        ],
        [
         "Darwin",
         "2140 Claremont Pass"
        ],
        [
         "Del Mar",
         "6527 Dennis Center"
        ],
        [
         "Troy",
         "2 Londonderry Parkway"
        ],
        [
         "Anthes",
         "25635 Redwing Plaza"
        ],
        [
         "Paget",
         "939 Cambridge Avenue"
        ],
        [
         "Lillian",
         "859 Columbus Place"
        ],
        [
         "Troy",
         "2 Londonderry Parkway"
        ],
        [
         "Paget",
         "939 Cambridge Avenue"
        ],
        [
         "American Ash",
         "2 East Alley"
        ],
        [
         "American Ash",
         "2 East Alley"
        ],
        [
         "Forest Dale",
         "8 Melody Park"
        ],
        [
         "Forest Dale",
         "8 Melody Park"
        ],
        [
         "Ridgeway",
         "14 Walton Circle"
        ],
        [
         "Ridgeway",
         "14 Walton Circle"
        ],
        [
         "Mallard",
         "03 Annamark Place"
        ],
        [
         "Lien",
         "8 Blackbird Junction"
        ],
        [
         "Lien",
         "8 Blackbird Junction"
        ],
        [
         "Johnson",
         "8 Ridge Oak Alley"
        ],
        [
         "Bayside",
         "39 Columbus Court"
        ],
        [
         "Almo",
         "37 Pepper Wood Point"
        ],
        [
         "Mallard",
         "03 Annamark Place"
        ],
        [
         "Bayside",
         "39 Columbus Court"
        ],
        [
         "Almo",
         "37 Pepper Wood Point"
        ],
        [
         "Hoepker",
         "15394 Duke Center"
        ],
        [
         "Johnson",
         "8 Ridge Oak Alley"
        ],
        [
         "Hoepker",
         "15394 Duke Center"
        ],
        [
         "Dixon",
         "0636 Upham Crossing"
        ],
        [
         "Dixon",
         "0636 Upham Crossing"
        ],
        [
         "Carpenter",
         "52 Warner Lane"
        ],
        [
         "Cambridge",
         "6 Carioca Road"
        ],
        [
         "Carpenter",
         "52 Warner Lane"
        ],
        [
         "Clarendon",
         "93 Elgar Court"
        ],
        [
         "Clarendon",
         "93 Elgar Court"
        ],
        [
         "Cambridge",
         "6 Carioca Road"
        ],
        [
         "Eastlawn",
         "8 Rigney Circle"
        ],
        [
         "Garrison",
         "6 Waxwing Court"
        ],
        [
         "Cordelia",
         "3 Schurz Avenue"
        ],
        [
         "Cordelia",
         "3 Schurz Avenue"
        ],
        [
         "Garrison",
         "6 Waxwing Court"
        ],
        [
         "Eastlawn",
         "8 Rigney Circle"
        ],
        [
         "Jenna",
         "43 Meadow Vale Way"
        ],
        [
         "Lyons",
         "7 Portage Crossing"
        ],
        [
         "Fulton",
         "600 Goodland Road"
        ],
        [
         "Kipling",
         "6 Eggendart Road"
        ],
        [
         "Kropf",
         "41 Loeprich Avenue"
        ],
        [
         "Kropf",
         "41 Loeprich Avenue"
        ],
        [
         "Kropf",
         "3810 Dwight Avenue"
        ],
        [
         "Lyons",
         "7 Portage Crossing"
        ],
        [
         "Kipling",
         "6 Eggendart Road"
        ],
        [
         "Jenna",
         "43 Meadow Vale Way"
        ],
        [
         "Kropf",
         "3810 Dwight Avenue"
        ],
        [
         "Fulton",
         "600 Goodland Road"
        ],
        [
         "Grim",
         "2970 Transport Pass"
        ],
        [
         "Kenwood",
         "289 Hanson Plaza"
        ],
        [
         "Kenwood",
         "289 Hanson Plaza"
        ],
        [
         "Anniversary",
         "84 Hauk Way"
        ],
        [
         "Mendota",
         "585 Homewood Way"
        ],
        [
         "Mendota",
         "585 Homewood Way"
        ],
        [
         "Grim",
         "2970 Transport Pass"
        ],
        [
         "Anniversary",
         "84 Hauk Way"
        ],
        [
         "Thackeray",
         "0 Brown Alley"
        ],
        [
         "Mccormick",
         "512 Main Road"
        ],
        [
         "Ridge Oak",
         "43 Pond Alley"
        ],
        [
         "Thackeray",
         "0 Brown Alley"
        ],
        [
         "Mccormick",
         "512 Main Road"
        ],
        [
         "Ridge Oak",
         "43 Pond Alley"
        ],
        [
         "Homewood",
         "24737 7th Park"
        ],
        [
         "Homewood",
         "24737 7th Park"
        ],
        [
         "Bluestem",
         "2 Walton Drive"
        ],
        [
         "Bluestem",
         "2 Walton Drive"
        ],
        [
         "Brown",
         "11615 Dryden Lane"
        ],
        [
         "Lawn",
         "739 Maryland Court"
        ],
        [
         "Lawn",
         "739 Maryland Court"
        ],
        [
         "Fremont",
         "6013 Oak Street"
        ],
        [
         "Brown",
         "11615 Dryden Lane"
        ],
        [
         "Fremont",
         "6013 Oak Street"
        ],
        [
         "Esch",
         "134 Warbler Plaza"
        ],
        [
         "Esch",
         "134 Warbler Plaza"
        ],
        [
         "Melrose",
         "37 South Trail"
        ],
        [
         "Anthes",
         "9 Rigney Street"
        ],
        [
         "Anthes",
         "9 Rigney Street"
        ],
        [
         "Melrose",
         "37 South Trail"
        ],
        [
         "Melvin",
         "12 Surrey Plaza"
        ],
        [
         "Melvin",
         "12 Surrey Plaza"
        ],
        [
         "Oriole",
         "3 Darwin Center"
        ],
        [
         "Oriole",
         "3 Darwin Center"
        ],
        [
         "Hayes",
         "85 Nancy Center"
        ],
        [
         "Hayes",
         "85 Nancy Center"
        ],
        [
         "Debra",
         "29 Mallory Lane"
        ],
        [
         "1st",
         "790 Hanson Circle"
        ],
        [
         "Debra",
         "29 Mallory Lane"
        ],
        [
         "Oak",
         "4 Victoria Avenue"
        ],
        [
         "Oak",
         "4 Victoria Avenue"
        ],
        [
         "1st",
         "790 Hanson Circle"
        ],
        [
         "Spohn",
         "5 Artisan Park"
        ],
        [
         "Spohn",
         "5 Artisan Park"
        ],
        [
         "Nobel",
         "7 Raven Avenue"
        ],
        [
         "Nobel",
         "7 Raven Avenue"
        ],
        [
         "Nobel",
         "4 Esch Circle"
        ],
        [
         "Nobel",
         "4 Esch Circle"
        ],
        [
         "Ohio",
         "0 Florence Way"
        ],
        [
         "Ohio",
         "0 Florence Way"
        ],
        [
         "Morrow",
         "9 Dawn Pass"
        ],
        [
         "8th",
         "01 Aberg Point"
        ],
        [
         "Jay",
         "356 Basil Hill"
        ],
        [
         "4th",
         "3 Johnson Park"
        ],
        [
         "8th",
         "01 Aberg Point"
        ],
        [
         "4th",
         "3 Johnson Park"
        ],
        [
         "Morrow",
         "9 Dawn Pass"
        ],
        [
         "Jay",
         "356 Basil Hill"
        ]
       ],
       "datasetInfos": [],
       "dbfsResultPath": null,
       "isJsonSchema": true,
       "metadata": {},
       "overflow": false,
       "plotOptions": {
        "customPlotOptions": {},
        "displayType": "table",
        "pivotAggregation": null,
        "pivotColumns": null,
        "xColumns": null,
        "yColumns": null
       },
       "removedWidgets": [],
       "schema": [
        {
         "metadata": "{}",
         "name": "nombre",
         "type": "\"string\""
        },
        {
         "metadata": "{}",
         "name": "direccion",
         "type": "\"string\""
        }
       ],
       "type": "table"
      }
     },
     "output_type": "display_data"
    }
   ],
   "source": [
    "%python\n",
    "# Mostrar los datos insertados en la tabla 'estacion'\n",
    "df = spark.sql(\"SELECT * FROM estacion\")\n",
    "display(df)"
   ]
  },
  {
   "cell_type": "code",
   "execution_count": 0,
   "metadata": {
    "application/vnd.databricks.v1+cell": {
     "cellMetadata": {
      "byteLimit": 2048000,
      "rowLimit": 10000
     },
     "inputWidgets": {},
     "nuid": "6c90c0f9-b55c-4cab-9eca-79bce0438ef2",
     "showTitle": false,
     "tableResultSettingsMap": {},
     "title": ""
    }
   },
   "outputs": [],
   "source": [
    "%python\n",
    "# Configuración de la conexión JDBC a Azure\n",
    "jdbc_url = \"jdbc:postgresql://sample.postgres.database.azure.com:5432/postgres\"\n",
    "connection_properties = {\n",
    "    \"user\": \"adminuser\",  # Reemplaza con tu usuario\n",
    "    \"password\": \"Acbp.1995\",  # Reemplaza con tu contraseña\n",
    "    \"driver\": \"org.postgresql.Driver\"  # Controlador JDBC\n",
    "}\n",
    "\n",
    "# Guardar la tabla 'trayecto' en Azure\n",
    "df.write.jdbc(\n",
    "    url=jdbc_url,\n",
    "    table=\"estacion\", #cambiaa con el nombre de la tabla que creaste\n",
    "    mode=\"overwrite\",\n",
    "    properties=connection_properties\n",
    ")"
   ]
  },
  {
   "cell_type": "code",
   "execution_count": 0,
   "metadata": {
    "application/vnd.databricks.v1+cell": {
     "cellMetadata": {
      "byteLimit": 2048000,
      "rowLimit": 10000
     },
     "inputWidgets": {},
     "nuid": "3139f955-3f42-49e6-800d-0e149d9c3868",
     "showTitle": false,
     "tableResultSettingsMap": {},
     "title": ""
    }
   },
   "outputs": [
    {
     "output_type": "display_data",
     "data": {
      "text/html": [
       "<style scoped>\n",
       "  .table-result-container {\n",
       "    max-height: 300px;\n",
       "    overflow: auto;\n",
       "  }\n",
       "  table, th, td {\n",
       "    border: 1px solid black;\n",
       "    border-collapse: collapse;\n",
       "  }\n",
       "  th, td {\n",
       "    padding: 5px;\n",
       "  }\n",
       "  th {\n",
       "    text-align: left;\n",
       "  }\n",
       "</style><div class='table-result-container'><table class='table-result'><thead style='background-color: white'><tr><th>id_pasajero</th><th>id_trayecto</th><th>inicio</th><th>fin</th></tr></thead><tbody><tr><td>47</td><td>283</td><td>2018-05-20T21:27:12Z</td><td>2018-08-31T08:27:52Z</td></tr><tr><td>100</td><td>299</td><td>2019-03-09T14:11:15Z</td><td>2020-11-27T13:14:58Z</td></tr><tr><td>79</td><td>277</td><td>2017-04-08T23:24:33Z</td><td>2018-10-15T16:12:30Z</td></tr><tr><td>47</td><td>283</td><td>2018-05-20T21:27:12Z</td><td>2018-08-31T08:27:52Z</td></tr><tr><td>76</td><td>365</td><td>2016-09-12T11:30:51Z</td><td>2020-02-02T11:21:04Z</td></tr><tr><td>72</td><td>311</td><td>2018-10-01T11:21:01Z</td><td>2018-03-23T08:47:01Z</td></tr><tr><td>42</td><td>333</td><td>2017-07-09T08:26:06Z</td><td>2020-03-11T13:10:35Z</td></tr><tr><td>52</td><td>289</td><td>2017-03-06T01:10:45Z</td><td>2019-01-07T18:46:53Z</td></tr><tr><td>6</td><td>288</td><td>2018-04-28T00:25:20Z</td><td>2016-04-16T19:11:05Z</td></tr><tr><td>31</td><td>320</td><td>2020-06-18T06:44:30Z</td><td>2017-12-03T20:46:59Z</td></tr><tr><td>93</td><td>349</td><td>2020-09-14T07:09:21Z</td><td>2017-08-06T23:28:43Z</td></tr><tr><td>61</td><td>323</td><td>2017-03-31T06:31:29Z</td><td>2017-10-24T06:59:17Z</td></tr><tr><td>84</td><td>357</td><td>2018-07-14T00:26:41Z</td><td>2019-07-11T03:22:08Z</td></tr><tr><td>21</td><td>283</td><td>2016-05-11T08:56:18Z</td><td>2019-06-08T09:37:16Z</td></tr><tr><td>11</td><td>351</td><td>2020-07-04T02:12:18Z</td><td>2020-12-09T00:47:52Z</td></tr><tr><td>11</td><td>319</td><td>2016-05-09T22:11:01Z</td><td>2019-11-24T08:01:30Z</td></tr><tr><td>12</td><td>338</td><td>2020-03-20T05:09:40Z</td><td>2019-07-02T13:02:08Z</td></tr><tr><td>39</td><td>298</td><td>2019-02-11T10:38:45Z</td><td>2017-07-07T06:08:41Z</td></tr><tr><td>37</td><td>320</td><td>2017-08-06T16:32:28Z</td><td>2017-03-29T15:41:16Z</td></tr><tr><td>39</td><td>274</td><td>2019-03-28T00:24:27Z</td><td>2021-01-16T17:45:55Z</td></tr><tr><td>76</td><td>365</td><td>2016-09-12T11:30:51Z</td><td>2020-02-02T11:21:04Z</td></tr><tr><td>79</td><td>277</td><td>2017-04-08T23:24:33Z</td><td>2018-10-15T16:12:30Z</td></tr><tr><td>77</td><td>288</td><td>2016-10-27T05:32:22Z</td><td>2018-05-10T01:37:22Z</td></tr><tr><td>92</td><td>345</td><td>2020-01-15T22:54:32Z</td><td>2018-05-03T01:15:50Z</td></tr><tr><td>89</td><td>358</td><td>2019-10-18T20:40:47Z</td><td>2020-06-28T12:03:02Z</td></tr><tr><td>4</td><td>343</td><td>2017-05-09T07:28:34Z</td><td>2016-07-22T19:20:38Z</td></tr><tr><td>57</td><td>328</td><td>2018-05-18T20:46:21Z</td><td>2016-05-28T13:57:10Z</td></tr><tr><td>93</td><td>349</td><td>2020-09-14T07:09:21Z</td><td>2017-08-06T23:28:43Z</td></tr><tr><td>20</td><td>360</td><td>2016-11-19T15:59:33Z</td><td>2016-06-21T00:59:20Z</td></tr><tr><td>13</td><td>287</td><td>2019-01-10T09:47:19Z</td><td>2017-12-08T19:25:40Z</td></tr><tr><td>100</td><td>308</td><td>2018-07-28T17:16:07Z</td><td>2020-02-13T10:17:32Z</td></tr><tr><td>56</td><td>362</td><td>2020-08-04T01:32:40Z</td><td>2018-04-22T07:19:47Z</td></tr><tr><td>57</td><td>328</td><td>2018-05-18T20:46:21Z</td><td>2016-05-28T13:57:10Z</td></tr><tr><td>29</td><td>317</td><td>2018-08-12T07:59:39Z</td><td>2018-12-10T11:41:09Z</td></tr><tr><td>36</td><td>346</td><td>2016-09-16T14:54:04Z</td><td>2016-03-31T13:42:33Z</td></tr><tr><td>97</td><td>315</td><td>2017-09-06T15:37:14Z</td><td>2017-10-25T06:41:06Z</td></tr><tr><td>72</td><td>311</td><td>2018-10-01T11:21:01Z</td><td>2018-03-23T08:47:01Z</td></tr><tr><td>12</td><td>338</td><td>2020-03-20T05:09:40Z</td><td>2019-07-02T13:02:08Z</td></tr><tr><td>76</td><td>308</td><td>2018-03-03T01:42:07Z</td><td>2019-07-23T09:48:20Z</td></tr><tr><td>89</td><td>358</td><td>2019-10-18T20:40:47Z</td><td>2020-06-28T12:03:02Z</td></tr><tr><td>77</td><td>370</td><td>2017-09-20T18:24:32Z</td><td>2016-09-08T09:34:06Z</td></tr><tr><td>14</td><td>356</td><td>2018-12-31T09:05:39Z</td><td>2016-11-17T18:35:57Z</td></tr><tr><td>6</td><td>288</td><td>2018-04-28T00:25:20Z</td><td>2016-04-16T19:11:05Z</td></tr><tr><td>77</td><td>288</td><td>2016-10-27T05:32:22Z</td><td>2018-05-10T01:37:22Z</td></tr><tr><td>84</td><td>292</td><td>2016-04-26T21:34:33Z</td><td>2020-11-29T19:45:37Z</td></tr><tr><td>45</td><td>367</td><td>2019-06-14T06:54:25Z</td><td>2017-03-18T11:28:53Z</td></tr><tr><td>85</td><td>306</td><td>2018-10-20T09:20:58Z</td><td>2017-10-29T22:14:57Z</td></tr><tr><td>92</td><td>297</td><td>2018-06-01T01:43:39Z</td><td>2018-07-29T05:24:59Z</td></tr><tr><td>91</td><td>357</td><td>2017-06-12T16:40:07Z</td><td>2019-08-28T05:27:05Z</td></tr><tr><td>38</td><td>307</td><td>2020-04-18T18:59:12Z</td><td>2018-06-08T08:30:54Z</td></tr><tr><td>83</td><td>354</td><td>2020-08-20T23:29:46Z</td><td>2018-08-27T08:16:36Z</td></tr><tr><td>100</td><td>299</td><td>2019-03-09T14:11:15Z</td><td>2020-11-27T13:14:58Z</td></tr><tr><td>50</td><td>330</td><td>2017-10-16T12:20:14Z</td><td>2021-01-20T18:09:12Z</td></tr><tr><td>34</td><td>272</td><td>2017-07-11T04:51:36Z</td><td>2019-08-22T09:02:36Z</td></tr><tr><td>96</td><td>368</td><td>2020-02-24T17:42:57Z</td><td>2019-12-18T12:34:42Z</td></tr><tr><td>22</td><td>274</td><td>2019-01-09T16:43:25Z</td><td>2020-12-19T13:51:10Z</td></tr><tr><td>97</td><td>316</td><td>2020-04-01T16:26:11Z</td><td>2019-07-28T03:01:24Z</td></tr><tr><td>61</td><td>323</td><td>2017-03-31T06:31:29Z</td><td>2017-10-24T06:59:17Z</td></tr><tr><td>1</td><td>274</td><td>2018-03-13T20:29:34Z</td><td>2021-02-08T01:45:05Z</td></tr><tr><td>11</td><td>351</td><td>2020-07-04T02:12:18Z</td><td>2020-12-09T00:47:52Z</td></tr><tr><td>32</td><td>329</td><td>2018-09-27T11:06:48Z</td><td>2016-12-03T13:49:11Z</td></tr><tr><td>34</td><td>272</td><td>2017-07-11T04:51:36Z</td><td>2019-08-22T09:02:36Z</td></tr><tr><td>32</td><td>329</td><td>2018-09-27T11:06:48Z</td><td>2016-12-03T13:49:11Z</td></tr><tr><td>27</td><td>366</td><td>2016-05-13T09:33:39Z</td><td>2017-12-21T16:23:17Z</td></tr><tr><td>96</td><td>368</td><td>2020-02-24T17:42:57Z</td><td>2019-12-18T12:34:42Z</td></tr><tr><td>4</td><td>343</td><td>2017-05-09T07:28:34Z</td><td>2016-07-22T19:20:38Z</td></tr><tr><td>13</td><td>287</td><td>2019-01-10T09:47:19Z</td><td>2017-12-08T19:25:40Z</td></tr><tr><td>33</td><td>351</td><td>2019-07-01T20:54:34Z</td><td>2019-09-07T21:39:13Z</td></tr><tr><td>45</td><td>323</td><td>2019-03-02T11:35:53Z</td><td>2016-12-24T08:29:52Z</td></tr><tr><td>13</td><td>292</td><td>2020-11-05T18:50:29Z</td><td>2020-06-01T13:14:45Z</td></tr><tr><td>23</td><td>281</td><td>2020-11-20T23:54:00Z</td><td>2018-09-25T20:08:07Z</td></tr><tr><td>72</td><td>303</td><td>2019-03-02T17:53:15Z</td><td>2016-04-29T23:08:42Z</td></tr><tr><td>6</td><td>325</td><td>2016-08-06T19:17:43Z</td><td>2019-03-17T18:07:39Z</td></tr><tr><td>13</td><td>292</td><td>2020-11-05T18:50:29Z</td><td>2020-06-01T13:14:45Z</td></tr><tr><td>97</td><td>316</td><td>2020-04-01T16:26:11Z</td><td>2019-07-28T03:01:24Z</td></tr><tr><td>39</td><td>298</td><td>2019-02-11T10:38:45Z</td><td>2017-07-07T06:08:41Z</td></tr><tr><td>84</td><td>299</td><td>2019-01-08T13:22:25Z</td><td>2020-02-21T10:45:38Z</td></tr><tr><td>97</td><td>287</td><td>2017-04-30T02:04:01Z</td><td>2017-05-31T20:36:03Z</td></tr><tr><td>38</td><td>307</td><td>2020-04-18T18:59:12Z</td><td>2018-06-08T08:30:54Z</td></tr><tr><td>21</td><td>283</td><td>2016-05-11T08:56:18Z</td><td>2019-06-08T09:37:16Z</td></tr><tr><td>9</td><td>298</td><td>2019-12-02T05:31:01Z</td><td>2019-03-18T18:43:45Z</td></tr><tr><td>98</td><td>286</td><td>2017-10-21T08:26:22Z</td><td>2016-11-04T07:51:04Z</td></tr><tr><td>70</td><td>276</td><td>2019-11-26T15:23:01Z</td><td>2018-10-20T05:57:11Z</td></tr><tr><td>6</td><td>325</td><td>2016-08-06T19:17:43Z</td><td>2019-03-17T18:07:39Z</td></tr><tr><td>41</td><td>278</td><td>2018-06-27T00:27:12Z</td><td>2017-01-05T06:57:30Z</td></tr><tr><td>75</td><td>368</td><td>2020-08-22T06:47:31Z</td><td>2019-10-10T10:44:00Z</td></tr><tr><td>6</td><td>311</td><td>2019-05-08T22:55:28Z</td><td>2016-05-31T09:15:26Z</td></tr><tr><td>33</td><td>351</td><td>2019-07-01T20:54:34Z</td><td>2019-09-07T21:39:13Z</td></tr><tr><td>47</td><td>333</td><td>2016-07-27T22:33:25Z</td><td>2021-01-14T14:24:49Z</td></tr><tr><td>18</td><td>366</td><td>2020-07-16T09:29:52Z</td><td>2018-08-21T09:16:39Z</td></tr><tr><td>50</td><td>328</td><td>2020-06-20T23:10:21Z</td><td>2017-06-13T10:48:30Z</td></tr><tr><td>37</td><td>320</td><td>2017-08-06T16:32:28Z</td><td>2017-03-29T15:41:16Z</td></tr><tr><td>61</td><td>301</td><td>2018-11-02T00:16:53Z</td><td>2020-05-05T08:26:29Z</td></tr><tr><td>50</td><td>328</td><td>2020-06-20T23:10:21Z</td><td>2017-06-13T10:48:30Z</td></tr><tr><td>36</td><td>346</td><td>2016-09-16T14:54:04Z</td><td>2016-03-31T13:42:33Z</td></tr><tr><td>9</td><td>369</td><td>2018-01-19T06:06:59Z</td><td>2020-04-14T07:34:02Z</td></tr><tr><td>98</td><td>286</td><td>2017-10-21T08:26:22Z</td><td>2016-11-04T07:51:04Z</td></tr><tr><td>72</td><td>303</td><td>2019-03-02T17:53:15Z</td><td>2016-04-29T23:08:42Z</td></tr><tr><td>39</td><td>274</td><td>2019-03-28T00:24:27Z</td><td>2021-01-16T17:45:55Z</td></tr><tr><td>95</td><td>371</td><td>2020-09-10T05:37:14Z</td><td>2016-04-01T09:19:44Z</td></tr><tr><td>31</td><td>320</td><td>2020-06-18T06:44:30Z</td><td>2017-12-03T20:46:59Z</td></tr><tr><td>61</td><td>301</td><td>2018-11-02T00:16:53Z</td><td>2020-05-05T08:26:29Z</td></tr><tr><td>56</td><td>362</td><td>2020-08-04T01:32:40Z</td><td>2018-04-22T07:19:47Z</td></tr><tr><td>97</td><td>315</td><td>2017-09-06T15:37:14Z</td><td>2017-10-25T06:41:06Z</td></tr><tr><td>95</td><td>371</td><td>2020-09-10T05:37:14Z</td><td>2016-04-01T09:19:44Z</td></tr><tr><td>100</td><td>308</td><td>2018-07-28T17:16:07Z</td><td>2020-02-13T10:17:32Z</td></tr><tr><td>84</td><td>292</td><td>2016-04-26T21:34:33Z</td><td>2020-11-29T19:45:37Z</td></tr><tr><td>57</td><td>306</td><td>2020-03-26T03:08:57Z</td><td>2018-10-15T11:26:21Z</td></tr><tr><td>15</td><td>295</td><td>2016-07-09T19:21:59Z</td><td>2016-09-26T14:39:01Z</td></tr><tr><td>40</td><td>292</td><td>2019-07-12T07:29:14Z</td><td>2019-10-30T22:38:35Z</td></tr><tr><td>96</td><td>353</td><td>2016-08-25T11:12:30Z</td><td>2017-05-25T01:37:43Z</td></tr><tr><td>29</td><td>317</td><td>2018-08-12T07:59:39Z</td><td>2018-12-10T11:41:09Z</td></tr><tr><td>84</td><td>299</td><td>2019-01-08T13:22:25Z</td><td>2020-02-21T10:45:38Z</td></tr><tr><td>47</td><td>333</td><td>2016-07-27T22:33:25Z</td><td>2021-01-14T14:24:49Z</td></tr><tr><td>83</td><td>354</td><td>2020-08-20T23:29:46Z</td><td>2018-08-27T08:16:36Z</td></tr><tr><td>14</td><td>328</td><td>2017-09-18T00:54:27Z</td><td>2020-10-27T20:37:51Z</td></tr><tr><td>75</td><td>368</td><td>2020-08-22T06:47:31Z</td><td>2019-10-10T10:44:00Z</td></tr><tr><td>42</td><td>333</td><td>2017-07-09T08:26:06Z</td><td>2020-03-11T13:10:35Z</td></tr><tr><td>27</td><td>366</td><td>2016-05-13T09:33:39Z</td><td>2017-12-21T16:23:17Z</td></tr><tr><td>71</td><td>310</td><td>2018-01-19T04:48:42Z</td><td>2016-05-09T02:01:34Z</td></tr><tr><td>1</td><td>274</td><td>2018-03-13T20:29:34Z</td><td>2021-02-08T01:45:05Z</td></tr><tr><td>22</td><td>274</td><td>2019-01-09T16:43:25Z</td><td>2020-12-19T13:51:10Z</td></tr><tr><td>71</td><td>310</td><td>2018-01-19T04:48:42Z</td><td>2016-05-09T02:01:34Z</td></tr><tr><td>89</td><td>287</td><td>2020-06-26T13:16:30Z</td><td>2016-11-09T08:14:42Z</td></tr><tr><td>92</td><td>297</td><td>2018-06-01T01:43:39Z</td><td>2018-07-29T05:24:59Z</td></tr><tr><td>97</td><td>287</td><td>2017-04-30T02:04:01Z</td><td>2017-05-31T20:36:03Z</td></tr><tr><td>77</td><td>370</td><td>2017-09-20T18:24:32Z</td><td>2016-09-08T09:34:06Z</td></tr><tr><td>85</td><td>306</td><td>2018-10-20T09:20:58Z</td><td>2017-10-29T22:14:57Z</td></tr><tr><td>16</td><td>363</td><td>2017-11-28T15:42:58Z</td><td>2017-12-27T20:17:22Z</td></tr><tr><td>61</td><td>327</td><td>2017-12-23T22:58:51Z</td><td>2019-02-26T02:17:37Z</td></tr><tr><td>54</td><td>300</td><td>2020-01-25T16:59:50Z</td><td>2016-08-30T07:48:55Z</td></tr><tr><td>56</td><td>338</td><td>2018-08-15T00:05:36Z</td><td>2018-12-01T20:39:25Z</td></tr><tr><td>28</td><td>342</td><td>2016-02-02T20:29:37Z</td><td>2017-11-12T23:35:19Z</td></tr><tr><td>28</td><td>342</td><td>2016-02-02T20:29:37Z</td><td>2017-11-12T23:35:19Z</td></tr><tr><td>54</td><td>300</td><td>2020-01-25T16:59:50Z</td><td>2016-08-30T07:48:55Z</td></tr><tr><td>56</td><td>338</td><td>2018-08-15T00:05:36Z</td><td>2018-12-01T20:39:25Z</td></tr><tr><td>11</td><td>319</td><td>2016-05-09T22:11:01Z</td><td>2019-11-24T08:01:30Z</td></tr><tr><td>20</td><td>360</td><td>2016-11-19T15:59:33Z</td><td>2016-06-21T00:59:20Z</td></tr><tr><td>87</td><td>294</td><td>2018-07-04T23:35:40Z</td><td>2016-11-18T06:56:36Z</td></tr><tr><td>89</td><td>287</td><td>2020-06-26T13:16:30Z</td><td>2016-11-09T08:14:42Z</td></tr><tr><td>92</td><td>345</td><td>2020-01-15T22:54:32Z</td><td>2018-05-03T01:15:50Z</td></tr><tr><td>45</td><td>367</td><td>2019-06-14T06:54:25Z</td><td>2017-03-18T11:28:53Z</td></tr><tr><td>46</td><td>297</td><td>2018-11-14T23:22:00Z</td><td>2019-05-19T23:43:38Z</td></tr><tr><td>87</td><td>294</td><td>2018-07-04T23:35:40Z</td><td>2016-11-18T06:56:36Z</td></tr><tr><td>96</td><td>353</td><td>2016-08-25T11:12:30Z</td><td>2017-05-25T01:37:43Z</td></tr><tr><td>14</td><td>356</td><td>2018-12-31T09:05:39Z</td><td>2016-11-17T18:35:57Z</td></tr><tr><td>41</td><td>278</td><td>2018-06-27T00:27:12Z</td><td>2017-01-05T06:57:30Z</td></tr><tr><td>9</td><td>369</td><td>2018-01-19T06:06:59Z</td><td>2020-04-14T07:34:02Z</td></tr><tr><td>50</td><td>330</td><td>2017-10-16T12:20:14Z</td><td>2021-01-20T18:09:12Z</td></tr><tr><td>70</td><td>276</td><td>2019-11-26T15:23:01Z</td><td>2018-10-20T05:57:11Z</td></tr><tr><td>6</td><td>311</td><td>2019-05-08T22:55:28Z</td><td>2016-05-31T09:15:26Z</td></tr><tr><td>9</td><td>298</td><td>2019-12-02T05:31:01Z</td><td>2019-03-18T18:43:45Z</td></tr><tr><td>15</td><td>295</td><td>2016-07-09T19:21:59Z</td><td>2016-09-26T14:39:01Z</td></tr><tr><td>45</td><td>323</td><td>2019-03-02T11:35:53Z</td><td>2016-12-24T08:29:52Z</td></tr><tr><td>57</td><td>306</td><td>2020-03-26T03:08:57Z</td><td>2018-10-15T11:26:21Z</td></tr><tr><td>18</td><td>366</td><td>2020-07-16T09:29:52Z</td><td>2018-08-21T09:16:39Z</td></tr><tr><td>84</td><td>357</td><td>2018-07-14T00:26:41Z</td><td>2019-07-11T03:22:08Z</td></tr><tr><td>91</td><td>357</td><td>2017-06-12T16:40:07Z</td><td>2019-08-28T05:27:05Z</td></tr><tr><td>23</td><td>281</td><td>2020-11-20T23:54:00Z</td><td>2018-09-25T20:08:07Z</td></tr><tr><td>46</td><td>297</td><td>2018-11-14T23:22:00Z</td><td>2019-05-19T23:43:38Z</td></tr><tr><td>52</td><td>289</td><td>2017-03-06T01:10:45Z</td><td>2019-01-07T18:46:53Z</td></tr><tr><td>76</td><td>308</td><td>2018-03-03T01:42:07Z</td><td>2019-07-23T09:48:20Z</td></tr><tr><td>14</td><td>328</td><td>2017-09-18T00:54:27Z</td><td>2020-10-27T20:37:51Z</td></tr><tr><td>40</td><td>292</td><td>2019-07-12T07:29:14Z</td><td>2019-10-30T22:38:35Z</td></tr><tr><td>61</td><td>300</td><td>2019-12-28T05:24:56Z</td><td>2016-08-07T19:05:47Z</td></tr><tr><td>16</td><td>363</td><td>2017-11-28T15:42:58Z</td><td>2017-12-27T20:17:22Z</td></tr><tr><td>10</td><td>276</td><td>2017-10-22T04:55:46Z</td><td>2018-08-17T20:42:25Z</td></tr><tr><td>17</td><td>274</td><td>2019-10-17T18:43:25Z</td><td>2018-09-18T17:51:59Z</td></tr><tr><td>15</td><td>363</td><td>2021-01-27T21:49:40Z</td><td>2019-08-20T06:58:04Z</td></tr><tr><td>17</td><td>274</td><td>2019-10-17T18:43:25Z</td><td>2018-09-18T17:51:59Z</td></tr><tr><td>52</td><td>297</td><td>2018-01-11T16:55:57Z</td><td>2019-02-02T18:49:43Z</td></tr><tr><td>61</td><td>300</td><td>2019-12-28T05:24:56Z</td><td>2016-08-07T19:05:47Z</td></tr><tr><td>35</td><td>273</td><td>2017-11-12T04:12:00Z</td><td>2019-03-15T17:58:37Z</td></tr><tr><td>80</td><td>280</td><td>2019-03-02T11:38:07Z</td><td>2020-10-19T08:55:21Z</td></tr><tr><td>62</td><td>346</td><td>2019-07-23T18:52:33Z</td><td>2016-02-22T19:22:58Z</td></tr><tr><td>44</td><td>351</td><td>2020-03-22T09:54:45Z</td><td>2020-11-05T15:48:12Z</td></tr><tr><td>52</td><td>297</td><td>2018-01-11T16:55:57Z</td><td>2019-02-02T18:49:43Z</td></tr><tr><td>74</td><td>290</td><td>2020-12-17T04:06:43Z</td><td>2016-09-05T11:26:57Z</td></tr><tr><td>50</td><td>277</td><td>2020-02-28T01:23:58Z</td><td>2017-11-08T09:15:12Z</td></tr><tr><td>62</td><td>346</td><td>2019-07-23T18:52:33Z</td><td>2016-02-22T19:22:58Z</td></tr><tr><td>80</td><td>280</td><td>2019-03-02T11:38:07Z</td><td>2020-10-19T08:55:21Z</td></tr><tr><td>63</td><td>288</td><td>2018-09-01T16:10:41Z</td><td>2020-10-15T21:46:56Z</td></tr><tr><td>19</td><td>272</td><td>2016-08-21T17:27:38Z</td><td>2020-06-14T11:32:27Z</td></tr><tr><td>50</td><td>277</td><td>2020-02-28T01:23:58Z</td><td>2017-11-08T09:15:12Z</td></tr><tr><td>19</td><td>272</td><td>2016-08-21T17:27:38Z</td><td>2020-06-14T11:32:27Z</td></tr><tr><td>63</td><td>288</td><td>2018-09-01T16:10:41Z</td><td>2020-10-15T21:46:56Z</td></tr><tr><td>3</td><td>323</td><td>2018-03-18T17:00:28Z</td><td>2019-04-22T13:48:13Z</td></tr><tr><td>74</td><td>290</td><td>2020-12-17T04:06:43Z</td><td>2016-09-05T11:26:57Z</td></tr><tr><td>76</td><td>324</td><td>2018-07-29T16:50:09Z</td><td>2019-01-05T21:24:56Z</td></tr><tr><td>35</td><td>273</td><td>2017-11-12T04:12:00Z</td><td>2019-03-15T17:58:37Z</td></tr><tr><td>20</td><td>318</td><td>2016-01-05T05:56:11Z</td><td>2020-03-02T04:00:40Z</td></tr><tr><td>7</td><td>273</td><td>2020-09-28T13:05:17Z</td><td>2017-09-14T05:25:19Z</td></tr><tr><td>61</td><td>327</td><td>2017-12-23T22:58:51Z</td><td>2019-02-26T02:17:37Z</td></tr><tr><td>3</td><td>323</td><td>2018-03-18T17:00:28Z</td><td>2019-04-22T13:48:13Z</td></tr><tr><td>76</td><td>324</td><td>2018-07-29T16:50:09Z</td><td>2019-01-05T21:24:56Z</td></tr><tr><td>20</td><td>318</td><td>2016-01-05T05:56:11Z</td><td>2020-03-02T04:00:40Z</td></tr><tr><td>7</td><td>273</td><td>2020-09-28T13:05:17Z</td><td>2017-09-14T05:25:19Z</td></tr><tr><td>15</td><td>363</td><td>2021-01-27T21:49:40Z</td><td>2019-08-20T06:58:04Z</td></tr><tr><td>44</td><td>351</td><td>2020-03-22T09:54:45Z</td><td>2020-11-05T15:48:12Z</td></tr><tr><td>10</td><td>276</td><td>2017-10-22T04:55:46Z</td><td>2018-08-17T20:42:25Z</td></tr></tbody></table></div>"
      ]
     },
     "metadata": {
      "application/vnd.databricks.v1+output": {
       "addedWidgets": {},
       "aggData": [],
       "aggError": "",
       "aggOverflow": false,
       "aggSchema": [],
       "aggSeriesLimitReached": false,
       "aggType": "",
       "arguments": {},
       "columnCustomDisplayInfos": {},
       "data": [
        [
         47,
         283,
         "2018-05-20T21:27:12Z",
         "2018-08-31T08:27:52Z"
        ],
        [
         100,
         299,
         "2019-03-09T14:11:15Z",
         "2020-11-27T13:14:58Z"
        ],
        [
         79,
         277,
         "2017-04-08T23:24:33Z",
         "2018-10-15T16:12:30Z"
        ],
        [
         47,
         283,
         "2018-05-20T21:27:12Z",
         "2018-08-31T08:27:52Z"
        ],
        [
         76,
         365,
         "2016-09-12T11:30:51Z",
         "2020-02-02T11:21:04Z"
        ],
        [
         72,
         311,
         "2018-10-01T11:21:01Z",
         "2018-03-23T08:47:01Z"
        ],
        [
         42,
         333,
         "2017-07-09T08:26:06Z",
         "2020-03-11T13:10:35Z"
        ],
        [
         52,
         289,
         "2017-03-06T01:10:45Z",
         "2019-01-07T18:46:53Z"
        ],
        [
         6,
         288,
         "2018-04-28T00:25:20Z",
         "2016-04-16T19:11:05Z"
        ],
        [
         31,
         320,
         "2020-06-18T06:44:30Z",
         "2017-12-03T20:46:59Z"
        ],
        [
         93,
         349,
         "2020-09-14T07:09:21Z",
         "2017-08-06T23:28:43Z"
        ],
        [
         61,
         323,
         "2017-03-31T06:31:29Z",
         "2017-10-24T06:59:17Z"
        ],
        [
         84,
         357,
         "2018-07-14T00:26:41Z",
         "2019-07-11T03:22:08Z"
        ],
        [
         21,
         283,
         "2016-05-11T08:56:18Z",
         "2019-06-08T09:37:16Z"
        ],
        [
         11,
         351,
         "2020-07-04T02:12:18Z",
         "2020-12-09T00:47:52Z"
        ],
        [
         11,
         319,
         "2016-05-09T22:11:01Z",
         "2019-11-24T08:01:30Z"
        ],
        [
         12,
         338,
         "2020-03-20T05:09:40Z",
         "2019-07-02T13:02:08Z"
        ],
        [
         39,
         298,
         "2019-02-11T10:38:45Z",
         "2017-07-07T06:08:41Z"
        ],
        [
         37,
         320,
         "2017-08-06T16:32:28Z",
         "2017-03-29T15:41:16Z"
        ],
        [
         39,
         274,
         "2019-03-28T00:24:27Z",
         "2021-01-16T17:45:55Z"
        ],
        [
         76,
         365,
         "2016-09-12T11:30:51Z",
         "2020-02-02T11:21:04Z"
        ],
        [
         79,
         277,
         "2017-04-08T23:24:33Z",
         "2018-10-15T16:12:30Z"
        ],
        [
         77,
         288,
         "2016-10-27T05:32:22Z",
         "2018-05-10T01:37:22Z"
        ],
        [
         92,
         345,
         "2020-01-15T22:54:32Z",
         "2018-05-03T01:15:50Z"
        ],
        [
         89,
         358,
         "2019-10-18T20:40:47Z",
         "2020-06-28T12:03:02Z"
        ],
        [
         4,
         343,
         "2017-05-09T07:28:34Z",
         "2016-07-22T19:20:38Z"
        ],
        [
         57,
         328,
         "2018-05-18T20:46:21Z",
         "2016-05-28T13:57:10Z"
        ],
        [
         93,
         349,
         "2020-09-14T07:09:21Z",
         "2017-08-06T23:28:43Z"
        ],
        [
         20,
         360,
         "2016-11-19T15:59:33Z",
         "2016-06-21T00:59:20Z"
        ],
        [
         13,
         287,
         "2019-01-10T09:47:19Z",
         "2017-12-08T19:25:40Z"
        ],
        [
         100,
         308,
         "2018-07-28T17:16:07Z",
         "2020-02-13T10:17:32Z"
        ],
        [
         56,
         362,
         "2020-08-04T01:32:40Z",
         "2018-04-22T07:19:47Z"
        ],
        [
         57,
         328,
         "2018-05-18T20:46:21Z",
         "2016-05-28T13:57:10Z"
        ],
        [
         29,
         317,
         "2018-08-12T07:59:39Z",
         "2018-12-10T11:41:09Z"
        ],
        [
         36,
         346,
         "2016-09-16T14:54:04Z",
         "2016-03-31T13:42:33Z"
        ],
        [
         97,
         315,
         "2017-09-06T15:37:14Z",
         "2017-10-25T06:41:06Z"
        ],
        [
         72,
         311,
         "2018-10-01T11:21:01Z",
         "2018-03-23T08:47:01Z"
        ],
        [
         12,
         338,
         "2020-03-20T05:09:40Z",
         "2019-07-02T13:02:08Z"
        ],
        [
         76,
         308,
         "2018-03-03T01:42:07Z",
         "2019-07-23T09:48:20Z"
        ],
        [
         89,
         358,
         "2019-10-18T20:40:47Z",
         "2020-06-28T12:03:02Z"
        ],
        [
         77,
         370,
         "2017-09-20T18:24:32Z",
         "2016-09-08T09:34:06Z"
        ],
        [
         14,
         356,
         "2018-12-31T09:05:39Z",
         "2016-11-17T18:35:57Z"
        ],
        [
         6,
         288,
         "2018-04-28T00:25:20Z",
         "2016-04-16T19:11:05Z"
        ],
        [
         77,
         288,
         "2016-10-27T05:32:22Z",
         "2018-05-10T01:37:22Z"
        ],
        [
         84,
         292,
         "2016-04-26T21:34:33Z",
         "2020-11-29T19:45:37Z"
        ],
        [
         45,
         367,
         "2019-06-14T06:54:25Z",
         "2017-03-18T11:28:53Z"
        ],
        [
         85,
         306,
         "2018-10-20T09:20:58Z",
         "2017-10-29T22:14:57Z"
        ],
        [
         92,
         297,
         "2018-06-01T01:43:39Z",
         "2018-07-29T05:24:59Z"
        ],
        [
         91,
         357,
         "2017-06-12T16:40:07Z",
         "2019-08-28T05:27:05Z"
        ],
        [
         38,
         307,
         "2020-04-18T18:59:12Z",
         "2018-06-08T08:30:54Z"
        ],
        [
         83,
         354,
         "2020-08-20T23:29:46Z",
         "2018-08-27T08:16:36Z"
        ],
        [
         100,
         299,
         "2019-03-09T14:11:15Z",
         "2020-11-27T13:14:58Z"
        ],
        [
         50,
         330,
         "2017-10-16T12:20:14Z",
         "2021-01-20T18:09:12Z"
        ],
        [
         34,
         272,
         "2017-07-11T04:51:36Z",
         "2019-08-22T09:02:36Z"
        ],
        [
         96,
         368,
         "2020-02-24T17:42:57Z",
         "2019-12-18T12:34:42Z"
        ],
        [
         22,
         274,
         "2019-01-09T16:43:25Z",
         "2020-12-19T13:51:10Z"
        ],
        [
         97,
         316,
         "2020-04-01T16:26:11Z",
         "2019-07-28T03:01:24Z"
        ],
        [
         61,
         323,
         "2017-03-31T06:31:29Z",
         "2017-10-24T06:59:17Z"
        ],
        [
         1,
         274,
         "2018-03-13T20:29:34Z",
         "2021-02-08T01:45:05Z"
        ],
        [
         11,
         351,
         "2020-07-04T02:12:18Z",
         "2020-12-09T00:47:52Z"
        ],
        [
         32,
         329,
         "2018-09-27T11:06:48Z",
         "2016-12-03T13:49:11Z"
        ],
        [
         34,
         272,
         "2017-07-11T04:51:36Z",
         "2019-08-22T09:02:36Z"
        ],
        [
         32,
         329,
         "2018-09-27T11:06:48Z",
         "2016-12-03T13:49:11Z"
        ],
        [
         27,
         366,
         "2016-05-13T09:33:39Z",
         "2017-12-21T16:23:17Z"
        ],
        [
         96,
         368,
         "2020-02-24T17:42:57Z",
         "2019-12-18T12:34:42Z"
        ],
        [
         4,
         343,
         "2017-05-09T07:28:34Z",
         "2016-07-22T19:20:38Z"
        ],
        [
         13,
         287,
         "2019-01-10T09:47:19Z",
         "2017-12-08T19:25:40Z"
        ],
        [
         33,
         351,
         "2019-07-01T20:54:34Z",
         "2019-09-07T21:39:13Z"
        ],
        [
         45,
         323,
         "2019-03-02T11:35:53Z",
         "2016-12-24T08:29:52Z"
        ],
        [
         13,
         292,
         "2020-11-05T18:50:29Z",
         "2020-06-01T13:14:45Z"
        ],
        [
         23,
         281,
         "2020-11-20T23:54:00Z",
         "2018-09-25T20:08:07Z"
        ],
        [
         72,
         303,
         "2019-03-02T17:53:15Z",
         "2016-04-29T23:08:42Z"
        ],
        [
         6,
         325,
         "2016-08-06T19:17:43Z",
         "2019-03-17T18:07:39Z"
        ],
        [
         13,
         292,
         "2020-11-05T18:50:29Z",
         "2020-06-01T13:14:45Z"
        ],
        [
         97,
         316,
         "2020-04-01T16:26:11Z",
         "2019-07-28T03:01:24Z"
        ],
        [
         39,
         298,
         "2019-02-11T10:38:45Z",
         "2017-07-07T06:08:41Z"
        ],
        [
         84,
         299,
         "2019-01-08T13:22:25Z",
         "2020-02-21T10:45:38Z"
        ],
        [
         97,
         287,
         "2017-04-30T02:04:01Z",
         "2017-05-31T20:36:03Z"
        ],
        [
         38,
         307,
         "2020-04-18T18:59:12Z",
         "2018-06-08T08:30:54Z"
        ],
        [
         21,
         283,
         "2016-05-11T08:56:18Z",
         "2019-06-08T09:37:16Z"
        ],
        [
         9,
         298,
         "2019-12-02T05:31:01Z",
         "2019-03-18T18:43:45Z"
        ],
        [
         98,
         286,
         "2017-10-21T08:26:22Z",
         "2016-11-04T07:51:04Z"
        ],
        [
         70,
         276,
         "2019-11-26T15:23:01Z",
         "2018-10-20T05:57:11Z"
        ],
        [
         6,
         325,
         "2016-08-06T19:17:43Z",
         "2019-03-17T18:07:39Z"
        ],
        [
         41,
         278,
         "2018-06-27T00:27:12Z",
         "2017-01-05T06:57:30Z"
        ],
        [
         75,
         368,
         "2020-08-22T06:47:31Z",
         "2019-10-10T10:44:00Z"
        ],
        [
         6,
         311,
         "2019-05-08T22:55:28Z",
         "2016-05-31T09:15:26Z"
        ],
        [
         33,
         351,
         "2019-07-01T20:54:34Z",
         "2019-09-07T21:39:13Z"
        ],
        [
         47,
         333,
         "2016-07-27T22:33:25Z",
         "2021-01-14T14:24:49Z"
        ],
        [
         18,
         366,
         "2020-07-16T09:29:52Z",
         "2018-08-21T09:16:39Z"
        ],
        [
         50,
         328,
         "2020-06-20T23:10:21Z",
         "2017-06-13T10:48:30Z"
        ],
        [
         37,
         320,
         "2017-08-06T16:32:28Z",
         "2017-03-29T15:41:16Z"
        ],
        [
         61,
         301,
         "2018-11-02T00:16:53Z",
         "2020-05-05T08:26:29Z"
        ],
        [
         50,
         328,
         "2020-06-20T23:10:21Z",
         "2017-06-13T10:48:30Z"
        ],
        [
         36,
         346,
         "2016-09-16T14:54:04Z",
         "2016-03-31T13:42:33Z"
        ],
        [
         9,
         369,
         "2018-01-19T06:06:59Z",
         "2020-04-14T07:34:02Z"
        ],
        [
         98,
         286,
         "2017-10-21T08:26:22Z",
         "2016-11-04T07:51:04Z"
        ],
        [
         72,
         303,
         "2019-03-02T17:53:15Z",
         "2016-04-29T23:08:42Z"
        ],
        [
         39,
         274,
         "2019-03-28T00:24:27Z",
         "2021-01-16T17:45:55Z"
        ],
        [
         95,
         371,
         "2020-09-10T05:37:14Z",
         "2016-04-01T09:19:44Z"
        ],
        [
         31,
         320,
         "2020-06-18T06:44:30Z",
         "2017-12-03T20:46:59Z"
        ],
        [
         61,
         301,
         "2018-11-02T00:16:53Z",
         "2020-05-05T08:26:29Z"
        ],
        [
         56,
         362,
         "2020-08-04T01:32:40Z",
         "2018-04-22T07:19:47Z"
        ],
        [
         97,
         315,
         "2017-09-06T15:37:14Z",
         "2017-10-25T06:41:06Z"
        ],
        [
         95,
         371,
         "2020-09-10T05:37:14Z",
         "2016-04-01T09:19:44Z"
        ],
        [
         100,
         308,
         "2018-07-28T17:16:07Z",
         "2020-02-13T10:17:32Z"
        ],
        [
         84,
         292,
         "2016-04-26T21:34:33Z",
         "2020-11-29T19:45:37Z"
        ],
        [
         57,
         306,
         "2020-03-26T03:08:57Z",
         "2018-10-15T11:26:21Z"
        ],
        [
         15,
         295,
         "2016-07-09T19:21:59Z",
         "2016-09-26T14:39:01Z"
        ],
        [
         40,
         292,
         "2019-07-12T07:29:14Z",
         "2019-10-30T22:38:35Z"
        ],
        [
         96,
         353,
         "2016-08-25T11:12:30Z",
         "2017-05-25T01:37:43Z"
        ],
        [
         29,
         317,
         "2018-08-12T07:59:39Z",
         "2018-12-10T11:41:09Z"
        ],
        [
         84,
         299,
         "2019-01-08T13:22:25Z",
         "2020-02-21T10:45:38Z"
        ],
        [
         47,
         333,
         "2016-07-27T22:33:25Z",
         "2021-01-14T14:24:49Z"
        ],
        [
         83,
         354,
         "2020-08-20T23:29:46Z",
         "2018-08-27T08:16:36Z"
        ],
        [
         14,
         328,
         "2017-09-18T00:54:27Z",
         "2020-10-27T20:37:51Z"
        ],
        [
         75,
         368,
         "2020-08-22T06:47:31Z",
         "2019-10-10T10:44:00Z"
        ],
        [
         42,
         333,
         "2017-07-09T08:26:06Z",
         "2020-03-11T13:10:35Z"
        ],
        [
         27,
         366,
         "2016-05-13T09:33:39Z",
         "2017-12-21T16:23:17Z"
        ],
        [
         71,
         310,
         "2018-01-19T04:48:42Z",
         "2016-05-09T02:01:34Z"
        ],
        [
         1,
         274,
         "2018-03-13T20:29:34Z",
         "2021-02-08T01:45:05Z"
        ],
        [
         22,
         274,
         "2019-01-09T16:43:25Z",
         "2020-12-19T13:51:10Z"
        ],
        [
         71,
         310,
         "2018-01-19T04:48:42Z",
         "2016-05-09T02:01:34Z"
        ],
        [
         89,
         287,
         "2020-06-26T13:16:30Z",
         "2016-11-09T08:14:42Z"
        ],
        [
         92,
         297,
         "2018-06-01T01:43:39Z",
         "2018-07-29T05:24:59Z"
        ],
        [
         97,
         287,
         "2017-04-30T02:04:01Z",
         "2017-05-31T20:36:03Z"
        ],
        [
         77,
         370,
         "2017-09-20T18:24:32Z",
         "2016-09-08T09:34:06Z"
        ],
        [
         85,
         306,
         "2018-10-20T09:20:58Z",
         "2017-10-29T22:14:57Z"
        ],
        [
         16,
         363,
         "2017-11-28T15:42:58Z",
         "2017-12-27T20:17:22Z"
        ],
        [
         61,
         327,
         "2017-12-23T22:58:51Z",
         "2019-02-26T02:17:37Z"
        ],
        [
         54,
         300,
         "2020-01-25T16:59:50Z",
         "2016-08-30T07:48:55Z"
        ],
        [
         56,
         338,
         "2018-08-15T00:05:36Z",
         "2018-12-01T20:39:25Z"
        ],
        [
         28,
         342,
         "2016-02-02T20:29:37Z",
         "2017-11-12T23:35:19Z"
        ],
        [
         28,
         342,
         "2016-02-02T20:29:37Z",
         "2017-11-12T23:35:19Z"
        ],
        [
         54,
         300,
         "2020-01-25T16:59:50Z",
         "2016-08-30T07:48:55Z"
        ],
        [
         56,
         338,
         "2018-08-15T00:05:36Z",
         "2018-12-01T20:39:25Z"
        ],
        [
         11,
         319,
         "2016-05-09T22:11:01Z",
         "2019-11-24T08:01:30Z"
        ],
        [
         20,
         360,
         "2016-11-19T15:59:33Z",
         "2016-06-21T00:59:20Z"
        ],
        [
         87,
         294,
         "2018-07-04T23:35:40Z",
         "2016-11-18T06:56:36Z"
        ],
        [
         89,
         287,
         "2020-06-26T13:16:30Z",
         "2016-11-09T08:14:42Z"
        ],
        [
         92,
         345,
         "2020-01-15T22:54:32Z",
         "2018-05-03T01:15:50Z"
        ],
        [
         45,
         367,
         "2019-06-14T06:54:25Z",
         "2017-03-18T11:28:53Z"
        ],
        [
         46,
         297,
         "2018-11-14T23:22:00Z",
         "2019-05-19T23:43:38Z"
        ],
        [
         87,
         294,
         "2018-07-04T23:35:40Z",
         "2016-11-18T06:56:36Z"
        ],
        [
         96,
         353,
         "2016-08-25T11:12:30Z",
         "2017-05-25T01:37:43Z"
        ],
        [
         14,
         356,
         "2018-12-31T09:05:39Z",
         "2016-11-17T18:35:57Z"
        ],
        [
         41,
         278,
         "2018-06-27T00:27:12Z",
         "2017-01-05T06:57:30Z"
        ],
        [
         9,
         369,
         "2018-01-19T06:06:59Z",
         "2020-04-14T07:34:02Z"
        ],
        [
         50,
         330,
         "2017-10-16T12:20:14Z",
         "2021-01-20T18:09:12Z"
        ],
        [
         70,
         276,
         "2019-11-26T15:23:01Z",
         "2018-10-20T05:57:11Z"
        ],
        [
         6,
         311,
         "2019-05-08T22:55:28Z",
         "2016-05-31T09:15:26Z"
        ],
        [
         9,
         298,
         "2019-12-02T05:31:01Z",
         "2019-03-18T18:43:45Z"
        ],
        [
         15,
         295,
         "2016-07-09T19:21:59Z",
         "2016-09-26T14:39:01Z"
        ],
        [
         45,
         323,
         "2019-03-02T11:35:53Z",
         "2016-12-24T08:29:52Z"
        ],
        [
         57,
         306,
         "2020-03-26T03:08:57Z",
         "2018-10-15T11:26:21Z"
        ],
        [
         18,
         366,
         "2020-07-16T09:29:52Z",
         "2018-08-21T09:16:39Z"
        ],
        [
         84,
         357,
         "2018-07-14T00:26:41Z",
         "2019-07-11T03:22:08Z"
        ],
        [
         91,
         357,
         "2017-06-12T16:40:07Z",
         "2019-08-28T05:27:05Z"
        ],
        [
         23,
         281,
         "2020-11-20T23:54:00Z",
         "2018-09-25T20:08:07Z"
        ],
        [
         46,
         297,
         "2018-11-14T23:22:00Z",
         "2019-05-19T23:43:38Z"
        ],
        [
         52,
         289,
         "2017-03-06T01:10:45Z",
         "2019-01-07T18:46:53Z"
        ],
        [
         76,
         308,
         "2018-03-03T01:42:07Z",
         "2019-07-23T09:48:20Z"
        ],
        [
         14,
         328,
         "2017-09-18T00:54:27Z",
         "2020-10-27T20:37:51Z"
        ],
        [
         40,
         292,
         "2019-07-12T07:29:14Z",
         "2019-10-30T22:38:35Z"
        ],
        [
         61,
         300,
         "2019-12-28T05:24:56Z",
         "2016-08-07T19:05:47Z"
        ],
        [
         16,
         363,
         "2017-11-28T15:42:58Z",
         "2017-12-27T20:17:22Z"
        ],
        [
         10,
         276,
         "2017-10-22T04:55:46Z",
         "2018-08-17T20:42:25Z"
        ],
        [
         17,
         274,
         "2019-10-17T18:43:25Z",
         "2018-09-18T17:51:59Z"
        ],
        [
         15,
         363,
         "2021-01-27T21:49:40Z",
         "2019-08-20T06:58:04Z"
        ],
        [
         17,
         274,
         "2019-10-17T18:43:25Z",
         "2018-09-18T17:51:59Z"
        ],
        [
         52,
         297,
         "2018-01-11T16:55:57Z",
         "2019-02-02T18:49:43Z"
        ],
        [
         61,
         300,
         "2019-12-28T05:24:56Z",
         "2016-08-07T19:05:47Z"
        ],
        [
         35,
         273,
         "2017-11-12T04:12:00Z",
         "2019-03-15T17:58:37Z"
        ],
        [
         80,
         280,
         "2019-03-02T11:38:07Z",
         "2020-10-19T08:55:21Z"
        ],
        [
         62,
         346,
         "2019-07-23T18:52:33Z",
         "2016-02-22T19:22:58Z"
        ],
        [
         44,
         351,
         "2020-03-22T09:54:45Z",
         "2020-11-05T15:48:12Z"
        ],
        [
         52,
         297,
         "2018-01-11T16:55:57Z",
         "2019-02-02T18:49:43Z"
        ],
        [
         74,
         290,
         "2020-12-17T04:06:43Z",
         "2016-09-05T11:26:57Z"
        ],
        [
         50,
         277,
         "2020-02-28T01:23:58Z",
         "2017-11-08T09:15:12Z"
        ],
        [
         62,
         346,
         "2019-07-23T18:52:33Z",
         "2016-02-22T19:22:58Z"
        ],
        [
         80,
         280,
         "2019-03-02T11:38:07Z",
         "2020-10-19T08:55:21Z"
        ],
        [
         63,
         288,
         "2018-09-01T16:10:41Z",
         "2020-10-15T21:46:56Z"
        ],
        [
         19,
         272,
         "2016-08-21T17:27:38Z",
         "2020-06-14T11:32:27Z"
        ],
        [
         50,
         277,
         "2020-02-28T01:23:58Z",
         "2017-11-08T09:15:12Z"
        ],
        [
         19,
         272,
         "2016-08-21T17:27:38Z",
         "2020-06-14T11:32:27Z"
        ],
        [
         63,
         288,
         "2018-09-01T16:10:41Z",
         "2020-10-15T21:46:56Z"
        ],
        [
         3,
         323,
         "2018-03-18T17:00:28Z",
         "2019-04-22T13:48:13Z"
        ],
        [
         74,
         290,
         "2020-12-17T04:06:43Z",
         "2016-09-05T11:26:57Z"
        ],
        [
         76,
         324,
         "2018-07-29T16:50:09Z",
         "2019-01-05T21:24:56Z"
        ],
        [
         35,
         273,
         "2017-11-12T04:12:00Z",
         "2019-03-15T17:58:37Z"
        ],
        [
         20,
         318,
         "2016-01-05T05:56:11Z",
         "2020-03-02T04:00:40Z"
        ],
        [
         7,
         273,
         "2020-09-28T13:05:17Z",
         "2017-09-14T05:25:19Z"
        ],
        [
         61,
         327,
         "2017-12-23T22:58:51Z",
         "2019-02-26T02:17:37Z"
        ],
        [
         3,
         323,
         "2018-03-18T17:00:28Z",
         "2019-04-22T13:48:13Z"
        ],
        [
         76,
         324,
         "2018-07-29T16:50:09Z",
         "2019-01-05T21:24:56Z"
        ],
        [
         20,
         318,
         "2016-01-05T05:56:11Z",
         "2020-03-02T04:00:40Z"
        ],
        [
         7,
         273,
         "2020-09-28T13:05:17Z",
         "2017-09-14T05:25:19Z"
        ],
        [
         15,
         363,
         "2021-01-27T21:49:40Z",
         "2019-08-20T06:58:04Z"
        ],
        [
         44,
         351,
         "2020-03-22T09:54:45Z",
         "2020-11-05T15:48:12Z"
        ],
        [
         10,
         276,
         "2017-10-22T04:55:46Z",
         "2018-08-17T20:42:25Z"
        ]
       ],
       "datasetInfos": [],
       "dbfsResultPath": null,
       "isJsonSchema": true,
       "metadata": {},
       "overflow": false,
       "plotOptions": {
        "customPlotOptions": {},
        "displayType": "table",
        "pivotAggregation": null,
        "pivotColumns": null,
        "xColumns": null,
        "yColumns": null
       },
       "removedWidgets": [],
       "schema": [
        {
         "metadata": "{\"isTimestampNTZ\":false,\"signed\":true,\"scale\":0}",
         "name": "id_pasajero",
         "type": "\"integer\""
        },
        {
         "metadata": "{\"isTimestampNTZ\":false,\"signed\":true,\"scale\":0}",
         "name": "id_trayecto",
         "type": "\"integer\""
        },
        {
         "metadata": "{\"isTimestampNTZ\":false,\"signed\":false,\"scale\":6}",
         "name": "inicio",
         "type": "\"timestamp\""
        },
        {
         "metadata": "{\"isTimestampNTZ\":false,\"signed\":false,\"scale\":6}",
         "name": "fin",
         "type": "\"timestamp\""
        }
       ],
       "type": "table"
      }
     },
     "output_type": "display_data"
    },
    {
     "output_type": "stream",
     "name": "stdout",
     "output_type": "stream",
     "text": [
      "Datos guardados en Azure correctamente\n"
     ]
    }
   ],
   "source": [
    "%python\n",
    "# Verificar la conexión listando tablas del sistema en Azure\n",
    "try:\n",
    "    df = spark.read.jdbc(\n",
    "        url=jdbc_url,\n",
    "        table=\"trayecto\", # poner el nombre de la tabla que se ha creado y guardado\n",
    "        properties=connection_properties\n",
    "    )\n",
    "    display(df)\n",
    "    print(\"Datos guardados en Azure correctamente\")\n",
    "except Exception as e:\n",
    "    print(\"Error al conectar:\", e)"
   ]
  },
  {
   "cell_type": "markdown",
   "metadata": {
    "application/vnd.databricks.v1+cell": {
     "cellMetadata": {},
     "inputWidgets": {},
     "nuid": "3b195bed-7fc4-4b93-a338-44c76c79e3b6",
     "showTitle": false,
     "tableResultSettingsMap": {},
     "title": ""
    }
   },
   "source": [
    "### Pasajero"
   ]
  },
  {
   "cell_type": "code",
   "execution_count": 0,
   "metadata": {
    "application/vnd.databricks.v1+cell": {
     "cellMetadata": {
      "byteLimit": 2048000,
      "rowLimit": 10000
     },
     "inputWidgets": {},
     "nuid": "56d905cf-e956-4017-a675-cb1b9c5efdff",
     "showTitle": false,
     "tableResultSettingsMap": {},
     "title": ""
    }
   },
   "outputs": [
    {
     "output_type": "stream",
     "name": "stdout",
     "output_type": "stream",
     "text": [
      "insert into pasajero (nombre, direccion_residencia, fecha_nacimiento) values ('Philbert Plaistowe', '5', '2009-09-28');\ninsert into pasajero (nombre, direccion_residencia, fecha_nacimiento) values ('Wilton Burling', '606', '2017-11-20');\ninsert into pasajero (nombre, direccion_residencia, fecha_nacimiento) values ('Seth Popeley', '3052', '1999-03-23');\ninsert into pasajero (nombre, direccion_residencia, fecha_nacimiento) values ('Phillipe Leve', '7', '2015-03-24');\ninsert into pasajero (nombre, direccion_residencia, fecha_nacimiento) values ('Abelard Reely', '47', '2002-10-06');\ninsert into pasajero (nombre, direccion_residencia, fecha_nacimiento) values ('Lowrance MacNeilly', '361', '2013-04-05');\ninsert into pasajero (nombre, direccion_residencia, fecha_nacimiento) values ('Kira McMoyer', '22', '2011-09-28');\ninsert into pasajero (nombre, direccion_residencia, fecha_nacimiento) values ('Jude Gorsse', '07946', '2007-05-13');\ninsert into pasajero (nombre, direccion_residencia, fecha_nacimiento) values ('Eydie Cossom', '81965', '2004-02-23');\ninsert into pasajero (nombre, direccion_residencia, fecha_nacimiento) values ('Anabel Gloyens', '90', '1995-12-19');\ninsert into pasajero (nombre, direccion_residencia, fecha_nacimiento) values ('Terry Eastlake', '1853', '1999-02-22');\ninsert into pasajero (nombre, direccion_residencia, fecha_nacimiento) values ('Enrika Shirtcliffe', '12035', '2010-11-10');\ninsert into pasajero (nombre, direccion_residencia, fecha_nacimiento) values ('Judye Puttnam', '88', '2017-07-04');\ninsert into pasajero (nombre, direccion_residencia, fecha_nacimiento) values ('Cloris Letty', '3', '1997-10-05');\ninsert into pasajero (nombre, direccion_residencia, fecha_nacimiento) values ('Glendon Hartnell', '40911', '1996-06-23');\ninsert into pasajero (nombre, direccion_residencia, fecha_nacimiento) values ('Rey Gornar', '2679', '1999-08-18');\ninsert into pasajero (nombre, direccion_residencia, fecha_nacimiento) values ('Nikolia Tremblot', '0065', '2011-05-29');\ninsert into pasajero (nombre, direccion_residencia, fecha_nacimiento) values ('Adaline Leith', '8420', '2010-11-10');\ninsert into pasajero (nombre, direccion_residencia, fecha_nacimiento) values ('Lisetta Hinchcliffe', '74321', '2005-05-11');\ninsert into pasajero (nombre, direccion_residencia, fecha_nacimiento) values ('Chelsea Samber', '62996', '2004-01-23');\ninsert into pasajero (nombre, direccion_residencia, fecha_nacimiento) values ('Emmett Detheridge', '7', '2014-04-08');\ninsert into pasajero (nombre, direccion_residencia, fecha_nacimiento) values ('Mitzi Rummery', '13', '1999-10-27');\ninsert into pasajero (nombre, direccion_residencia, fecha_nacimiento) values ('Dacy Austick', '76', '2009-01-20');\ninsert into pasajero (nombre, direccion_residencia, fecha_nacimiento) values ('Rouvin Munns', '4084', '2003-11-17');\ninsert into pasajero (nombre, direccion_residencia, fecha_nacimiento) values ('Rori Stappard', '2', '2016-04-03');\ninsert into pasajero (nombre, direccion_residencia, fecha_nacimiento) values ('Sasha O''Devey', '2236', '2011-01-23');\ninsert into pasajero (nombre, direccion_residencia, fecha_nacimiento) values ('Torrence Janks', '93', '2018-08-17');\ninsert into pasajero (nombre, direccion_residencia, fecha_nacimiento) values ('Lucine Burnhill', '97170', '2004-01-20');\ninsert into pasajero (nombre, direccion_residencia, fecha_nacimiento) values ('Royce Rapport', '07', '2017-04-26');\ninsert into pasajero (nombre, direccion_residencia, fecha_nacimiento) values ('Nari Paul', '6569', '2006-02-12');\ninsert into pasajero (nombre, direccion_residencia, fecha_nacimiento) values ('Georgena Ickovits', '18', '2006-09-05');\ninsert into pasajero (nombre, direccion_residencia, fecha_nacimiento) values ('Alleen Caplan', '262', '1995-11-27');\ninsert into pasajero (nombre, direccion_residencia, fecha_nacimiento) values ('Charmain Briggs', '547', '1995-09-16');\ninsert into pasajero (nombre, direccion_residencia, fecha_nacimiento) values ('Stesha Thick', '31', '2008-11-09');\ninsert into pasajero (nombre, direccion_residencia, fecha_nacimiento) values ('Cora Abrahmovici', '116', '2002-03-19');\ninsert into pasajero (nombre, direccion_residencia, fecha_nacimiento) values ('Casi Jurasz', '63163', '2000-06-09');\ninsert into pasajero (nombre, direccion_residencia, fecha_nacimiento) values ('Nikoletta Blowne', '30836', '2016-03-14');\ninsert into pasajero (nombre, direccion_residencia, fecha_nacimiento) values ('Hoebart Hodges', '0609', '2005-05-02');\ninsert into pasajero (nombre, direccion_residencia, fecha_nacimiento) values ('Cyndia Estcourt', '5', '2014-06-28');\ninsert into pasajero (nombre, direccion_residencia, fecha_nacimiento) values ('Alica Pehrsson', '7', '2017-05-09');\ninsert into pasajero (nombre, direccion_residencia, fecha_nacimiento) values ('Larine Alyukin', '4', '2001-09-29');\ninsert into pasajero (nombre, direccion_residencia, fecha_nacimiento) values ('Laurena Osbaldstone', '6', '2008-10-23');\ninsert into pasajero (nombre, direccion_residencia, fecha_nacimiento) values ('Patrice Delgaty', '5929', '2009-03-06');\ninsert into pasajero (nombre, direccion_residencia, fecha_nacimiento) values ('Edin Bennen', '7', '2006-02-03');\ninsert into pasajero (nombre, direccion_residencia, fecha_nacimiento) values ('Roderich Fetherston', '6', '2004-10-01');\ninsert into pasajero (nombre, direccion_residencia, fecha_nacimiento) values ('Jaquenetta Werendell', '4', '2004-07-02');\ninsert into pasajero (nombre, direccion_residencia, fecha_nacimiento) values ('Ervin Fearnyhough', '942', '1997-06-01');\ninsert into pasajero (nombre, direccion_residencia, fecha_nacimiento) values ('Craggie MacDuffie', '9', '2008-03-27');\ninsert into pasajero (nombre, direccion_residencia, fecha_nacimiento) values ('Thorndike Londors', '4415', '2002-02-15');\ninsert into pasajero (nombre, direccion_residencia, fecha_nacimiento) values ('Ailina Claxson', '962', '2014-10-20');\ninsert into pasajero (nombre, direccion_residencia, fecha_nacimiento) values ('Gilly Reeman', '92124', '1997-10-14');\ninsert into pasajero (nombre, direccion_residencia, fecha_nacimiento) values ('Phil Dunckley', '08701', '2019-05-03');\ninsert into pasajero (nombre, direccion_residencia, fecha_nacimiento) values ('Shawnee Padly', '0546', '2017-09-02');\ninsert into pasajero (nombre, direccion_residencia, fecha_nacimiento) values ('Avram Rooms', '7459', '2017-05-26');\ninsert into pasajero (nombre, direccion_residencia, fecha_nacimiento) values ('Rosabel Steen', '2203', '2018-09-15');\ninsert into pasajero (nombre, direccion_residencia, fecha_nacimiento) values ('Sarah Panting', '3702', '2013-04-20');\ninsert into pasajero (nombre, direccion_residencia, fecha_nacimiento) values ('Matthias Merrett', '58601', '1999-06-04');\ninsert into pasajero (nombre, direccion_residencia, fecha_nacimiento) values ('Brunhilde McKnish', '029', '2011-01-31');\ninsert into pasajero (nombre, direccion_residencia, fecha_nacimiento) values ('Ame Darco', '6', '1996-03-12');\ninsert into pasajero (nombre, direccion_residencia, fecha_nacimiento) values ('Mayne Binley', '665', '2017-12-10');\ninsert into pasajero (nombre, direccion_residencia, fecha_nacimiento) values ('Melisa Wookey', '27114', '2006-04-11');\ninsert into pasajero (nombre, direccion_residencia, fecha_nacimiento) values ('Becca Dallison', '23', '2009-08-28');\ninsert into pasajero (nombre, direccion_residencia, fecha_nacimiento) values ('Axe Varran', '88', '2012-12-12');\ninsert into pasajero (nombre, direccion_residencia, fecha_nacimiento) values ('Raquel Arrandale', '80679', '2009-11-16');\ninsert into pasajero (nombre, direccion_residencia, fecha_nacimiento) values ('Hymie Challace', '289', '2012-03-25');\ninsert into pasajero (nombre, direccion_residencia, fecha_nacimiento) values ('Mike Cana', '085', '2001-10-09');\ninsert into pasajero (nombre, direccion_residencia, fecha_nacimiento) values ('Brockie Allsobrook', '076', '2012-09-10');\ninsert into pasajero (nombre, direccion_residencia, fecha_nacimiento) values ('Shermie Levane', '02466', '2001-04-13');\ninsert into pasajero (nombre, direccion_residencia, fecha_nacimiento) values ('Margaret Perago', '17039', '2003-04-25');\ninsert into pasajero (nombre, direccion_residencia, fecha_nacimiento) values ('Ludovika Catherall', '343', '1997-12-27');\ninsert into pasajero (nombre, direccion_residencia, fecha_nacimiento) values ('Alfred Hopkins', '9231', '2003-02-14');\ninsert into pasajero (nombre, direccion_residencia, fecha_nacimiento) values ('Igor Noble', '60', '2011-01-14');\ninsert into pasajero (nombre, direccion_residencia, fecha_nacimiento) values ('Franky Patek', '5103', '2017-09-19');\ninsert into pasajero (nombre, direccion_residencia, fecha_nacimiento) values ('Sherline Cormack', '2240', '2014-02-25');\ninsert into pasajero (nombre, direccion_residencia, fecha_nacimiento) values ('Fayre Tommaseo', '6852', '1995-05-16');\ninsert into pasajero (nombre, direccion_residencia, fecha_nacimiento) values ('Winne Pauel', '93004', '2007-03-22');\ninsert into pasajero (nombre, direccion_residencia, fecha_nacimiento) values ('Nonna Yanson', '7761', '2017-11-20');\ninsert into pasajero (nombre, direccion_residencia, fecha_nacimiento) values ('Ivett Jacobi', '35', '2011-08-09');\ninsert into pasajero (nombre, direccion_residencia, fecha_nacimiento) values ('Tabbi Olin', '795', '1999-12-08');\ninsert into pasajero (nombre, direccion_residencia, fecha_nacimiento) values ('Westbrook Sirmond', '98', '2008-10-07');\ninsert into pasajero (nombre, direccion_residencia, fecha_nacimiento) values ('Zeb de Almeida', '304', '1996-10-01');\ninsert into pasajero (nombre, direccion_residencia, fecha_nacimiento) values ('Neely Edelston', '8744', '2011-11-02');\ninsert into pasajero (nombre, direccion_residencia, fecha_nacimiento) values ('Hyman Haydney', '192', '2004-12-30');\ninsert into pasajero (nombre, direccion_residencia, fecha_nacimiento) values ('Gardiner Zapatero', '2871', '1994-06-02');\ninsert into pasajero (nombre, direccion_residencia, fecha_nacimiento) values ('Valentine Sealove', '1028', '2007-07-16');\ninsert into pasajero (nombre, direccion_residencia, fecha_nacimiento) values ('Earlie Doldon', '6466', '2007-08-18');\ninsert into pasajero (nombre, direccion_residencia, fecha_nacimiento) values ('Rosemary Clewes', '03', '2007-02-05');\ninsert into pasajero (nombre, direccion_residencia, fecha_nacimiento) values ('Lissi Persence', '452', '1997-01-02');\ninsert into pasajero (nombre, direccion_residencia, fecha_nacimiento) values ('Willamina Cowill', '43757', '2013-12-17');\ninsert into pasajero (nombre, direccion_residencia, fecha_nacimiento) values ('Gordy Ianinotti', '01', '2019-06-10');\ninsert into pasajero (nombre, direccion_residencia, fecha_nacimiento) values ('Sharon Siley', '34', '1998-09-14');\ninsert into pasajero (nombre, direccion_residencia, fecha_nacimiento) values ('Bridie Fallowes', '21498', '2019-12-24');\ninsert into pasajero (nombre, direccion_residencia, fecha_nacimiento) values ('Diahann Imm', '0191', '2008-06-29');\ninsert into pasajero (nombre, direccion_residencia, fecha_nacimiento) values ('Coraline Hunday', '9', '2005-08-11');\ninsert into pasajero (nombre, direccion_residencia, fecha_nacimiento) values ('Lawry Saines', '464', '2001-03-06');\ninsert into pasajero (nombre, direccion_residencia, fecha_nacimiento) values ('Sabrina Demkowicz', '2745', '1995-08-20');\ninsert into pasajero (nombre, direccion_residencia, fecha_nacimiento) values ('Katrine MacMakin', '30', '2003-06-18');\ninsert into pasajero (nombre, direccion_residencia, fecha_nacimiento) values ('Barnaby Quimby', '2', '2010-09-27');\ninsert into pasajero (nombre, direccion_residencia, fecha_nacimiento) values ('Alena Lawson', '3882', '2005-04-23');\ninsert into pasajero (nombre, direccion_residencia, fecha_nacimiento) values ('Wendy Bedin', '71398', '1997-07-29');\n\n"
     ]
    }
   ],
   "source": [
    "# Leer el archivo .sql\n",
    "with open(\"/dbfs/FileStore/tables/pasajero.sql\", \"r\") as file:\n",
    "    sql_script = file.read()\n",
    "\n",
    "# Verificar el contenido del archivo\n",
    "print(sql_script)"
   ]
  },
  {
   "cell_type": "code",
   "execution_count": 0,
   "metadata": {
    "application/vnd.databricks.v1+cell": {
     "cellMetadata": {
      "byteLimit": 2048000,
      "rowLimit": 10000
     },
     "inputWidgets": {},
     "nuid": "b49683e6-bb13-4055-8d78-63bafe21188f",
     "showTitle": false,
     "tableResultSettingsMap": {},
     "title": ""
    }
   },
   "outputs": [
    {
     "output_type": "execute_result",
     "data": {
      "text/plain": [
       "DataFrame[]"
      ]
     },
     "execution_count": 21,
     "metadata": {},
     "output_type": "execute_result"
    }
   ],
   "source": [
    "# Crear la tabla 'pasajero' en Databricks\n",
    "spark.sql(\"\"\"\n",
    "CREATE TABLE IF NOT EXISTS pasajero (\n",
    "    nombre STRING,\n",
    "    direccion_residencia STRING,\n",
    "    fecha_nacimiento DATE\n",
    ")\n",
    "\"\"\")"
   ]
  },
  {
   "cell_type": "code",
   "execution_count": 0,
   "metadata": {
    "application/vnd.databricks.v1+cell": {
     "cellMetadata": {
      "byteLimit": 2048000,
      "rowLimit": 10000
     },
     "inputWidgets": {},
     "nuid": "8203ca81-8ae3-41e2-8e04-a55a41be8854",
     "showTitle": false,
     "tableResultSettingsMap": {},
     "title": ""
    }
   },
   "outputs": [],
   "source": [
    "%python\n",
    "# Dividir el script en comandos individuales y excluir el último elemento vacío\n",
    "commands = sql_script.split(';')[:-1]\n",
    "\n",
    "# Ejecutar cada comando del script SQL en Databricks\n",
    "for command in commands:\n",
    "    if command.strip():\n",
    "        try:\n",
    "            spark.sql(command.strip())\n",
    "        except Exception as e:\n",
    "            print(f\"Error executing command: {command.strip()}\\n{e}\")"
   ]
  },
  {
   "cell_type": "code",
   "execution_count": 0,
   "metadata": {
    "application/vnd.databricks.v1+cell": {
     "cellMetadata": {
      "byteLimit": 2048000,
      "rowLimit": 10000
     },
     "inputWidgets": {},
     "nuid": "d02f271c-158f-45e8-a15a-ed798a784f63",
     "showTitle": false,
     "tableResultSettingsMap": {},
     "title": ""
    }
   },
   "outputs": [
    {
     "output_type": "display_data",
     "data": {
      "text/html": [
       "<style scoped>\n",
       "  .table-result-container {\n",
       "    max-height: 300px;\n",
       "    overflow: auto;\n",
       "  }\n",
       "  table, th, td {\n",
       "    border: 1px solid black;\n",
       "    border-collapse: collapse;\n",
       "  }\n",
       "  th, td {\n",
       "    padding: 5px;\n",
       "  }\n",
       "  th {\n",
       "    text-align: left;\n",
       "  }\n",
       "</style><div class='table-result-container'><table class='table-result'><thead style='background-color: white'><tr><th>nombre</th><th>direccion_residencia</th><th>fecha_nacimiento</th></tr></thead><tbody><tr><td>Lisetta Hinchcliffe</td><td>74321</td><td>2005-05-11</td></tr><tr><td>Enrika Shirtcliffe</td><td>12035</td><td>2010-11-10</td></tr><tr><td>Brockie Allsobrook</td><td>076</td><td>2012-09-10</td></tr><tr><td>Lowrance MacNeilly</td><td>361</td><td>2013-04-05</td></tr><tr><td>Raquel Arrandale</td><td>80679</td><td>2009-11-16</td></tr><tr><td>Matthias Merrett</td><td>58601</td><td>1999-06-04</td></tr><tr><td>Thorndike Londors</td><td>4415</td><td>2002-02-15</td></tr><tr><td>Glendon Hartnell</td><td>40911</td><td>1996-06-23</td></tr><tr><td>Nikoletta Blowne</td><td>30836</td><td>2016-03-14</td></tr><tr><td>Ludovika Catherall</td><td>343</td><td>1997-12-27</td></tr><tr><td>Jaquenetta Werendell</td><td>4</td><td>2004-07-02</td></tr><tr><td>Gardiner Zapatero</td><td>2871</td><td>1994-06-02</td></tr><tr><td>Willamina Cowill</td><td>43757</td><td>2013-12-17</td></tr><tr><td>Valentine Sealove</td><td>1028</td><td>2007-07-16</td></tr><tr><td>Sabrina Demkowicz</td><td>2745</td><td>1995-08-20</td></tr><tr><td>Margaret Perago</td><td>17039</td><td>2003-04-25</td></tr><tr><td>Laurena Osbaldstone</td><td>6</td><td>2008-10-23</td></tr><tr><td>Lucine Burnhill</td><td>97170</td><td>2004-01-20</td></tr><tr><td>Nikolia Tremblot</td><td>0065</td><td>2011-05-29</td></tr><tr><td>Ervin Fearnyhough</td><td>942</td><td>1997-06-01</td></tr><tr><td>Roderich Fetherston</td><td>6</td><td>2004-10-01</td></tr><tr><td>Brunhilde McKnish</td><td>029</td><td>2011-01-31</td></tr><tr><td>Bridie Fallowes</td><td>21498</td><td>2019-12-24</td></tr><tr><td>Sherline Cormack</td><td>2240</td><td>2014-02-25</td></tr><tr><td>Georgena Ickovits</td><td>18</td><td>2006-09-05</td></tr><tr><td>Chelsea Samber</td><td>62996</td><td>2004-01-23</td></tr><tr><td>Cora Abrahmovici</td><td>116</td><td>2002-03-19</td></tr><tr><td>Shermie Levane</td><td>02466</td><td>2001-04-13</td></tr><tr><td>Philbert Plaistowe</td><td>5</td><td>2009-09-28</td></tr><tr><td>Patrice Delgaty</td><td>5929</td><td>2009-03-06</td></tr><tr><td>Westbrook Sirmond</td><td>98</td><td>2008-10-07</td></tr><tr><td>Emmett Detheridge</td><td>7</td><td>2014-04-08</td></tr><tr><td>Phil Dunckley</td><td>08701</td><td>2019-05-03</td></tr><tr><td>Hoebart Hodges</td><td>0609</td><td>2005-05-02</td></tr><tr><td>Melisa Wookey</td><td>27114</td><td>2006-04-11</td></tr><tr><td>Charmain Briggs</td><td>547</td><td>1995-09-16</td></tr><tr><td>Terry Eastlake</td><td>1853</td><td>1999-02-22</td></tr><tr><td>Alfred Hopkins</td><td>9231</td><td>2003-02-14</td></tr><tr><td>Craggie MacDuffie</td><td>9</td><td>2008-03-27</td></tr><tr><td>Fayre Tommaseo</td><td>6852</td><td>1995-05-16</td></tr><tr><td>Neely Edelston</td><td>8744</td><td>2011-11-02</td></tr><tr><td>Katrine MacMakin</td><td>30</td><td>2003-06-18</td></tr><tr><td>Adaline Leith</td><td>8420</td><td>2010-11-10</td></tr><tr><td>Sarah Panting</td><td>3702</td><td>2013-04-20</td></tr><tr><td>Ailina Claxson</td><td>962</td><td>2014-10-20</td></tr><tr><td>Rosabel Steen</td><td>2203</td><td>2018-09-15</td></tr><tr><td>Gilly Reeman</td><td>92124</td><td>1997-10-14</td></tr><tr><td>Hymie Challace</td><td>289</td><td>2012-03-25</td></tr><tr><td>Shawnee Padly</td><td>0546</td><td>2017-09-02</td></tr><tr><td>Wilton Burling</td><td>606</td><td>2017-11-20</td></tr><tr><td>Eydie Cossom</td><td>81965</td><td>2004-02-23</td></tr><tr><td>Zeb de Almeida</td><td>304</td><td>1996-10-01</td></tr><tr><td>Earlie Doldon</td><td>6466</td><td>2007-08-18</td></tr><tr><td>Rosemary Clewes</td><td>03</td><td>2007-02-05</td></tr><tr><td>Lissi Persence</td><td>452</td><td>1997-01-02</td></tr><tr><td>Gordy Ianinotti</td><td>01</td><td>2019-06-10</td></tr><tr><td>Alleen Caplan</td><td>262</td><td>1995-11-27</td></tr><tr><td>Anabel Gloyens</td><td>90</td><td>1995-12-19</td></tr><tr><td>Jude Gorsse</td><td>07946</td><td>2007-05-13</td></tr><tr><td>Casi Jurasz</td><td>63163</td><td>2000-06-09</td></tr><tr><td>Sasha ODevey</td><td>2236</td><td>2011-01-23</td></tr><tr><td>Rouvin Munns</td><td>4084</td><td>2003-11-17</td></tr><tr><td>Cyndia Estcourt</td><td>5</td><td>2014-06-28</td></tr><tr><td>Seth Popeley</td><td>3052</td><td>1999-03-23</td></tr><tr><td>Torrence Janks</td><td>93</td><td>2018-08-17</td></tr><tr><td>Nonna Yanson</td><td>7761</td><td>2017-11-20</td></tr><tr><td>Franky Patek</td><td>5103</td><td>2017-09-19</td></tr><tr><td>Coraline Hunday</td><td>9</td><td>2005-08-11</td></tr><tr><td>Wendy Bedin</td><td>71398</td><td>1997-07-29</td></tr><tr><td>Winne Pauel</td><td>93004</td><td>2007-03-22</td></tr><tr><td>Hyman Haydney</td><td>192</td><td>2004-12-30</td></tr><tr><td>Alena Lawson</td><td>3882</td><td>2005-04-23</td></tr><tr><td>Becca Dallison</td><td>23</td><td>2009-08-28</td></tr><tr><td>Judye Puttnam</td><td>88</td><td>2017-07-04</td></tr><tr><td>Abelard Reely</td><td>47</td><td>2002-10-06</td></tr><tr><td>Avram Rooms</td><td>7459</td><td>2017-05-26</td></tr><tr><td>Mayne Binley</td><td>665</td><td>2017-12-10</td></tr><tr><td>Larine Alyukin</td><td>4</td><td>2001-09-29</td></tr><tr><td>Alica Pehrsson</td><td>7</td><td>2017-05-09</td></tr><tr><td>Royce Rapport</td><td>07</td><td>2017-04-26</td></tr><tr><td>Diahann Imm</td><td>0191</td><td>2008-06-29</td></tr><tr><td>Lawry Saines</td><td>464</td><td>2001-03-06</td></tr><tr><td>Barnaby Quimby</td><td>2</td><td>2010-09-27</td></tr><tr><td>Mitzi Rummery</td><td>13</td><td>1999-10-27</td></tr><tr><td>Stesha Thick</td><td>31</td><td>2008-11-09</td></tr><tr><td>Phillipe Leve</td><td>7</td><td>2015-03-24</td></tr><tr><td>Rey Gornar</td><td>2679</td><td>1999-08-18</td></tr><tr><td>Dacy Austick</td><td>76</td><td>2009-01-20</td></tr><tr><td>Ivett Jacobi</td><td>35</td><td>2011-08-09</td></tr><tr><td>Sharon Siley</td><td>34</td><td>1998-09-14</td></tr><tr><td>Kira McMoyer</td><td>22</td><td>2011-09-28</td></tr><tr><td>Rori Stappard</td><td>2</td><td>2016-04-03</td></tr><tr><td>Cloris Letty</td><td>3</td><td>1997-10-05</td></tr><tr><td>Nari Paul</td><td>6569</td><td>2006-02-12</td></tr><tr><td>Tabbi Olin</td><td>795</td><td>1999-12-08</td></tr><tr><td>Igor Noble</td><td>60</td><td>2011-01-14</td></tr><tr><td>Axe Varran</td><td>88</td><td>2012-12-12</td></tr><tr><td>Edin Bennen</td><td>7</td><td>2006-02-03</td></tr><tr><td>Mike Cana</td><td>085</td><td>2001-10-09</td></tr><tr><td>Ame Darco</td><td>6</td><td>1996-03-12</td></tr></tbody></table></div>"
      ]
     },
     "metadata": {
      "application/vnd.databricks.v1+output": {
       "addedWidgets": {},
       "aggData": [],
       "aggError": "",
       "aggOverflow": false,
       "aggSchema": [],
       "aggSeriesLimitReached": false,
       "aggType": "",
       "arguments": {},
       "columnCustomDisplayInfos": {},
       "data": [
        [
         "Lisetta Hinchcliffe",
         "74321",
         "2005-05-11"
        ],
        [
         "Enrika Shirtcliffe",
         "12035",
         "2010-11-10"
        ],
        [
         "Brockie Allsobrook",
         "076",
         "2012-09-10"
        ],
        [
         "Lowrance MacNeilly",
         "361",
         "2013-04-05"
        ],
        [
         "Raquel Arrandale",
         "80679",
         "2009-11-16"
        ],
        [
         "Matthias Merrett",
         "58601",
         "1999-06-04"
        ],
        [
         "Thorndike Londors",
         "4415",
         "2002-02-15"
        ],
        [
         "Glendon Hartnell",
         "40911",
         "1996-06-23"
        ],
        [
         "Nikoletta Blowne",
         "30836",
         "2016-03-14"
        ],
        [
         "Ludovika Catherall",
         "343",
         "1997-12-27"
        ],
        [
         "Jaquenetta Werendell",
         "4",
         "2004-07-02"
        ],
        [
         "Gardiner Zapatero",
         "2871",
         "1994-06-02"
        ],
        [
         "Willamina Cowill",
         "43757",
         "2013-12-17"
        ],
        [
         "Valentine Sealove",
         "1028",
         "2007-07-16"
        ],
        [
         "Sabrina Demkowicz",
         "2745",
         "1995-08-20"
        ],
        [
         "Margaret Perago",
         "17039",
         "2003-04-25"
        ],
        [
         "Laurena Osbaldstone",
         "6",
         "2008-10-23"
        ],
        [
         "Lucine Burnhill",
         "97170",
         "2004-01-20"
        ],
        [
         "Nikolia Tremblot",
         "0065",
         "2011-05-29"
        ],
        [
         "Ervin Fearnyhough",
         "942",
         "1997-06-01"
        ],
        [
         "Roderich Fetherston",
         "6",
         "2004-10-01"
        ],
        [
         "Brunhilde McKnish",
         "029",
         "2011-01-31"
        ],
        [
         "Bridie Fallowes",
         "21498",
         "2019-12-24"
        ],
        [
         "Sherline Cormack",
         "2240",
         "2014-02-25"
        ],
        [
         "Georgena Ickovits",
         "18",
         "2006-09-05"
        ],
        [
         "Chelsea Samber",
         "62996",
         "2004-01-23"
        ],
        [
         "Cora Abrahmovici",
         "116",
         "2002-03-19"
        ],
        [
         "Shermie Levane",
         "02466",
         "2001-04-13"
        ],
        [
         "Philbert Plaistowe",
         "5",
         "2009-09-28"
        ],
        [
         "Patrice Delgaty",
         "5929",
         "2009-03-06"
        ],
        [
         "Westbrook Sirmond",
         "98",
         "2008-10-07"
        ],
        [
         "Emmett Detheridge",
         "7",
         "2014-04-08"
        ],
        [
         "Phil Dunckley",
         "08701",
         "2019-05-03"
        ],
        [
         "Hoebart Hodges",
         "0609",
         "2005-05-02"
        ],
        [
         "Melisa Wookey",
         "27114",
         "2006-04-11"
        ],
        [
         "Charmain Briggs",
         "547",
         "1995-09-16"
        ],
        [
         "Terry Eastlake",
         "1853",
         "1999-02-22"
        ],
        [
         "Alfred Hopkins",
         "9231",
         "2003-02-14"
        ],
        [
         "Craggie MacDuffie",
         "9",
         "2008-03-27"
        ],
        [
         "Fayre Tommaseo",
         "6852",
         "1995-05-16"
        ],
        [
         "Neely Edelston",
         "8744",
         "2011-11-02"
        ],
        [
         "Katrine MacMakin",
         "30",
         "2003-06-18"
        ],
        [
         "Adaline Leith",
         "8420",
         "2010-11-10"
        ],
        [
         "Sarah Panting",
         "3702",
         "2013-04-20"
        ],
        [
         "Ailina Claxson",
         "962",
         "2014-10-20"
        ],
        [
         "Rosabel Steen",
         "2203",
         "2018-09-15"
        ],
        [
         "Gilly Reeman",
         "92124",
         "1997-10-14"
        ],
        [
         "Hymie Challace",
         "289",
         "2012-03-25"
        ],
        [
         "Shawnee Padly",
         "0546",
         "2017-09-02"
        ],
        [
         "Wilton Burling",
         "606",
         "2017-11-20"
        ],
        [
         "Eydie Cossom",
         "81965",
         "2004-02-23"
        ],
        [
         "Zeb de Almeida",
         "304",
         "1996-10-01"
        ],
        [
         "Earlie Doldon",
         "6466",
         "2007-08-18"
        ],
        [
         "Rosemary Clewes",
         "03",
         "2007-02-05"
        ],
        [
         "Lissi Persence",
         "452",
         "1997-01-02"
        ],
        [
         "Gordy Ianinotti",
         "01",
         "2019-06-10"
        ],
        [
         "Alleen Caplan",
         "262",
         "1995-11-27"
        ],
        [
         "Anabel Gloyens",
         "90",
         "1995-12-19"
        ],
        [
         "Jude Gorsse",
         "07946",
         "2007-05-13"
        ],
        [
         "Casi Jurasz",
         "63163",
         "2000-06-09"
        ],
        [
         "Sasha ODevey",
         "2236",
         "2011-01-23"
        ],
        [
         "Rouvin Munns",
         "4084",
         "2003-11-17"
        ],
        [
         "Cyndia Estcourt",
         "5",
         "2014-06-28"
        ],
        [
         "Seth Popeley",
         "3052",
         "1999-03-23"
        ],
        [
         "Torrence Janks",
         "93",
         "2018-08-17"
        ],
        [
         "Nonna Yanson",
         "7761",
         "2017-11-20"
        ],
        [
         "Franky Patek",
         "5103",
         "2017-09-19"
        ],
        [
         "Coraline Hunday",
         "9",
         "2005-08-11"
        ],
        [
         "Wendy Bedin",
         "71398",
         "1997-07-29"
        ],
        [
         "Winne Pauel",
         "93004",
         "2007-03-22"
        ],
        [
         "Hyman Haydney",
         "192",
         "2004-12-30"
        ],
        [
         "Alena Lawson",
         "3882",
         "2005-04-23"
        ],
        [
         "Becca Dallison",
         "23",
         "2009-08-28"
        ],
        [
         "Judye Puttnam",
         "88",
         "2017-07-04"
        ],
        [
         "Abelard Reely",
         "47",
         "2002-10-06"
        ],
        [
         "Avram Rooms",
         "7459",
         "2017-05-26"
        ],
        [
         "Mayne Binley",
         "665",
         "2017-12-10"
        ],
        [
         "Larine Alyukin",
         "4",
         "2001-09-29"
        ],
        [
         "Alica Pehrsson",
         "7",
         "2017-05-09"
        ],
        [
         "Royce Rapport",
         "07",
         "2017-04-26"
        ],
        [
         "Diahann Imm",
         "0191",
         "2008-06-29"
        ],
        [
         "Lawry Saines",
         "464",
         "2001-03-06"
        ],
        [
         "Barnaby Quimby",
         "2",
         "2010-09-27"
        ],
        [
         "Mitzi Rummery",
         "13",
         "1999-10-27"
        ],
        [
         "Stesha Thick",
         "31",
         "2008-11-09"
        ],
        [
         "Phillipe Leve",
         "7",
         "2015-03-24"
        ],
        [
         "Rey Gornar",
         "2679",
         "1999-08-18"
        ],
        [
         "Dacy Austick",
         "76",
         "2009-01-20"
        ],
        [
         "Ivett Jacobi",
         "35",
         "2011-08-09"
        ],
        [
         "Sharon Siley",
         "34",
         "1998-09-14"
        ],
        [
         "Kira McMoyer",
         "22",
         "2011-09-28"
        ],
        [
         "Rori Stappard",
         "2",
         "2016-04-03"
        ],
        [
         "Cloris Letty",
         "3",
         "1997-10-05"
        ],
        [
         "Nari Paul",
         "6569",
         "2006-02-12"
        ],
        [
         "Tabbi Olin",
         "795",
         "1999-12-08"
        ],
        [
         "Igor Noble",
         "60",
         "2011-01-14"
        ],
        [
         "Axe Varran",
         "88",
         "2012-12-12"
        ],
        [
         "Edin Bennen",
         "7",
         "2006-02-03"
        ],
        [
         "Mike Cana",
         "085",
         "2001-10-09"
        ],
        [
         "Ame Darco",
         "6",
         "1996-03-12"
        ]
       ],
       "datasetInfos": [],
       "dbfsResultPath": null,
       "isJsonSchema": true,
       "metadata": {},
       "overflow": false,
       "plotOptions": {
        "customPlotOptions": {},
        "displayType": "table",
        "pivotAggregation": null,
        "pivotColumns": null,
        "xColumns": null,
        "yColumns": null
       },
       "removedWidgets": [],
       "schema": [
        {
         "metadata": "{}",
         "name": "nombre",
         "type": "\"string\""
        },
        {
         "metadata": "{}",
         "name": "direccion_residencia",
         "type": "\"string\""
        },
        {
         "metadata": "{}",
         "name": "fecha_nacimiento",
         "type": "\"date\""
        }
       ],
       "type": "table"
      }
     },
     "output_type": "display_data"
    }
   ],
   "source": [
    "%python\n",
    "# Mostrar los datos insertados en la tabla 'pasajero'\n",
    "df = spark.sql(\"SELECT * FROM pasajero\")\n",
    "display(df)"
   ]
  },
  {
   "cell_type": "code",
   "execution_count": 0,
   "metadata": {
    "application/vnd.databricks.v1+cell": {
     "cellMetadata": {
      "byteLimit": 2048000,
      "rowLimit": 10000
     },
     "inputWidgets": {},
     "nuid": "ff80fba0-39fd-4459-a87d-b45f033d45d2",
     "showTitle": false,
     "tableResultSettingsMap": {},
     "title": ""
    }
   },
   "outputs": [],
   "source": [
    "%python\n",
    "# Guardar la tabla 'pasajero' en Azure PostgreSQL\n",
    "df.write.jdbc(\n",
    "    url=jdbc_url,\n",
    "    table=\"pasajero\",\n",
    "    mode=\"overwrite\",\n",
    "    properties=connection_properties\n",
    ")"
   ]
  },
  {
   "cell_type": "code",
   "execution_count": 0,
   "metadata": {
    "application/vnd.databricks.v1+cell": {
     "cellMetadata": {
      "byteLimit": 2048000,
      "rowLimit": 10000
     },
     "inputWidgets": {},
     "nuid": "34faaaa3-9e8f-439d-95ca-bfda325cb320",
     "showTitle": false,
     "tableResultSettingsMap": {},
     "title": ""
    }
   },
   "outputs": [
    {
     "output_type": "display_data",
     "data": {
      "text/html": [
       "<style scoped>\n",
       "  .table-result-container {\n",
       "    max-height: 300px;\n",
       "    overflow: auto;\n",
       "  }\n",
       "  table, th, td {\n",
       "    border: 1px solid black;\n",
       "    border-collapse: collapse;\n",
       "  }\n",
       "  th, td {\n",
       "    padding: 5px;\n",
       "  }\n",
       "  th {\n",
       "    text-align: left;\n",
       "  }\n",
       "</style><div class='table-result-container'><table class='table-result'><thead style='background-color: white'><tr><th>table_catalog</th><th>table_schema</th><th>table_name</th><th>table_type</th><th>self_referencing_column_name</th><th>reference_generation</th><th>user_defined_type_catalog</th><th>user_defined_type_schema</th><th>user_defined_type_name</th><th>is_insertable_into</th><th>is_typed</th><th>commit_action</th></tr></thead><tbody><tr><td>postgres</td><td>pg_catalog</td><td>pg_stats_ext</td><td>VIEW</td><td>null</td><td>null</td><td>null</td><td>null</td><td>null</td><td>NO</td><td>NO</td><td>null</td></tr><tr><td>postgres</td><td>pg_catalog</td><td>pg_stats_ext_exprs</td><td>VIEW</td><td>null</td><td>null</td><td>null</td><td>null</td><td>null</td><td>NO</td><td>NO</td><td>null</td></tr><tr><td>postgres</td><td>pg_catalog</td><td>pg_statistic</td><td>BASE TABLE</td><td>null</td><td>null</td><td>null</td><td>null</td><td>null</td><td>YES</td><td>NO</td><td>null</td></tr><tr><td>postgres</td><td>pg_catalog</td><td>pg_type</td><td>BASE TABLE</td><td>null</td><td>null</td><td>null</td><td>null</td><td>null</td><td>YES</td><td>NO</td><td>null</td></tr><tr><td>postgres</td><td>public</td><td>trayecto</td><td>BASE TABLE</td><td>null</td><td>null</td><td>null</td><td>null</td><td>null</td><td>YES</td><td>NO</td><td>null</td></tr><tr><td>postgres</td><td>pg_catalog</td><td>pg_foreign_table</td><td>BASE TABLE</td><td>null</td><td>null</td><td>null</td><td>null</td><td>null</td><td>YES</td><td>NO</td><td>null</td></tr><tr><td>postgres</td><td>pg_catalog</td><td>pg_authid</td><td>BASE TABLE</td><td>null</td><td>null</td><td>null</td><td>null</td><td>null</td><td>YES</td><td>NO</td><td>null</td></tr><tr><td>postgres</td><td>pg_catalog</td><td>pg_shadow</td><td>VIEW</td><td>null</td><td>null</td><td>null</td><td>null</td><td>null</td><td>NO</td><td>NO</td><td>null</td></tr><tr><td>postgres</td><td>public</td><td>estacion</td><td>BASE TABLE</td><td>null</td><td>null</td><td>null</td><td>null</td><td>null</td><td>YES</td><td>NO</td><td>null</td></tr><tr><td>postgres</td><td>pg_catalog</td><td>pg_roles</td><td>VIEW</td><td>null</td><td>null</td><td>null</td><td>null</td><td>null</td><td>NO</td><td>NO</td><td>null</td></tr><tr><td>postgres</td><td>public</td><td>pasajero</td><td>BASE TABLE</td><td>null</td><td>null</td><td>null</td><td>null</td><td>null</td><td>YES</td><td>NO</td><td>null</td></tr><tr><td>postgres</td><td>pg_catalog</td><td>pg_statistic_ext_data</td><td>BASE TABLE</td><td>null</td><td>null</td><td>null</td><td>null</td><td>null</td><td>YES</td><td>NO</td><td>null</td></tr><tr><td>postgres</td><td>pg_catalog</td><td>pg_hba_file_rules</td><td>VIEW</td><td>null</td><td>null</td><td>null</td><td>null</td><td>null</td><td>NO</td><td>NO</td><td>null</td></tr><tr><td>postgres</td><td>pg_catalog</td><td>pg_settings</td><td>VIEW</td><td>null</td><td>null</td><td>null</td><td>null</td><td>null</td><td>NO</td><td>NO</td><td>null</td></tr><tr><td>postgres</td><td>pg_catalog</td><td>pg_file_settings</td><td>VIEW</td><td>null</td><td>null</td><td>null</td><td>null</td><td>null</td><td>NO</td><td>NO</td><td>null</td></tr><tr><td>postgres</td><td>pg_catalog</td><td>pg_backend_memory_contexts</td><td>VIEW</td><td>null</td><td>null</td><td>null</td><td>null</td><td>null</td><td>NO</td><td>NO</td><td>null</td></tr><tr><td>postgres</td><td>pg_catalog</td><td>pg_ident_file_mappings</td><td>VIEW</td><td>null</td><td>null</td><td>null</td><td>null</td><td>null</td><td>NO</td><td>NO</td><td>null</td></tr><tr><td>postgres</td><td>pg_catalog</td><td>pg_config</td><td>VIEW</td><td>null</td><td>null</td><td>null</td><td>null</td><td>null</td><td>NO</td><td>NO</td><td>null</td></tr><tr><td>postgres</td><td>pg_catalog</td><td>pg_shmem_allocations</td><td>VIEW</td><td>null</td><td>null</td><td>null</td><td>null</td><td>null</td><td>NO</td><td>NO</td><td>null</td></tr><tr><td>postgres</td><td>pg_catalog</td><td>pg_tables</td><td>VIEW</td><td>null</td><td>null</td><td>null</td><td>null</td><td>null</td><td>NO</td><td>NO</td><td>null</td></tr><tr><td>postgres</td><td>pg_catalog</td><td>pg_user_mapping</td><td>BASE TABLE</td><td>null</td><td>null</td><td>null</td><td>null</td><td>null</td><td>YES</td><td>NO</td><td>null</td></tr><tr><td>postgres</td><td>pg_catalog</td><td>pg_replication_origin_status</td><td>VIEW</td><td>null</td><td>null</td><td>null</td><td>null</td><td>null</td><td>NO</td><td>NO</td><td>null</td></tr><tr><td>postgres</td><td>pg_catalog</td><td>pg_subscription</td><td>BASE TABLE</td><td>null</td><td>null</td><td>null</td><td>null</td><td>null</td><td>YES</td><td>NO</td><td>null</td></tr><tr><td>postgres</td><td>pg_catalog</td><td>pg_attribute</td><td>BASE TABLE</td><td>null</td><td>null</td><td>null</td><td>null</td><td>null</td><td>YES</td><td>NO</td><td>null</td></tr><tr><td>postgres</td><td>pg_catalog</td><td>pg_proc</td><td>BASE TABLE</td><td>null</td><td>null</td><td>null</td><td>null</td><td>null</td><td>YES</td><td>NO</td><td>null</td></tr><tr><td>postgres</td><td>pg_catalog</td><td>pg_class</td><td>BASE TABLE</td><td>null</td><td>null</td><td>null</td><td>null</td><td>null</td><td>YES</td><td>NO</td><td>null</td></tr><tr><td>postgres</td><td>pg_catalog</td><td>pg_attrdef</td><td>BASE TABLE</td><td>null</td><td>null</td><td>null</td><td>null</td><td>null</td><td>YES</td><td>NO</td><td>null</td></tr><tr><td>postgres</td><td>pg_catalog</td><td>pg_constraint</td><td>BASE TABLE</td><td>null</td><td>null</td><td>null</td><td>null</td><td>null</td><td>YES</td><td>NO</td><td>null</td></tr><tr><td>postgres</td><td>pg_catalog</td><td>pg_inherits</td><td>BASE TABLE</td><td>null</td><td>null</td><td>null</td><td>null</td><td>null</td><td>YES</td><td>NO</td><td>null</td></tr><tr><td>postgres</td><td>pg_catalog</td><td>pg_index</td><td>BASE TABLE</td><td>null</td><td>null</td><td>null</td><td>null</td><td>null</td><td>YES</td><td>NO</td><td>null</td></tr><tr><td>postgres</td><td>pg_catalog</td><td>pg_operator</td><td>BASE TABLE</td><td>null</td><td>null</td><td>null</td><td>null</td><td>null</td><td>YES</td><td>NO</td><td>null</td></tr><tr><td>postgres</td><td>pg_catalog</td><td>pg_statio_all_sequences</td><td>VIEW</td><td>null</td><td>null</td><td>null</td><td>null</td><td>null</td><td>NO</td><td>NO</td><td>null</td></tr><tr><td>postgres</td><td>pg_catalog</td><td>pg_opfamily</td><td>BASE TABLE</td><td>null</td><td>null</td><td>null</td><td>null</td><td>null</td><td>YES</td><td>NO</td><td>null</td></tr><tr><td>postgres</td><td>pg_catalog</td><td>pg_opclass</td><td>BASE TABLE</td><td>null</td><td>null</td><td>null</td><td>null</td><td>null</td><td>YES</td><td>NO</td><td>null</td></tr><tr><td>postgres</td><td>pg_catalog</td><td>pg_am</td><td>BASE TABLE</td><td>null</td><td>null</td><td>null</td><td>null</td><td>null</td><td>YES</td><td>NO</td><td>null</td></tr><tr><td>postgres</td><td>pg_catalog</td><td>pg_amop</td><td>BASE TABLE</td><td>null</td><td>null</td><td>null</td><td>null</td><td>null</td><td>YES</td><td>NO</td><td>null</td></tr><tr><td>postgres</td><td>pg_catalog</td><td>pg_amproc</td><td>BASE TABLE</td><td>null</td><td>null</td><td>null</td><td>null</td><td>null</td><td>YES</td><td>NO</td><td>null</td></tr><tr><td>postgres</td><td>pg_catalog</td><td>pg_language</td><td>BASE TABLE</td><td>null</td><td>null</td><td>null</td><td>null</td><td>null</td><td>YES</td><td>NO</td><td>null</td></tr><tr><td>postgres</td><td>pg_catalog</td><td>pg_largeobject_metadata</td><td>BASE TABLE</td><td>null</td><td>null</td><td>null</td><td>null</td><td>null</td><td>YES</td><td>NO</td><td>null</td></tr><tr><td>postgres</td><td>pg_catalog</td><td>pg_aggregate</td><td>BASE TABLE</td><td>null</td><td>null</td><td>null</td><td>null</td><td>null</td><td>YES</td><td>NO</td><td>null</td></tr><tr><td>postgres</td><td>pg_catalog</td><td>pg_statistic_ext</td><td>BASE TABLE</td><td>null</td><td>null</td><td>null</td><td>null</td><td>null</td><td>YES</td><td>NO</td><td>null</td></tr><tr><td>postgres</td><td>pg_catalog</td><td>pg_rewrite</td><td>BASE TABLE</td><td>null</td><td>null</td><td>null</td><td>null</td><td>null</td><td>YES</td><td>NO</td><td>null</td></tr><tr><td>postgres</td><td>pg_catalog</td><td>pg_trigger</td><td>BASE TABLE</td><td>null</td><td>null</td><td>null</td><td>null</td><td>null</td><td>YES</td><td>NO</td><td>null</td></tr><tr><td>postgres</td><td>pg_catalog</td><td>pg_event_trigger</td><td>BASE TABLE</td><td>null</td><td>null</td><td>null</td><td>null</td><td>null</td><td>YES</td><td>NO</td><td>null</td></tr><tr><td>postgres</td><td>pg_catalog</td><td>pg_description</td><td>BASE TABLE</td><td>null</td><td>null</td><td>null</td><td>null</td><td>null</td><td>YES</td><td>NO</td><td>null</td></tr><tr><td>postgres</td><td>pg_catalog</td><td>pg_cast</td><td>BASE TABLE</td><td>null</td><td>null</td><td>null</td><td>null</td><td>null</td><td>YES</td><td>NO</td><td>null</td></tr><tr><td>postgres</td><td>pg_catalog</td><td>pg_enum</td><td>BASE TABLE</td><td>null</td><td>null</td><td>null</td><td>null</td><td>null</td><td>YES</td><td>NO</td><td>null</td></tr><tr><td>postgres</td><td>pg_catalog</td><td>pg_namespace</td><td>BASE TABLE</td><td>null</td><td>null</td><td>null</td><td>null</td><td>null</td><td>YES</td><td>NO</td><td>null</td></tr><tr><td>postgres</td><td>pg_catalog</td><td>pg_conversion</td><td>BASE TABLE</td><td>null</td><td>null</td><td>null</td><td>null</td><td>null</td><td>YES</td><td>NO</td><td>null</td></tr><tr><td>postgres</td><td>pg_catalog</td><td>pg_depend</td><td>BASE TABLE</td><td>null</td><td>null</td><td>null</td><td>null</td><td>null</td><td>YES</td><td>NO</td><td>null</td></tr><tr><td>postgres</td><td>pg_catalog</td><td>pg_database</td><td>BASE TABLE</td><td>null</td><td>null</td><td>null</td><td>null</td><td>null</td><td>YES</td><td>NO</td><td>null</td></tr><tr><td>postgres</td><td>pg_catalog</td><td>pg_db_role_setting</td><td>BASE TABLE</td><td>null</td><td>null</td><td>null</td><td>null</td><td>null</td><td>YES</td><td>NO</td><td>null</td></tr><tr><td>postgres</td><td>pg_catalog</td><td>pg_tablespace</td><td>BASE TABLE</td><td>null</td><td>null</td><td>null</td><td>null</td><td>null</td><td>YES</td><td>NO</td><td>null</td></tr><tr><td>postgres</td><td>pg_catalog</td><td>pg_auth_members</td><td>BASE TABLE</td><td>null</td><td>null</td><td>null</td><td>null</td><td>null</td><td>YES</td><td>NO</td><td>null</td></tr><tr><td>postgres</td><td>pg_catalog</td><td>pg_shdepend</td><td>BASE TABLE</td><td>null</td><td>null</td><td>null</td><td>null</td><td>null</td><td>YES</td><td>NO</td><td>null</td></tr><tr><td>postgres</td><td>pg_catalog</td><td>pg_shdescription</td><td>BASE TABLE</td><td>null</td><td>null</td><td>null</td><td>null</td><td>null</td><td>YES</td><td>NO</td><td>null</td></tr><tr><td>postgres</td><td>pg_catalog</td><td>pg_ts_config</td><td>BASE TABLE</td><td>null</td><td>null</td><td>null</td><td>null</td><td>null</td><td>YES</td><td>NO</td><td>null</td></tr><tr><td>postgres</td><td>pg_catalog</td><td>pg_ts_config_map</td><td>BASE TABLE</td><td>null</td><td>null</td><td>null</td><td>null</td><td>null</td><td>YES</td><td>NO</td><td>null</td></tr><tr><td>postgres</td><td>pg_catalog</td><td>pg_ts_dict</td><td>BASE TABLE</td><td>null</td><td>null</td><td>null</td><td>null</td><td>null</td><td>YES</td><td>NO</td><td>null</td></tr><tr><td>postgres</td><td>pg_catalog</td><td>pg_ts_parser</td><td>BASE TABLE</td><td>null</td><td>null</td><td>null</td><td>null</td><td>null</td><td>YES</td><td>NO</td><td>null</td></tr><tr><td>postgres</td><td>pg_catalog</td><td>pg_ts_template</td><td>BASE TABLE</td><td>null</td><td>null</td><td>null</td><td>null</td><td>null</td><td>YES</td><td>NO</td><td>null</td></tr><tr><td>postgres</td><td>pg_catalog</td><td>pg_extension</td><td>BASE TABLE</td><td>null</td><td>null</td><td>null</td><td>null</td><td>null</td><td>YES</td><td>NO</td><td>null</td></tr><tr><td>postgres</td><td>pg_catalog</td><td>pg_foreign_data_wrapper</td><td>BASE TABLE</td><td>null</td><td>null</td><td>null</td><td>null</td><td>null</td><td>YES</td><td>NO</td><td>null</td></tr><tr><td>postgres</td><td>pg_catalog</td><td>pg_foreign_server</td><td>BASE TABLE</td><td>null</td><td>null</td><td>null</td><td>null</td><td>null</td><td>YES</td><td>NO</td><td>null</td></tr><tr><td>postgres</td><td>pg_catalog</td><td>pg_policy</td><td>BASE TABLE</td><td>null</td><td>null</td><td>null</td><td>null</td><td>null</td><td>YES</td><td>NO</td><td>null</td></tr><tr><td>postgres</td><td>pg_catalog</td><td>pg_replication_origin</td><td>BASE TABLE</td><td>null</td><td>null</td><td>null</td><td>null</td><td>null</td><td>YES</td><td>NO</td><td>null</td></tr><tr><td>postgres</td><td>pg_catalog</td><td>pg_default_acl</td><td>BASE TABLE</td><td>null</td><td>null</td><td>null</td><td>null</td><td>null</td><td>YES</td><td>NO</td><td>null</td></tr><tr><td>postgres</td><td>pg_catalog</td><td>pg_init_privs</td><td>BASE TABLE</td><td>null</td><td>null</td><td>null</td><td>null</td><td>null</td><td>YES</td><td>NO</td><td>null</td></tr><tr><td>postgres</td><td>pg_catalog</td><td>pg_seclabel</td><td>BASE TABLE</td><td>null</td><td>null</td><td>null</td><td>null</td><td>null</td><td>YES</td><td>NO</td><td>null</td></tr><tr><td>postgres</td><td>pg_catalog</td><td>pg_shseclabel</td><td>BASE TABLE</td><td>null</td><td>null</td><td>null</td><td>null</td><td>null</td><td>YES</td><td>NO</td><td>null</td></tr><tr><td>postgres</td><td>pg_catalog</td><td>pg_collation</td><td>BASE TABLE</td><td>null</td><td>null</td><td>null</td><td>null</td><td>null</td><td>YES</td><td>NO</td><td>null</td></tr><tr><td>postgres</td><td>pg_catalog</td><td>pg_parameter_acl</td><td>BASE TABLE</td><td>null</td><td>null</td><td>null</td><td>null</td><td>null</td><td>YES</td><td>NO</td><td>null</td></tr><tr><td>postgres</td><td>pg_catalog</td><td>pg_partitioned_table</td><td>BASE TABLE</td><td>null</td><td>null</td><td>null</td><td>null</td><td>null</td><td>YES</td><td>NO</td><td>null</td></tr><tr><td>postgres</td><td>pg_catalog</td><td>pg_range</td><td>BASE TABLE</td><td>null</td><td>null</td><td>null</td><td>null</td><td>null</td><td>YES</td><td>NO</td><td>null</td></tr><tr><td>postgres</td><td>pg_catalog</td><td>pg_transform</td><td>BASE TABLE</td><td>null</td><td>null</td><td>null</td><td>null</td><td>null</td><td>YES</td><td>NO</td><td>null</td></tr><tr><td>postgres</td><td>pg_catalog</td><td>pg_sequence</td><td>BASE TABLE</td><td>null</td><td>null</td><td>null</td><td>null</td><td>null</td><td>YES</td><td>NO</td><td>null</td></tr><tr><td>postgres</td><td>pg_catalog</td><td>pg_publication</td><td>BASE TABLE</td><td>null</td><td>null</td><td>null</td><td>null</td><td>null</td><td>YES</td><td>NO</td><td>null</td></tr><tr><td>postgres</td><td>pg_catalog</td><td>pg_publication_namespace</td><td>BASE TABLE</td><td>null</td><td>null</td><td>null</td><td>null</td><td>null</td><td>YES</td><td>NO</td><td>null</td></tr><tr><td>postgres</td><td>pg_catalog</td><td>pg_publication_rel</td><td>BASE TABLE</td><td>null</td><td>null</td><td>null</td><td>null</td><td>null</td><td>YES</td><td>NO</td><td>null</td></tr><tr><td>postgres</td><td>pg_catalog</td><td>pg_subscription_rel</td><td>BASE TABLE</td><td>null</td><td>null</td><td>null</td><td>null</td><td>null</td><td>YES</td><td>NO</td><td>null</td></tr><tr><td>postgres</td><td>pg_catalog</td><td>pg_group</td><td>VIEW</td><td>null</td><td>null</td><td>null</td><td>null</td><td>null</td><td>YES</td><td>NO</td><td>null</td></tr><tr><td>postgres</td><td>pg_catalog</td><td>pg_user</td><td>VIEW</td><td>null</td><td>null</td><td>null</td><td>null</td><td>null</td><td>NO</td><td>NO</td><td>null</td></tr><tr><td>postgres</td><td>pg_catalog</td><td>pg_policies</td><td>VIEW</td><td>null</td><td>null</td><td>null</td><td>null</td><td>null</td><td>NO</td><td>NO</td><td>null</td></tr><tr><td>postgres</td><td>pg_catalog</td><td>pg_rules</td><td>VIEW</td><td>null</td><td>null</td><td>null</td><td>null</td><td>null</td><td>NO</td><td>NO</td><td>null</td></tr><tr><td>postgres</td><td>pg_catalog</td><td>pg_views</td><td>VIEW</td><td>null</td><td>null</td><td>null</td><td>null</td><td>null</td><td>NO</td><td>NO</td><td>null</td></tr><tr><td>postgres</td><td>pg_catalog</td><td>pg_matviews</td><td>VIEW</td><td>null</td><td>null</td><td>null</td><td>null</td><td>null</td><td>NO</td><td>NO</td><td>null</td></tr><tr><td>postgres</td><td>pg_catalog</td><td>pg_indexes</td><td>VIEW</td><td>null</td><td>null</td><td>null</td><td>null</td><td>null</td><td>NO</td><td>NO</td><td>null</td></tr><tr><td>postgres</td><td>pg_catalog</td><td>pg_sequences</td><td>VIEW</td><td>null</td><td>null</td><td>null</td><td>null</td><td>null</td><td>NO</td><td>NO</td><td>null</td></tr><tr><td>postgres</td><td>pg_catalog</td><td>pg_stats</td><td>VIEW</td><td>null</td><td>null</td><td>null</td><td>null</td><td>null</td><td>NO</td><td>NO</td><td>null</td></tr><tr><td>postgres</td><td>pg_catalog</td><td>pg_publication_tables</td><td>VIEW</td><td>null</td><td>null</td><td>null</td><td>null</td><td>null</td><td>NO</td><td>NO</td><td>null</td></tr><tr><td>postgres</td><td>pg_catalog</td><td>pg_locks</td><td>VIEW</td><td>null</td><td>null</td><td>null</td><td>null</td><td>null</td><td>NO</td><td>NO</td><td>null</td></tr><tr><td>postgres</td><td>pg_catalog</td><td>pg_cursors</td><td>VIEW</td><td>null</td><td>null</td><td>null</td><td>null</td><td>null</td><td>NO</td><td>NO</td><td>null</td></tr><tr><td>postgres</td><td>pg_catalog</td><td>pg_available_extensions</td><td>VIEW</td><td>null</td><td>null</td><td>null</td><td>null</td><td>null</td><td>NO</td><td>NO</td><td>null</td></tr><tr><td>postgres</td><td>pg_catalog</td><td>pg_available_extension_versions</td><td>VIEW</td><td>null</td><td>null</td><td>null</td><td>null</td><td>null</td><td>NO</td><td>NO</td><td>null</td></tr><tr><td>postgres</td><td>pg_catalog</td><td>pg_prepared_xacts</td><td>VIEW</td><td>null</td><td>null</td><td>null</td><td>null</td><td>null</td><td>NO</td><td>NO</td><td>null</td></tr><tr><td>postgres</td><td>pg_catalog</td><td>pg_prepared_statements</td><td>VIEW</td><td>null</td><td>null</td><td>null</td><td>null</td><td>null</td><td>NO</td><td>NO</td><td>null</td></tr><tr><td>postgres</td><td>pg_catalog</td><td>pg_seclabels</td><td>VIEW</td><td>null</td><td>null</td><td>null</td><td>null</td><td>null</td><td>NO</td><td>NO</td><td>null</td></tr><tr><td>postgres</td><td>pg_catalog</td><td>pg_timezone_abbrevs</td><td>VIEW</td><td>null</td><td>null</td><td>null</td><td>null</td><td>null</td><td>NO</td><td>NO</td><td>null</td></tr><tr><td>postgres</td><td>pg_catalog</td><td>pg_timezone_names</td><td>VIEW</td><td>null</td><td>null</td><td>null</td><td>null</td><td>null</td><td>NO</td><td>NO</td><td>null</td></tr><tr><td>postgres</td><td>pg_catalog</td><td>pg_stat_all_tables</td><td>VIEW</td><td>null</td><td>null</td><td>null</td><td>null</td><td>null</td><td>NO</td><td>NO</td><td>null</td></tr><tr><td>postgres</td><td>pg_catalog</td><td>pg_stat_xact_all_tables</td><td>VIEW</td><td>null</td><td>null</td><td>null</td><td>null</td><td>null</td><td>NO</td><td>NO</td><td>null</td></tr><tr><td>postgres</td><td>pg_catalog</td><td>pg_stat_xact_user_tables</td><td>VIEW</td><td>null</td><td>null</td><td>null</td><td>null</td><td>null</td><td>NO</td><td>NO</td><td>null</td></tr><tr><td>postgres</td><td>pg_catalog</td><td>pg_stat_sys_tables</td><td>VIEW</td><td>null</td><td>null</td><td>null</td><td>null</td><td>null</td><td>NO</td><td>NO</td><td>null</td></tr><tr><td>postgres</td><td>pg_catalog</td><td>pg_stat_xact_sys_tables</td><td>VIEW</td><td>null</td><td>null</td><td>null</td><td>null</td><td>null</td><td>NO</td><td>NO</td><td>null</td></tr><tr><td>postgres</td><td>pg_catalog</td><td>pg_stat_user_tables</td><td>VIEW</td><td>null</td><td>null</td><td>null</td><td>null</td><td>null</td><td>NO</td><td>NO</td><td>null</td></tr><tr><td>postgres</td><td>pg_catalog</td><td>pg_statio_all_tables</td><td>VIEW</td><td>null</td><td>null</td><td>null</td><td>null</td><td>null</td><td>NO</td><td>NO</td><td>null</td></tr><tr><td>postgres</td><td>pg_catalog</td><td>pg_statio_sys_tables</td><td>VIEW</td><td>null</td><td>null</td><td>null</td><td>null</td><td>null</td><td>NO</td><td>NO</td><td>null</td></tr><tr><td>postgres</td><td>pg_catalog</td><td>pg_statio_user_tables</td><td>VIEW</td><td>null</td><td>null</td><td>null</td><td>null</td><td>null</td><td>NO</td><td>NO</td><td>null</td></tr><tr><td>postgres</td><td>pg_catalog</td><td>pg_stat_all_indexes</td><td>VIEW</td><td>null</td><td>null</td><td>null</td><td>null</td><td>null</td><td>NO</td><td>NO</td><td>null</td></tr><tr><td>postgres</td><td>pg_catalog</td><td>pg_stat_sys_indexes</td><td>VIEW</td><td>null</td><td>null</td><td>null</td><td>null</td><td>null</td><td>NO</td><td>NO</td><td>null</td></tr><tr><td>postgres</td><td>pg_catalog</td><td>pg_stat_user_indexes</td><td>VIEW</td><td>null</td><td>null</td><td>null</td><td>null</td><td>null</td><td>NO</td><td>NO</td><td>null</td></tr><tr><td>postgres</td><td>pg_catalog</td><td>pg_statio_all_indexes</td><td>VIEW</td><td>null</td><td>null</td><td>null</td><td>null</td><td>null</td><td>NO</td><td>NO</td><td>null</td></tr><tr><td>postgres</td><td>pg_catalog</td><td>pg_statio_sys_indexes</td><td>VIEW</td><td>null</td><td>null</td><td>null</td><td>null</td><td>null</td><td>NO</td><td>NO</td><td>null</td></tr><tr><td>postgres</td><td>pg_catalog</td><td>pg_statio_user_indexes</td><td>VIEW</td><td>null</td><td>null</td><td>null</td><td>null</td><td>null</td><td>NO</td><td>NO</td><td>null</td></tr><tr><td>postgres</td><td>pg_catalog</td><td>pg_statio_sys_sequences</td><td>VIEW</td><td>null</td><td>null</td><td>null</td><td>null</td><td>null</td><td>NO</td><td>NO</td><td>null</td></tr><tr><td>postgres</td><td>pg_catalog</td><td>pg_statio_user_sequences</td><td>VIEW</td><td>null</td><td>null</td><td>null</td><td>null</td><td>null</td><td>NO</td><td>NO</td><td>null</td></tr><tr><td>postgres</td><td>pg_catalog</td><td>pg_stat_activity</td><td>VIEW</td><td>null</td><td>null</td><td>null</td><td>null</td><td>null</td><td>NO</td><td>NO</td><td>null</td></tr><tr><td>postgres</td><td>pg_catalog</td><td>pg_stat_replication</td><td>VIEW</td><td>null</td><td>null</td><td>null</td><td>null</td><td>null</td><td>NO</td><td>NO</td><td>null</td></tr><tr><td>postgres</td><td>pg_catalog</td><td>pg_stat_slru</td><td>VIEW</td><td>null</td><td>null</td><td>null</td><td>null</td><td>null</td><td>NO</td><td>NO</td><td>null</td></tr><tr><td>postgres</td><td>pg_catalog</td><td>pg_stat_wal_receiver</td><td>VIEW</td><td>null</td><td>null</td><td>null</td><td>null</td><td>null</td><td>NO</td><td>NO</td><td>null</td></tr><tr><td>postgres</td><td>pg_catalog</td><td>pg_stat_recovery_prefetch</td><td>VIEW</td><td>null</td><td>null</td><td>null</td><td>null</td><td>null</td><td>NO</td><td>NO</td><td>null</td></tr><tr><td>postgres</td><td>pg_catalog</td><td>pg_stat_subscription</td><td>VIEW</td><td>null</td><td>null</td><td>null</td><td>null</td><td>null</td><td>NO</td><td>NO</td><td>null</td></tr><tr><td>postgres</td><td>pg_catalog</td><td>pg_stat_ssl</td><td>VIEW</td><td>null</td><td>null</td><td>null</td><td>null</td><td>null</td><td>NO</td><td>NO</td><td>null</td></tr><tr><td>postgres</td><td>pg_catalog</td><td>pg_stat_gssapi</td><td>VIEW</td><td>null</td><td>null</td><td>null</td><td>null</td><td>null</td><td>NO</td><td>NO</td><td>null</td></tr><tr><td>postgres</td><td>pg_catalog</td><td>pg_replication_slots</td><td>VIEW</td><td>null</td><td>null</td><td>null</td><td>null</td><td>null</td><td>NO</td><td>NO</td><td>null</td></tr><tr><td>postgres</td><td>pg_catalog</td><td>pg_stat_replication_slots</td><td>VIEW</td><td>null</td><td>null</td><td>null</td><td>null</td><td>null</td><td>NO</td><td>NO</td><td>null</td></tr><tr><td>postgres</td><td>pg_catalog</td><td>pg_stat_database</td><td>VIEW</td><td>null</td><td>null</td><td>null</td><td>null</td><td>null</td><td>NO</td><td>NO</td><td>null</td></tr><tr><td>postgres</td><td>pg_catalog</td><td>pg_stat_database_conflicts</td><td>VIEW</td><td>null</td><td>null</td><td>null</td><td>null</td><td>null</td><td>YES</td><td>NO</td><td>null</td></tr><tr><td>postgres</td><td>pg_catalog</td><td>pg_stat_user_functions</td><td>VIEW</td><td>null</td><td>null</td><td>null</td><td>null</td><td>null</td><td>NO</td><td>NO</td><td>null</td></tr><tr><td>postgres</td><td>pg_catalog</td><td>pg_stat_xact_user_functions</td><td>VIEW</td><td>null</td><td>null</td><td>null</td><td>null</td><td>null</td><td>NO</td><td>NO</td><td>null</td></tr><tr><td>postgres</td><td>pg_catalog</td><td>pg_stat_archiver</td><td>VIEW</td><td>null</td><td>null</td><td>null</td><td>null</td><td>null</td><td>NO</td><td>NO</td><td>null</td></tr><tr><td>postgres</td><td>pg_catalog</td><td>pg_stat_bgwriter</td><td>VIEW</td><td>null</td><td>null</td><td>null</td><td>null</td><td>null</td><td>NO</td><td>NO</td><td>null</td></tr><tr><td>postgres</td><td>pg_catalog</td><td>pg_stat_io</td><td>VIEW</td><td>null</td><td>null</td><td>null</td><td>null</td><td>null</td><td>NO</td><td>NO</td><td>null</td></tr><tr><td>postgres</td><td>pg_catalog</td><td>pg_stat_wal</td><td>VIEW</td><td>null</td><td>null</td><td>null</td><td>null</td><td>null</td><td>NO</td><td>NO</td><td>null</td></tr><tr><td>postgres</td><td>pg_catalog</td><td>pg_stat_progress_analyze</td><td>VIEW</td><td>null</td><td>null</td><td>null</td><td>null</td><td>null</td><td>NO</td><td>NO</td><td>null</td></tr><tr><td>postgres</td><td>pg_catalog</td><td>pg_stat_progress_vacuum</td><td>VIEW</td><td>null</td><td>null</td><td>null</td><td>null</td><td>null</td><td>NO</td><td>NO</td><td>null</td></tr><tr><td>postgres</td><td>pg_catalog</td><td>pg_stat_progress_cluster</td><td>VIEW</td><td>null</td><td>null</td><td>null</td><td>null</td><td>null</td><td>NO</td><td>NO</td><td>null</td></tr><tr><td>postgres</td><td>pg_catalog</td><td>pg_stat_progress_create_index</td><td>VIEW</td><td>null</td><td>null</td><td>null</td><td>null</td><td>null</td><td>NO</td><td>NO</td><td>null</td></tr><tr><td>postgres</td><td>pg_catalog</td><td>pg_stat_progress_basebackup</td><td>VIEW</td><td>null</td><td>null</td><td>null</td><td>null</td><td>null</td><td>NO</td><td>NO</td><td>null</td></tr><tr><td>postgres</td><td>pg_catalog</td><td>pg_stat_progress_copy</td><td>VIEW</td><td>null</td><td>null</td><td>null</td><td>null</td><td>null</td><td>NO</td><td>NO</td><td>null</td></tr><tr><td>postgres</td><td>pg_catalog</td><td>pg_user_mappings</td><td>VIEW</td><td>null</td><td>null</td><td>null</td><td>null</td><td>null</td><td>NO</td><td>NO</td><td>null</td></tr><tr><td>postgres</td><td>pg_catalog</td><td>pg_stat_subscription_stats</td><td>VIEW</td><td>null</td><td>null</td><td>null</td><td>null</td><td>null</td><td>NO</td><td>NO</td><td>null</td></tr><tr><td>postgres</td><td>pg_catalog</td><td>pg_largeobject</td><td>BASE TABLE</td><td>null</td><td>null</td><td>null</td><td>null</td><td>null</td><td>YES</td><td>NO</td><td>null</td></tr><tr><td>postgres</td><td>information_schema</td><td>collations</td><td>VIEW</td><td>null</td><td>null</td><td>null</td><td>null</td><td>null</td><td>NO</td><td>NO</td><td>null</td></tr><tr><td>postgres</td><td>information_schema</td><td>information_schema_catalog_name</td><td>VIEW</td><td>null</td><td>null</td><td>null</td><td>null</td><td>null</td><td>NO</td><td>NO</td><td>null</td></tr><tr><td>postgres</td><td>information_schema</td><td>applicable_roles</td><td>VIEW</td><td>null</td><td>null</td><td>null</td><td>null</td><td>null</td><td>NO</td><td>NO</td><td>null</td></tr><tr><td>postgres</td><td>information_schema</td><td>domain_constraints</td><td>VIEW</td><td>null</td><td>null</td><td>null</td><td>null</td><td>null</td><td>NO</td><td>NO</td><td>null</td></tr><tr><td>postgres</td><td>information_schema</td><td>administrable_role_authorizations</td><td>VIEW</td><td>null</td><td>null</td><td>null</td><td>null</td><td>null</td><td>NO</td><td>NO</td><td>null</td></tr><tr><td>postgres</td><td>information_schema</td><td>collation_character_set_applicability</td><td>VIEW</td><td>null</td><td>null</td><td>null</td><td>null</td><td>null</td><td>NO</td><td>NO</td><td>null</td></tr><tr><td>postgres</td><td>information_schema</td><td>attributes</td><td>VIEW</td><td>null</td><td>null</td><td>null</td><td>null</td><td>null</td><td>NO</td><td>NO</td><td>null</td></tr><tr><td>postgres</td><td>information_schema</td><td>character_sets</td><td>VIEW</td><td>null</td><td>null</td><td>null</td><td>null</td><td>null</td><td>NO</td><td>NO</td><td>null</td></tr><tr><td>postgres</td><td>information_schema</td><td>column_udt_usage</td><td>VIEW</td><td>null</td><td>null</td><td>null</td><td>null</td><td>null</td><td>NO</td><td>NO</td><td>null</td></tr><tr><td>postgres</td><td>information_schema</td><td>check_constraint_routine_usage</td><td>VIEW</td><td>null</td><td>null</td><td>null</td><td>null</td><td>null</td><td>NO</td><td>NO</td><td>null</td></tr><tr><td>postgres</td><td>information_schema</td><td>column_column_usage</td><td>VIEW</td><td>null</td><td>null</td><td>null</td><td>null</td><td>null</td><td>NO</td><td>NO</td><td>null</td></tr><tr><td>postgres</td><td>information_schema</td><td>check_constraints</td><td>VIEW</td><td>null</td><td>null</td><td>null</td><td>null</td><td>null</td><td>NO</td><td>NO</td><td>null</td></tr><tr><td>postgres</td><td>information_schema</td><td>constraint_table_usage</td><td>VIEW</td><td>null</td><td>null</td><td>null</td><td>null</td><td>null</td><td>NO</td><td>NO</td><td>null</td></tr><tr><td>postgres</td><td>information_schema</td><td>column_domain_usage</td><td>VIEW</td><td>null</td><td>null</td><td>null</td><td>null</td><td>null</td><td>NO</td><td>NO</td><td>null</td></tr><tr><td>postgres</td><td>information_schema</td><td>columns</td><td>VIEW</td><td>null</td><td>null</td><td>null</td><td>null</td><td>null</td><td>NO</td><td>NO</td><td>null</td></tr><tr><td>postgres</td><td>information_schema</td><td>column_privileges</td><td>VIEW</td><td>null</td><td>null</td><td>null</td><td>null</td><td>null</td><td>NO</td><td>NO</td><td>null</td></tr><tr><td>postgres</td><td>information_schema</td><td>constraint_column_usage</td><td>VIEW</td><td>null</td><td>null</td><td>null</td><td>null</td><td>null</td><td>NO</td><td>NO</td><td>null</td></tr><tr><td>postgres</td><td>information_schema</td><td>domain_udt_usage</td><td>VIEW</td><td>null</td><td>null</td><td>null</td><td>null</td><td>null</td><td>NO</td><td>NO</td><td>null</td></tr><tr><td>postgres</td><td>information_schema</td><td>domains</td><td>VIEW</td><td>null</td><td>null</td><td>null</td><td>null</td><td>null</td><td>NO</td><td>NO</td><td>null</td></tr><tr><td>postgres</td><td>information_schema</td><td>enabled_roles</td><td>VIEW</td><td>null</td><td>null</td><td>null</td><td>null</td><td>null</td><td>NO</td><td>NO</td><td>null</td></tr><tr><td>postgres</td><td>information_schema</td><td>key_column_usage</td><td>VIEW</td><td>null</td><td>null</td><td>null</td><td>null</td><td>null</td><td>NO</td><td>NO</td><td>null</td></tr><tr><td>postgres</td><td>information_schema</td><td>parameters</td><td>VIEW</td><td>null</td><td>null</td><td>null</td><td>null</td><td>null</td><td>NO</td><td>NO</td><td>null</td></tr><tr><td>postgres</td><td>information_schema</td><td>table_privileges</td><td>VIEW</td><td>null</td><td>null</td><td>null</td><td>null</td><td>null</td><td>NO</td><td>NO</td><td>null</td></tr><tr><td>postgres</td><td>information_schema</td><td>referential_constraints</td><td>VIEW</td><td>null</td><td>null</td><td>null</td><td>null</td><td>null</td><td>NO</td><td>NO</td><td>null</td></tr><tr><td>postgres</td><td>information_schema</td><td>sql_features</td><td>BASE TABLE</td><td>null</td><td>null</td><td>null</td><td>null</td><td>null</td><td>YES</td><td>NO</td><td>null</td></tr><tr><td>postgres</td><td>information_schema</td><td>role_column_grants</td><td>VIEW</td><td>null</td><td>null</td><td>null</td><td>null</td><td>null</td><td>NO</td><td>NO</td><td>null</td></tr><tr><td>postgres</td><td>information_schema</td><td>routine_column_usage</td><td>VIEW</td><td>null</td><td>null</td><td>null</td><td>null</td><td>null</td><td>NO</td><td>NO</td><td>null</td></tr><tr><td>postgres</td><td>information_schema</td><td>routine_privileges</td><td>VIEW</td><td>null</td><td>null</td><td>null</td><td>null</td><td>null</td><td>NO</td><td>NO</td><td>null</td></tr><tr><td>postgres</td><td>information_schema</td><td>role_routine_grants</td><td>VIEW</td><td>null</td><td>null</td><td>null</td><td>null</td><td>null</td><td>NO</td><td>NO</td><td>null</td></tr><tr><td>postgres</td><td>information_schema</td><td>routine_routine_usage</td><td>VIEW</td><td>null</td><td>null</td><td>null</td><td>null</td><td>null</td><td>NO</td><td>NO</td><td>null</td></tr><tr><td>postgres</td><td>information_schema</td><td>sql_implementation_info</td><td>BASE TABLE</td><td>null</td><td>null</td><td>null</td><td>null</td><td>null</td><td>YES</td><td>NO</td><td>null</td></tr><tr><td>postgres</td><td>information_schema</td><td>routine_sequence_usage</td><td>VIEW</td><td>null</td><td>null</td><td>null</td><td>null</td><td>null</td><td>NO</td><td>NO</td><td>null</td></tr><tr><td>postgres</td><td>information_schema</td><td>routine_table_usage</td><td>VIEW</td><td>null</td><td>null</td><td>null</td><td>null</td><td>null</td><td>NO</td><td>NO</td><td>null</td></tr><tr><td>postgres</td><td>information_schema</td><td>routines</td><td>VIEW</td><td>null</td><td>null</td><td>null</td><td>null</td><td>null</td><td>NO</td><td>NO</td><td>null</td></tr><tr><td>postgres</td><td>information_schema</td><td>schemata</td><td>VIEW</td><td>null</td><td>null</td><td>null</td><td>null</td><td>null</td><td>NO</td><td>NO</td><td>null</td></tr><tr><td>postgres</td><td>information_schema</td><td>sql_parts</td><td>BASE TABLE</td><td>null</td><td>null</td><td>null</td><td>null</td><td>null</td><td>YES</td><td>NO</td><td>null</td></tr><tr><td>postgres</td><td>information_schema</td><td>sequences</td><td>VIEW</td><td>null</td><td>null</td><td>null</td><td>null</td><td>null</td><td>NO</td><td>NO</td><td>null</td></tr><tr><td>postgres</td><td>information_schema</td><td>transforms</td><td>VIEW</td><td>null</td><td>null</td><td>null</td><td>null</td><td>null</td><td>NO</td><td>NO</td><td>null</td></tr><tr><td>postgres</td><td>information_schema</td><td>sql_sizing</td><td>BASE TABLE</td><td>null</td><td>null</td><td>null</td><td>null</td><td>null</td><td>YES</td><td>NO</td><td>null</td></tr><tr><td>postgres</td><td>information_schema</td><td>role_table_grants</td><td>VIEW</td><td>null</td><td>null</td><td>null</td><td>null</td><td>null</td><td>NO</td><td>NO</td><td>null</td></tr><tr><td>postgres</td><td>information_schema</td><td>table_constraints</td><td>VIEW</td><td>null</td><td>null</td><td>null</td><td>null</td><td>null</td><td>NO</td><td>NO</td><td>null</td></tr><tr><td>postgres</td><td>information_schema</td><td>triggers</td><td>VIEW</td><td>null</td><td>null</td><td>null</td><td>null</td><td>null</td><td>NO</td><td>NO</td><td>null</td></tr><tr><td>postgres</td><td>information_schema</td><td>tables</td><td>VIEW</td><td>null</td><td>null</td><td>null</td><td>null</td><td>null</td><td>NO</td><td>NO</td><td>null</td></tr><tr><td>postgres</td><td>information_schema</td><td>triggered_update_columns</td><td>VIEW</td><td>null</td><td>null</td><td>null</td><td>null</td><td>null</td><td>NO</td><td>NO</td><td>null</td></tr><tr><td>postgres</td><td>information_schema</td><td>udt_privileges</td><td>VIEW</td><td>null</td><td>null</td><td>null</td><td>null</td><td>null</td><td>NO</td><td>NO</td><td>null</td></tr><tr><td>postgres</td><td>information_schema</td><td>role_udt_grants</td><td>VIEW</td><td>null</td><td>null</td><td>null</td><td>null</td><td>null</td><td>NO</td><td>NO</td><td>null</td></tr><tr><td>postgres</td><td>information_schema</td><td>usage_privileges</td><td>VIEW</td><td>null</td><td>null</td><td>null</td><td>null</td><td>null</td><td>NO</td><td>NO</td><td>null</td></tr><tr><td>postgres</td><td>information_schema</td><td>role_usage_grants</td><td>VIEW</td><td>null</td><td>null</td><td>null</td><td>null</td><td>null</td><td>NO</td><td>NO</td><td>null</td></tr><tr><td>postgres</td><td>information_schema</td><td>user_defined_types</td><td>VIEW</td><td>null</td><td>null</td><td>null</td><td>null</td><td>null</td><td>NO</td><td>NO</td><td>null</td></tr><tr><td>postgres</td><td>information_schema</td><td>view_column_usage</td><td>VIEW</td><td>null</td><td>null</td><td>null</td><td>null</td><td>null</td><td>NO</td><td>NO</td><td>null</td></tr><tr><td>postgres</td><td>information_schema</td><td>foreign_servers</td><td>VIEW</td><td>null</td><td>null</td><td>null</td><td>null</td><td>null</td><td>NO</td><td>NO</td><td>null</td></tr><tr><td>postgres</td><td>information_schema</td><td>view_routine_usage</td><td>VIEW</td><td>null</td><td>null</td><td>null</td><td>null</td><td>null</td><td>NO</td><td>NO</td><td>null</td></tr><tr><td>postgres</td><td>information_schema</td><td>view_table_usage</td><td>VIEW</td><td>null</td><td>null</td><td>null</td><td>null</td><td>null</td><td>NO</td><td>NO</td><td>null</td></tr><tr><td>postgres</td><td>information_schema</td><td>_pg_foreign_tables</td><td>VIEW</td><td>null</td><td>null</td><td>null</td><td>null</td><td>null</td><td>NO</td><td>NO</td><td>null</td></tr><tr><td>postgres</td><td>information_schema</td><td>views</td><td>VIEW</td><td>null</td><td>null</td><td>null</td><td>null</td><td>null</td><td>NO</td><td>NO</td><td>null</td></tr><tr><td>postgres</td><td>information_schema</td><td>data_type_privileges</td><td>VIEW</td><td>null</td><td>null</td><td>null</td><td>null</td><td>null</td><td>NO</td><td>NO</td><td>null</td></tr><tr><td>postgres</td><td>information_schema</td><td>element_types</td><td>VIEW</td><td>null</td><td>null</td><td>null</td><td>null</td><td>null</td><td>NO</td><td>NO</td><td>null</td></tr><tr><td>postgres</td><td>information_schema</td><td>_pg_foreign_table_columns</td><td>VIEW</td><td>null</td><td>null</td><td>null</td><td>null</td><td>null</td><td>NO</td><td>NO</td><td>null</td></tr><tr><td>postgres</td><td>information_schema</td><td>foreign_table_options</td><td>VIEW</td><td>null</td><td>null</td><td>null</td><td>null</td><td>null</td><td>NO</td><td>NO</td><td>null</td></tr><tr><td>postgres</td><td>information_schema</td><td>column_options</td><td>VIEW</td><td>null</td><td>null</td><td>null</td><td>null</td><td>null</td><td>NO</td><td>NO</td><td>null</td></tr><tr><td>postgres</td><td>information_schema</td><td>_pg_foreign_data_wrappers</td><td>VIEW</td><td>null</td><td>null</td><td>null</td><td>null</td><td>null</td><td>NO</td><td>NO</td><td>null</td></tr><tr><td>postgres</td><td>information_schema</td><td>foreign_data_wrapper_options</td><td>VIEW</td><td>null</td><td>null</td><td>null</td><td>null</td><td>null</td><td>NO</td><td>NO</td><td>null</td></tr><tr><td>postgres</td><td>information_schema</td><td>foreign_data_wrappers</td><td>VIEW</td><td>null</td><td>null</td><td>null</td><td>null</td><td>null</td><td>NO</td><td>NO</td><td>null</td></tr><tr><td>postgres</td><td>information_schema</td><td>_pg_foreign_servers</td><td>VIEW</td><td>null</td><td>null</td><td>null</td><td>null</td><td>null</td><td>NO</td><td>NO</td><td>null</td></tr><tr><td>postgres</td><td>information_schema</td><td>foreign_tables</td><td>VIEW</td><td>null</td><td>null</td><td>null</td><td>null</td><td>null</td><td>NO</td><td>NO</td><td>null</td></tr><tr><td>postgres</td><td>information_schema</td><td>foreign_server_options</td><td>VIEW</td><td>null</td><td>null</td><td>null</td><td>null</td><td>null</td><td>NO</td><td>NO</td><td>null</td></tr><tr><td>postgres</td><td>information_schema</td><td>_pg_user_mappings</td><td>VIEW</td><td>null</td><td>null</td><td>null</td><td>null</td><td>null</td><td>NO</td><td>NO</td><td>null</td></tr><tr><td>postgres</td><td>information_schema</td><td>user_mapping_options</td><td>VIEW</td><td>null</td><td>null</td><td>null</td><td>null</td><td>null</td><td>NO</td><td>NO</td><td>null</td></tr><tr><td>postgres</td><td>information_schema</td><td>user_mappings</td><td>VIEW</td><td>null</td><td>null</td><td>null</td><td>null</td><td>null</td><td>NO</td><td>NO</td><td>null</td></tr></tbody></table></div>"
      ]
     },
     "metadata": {
      "application/vnd.databricks.v1+output": {
       "addedWidgets": {},
       "aggData": [],
       "aggError": "",
       "aggOverflow": false,
       "aggSchema": [],
       "aggSeriesLimitReached": false,
       "aggType": "",
       "arguments": {},
       "columnCustomDisplayInfos": {},
       "data": [
        [
         "postgres",
         "pg_catalog",
         "pg_stats_ext",
         "VIEW",
         null,
         null,
         null,
         null,
         null,
         "NO",
         "NO",
         null
        ],
        [
         "postgres",
         "pg_catalog",
         "pg_stats_ext_exprs",
         "VIEW",
         null,
         null,
         null,
         null,
         null,
         "NO",
         "NO",
         null
        ],
        [
         "postgres",
         "pg_catalog",
         "pg_statistic",
         "BASE TABLE",
         null,
         null,
         null,
         null,
         null,
         "YES",
         "NO",
         null
        ],
        [
         "postgres",
         "pg_catalog",
         "pg_type",
         "BASE TABLE",
         null,
         null,
         null,
         null,
         null,
         "YES",
         "NO",
         null
        ],
        [
         "postgres",
         "public",
         "trayecto",
         "BASE TABLE",
         null,
         null,
         null,
         null,
         null,
         "YES",
         "NO",
         null
        ],
        [
         "postgres",
         "pg_catalog",
         "pg_foreign_table",
         "BASE TABLE",
         null,
         null,
         null,
         null,
         null,
         "YES",
         "NO",
         null
        ],
        [
         "postgres",
         "pg_catalog",
         "pg_authid",
         "BASE TABLE",
         null,
         null,
         null,
         null,
         null,
         "YES",
         "NO",
         null
        ],
        [
         "postgres",
         "pg_catalog",
         "pg_shadow",
         "VIEW",
         null,
         null,
         null,
         null,
         null,
         "NO",
         "NO",
         null
        ],
        [
         "postgres",
         "public",
         "estacion",
         "BASE TABLE",
         null,
         null,
         null,
         null,
         null,
         "YES",
         "NO",
         null
        ],
        [
         "postgres",
         "pg_catalog",
         "pg_roles",
         "VIEW",
         null,
         null,
         null,
         null,
         null,
         "NO",
         "NO",
         null
        ],
        [
         "postgres",
         "public",
         "pasajero",
         "BASE TABLE",
         null,
         null,
         null,
         null,
         null,
         "YES",
         "NO",
         null
        ],
        [
         "postgres",
         "pg_catalog",
         "pg_statistic_ext_data",
         "BASE TABLE",
         null,
         null,
         null,
         null,
         null,
         "YES",
         "NO",
         null
        ],
        [
         "postgres",
         "pg_catalog",
         "pg_hba_file_rules",
         "VIEW",
         null,
         null,
         null,
         null,
         null,
         "NO",
         "NO",
         null
        ],
        [
         "postgres",
         "pg_catalog",
         "pg_settings",
         "VIEW",
         null,
         null,
         null,
         null,
         null,
         "NO",
         "NO",
         null
        ],
        [
         "postgres",
         "pg_catalog",
         "pg_file_settings",
         "VIEW",
         null,
         null,
         null,
         null,
         null,
         "NO",
         "NO",
         null
        ],
        [
         "postgres",
         "pg_catalog",
         "pg_backend_memory_contexts",
         "VIEW",
         null,
         null,
         null,
         null,
         null,
         "NO",
         "NO",
         null
        ],
        [
         "postgres",
         "pg_catalog",
         "pg_ident_file_mappings",
         "VIEW",
         null,
         null,
         null,
         null,
         null,
         "NO",
         "NO",
         null
        ],
        [
         "postgres",
         "pg_catalog",
         "pg_config",
         "VIEW",
         null,
         null,
         null,
         null,
         null,
         "NO",
         "NO",
         null
        ],
        [
         "postgres",
         "pg_catalog",
         "pg_shmem_allocations",
         "VIEW",
         null,
         null,
         null,
         null,
         null,
         "NO",
         "NO",
         null
        ],
        [
         "postgres",
         "pg_catalog",
         "pg_tables",
         "VIEW",
         null,
         null,
         null,
         null,
         null,
         "NO",
         "NO",
         null
        ],
        [
         "postgres",
         "pg_catalog",
         "pg_user_mapping",
         "BASE TABLE",
         null,
         null,
         null,
         null,
         null,
         "YES",
         "NO",
         null
        ],
        [
         "postgres",
         "pg_catalog",
         "pg_replication_origin_status",
         "VIEW",
         null,
         null,
         null,
         null,
         null,
         "NO",
         "NO",
         null
        ],
        [
         "postgres",
         "pg_catalog",
         "pg_subscription",
         "BASE TABLE",
         null,
         null,
         null,
         null,
         null,
         "YES",
         "NO",
         null
        ],
        [
         "postgres",
         "pg_catalog",
         "pg_attribute",
         "BASE TABLE",
         null,
         null,
         null,
         null,
         null,
         "YES",
         "NO",
         null
        ],
        [
         "postgres",
         "pg_catalog",
         "pg_proc",
         "BASE TABLE",
         null,
         null,
         null,
         null,
         null,
         "YES",
         "NO",
         null
        ],
        [
         "postgres",
         "pg_catalog",
         "pg_class",
         "BASE TABLE",
         null,
         null,
         null,
         null,
         null,
         "YES",
         "NO",
         null
        ],
        [
         "postgres",
         "pg_catalog",
         "pg_attrdef",
         "BASE TABLE",
         null,
         null,
         null,
         null,
         null,
         "YES",
         "NO",
         null
        ],
        [
         "postgres",
         "pg_catalog",
         "pg_constraint",
         "BASE TABLE",
         null,
         null,
         null,
         null,
         null,
         "YES",
         "NO",
         null
        ],
        [
         "postgres",
         "pg_catalog",
         "pg_inherits",
         "BASE TABLE",
         null,
         null,
         null,
         null,
         null,
         "YES",
         "NO",
         null
        ],
        [
         "postgres",
         "pg_catalog",
         "pg_index",
         "BASE TABLE",
         null,
         null,
         null,
         null,
         null,
         "YES",
         "NO",
         null
        ],
        [
         "postgres",
         "pg_catalog",
         "pg_operator",
         "BASE TABLE",
         null,
         null,
         null,
         null,
         null,
         "YES",
         "NO",
         null
        ],
        [
         "postgres",
         "pg_catalog",
         "pg_statio_all_sequences",
         "VIEW",
         null,
         null,
         null,
         null,
         null,
         "NO",
         "NO",
         null
        ],
        [
         "postgres",
         "pg_catalog",
         "pg_opfamily",
         "BASE TABLE",
         null,
         null,
         null,
         null,
         null,
         "YES",
         "NO",
         null
        ],
        [
         "postgres",
         "pg_catalog",
         "pg_opclass",
         "BASE TABLE",
         null,
         null,
         null,
         null,
         null,
         "YES",
         "NO",
         null
        ],
        [
         "postgres",
         "pg_catalog",
         "pg_am",
         "BASE TABLE",
         null,
         null,
         null,
         null,
         null,
         "YES",
         "NO",
         null
        ],
        [
         "postgres",
         "pg_catalog",
         "pg_amop",
         "BASE TABLE",
         null,
         null,
         null,
         null,
         null,
         "YES",
         "NO",
         null
        ],
        [
         "postgres",
         "pg_catalog",
         "pg_amproc",
         "BASE TABLE",
         null,
         null,
         null,
         null,
         null,
         "YES",
         "NO",
         null
        ],
        [
         "postgres",
         "pg_catalog",
         "pg_language",
         "BASE TABLE",
         null,
         null,
         null,
         null,
         null,
         "YES",
         "NO",
         null
        ],
        [
         "postgres",
         "pg_catalog",
         "pg_largeobject_metadata",
         "BASE TABLE",
         null,
         null,
         null,
         null,
         null,
         "YES",
         "NO",
         null
        ],
        [
         "postgres",
         "pg_catalog",
         "pg_aggregate",
         "BASE TABLE",
         null,
         null,
         null,
         null,
         null,
         "YES",
         "NO",
         null
        ],
        [
         "postgres",
         "pg_catalog",
         "pg_statistic_ext",
         "BASE TABLE",
         null,
         null,
         null,
         null,
         null,
         "YES",
         "NO",
         null
        ],
        [
         "postgres",
         "pg_catalog",
         "pg_rewrite",
         "BASE TABLE",
         null,
         null,
         null,
         null,
         null,
         "YES",
         "NO",
         null
        ],
        [
         "postgres",
         "pg_catalog",
         "pg_trigger",
         "BASE TABLE",
         null,
         null,
         null,
         null,
         null,
         "YES",
         "NO",
         null
        ],
        [
         "postgres",
         "pg_catalog",
         "pg_event_trigger",
         "BASE TABLE",
         null,
         null,
         null,
         null,
         null,
         "YES",
         "NO",
         null
        ],
        [
         "postgres",
         "pg_catalog",
         "pg_description",
         "BASE TABLE",
         null,
         null,
         null,
         null,
         null,
         "YES",
         "NO",
         null
        ],
        [
         "postgres",
         "pg_catalog",
         "pg_cast",
         "BASE TABLE",
         null,
         null,
         null,
         null,
         null,
         "YES",
         "NO",
         null
        ],
        [
         "postgres",
         "pg_catalog",
         "pg_enum",
         "BASE TABLE",
         null,
         null,
         null,
         null,
         null,
         "YES",
         "NO",
         null
        ],
        [
         "postgres",
         "pg_catalog",
         "pg_namespace",
         "BASE TABLE",
         null,
         null,
         null,
         null,
         null,
         "YES",
         "NO",
         null
        ],
        [
         "postgres",
         "pg_catalog",
         "pg_conversion",
         "BASE TABLE",
         null,
         null,
         null,
         null,
         null,
         "YES",
         "NO",
         null
        ],
        [
         "postgres",
         "pg_catalog",
         "pg_depend",
         "BASE TABLE",
         null,
         null,
         null,
         null,
         null,
         "YES",
         "NO",
         null
        ],
        [
         "postgres",
         "pg_catalog",
         "pg_database",
         "BASE TABLE",
         null,
         null,
         null,
         null,
         null,
         "YES",
         "NO",
         null
        ],
        [
         "postgres",
         "pg_catalog",
         "pg_db_role_setting",
         "BASE TABLE",
         null,
         null,
         null,
         null,
         null,
         "YES",
         "NO",
         null
        ],
        [
         "postgres",
         "pg_catalog",
         "pg_tablespace",
         "BASE TABLE",
         null,
         null,
         null,
         null,
         null,
         "YES",
         "NO",
         null
        ],
        [
         "postgres",
         "pg_catalog",
         "pg_auth_members",
         "BASE TABLE",
         null,
         null,
         null,
         null,
         null,
         "YES",
         "NO",
         null
        ],
        [
         "postgres",
         "pg_catalog",
         "pg_shdepend",
         "BASE TABLE",
         null,
         null,
         null,
         null,
         null,
         "YES",
         "NO",
         null
        ],
        [
         "postgres",
         "pg_catalog",
         "pg_shdescription",
         "BASE TABLE",
         null,
         null,
         null,
         null,
         null,
         "YES",
         "NO",
         null
        ],
        [
         "postgres",
         "pg_catalog",
         "pg_ts_config",
         "BASE TABLE",
         null,
         null,
         null,
         null,
         null,
         "YES",
         "NO",
         null
        ],
        [
         "postgres",
         "pg_catalog",
         "pg_ts_config_map",
         "BASE TABLE",
         null,
         null,
         null,
         null,
         null,
         "YES",
         "NO",
         null
        ],
        [
         "postgres",
         "pg_catalog",
         "pg_ts_dict",
         "BASE TABLE",
         null,
         null,
         null,
         null,
         null,
         "YES",
         "NO",
         null
        ],
        [
         "postgres",
         "pg_catalog",
         "pg_ts_parser",
         "BASE TABLE",
         null,
         null,
         null,
         null,
         null,
         "YES",
         "NO",
         null
        ],
        [
         "postgres",
         "pg_catalog",
         "pg_ts_template",
         "BASE TABLE",
         null,
         null,
         null,
         null,
         null,
         "YES",
         "NO",
         null
        ],
        [
         "postgres",
         "pg_catalog",
         "pg_extension",
         "BASE TABLE",
         null,
         null,
         null,
         null,
         null,
         "YES",
         "NO",
         null
        ],
        [
         "postgres",
         "pg_catalog",
         "pg_foreign_data_wrapper",
         "BASE TABLE",
         null,
         null,
         null,
         null,
         null,
         "YES",
         "NO",
         null
        ],
        [
         "postgres",
         "pg_catalog",
         "pg_foreign_server",
         "BASE TABLE",
         null,
         null,
         null,
         null,
         null,
         "YES",
         "NO",
         null
        ],
        [
         "postgres",
         "pg_catalog",
         "pg_policy",
         "BASE TABLE",
         null,
         null,
         null,
         null,
         null,
         "YES",
         "NO",
         null
        ],
        [
         "postgres",
         "pg_catalog",
         "pg_replication_origin",
         "BASE TABLE",
         null,
         null,
         null,
         null,
         null,
         "YES",
         "NO",
         null
        ],
        [
         "postgres",
         "pg_catalog",
         "pg_default_acl",
         "BASE TABLE",
         null,
         null,
         null,
         null,
         null,
         "YES",
         "NO",
         null
        ],
        [
         "postgres",
         "pg_catalog",
         "pg_init_privs",
         "BASE TABLE",
         null,
         null,
         null,
         null,
         null,
         "YES",
         "NO",
         null
        ],
        [
         "postgres",
         "pg_catalog",
         "pg_seclabel",
         "BASE TABLE",
         null,
         null,
         null,
         null,
         null,
         "YES",
         "NO",
         null
        ],
        [
         "postgres",
         "pg_catalog",
         "pg_shseclabel",
         "BASE TABLE",
         null,
         null,
         null,
         null,
         null,
         "YES",
         "NO",
         null
        ],
        [
         "postgres",
         "pg_catalog",
         "pg_collation",
         "BASE TABLE",
         null,
         null,
         null,
         null,
         null,
         "YES",
         "NO",
         null
        ],
        [
         "postgres",
         "pg_catalog",
         "pg_parameter_acl",
         "BASE TABLE",
         null,
         null,
         null,
         null,
         null,
         "YES",
         "NO",
         null
        ],
        [
         "postgres",
         "pg_catalog",
         "pg_partitioned_table",
         "BASE TABLE",
         null,
         null,
         null,
         null,
         null,
         "YES",
         "NO",
         null
        ],
        [
         "postgres",
         "pg_catalog",
         "pg_range",
         "BASE TABLE",
         null,
         null,
         null,
         null,
         null,
         "YES",
         "NO",
         null
        ],
        [
         "postgres",
         "pg_catalog",
         "pg_transform",
         "BASE TABLE",
         null,
         null,
         null,
         null,
         null,
         "YES",
         "NO",
         null
        ],
        [
         "postgres",
         "pg_catalog",
         "pg_sequence",
         "BASE TABLE",
         null,
         null,
         null,
         null,
         null,
         "YES",
         "NO",
         null
        ],
        [
         "postgres",
         "pg_catalog",
         "pg_publication",
         "BASE TABLE",
         null,
         null,
         null,
         null,
         null,
         "YES",
         "NO",
         null
        ],
        [
         "postgres",
         "pg_catalog",
         "pg_publication_namespace",
         "BASE TABLE",
         null,
         null,
         null,
         null,
         null,
         "YES",
         "NO",
         null
        ],
        [
         "postgres",
         "pg_catalog",
         "pg_publication_rel",
         "BASE TABLE",
         null,
         null,
         null,
         null,
         null,
         "YES",
         "NO",
         null
        ],
        [
         "postgres",
         "pg_catalog",
         "pg_subscription_rel",
         "BASE TABLE",
         null,
         null,
         null,
         null,
         null,
         "YES",
         "NO",
         null
        ],
        [
         "postgres",
         "pg_catalog",
         "pg_group",
         "VIEW",
         null,
         null,
         null,
         null,
         null,
         "YES",
         "NO",
         null
        ],
        [
         "postgres",
         "pg_catalog",
         "pg_user",
         "VIEW",
         null,
         null,
         null,
         null,
         null,
         "NO",
         "NO",
         null
        ],
        [
         "postgres",
         "pg_catalog",
         "pg_policies",
         "VIEW",
         null,
         null,
         null,
         null,
         null,
         "NO",
         "NO",
         null
        ],
        [
         "postgres",
         "pg_catalog",
         "pg_rules",
         "VIEW",
         null,
         null,
         null,
         null,
         null,
         "NO",
         "NO",
         null
        ],
        [
         "postgres",
         "pg_catalog",
         "pg_views",
         "VIEW",
         null,
         null,
         null,
         null,
         null,
         "NO",
         "NO",
         null
        ],
        [
         "postgres",
         "pg_catalog",
         "pg_matviews",
         "VIEW",
         null,
         null,
         null,
         null,
         null,
         "NO",
         "NO",
         null
        ],
        [
         "postgres",
         "pg_catalog",
         "pg_indexes",
         "VIEW",
         null,
         null,
         null,
         null,
         null,
         "NO",
         "NO",
         null
        ],
        [
         "postgres",
         "pg_catalog",
         "pg_sequences",
         "VIEW",
         null,
         null,
         null,
         null,
         null,
         "NO",
         "NO",
         null
        ],
        [
         "postgres",
         "pg_catalog",
         "pg_stats",
         "VIEW",
         null,
         null,
         null,
         null,
         null,
         "NO",
         "NO",
         null
        ],
        [
         "postgres",
         "pg_catalog",
         "pg_publication_tables",
         "VIEW",
         null,
         null,
         null,
         null,
         null,
         "NO",
         "NO",
         null
        ],
        [
         "postgres",
         "pg_catalog",
         "pg_locks",
         "VIEW",
         null,
         null,
         null,
         null,
         null,
         "NO",
         "NO",
         null
        ],
        [
         "postgres",
         "pg_catalog",
         "pg_cursors",
         "VIEW",
         null,
         null,
         null,
         null,
         null,
         "NO",
         "NO",
         null
        ],
        [
         "postgres",
         "pg_catalog",
         "pg_available_extensions",
         "VIEW",
         null,
         null,
         null,
         null,
         null,
         "NO",
         "NO",
         null
        ],
        [
         "postgres",
         "pg_catalog",
         "pg_available_extension_versions",
         "VIEW",
         null,
         null,
         null,
         null,
         null,
         "NO",
         "NO",
         null
        ],
        [
         "postgres",
         "pg_catalog",
         "pg_prepared_xacts",
         "VIEW",
         null,
         null,
         null,
         null,
         null,
         "NO",
         "NO",
         null
        ],
        [
         "postgres",
         "pg_catalog",
         "pg_prepared_statements",
         "VIEW",
         null,
         null,
         null,
         null,
         null,
         "NO",
         "NO",
         null
        ],
        [
         "postgres",
         "pg_catalog",
         "pg_seclabels",
         "VIEW",
         null,
         null,
         null,
         null,
         null,
         "NO",
         "NO",
         null
        ],
        [
         "postgres",
         "pg_catalog",
         "pg_timezone_abbrevs",
         "VIEW",
         null,
         null,
         null,
         null,
         null,
         "NO",
         "NO",
         null
        ],
        [
         "postgres",
         "pg_catalog",
         "pg_timezone_names",
         "VIEW",
         null,
         null,
         null,
         null,
         null,
         "NO",
         "NO",
         null
        ],
        [
         "postgres",
         "pg_catalog",
         "pg_stat_all_tables",
         "VIEW",
         null,
         null,
         null,
         null,
         null,
         "NO",
         "NO",
         null
        ],
        [
         "postgres",
         "pg_catalog",
         "pg_stat_xact_all_tables",
         "VIEW",
         null,
         null,
         null,
         null,
         null,
         "NO",
         "NO",
         null
        ],
        [
         "postgres",
         "pg_catalog",
         "pg_stat_xact_user_tables",
         "VIEW",
         null,
         null,
         null,
         null,
         null,
         "NO",
         "NO",
         null
        ],
        [
         "postgres",
         "pg_catalog",
         "pg_stat_sys_tables",
         "VIEW",
         null,
         null,
         null,
         null,
         null,
         "NO",
         "NO",
         null
        ],
        [
         "postgres",
         "pg_catalog",
         "pg_stat_xact_sys_tables",
         "VIEW",
         null,
         null,
         null,
         null,
         null,
         "NO",
         "NO",
         null
        ],
        [
         "postgres",
         "pg_catalog",
         "pg_stat_user_tables",
         "VIEW",
         null,
         null,
         null,
         null,
         null,
         "NO",
         "NO",
         null
        ],
        [
         "postgres",
         "pg_catalog",
         "pg_statio_all_tables",
         "VIEW",
         null,
         null,
         null,
         null,
         null,
         "NO",
         "NO",
         null
        ],
        [
         "postgres",
         "pg_catalog",
         "pg_statio_sys_tables",
         "VIEW",
         null,
         null,
         null,
         null,
         null,
         "NO",
         "NO",
         null
        ],
        [
         "postgres",
         "pg_catalog",
         "pg_statio_user_tables",
         "VIEW",
         null,
         null,
         null,
         null,
         null,
         "NO",
         "NO",
         null
        ],
        [
         "postgres",
         "pg_catalog",
         "pg_stat_all_indexes",
         "VIEW",
         null,
         null,
         null,
         null,
         null,
         "NO",
         "NO",
         null
        ],
        [
         "postgres",
         "pg_catalog",
         "pg_stat_sys_indexes",
         "VIEW",
         null,
         null,
         null,
         null,
         null,
         "NO",
         "NO",
         null
        ],
        [
         "postgres",
         "pg_catalog",
         "pg_stat_user_indexes",
         "VIEW",
         null,
         null,
         null,
         null,
         null,
         "NO",
         "NO",
         null
        ],
        [
         "postgres",
         "pg_catalog",
         "pg_statio_all_indexes",
         "VIEW",
         null,
         null,
         null,
         null,
         null,
         "NO",
         "NO",
         null
        ],
        [
         "postgres",
         "pg_catalog",
         "pg_statio_sys_indexes",
         "VIEW",
         null,
         null,
         null,
         null,
         null,
         "NO",
         "NO",
         null
        ],
        [
         "postgres",
         "pg_catalog",
         "pg_statio_user_indexes",
         "VIEW",
         null,
         null,
         null,
         null,
         null,
         "NO",
         "NO",
         null
        ],
        [
         "postgres",
         "pg_catalog",
         "pg_statio_sys_sequences",
         "VIEW",
         null,
         null,
         null,
         null,
         null,
         "NO",
         "NO",
         null
        ],
        [
         "postgres",
         "pg_catalog",
         "pg_statio_user_sequences",
         "VIEW",
         null,
         null,
         null,
         null,
         null,
         "NO",
         "NO",
         null
        ],
        [
         "postgres",
         "pg_catalog",
         "pg_stat_activity",
         "VIEW",
         null,
         null,
         null,
         null,
         null,
         "NO",
         "NO",
         null
        ],
        [
         "postgres",
         "pg_catalog",
         "pg_stat_replication",
         "VIEW",
         null,
         null,
         null,
         null,
         null,
         "NO",
         "NO",
         null
        ],
        [
         "postgres",
         "pg_catalog",
         "pg_stat_slru",
         "VIEW",
         null,
         null,
         null,
         null,
         null,
         "NO",
         "NO",
         null
        ],
        [
         "postgres",
         "pg_catalog",
         "pg_stat_wal_receiver",
         "VIEW",
         null,
         null,
         null,
         null,
         null,
         "NO",
         "NO",
         null
        ],
        [
         "postgres",
         "pg_catalog",
         "pg_stat_recovery_prefetch",
         "VIEW",
         null,
         null,
         null,
         null,
         null,
         "NO",
         "NO",
         null
        ],
        [
         "postgres",
         "pg_catalog",
         "pg_stat_subscription",
         "VIEW",
         null,
         null,
         null,
         null,
         null,
         "NO",
         "NO",
         null
        ],
        [
         "postgres",
         "pg_catalog",
         "pg_stat_ssl",
         "VIEW",
         null,
         null,
         null,
         null,
         null,
         "NO",
         "NO",
         null
        ],
        [
         "postgres",
         "pg_catalog",
         "pg_stat_gssapi",
         "VIEW",
         null,
         null,
         null,
         null,
         null,
         "NO",
         "NO",
         null
        ],
        [
         "postgres",
         "pg_catalog",
         "pg_replication_slots",
         "VIEW",
         null,
         null,
         null,
         null,
         null,
         "NO",
         "NO",
         null
        ],
        [
         "postgres",
         "pg_catalog",
         "pg_stat_replication_slots",
         "VIEW",
         null,
         null,
         null,
         null,
         null,
         "NO",
         "NO",
         null
        ],
        [
         "postgres",
         "pg_catalog",
         "pg_stat_database",
         "VIEW",
         null,
         null,
         null,
         null,
         null,
         "NO",
         "NO",
         null
        ],
        [
         "postgres",
         "pg_catalog",
         "pg_stat_database_conflicts",
         "VIEW",
         null,
         null,
         null,
         null,
         null,
         "YES",
         "NO",
         null
        ],
        [
         "postgres",
         "pg_catalog",
         "pg_stat_user_functions",
         "VIEW",
         null,
         null,
         null,
         null,
         null,
         "NO",
         "NO",
         null
        ],
        [
         "postgres",
         "pg_catalog",
         "pg_stat_xact_user_functions",
         "VIEW",
         null,
         null,
         null,
         null,
         null,
         "NO",
         "NO",
         null
        ],
        [
         "postgres",
         "pg_catalog",
         "pg_stat_archiver",
         "VIEW",
         null,
         null,
         null,
         null,
         null,
         "NO",
         "NO",
         null
        ],
        [
         "postgres",
         "pg_catalog",
         "pg_stat_bgwriter",
         "VIEW",
         null,
         null,
         null,
         null,
         null,
         "NO",
         "NO",
         null
        ],
        [
         "postgres",
         "pg_catalog",
         "pg_stat_io",
         "VIEW",
         null,
         null,
         null,
         null,
         null,
         "NO",
         "NO",
         null
        ],
        [
         "postgres",
         "pg_catalog",
         "pg_stat_wal",
         "VIEW",
         null,
         null,
         null,
         null,
         null,
         "NO",
         "NO",
         null
        ],
        [
         "postgres",
         "pg_catalog",
         "pg_stat_progress_analyze",
         "VIEW",
         null,
         null,
         null,
         null,
         null,
         "NO",
         "NO",
         null
        ],
        [
         "postgres",
         "pg_catalog",
         "pg_stat_progress_vacuum",
         "VIEW",
         null,
         null,
         null,
         null,
         null,
         "NO",
         "NO",
         null
        ],
        [
         "postgres",
         "pg_catalog",
         "pg_stat_progress_cluster",
         "VIEW",
         null,
         null,
         null,
         null,
         null,
         "NO",
         "NO",
         null
        ],
        [
         "postgres",
         "pg_catalog",
         "pg_stat_progress_create_index",
         "VIEW",
         null,
         null,
         null,
         null,
         null,
         "NO",
         "NO",
         null
        ],
        [
         "postgres",
         "pg_catalog",
         "pg_stat_progress_basebackup",
         "VIEW",
         null,
         null,
         null,
         null,
         null,
         "NO",
         "NO",
         null
        ],
        [
         "postgres",
         "pg_catalog",
         "pg_stat_progress_copy",
         "VIEW",
         null,
         null,
         null,
         null,
         null,
         "NO",
         "NO",
         null
        ],
        [
         "postgres",
         "pg_catalog",
         "pg_user_mappings",
         "VIEW",
         null,
         null,
         null,
         null,
         null,
         "NO",
         "NO",
         null
        ],
        [
         "postgres",
         "pg_catalog",
         "pg_stat_subscription_stats",
         "VIEW",
         null,
         null,
         null,
         null,
         null,
         "NO",
         "NO",
         null
        ],
        [
         "postgres",
         "pg_catalog",
         "pg_largeobject",
         "BASE TABLE",
         null,
         null,
         null,
         null,
         null,
         "YES",
         "NO",
         null
        ],
        [
         "postgres",
         "information_schema",
         "collations",
         "VIEW",
         null,
         null,
         null,
         null,
         null,
         "NO",
         "NO",
         null
        ],
        [
         "postgres",
         "information_schema",
         "information_schema_catalog_name",
         "VIEW",
         null,
         null,
         null,
         null,
         null,
         "NO",
         "NO",
         null
        ],
        [
         "postgres",
         "information_schema",
         "applicable_roles",
         "VIEW",
         null,
         null,
         null,
         null,
         null,
         "NO",
         "NO",
         null
        ],
        [
         "postgres",
         "information_schema",
         "domain_constraints",
         "VIEW",
         null,
         null,
         null,
         null,
         null,
         "NO",
         "NO",
         null
        ],
        [
         "postgres",
         "information_schema",
         "administrable_role_authorizations",
         "VIEW",
         null,
         null,
         null,
         null,
         null,
         "NO",
         "NO",
         null
        ],
        [
         "postgres",
         "information_schema",
         "collation_character_set_applicability",
         "VIEW",
         null,
         null,
         null,
         null,
         null,
         "NO",
         "NO",
         null
        ],
        [
         "postgres",
         "information_schema",
         "attributes",
         "VIEW",
         null,
         null,
         null,
         null,
         null,
         "NO",
         "NO",
         null
        ],
        [
         "postgres",
         "information_schema",
         "character_sets",
         "VIEW",
         null,
         null,
         null,
         null,
         null,
         "NO",
         "NO",
         null
        ],
        [
         "postgres",
         "information_schema",
         "column_udt_usage",
         "VIEW",
         null,
         null,
         null,
         null,
         null,
         "NO",
         "NO",
         null
        ],
        [
         "postgres",
         "information_schema",
         "check_constraint_routine_usage",
         "VIEW",
         null,
         null,
         null,
         null,
         null,
         "NO",
         "NO",
         null
        ],
        [
         "postgres",
         "information_schema",
         "column_column_usage",
         "VIEW",
         null,
         null,
         null,
         null,
         null,
         "NO",
         "NO",
         null
        ],
        [
         "postgres",
         "information_schema",
         "check_constraints",
         "VIEW",
         null,
         null,
         null,
         null,
         null,
         "NO",
         "NO",
         null
        ],
        [
         "postgres",
         "information_schema",
         "constraint_table_usage",
         "VIEW",
         null,
         null,
         null,
         null,
         null,
         "NO",
         "NO",
         null
        ],
        [
         "postgres",
         "information_schema",
         "column_domain_usage",
         "VIEW",
         null,
         null,
         null,
         null,
         null,
         "NO",
         "NO",
         null
        ],
        [
         "postgres",
         "information_schema",
         "columns",
         "VIEW",
         null,
         null,
         null,
         null,
         null,
         "NO",
         "NO",
         null
        ],
        [
         "postgres",
         "information_schema",
         "column_privileges",
         "VIEW",
         null,
         null,
         null,
         null,
         null,
         "NO",
         "NO",
         null
        ],
        [
         "postgres",
         "information_schema",
         "constraint_column_usage",
         "VIEW",
         null,
         null,
         null,
         null,
         null,
         "NO",
         "NO",
         null
        ],
        [
         "postgres",
         "information_schema",
         "domain_udt_usage",
         "VIEW",
         null,
         null,
         null,
         null,
         null,
         "NO",
         "NO",
         null
        ],
        [
         "postgres",
         "information_schema",
         "domains",
         "VIEW",
         null,
         null,
         null,
         null,
         null,
         "NO",
         "NO",
         null
        ],
        [
         "postgres",
         "information_schema",
         "enabled_roles",
         "VIEW",
         null,
         null,
         null,
         null,
         null,
         "NO",
         "NO",
         null
        ],
        [
         "postgres",
         "information_schema",
         "key_column_usage",
         "VIEW",
         null,
         null,
         null,
         null,
         null,
         "NO",
         "NO",
         null
        ],
        [
         "postgres",
         "information_schema",
         "parameters",
         "VIEW",
         null,
         null,
         null,
         null,
         null,
         "NO",
         "NO",
         null
        ],
        [
         "postgres",
         "information_schema",
         "table_privileges",
         "VIEW",
         null,
         null,
         null,
         null,
         null,
         "NO",
         "NO",
         null
        ],
        [
         "postgres",
         "information_schema",
         "referential_constraints",
         "VIEW",
         null,
         null,
         null,
         null,
         null,
         "NO",
         "NO",
         null
        ],
        [
         "postgres",
         "information_schema",
         "sql_features",
         "BASE TABLE",
         null,
         null,
         null,
         null,
         null,
         "YES",
         "NO",
         null
        ],
        [
         "postgres",
         "information_schema",
         "role_column_grants",
         "VIEW",
         null,
         null,
         null,
         null,
         null,
         "NO",
         "NO",
         null
        ],
        [
         "postgres",
         "information_schema",
         "routine_column_usage",
         "VIEW",
         null,
         null,
         null,
         null,
         null,
         "NO",
         "NO",
         null
        ],
        [
         "postgres",
         "information_schema",
         "routine_privileges",
         "VIEW",
         null,
         null,
         null,
         null,
         null,
         "NO",
         "NO",
         null
        ],
        [
         "postgres",
         "information_schema",
         "role_routine_grants",
         "VIEW",
         null,
         null,
         null,
         null,
         null,
         "NO",
         "NO",
         null
        ],
        [
         "postgres",
         "information_schema",
         "routine_routine_usage",
         "VIEW",
         null,
         null,
         null,
         null,
         null,
         "NO",
         "NO",
         null
        ],
        [
         "postgres",
         "information_schema",
         "sql_implementation_info",
         "BASE TABLE",
         null,
         null,
         null,
         null,
         null,
         "YES",
         "NO",
         null
        ],
        [
         "postgres",
         "information_schema",
         "routine_sequence_usage",
         "VIEW",
         null,
         null,
         null,
         null,
         null,
         "NO",
         "NO",
         null
        ],
        [
         "postgres",
         "information_schema",
         "routine_table_usage",
         "VIEW",
         null,
         null,
         null,
         null,
         null,
         "NO",
         "NO",
         null
        ],
        [
         "postgres",
         "information_schema",
         "routines",
         "VIEW",
         null,
         null,
         null,
         null,
         null,
         "NO",
         "NO",
         null
        ],
        [
         "postgres",
         "information_schema",
         "schemata",
         "VIEW",
         null,
         null,
         null,
         null,
         null,
         "NO",
         "NO",
         null
        ],
        [
         "postgres",
         "information_schema",
         "sql_parts",
         "BASE TABLE",
         null,
         null,
         null,
         null,
         null,
         "YES",
         "NO",
         null
        ],
        [
         "postgres",
         "information_schema",
         "sequences",
         "VIEW",
         null,
         null,
         null,
         null,
         null,
         "NO",
         "NO",
         null
        ],
        [
         "postgres",
         "information_schema",
         "transforms",
         "VIEW",
         null,
         null,
         null,
         null,
         null,
         "NO",
         "NO",
         null
        ],
        [
         "postgres",
         "information_schema",
         "sql_sizing",
         "BASE TABLE",
         null,
         null,
         null,
         null,
         null,
         "YES",
         "NO",
         null
        ],
        [
         "postgres",
         "information_schema",
         "role_table_grants",
         "VIEW",
         null,
         null,
         null,
         null,
         null,
         "NO",
         "NO",
         null
        ],
        [
         "postgres",
         "information_schema",
         "table_constraints",
         "VIEW",
         null,
         null,
         null,
         null,
         null,
         "NO",
         "NO",
         null
        ],
        [
         "postgres",
         "information_schema",
         "triggers",
         "VIEW",
         null,
         null,
         null,
         null,
         null,
         "NO",
         "NO",
         null
        ],
        [
         "postgres",
         "information_schema",
         "tables",
         "VIEW",
         null,
         null,
         null,
         null,
         null,
         "NO",
         "NO",
         null
        ],
        [
         "postgres",
         "information_schema",
         "triggered_update_columns",
         "VIEW",
         null,
         null,
         null,
         null,
         null,
         "NO",
         "NO",
         null
        ],
        [
         "postgres",
         "information_schema",
         "udt_privileges",
         "VIEW",
         null,
         null,
         null,
         null,
         null,
         "NO",
         "NO",
         null
        ],
        [
         "postgres",
         "information_schema",
         "role_udt_grants",
         "VIEW",
         null,
         null,
         null,
         null,
         null,
         "NO",
         "NO",
         null
        ],
        [
         "postgres",
         "information_schema",
         "usage_privileges",
         "VIEW",
         null,
         null,
         null,
         null,
         null,
         "NO",
         "NO",
         null
        ],
        [
         "postgres",
         "information_schema",
         "role_usage_grants",
         "VIEW",
         null,
         null,
         null,
         null,
         null,
         "NO",
         "NO",
         null
        ],
        [
         "postgres",
         "information_schema",
         "user_defined_types",
         "VIEW",
         null,
         null,
         null,
         null,
         null,
         "NO",
         "NO",
         null
        ],
        [
         "postgres",
         "information_schema",
         "view_column_usage",
         "VIEW",
         null,
         null,
         null,
         null,
         null,
         "NO",
         "NO",
         null
        ],
        [
         "postgres",
         "information_schema",
         "foreign_servers",
         "VIEW",
         null,
         null,
         null,
         null,
         null,
         "NO",
         "NO",
         null
        ],
        [
         "postgres",
         "information_schema",
         "view_routine_usage",
         "VIEW",
         null,
         null,
         null,
         null,
         null,
         "NO",
         "NO",
         null
        ],
        [
         "postgres",
         "information_schema",
         "view_table_usage",
         "VIEW",
         null,
         null,
         null,
         null,
         null,
         "NO",
         "NO",
         null
        ],
        [
         "postgres",
         "information_schema",
         "_pg_foreign_tables",
         "VIEW",
         null,
         null,
         null,
         null,
         null,
         "NO",
         "NO",
         null
        ],
        [
         "postgres",
         "information_schema",
         "views",
         "VIEW",
         null,
         null,
         null,
         null,
         null,
         "NO",
         "NO",
         null
        ],
        [
         "postgres",
         "information_schema",
         "data_type_privileges",
         "VIEW",
         null,
         null,
         null,
         null,
         null,
         "NO",
         "NO",
         null
        ],
        [
         "postgres",
         "information_schema",
         "element_types",
         "VIEW",
         null,
         null,
         null,
         null,
         null,
         "NO",
         "NO",
         null
        ],
        [
         "postgres",
         "information_schema",
         "_pg_foreign_table_columns",
         "VIEW",
         null,
         null,
         null,
         null,
         null,
         "NO",
         "NO",
         null
        ],
        [
         "postgres",
         "information_schema",
         "foreign_table_options",
         "VIEW",
         null,
         null,
         null,
         null,
         null,
         "NO",
         "NO",
         null
        ],
        [
         "postgres",
         "information_schema",
         "column_options",
         "VIEW",
         null,
         null,
         null,
         null,
         null,
         "NO",
         "NO",
         null
        ],
        [
         "postgres",
         "information_schema",
         "_pg_foreign_data_wrappers",
         "VIEW",
         null,
         null,
         null,
         null,
         null,
         "NO",
         "NO",
         null
        ],
        [
         "postgres",
         "information_schema",
         "foreign_data_wrapper_options",
         "VIEW",
         null,
         null,
         null,
         null,
         null,
         "NO",
         "NO",
         null
        ],
        [
         "postgres",
         "information_schema",
         "foreign_data_wrappers",
         "VIEW",
         null,
         null,
         null,
         null,
         null,
         "NO",
         "NO",
         null
        ],
        [
         "postgres",
         "information_schema",
         "_pg_foreign_servers",
         "VIEW",
         null,
         null,
         null,
         null,
         null,
         "NO",
         "NO",
         null
        ],
        [
         "postgres",
         "information_schema",
         "foreign_tables",
         "VIEW",
         null,
         null,
         null,
         null,
         null,
         "NO",
         "NO",
         null
        ],
        [
         "postgres",
         "information_schema",
         "foreign_server_options",
         "VIEW",
         null,
         null,
         null,
         null,
         null,
         "NO",
         "NO",
         null
        ],
        [
         "postgres",
         "information_schema",
         "_pg_user_mappings",
         "VIEW",
         null,
         null,
         null,
         null,
         null,
         "NO",
         "NO",
         null
        ],
        [
         "postgres",
         "information_schema",
         "user_mapping_options",
         "VIEW",
         null,
         null,
         null,
         null,
         null,
         "NO",
         "NO",
         null
        ],
        [
         "postgres",
         "information_schema",
         "user_mappings",
         "VIEW",
         null,
         null,
         null,
         null,
         null,
         "NO",
         "NO",
         null
        ]
       ],
       "datasetInfos": [],
       "dbfsResultPath": null,
       "isJsonSchema": true,
       "metadata": {},
       "overflow": false,
       "plotOptions": {
        "customPlotOptions": {},
        "displayType": "table",
        "pivotAggregation": null,
        "pivotColumns": null,
        "xColumns": null,
        "yColumns": null
       },
       "removedWidgets": [],
       "schema": [
        {
         "metadata": "{\"isTimestampNTZ\":false,\"__CHAR_VARCHAR_TYPE_STRING\":\"varchar(2147483647)\",\"signed\":false,\"scale\":0}",
         "name": "table_catalog",
         "type": "\"string\""
        },
        {
         "metadata": "{\"isTimestampNTZ\":false,\"__CHAR_VARCHAR_TYPE_STRING\":\"varchar(2147483647)\",\"signed\":false,\"scale\":0}",
         "name": "table_schema",
         "type": "\"string\""
        },
        {
         "metadata": "{\"isTimestampNTZ\":false,\"__CHAR_VARCHAR_TYPE_STRING\":\"varchar(2147483647)\",\"signed\":false,\"scale\":0}",
         "name": "table_name",
         "type": "\"string\""
        },
        {
         "metadata": "{\"isTimestampNTZ\":false,\"__CHAR_VARCHAR_TYPE_STRING\":\"varchar(2147483647)\",\"signed\":false,\"scale\":0}",
         "name": "table_type",
         "type": "\"string\""
        },
        {
         "metadata": "{\"isTimestampNTZ\":false,\"__CHAR_VARCHAR_TYPE_STRING\":\"varchar(2147483647)\",\"signed\":false,\"scale\":0}",
         "name": "self_referencing_column_name",
         "type": "\"string\""
        },
        {
         "metadata": "{\"isTimestampNTZ\":false,\"__CHAR_VARCHAR_TYPE_STRING\":\"varchar(2147483647)\",\"signed\":false,\"scale\":0}",
         "name": "reference_generation",
         "type": "\"string\""
        },
        {
         "metadata": "{\"isTimestampNTZ\":false,\"__CHAR_VARCHAR_TYPE_STRING\":\"varchar(2147483647)\",\"signed\":false,\"scale\":0}",
         "name": "user_defined_type_catalog",
         "type": "\"string\""
        },
        {
         "metadata": "{\"isTimestampNTZ\":false,\"__CHAR_VARCHAR_TYPE_STRING\":\"varchar(2147483647)\",\"signed\":false,\"scale\":0}",
         "name": "user_defined_type_schema",
         "type": "\"string\""
        },
        {
         "metadata": "{\"isTimestampNTZ\":false,\"__CHAR_VARCHAR_TYPE_STRING\":\"varchar(2147483647)\",\"signed\":false,\"scale\":0}",
         "name": "user_defined_type_name",
         "type": "\"string\""
        },
        {
         "metadata": "{\"isTimestampNTZ\":false,\"__CHAR_VARCHAR_TYPE_STRING\":\"varchar(3)\",\"signed\":false,\"scale\":0}",
         "name": "is_insertable_into",
         "type": "\"string\""
        },
        {
         "metadata": "{\"isTimestampNTZ\":false,\"__CHAR_VARCHAR_TYPE_STRING\":\"varchar(3)\",\"signed\":false,\"scale\":0}",
         "name": "is_typed",
         "type": "\"string\""
        },
        {
         "metadata": "{\"isTimestampNTZ\":false,\"__CHAR_VARCHAR_TYPE_STRING\":\"varchar(2147483647)\",\"signed\":false,\"scale\":0}",
         "name": "commit_action",
         "type": "\"string\""
        }
       ],
       "type": "table"
      }
     },
     "output_type": "display_data"
    },
    {
     "output_type": "stream",
     "name": "stdout",
     "output_type": "stream",
     "text": [
      "Datos guardados en Azure correctamente\n"
     ]
    }
   ],
   "source": [
    "%python\n",
    "# Verificar la conexión listando tablas del sistema en Azure PostgreSQL\n",
    "try:\n",
    "    df = spark.read.jdbc(\n",
    "        url=jdbc_url,\n",
    "        table=\"information_schema.tables\",\n",
    "        properties=connection_properties\n",
    "    )\n",
    "    display(df)\n",
    "    print(\"Datos guardados en Azure correctamente\")\n",
    "except Exception as e:\n",
    "    print(\"Error al conectar:\", e)"
   ]
  },
  {
   "cell_type": "markdown",
   "metadata": {
    "application/vnd.databricks.v1+cell": {
     "cellMetadata": {},
     "inputWidgets": {},
     "nuid": "01b52c89-34d9-461d-9ca7-7f242b94e3e9",
     "showTitle": false,
     "tableResultSettingsMap": {},
     "title": ""
    }
   },
   "source": [
    "### tren"
   ]
  },
  {
   "cell_type": "code",
   "execution_count": 0,
   "metadata": {
    "application/vnd.databricks.v1+cell": {
     "cellMetadata": {
      "byteLimit": 2048000,
      "rowLimit": 10000
     },
     "inputWidgets": {},
     "nuid": "7f9eb951-d733-4f9d-b739-032ac738989a",
     "showTitle": false,
     "tableResultSettingsMap": {},
     "title": ""
    }
   },
   "outputs": [
    {
     "output_type": "stream",
     "name": "stdout",
     "output_type": "stream",
     "text": [
      "insert into tren (modelo, capacidad) values ('Eclipse', 1);\ninsert into tren (modelo, capacidad) values ('Tacoma', 2);\ninsert into tren (modelo, capacidad) values ('2500 Club Coupe', 3);\ninsert into tren (modelo, capacidad) values ('Swift', 4);\ninsert into tren (modelo, capacidad) values ('F350', 5);\ninsert into tren (modelo, capacidad) values ('Outback Sport', 6);\ninsert into tren (modelo, capacidad) values ('VS Commodore', 7);\ninsert into tren (modelo, capacidad) values ('Golf', 8);\ninsert into tren (modelo, capacidad) values ('Tiburon', 9);\ninsert into tren (modelo, capacidad) values ('V50', 10);\ninsert into tren (modelo, capacidad) values ('Tucson', 11);\ninsert into tren (modelo, capacidad) values ('NSX', 12);\ninsert into tren (modelo, capacidad) values ('Sonata', 13);\ninsert into tren (modelo, capacidad) values ('LS', 14);\ninsert into tren (modelo, capacidad) values ('2500', 15);\ninsert into tren (modelo, capacidad) values ('Stratus', 16);\ninsert into tren (modelo, capacidad) values ('Equinox', 17);\ninsert into tren (modelo, capacidad) values ('CR-V', 18);\ninsert into tren (modelo, capacidad) values ('MR2', 19);\ninsert into tren (modelo, capacidad) values ('Sunbird', 20);\ninsert into tren (modelo, capacidad) values ('GTI', 21);\ninsert into tren (modelo, capacidad) values ('Eclipse', 22);\ninsert into tren (modelo, capacidad) values ('Aerostar', 23);\ninsert into tren (modelo, capacidad) values ('LeMans', 24);\ninsert into tren (modelo, capacidad) values ('S-Series', 25);\ninsert into tren (modelo, capacidad) values ('I', 26);\ninsert into tren (modelo, capacidad) values ('Neon', 27);\ninsert into tren (modelo, capacidad) values ('E150', 28);\ninsert into tren (modelo, capacidad) values ('Horizon', 29);\ninsert into tren (modelo, capacidad) values ('Caliber', 30);\ninsert into tren (modelo, capacidad) values ('MX-6', 31);\ninsert into tren (modelo, capacidad) values ('Q', 32);\ninsert into tren (modelo, capacidad) values ('Escort', 33);\ninsert into tren (modelo, capacidad) values ('Topaz', 34);\ninsert into tren (modelo, capacidad) values ('Leganza', 35);\ninsert into tren (modelo, capacidad) values ('Thunderbird', 36);\ninsert into tren (modelo, capacidad) values ('F250', 37);\ninsert into tren (modelo, capacidad) values ('Avalanche', 38);\ninsert into tren (modelo, capacidad) values ('Thunderbird', 39);\ninsert into tren (modelo, capacidad) values ('Ranger', 40);\ninsert into tren (modelo, capacidad) values ('Fox', 41);\ninsert into tren (modelo, capacidad) values ('Ram Wagon B250', 42);\ninsert into tren (modelo, capacidad) values ('Jimmy', 43);\ninsert into tren (modelo, capacidad) values ('TT', 44);\ninsert into tren (modelo, capacidad) values ('Yukon XL 2500', 45);\ninsert into tren (modelo, capacidad) values ('240SX', 46);\ninsert into tren (modelo, capacidad) values ('Mazda6', 47);\ninsert into tren (modelo, capacidad) values ('Sierra 3500', 48);\ninsert into tren (modelo, capacidad) values ('3500', 49);\ninsert into tren (modelo, capacidad) values ('TT', 50);\ninsert into tren (modelo, capacidad) values ('Caprice', 51);\ninsert into tren (modelo, capacidad) values ('6000', 52);\ninsert into tren (modelo, capacidad) values ('Sportage', 53);\ninsert into tren (modelo, capacidad) values ('Eldorado', 54);\ninsert into tren (modelo, capacidad) values ('Savana 3500', 55);\ninsert into tren (modelo, capacidad) values ('Forester', 56);\ninsert into tren (modelo, capacidad) values ('Savana 1500', 57);\ninsert into tren (modelo, capacidad) values ('F250', 58);\ninsert into tren (modelo, capacidad) values ('Galant', 59);\ninsert into tren (modelo, capacidad) values ('Mystique', 60);\ninsert into tren (modelo, capacidad) values ('S-Class', 61);\ninsert into tren (modelo, capacidad) values ('Durango', 62);\ninsert into tren (modelo, capacidad) values ('Tiburon', 63);\ninsert into tren (modelo, capacidad) values ('Optima', 64);\ninsert into tren (modelo, capacidad) values ('Esprit', 65);\ninsert into tren (modelo, capacidad) values ('80', 66);\ninsert into tren (modelo, capacidad) values ('DTS', 67);\ninsert into tren (modelo, capacidad) values ('Yukon', 68);\ninsert into tren (modelo, capacidad) values ('Suburban 2500', 69);\ninsert into tren (modelo, capacidad) values ('Envoy', 70);\ninsert into tren (modelo, capacidad) values ('MX-5', 71);\ninsert into tren (modelo, capacidad) values ('Raider', 72);\ninsert into tren (modelo, capacidad) values ('F150', 73);\ninsert into tren (modelo, capacidad) values ('Acclaim', 74);\ninsert into tren (modelo, capacidad) values ('6000', 75);\ninsert into tren (modelo, capacidad) values ('C30', 76);\ninsert into tren (modelo, capacidad) values ('F350', 77);\ninsert into tren (modelo, capacidad) values ('NSX', 78);\ninsert into tren (modelo, capacidad) values ('600', 79);\ninsert into tren (modelo, capacidad) values ('Cayman', 80);\ninsert into tren (modelo, capacidad) values ('Corvette', 81);\ninsert into tren (modelo, capacidad) values ('Sierra 2500', 82);\ninsert into tren (modelo, capacidad) values ('Cayenne', 83);\ninsert into tren (modelo, capacidad) values ('Diamante', 84);\ninsert into tren (modelo, capacidad) values ('CL-Class', 85);\ninsert into tren (modelo, capacidad) values ('Fit', 86);\ninsert into tren (modelo, capacidad) values ('Savana Cargo Van', 87);\ninsert into tren (modelo, capacidad) values ('Range Rover', 88);\ninsert into tren (modelo, capacidad) values ('Sixty Special', 89);\ninsert into tren (modelo, capacidad) values ('Marquis', 90);\ninsert into tren (modelo, capacidad) values ('Quest', 91);\ninsert into tren (modelo, capacidad) values ('VUE', 92);\ninsert into tren (modelo, capacidad) values ('Montego', 93);\ninsert into tren (modelo, capacidad) values ('88', 94);\ninsert into tren (modelo, capacidad) values ('Carrera GT', 95);\ninsert into tren (modelo, capacidad) values ('300M', 96);\ninsert into tren (modelo, capacidad) values ('Passport', 97);\ninsert into tren (modelo, capacidad) values ('XC70', 98);\ninsert into tren (modelo, capacidad) values ('62', 99);\ninsert into tren (modelo, capacidad) values ('Regal', 100);\n\n"
     ]
    }
   ],
   "source": [
    "%python\n",
    "# Leer el archivo .sql\n",
    "with open(\"/dbfs/FileStore/tables/tren.sql\", \"r\") as file:\n",
    "    sql_script = file.read()\n",
    "\n",
    "# Verificar el contenido del archivo\n",
    "print(sql_script)"
   ]
  },
  {
   "cell_type": "code",
   "execution_count": 0,
   "metadata": {
    "application/vnd.databricks.v1+cell": {
     "cellMetadata": {
      "byteLimit": 2048000,
      "rowLimit": 10000
     },
     "inputWidgets": {},
     "nuid": "ae894242-39a9-44a9-ad3b-51eefb76b192",
     "showTitle": false,
     "tableResultSettingsMap": {},
     "title": ""
    }
   },
   "outputs": [
    {
     "output_type": "execute_result",
     "data": {
      "text/plain": [
       "DataFrame[]"
      ]
     },
     "execution_count": 33,
     "metadata": {},
     "output_type": "execute_result"
    }
   ],
   "source": [
    "# Crear la tabla 'tren' en Databricks\n",
    "spark.sql(\"\"\"\n",
    "CREATE TABLE IF NOT EXISTS tren (\n",
    "    modelo STRING,\n",
    "    capacidad INT\n",
    ")\n",
    "\"\"\")"
   ]
  },
  {
   "cell_type": "code",
   "execution_count": 0,
   "metadata": {
    "application/vnd.databricks.v1+cell": {
     "cellMetadata": {
      "byteLimit": 2048000,
      "rowLimit": 10000
     },
     "inputWidgets": {},
     "nuid": "0b00182f-6d00-4e28-8354-923b9a53a81b",
     "showTitle": false,
     "tableResultSettingsMap": {},
     "title": ""
    }
   },
   "outputs": [],
   "source": [
    "%python\n",
    "# Dividir el script en comandos individuales y excluir el último elemento vacío\n",
    "commands = sql_script.split(';')[:-1]\n",
    "\n",
    "# Ejecutar cada comando del script SQL en Databricks\n",
    "for command in commands:\n",
    "    if command.strip():\n",
    "        try:\n",
    "            spark.sql(command.strip())\n",
    "        except Exception as e:\n",
    "            print(f\"Error executing command: {command.strip()}\\n{e}\")"
   ]
  },
  {
   "cell_type": "code",
   "execution_count": 0,
   "metadata": {
    "application/vnd.databricks.v1+cell": {
     "cellMetadata": {
      "byteLimit": 2048000,
      "rowLimit": 10000
     },
     "inputWidgets": {},
     "nuid": "ae8b5bca-a455-4938-8598-b303eb114b3c",
     "showTitle": false,
     "tableResultSettingsMap": {},
     "title": ""
    }
   },
   "outputs": [
    {
     "output_type": "display_data",
     "data": {
      "text/html": [
       "<style scoped>\n",
       "  .table-result-container {\n",
       "    max-height: 300px;\n",
       "    overflow: auto;\n",
       "  }\n",
       "  table, th, td {\n",
       "    border: 1px solid black;\n",
       "    border-collapse: collapse;\n",
       "  }\n",
       "  th, td {\n",
       "    padding: 5px;\n",
       "  }\n",
       "  th {\n",
       "    text-align: left;\n",
       "  }\n",
       "</style><div class='table-result-container'><table class='table-result'><thead style='background-color: white'><tr><th>modelo</th><th>capacidad</th></tr></thead><tbody><tr><td>Savana Cargo Van</td><td>87</td></tr><tr><td>2500 Club Coupe</td><td>3</td></tr><tr><td>Ram Wagon B250</td><td>42</td></tr><tr><td>Yukon XL 2500</td><td>45</td></tr><tr><td>Suburban 2500</td><td>69</td></tr><tr><td>Outback Sport</td><td>6</td></tr><tr><td>Sixty Special</td><td>89</td></tr><tr><td>VS Commodore</td><td>7</td></tr><tr><td>Sierra 3500</td><td>48</td></tr><tr><td>Savana 1500</td><td>57</td></tr><tr><td>Savana 3500</td><td>55</td></tr><tr><td>Sierra 2500</td><td>82</td></tr><tr><td>Range Rover</td><td>88</td></tr><tr><td>Thunderbird</td><td>39</td></tr><tr><td>Thunderbird</td><td>36</td></tr><tr><td>Carrera GT</td><td>95</td></tr><tr><td>Avalanche</td><td>38</td></tr><tr><td>Aerostar</td><td>23</td></tr><tr><td>S-Series</td><td>25</td></tr><tr><td>Eldorado</td><td>54</td></tr><tr><td>Forester</td><td>56</td></tr><tr><td>Sportage</td><td>53</td></tr><tr><td>Mystique</td><td>60</td></tr><tr><td>Diamante</td><td>84</td></tr><tr><td>Corvette</td><td>81</td></tr><tr><td>CL-Class</td><td>85</td></tr><tr><td>Passport</td><td>97</td></tr><tr><td>Stratus</td><td>16</td></tr><tr><td>Tiburon</td><td>63</td></tr><tr><td>Caliber</td><td>30</td></tr><tr><td>Horizon</td><td>29</td></tr><tr><td>S-Class</td><td>61</td></tr><tr><td>Sunbird</td><td>20</td></tr><tr><td>Caprice</td><td>51</td></tr><tr><td>Eclipse</td><td>1</td></tr><tr><td>Eclipse</td><td>22</td></tr><tr><td>Tiburon</td><td>9</td></tr><tr><td>Acclaim</td><td>74</td></tr><tr><td>Cayenne</td><td>83</td></tr><tr><td>Marquis</td><td>90</td></tr><tr><td>Montego</td><td>93</td></tr><tr><td>Leganza</td><td>35</td></tr><tr><td>Equinox</td><td>17</td></tr><tr><td>Durango</td><td>62</td></tr><tr><td>Raider</td><td>72</td></tr><tr><td>LeMans</td><td>24</td></tr><tr><td>Optima</td><td>64</td></tr><tr><td>Galant</td><td>59</td></tr><tr><td>Sonata</td><td>13</td></tr><tr><td>Ranger</td><td>40</td></tr><tr><td>Esprit</td><td>65</td></tr><tr><td>Escort</td><td>33</td></tr><tr><td>Tacoma</td><td>2</td></tr><tr><td>Mazda6</td><td>47</td></tr><tr><td>Tucson</td><td>11</td></tr><tr><td>Cayman</td><td>80</td></tr><tr><td>240SX</td><td>46</td></tr><tr><td>Envoy</td><td>70</td></tr><tr><td>Topaz</td><td>34</td></tr><tr><td>Swift</td><td>4</td></tr><tr><td>Quest</td><td>91</td></tr><tr><td>Regal</td><td>100</td></tr><tr><td>Jimmy</td><td>43</td></tr><tr><td>Yukon</td><td>68</td></tr><tr><td>Golf</td><td>8</td></tr><tr><td>E150</td><td>28</td></tr><tr><td>Neon</td><td>27</td></tr><tr><td>CR-V</td><td>18</td></tr><tr><td>F350</td><td>5</td></tr><tr><td>F250</td><td>58</td></tr><tr><td>MX-6</td><td>31</td></tr><tr><td>MX-5</td><td>71</td></tr><tr><td>6000</td><td>52</td></tr><tr><td>2500</td><td>15</td></tr><tr><td>F250</td><td>37</td></tr><tr><td>F150</td><td>73</td></tr><tr><td>6000</td><td>75</td></tr><tr><td>F350</td><td>77</td></tr><tr><td>300M</td><td>96</td></tr><tr><td>XC70</td><td>98</td></tr><tr><td>3500</td><td>49</td></tr><tr><td>DTS</td><td>67</td></tr><tr><td>Fox</td><td>41</td></tr><tr><td>GTI</td><td>21</td></tr><tr><td>MR2</td><td>19</td></tr><tr><td>V50</td><td>10</td></tr><tr><td>NSX</td><td>12</td></tr><tr><td>C30</td><td>76</td></tr><tr><td>NSX</td><td>78</td></tr><tr><td>600</td><td>79</td></tr><tr><td>VUE</td><td>92</td></tr><tr><td>Fit</td><td>86</td></tr><tr><td>TT</td><td>50</td></tr><tr><td>80</td><td>66</td></tr><tr><td>LS</td><td>14</td></tr><tr><td>88</td><td>94</td></tr><tr><td>62</td><td>99</td></tr><tr><td>TT</td><td>44</td></tr><tr><td>Q</td><td>32</td></tr><tr><td>I</td><td>26</td></tr></tbody></table></div>"
      ]
     },
     "metadata": {
      "application/vnd.databricks.v1+output": {
       "addedWidgets": {},
       "aggData": [],
       "aggError": "",
       "aggOverflow": false,
       "aggSchema": [],
       "aggSeriesLimitReached": false,
       "aggType": "",
       "arguments": {},
       "columnCustomDisplayInfos": {},
       "data": [
        [
         "Savana Cargo Van",
         87
        ],
        [
         "2500 Club Coupe",
         3
        ],
        [
         "Ram Wagon B250",
         42
        ],
        [
         "Yukon XL 2500",
         45
        ],
        [
         "Suburban 2500",
         69
        ],
        [
         "Outback Sport",
         6
        ],
        [
         "Sixty Special",
         89
        ],
        [
         "VS Commodore",
         7
        ],
        [
         "Sierra 3500",
         48
        ],
        [
         "Savana 1500",
         57
        ],
        [
         "Savana 3500",
         55
        ],
        [
         "Sierra 2500",
         82
        ],
        [
         "Range Rover",
         88
        ],
        [
         "Thunderbird",
         39
        ],
        [
         "Thunderbird",
         36
        ],
        [
         "Carrera GT",
         95
        ],
        [
         "Avalanche",
         38
        ],
        [
         "Aerostar",
         23
        ],
        [
         "S-Series",
         25
        ],
        [
         "Eldorado",
         54
        ],
        [
         "Forester",
         56
        ],
        [
         "Sportage",
         53
        ],
        [
         "Mystique",
         60
        ],
        [
         "Diamante",
         84
        ],
        [
         "Corvette",
         81
        ],
        [
         "CL-Class",
         85
        ],
        [
         "Passport",
         97
        ],
        [
         "Stratus",
         16
        ],
        [
         "Tiburon",
         63
        ],
        [
         "Caliber",
         30
        ],
        [
         "Horizon",
         29
        ],
        [
         "S-Class",
         61
        ],
        [
         "Sunbird",
         20
        ],
        [
         "Caprice",
         51
        ],
        [
         "Eclipse",
         1
        ],
        [
         "Eclipse",
         22
        ],
        [
         "Tiburon",
         9
        ],
        [
         "Acclaim",
         74
        ],
        [
         "Cayenne",
         83
        ],
        [
         "Marquis",
         90
        ],
        [
         "Montego",
         93
        ],
        [
         "Leganza",
         35
        ],
        [
         "Equinox",
         17
        ],
        [
         "Durango",
         62
        ],
        [
         "Raider",
         72
        ],
        [
         "LeMans",
         24
        ],
        [
         "Optima",
         64
        ],
        [
         "Galant",
         59
        ],
        [
         "Sonata",
         13
        ],
        [
         "Ranger",
         40
        ],
        [
         "Esprit",
         65
        ],
        [
         "Escort",
         33
        ],
        [
         "Tacoma",
         2
        ],
        [
         "Mazda6",
         47
        ],
        [
         "Tucson",
         11
        ],
        [
         "Cayman",
         80
        ],
        [
         "240SX",
         46
        ],
        [
         "Envoy",
         70
        ],
        [
         "Topaz",
         34
        ],
        [
         "Swift",
         4
        ],
        [
         "Quest",
         91
        ],
        [
         "Regal",
         100
        ],
        [
         "Jimmy",
         43
        ],
        [
         "Yukon",
         68
        ],
        [
         "Golf",
         8
        ],
        [
         "E150",
         28
        ],
        [
         "Neon",
         27
        ],
        [
         "CR-V",
         18
        ],
        [
         "F350",
         5
        ],
        [
         "F250",
         58
        ],
        [
         "MX-6",
         31
        ],
        [
         "MX-5",
         71
        ],
        [
         "6000",
         52
        ],
        [
         "2500",
         15
        ],
        [
         "F250",
         37
        ],
        [
         "F150",
         73
        ],
        [
         "6000",
         75
        ],
        [
         "F350",
         77
        ],
        [
         "300M",
         96
        ],
        [
         "XC70",
         98
        ],
        [
         "3500",
         49
        ],
        [
         "DTS",
         67
        ],
        [
         "Fox",
         41
        ],
        [
         "GTI",
         21
        ],
        [
         "MR2",
         19
        ],
        [
         "V50",
         10
        ],
        [
         "NSX",
         12
        ],
        [
         "C30",
         76
        ],
        [
         "NSX",
         78
        ],
        [
         "600",
         79
        ],
        [
         "VUE",
         92
        ],
        [
         "Fit",
         86
        ],
        [
         "TT",
         50
        ],
        [
         "80",
         66
        ],
        [
         "LS",
         14
        ],
        [
         "88",
         94
        ],
        [
         "62",
         99
        ],
        [
         "TT",
         44
        ],
        [
         "Q",
         32
        ],
        [
         "I",
         26
        ]
       ],
       "datasetInfos": [],
       "dbfsResultPath": null,
       "isJsonSchema": true,
       "metadata": {},
       "overflow": false,
       "plotOptions": {
        "customPlotOptions": {},
        "displayType": "table",
        "pivotAggregation": null,
        "pivotColumns": null,
        "xColumns": null,
        "yColumns": null
       },
       "removedWidgets": [],
       "schema": [
        {
         "metadata": "{}",
         "name": "modelo",
         "type": "\"string\""
        },
        {
         "metadata": "{}",
         "name": "capacidad",
         "type": "\"integer\""
        }
       ],
       "type": "table"
      }
     },
     "output_type": "display_data"
    }
   ],
   "source": [
    "%python\n",
    "# Mostrar los datos insertados en la tabla 'tren'\n",
    "df = spark.sql(\"SELECT * FROM tren\")\n",
    "display(df)"
   ]
  },
  {
   "cell_type": "code",
   "execution_count": 0,
   "metadata": {
    "application/vnd.databricks.v1+cell": {
     "cellMetadata": {
      "byteLimit": 2048000,
      "rowLimit": 10000
     },
     "inputWidgets": {},
     "nuid": "dc674fba-a282-4eba-ad5d-14d9d1b77719",
     "showTitle": false,
     "tableResultSettingsMap": {},
     "title": ""
    }
   },
   "outputs": [],
   "source": [
    "%python\n",
    "# Guardar la tabla 'pasajero' en Azure PostgreSQL\n",
    "df.write.jdbc(\n",
    "    url=jdbc_url,\n",
    "    table=\"tren\",\n",
    "    mode=\"overwrite\",\n",
    "    properties=connection_properties)"
   ]
  },
  {
   "cell_type": "code",
   "execution_count": 0,
   "metadata": {
    "application/vnd.databricks.v1+cell": {
     "cellMetadata": {
      "byteLimit": 2048000,
      "rowLimit": 10000
     },
     "inputWidgets": {},
     "nuid": "73ec7e1e-61c3-4982-8ef8-d24e18d25850",
     "showTitle": false,
     "tableResultSettingsMap": {},
     "title": ""
    }
   },
   "outputs": [
    {
     "output_type": "display_data",
     "data": {
      "text/html": [
       "<style scoped>\n",
       "  .table-result-container {\n",
       "    max-height: 300px;\n",
       "    overflow: auto;\n",
       "  }\n",
       "  table, th, td {\n",
       "    border: 1px solid black;\n",
       "    border-collapse: collapse;\n",
       "  }\n",
       "  th, td {\n",
       "    padding: 5px;\n",
       "  }\n",
       "  th {\n",
       "    text-align: left;\n",
       "  }\n",
       "</style><div class='table-result-container'><table class='table-result'><thead style='background-color: white'><tr><th>table_catalog</th><th>table_schema</th><th>table_name</th><th>table_type</th><th>self_referencing_column_name</th><th>reference_generation</th><th>user_defined_type_catalog</th><th>user_defined_type_schema</th><th>user_defined_type_name</th><th>is_insertable_into</th><th>is_typed</th><th>commit_action</th></tr></thead><tbody><tr><td>postgres</td><td>pg_catalog</td><td>pg_stats_ext</td><td>VIEW</td><td>null</td><td>null</td><td>null</td><td>null</td><td>null</td><td>NO</td><td>NO</td><td>null</td></tr><tr><td>postgres</td><td>pg_catalog</td><td>pg_stats_ext_exprs</td><td>VIEW</td><td>null</td><td>null</td><td>null</td><td>null</td><td>null</td><td>NO</td><td>NO</td><td>null</td></tr><tr><td>postgres</td><td>pg_catalog</td><td>pg_statistic</td><td>BASE TABLE</td><td>null</td><td>null</td><td>null</td><td>null</td><td>null</td><td>YES</td><td>NO</td><td>null</td></tr><tr><td>postgres</td><td>pg_catalog</td><td>pg_type</td><td>BASE TABLE</td><td>null</td><td>null</td><td>null</td><td>null</td><td>null</td><td>YES</td><td>NO</td><td>null</td></tr><tr><td>postgres</td><td>public</td><td>trayecto</td><td>BASE TABLE</td><td>null</td><td>null</td><td>null</td><td>null</td><td>null</td><td>YES</td><td>NO</td><td>null</td></tr><tr><td>postgres</td><td>pg_catalog</td><td>pg_foreign_table</td><td>BASE TABLE</td><td>null</td><td>null</td><td>null</td><td>null</td><td>null</td><td>YES</td><td>NO</td><td>null</td></tr><tr><td>postgres</td><td>pg_catalog</td><td>pg_authid</td><td>BASE TABLE</td><td>null</td><td>null</td><td>null</td><td>null</td><td>null</td><td>YES</td><td>NO</td><td>null</td></tr><tr><td>postgres</td><td>pg_catalog</td><td>pg_shadow</td><td>VIEW</td><td>null</td><td>null</td><td>null</td><td>null</td><td>null</td><td>NO</td><td>NO</td><td>null</td></tr><tr><td>postgres</td><td>public</td><td>estacion</td><td>BASE TABLE</td><td>null</td><td>null</td><td>null</td><td>null</td><td>null</td><td>YES</td><td>NO</td><td>null</td></tr><tr><td>postgres</td><td>pg_catalog</td><td>pg_roles</td><td>VIEW</td><td>null</td><td>null</td><td>null</td><td>null</td><td>null</td><td>NO</td><td>NO</td><td>null</td></tr><tr><td>postgres</td><td>public</td><td>pasajero</td><td>BASE TABLE</td><td>null</td><td>null</td><td>null</td><td>null</td><td>null</td><td>YES</td><td>NO</td><td>null</td></tr><tr><td>postgres</td><td>pg_catalog</td><td>pg_statistic_ext_data</td><td>BASE TABLE</td><td>null</td><td>null</td><td>null</td><td>null</td><td>null</td><td>YES</td><td>NO</td><td>null</td></tr><tr><td>postgres</td><td>pg_catalog</td><td>pg_hba_file_rules</td><td>VIEW</td><td>null</td><td>null</td><td>null</td><td>null</td><td>null</td><td>NO</td><td>NO</td><td>null</td></tr><tr><td>postgres</td><td>pg_catalog</td><td>pg_settings</td><td>VIEW</td><td>null</td><td>null</td><td>null</td><td>null</td><td>null</td><td>NO</td><td>NO</td><td>null</td></tr><tr><td>postgres</td><td>pg_catalog</td><td>pg_file_settings</td><td>VIEW</td><td>null</td><td>null</td><td>null</td><td>null</td><td>null</td><td>NO</td><td>NO</td><td>null</td></tr><tr><td>postgres</td><td>pg_catalog</td><td>pg_backend_memory_contexts</td><td>VIEW</td><td>null</td><td>null</td><td>null</td><td>null</td><td>null</td><td>NO</td><td>NO</td><td>null</td></tr><tr><td>postgres</td><td>pg_catalog</td><td>pg_ident_file_mappings</td><td>VIEW</td><td>null</td><td>null</td><td>null</td><td>null</td><td>null</td><td>NO</td><td>NO</td><td>null</td></tr><tr><td>postgres</td><td>pg_catalog</td><td>pg_config</td><td>VIEW</td><td>null</td><td>null</td><td>null</td><td>null</td><td>null</td><td>NO</td><td>NO</td><td>null</td></tr><tr><td>postgres</td><td>pg_catalog</td><td>pg_shmem_allocations</td><td>VIEW</td><td>null</td><td>null</td><td>null</td><td>null</td><td>null</td><td>NO</td><td>NO</td><td>null</td></tr><tr><td>postgres</td><td>pg_catalog</td><td>pg_tables</td><td>VIEW</td><td>null</td><td>null</td><td>null</td><td>null</td><td>null</td><td>NO</td><td>NO</td><td>null</td></tr><tr><td>postgres</td><td>public</td><td>tren</td><td>BASE TABLE</td><td>null</td><td>null</td><td>null</td><td>null</td><td>null</td><td>YES</td><td>NO</td><td>null</td></tr><tr><td>postgres</td><td>pg_catalog</td><td>pg_user_mapping</td><td>BASE TABLE</td><td>null</td><td>null</td><td>null</td><td>null</td><td>null</td><td>YES</td><td>NO</td><td>null</td></tr><tr><td>postgres</td><td>pg_catalog</td><td>pg_replication_origin_status</td><td>VIEW</td><td>null</td><td>null</td><td>null</td><td>null</td><td>null</td><td>NO</td><td>NO</td><td>null</td></tr><tr><td>postgres</td><td>pg_catalog</td><td>pg_subscription</td><td>BASE TABLE</td><td>null</td><td>null</td><td>null</td><td>null</td><td>null</td><td>YES</td><td>NO</td><td>null</td></tr><tr><td>postgres</td><td>pg_catalog</td><td>pg_attribute</td><td>BASE TABLE</td><td>null</td><td>null</td><td>null</td><td>null</td><td>null</td><td>YES</td><td>NO</td><td>null</td></tr><tr><td>postgres</td><td>pg_catalog</td><td>pg_proc</td><td>BASE TABLE</td><td>null</td><td>null</td><td>null</td><td>null</td><td>null</td><td>YES</td><td>NO</td><td>null</td></tr><tr><td>postgres</td><td>pg_catalog</td><td>pg_class</td><td>BASE TABLE</td><td>null</td><td>null</td><td>null</td><td>null</td><td>null</td><td>YES</td><td>NO</td><td>null</td></tr><tr><td>postgres</td><td>pg_catalog</td><td>pg_attrdef</td><td>BASE TABLE</td><td>null</td><td>null</td><td>null</td><td>null</td><td>null</td><td>YES</td><td>NO</td><td>null</td></tr><tr><td>postgres</td><td>pg_catalog</td><td>pg_constraint</td><td>BASE TABLE</td><td>null</td><td>null</td><td>null</td><td>null</td><td>null</td><td>YES</td><td>NO</td><td>null</td></tr><tr><td>postgres</td><td>pg_catalog</td><td>pg_inherits</td><td>BASE TABLE</td><td>null</td><td>null</td><td>null</td><td>null</td><td>null</td><td>YES</td><td>NO</td><td>null</td></tr><tr><td>postgres</td><td>pg_catalog</td><td>pg_index</td><td>BASE TABLE</td><td>null</td><td>null</td><td>null</td><td>null</td><td>null</td><td>YES</td><td>NO</td><td>null</td></tr><tr><td>postgres</td><td>pg_catalog</td><td>pg_operator</td><td>BASE TABLE</td><td>null</td><td>null</td><td>null</td><td>null</td><td>null</td><td>YES</td><td>NO</td><td>null</td></tr><tr><td>postgres</td><td>pg_catalog</td><td>pg_statio_all_sequences</td><td>VIEW</td><td>null</td><td>null</td><td>null</td><td>null</td><td>null</td><td>NO</td><td>NO</td><td>null</td></tr><tr><td>postgres</td><td>pg_catalog</td><td>pg_opfamily</td><td>BASE TABLE</td><td>null</td><td>null</td><td>null</td><td>null</td><td>null</td><td>YES</td><td>NO</td><td>null</td></tr><tr><td>postgres</td><td>pg_catalog</td><td>pg_opclass</td><td>BASE TABLE</td><td>null</td><td>null</td><td>null</td><td>null</td><td>null</td><td>YES</td><td>NO</td><td>null</td></tr><tr><td>postgres</td><td>pg_catalog</td><td>pg_am</td><td>BASE TABLE</td><td>null</td><td>null</td><td>null</td><td>null</td><td>null</td><td>YES</td><td>NO</td><td>null</td></tr><tr><td>postgres</td><td>pg_catalog</td><td>pg_amop</td><td>BASE TABLE</td><td>null</td><td>null</td><td>null</td><td>null</td><td>null</td><td>YES</td><td>NO</td><td>null</td></tr><tr><td>postgres</td><td>pg_catalog</td><td>pg_amproc</td><td>BASE TABLE</td><td>null</td><td>null</td><td>null</td><td>null</td><td>null</td><td>YES</td><td>NO</td><td>null</td></tr><tr><td>postgres</td><td>pg_catalog</td><td>pg_language</td><td>BASE TABLE</td><td>null</td><td>null</td><td>null</td><td>null</td><td>null</td><td>YES</td><td>NO</td><td>null</td></tr><tr><td>postgres</td><td>pg_catalog</td><td>pg_largeobject_metadata</td><td>BASE TABLE</td><td>null</td><td>null</td><td>null</td><td>null</td><td>null</td><td>YES</td><td>NO</td><td>null</td></tr><tr><td>postgres</td><td>pg_catalog</td><td>pg_aggregate</td><td>BASE TABLE</td><td>null</td><td>null</td><td>null</td><td>null</td><td>null</td><td>YES</td><td>NO</td><td>null</td></tr><tr><td>postgres</td><td>pg_catalog</td><td>pg_statistic_ext</td><td>BASE TABLE</td><td>null</td><td>null</td><td>null</td><td>null</td><td>null</td><td>YES</td><td>NO</td><td>null</td></tr><tr><td>postgres</td><td>pg_catalog</td><td>pg_rewrite</td><td>BASE TABLE</td><td>null</td><td>null</td><td>null</td><td>null</td><td>null</td><td>YES</td><td>NO</td><td>null</td></tr><tr><td>postgres</td><td>pg_catalog</td><td>pg_trigger</td><td>BASE TABLE</td><td>null</td><td>null</td><td>null</td><td>null</td><td>null</td><td>YES</td><td>NO</td><td>null</td></tr><tr><td>postgres</td><td>pg_catalog</td><td>pg_event_trigger</td><td>BASE TABLE</td><td>null</td><td>null</td><td>null</td><td>null</td><td>null</td><td>YES</td><td>NO</td><td>null</td></tr><tr><td>postgres</td><td>pg_catalog</td><td>pg_description</td><td>BASE TABLE</td><td>null</td><td>null</td><td>null</td><td>null</td><td>null</td><td>YES</td><td>NO</td><td>null</td></tr><tr><td>postgres</td><td>pg_catalog</td><td>pg_cast</td><td>BASE TABLE</td><td>null</td><td>null</td><td>null</td><td>null</td><td>null</td><td>YES</td><td>NO</td><td>null</td></tr><tr><td>postgres</td><td>pg_catalog</td><td>pg_enum</td><td>BASE TABLE</td><td>null</td><td>null</td><td>null</td><td>null</td><td>null</td><td>YES</td><td>NO</td><td>null</td></tr><tr><td>postgres</td><td>pg_catalog</td><td>pg_namespace</td><td>BASE TABLE</td><td>null</td><td>null</td><td>null</td><td>null</td><td>null</td><td>YES</td><td>NO</td><td>null</td></tr><tr><td>postgres</td><td>pg_catalog</td><td>pg_conversion</td><td>BASE TABLE</td><td>null</td><td>null</td><td>null</td><td>null</td><td>null</td><td>YES</td><td>NO</td><td>null</td></tr><tr><td>postgres</td><td>pg_catalog</td><td>pg_depend</td><td>BASE TABLE</td><td>null</td><td>null</td><td>null</td><td>null</td><td>null</td><td>YES</td><td>NO</td><td>null</td></tr><tr><td>postgres</td><td>pg_catalog</td><td>pg_database</td><td>BASE TABLE</td><td>null</td><td>null</td><td>null</td><td>null</td><td>null</td><td>YES</td><td>NO</td><td>null</td></tr><tr><td>postgres</td><td>pg_catalog</td><td>pg_db_role_setting</td><td>BASE TABLE</td><td>null</td><td>null</td><td>null</td><td>null</td><td>null</td><td>YES</td><td>NO</td><td>null</td></tr><tr><td>postgres</td><td>pg_catalog</td><td>pg_tablespace</td><td>BASE TABLE</td><td>null</td><td>null</td><td>null</td><td>null</td><td>null</td><td>YES</td><td>NO</td><td>null</td></tr><tr><td>postgres</td><td>pg_catalog</td><td>pg_auth_members</td><td>BASE TABLE</td><td>null</td><td>null</td><td>null</td><td>null</td><td>null</td><td>YES</td><td>NO</td><td>null</td></tr><tr><td>postgres</td><td>pg_catalog</td><td>pg_shdepend</td><td>BASE TABLE</td><td>null</td><td>null</td><td>null</td><td>null</td><td>null</td><td>YES</td><td>NO</td><td>null</td></tr><tr><td>postgres</td><td>pg_catalog</td><td>pg_shdescription</td><td>BASE TABLE</td><td>null</td><td>null</td><td>null</td><td>null</td><td>null</td><td>YES</td><td>NO</td><td>null</td></tr><tr><td>postgres</td><td>pg_catalog</td><td>pg_ts_config</td><td>BASE TABLE</td><td>null</td><td>null</td><td>null</td><td>null</td><td>null</td><td>YES</td><td>NO</td><td>null</td></tr><tr><td>postgres</td><td>pg_catalog</td><td>pg_ts_config_map</td><td>BASE TABLE</td><td>null</td><td>null</td><td>null</td><td>null</td><td>null</td><td>YES</td><td>NO</td><td>null</td></tr><tr><td>postgres</td><td>pg_catalog</td><td>pg_ts_dict</td><td>BASE TABLE</td><td>null</td><td>null</td><td>null</td><td>null</td><td>null</td><td>YES</td><td>NO</td><td>null</td></tr><tr><td>postgres</td><td>pg_catalog</td><td>pg_ts_parser</td><td>BASE TABLE</td><td>null</td><td>null</td><td>null</td><td>null</td><td>null</td><td>YES</td><td>NO</td><td>null</td></tr><tr><td>postgres</td><td>pg_catalog</td><td>pg_ts_template</td><td>BASE TABLE</td><td>null</td><td>null</td><td>null</td><td>null</td><td>null</td><td>YES</td><td>NO</td><td>null</td></tr><tr><td>postgres</td><td>pg_catalog</td><td>pg_extension</td><td>BASE TABLE</td><td>null</td><td>null</td><td>null</td><td>null</td><td>null</td><td>YES</td><td>NO</td><td>null</td></tr><tr><td>postgres</td><td>pg_catalog</td><td>pg_foreign_data_wrapper</td><td>BASE TABLE</td><td>null</td><td>null</td><td>null</td><td>null</td><td>null</td><td>YES</td><td>NO</td><td>null</td></tr><tr><td>postgres</td><td>pg_catalog</td><td>pg_foreign_server</td><td>BASE TABLE</td><td>null</td><td>null</td><td>null</td><td>null</td><td>null</td><td>YES</td><td>NO</td><td>null</td></tr><tr><td>postgres</td><td>pg_catalog</td><td>pg_policy</td><td>BASE TABLE</td><td>null</td><td>null</td><td>null</td><td>null</td><td>null</td><td>YES</td><td>NO</td><td>null</td></tr><tr><td>postgres</td><td>pg_catalog</td><td>pg_replication_origin</td><td>BASE TABLE</td><td>null</td><td>null</td><td>null</td><td>null</td><td>null</td><td>YES</td><td>NO</td><td>null</td></tr><tr><td>postgres</td><td>pg_catalog</td><td>pg_default_acl</td><td>BASE TABLE</td><td>null</td><td>null</td><td>null</td><td>null</td><td>null</td><td>YES</td><td>NO</td><td>null</td></tr><tr><td>postgres</td><td>pg_catalog</td><td>pg_init_privs</td><td>BASE TABLE</td><td>null</td><td>null</td><td>null</td><td>null</td><td>null</td><td>YES</td><td>NO</td><td>null</td></tr><tr><td>postgres</td><td>pg_catalog</td><td>pg_seclabel</td><td>BASE TABLE</td><td>null</td><td>null</td><td>null</td><td>null</td><td>null</td><td>YES</td><td>NO</td><td>null</td></tr><tr><td>postgres</td><td>pg_catalog</td><td>pg_shseclabel</td><td>BASE TABLE</td><td>null</td><td>null</td><td>null</td><td>null</td><td>null</td><td>YES</td><td>NO</td><td>null</td></tr><tr><td>postgres</td><td>pg_catalog</td><td>pg_collation</td><td>BASE TABLE</td><td>null</td><td>null</td><td>null</td><td>null</td><td>null</td><td>YES</td><td>NO</td><td>null</td></tr><tr><td>postgres</td><td>pg_catalog</td><td>pg_parameter_acl</td><td>BASE TABLE</td><td>null</td><td>null</td><td>null</td><td>null</td><td>null</td><td>YES</td><td>NO</td><td>null</td></tr><tr><td>postgres</td><td>pg_catalog</td><td>pg_partitioned_table</td><td>BASE TABLE</td><td>null</td><td>null</td><td>null</td><td>null</td><td>null</td><td>YES</td><td>NO</td><td>null</td></tr><tr><td>postgres</td><td>pg_catalog</td><td>pg_range</td><td>BASE TABLE</td><td>null</td><td>null</td><td>null</td><td>null</td><td>null</td><td>YES</td><td>NO</td><td>null</td></tr><tr><td>postgres</td><td>pg_catalog</td><td>pg_transform</td><td>BASE TABLE</td><td>null</td><td>null</td><td>null</td><td>null</td><td>null</td><td>YES</td><td>NO</td><td>null</td></tr><tr><td>postgres</td><td>pg_catalog</td><td>pg_sequence</td><td>BASE TABLE</td><td>null</td><td>null</td><td>null</td><td>null</td><td>null</td><td>YES</td><td>NO</td><td>null</td></tr><tr><td>postgres</td><td>pg_catalog</td><td>pg_publication</td><td>BASE TABLE</td><td>null</td><td>null</td><td>null</td><td>null</td><td>null</td><td>YES</td><td>NO</td><td>null</td></tr><tr><td>postgres</td><td>pg_catalog</td><td>pg_publication_namespace</td><td>BASE TABLE</td><td>null</td><td>null</td><td>null</td><td>null</td><td>null</td><td>YES</td><td>NO</td><td>null</td></tr><tr><td>postgres</td><td>pg_catalog</td><td>pg_publication_rel</td><td>BASE TABLE</td><td>null</td><td>null</td><td>null</td><td>null</td><td>null</td><td>YES</td><td>NO</td><td>null</td></tr><tr><td>postgres</td><td>pg_catalog</td><td>pg_subscription_rel</td><td>BASE TABLE</td><td>null</td><td>null</td><td>null</td><td>null</td><td>null</td><td>YES</td><td>NO</td><td>null</td></tr><tr><td>postgres</td><td>pg_catalog</td><td>pg_group</td><td>VIEW</td><td>null</td><td>null</td><td>null</td><td>null</td><td>null</td><td>YES</td><td>NO</td><td>null</td></tr><tr><td>postgres</td><td>pg_catalog</td><td>pg_user</td><td>VIEW</td><td>null</td><td>null</td><td>null</td><td>null</td><td>null</td><td>NO</td><td>NO</td><td>null</td></tr><tr><td>postgres</td><td>pg_catalog</td><td>pg_policies</td><td>VIEW</td><td>null</td><td>null</td><td>null</td><td>null</td><td>null</td><td>NO</td><td>NO</td><td>null</td></tr><tr><td>postgres</td><td>pg_catalog</td><td>pg_rules</td><td>VIEW</td><td>null</td><td>null</td><td>null</td><td>null</td><td>null</td><td>NO</td><td>NO</td><td>null</td></tr><tr><td>postgres</td><td>pg_catalog</td><td>pg_views</td><td>VIEW</td><td>null</td><td>null</td><td>null</td><td>null</td><td>null</td><td>NO</td><td>NO</td><td>null</td></tr><tr><td>postgres</td><td>pg_catalog</td><td>pg_matviews</td><td>VIEW</td><td>null</td><td>null</td><td>null</td><td>null</td><td>null</td><td>NO</td><td>NO</td><td>null</td></tr><tr><td>postgres</td><td>pg_catalog</td><td>pg_indexes</td><td>VIEW</td><td>null</td><td>null</td><td>null</td><td>null</td><td>null</td><td>NO</td><td>NO</td><td>null</td></tr><tr><td>postgres</td><td>pg_catalog</td><td>pg_sequences</td><td>VIEW</td><td>null</td><td>null</td><td>null</td><td>null</td><td>null</td><td>NO</td><td>NO</td><td>null</td></tr><tr><td>postgres</td><td>pg_catalog</td><td>pg_stats</td><td>VIEW</td><td>null</td><td>null</td><td>null</td><td>null</td><td>null</td><td>NO</td><td>NO</td><td>null</td></tr><tr><td>postgres</td><td>pg_catalog</td><td>pg_publication_tables</td><td>VIEW</td><td>null</td><td>null</td><td>null</td><td>null</td><td>null</td><td>NO</td><td>NO</td><td>null</td></tr><tr><td>postgres</td><td>pg_catalog</td><td>pg_locks</td><td>VIEW</td><td>null</td><td>null</td><td>null</td><td>null</td><td>null</td><td>NO</td><td>NO</td><td>null</td></tr><tr><td>postgres</td><td>pg_catalog</td><td>pg_cursors</td><td>VIEW</td><td>null</td><td>null</td><td>null</td><td>null</td><td>null</td><td>NO</td><td>NO</td><td>null</td></tr><tr><td>postgres</td><td>pg_catalog</td><td>pg_available_extensions</td><td>VIEW</td><td>null</td><td>null</td><td>null</td><td>null</td><td>null</td><td>NO</td><td>NO</td><td>null</td></tr><tr><td>postgres</td><td>pg_catalog</td><td>pg_available_extension_versions</td><td>VIEW</td><td>null</td><td>null</td><td>null</td><td>null</td><td>null</td><td>NO</td><td>NO</td><td>null</td></tr><tr><td>postgres</td><td>pg_catalog</td><td>pg_prepared_xacts</td><td>VIEW</td><td>null</td><td>null</td><td>null</td><td>null</td><td>null</td><td>NO</td><td>NO</td><td>null</td></tr><tr><td>postgres</td><td>pg_catalog</td><td>pg_prepared_statements</td><td>VIEW</td><td>null</td><td>null</td><td>null</td><td>null</td><td>null</td><td>NO</td><td>NO</td><td>null</td></tr><tr><td>postgres</td><td>pg_catalog</td><td>pg_seclabels</td><td>VIEW</td><td>null</td><td>null</td><td>null</td><td>null</td><td>null</td><td>NO</td><td>NO</td><td>null</td></tr><tr><td>postgres</td><td>pg_catalog</td><td>pg_timezone_abbrevs</td><td>VIEW</td><td>null</td><td>null</td><td>null</td><td>null</td><td>null</td><td>NO</td><td>NO</td><td>null</td></tr><tr><td>postgres</td><td>pg_catalog</td><td>pg_timezone_names</td><td>VIEW</td><td>null</td><td>null</td><td>null</td><td>null</td><td>null</td><td>NO</td><td>NO</td><td>null</td></tr><tr><td>postgres</td><td>pg_catalog</td><td>pg_stat_all_tables</td><td>VIEW</td><td>null</td><td>null</td><td>null</td><td>null</td><td>null</td><td>NO</td><td>NO</td><td>null</td></tr><tr><td>postgres</td><td>pg_catalog</td><td>pg_stat_xact_all_tables</td><td>VIEW</td><td>null</td><td>null</td><td>null</td><td>null</td><td>null</td><td>NO</td><td>NO</td><td>null</td></tr><tr><td>postgres</td><td>pg_catalog</td><td>pg_stat_xact_user_tables</td><td>VIEW</td><td>null</td><td>null</td><td>null</td><td>null</td><td>null</td><td>NO</td><td>NO</td><td>null</td></tr><tr><td>postgres</td><td>pg_catalog</td><td>pg_stat_sys_tables</td><td>VIEW</td><td>null</td><td>null</td><td>null</td><td>null</td><td>null</td><td>NO</td><td>NO</td><td>null</td></tr><tr><td>postgres</td><td>pg_catalog</td><td>pg_stat_xact_sys_tables</td><td>VIEW</td><td>null</td><td>null</td><td>null</td><td>null</td><td>null</td><td>NO</td><td>NO</td><td>null</td></tr><tr><td>postgres</td><td>pg_catalog</td><td>pg_stat_user_tables</td><td>VIEW</td><td>null</td><td>null</td><td>null</td><td>null</td><td>null</td><td>NO</td><td>NO</td><td>null</td></tr><tr><td>postgres</td><td>pg_catalog</td><td>pg_statio_all_tables</td><td>VIEW</td><td>null</td><td>null</td><td>null</td><td>null</td><td>null</td><td>NO</td><td>NO</td><td>null</td></tr><tr><td>postgres</td><td>pg_catalog</td><td>pg_statio_sys_tables</td><td>VIEW</td><td>null</td><td>null</td><td>null</td><td>null</td><td>null</td><td>NO</td><td>NO</td><td>null</td></tr><tr><td>postgres</td><td>pg_catalog</td><td>pg_statio_user_tables</td><td>VIEW</td><td>null</td><td>null</td><td>null</td><td>null</td><td>null</td><td>NO</td><td>NO</td><td>null</td></tr><tr><td>postgres</td><td>pg_catalog</td><td>pg_stat_all_indexes</td><td>VIEW</td><td>null</td><td>null</td><td>null</td><td>null</td><td>null</td><td>NO</td><td>NO</td><td>null</td></tr><tr><td>postgres</td><td>pg_catalog</td><td>pg_stat_sys_indexes</td><td>VIEW</td><td>null</td><td>null</td><td>null</td><td>null</td><td>null</td><td>NO</td><td>NO</td><td>null</td></tr><tr><td>postgres</td><td>pg_catalog</td><td>pg_stat_user_indexes</td><td>VIEW</td><td>null</td><td>null</td><td>null</td><td>null</td><td>null</td><td>NO</td><td>NO</td><td>null</td></tr><tr><td>postgres</td><td>pg_catalog</td><td>pg_statio_all_indexes</td><td>VIEW</td><td>null</td><td>null</td><td>null</td><td>null</td><td>null</td><td>NO</td><td>NO</td><td>null</td></tr><tr><td>postgres</td><td>pg_catalog</td><td>pg_statio_sys_indexes</td><td>VIEW</td><td>null</td><td>null</td><td>null</td><td>null</td><td>null</td><td>NO</td><td>NO</td><td>null</td></tr><tr><td>postgres</td><td>pg_catalog</td><td>pg_statio_user_indexes</td><td>VIEW</td><td>null</td><td>null</td><td>null</td><td>null</td><td>null</td><td>NO</td><td>NO</td><td>null</td></tr><tr><td>postgres</td><td>pg_catalog</td><td>pg_statio_sys_sequences</td><td>VIEW</td><td>null</td><td>null</td><td>null</td><td>null</td><td>null</td><td>NO</td><td>NO</td><td>null</td></tr><tr><td>postgres</td><td>pg_catalog</td><td>pg_statio_user_sequences</td><td>VIEW</td><td>null</td><td>null</td><td>null</td><td>null</td><td>null</td><td>NO</td><td>NO</td><td>null</td></tr><tr><td>postgres</td><td>pg_catalog</td><td>pg_stat_activity</td><td>VIEW</td><td>null</td><td>null</td><td>null</td><td>null</td><td>null</td><td>NO</td><td>NO</td><td>null</td></tr><tr><td>postgres</td><td>pg_catalog</td><td>pg_stat_replication</td><td>VIEW</td><td>null</td><td>null</td><td>null</td><td>null</td><td>null</td><td>NO</td><td>NO</td><td>null</td></tr><tr><td>postgres</td><td>pg_catalog</td><td>pg_stat_slru</td><td>VIEW</td><td>null</td><td>null</td><td>null</td><td>null</td><td>null</td><td>NO</td><td>NO</td><td>null</td></tr><tr><td>postgres</td><td>pg_catalog</td><td>pg_stat_wal_receiver</td><td>VIEW</td><td>null</td><td>null</td><td>null</td><td>null</td><td>null</td><td>NO</td><td>NO</td><td>null</td></tr><tr><td>postgres</td><td>pg_catalog</td><td>pg_stat_recovery_prefetch</td><td>VIEW</td><td>null</td><td>null</td><td>null</td><td>null</td><td>null</td><td>NO</td><td>NO</td><td>null</td></tr><tr><td>postgres</td><td>pg_catalog</td><td>pg_stat_subscription</td><td>VIEW</td><td>null</td><td>null</td><td>null</td><td>null</td><td>null</td><td>NO</td><td>NO</td><td>null</td></tr><tr><td>postgres</td><td>pg_catalog</td><td>pg_stat_ssl</td><td>VIEW</td><td>null</td><td>null</td><td>null</td><td>null</td><td>null</td><td>NO</td><td>NO</td><td>null</td></tr><tr><td>postgres</td><td>pg_catalog</td><td>pg_stat_gssapi</td><td>VIEW</td><td>null</td><td>null</td><td>null</td><td>null</td><td>null</td><td>NO</td><td>NO</td><td>null</td></tr><tr><td>postgres</td><td>pg_catalog</td><td>pg_replication_slots</td><td>VIEW</td><td>null</td><td>null</td><td>null</td><td>null</td><td>null</td><td>NO</td><td>NO</td><td>null</td></tr><tr><td>postgres</td><td>pg_catalog</td><td>pg_stat_replication_slots</td><td>VIEW</td><td>null</td><td>null</td><td>null</td><td>null</td><td>null</td><td>NO</td><td>NO</td><td>null</td></tr><tr><td>postgres</td><td>pg_catalog</td><td>pg_stat_database</td><td>VIEW</td><td>null</td><td>null</td><td>null</td><td>null</td><td>null</td><td>NO</td><td>NO</td><td>null</td></tr><tr><td>postgres</td><td>pg_catalog</td><td>pg_stat_database_conflicts</td><td>VIEW</td><td>null</td><td>null</td><td>null</td><td>null</td><td>null</td><td>YES</td><td>NO</td><td>null</td></tr><tr><td>postgres</td><td>pg_catalog</td><td>pg_stat_user_functions</td><td>VIEW</td><td>null</td><td>null</td><td>null</td><td>null</td><td>null</td><td>NO</td><td>NO</td><td>null</td></tr><tr><td>postgres</td><td>pg_catalog</td><td>pg_stat_xact_user_functions</td><td>VIEW</td><td>null</td><td>null</td><td>null</td><td>null</td><td>null</td><td>NO</td><td>NO</td><td>null</td></tr><tr><td>postgres</td><td>pg_catalog</td><td>pg_stat_archiver</td><td>VIEW</td><td>null</td><td>null</td><td>null</td><td>null</td><td>null</td><td>NO</td><td>NO</td><td>null</td></tr><tr><td>postgres</td><td>pg_catalog</td><td>pg_stat_bgwriter</td><td>VIEW</td><td>null</td><td>null</td><td>null</td><td>null</td><td>null</td><td>NO</td><td>NO</td><td>null</td></tr><tr><td>postgres</td><td>pg_catalog</td><td>pg_stat_io</td><td>VIEW</td><td>null</td><td>null</td><td>null</td><td>null</td><td>null</td><td>NO</td><td>NO</td><td>null</td></tr><tr><td>postgres</td><td>pg_catalog</td><td>pg_stat_wal</td><td>VIEW</td><td>null</td><td>null</td><td>null</td><td>null</td><td>null</td><td>NO</td><td>NO</td><td>null</td></tr><tr><td>postgres</td><td>pg_catalog</td><td>pg_stat_progress_analyze</td><td>VIEW</td><td>null</td><td>null</td><td>null</td><td>null</td><td>null</td><td>NO</td><td>NO</td><td>null</td></tr><tr><td>postgres</td><td>pg_catalog</td><td>pg_stat_progress_vacuum</td><td>VIEW</td><td>null</td><td>null</td><td>null</td><td>null</td><td>null</td><td>NO</td><td>NO</td><td>null</td></tr><tr><td>postgres</td><td>pg_catalog</td><td>pg_stat_progress_cluster</td><td>VIEW</td><td>null</td><td>null</td><td>null</td><td>null</td><td>null</td><td>NO</td><td>NO</td><td>null</td></tr><tr><td>postgres</td><td>pg_catalog</td><td>pg_stat_progress_create_index</td><td>VIEW</td><td>null</td><td>null</td><td>null</td><td>null</td><td>null</td><td>NO</td><td>NO</td><td>null</td></tr><tr><td>postgres</td><td>pg_catalog</td><td>pg_stat_progress_basebackup</td><td>VIEW</td><td>null</td><td>null</td><td>null</td><td>null</td><td>null</td><td>NO</td><td>NO</td><td>null</td></tr><tr><td>postgres</td><td>pg_catalog</td><td>pg_stat_progress_copy</td><td>VIEW</td><td>null</td><td>null</td><td>null</td><td>null</td><td>null</td><td>NO</td><td>NO</td><td>null</td></tr><tr><td>postgres</td><td>pg_catalog</td><td>pg_user_mappings</td><td>VIEW</td><td>null</td><td>null</td><td>null</td><td>null</td><td>null</td><td>NO</td><td>NO</td><td>null</td></tr><tr><td>postgres</td><td>pg_catalog</td><td>pg_stat_subscription_stats</td><td>VIEW</td><td>null</td><td>null</td><td>null</td><td>null</td><td>null</td><td>NO</td><td>NO</td><td>null</td></tr><tr><td>postgres</td><td>pg_catalog</td><td>pg_largeobject</td><td>BASE TABLE</td><td>null</td><td>null</td><td>null</td><td>null</td><td>null</td><td>YES</td><td>NO</td><td>null</td></tr><tr><td>postgres</td><td>information_schema</td><td>collations</td><td>VIEW</td><td>null</td><td>null</td><td>null</td><td>null</td><td>null</td><td>NO</td><td>NO</td><td>null</td></tr><tr><td>postgres</td><td>information_schema</td><td>information_schema_catalog_name</td><td>VIEW</td><td>null</td><td>null</td><td>null</td><td>null</td><td>null</td><td>NO</td><td>NO</td><td>null</td></tr><tr><td>postgres</td><td>information_schema</td><td>applicable_roles</td><td>VIEW</td><td>null</td><td>null</td><td>null</td><td>null</td><td>null</td><td>NO</td><td>NO</td><td>null</td></tr><tr><td>postgres</td><td>information_schema</td><td>domain_constraints</td><td>VIEW</td><td>null</td><td>null</td><td>null</td><td>null</td><td>null</td><td>NO</td><td>NO</td><td>null</td></tr><tr><td>postgres</td><td>information_schema</td><td>administrable_role_authorizations</td><td>VIEW</td><td>null</td><td>null</td><td>null</td><td>null</td><td>null</td><td>NO</td><td>NO</td><td>null</td></tr><tr><td>postgres</td><td>information_schema</td><td>collation_character_set_applicability</td><td>VIEW</td><td>null</td><td>null</td><td>null</td><td>null</td><td>null</td><td>NO</td><td>NO</td><td>null</td></tr><tr><td>postgres</td><td>information_schema</td><td>attributes</td><td>VIEW</td><td>null</td><td>null</td><td>null</td><td>null</td><td>null</td><td>NO</td><td>NO</td><td>null</td></tr><tr><td>postgres</td><td>information_schema</td><td>character_sets</td><td>VIEW</td><td>null</td><td>null</td><td>null</td><td>null</td><td>null</td><td>NO</td><td>NO</td><td>null</td></tr><tr><td>postgres</td><td>information_schema</td><td>column_udt_usage</td><td>VIEW</td><td>null</td><td>null</td><td>null</td><td>null</td><td>null</td><td>NO</td><td>NO</td><td>null</td></tr><tr><td>postgres</td><td>information_schema</td><td>check_constraint_routine_usage</td><td>VIEW</td><td>null</td><td>null</td><td>null</td><td>null</td><td>null</td><td>NO</td><td>NO</td><td>null</td></tr><tr><td>postgres</td><td>information_schema</td><td>column_column_usage</td><td>VIEW</td><td>null</td><td>null</td><td>null</td><td>null</td><td>null</td><td>NO</td><td>NO</td><td>null</td></tr><tr><td>postgres</td><td>information_schema</td><td>check_constraints</td><td>VIEW</td><td>null</td><td>null</td><td>null</td><td>null</td><td>null</td><td>NO</td><td>NO</td><td>null</td></tr><tr><td>postgres</td><td>information_schema</td><td>constraint_table_usage</td><td>VIEW</td><td>null</td><td>null</td><td>null</td><td>null</td><td>null</td><td>NO</td><td>NO</td><td>null</td></tr><tr><td>postgres</td><td>information_schema</td><td>column_domain_usage</td><td>VIEW</td><td>null</td><td>null</td><td>null</td><td>null</td><td>null</td><td>NO</td><td>NO</td><td>null</td></tr><tr><td>postgres</td><td>information_schema</td><td>columns</td><td>VIEW</td><td>null</td><td>null</td><td>null</td><td>null</td><td>null</td><td>NO</td><td>NO</td><td>null</td></tr><tr><td>postgres</td><td>information_schema</td><td>column_privileges</td><td>VIEW</td><td>null</td><td>null</td><td>null</td><td>null</td><td>null</td><td>NO</td><td>NO</td><td>null</td></tr><tr><td>postgres</td><td>information_schema</td><td>constraint_column_usage</td><td>VIEW</td><td>null</td><td>null</td><td>null</td><td>null</td><td>null</td><td>NO</td><td>NO</td><td>null</td></tr><tr><td>postgres</td><td>information_schema</td><td>domain_udt_usage</td><td>VIEW</td><td>null</td><td>null</td><td>null</td><td>null</td><td>null</td><td>NO</td><td>NO</td><td>null</td></tr><tr><td>postgres</td><td>information_schema</td><td>domains</td><td>VIEW</td><td>null</td><td>null</td><td>null</td><td>null</td><td>null</td><td>NO</td><td>NO</td><td>null</td></tr><tr><td>postgres</td><td>information_schema</td><td>enabled_roles</td><td>VIEW</td><td>null</td><td>null</td><td>null</td><td>null</td><td>null</td><td>NO</td><td>NO</td><td>null</td></tr><tr><td>postgres</td><td>information_schema</td><td>key_column_usage</td><td>VIEW</td><td>null</td><td>null</td><td>null</td><td>null</td><td>null</td><td>NO</td><td>NO</td><td>null</td></tr><tr><td>postgres</td><td>information_schema</td><td>parameters</td><td>VIEW</td><td>null</td><td>null</td><td>null</td><td>null</td><td>null</td><td>NO</td><td>NO</td><td>null</td></tr><tr><td>postgres</td><td>information_schema</td><td>table_privileges</td><td>VIEW</td><td>null</td><td>null</td><td>null</td><td>null</td><td>null</td><td>NO</td><td>NO</td><td>null</td></tr><tr><td>postgres</td><td>information_schema</td><td>referential_constraints</td><td>VIEW</td><td>null</td><td>null</td><td>null</td><td>null</td><td>null</td><td>NO</td><td>NO</td><td>null</td></tr><tr><td>postgres</td><td>information_schema</td><td>sql_features</td><td>BASE TABLE</td><td>null</td><td>null</td><td>null</td><td>null</td><td>null</td><td>YES</td><td>NO</td><td>null</td></tr><tr><td>postgres</td><td>information_schema</td><td>role_column_grants</td><td>VIEW</td><td>null</td><td>null</td><td>null</td><td>null</td><td>null</td><td>NO</td><td>NO</td><td>null</td></tr><tr><td>postgres</td><td>information_schema</td><td>routine_column_usage</td><td>VIEW</td><td>null</td><td>null</td><td>null</td><td>null</td><td>null</td><td>NO</td><td>NO</td><td>null</td></tr><tr><td>postgres</td><td>information_schema</td><td>routine_privileges</td><td>VIEW</td><td>null</td><td>null</td><td>null</td><td>null</td><td>null</td><td>NO</td><td>NO</td><td>null</td></tr><tr><td>postgres</td><td>information_schema</td><td>role_routine_grants</td><td>VIEW</td><td>null</td><td>null</td><td>null</td><td>null</td><td>null</td><td>NO</td><td>NO</td><td>null</td></tr><tr><td>postgres</td><td>information_schema</td><td>routine_routine_usage</td><td>VIEW</td><td>null</td><td>null</td><td>null</td><td>null</td><td>null</td><td>NO</td><td>NO</td><td>null</td></tr><tr><td>postgres</td><td>information_schema</td><td>sql_implementation_info</td><td>BASE TABLE</td><td>null</td><td>null</td><td>null</td><td>null</td><td>null</td><td>YES</td><td>NO</td><td>null</td></tr><tr><td>postgres</td><td>information_schema</td><td>routine_sequence_usage</td><td>VIEW</td><td>null</td><td>null</td><td>null</td><td>null</td><td>null</td><td>NO</td><td>NO</td><td>null</td></tr><tr><td>postgres</td><td>information_schema</td><td>routine_table_usage</td><td>VIEW</td><td>null</td><td>null</td><td>null</td><td>null</td><td>null</td><td>NO</td><td>NO</td><td>null</td></tr><tr><td>postgres</td><td>information_schema</td><td>routines</td><td>VIEW</td><td>null</td><td>null</td><td>null</td><td>null</td><td>null</td><td>NO</td><td>NO</td><td>null</td></tr><tr><td>postgres</td><td>information_schema</td><td>schemata</td><td>VIEW</td><td>null</td><td>null</td><td>null</td><td>null</td><td>null</td><td>NO</td><td>NO</td><td>null</td></tr><tr><td>postgres</td><td>information_schema</td><td>sql_parts</td><td>BASE TABLE</td><td>null</td><td>null</td><td>null</td><td>null</td><td>null</td><td>YES</td><td>NO</td><td>null</td></tr><tr><td>postgres</td><td>information_schema</td><td>sequences</td><td>VIEW</td><td>null</td><td>null</td><td>null</td><td>null</td><td>null</td><td>NO</td><td>NO</td><td>null</td></tr><tr><td>postgres</td><td>information_schema</td><td>transforms</td><td>VIEW</td><td>null</td><td>null</td><td>null</td><td>null</td><td>null</td><td>NO</td><td>NO</td><td>null</td></tr><tr><td>postgres</td><td>information_schema</td><td>sql_sizing</td><td>BASE TABLE</td><td>null</td><td>null</td><td>null</td><td>null</td><td>null</td><td>YES</td><td>NO</td><td>null</td></tr><tr><td>postgres</td><td>information_schema</td><td>role_table_grants</td><td>VIEW</td><td>null</td><td>null</td><td>null</td><td>null</td><td>null</td><td>NO</td><td>NO</td><td>null</td></tr><tr><td>postgres</td><td>information_schema</td><td>table_constraints</td><td>VIEW</td><td>null</td><td>null</td><td>null</td><td>null</td><td>null</td><td>NO</td><td>NO</td><td>null</td></tr><tr><td>postgres</td><td>information_schema</td><td>triggers</td><td>VIEW</td><td>null</td><td>null</td><td>null</td><td>null</td><td>null</td><td>NO</td><td>NO</td><td>null</td></tr><tr><td>postgres</td><td>information_schema</td><td>tables</td><td>VIEW</td><td>null</td><td>null</td><td>null</td><td>null</td><td>null</td><td>NO</td><td>NO</td><td>null</td></tr><tr><td>postgres</td><td>information_schema</td><td>triggered_update_columns</td><td>VIEW</td><td>null</td><td>null</td><td>null</td><td>null</td><td>null</td><td>NO</td><td>NO</td><td>null</td></tr><tr><td>postgres</td><td>information_schema</td><td>udt_privileges</td><td>VIEW</td><td>null</td><td>null</td><td>null</td><td>null</td><td>null</td><td>NO</td><td>NO</td><td>null</td></tr><tr><td>postgres</td><td>information_schema</td><td>role_udt_grants</td><td>VIEW</td><td>null</td><td>null</td><td>null</td><td>null</td><td>null</td><td>NO</td><td>NO</td><td>null</td></tr><tr><td>postgres</td><td>information_schema</td><td>usage_privileges</td><td>VIEW</td><td>null</td><td>null</td><td>null</td><td>null</td><td>null</td><td>NO</td><td>NO</td><td>null</td></tr><tr><td>postgres</td><td>information_schema</td><td>role_usage_grants</td><td>VIEW</td><td>null</td><td>null</td><td>null</td><td>null</td><td>null</td><td>NO</td><td>NO</td><td>null</td></tr><tr><td>postgres</td><td>information_schema</td><td>user_defined_types</td><td>VIEW</td><td>null</td><td>null</td><td>null</td><td>null</td><td>null</td><td>NO</td><td>NO</td><td>null</td></tr><tr><td>postgres</td><td>information_schema</td><td>view_column_usage</td><td>VIEW</td><td>null</td><td>null</td><td>null</td><td>null</td><td>null</td><td>NO</td><td>NO</td><td>null</td></tr><tr><td>postgres</td><td>information_schema</td><td>foreign_servers</td><td>VIEW</td><td>null</td><td>null</td><td>null</td><td>null</td><td>null</td><td>NO</td><td>NO</td><td>null</td></tr><tr><td>postgres</td><td>information_schema</td><td>view_routine_usage</td><td>VIEW</td><td>null</td><td>null</td><td>null</td><td>null</td><td>null</td><td>NO</td><td>NO</td><td>null</td></tr><tr><td>postgres</td><td>information_schema</td><td>view_table_usage</td><td>VIEW</td><td>null</td><td>null</td><td>null</td><td>null</td><td>null</td><td>NO</td><td>NO</td><td>null</td></tr><tr><td>postgres</td><td>information_schema</td><td>_pg_foreign_tables</td><td>VIEW</td><td>null</td><td>null</td><td>null</td><td>null</td><td>null</td><td>NO</td><td>NO</td><td>null</td></tr><tr><td>postgres</td><td>information_schema</td><td>views</td><td>VIEW</td><td>null</td><td>null</td><td>null</td><td>null</td><td>null</td><td>NO</td><td>NO</td><td>null</td></tr><tr><td>postgres</td><td>information_schema</td><td>data_type_privileges</td><td>VIEW</td><td>null</td><td>null</td><td>null</td><td>null</td><td>null</td><td>NO</td><td>NO</td><td>null</td></tr><tr><td>postgres</td><td>information_schema</td><td>element_types</td><td>VIEW</td><td>null</td><td>null</td><td>null</td><td>null</td><td>null</td><td>NO</td><td>NO</td><td>null</td></tr><tr><td>postgres</td><td>information_schema</td><td>_pg_foreign_table_columns</td><td>VIEW</td><td>null</td><td>null</td><td>null</td><td>null</td><td>null</td><td>NO</td><td>NO</td><td>null</td></tr><tr><td>postgres</td><td>information_schema</td><td>foreign_table_options</td><td>VIEW</td><td>null</td><td>null</td><td>null</td><td>null</td><td>null</td><td>NO</td><td>NO</td><td>null</td></tr><tr><td>postgres</td><td>information_schema</td><td>column_options</td><td>VIEW</td><td>null</td><td>null</td><td>null</td><td>null</td><td>null</td><td>NO</td><td>NO</td><td>null</td></tr><tr><td>postgres</td><td>information_schema</td><td>_pg_foreign_data_wrappers</td><td>VIEW</td><td>null</td><td>null</td><td>null</td><td>null</td><td>null</td><td>NO</td><td>NO</td><td>null</td></tr><tr><td>postgres</td><td>information_schema</td><td>foreign_data_wrapper_options</td><td>VIEW</td><td>null</td><td>null</td><td>null</td><td>null</td><td>null</td><td>NO</td><td>NO</td><td>null</td></tr><tr><td>postgres</td><td>information_schema</td><td>foreign_data_wrappers</td><td>VIEW</td><td>null</td><td>null</td><td>null</td><td>null</td><td>null</td><td>NO</td><td>NO</td><td>null</td></tr><tr><td>postgres</td><td>information_schema</td><td>_pg_foreign_servers</td><td>VIEW</td><td>null</td><td>null</td><td>null</td><td>null</td><td>null</td><td>NO</td><td>NO</td><td>null</td></tr><tr><td>postgres</td><td>information_schema</td><td>foreign_tables</td><td>VIEW</td><td>null</td><td>null</td><td>null</td><td>null</td><td>null</td><td>NO</td><td>NO</td><td>null</td></tr><tr><td>postgres</td><td>information_schema</td><td>foreign_server_options</td><td>VIEW</td><td>null</td><td>null</td><td>null</td><td>null</td><td>null</td><td>NO</td><td>NO</td><td>null</td></tr><tr><td>postgres</td><td>information_schema</td><td>_pg_user_mappings</td><td>VIEW</td><td>null</td><td>null</td><td>null</td><td>null</td><td>null</td><td>NO</td><td>NO</td><td>null</td></tr><tr><td>postgres</td><td>information_schema</td><td>user_mapping_options</td><td>VIEW</td><td>null</td><td>null</td><td>null</td><td>null</td><td>null</td><td>NO</td><td>NO</td><td>null</td></tr><tr><td>postgres</td><td>information_schema</td><td>user_mappings</td><td>VIEW</td><td>null</td><td>null</td><td>null</td><td>null</td><td>null</td><td>NO</td><td>NO</td><td>null</td></tr></tbody></table></div>"
      ]
     },
     "metadata": {
      "application/vnd.databricks.v1+output": {
       "addedWidgets": {},
       "aggData": [],
       "aggError": "",
       "aggOverflow": false,
       "aggSchema": [],
       "aggSeriesLimitReached": false,
       "aggType": "",
       "arguments": {},
       "columnCustomDisplayInfos": {},
       "data": [
        [
         "postgres",
         "pg_catalog",
         "pg_stats_ext",
         "VIEW",
         null,
         null,
         null,
         null,
         null,
         "NO",
         "NO",
         null
        ],
        [
         "postgres",
         "pg_catalog",
         "pg_stats_ext_exprs",
         "VIEW",
         null,
         null,
         null,
         null,
         null,
         "NO",
         "NO",
         null
        ],
        [
         "postgres",
         "pg_catalog",
         "pg_statistic",
         "BASE TABLE",
         null,
         null,
         null,
         null,
         null,
         "YES",
         "NO",
         null
        ],
        [
         "postgres",
         "pg_catalog",
         "pg_type",
         "BASE TABLE",
         null,
         null,
         null,
         null,
         null,
         "YES",
         "NO",
         null
        ],
        [
         "postgres",
         "public",
         "trayecto",
         "BASE TABLE",
         null,
         null,
         null,
         null,
         null,
         "YES",
         "NO",
         null
        ],
        [
         "postgres",
         "pg_catalog",
         "pg_foreign_table",
         "BASE TABLE",
         null,
         null,
         null,
         null,
         null,
         "YES",
         "NO",
         null
        ],
        [
         "postgres",
         "pg_catalog",
         "pg_authid",
         "BASE TABLE",
         null,
         null,
         null,
         null,
         null,
         "YES",
         "NO",
         null
        ],
        [
         "postgres",
         "pg_catalog",
         "pg_shadow",
         "VIEW",
         null,
         null,
         null,
         null,
         null,
         "NO",
         "NO",
         null
        ],
        [
         "postgres",
         "public",
         "estacion",
         "BASE TABLE",
         null,
         null,
         null,
         null,
         null,
         "YES",
         "NO",
         null
        ],
        [
         "postgres",
         "pg_catalog",
         "pg_roles",
         "VIEW",
         null,
         null,
         null,
         null,
         null,
         "NO",
         "NO",
         null
        ],
        [
         "postgres",
         "public",
         "pasajero",
         "BASE TABLE",
         null,
         null,
         null,
         null,
         null,
         "YES",
         "NO",
         null
        ],
        [
         "postgres",
         "pg_catalog",
         "pg_statistic_ext_data",
         "BASE TABLE",
         null,
         null,
         null,
         null,
         null,
         "YES",
         "NO",
         null
        ],
        [
         "postgres",
         "pg_catalog",
         "pg_hba_file_rules",
         "VIEW",
         null,
         null,
         null,
         null,
         null,
         "NO",
         "NO",
         null
        ],
        [
         "postgres",
         "pg_catalog",
         "pg_settings",
         "VIEW",
         null,
         null,
         null,
         null,
         null,
         "NO",
         "NO",
         null
        ],
        [
         "postgres",
         "pg_catalog",
         "pg_file_settings",
         "VIEW",
         null,
         null,
         null,
         null,
         null,
         "NO",
         "NO",
         null
        ],
        [
         "postgres",
         "pg_catalog",
         "pg_backend_memory_contexts",
         "VIEW",
         null,
         null,
         null,
         null,
         null,
         "NO",
         "NO",
         null
        ],
        [
         "postgres",
         "pg_catalog",
         "pg_ident_file_mappings",
         "VIEW",
         null,
         null,
         null,
         null,
         null,
         "NO",
         "NO",
         null
        ],
        [
         "postgres",
         "pg_catalog",
         "pg_config",
         "VIEW",
         null,
         null,
         null,
         null,
         null,
         "NO",
         "NO",
         null
        ],
        [
         "postgres",
         "pg_catalog",
         "pg_shmem_allocations",
         "VIEW",
         null,
         null,
         null,
         null,
         null,
         "NO",
         "NO",
         null
        ],
        [
         "postgres",
         "pg_catalog",
         "pg_tables",
         "VIEW",
         null,
         null,
         null,
         null,
         null,
         "NO",
         "NO",
         null
        ],
        [
         "postgres",
         "public",
         "tren",
         "BASE TABLE",
         null,
         null,
         null,
         null,
         null,
         "YES",
         "NO",
         null
        ],
        [
         "postgres",
         "pg_catalog",
         "pg_user_mapping",
         "BASE TABLE",
         null,
         null,
         null,
         null,
         null,
         "YES",
         "NO",
         null
        ],
        [
         "postgres",
         "pg_catalog",
         "pg_replication_origin_status",
         "VIEW",
         null,
         null,
         null,
         null,
         null,
         "NO",
         "NO",
         null
        ],
        [
         "postgres",
         "pg_catalog",
         "pg_subscription",
         "BASE TABLE",
         null,
         null,
         null,
         null,
         null,
         "YES",
         "NO",
         null
        ],
        [
         "postgres",
         "pg_catalog",
         "pg_attribute",
         "BASE TABLE",
         null,
         null,
         null,
         null,
         null,
         "YES",
         "NO",
         null
        ],
        [
         "postgres",
         "pg_catalog",
         "pg_proc",
         "BASE TABLE",
         null,
         null,
         null,
         null,
         null,
         "YES",
         "NO",
         null
        ],
        [
         "postgres",
         "pg_catalog",
         "pg_class",
         "BASE TABLE",
         null,
         null,
         null,
         null,
         null,
         "YES",
         "NO",
         null
        ],
        [
         "postgres",
         "pg_catalog",
         "pg_attrdef",
         "BASE TABLE",
         null,
         null,
         null,
         null,
         null,
         "YES",
         "NO",
         null
        ],
        [
         "postgres",
         "pg_catalog",
         "pg_constraint",
         "BASE TABLE",
         null,
         null,
         null,
         null,
         null,
         "YES",
         "NO",
         null
        ],
        [
         "postgres",
         "pg_catalog",
         "pg_inherits",
         "BASE TABLE",
         null,
         null,
         null,
         null,
         null,
         "YES",
         "NO",
         null
        ],
        [
         "postgres",
         "pg_catalog",
         "pg_index",
         "BASE TABLE",
         null,
         null,
         null,
         null,
         null,
         "YES",
         "NO",
         null
        ],
        [
         "postgres",
         "pg_catalog",
         "pg_operator",
         "BASE TABLE",
         null,
         null,
         null,
         null,
         null,
         "YES",
         "NO",
         null
        ],
        [
         "postgres",
         "pg_catalog",
         "pg_statio_all_sequences",
         "VIEW",
         null,
         null,
         null,
         null,
         null,
         "NO",
         "NO",
         null
        ],
        [
         "postgres",
         "pg_catalog",
         "pg_opfamily",
         "BASE TABLE",
         null,
         null,
         null,
         null,
         null,
         "YES",
         "NO",
         null
        ],
        [
         "postgres",
         "pg_catalog",
         "pg_opclass",
         "BASE TABLE",
         null,
         null,
         null,
         null,
         null,
         "YES",
         "NO",
         null
        ],
        [
         "postgres",
         "pg_catalog",
         "pg_am",
         "BASE TABLE",
         null,
         null,
         null,
         null,
         null,
         "YES",
         "NO",
         null
        ],
        [
         "postgres",
         "pg_catalog",
         "pg_amop",
         "BASE TABLE",
         null,
         null,
         null,
         null,
         null,
         "YES",
         "NO",
         null
        ],
        [
         "postgres",
         "pg_catalog",
         "pg_amproc",
         "BASE TABLE",
         null,
         null,
         null,
         null,
         null,
         "YES",
         "NO",
         null
        ],
        [
         "postgres",
         "pg_catalog",
         "pg_language",
         "BASE TABLE",
         null,
         null,
         null,
         null,
         null,
         "YES",
         "NO",
         null
        ],
        [
         "postgres",
         "pg_catalog",
         "pg_largeobject_metadata",
         "BASE TABLE",
         null,
         null,
         null,
         null,
         null,
         "YES",
         "NO",
         null
        ],
        [
         "postgres",
         "pg_catalog",
         "pg_aggregate",
         "BASE TABLE",
         null,
         null,
         null,
         null,
         null,
         "YES",
         "NO",
         null
        ],
        [
         "postgres",
         "pg_catalog",
         "pg_statistic_ext",
         "BASE TABLE",
         null,
         null,
         null,
         null,
         null,
         "YES",
         "NO",
         null
        ],
        [
         "postgres",
         "pg_catalog",
         "pg_rewrite",
         "BASE TABLE",
         null,
         null,
         null,
         null,
         null,
         "YES",
         "NO",
         null
        ],
        [
         "postgres",
         "pg_catalog",
         "pg_trigger",
         "BASE TABLE",
         null,
         null,
         null,
         null,
         null,
         "YES",
         "NO",
         null
        ],
        [
         "postgres",
         "pg_catalog",
         "pg_event_trigger",
         "BASE TABLE",
         null,
         null,
         null,
         null,
         null,
         "YES",
         "NO",
         null
        ],
        [
         "postgres",
         "pg_catalog",
         "pg_description",
         "BASE TABLE",
         null,
         null,
         null,
         null,
         null,
         "YES",
         "NO",
         null
        ],
        [
         "postgres",
         "pg_catalog",
         "pg_cast",
         "BASE TABLE",
         null,
         null,
         null,
         null,
         null,
         "YES",
         "NO",
         null
        ],
        [
         "postgres",
         "pg_catalog",
         "pg_enum",
         "BASE TABLE",
         null,
         null,
         null,
         null,
         null,
         "YES",
         "NO",
         null
        ],
        [
         "postgres",
         "pg_catalog",
         "pg_namespace",
         "BASE TABLE",
         null,
         null,
         null,
         null,
         null,
         "YES",
         "NO",
         null
        ],
        [
         "postgres",
         "pg_catalog",
         "pg_conversion",
         "BASE TABLE",
         null,
         null,
         null,
         null,
         null,
         "YES",
         "NO",
         null
        ],
        [
         "postgres",
         "pg_catalog",
         "pg_depend",
         "BASE TABLE",
         null,
         null,
         null,
         null,
         null,
         "YES",
         "NO",
         null
        ],
        [
         "postgres",
         "pg_catalog",
         "pg_database",
         "BASE TABLE",
         null,
         null,
         null,
         null,
         null,
         "YES",
         "NO",
         null
        ],
        [
         "postgres",
         "pg_catalog",
         "pg_db_role_setting",
         "BASE TABLE",
         null,
         null,
         null,
         null,
         null,
         "YES",
         "NO",
         null
        ],
        [
         "postgres",
         "pg_catalog",
         "pg_tablespace",
         "BASE TABLE",
         null,
         null,
         null,
         null,
         null,
         "YES",
         "NO",
         null
        ],
        [
         "postgres",
         "pg_catalog",
         "pg_auth_members",
         "BASE TABLE",
         null,
         null,
         null,
         null,
         null,
         "YES",
         "NO",
         null
        ],
        [
         "postgres",
         "pg_catalog",
         "pg_shdepend",
         "BASE TABLE",
         null,
         null,
         null,
         null,
         null,
         "YES",
         "NO",
         null
        ],
        [
         "postgres",
         "pg_catalog",
         "pg_shdescription",
         "BASE TABLE",
         null,
         null,
         null,
         null,
         null,
         "YES",
         "NO",
         null
        ],
        [
         "postgres",
         "pg_catalog",
         "pg_ts_config",
         "BASE TABLE",
         null,
         null,
         null,
         null,
         null,
         "YES",
         "NO",
         null
        ],
        [
         "postgres",
         "pg_catalog",
         "pg_ts_config_map",
         "BASE TABLE",
         null,
         null,
         null,
         null,
         null,
         "YES",
         "NO",
         null
        ],
        [
         "postgres",
         "pg_catalog",
         "pg_ts_dict",
         "BASE TABLE",
         null,
         null,
         null,
         null,
         null,
         "YES",
         "NO",
         null
        ],
        [
         "postgres",
         "pg_catalog",
         "pg_ts_parser",
         "BASE TABLE",
         null,
         null,
         null,
         null,
         null,
         "YES",
         "NO",
         null
        ],
        [
         "postgres",
         "pg_catalog",
         "pg_ts_template",
         "BASE TABLE",
         null,
         null,
         null,
         null,
         null,
         "YES",
         "NO",
         null
        ],
        [
         "postgres",
         "pg_catalog",
         "pg_extension",
         "BASE TABLE",
         null,
         null,
         null,
         null,
         null,
         "YES",
         "NO",
         null
        ],
        [
         "postgres",
         "pg_catalog",
         "pg_foreign_data_wrapper",
         "BASE TABLE",
         null,
         null,
         null,
         null,
         null,
         "YES",
         "NO",
         null
        ],
        [
         "postgres",
         "pg_catalog",
         "pg_foreign_server",
         "BASE TABLE",
         null,
         null,
         null,
         null,
         null,
         "YES",
         "NO",
         null
        ],
        [
         "postgres",
         "pg_catalog",
         "pg_policy",
         "BASE TABLE",
         null,
         null,
         null,
         null,
         null,
         "YES",
         "NO",
         null
        ],
        [
         "postgres",
         "pg_catalog",
         "pg_replication_origin",
         "BASE TABLE",
         null,
         null,
         null,
         null,
         null,
         "YES",
         "NO",
         null
        ],
        [
         "postgres",
         "pg_catalog",
         "pg_default_acl",
         "BASE TABLE",
         null,
         null,
         null,
         null,
         null,
         "YES",
         "NO",
         null
        ],
        [
         "postgres",
         "pg_catalog",
         "pg_init_privs",
         "BASE TABLE",
         null,
         null,
         null,
         null,
         null,
         "YES",
         "NO",
         null
        ],
        [
         "postgres",
         "pg_catalog",
         "pg_seclabel",
         "BASE TABLE",
         null,
         null,
         null,
         null,
         null,
         "YES",
         "NO",
         null
        ],
        [
         "postgres",
         "pg_catalog",
         "pg_shseclabel",
         "BASE TABLE",
         null,
         null,
         null,
         null,
         null,
         "YES",
         "NO",
         null
        ],
        [
         "postgres",
         "pg_catalog",
         "pg_collation",
         "BASE TABLE",
         null,
         null,
         null,
         null,
         null,
         "YES",
         "NO",
         null
        ],
        [
         "postgres",
         "pg_catalog",
         "pg_parameter_acl",
         "BASE TABLE",
         null,
         null,
         null,
         null,
         null,
         "YES",
         "NO",
         null
        ],
        [
         "postgres",
         "pg_catalog",
         "pg_partitioned_table",
         "BASE TABLE",
         null,
         null,
         null,
         null,
         null,
         "YES",
         "NO",
         null
        ],
        [
         "postgres",
         "pg_catalog",
         "pg_range",
         "BASE TABLE",
         null,
         null,
         null,
         null,
         null,
         "YES",
         "NO",
         null
        ],
        [
         "postgres",
         "pg_catalog",
         "pg_transform",
         "BASE TABLE",
         null,
         null,
         null,
         null,
         null,
         "YES",
         "NO",
         null
        ],
        [
         "postgres",
         "pg_catalog",
         "pg_sequence",
         "BASE TABLE",
         null,
         null,
         null,
         null,
         null,
         "YES",
         "NO",
         null
        ],
        [
         "postgres",
         "pg_catalog",
         "pg_publication",
         "BASE TABLE",
         null,
         null,
         null,
         null,
         null,
         "YES",
         "NO",
         null
        ],
        [
         "postgres",
         "pg_catalog",
         "pg_publication_namespace",
         "BASE TABLE",
         null,
         null,
         null,
         null,
         null,
         "YES",
         "NO",
         null
        ],
        [
         "postgres",
         "pg_catalog",
         "pg_publication_rel",
         "BASE TABLE",
         null,
         null,
         null,
         null,
         null,
         "YES",
         "NO",
         null
        ],
        [
         "postgres",
         "pg_catalog",
         "pg_subscription_rel",
         "BASE TABLE",
         null,
         null,
         null,
         null,
         null,
         "YES",
         "NO",
         null
        ],
        [
         "postgres",
         "pg_catalog",
         "pg_group",
         "VIEW",
         null,
         null,
         null,
         null,
         null,
         "YES",
         "NO",
         null
        ],
        [
         "postgres",
         "pg_catalog",
         "pg_user",
         "VIEW",
         null,
         null,
         null,
         null,
         null,
         "NO",
         "NO",
         null
        ],
        [
         "postgres",
         "pg_catalog",
         "pg_policies",
         "VIEW",
         null,
         null,
         null,
         null,
         null,
         "NO",
         "NO",
         null
        ],
        [
         "postgres",
         "pg_catalog",
         "pg_rules",
         "VIEW",
         null,
         null,
         null,
         null,
         null,
         "NO",
         "NO",
         null
        ],
        [
         "postgres",
         "pg_catalog",
         "pg_views",
         "VIEW",
         null,
         null,
         null,
         null,
         null,
         "NO",
         "NO",
         null
        ],
        [
         "postgres",
         "pg_catalog",
         "pg_matviews",
         "VIEW",
         null,
         null,
         null,
         null,
         null,
         "NO",
         "NO",
         null
        ],
        [
         "postgres",
         "pg_catalog",
         "pg_indexes",
         "VIEW",
         null,
         null,
         null,
         null,
         null,
         "NO",
         "NO",
         null
        ],
        [
         "postgres",
         "pg_catalog",
         "pg_sequences",
         "VIEW",
         null,
         null,
         null,
         null,
         null,
         "NO",
         "NO",
         null
        ],
        [
         "postgres",
         "pg_catalog",
         "pg_stats",
         "VIEW",
         null,
         null,
         null,
         null,
         null,
         "NO",
         "NO",
         null
        ],
        [
         "postgres",
         "pg_catalog",
         "pg_publication_tables",
         "VIEW",
         null,
         null,
         null,
         null,
         null,
         "NO",
         "NO",
         null
        ],
        [
         "postgres",
         "pg_catalog",
         "pg_locks",
         "VIEW",
         null,
         null,
         null,
         null,
         null,
         "NO",
         "NO",
         null
        ],
        [
         "postgres",
         "pg_catalog",
         "pg_cursors",
         "VIEW",
         null,
         null,
         null,
         null,
         null,
         "NO",
         "NO",
         null
        ],
        [
         "postgres",
         "pg_catalog",
         "pg_available_extensions",
         "VIEW",
         null,
         null,
         null,
         null,
         null,
         "NO",
         "NO",
         null
        ],
        [
         "postgres",
         "pg_catalog",
         "pg_available_extension_versions",
         "VIEW",
         null,
         null,
         null,
         null,
         null,
         "NO",
         "NO",
         null
        ],
        [
         "postgres",
         "pg_catalog",
         "pg_prepared_xacts",
         "VIEW",
         null,
         null,
         null,
         null,
         null,
         "NO",
         "NO",
         null
        ],
        [
         "postgres",
         "pg_catalog",
         "pg_prepared_statements",
         "VIEW",
         null,
         null,
         null,
         null,
         null,
         "NO",
         "NO",
         null
        ],
        [
         "postgres",
         "pg_catalog",
         "pg_seclabels",
         "VIEW",
         null,
         null,
         null,
         null,
         null,
         "NO",
         "NO",
         null
        ],
        [
         "postgres",
         "pg_catalog",
         "pg_timezone_abbrevs",
         "VIEW",
         null,
         null,
         null,
         null,
         null,
         "NO",
         "NO",
         null
        ],
        [
         "postgres",
         "pg_catalog",
         "pg_timezone_names",
         "VIEW",
         null,
         null,
         null,
         null,
         null,
         "NO",
         "NO",
         null
        ],
        [
         "postgres",
         "pg_catalog",
         "pg_stat_all_tables",
         "VIEW",
         null,
         null,
         null,
         null,
         null,
         "NO",
         "NO",
         null
        ],
        [
         "postgres",
         "pg_catalog",
         "pg_stat_xact_all_tables",
         "VIEW",
         null,
         null,
         null,
         null,
         null,
         "NO",
         "NO",
         null
        ],
        [
         "postgres",
         "pg_catalog",
         "pg_stat_xact_user_tables",
         "VIEW",
         null,
         null,
         null,
         null,
         null,
         "NO",
         "NO",
         null
        ],
        [
         "postgres",
         "pg_catalog",
         "pg_stat_sys_tables",
         "VIEW",
         null,
         null,
         null,
         null,
         null,
         "NO",
         "NO",
         null
        ],
        [
         "postgres",
         "pg_catalog",
         "pg_stat_xact_sys_tables",
         "VIEW",
         null,
         null,
         null,
         null,
         null,
         "NO",
         "NO",
         null
        ],
        [
         "postgres",
         "pg_catalog",
         "pg_stat_user_tables",
         "VIEW",
         null,
         null,
         null,
         null,
         null,
         "NO",
         "NO",
         null
        ],
        [
         "postgres",
         "pg_catalog",
         "pg_statio_all_tables",
         "VIEW",
         null,
         null,
         null,
         null,
         null,
         "NO",
         "NO",
         null
        ],
        [
         "postgres",
         "pg_catalog",
         "pg_statio_sys_tables",
         "VIEW",
         null,
         null,
         null,
         null,
         null,
         "NO",
         "NO",
         null
        ],
        [
         "postgres",
         "pg_catalog",
         "pg_statio_user_tables",
         "VIEW",
         null,
         null,
         null,
         null,
         null,
         "NO",
         "NO",
         null
        ],
        [
         "postgres",
         "pg_catalog",
         "pg_stat_all_indexes",
         "VIEW",
         null,
         null,
         null,
         null,
         null,
         "NO",
         "NO",
         null
        ],
        [
         "postgres",
         "pg_catalog",
         "pg_stat_sys_indexes",
         "VIEW",
         null,
         null,
         null,
         null,
         null,
         "NO",
         "NO",
         null
        ],
        [
         "postgres",
         "pg_catalog",
         "pg_stat_user_indexes",
         "VIEW",
         null,
         null,
         null,
         null,
         null,
         "NO",
         "NO",
         null
        ],
        [
         "postgres",
         "pg_catalog",
         "pg_statio_all_indexes",
         "VIEW",
         null,
         null,
         null,
         null,
         null,
         "NO",
         "NO",
         null
        ],
        [
         "postgres",
         "pg_catalog",
         "pg_statio_sys_indexes",
         "VIEW",
         null,
         null,
         null,
         null,
         null,
         "NO",
         "NO",
         null
        ],
        [
         "postgres",
         "pg_catalog",
         "pg_statio_user_indexes",
         "VIEW",
         null,
         null,
         null,
         null,
         null,
         "NO",
         "NO",
         null
        ],
        [
         "postgres",
         "pg_catalog",
         "pg_statio_sys_sequences",
         "VIEW",
         null,
         null,
         null,
         null,
         null,
         "NO",
         "NO",
         null
        ],
        [
         "postgres",
         "pg_catalog",
         "pg_statio_user_sequences",
         "VIEW",
         null,
         null,
         null,
         null,
         null,
         "NO",
         "NO",
         null
        ],
        [
         "postgres",
         "pg_catalog",
         "pg_stat_activity",
         "VIEW",
         null,
         null,
         null,
         null,
         null,
         "NO",
         "NO",
         null
        ],
        [
         "postgres",
         "pg_catalog",
         "pg_stat_replication",
         "VIEW",
         null,
         null,
         null,
         null,
         null,
         "NO",
         "NO",
         null
        ],
        [
         "postgres",
         "pg_catalog",
         "pg_stat_slru",
         "VIEW",
         null,
         null,
         null,
         null,
         null,
         "NO",
         "NO",
         null
        ],
        [
         "postgres",
         "pg_catalog",
         "pg_stat_wal_receiver",
         "VIEW",
         null,
         null,
         null,
         null,
         null,
         "NO",
         "NO",
         null
        ],
        [
         "postgres",
         "pg_catalog",
         "pg_stat_recovery_prefetch",
         "VIEW",
         null,
         null,
         null,
         null,
         null,
         "NO",
         "NO",
         null
        ],
        [
         "postgres",
         "pg_catalog",
         "pg_stat_subscription",
         "VIEW",
         null,
         null,
         null,
         null,
         null,
         "NO",
         "NO",
         null
        ],
        [
         "postgres",
         "pg_catalog",
         "pg_stat_ssl",
         "VIEW",
         null,
         null,
         null,
         null,
         null,
         "NO",
         "NO",
         null
        ],
        [
         "postgres",
         "pg_catalog",
         "pg_stat_gssapi",
         "VIEW",
         null,
         null,
         null,
         null,
         null,
         "NO",
         "NO",
         null
        ],
        [
         "postgres",
         "pg_catalog",
         "pg_replication_slots",
         "VIEW",
         null,
         null,
         null,
         null,
         null,
         "NO",
         "NO",
         null
        ],
        [
         "postgres",
         "pg_catalog",
         "pg_stat_replication_slots",
         "VIEW",
         null,
         null,
         null,
         null,
         null,
         "NO",
         "NO",
         null
        ],
        [
         "postgres",
         "pg_catalog",
         "pg_stat_database",
         "VIEW",
         null,
         null,
         null,
         null,
         null,
         "NO",
         "NO",
         null
        ],
        [
         "postgres",
         "pg_catalog",
         "pg_stat_database_conflicts",
         "VIEW",
         null,
         null,
         null,
         null,
         null,
         "YES",
         "NO",
         null
        ],
        [
         "postgres",
         "pg_catalog",
         "pg_stat_user_functions",
         "VIEW",
         null,
         null,
         null,
         null,
         null,
         "NO",
         "NO",
         null
        ],
        [
         "postgres",
         "pg_catalog",
         "pg_stat_xact_user_functions",
         "VIEW",
         null,
         null,
         null,
         null,
         null,
         "NO",
         "NO",
         null
        ],
        [
         "postgres",
         "pg_catalog",
         "pg_stat_archiver",
         "VIEW",
         null,
         null,
         null,
         null,
         null,
         "NO",
         "NO",
         null
        ],
        [
         "postgres",
         "pg_catalog",
         "pg_stat_bgwriter",
         "VIEW",
         null,
         null,
         null,
         null,
         null,
         "NO",
         "NO",
         null
        ],
        [
         "postgres",
         "pg_catalog",
         "pg_stat_io",
         "VIEW",
         null,
         null,
         null,
         null,
         null,
         "NO",
         "NO",
         null
        ],
        [
         "postgres",
         "pg_catalog",
         "pg_stat_wal",
         "VIEW",
         null,
         null,
         null,
         null,
         null,
         "NO",
         "NO",
         null
        ],
        [
         "postgres",
         "pg_catalog",
         "pg_stat_progress_analyze",
         "VIEW",
         null,
         null,
         null,
         null,
         null,
         "NO",
         "NO",
         null
        ],
        [
         "postgres",
         "pg_catalog",
         "pg_stat_progress_vacuum",
         "VIEW",
         null,
         null,
         null,
         null,
         null,
         "NO",
         "NO",
         null
        ],
        [
         "postgres",
         "pg_catalog",
         "pg_stat_progress_cluster",
         "VIEW",
         null,
         null,
         null,
         null,
         null,
         "NO",
         "NO",
         null
        ],
        [
         "postgres",
         "pg_catalog",
         "pg_stat_progress_create_index",
         "VIEW",
         null,
         null,
         null,
         null,
         null,
         "NO",
         "NO",
         null
        ],
        [
         "postgres",
         "pg_catalog",
         "pg_stat_progress_basebackup",
         "VIEW",
         null,
         null,
         null,
         null,
         null,
         "NO",
         "NO",
         null
        ],
        [
         "postgres",
         "pg_catalog",
         "pg_stat_progress_copy",
         "VIEW",
         null,
         null,
         null,
         null,
         null,
         "NO",
         "NO",
         null
        ],
        [
         "postgres",
         "pg_catalog",
         "pg_user_mappings",
         "VIEW",
         null,
         null,
         null,
         null,
         null,
         "NO",
         "NO",
         null
        ],
        [
         "postgres",
         "pg_catalog",
         "pg_stat_subscription_stats",
         "VIEW",
         null,
         null,
         null,
         null,
         null,
         "NO",
         "NO",
         null
        ],
        [
         "postgres",
         "pg_catalog",
         "pg_largeobject",
         "BASE TABLE",
         null,
         null,
         null,
         null,
         null,
         "YES",
         "NO",
         null
        ],
        [
         "postgres",
         "information_schema",
         "collations",
         "VIEW",
         null,
         null,
         null,
         null,
         null,
         "NO",
         "NO",
         null
        ],
        [
         "postgres",
         "information_schema",
         "information_schema_catalog_name",
         "VIEW",
         null,
         null,
         null,
         null,
         null,
         "NO",
         "NO",
         null
        ],
        [
         "postgres",
         "information_schema",
         "applicable_roles",
         "VIEW",
         null,
         null,
         null,
         null,
         null,
         "NO",
         "NO",
         null
        ],
        [
         "postgres",
         "information_schema",
         "domain_constraints",
         "VIEW",
         null,
         null,
         null,
         null,
         null,
         "NO",
         "NO",
         null
        ],
        [
         "postgres",
         "information_schema",
         "administrable_role_authorizations",
         "VIEW",
         null,
         null,
         null,
         null,
         null,
         "NO",
         "NO",
         null
        ],
        [
         "postgres",
         "information_schema",
         "collation_character_set_applicability",
         "VIEW",
         null,
         null,
         null,
         null,
         null,
         "NO",
         "NO",
         null
        ],
        [
         "postgres",
         "information_schema",
         "attributes",
         "VIEW",
         null,
         null,
         null,
         null,
         null,
         "NO",
         "NO",
         null
        ],
        [
         "postgres",
         "information_schema",
         "character_sets",
         "VIEW",
         null,
         null,
         null,
         null,
         null,
         "NO",
         "NO",
         null
        ],
        [
         "postgres",
         "information_schema",
         "column_udt_usage",
         "VIEW",
         null,
         null,
         null,
         null,
         null,
         "NO",
         "NO",
         null
        ],
        [
         "postgres",
         "information_schema",
         "check_constraint_routine_usage",
         "VIEW",
         null,
         null,
         null,
         null,
         null,
         "NO",
         "NO",
         null
        ],
        [
         "postgres",
         "information_schema",
         "column_column_usage",
         "VIEW",
         null,
         null,
         null,
         null,
         null,
         "NO",
         "NO",
         null
        ],
        [
         "postgres",
         "information_schema",
         "check_constraints",
         "VIEW",
         null,
         null,
         null,
         null,
         null,
         "NO",
         "NO",
         null
        ],
        [
         "postgres",
         "information_schema",
         "constraint_table_usage",
         "VIEW",
         null,
         null,
         null,
         null,
         null,
         "NO",
         "NO",
         null
        ],
        [
         "postgres",
         "information_schema",
         "column_domain_usage",
         "VIEW",
         null,
         null,
         null,
         null,
         null,
         "NO",
         "NO",
         null
        ],
        [
         "postgres",
         "information_schema",
         "columns",
         "VIEW",
         null,
         null,
         null,
         null,
         null,
         "NO",
         "NO",
         null
        ],
        [
         "postgres",
         "information_schema",
         "column_privileges",
         "VIEW",
         null,
         null,
         null,
         null,
         null,
         "NO",
         "NO",
         null
        ],
        [
         "postgres",
         "information_schema",
         "constraint_column_usage",
         "VIEW",
         null,
         null,
         null,
         null,
         null,
         "NO",
         "NO",
         null
        ],
        [
         "postgres",
         "information_schema",
         "domain_udt_usage",
         "VIEW",
         null,
         null,
         null,
         null,
         null,
         "NO",
         "NO",
         null
        ],
        [
         "postgres",
         "information_schema",
         "domains",
         "VIEW",
         null,
         null,
         null,
         null,
         null,
         "NO",
         "NO",
         null
        ],
        [
         "postgres",
         "information_schema",
         "enabled_roles",
         "VIEW",
         null,
         null,
         null,
         null,
         null,
         "NO",
         "NO",
         null
        ],
        [
         "postgres",
         "information_schema",
         "key_column_usage",
         "VIEW",
         null,
         null,
         null,
         null,
         null,
         "NO",
         "NO",
         null
        ],
        [
         "postgres",
         "information_schema",
         "parameters",
         "VIEW",
         null,
         null,
         null,
         null,
         null,
         "NO",
         "NO",
         null
        ],
        [
         "postgres",
         "information_schema",
         "table_privileges",
         "VIEW",
         null,
         null,
         null,
         null,
         null,
         "NO",
         "NO",
         null
        ],
        [
         "postgres",
         "information_schema",
         "referential_constraints",
         "VIEW",
         null,
         null,
         null,
         null,
         null,
         "NO",
         "NO",
         null
        ],
        [
         "postgres",
         "information_schema",
         "sql_features",
         "BASE TABLE",
         null,
         null,
         null,
         null,
         null,
         "YES",
         "NO",
         null
        ],
        [
         "postgres",
         "information_schema",
         "role_column_grants",
         "VIEW",
         null,
         null,
         null,
         null,
         null,
         "NO",
         "NO",
         null
        ],
        [
         "postgres",
         "information_schema",
         "routine_column_usage",
         "VIEW",
         null,
         null,
         null,
         null,
         null,
         "NO",
         "NO",
         null
        ],
        [
         "postgres",
         "information_schema",
         "routine_privileges",
         "VIEW",
         null,
         null,
         null,
         null,
         null,
         "NO",
         "NO",
         null
        ],
        [
         "postgres",
         "information_schema",
         "role_routine_grants",
         "VIEW",
         null,
         null,
         null,
         null,
         null,
         "NO",
         "NO",
         null
        ],
        [
         "postgres",
         "information_schema",
         "routine_routine_usage",
         "VIEW",
         null,
         null,
         null,
         null,
         null,
         "NO",
         "NO",
         null
        ],
        [
         "postgres",
         "information_schema",
         "sql_implementation_info",
         "BASE TABLE",
         null,
         null,
         null,
         null,
         null,
         "YES",
         "NO",
         null
        ],
        [
         "postgres",
         "information_schema",
         "routine_sequence_usage",
         "VIEW",
         null,
         null,
         null,
         null,
         null,
         "NO",
         "NO",
         null
        ],
        [
         "postgres",
         "information_schema",
         "routine_table_usage",
         "VIEW",
         null,
         null,
         null,
         null,
         null,
         "NO",
         "NO",
         null
        ],
        [
         "postgres",
         "information_schema",
         "routines",
         "VIEW",
         null,
         null,
         null,
         null,
         null,
         "NO",
         "NO",
         null
        ],
        [
         "postgres",
         "information_schema",
         "schemata",
         "VIEW",
         null,
         null,
         null,
         null,
         null,
         "NO",
         "NO",
         null
        ],
        [
         "postgres",
         "information_schema",
         "sql_parts",
         "BASE TABLE",
         null,
         null,
         null,
         null,
         null,
         "YES",
         "NO",
         null
        ],
        [
         "postgres",
         "information_schema",
         "sequences",
         "VIEW",
         null,
         null,
         null,
         null,
         null,
         "NO",
         "NO",
         null
        ],
        [
         "postgres",
         "information_schema",
         "transforms",
         "VIEW",
         null,
         null,
         null,
         null,
         null,
         "NO",
         "NO",
         null
        ],
        [
         "postgres",
         "information_schema",
         "sql_sizing",
         "BASE TABLE",
         null,
         null,
         null,
         null,
         null,
         "YES",
         "NO",
         null
        ],
        [
         "postgres",
         "information_schema",
         "role_table_grants",
         "VIEW",
         null,
         null,
         null,
         null,
         null,
         "NO",
         "NO",
         null
        ],
        [
         "postgres",
         "information_schema",
         "table_constraints",
         "VIEW",
         null,
         null,
         null,
         null,
         null,
         "NO",
         "NO",
         null
        ],
        [
         "postgres",
         "information_schema",
         "triggers",
         "VIEW",
         null,
         null,
         null,
         null,
         null,
         "NO",
         "NO",
         null
        ],
        [
         "postgres",
         "information_schema",
         "tables",
         "VIEW",
         null,
         null,
         null,
         null,
         null,
         "NO",
         "NO",
         null
        ],
        [
         "postgres",
         "information_schema",
         "triggered_update_columns",
         "VIEW",
         null,
         null,
         null,
         null,
         null,
         "NO",
         "NO",
         null
        ],
        [
         "postgres",
         "information_schema",
         "udt_privileges",
         "VIEW",
         null,
         null,
         null,
         null,
         null,
         "NO",
         "NO",
         null
        ],
        [
         "postgres",
         "information_schema",
         "role_udt_grants",
         "VIEW",
         null,
         null,
         null,
         null,
         null,
         "NO",
         "NO",
         null
        ],
        [
         "postgres",
         "information_schema",
         "usage_privileges",
         "VIEW",
         null,
         null,
         null,
         null,
         null,
         "NO",
         "NO",
         null
        ],
        [
         "postgres",
         "information_schema",
         "role_usage_grants",
         "VIEW",
         null,
         null,
         null,
         null,
         null,
         "NO",
         "NO",
         null
        ],
        [
         "postgres",
         "information_schema",
         "user_defined_types",
         "VIEW",
         null,
         null,
         null,
         null,
         null,
         "NO",
         "NO",
         null
        ],
        [
         "postgres",
         "information_schema",
         "view_column_usage",
         "VIEW",
         null,
         null,
         null,
         null,
         null,
         "NO",
         "NO",
         null
        ],
        [
         "postgres",
         "information_schema",
         "foreign_servers",
         "VIEW",
         null,
         null,
         null,
         null,
         null,
         "NO",
         "NO",
         null
        ],
        [
         "postgres",
         "information_schema",
         "view_routine_usage",
         "VIEW",
         null,
         null,
         null,
         null,
         null,
         "NO",
         "NO",
         null
        ],
        [
         "postgres",
         "information_schema",
         "view_table_usage",
         "VIEW",
         null,
         null,
         null,
         null,
         null,
         "NO",
         "NO",
         null
        ],
        [
         "postgres",
         "information_schema",
         "_pg_foreign_tables",
         "VIEW",
         null,
         null,
         null,
         null,
         null,
         "NO",
         "NO",
         null
        ],
        [
         "postgres",
         "information_schema",
         "views",
         "VIEW",
         null,
         null,
         null,
         null,
         null,
         "NO",
         "NO",
         null
        ],
        [
         "postgres",
         "information_schema",
         "data_type_privileges",
         "VIEW",
         null,
         null,
         null,
         null,
         null,
         "NO",
         "NO",
         null
        ],
        [
         "postgres",
         "information_schema",
         "element_types",
         "VIEW",
         null,
         null,
         null,
         null,
         null,
         "NO",
         "NO",
         null
        ],
        [
         "postgres",
         "information_schema",
         "_pg_foreign_table_columns",
         "VIEW",
         null,
         null,
         null,
         null,
         null,
         "NO",
         "NO",
         null
        ],
        [
         "postgres",
         "information_schema",
         "foreign_table_options",
         "VIEW",
         null,
         null,
         null,
         null,
         null,
         "NO",
         "NO",
         null
        ],
        [
         "postgres",
         "information_schema",
         "column_options",
         "VIEW",
         null,
         null,
         null,
         null,
         null,
         "NO",
         "NO",
         null
        ],
        [
         "postgres",
         "information_schema",
         "_pg_foreign_data_wrappers",
         "VIEW",
         null,
         null,
         null,
         null,
         null,
         "NO",
         "NO",
         null
        ],
        [
         "postgres",
         "information_schema",
         "foreign_data_wrapper_options",
         "VIEW",
         null,
         null,
         null,
         null,
         null,
         "NO",
         "NO",
         null
        ],
        [
         "postgres",
         "information_schema",
         "foreign_data_wrappers",
         "VIEW",
         null,
         null,
         null,
         null,
         null,
         "NO",
         "NO",
         null
        ],
        [
         "postgres",
         "information_schema",
         "_pg_foreign_servers",
         "VIEW",
         null,
         null,
         null,
         null,
         null,
         "NO",
         "NO",
         null
        ],
        [
         "postgres",
         "information_schema",
         "foreign_tables",
         "VIEW",
         null,
         null,
         null,
         null,
         null,
         "NO",
         "NO",
         null
        ],
        [
         "postgres",
         "information_schema",
         "foreign_server_options",
         "VIEW",
         null,
         null,
         null,
         null,
         null,
         "NO",
         "NO",
         null
        ],
        [
         "postgres",
         "information_schema",
         "_pg_user_mappings",
         "VIEW",
         null,
         null,
         null,
         null,
         null,
         "NO",
         "NO",
         null
        ],
        [
         "postgres",
         "information_schema",
         "user_mapping_options",
         "VIEW",
         null,
         null,
         null,
         null,
         null,
         "NO",
         "NO",
         null
        ],
        [
         "postgres",
         "information_schema",
         "user_mappings",
         "VIEW",
         null,
         null,
         null,
         null,
         null,
         "NO",
         "NO",
         null
        ]
       ],
       "datasetInfos": [],
       "dbfsResultPath": null,
       "isJsonSchema": true,
       "metadata": {},
       "overflow": false,
       "plotOptions": {
        "customPlotOptions": {},
        "displayType": "table",
        "pivotAggregation": null,
        "pivotColumns": null,
        "xColumns": null,
        "yColumns": null
       },
       "removedWidgets": [],
       "schema": [
        {
         "metadata": "{\"isTimestampNTZ\":false,\"__CHAR_VARCHAR_TYPE_STRING\":\"varchar(2147483647)\",\"signed\":false,\"scale\":0}",
         "name": "table_catalog",
         "type": "\"string\""
        },
        {
         "metadata": "{\"isTimestampNTZ\":false,\"__CHAR_VARCHAR_TYPE_STRING\":\"varchar(2147483647)\",\"signed\":false,\"scale\":0}",
         "name": "table_schema",
         "type": "\"string\""
        },
        {
         "metadata": "{\"isTimestampNTZ\":false,\"__CHAR_VARCHAR_TYPE_STRING\":\"varchar(2147483647)\",\"signed\":false,\"scale\":0}",
         "name": "table_name",
         "type": "\"string\""
        },
        {
         "metadata": "{\"isTimestampNTZ\":false,\"__CHAR_VARCHAR_TYPE_STRING\":\"varchar(2147483647)\",\"signed\":false,\"scale\":0}",
         "name": "table_type",
         "type": "\"string\""
        },
        {
         "metadata": "{\"isTimestampNTZ\":false,\"__CHAR_VARCHAR_TYPE_STRING\":\"varchar(2147483647)\",\"signed\":false,\"scale\":0}",
         "name": "self_referencing_column_name",
         "type": "\"string\""
        },
        {
         "metadata": "{\"isTimestampNTZ\":false,\"__CHAR_VARCHAR_TYPE_STRING\":\"varchar(2147483647)\",\"signed\":false,\"scale\":0}",
         "name": "reference_generation",
         "type": "\"string\""
        },
        {
         "metadata": "{\"isTimestampNTZ\":false,\"__CHAR_VARCHAR_TYPE_STRING\":\"varchar(2147483647)\",\"signed\":false,\"scale\":0}",
         "name": "user_defined_type_catalog",
         "type": "\"string\""
        },
        {
         "metadata": "{\"isTimestampNTZ\":false,\"__CHAR_VARCHAR_TYPE_STRING\":\"varchar(2147483647)\",\"signed\":false,\"scale\":0}",
         "name": "user_defined_type_schema",
         "type": "\"string\""
        },
        {
         "metadata": "{\"isTimestampNTZ\":false,\"__CHAR_VARCHAR_TYPE_STRING\":\"varchar(2147483647)\",\"signed\":false,\"scale\":0}",
         "name": "user_defined_type_name",
         "type": "\"string\""
        },
        {
         "metadata": "{\"isTimestampNTZ\":false,\"__CHAR_VARCHAR_TYPE_STRING\":\"varchar(3)\",\"signed\":false,\"scale\":0}",
         "name": "is_insertable_into",
         "type": "\"string\""
        },
        {
         "metadata": "{\"isTimestampNTZ\":false,\"__CHAR_VARCHAR_TYPE_STRING\":\"varchar(3)\",\"signed\":false,\"scale\":0}",
         "name": "is_typed",
         "type": "\"string\""
        },
        {
         "metadata": "{\"isTimestampNTZ\":false,\"__CHAR_VARCHAR_TYPE_STRING\":\"varchar(2147483647)\",\"signed\":false,\"scale\":0}",
         "name": "commit_action",
         "type": "\"string\""
        }
       ],
       "type": "table"
      }
     },
     "output_type": "display_data"
    },
    {
     "output_type": "stream",
     "name": "stdout",
     "output_type": "stream",
     "text": [
      "Datos guardados en Azure correctamente\n"
     ]
    }
   ],
   "source": [
    "%python\n",
    "# Verificar la conexión listando tablas del sistema en Azure PostgreSQL\n",
    "try:\n",
    "    df = spark.read.jdbc(\n",
    "        url=jdbc_url,\n",
    "        table=\"information_schema.tables\",\n",
    "        properties=connection_properties\n",
    "    )\n",
    "    display(df)\n",
    "    print(\"Datos guardados en Azure correctamente\")\n",
    "except Exception as e:\n",
    "    print(\"Error al conectar:\", e)"
   ]
  }
 ],
 "metadata": {
  "application/vnd.databricks.v1+notebook": {
   "dashboards": [],
   "environmentMetadata": {
    "base_environment": "",
    "client": "1"
   },
   "language": "python",
   "notebookMetadata": {
    "pythonIndentUnit": 4
   },
   "notebookName": "base datos",
   "widgets": {}
  },
  "language_info": {
   "name": "python"
  }
 },
 "nbformat": 4,
 "nbformat_minor": 0
}